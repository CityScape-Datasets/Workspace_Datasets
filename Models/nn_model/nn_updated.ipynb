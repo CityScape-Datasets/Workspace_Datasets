{
  "nbformat": 4,
  "nbformat_minor": 0,
  "metadata": {
    "language_info": {
      "codemirror_mode": {
        "name": "ipython",
        "version": 3
      },
      "file_extension": ".py",
      "mimetype": "text/x-python",
      "name": "python",
      "nbconvert_exporter": "python",
      "pygments_lexer": "ipython3",
      "version": "3.8.6"
    },
    "orig_nbformat": 2,
    "kernelspec": {
      "name": "python3",
      "display_name": "Python 3",
      "language": "python"
    },
    "colab": {
      "name": "nn.ipynb",
      "provenance": [],
      "collapsed_sections": []
    }
  },
  "cells": [
    {
      "cell_type": "markdown",
      "metadata": {
        "id": "l8Syssvjisg-"
      },
      "source": [
        "### LOAD DIVERSITY CSV\n",
        "most updated csv"
      ]
    },
    {
      "cell_type": "code",
      "metadata": {
        "id": "34aAImFOmiDw"
      },
      "source": [
        "import pandas as pd\n",
        "\n",
        "pd.set_option('display.max_columns', None)"
      ],
      "execution_count": 1,
      "outputs": []
    },
    {
      "cell_type": "code",
      "execution_count": 2,
      "metadata": {},
      "outputs": [],
      "source": [
        "merged = pd.read_csv('diversity.csv')"
      ]
    },
    {
      "cell_type": "code",
      "metadata": {
        "id": "8kYRziq8imZb"
      },
      "source": [
        "merged.head()"
      ],
      "execution_count": 3,
      "outputs": [
        {
          "output_type": "execute_result",
          "data": {
            "text/plain": [
              "   Unnamed: 0  Index         City State      lat       lng  TotalPop     Men  \\\n",
              "0           0      0        Akron    OH  41.0798  -81.5219    267782  129623   \n",
              "1           1      1       Albany    GA  31.5776  -84.1762     93421   43571   \n",
              "2           2      2       Albany    NY  42.6664  -73.7987    147794   70664   \n",
              "3           3      3       Albany    OR  44.6274 -123.0966     61555   30378   \n",
              "4           4      4  Albuquerque    NM  35.1053 -106.6464    632240  309415   \n",
              "\n",
              "    Women  Hispanic  White  Black  Native  Asian  Pacific   Income  IncomeErr  \\\n",
              "0  138086       1.9   67.4   23.2     0.2    3.6      0.0  3068406     504125   \n",
              "1   49835       2.8   29.2   65.2     0.1    0.9      0.0  1025141     199233   \n",
              "2   77096       7.8   60.3   20.1     0.1    7.6      0.0  1917135     331452   \n",
              "3   31168      11.4   82.7    0.6     0.7    1.9      0.1   542299      75753   \n",
              "4  322758      50.4   38.5    2.5     4.0    2.4      0.1  7693803    1270581   \n",
              "\n",
              "   IncomePerCap  IncomePerCapErr  Poverty  ChildPoverty  Employed  \\\n",
              "0       1732548           258991     19.6          26.2    126247   \n",
              "1        547674            89500     29.6          41.9     35704   \n",
              "2       1102265           158632     17.4          17.8     74293   \n",
              "3        268177            35254     14.3          18.6     27721   \n",
              "4       4099669           581026     18.2          24.8    292907   \n",
              "\n",
              "   Unemployment  PrivateWork  PublicWork  SelfEmployed  FamilyWork  \\\n",
              "0           8.5         85.4        10.3           4.1         0.1   \n",
              "1          16.2         71.9        23.7           4.1         0.1   \n",
              "2           6.6         71.6        24.3           3.9         0.0   \n",
              "3           8.2         78.5        15.9           5.4         0.1   \n",
              "4           6.8         74.5        19.6           5.6         0.2   \n",
              "\n",
              "   Professional  Service  Office  Construction  Production  Drive  Carpool  \\\n",
              "0          32.3     19.8    25.3           6.6        15.6   83.3      8.5   \n",
              "1          30.7     21.4    23.1           8.1        16.3   78.1     12.4   \n",
              "2          42.9     20.5    25.2           4.6         6.6   70.4      7.2   \n",
              "3          33.3     18.4    22.7           9.9        15.5   79.0     10.7   \n",
              "4          39.8     20.0    24.0           8.3         7.7   80.2      9.1   \n",
              "\n",
              "   Transit  Walk  OtherTransp  WorkAtHome  MeanCommute  Rent  Year  \\\n",
              "0      3.1   1.6          0.6         2.7         21.9   911  2020   \n",
              "1      1.8   2.3          0.7         4.3         19.1   814  2020   \n",
              "2     10.1   7.3          1.7         2.9         18.9  1205  2020   \n",
              "3      0.3   2.6          2.0         5.1         20.8  1197  2020   \n",
              "4      1.8   1.8          2.5         4.3         21.7  1013  2020   \n",
              "\n",
              "   Population  Violent crime  Murder and nonnegligent manslaughter  Rape  \\\n",
              "0      197882           1782                                    27   181   \n",
              "1       74989            790                                    12    32   \n",
              "2       97221            736                                     4    60   \n",
              "3       54993             70                                     1    10   \n",
              "4      561920           7596                                    84   486   \n",
              "\n",
              "   Robbery  Aggravated assault  Property crime  Burglary  Larceny- theft  \\\n",
              "0      328                1246            6568      1686            4305   \n",
              "1      165                 581            3452       729            2489   \n",
              "2      189                 483            2919       445            2315   \n",
              "3       16                  43            1467       128            1242   \n",
              "4     1699                5327           26059         0           20634   \n",
              "\n",
              "   Motor vehicle theft  Arson  Crime Rate (per 1000 residents) Crime Rating  \\\n",
              "0                  577     65                            42.20         High   \n",
              "1                  234     17                            56.57         High   \n",
              "2                  159     16                            37.59       Medium   \n",
              "3                   97     17                            27.95       Medium   \n",
              "4                 5425     98                            59.89         High   \n",
              "\n",
              "   Days with AQI  Good Days  Moderate Days  \\\n",
              "0            274        203             68   \n",
              "1            244        182             60   \n",
              "2            274        240             34   \n",
              "3            182        161             21   \n",
              "4            183        101             82   \n",
              "\n",
              "   Unhealthy for Sensitive Groups Days  Unhealthy Days  Very Unhealthy Days  \\\n",
              "0                                    3               0                    0   \n",
              "1                                    2               0                    0   \n",
              "2                                    0               0                    0   \n",
              "3                                    0               0                    0   \n",
              "4                                    0               0                    0   \n",
              "\n",
              "   Hazardous Days  Max AQI  90th Percentile AQI  Median AQI  Days CO  \\\n",
              "0               0      107                   63          43        0   \n",
              "1               0      114                   63          37        0   \n",
              "2               0       75                   53          39        1   \n",
              "3               0       70                   51          19        0   \n",
              "4               0      100                   65          50        1   \n",
              "\n",
              "   Days NO2  Days Ozone  Days SO2  Days PM2.5  Days PM10 Air Quality Index  \\\n",
              "0         0         132         0         142          0              Good   \n",
              "1         0           0         0         244          0              Good   \n",
              "2         0         169         0         104          0              Good   \n",
              "3         0           0         0         182          0              Good   \n",
              "4         0         127         0          25         30              Good   \n",
              "\n",
              "   Diversity Index  \n",
              "0         0.490241  \n",
              "1         0.488771  \n",
              "2         0.584133  \n",
              "3         0.302632  \n",
              "4         0.594958  "
            ],
            "text/html": "<div>\n<style scoped>\n    .dataframe tbody tr th:only-of-type {\n        vertical-align: middle;\n    }\n\n    .dataframe tbody tr th {\n        vertical-align: top;\n    }\n\n    .dataframe thead th {\n        text-align: right;\n    }\n</style>\n<table border=\"1\" class=\"dataframe\">\n  <thead>\n    <tr style=\"text-align: right;\">\n      <th></th>\n      <th>Unnamed: 0</th>\n      <th>Index</th>\n      <th>City</th>\n      <th>State</th>\n      <th>lat</th>\n      <th>lng</th>\n      <th>TotalPop</th>\n      <th>Men</th>\n      <th>Women</th>\n      <th>Hispanic</th>\n      <th>White</th>\n      <th>Black</th>\n      <th>Native</th>\n      <th>Asian</th>\n      <th>Pacific</th>\n      <th>Income</th>\n      <th>IncomeErr</th>\n      <th>IncomePerCap</th>\n      <th>IncomePerCapErr</th>\n      <th>Poverty</th>\n      <th>ChildPoverty</th>\n      <th>Employed</th>\n      <th>Unemployment</th>\n      <th>PrivateWork</th>\n      <th>PublicWork</th>\n      <th>SelfEmployed</th>\n      <th>FamilyWork</th>\n      <th>Professional</th>\n      <th>Service</th>\n      <th>Office</th>\n      <th>Construction</th>\n      <th>Production</th>\n      <th>Drive</th>\n      <th>Carpool</th>\n      <th>Transit</th>\n      <th>Walk</th>\n      <th>OtherTransp</th>\n      <th>WorkAtHome</th>\n      <th>MeanCommute</th>\n      <th>Rent</th>\n      <th>Year</th>\n      <th>Population</th>\n      <th>Violent crime</th>\n      <th>Murder and nonnegligent manslaughter</th>\n      <th>Rape</th>\n      <th>Robbery</th>\n      <th>Aggravated assault</th>\n      <th>Property crime</th>\n      <th>Burglary</th>\n      <th>Larceny- theft</th>\n      <th>Motor vehicle theft</th>\n      <th>Arson</th>\n      <th>Crime Rate (per 1000 residents)</th>\n      <th>Crime Rating</th>\n      <th>Days with AQI</th>\n      <th>Good Days</th>\n      <th>Moderate Days</th>\n      <th>Unhealthy for Sensitive Groups Days</th>\n      <th>Unhealthy Days</th>\n      <th>Very Unhealthy Days</th>\n      <th>Hazardous Days</th>\n      <th>Max AQI</th>\n      <th>90th Percentile AQI</th>\n      <th>Median AQI</th>\n      <th>Days CO</th>\n      <th>Days NO2</th>\n      <th>Days Ozone</th>\n      <th>Days SO2</th>\n      <th>Days PM2.5</th>\n      <th>Days PM10</th>\n      <th>Air Quality Index</th>\n      <th>Diversity Index</th>\n    </tr>\n  </thead>\n  <tbody>\n    <tr>\n      <th>0</th>\n      <td>0</td>\n      <td>0</td>\n      <td>Akron</td>\n      <td>OH</td>\n      <td>41.0798</td>\n      <td>-81.5219</td>\n      <td>267782</td>\n      <td>129623</td>\n      <td>138086</td>\n      <td>1.9</td>\n      <td>67.4</td>\n      <td>23.2</td>\n      <td>0.2</td>\n      <td>3.6</td>\n      <td>0.0</td>\n      <td>3068406</td>\n      <td>504125</td>\n      <td>1732548</td>\n      <td>258991</td>\n      <td>19.6</td>\n      <td>26.2</td>\n      <td>126247</td>\n      <td>8.5</td>\n      <td>85.4</td>\n      <td>10.3</td>\n      <td>4.1</td>\n      <td>0.1</td>\n      <td>32.3</td>\n      <td>19.8</td>\n      <td>25.3</td>\n      <td>6.6</td>\n      <td>15.6</td>\n      <td>83.3</td>\n      <td>8.5</td>\n      <td>3.1</td>\n      <td>1.6</td>\n      <td>0.6</td>\n      <td>2.7</td>\n      <td>21.9</td>\n      <td>911</td>\n      <td>2020</td>\n      <td>197882</td>\n      <td>1782</td>\n      <td>27</td>\n      <td>181</td>\n      <td>328</td>\n      <td>1246</td>\n      <td>6568</td>\n      <td>1686</td>\n      <td>4305</td>\n      <td>577</td>\n      <td>65</td>\n      <td>42.20</td>\n      <td>High</td>\n      <td>274</td>\n      <td>203</td>\n      <td>68</td>\n      <td>3</td>\n      <td>0</td>\n      <td>0</td>\n      <td>0</td>\n      <td>107</td>\n      <td>63</td>\n      <td>43</td>\n      <td>0</td>\n      <td>0</td>\n      <td>132</td>\n      <td>0</td>\n      <td>142</td>\n      <td>0</td>\n      <td>Good</td>\n      <td>0.490241</td>\n    </tr>\n    <tr>\n      <th>1</th>\n      <td>1</td>\n      <td>1</td>\n      <td>Albany</td>\n      <td>GA</td>\n      <td>31.5776</td>\n      <td>-84.1762</td>\n      <td>93421</td>\n      <td>43571</td>\n      <td>49835</td>\n      <td>2.8</td>\n      <td>29.2</td>\n      <td>65.2</td>\n      <td>0.1</td>\n      <td>0.9</td>\n      <td>0.0</td>\n      <td>1025141</td>\n      <td>199233</td>\n      <td>547674</td>\n      <td>89500</td>\n      <td>29.6</td>\n      <td>41.9</td>\n      <td>35704</td>\n      <td>16.2</td>\n      <td>71.9</td>\n      <td>23.7</td>\n      <td>4.1</td>\n      <td>0.1</td>\n      <td>30.7</td>\n      <td>21.4</td>\n      <td>23.1</td>\n      <td>8.1</td>\n      <td>16.3</td>\n      <td>78.1</td>\n      <td>12.4</td>\n      <td>1.8</td>\n      <td>2.3</td>\n      <td>0.7</td>\n      <td>4.3</td>\n      <td>19.1</td>\n      <td>814</td>\n      <td>2020</td>\n      <td>74989</td>\n      <td>790</td>\n      <td>12</td>\n      <td>32</td>\n      <td>165</td>\n      <td>581</td>\n      <td>3452</td>\n      <td>729</td>\n      <td>2489</td>\n      <td>234</td>\n      <td>17</td>\n      <td>56.57</td>\n      <td>High</td>\n      <td>244</td>\n      <td>182</td>\n      <td>60</td>\n      <td>2</td>\n      <td>0</td>\n      <td>0</td>\n      <td>0</td>\n      <td>114</td>\n      <td>63</td>\n      <td>37</td>\n      <td>0</td>\n      <td>0</td>\n      <td>0</td>\n      <td>0</td>\n      <td>244</td>\n      <td>0</td>\n      <td>Good</td>\n      <td>0.488771</td>\n    </tr>\n    <tr>\n      <th>2</th>\n      <td>2</td>\n      <td>2</td>\n      <td>Albany</td>\n      <td>NY</td>\n      <td>42.6664</td>\n      <td>-73.7987</td>\n      <td>147794</td>\n      <td>70664</td>\n      <td>77096</td>\n      <td>7.8</td>\n      <td>60.3</td>\n      <td>20.1</td>\n      <td>0.1</td>\n      <td>7.6</td>\n      <td>0.0</td>\n      <td>1917135</td>\n      <td>331452</td>\n      <td>1102265</td>\n      <td>158632</td>\n      <td>17.4</td>\n      <td>17.8</td>\n      <td>74293</td>\n      <td>6.6</td>\n      <td>71.6</td>\n      <td>24.3</td>\n      <td>3.9</td>\n      <td>0.0</td>\n      <td>42.9</td>\n      <td>20.5</td>\n      <td>25.2</td>\n      <td>4.6</td>\n      <td>6.6</td>\n      <td>70.4</td>\n      <td>7.2</td>\n      <td>10.1</td>\n      <td>7.3</td>\n      <td>1.7</td>\n      <td>2.9</td>\n      <td>18.9</td>\n      <td>1205</td>\n      <td>2020</td>\n      <td>97221</td>\n      <td>736</td>\n      <td>4</td>\n      <td>60</td>\n      <td>189</td>\n      <td>483</td>\n      <td>2919</td>\n      <td>445</td>\n      <td>2315</td>\n      <td>159</td>\n      <td>16</td>\n      <td>37.59</td>\n      <td>Medium</td>\n      <td>274</td>\n      <td>240</td>\n      <td>34</td>\n      <td>0</td>\n      <td>0</td>\n      <td>0</td>\n      <td>0</td>\n      <td>75</td>\n      <td>53</td>\n      <td>39</td>\n      <td>1</td>\n      <td>0</td>\n      <td>169</td>\n      <td>0</td>\n      <td>104</td>\n      <td>0</td>\n      <td>Good</td>\n      <td>0.584133</td>\n    </tr>\n    <tr>\n      <th>3</th>\n      <td>3</td>\n      <td>3</td>\n      <td>Albany</td>\n      <td>OR</td>\n      <td>44.6274</td>\n      <td>-123.0966</td>\n      <td>61555</td>\n      <td>30378</td>\n      <td>31168</td>\n      <td>11.4</td>\n      <td>82.7</td>\n      <td>0.6</td>\n      <td>0.7</td>\n      <td>1.9</td>\n      <td>0.1</td>\n      <td>542299</td>\n      <td>75753</td>\n      <td>268177</td>\n      <td>35254</td>\n      <td>14.3</td>\n      <td>18.6</td>\n      <td>27721</td>\n      <td>8.2</td>\n      <td>78.5</td>\n      <td>15.9</td>\n      <td>5.4</td>\n      <td>0.1</td>\n      <td>33.3</td>\n      <td>18.4</td>\n      <td>22.7</td>\n      <td>9.9</td>\n      <td>15.5</td>\n      <td>79.0</td>\n      <td>10.7</td>\n      <td>0.3</td>\n      <td>2.6</td>\n      <td>2.0</td>\n      <td>5.1</td>\n      <td>20.8</td>\n      <td>1197</td>\n      <td>2020</td>\n      <td>54993</td>\n      <td>70</td>\n      <td>1</td>\n      <td>10</td>\n      <td>16</td>\n      <td>43</td>\n      <td>1467</td>\n      <td>128</td>\n      <td>1242</td>\n      <td>97</td>\n      <td>17</td>\n      <td>27.95</td>\n      <td>Medium</td>\n      <td>182</td>\n      <td>161</td>\n      <td>21</td>\n      <td>0</td>\n      <td>0</td>\n      <td>0</td>\n      <td>0</td>\n      <td>70</td>\n      <td>51</td>\n      <td>19</td>\n      <td>0</td>\n      <td>0</td>\n      <td>0</td>\n      <td>0</td>\n      <td>182</td>\n      <td>0</td>\n      <td>Good</td>\n      <td>0.302632</td>\n    </tr>\n    <tr>\n      <th>4</th>\n      <td>4</td>\n      <td>4</td>\n      <td>Albuquerque</td>\n      <td>NM</td>\n      <td>35.1053</td>\n      <td>-106.6464</td>\n      <td>632240</td>\n      <td>309415</td>\n      <td>322758</td>\n      <td>50.4</td>\n      <td>38.5</td>\n      <td>2.5</td>\n      <td>4.0</td>\n      <td>2.4</td>\n      <td>0.1</td>\n      <td>7693803</td>\n      <td>1270581</td>\n      <td>4099669</td>\n      <td>581026</td>\n      <td>18.2</td>\n      <td>24.8</td>\n      <td>292907</td>\n      <td>6.8</td>\n      <td>74.5</td>\n      <td>19.6</td>\n      <td>5.6</td>\n      <td>0.2</td>\n      <td>39.8</td>\n      <td>20.0</td>\n      <td>24.0</td>\n      <td>8.3</td>\n      <td>7.7</td>\n      <td>80.2</td>\n      <td>9.1</td>\n      <td>1.8</td>\n      <td>1.8</td>\n      <td>2.5</td>\n      <td>4.3</td>\n      <td>21.7</td>\n      <td>1013</td>\n      <td>2020</td>\n      <td>561920</td>\n      <td>7596</td>\n      <td>84</td>\n      <td>486</td>\n      <td>1699</td>\n      <td>5327</td>\n      <td>26059</td>\n      <td>0</td>\n      <td>20634</td>\n      <td>5425</td>\n      <td>98</td>\n      <td>59.89</td>\n      <td>High</td>\n      <td>183</td>\n      <td>101</td>\n      <td>82</td>\n      <td>0</td>\n      <td>0</td>\n      <td>0</td>\n      <td>0</td>\n      <td>100</td>\n      <td>65</td>\n      <td>50</td>\n      <td>1</td>\n      <td>0</td>\n      <td>127</td>\n      <td>0</td>\n      <td>25</td>\n      <td>30</td>\n      <td>Good</td>\n      <td>0.594958</td>\n    </tr>\n  </tbody>\n</table>\n</div>"
          },
          "metadata": {},
          "execution_count": 3
        }
      ]
    },
    {
      "cell_type": "markdown",
      "metadata": {
        "id": "AVhGV4UxmiD5"
      },
      "source": [
        "### NEAREST NEIGHBORS"
      ]
    },
    {
      "cell_type": "code",
      "metadata": {
        "id": "xkwNAm0imiDM"
      },
      "source": [
        "import numpy as np\n",
        "from sklearn.neighbors import NearestNeighbors\n",
        "from sklearn.preprocessing import StandardScaler\n",
        "from sklearn.pipeline import make_pipeline"
      ],
      "execution_count": 4,
      "outputs": []
    },
    {
      "cell_type": "code",
      "metadata": {
        "id": "J28Z3TVqmiD7"
      },
      "source": [
        "X = merged[[\n",
        "       'TotalPop', 'Men', 'Women', 'Hispanic', 'White',\n",
        "       'Black', 'Native', 'Asian', 'Pacific', 'Diversity Index',\n",
        "       'Income', 'IncomeErr', 'IncomePerCap', 'IncomePerCapErr', \n",
        "       'Poverty', 'ChildPoverty',\n",
        "       'Employed', 'Unemployment', \n",
        "       'PrivateWork', 'PublicWork', 'SelfEmployed','FamilyWork', \n",
        "       'Professional', 'Service', 'Office', 'Construction','Production', \n",
        "       'Drive', 'Carpool', 'Transit', 'Walk', 'OtherTransp', 'WorkAtHome', 'MeanCommute', \n",
        "       'Violent crime', 'Murder and nonnegligent manslaughter', 'Rape',\n",
        "       'Robbery', 'Aggravated assault', 'Property crime', 'Burglary',\n",
        "       'Larceny- theft', 'Motor vehicle theft', 'Arson', 'Crime Rate per 1000',\n",
        "       'Rent',\n",
        "       'Days with AQI','Good Days', 'Moderate Days', \n",
        "       'Unhealthy for Sensitive Groups Days',\n",
        "       'Unhealthy Days', 'Very Unhealthy Days', 'Hazardous Days', \n",
        "       'Max AQI', '90th Percentile AQI', 'Median AQI', 'Days CO', \n",
        "       'Days NO2','Days Ozone', 'Days SO2', 'Days PM2.5', 'Days PM10'\n",
        "       ]]"
      ],
      "execution_count": 7,
      "outputs": []
    },
    {
      "cell_type": "code",
      "metadata": {
        "id": "dBxvFMQmmiEM"
      },
      "source": [
        "# scaling data since the values are not the same, i.e 1000s for rent and populutaion versus numbers shown as percentages\n",
        "scaler = StandardScaler() \n",
        "standard_df = scaler.fit_transform(X) \n",
        "standard_df = pd.DataFrame(standard_df, columns = X.columns) "
      ],
      "execution_count": 8,
      "outputs": []
    },
    {
      "cell_type": "code",
      "metadata": {
        "colab": {
          "base_uri": "https://localhost:8080/"
        },
        "id": "PTonh9czmiEN",
        "outputId": "e3dd6584-73fb-4346-9cb5-86bd6b4006b7"
      },
      "source": [
        "nn = NearestNeighbors(n_neighbors=6, algorithm='kd_tree', n_jobs=8)\n",
        "nn.fit(standard_df)"
      ],
      "execution_count": 9,
      "outputs": [
        {
          "output_type": "execute_result",
          "data": {
            "text/plain": [
              "NearestNeighbors(algorithm='kd_tree', n_jobs=8, n_neighbors=6)"
            ]
          },
          "metadata": {},
          "execution_count": 9
        }
      ]
    },
    {
      "cell_type": "code",
      "metadata": {
        "id": "gL6gJdPHmiEO"
      },
      "source": [
        "def nearest(idx):\n",
        "    return ','.join(map(str, nn.kneighbors([standard_df.iloc[idx]])[1][0][1:].tolist()))"
      ],
      "execution_count": 10,
      "outputs": []
    },
    {
      "cell_type": "code",
      "metadata": {
        "id": "IpmEYhcemiET"
      },
      "source": [
        "merged['Index'] = merged.index"
      ],
      "execution_count": 11,
      "outputs": []
    },
    {
      "cell_type": "code",
      "metadata": {
        "id": "iwGAdyF3miEV"
      },
      "source": [
        "merged['Nearest'] = merged['Index'].apply(nearest)"
      ],
      "execution_count": 12,
      "outputs": []
    },
    {
      "cell_type": "code",
      "metadata": {
        "colab": {
          "base_uri": "https://localhost:8080/",
          "height": 296
        },
        "id": "z3fHHgmemiEb",
        "outputId": "88e2da63-3de0-4ba9-e0ae-4499c073b83e"
      },
      "source": [
        "merged.head()"
      ],
      "execution_count": 13,
      "outputs": [
        {
          "output_type": "execute_result",
          "data": {
            "text/plain": [
              "   Unnamed: 0  Index         City State      lat       lon  TotalPop     Men  \\\n",
              "0           0      0        Akron    OH  41.0798  -81.5219    267782  129623   \n",
              "1           1      1       Albany    GA  31.5776  -84.1762     93421   43571   \n",
              "2           2      2       Albany    NY  42.6664  -73.7987    147794   70664   \n",
              "3           3      3       Albany    OR  44.6274 -123.0966     61555   30378   \n",
              "4           4      4  Albuquerque    NM  35.1053 -106.6464    632240  309415   \n",
              "\n",
              "    Women  Hispanic  White  Black  Native  Asian  Pacific   Income  IncomeErr  \\\n",
              "0  138086       1.9   67.4   23.2     0.2    3.6      0.0  3068406     504125   \n",
              "1   49835       2.8   29.2   65.2     0.1    0.9      0.0  1025141     199233   \n",
              "2   77096       7.8   60.3   20.1     0.1    7.6      0.0  1917135     331452   \n",
              "3   31168      11.4   82.7    0.6     0.7    1.9      0.1   542299      75753   \n",
              "4  322758      50.4   38.5    2.5     4.0    2.4      0.1  7693803    1270581   \n",
              "\n",
              "   IncomePerCap  IncomePerCapErr  Poverty  ChildPoverty  Employed  \\\n",
              "0       1732548           258991     19.6          26.2    126247   \n",
              "1        547674            89500     29.6          41.9     35704   \n",
              "2       1102265           158632     17.4          17.8     74293   \n",
              "3        268177            35254     14.3          18.6     27721   \n",
              "4       4099669           581026     18.2          24.8    292907   \n",
              "\n",
              "   Unemployment  PrivateWork  PublicWork  SelfEmployed  FamilyWork  \\\n",
              "0           8.5         85.4        10.3           4.1         0.1   \n",
              "1          16.2         71.9        23.7           4.1         0.1   \n",
              "2           6.6         71.6        24.3           3.9         0.0   \n",
              "3           8.2         78.5        15.9           5.4         0.1   \n",
              "4           6.8         74.5        19.6           5.6         0.2   \n",
              "\n",
              "   Professional  Service  Office  Construction  Production  Drive  Carpool  \\\n",
              "0          32.3     19.8    25.3           6.6        15.6   83.3      8.5   \n",
              "1          30.7     21.4    23.1           8.1        16.3   78.1     12.4   \n",
              "2          42.9     20.5    25.2           4.6         6.6   70.4      7.2   \n",
              "3          33.3     18.4    22.7           9.9        15.5   79.0     10.7   \n",
              "4          39.8     20.0    24.0           8.3         7.7   80.2      9.1   \n",
              "\n",
              "   Transit  Walk  OtherTransp  WorkAtHome  MeanCommute  Rent  Year  \\\n",
              "0      3.1   1.6          0.6         2.7         21.9   911  2020   \n",
              "1      1.8   2.3          0.7         4.3         19.1   814  2020   \n",
              "2     10.1   7.3          1.7         2.9         18.9  1205  2020   \n",
              "3      0.3   2.6          2.0         5.1         20.8  1197  2020   \n",
              "4      1.8   1.8          2.5         4.3         21.7  1013  2020   \n",
              "\n",
              "   Population  Violent crime  Murder and nonnegligent manslaughter  Rape  \\\n",
              "0      197882           1782                                    27   181   \n",
              "1       74989            790                                    12    32   \n",
              "2       97221            736                                     4    60   \n",
              "3       54993             70                                     1    10   \n",
              "4      561920           7596                                    84   486   \n",
              "\n",
              "   Robbery  Aggravated assault  Property crime  Burglary  Larceny- theft  \\\n",
              "0      328                1246            6568      1686            4305   \n",
              "1      165                 581            3452       729            2489   \n",
              "2      189                 483            2919       445            2315   \n",
              "3       16                  43            1467       128            1242   \n",
              "4     1699                5327           26059         0           20634   \n",
              "\n",
              "   Motor vehicle theft  Arson  Crime Rate per 1000 Crime Rating  \\\n",
              "0                  577     65                42.20         High   \n",
              "1                  234     17                56.57         High   \n",
              "2                  159     16                37.59       Medium   \n",
              "3                   97     17                27.95       Medium   \n",
              "4                 5425     98                59.89         High   \n",
              "\n",
              "   Days with AQI  Good Days  Moderate Days  \\\n",
              "0            274        203             68   \n",
              "1            244        182             60   \n",
              "2            274        240             34   \n",
              "3            182        161             21   \n",
              "4            183        101             82   \n",
              "\n",
              "   Unhealthy for Sensitive Groups Days  Unhealthy Days  Very Unhealthy Days  \\\n",
              "0                                    3               0                    0   \n",
              "1                                    2               0                    0   \n",
              "2                                    0               0                    0   \n",
              "3                                    0               0                    0   \n",
              "4                                    0               0                    0   \n",
              "\n",
              "   Hazardous Days  Max AQI  90th Percentile AQI  Median AQI  Days CO  \\\n",
              "0               0      107                   63          43        0   \n",
              "1               0      114                   63          37        0   \n",
              "2               0       75                   53          39        1   \n",
              "3               0       70                   51          19        0   \n",
              "4               0      100                   65          50        1   \n",
              "\n",
              "   Days NO2  Days Ozone  Days SO2  Days PM2.5  Days PM10 Air Quality Index  \\\n",
              "0         0         132         0         142          0              Good   \n",
              "1         0           0         0         244          0              Good   \n",
              "2         0         169         0         104          0              Good   \n",
              "3         0           0         0         182          0              Good   \n",
              "4         0         127         0          25         30              Good   \n",
              "\n",
              "   Diversity Index              Nearest  \n",
              "0         0.490241   132,58,350,312,377  \n",
              "1         0.488771  170,395,146,373,265  \n",
              "2         0.584133   337,380,355,152,81  \n",
              "3         0.302632   30,139,244,408,216  \n",
              "4         0.594958  381,274,411,382,412  "
            ],
            "text/html": "<div>\n<style scoped>\n    .dataframe tbody tr th:only-of-type {\n        vertical-align: middle;\n    }\n\n    .dataframe tbody tr th {\n        vertical-align: top;\n    }\n\n    .dataframe thead th {\n        text-align: right;\n    }\n</style>\n<table border=\"1\" class=\"dataframe\">\n  <thead>\n    <tr style=\"text-align: right;\">\n      <th></th>\n      <th>Unnamed: 0</th>\n      <th>Index</th>\n      <th>City</th>\n      <th>State</th>\n      <th>lat</th>\n      <th>lon</th>\n      <th>TotalPop</th>\n      <th>Men</th>\n      <th>Women</th>\n      <th>Hispanic</th>\n      <th>White</th>\n      <th>Black</th>\n      <th>Native</th>\n      <th>Asian</th>\n      <th>Pacific</th>\n      <th>Income</th>\n      <th>IncomeErr</th>\n      <th>IncomePerCap</th>\n      <th>IncomePerCapErr</th>\n      <th>Poverty</th>\n      <th>ChildPoverty</th>\n      <th>Employed</th>\n      <th>Unemployment</th>\n      <th>PrivateWork</th>\n      <th>PublicWork</th>\n      <th>SelfEmployed</th>\n      <th>FamilyWork</th>\n      <th>Professional</th>\n      <th>Service</th>\n      <th>Office</th>\n      <th>Construction</th>\n      <th>Production</th>\n      <th>Drive</th>\n      <th>Carpool</th>\n      <th>Transit</th>\n      <th>Walk</th>\n      <th>OtherTransp</th>\n      <th>WorkAtHome</th>\n      <th>MeanCommute</th>\n      <th>Rent</th>\n      <th>Year</th>\n      <th>Population</th>\n      <th>Violent crime</th>\n      <th>Murder and nonnegligent manslaughter</th>\n      <th>Rape</th>\n      <th>Robbery</th>\n      <th>Aggravated assault</th>\n      <th>Property crime</th>\n      <th>Burglary</th>\n      <th>Larceny- theft</th>\n      <th>Motor vehicle theft</th>\n      <th>Arson</th>\n      <th>Crime Rate per 1000</th>\n      <th>Crime Rating</th>\n      <th>Days with AQI</th>\n      <th>Good Days</th>\n      <th>Moderate Days</th>\n      <th>Unhealthy for Sensitive Groups Days</th>\n      <th>Unhealthy Days</th>\n      <th>Very Unhealthy Days</th>\n      <th>Hazardous Days</th>\n      <th>Max AQI</th>\n      <th>90th Percentile AQI</th>\n      <th>Median AQI</th>\n      <th>Days CO</th>\n      <th>Days NO2</th>\n      <th>Days Ozone</th>\n      <th>Days SO2</th>\n      <th>Days PM2.5</th>\n      <th>Days PM10</th>\n      <th>Air Quality Index</th>\n      <th>Diversity Index</th>\n      <th>Nearest</th>\n    </tr>\n  </thead>\n  <tbody>\n    <tr>\n      <th>0</th>\n      <td>0</td>\n      <td>0</td>\n      <td>Akron</td>\n      <td>OH</td>\n      <td>41.0798</td>\n      <td>-81.5219</td>\n      <td>267782</td>\n      <td>129623</td>\n      <td>138086</td>\n      <td>1.9</td>\n      <td>67.4</td>\n      <td>23.2</td>\n      <td>0.2</td>\n      <td>3.6</td>\n      <td>0.0</td>\n      <td>3068406</td>\n      <td>504125</td>\n      <td>1732548</td>\n      <td>258991</td>\n      <td>19.6</td>\n      <td>26.2</td>\n      <td>126247</td>\n      <td>8.5</td>\n      <td>85.4</td>\n      <td>10.3</td>\n      <td>4.1</td>\n      <td>0.1</td>\n      <td>32.3</td>\n      <td>19.8</td>\n      <td>25.3</td>\n      <td>6.6</td>\n      <td>15.6</td>\n      <td>83.3</td>\n      <td>8.5</td>\n      <td>3.1</td>\n      <td>1.6</td>\n      <td>0.6</td>\n      <td>2.7</td>\n      <td>21.9</td>\n      <td>911</td>\n      <td>2020</td>\n      <td>197882</td>\n      <td>1782</td>\n      <td>27</td>\n      <td>181</td>\n      <td>328</td>\n      <td>1246</td>\n      <td>6568</td>\n      <td>1686</td>\n      <td>4305</td>\n      <td>577</td>\n      <td>65</td>\n      <td>42.20</td>\n      <td>High</td>\n      <td>274</td>\n      <td>203</td>\n      <td>68</td>\n      <td>3</td>\n      <td>0</td>\n      <td>0</td>\n      <td>0</td>\n      <td>107</td>\n      <td>63</td>\n      <td>43</td>\n      <td>0</td>\n      <td>0</td>\n      <td>132</td>\n      <td>0</td>\n      <td>142</td>\n      <td>0</td>\n      <td>Good</td>\n      <td>0.490241</td>\n      <td>132,58,350,312,377</td>\n    </tr>\n    <tr>\n      <th>1</th>\n      <td>1</td>\n      <td>1</td>\n      <td>Albany</td>\n      <td>GA</td>\n      <td>31.5776</td>\n      <td>-84.1762</td>\n      <td>93421</td>\n      <td>43571</td>\n      <td>49835</td>\n      <td>2.8</td>\n      <td>29.2</td>\n      <td>65.2</td>\n      <td>0.1</td>\n      <td>0.9</td>\n      <td>0.0</td>\n      <td>1025141</td>\n      <td>199233</td>\n      <td>547674</td>\n      <td>89500</td>\n      <td>29.6</td>\n      <td>41.9</td>\n      <td>35704</td>\n      <td>16.2</td>\n      <td>71.9</td>\n      <td>23.7</td>\n      <td>4.1</td>\n      <td>0.1</td>\n      <td>30.7</td>\n      <td>21.4</td>\n      <td>23.1</td>\n      <td>8.1</td>\n      <td>16.3</td>\n      <td>78.1</td>\n      <td>12.4</td>\n      <td>1.8</td>\n      <td>2.3</td>\n      <td>0.7</td>\n      <td>4.3</td>\n      <td>19.1</td>\n      <td>814</td>\n      <td>2020</td>\n      <td>74989</td>\n      <td>790</td>\n      <td>12</td>\n      <td>32</td>\n      <td>165</td>\n      <td>581</td>\n      <td>3452</td>\n      <td>729</td>\n      <td>2489</td>\n      <td>234</td>\n      <td>17</td>\n      <td>56.57</td>\n      <td>High</td>\n      <td>244</td>\n      <td>182</td>\n      <td>60</td>\n      <td>2</td>\n      <td>0</td>\n      <td>0</td>\n      <td>0</td>\n      <td>114</td>\n      <td>63</td>\n      <td>37</td>\n      <td>0</td>\n      <td>0</td>\n      <td>0</td>\n      <td>0</td>\n      <td>244</td>\n      <td>0</td>\n      <td>Good</td>\n      <td>0.488771</td>\n      <td>170,395,146,373,265</td>\n    </tr>\n    <tr>\n      <th>2</th>\n      <td>2</td>\n      <td>2</td>\n      <td>Albany</td>\n      <td>NY</td>\n      <td>42.6664</td>\n      <td>-73.7987</td>\n      <td>147794</td>\n      <td>70664</td>\n      <td>77096</td>\n      <td>7.8</td>\n      <td>60.3</td>\n      <td>20.1</td>\n      <td>0.1</td>\n      <td>7.6</td>\n      <td>0.0</td>\n      <td>1917135</td>\n      <td>331452</td>\n      <td>1102265</td>\n      <td>158632</td>\n      <td>17.4</td>\n      <td>17.8</td>\n      <td>74293</td>\n      <td>6.6</td>\n      <td>71.6</td>\n      <td>24.3</td>\n      <td>3.9</td>\n      <td>0.0</td>\n      <td>42.9</td>\n      <td>20.5</td>\n      <td>25.2</td>\n      <td>4.6</td>\n      <td>6.6</td>\n      <td>70.4</td>\n      <td>7.2</td>\n      <td>10.1</td>\n      <td>7.3</td>\n      <td>1.7</td>\n      <td>2.9</td>\n      <td>18.9</td>\n      <td>1205</td>\n      <td>2020</td>\n      <td>97221</td>\n      <td>736</td>\n      <td>4</td>\n      <td>60</td>\n      <td>189</td>\n      <td>483</td>\n      <td>2919</td>\n      <td>445</td>\n      <td>2315</td>\n      <td>159</td>\n      <td>16</td>\n      <td>37.59</td>\n      <td>Medium</td>\n      <td>274</td>\n      <td>240</td>\n      <td>34</td>\n      <td>0</td>\n      <td>0</td>\n      <td>0</td>\n      <td>0</td>\n      <td>75</td>\n      <td>53</td>\n      <td>39</td>\n      <td>1</td>\n      <td>0</td>\n      <td>169</td>\n      <td>0</td>\n      <td>104</td>\n      <td>0</td>\n      <td>Good</td>\n      <td>0.584133</td>\n      <td>337,380,355,152,81</td>\n    </tr>\n    <tr>\n      <th>3</th>\n      <td>3</td>\n      <td>3</td>\n      <td>Albany</td>\n      <td>OR</td>\n      <td>44.6274</td>\n      <td>-123.0966</td>\n      <td>61555</td>\n      <td>30378</td>\n      <td>31168</td>\n      <td>11.4</td>\n      <td>82.7</td>\n      <td>0.6</td>\n      <td>0.7</td>\n      <td>1.9</td>\n      <td>0.1</td>\n      <td>542299</td>\n      <td>75753</td>\n      <td>268177</td>\n      <td>35254</td>\n      <td>14.3</td>\n      <td>18.6</td>\n      <td>27721</td>\n      <td>8.2</td>\n      <td>78.5</td>\n      <td>15.9</td>\n      <td>5.4</td>\n      <td>0.1</td>\n      <td>33.3</td>\n      <td>18.4</td>\n      <td>22.7</td>\n      <td>9.9</td>\n      <td>15.5</td>\n      <td>79.0</td>\n      <td>10.7</td>\n      <td>0.3</td>\n      <td>2.6</td>\n      <td>2.0</td>\n      <td>5.1</td>\n      <td>20.8</td>\n      <td>1197</td>\n      <td>2020</td>\n      <td>54993</td>\n      <td>70</td>\n      <td>1</td>\n      <td>10</td>\n      <td>16</td>\n      <td>43</td>\n      <td>1467</td>\n      <td>128</td>\n      <td>1242</td>\n      <td>97</td>\n      <td>17</td>\n      <td>27.95</td>\n      <td>Medium</td>\n      <td>182</td>\n      <td>161</td>\n      <td>21</td>\n      <td>0</td>\n      <td>0</td>\n      <td>0</td>\n      <td>0</td>\n      <td>70</td>\n      <td>51</td>\n      <td>19</td>\n      <td>0</td>\n      <td>0</td>\n      <td>0</td>\n      <td>0</td>\n      <td>182</td>\n      <td>0</td>\n      <td>Good</td>\n      <td>0.302632</td>\n      <td>30,139,244,408,216</td>\n    </tr>\n    <tr>\n      <th>4</th>\n      <td>4</td>\n      <td>4</td>\n      <td>Albuquerque</td>\n      <td>NM</td>\n      <td>35.1053</td>\n      <td>-106.6464</td>\n      <td>632240</td>\n      <td>309415</td>\n      <td>322758</td>\n      <td>50.4</td>\n      <td>38.5</td>\n      <td>2.5</td>\n      <td>4.0</td>\n      <td>2.4</td>\n      <td>0.1</td>\n      <td>7693803</td>\n      <td>1270581</td>\n      <td>4099669</td>\n      <td>581026</td>\n      <td>18.2</td>\n      <td>24.8</td>\n      <td>292907</td>\n      <td>6.8</td>\n      <td>74.5</td>\n      <td>19.6</td>\n      <td>5.6</td>\n      <td>0.2</td>\n      <td>39.8</td>\n      <td>20.0</td>\n      <td>24.0</td>\n      <td>8.3</td>\n      <td>7.7</td>\n      <td>80.2</td>\n      <td>9.1</td>\n      <td>1.8</td>\n      <td>1.8</td>\n      <td>2.5</td>\n      <td>4.3</td>\n      <td>21.7</td>\n      <td>1013</td>\n      <td>2020</td>\n      <td>561920</td>\n      <td>7596</td>\n      <td>84</td>\n      <td>486</td>\n      <td>1699</td>\n      <td>5327</td>\n      <td>26059</td>\n      <td>0</td>\n      <td>20634</td>\n      <td>5425</td>\n      <td>98</td>\n      <td>59.89</td>\n      <td>High</td>\n      <td>183</td>\n      <td>101</td>\n      <td>82</td>\n      <td>0</td>\n      <td>0</td>\n      <td>0</td>\n      <td>0</td>\n      <td>100</td>\n      <td>65</td>\n      <td>50</td>\n      <td>1</td>\n      <td>0</td>\n      <td>127</td>\n      <td>0</td>\n      <td>25</td>\n      <td>30</td>\n      <td>Good</td>\n      <td>0.594958</td>\n      <td>381,274,411,382,412</td>\n    </tr>\n  </tbody>\n</table>\n</div>"
          },
          "metadata": {},
          "execution_count": 13
        }
      ]
    },
    {
      "cell_type": "markdown",
      "metadata": {
        "id": "DOpmE3DAmiEa"
      },
      "source": [
        "### TEST"
      ]
    },
    {
      "cell_type": "code",
      "metadata": {
        "colab": {
          "base_uri": "https://localhost:8080/",
          "height": 170
        },
        "id": "6uMRSdAUmiEc",
        "outputId": "e1f8872b-42d6-4d62-a218-8b3aafda99aa"
      },
      "source": [
        "merged[0:1]"
      ],
      "execution_count": 14,
      "outputs": [
        {
          "output_type": "execute_result",
          "data": {
            "text/plain": [
              "   Unnamed: 0  Index   City State      lat      lon  TotalPop     Men   Women  \\\n",
              "0           0      0  Akron    OH  41.0798 -81.5219    267782  129623  138086   \n",
              "\n",
              "   Hispanic  White  Black  Native  Asian  Pacific   Income  IncomeErr  \\\n",
              "0       1.9   67.4   23.2     0.2    3.6      0.0  3068406     504125   \n",
              "\n",
              "   IncomePerCap  IncomePerCapErr  Poverty  ChildPoverty  Employed  \\\n",
              "0       1732548           258991     19.6          26.2    126247   \n",
              "\n",
              "   Unemployment  PrivateWork  PublicWork  SelfEmployed  FamilyWork  \\\n",
              "0           8.5         85.4        10.3           4.1         0.1   \n",
              "\n",
              "   Professional  Service  Office  Construction  Production  Drive  Carpool  \\\n",
              "0          32.3     19.8    25.3           6.6        15.6   83.3      8.5   \n",
              "\n",
              "   Transit  Walk  OtherTransp  WorkAtHome  MeanCommute  Rent  Year  \\\n",
              "0      3.1   1.6          0.6         2.7         21.9   911  2020   \n",
              "\n",
              "   Population  Violent crime  Murder and nonnegligent manslaughter  Rape  \\\n",
              "0      197882           1782                                    27   181   \n",
              "\n",
              "   Robbery  Aggravated assault  Property crime  Burglary  Larceny- theft  \\\n",
              "0      328                1246            6568      1686            4305   \n",
              "\n",
              "   Motor vehicle theft  Arson  Crime Rate per 1000 Crime Rating  \\\n",
              "0                  577     65                 42.2         High   \n",
              "\n",
              "   Days with AQI  Good Days  Moderate Days  \\\n",
              "0            274        203             68   \n",
              "\n",
              "   Unhealthy for Sensitive Groups Days  Unhealthy Days  Very Unhealthy Days  \\\n",
              "0                                    3               0                    0   \n",
              "\n",
              "   Hazardous Days  Max AQI  90th Percentile AQI  Median AQI  Days CO  \\\n",
              "0               0      107                   63          43        0   \n",
              "\n",
              "   Days NO2  Days Ozone  Days SO2  Days PM2.5  Days PM10 Air Quality Index  \\\n",
              "0         0         132         0         142          0              Good   \n",
              "\n",
              "   Diversity Index             Nearest  \n",
              "0         0.490241  132,58,350,312,377  "
            ],
            "text/html": "<div>\n<style scoped>\n    .dataframe tbody tr th:only-of-type {\n        vertical-align: middle;\n    }\n\n    .dataframe tbody tr th {\n        vertical-align: top;\n    }\n\n    .dataframe thead th {\n        text-align: right;\n    }\n</style>\n<table border=\"1\" class=\"dataframe\">\n  <thead>\n    <tr style=\"text-align: right;\">\n      <th></th>\n      <th>Unnamed: 0</th>\n      <th>Index</th>\n      <th>City</th>\n      <th>State</th>\n      <th>lat</th>\n      <th>lon</th>\n      <th>TotalPop</th>\n      <th>Men</th>\n      <th>Women</th>\n      <th>Hispanic</th>\n      <th>White</th>\n      <th>Black</th>\n      <th>Native</th>\n      <th>Asian</th>\n      <th>Pacific</th>\n      <th>Income</th>\n      <th>IncomeErr</th>\n      <th>IncomePerCap</th>\n      <th>IncomePerCapErr</th>\n      <th>Poverty</th>\n      <th>ChildPoverty</th>\n      <th>Employed</th>\n      <th>Unemployment</th>\n      <th>PrivateWork</th>\n      <th>PublicWork</th>\n      <th>SelfEmployed</th>\n      <th>FamilyWork</th>\n      <th>Professional</th>\n      <th>Service</th>\n      <th>Office</th>\n      <th>Construction</th>\n      <th>Production</th>\n      <th>Drive</th>\n      <th>Carpool</th>\n      <th>Transit</th>\n      <th>Walk</th>\n      <th>OtherTransp</th>\n      <th>WorkAtHome</th>\n      <th>MeanCommute</th>\n      <th>Rent</th>\n      <th>Year</th>\n      <th>Population</th>\n      <th>Violent crime</th>\n      <th>Murder and nonnegligent manslaughter</th>\n      <th>Rape</th>\n      <th>Robbery</th>\n      <th>Aggravated assault</th>\n      <th>Property crime</th>\n      <th>Burglary</th>\n      <th>Larceny- theft</th>\n      <th>Motor vehicle theft</th>\n      <th>Arson</th>\n      <th>Crime Rate per 1000</th>\n      <th>Crime Rating</th>\n      <th>Days with AQI</th>\n      <th>Good Days</th>\n      <th>Moderate Days</th>\n      <th>Unhealthy for Sensitive Groups Days</th>\n      <th>Unhealthy Days</th>\n      <th>Very Unhealthy Days</th>\n      <th>Hazardous Days</th>\n      <th>Max AQI</th>\n      <th>90th Percentile AQI</th>\n      <th>Median AQI</th>\n      <th>Days CO</th>\n      <th>Days NO2</th>\n      <th>Days Ozone</th>\n      <th>Days SO2</th>\n      <th>Days PM2.5</th>\n      <th>Days PM10</th>\n      <th>Air Quality Index</th>\n      <th>Diversity Index</th>\n      <th>Nearest</th>\n    </tr>\n  </thead>\n  <tbody>\n    <tr>\n      <th>0</th>\n      <td>0</td>\n      <td>0</td>\n      <td>Akron</td>\n      <td>OH</td>\n      <td>41.0798</td>\n      <td>-81.5219</td>\n      <td>267782</td>\n      <td>129623</td>\n      <td>138086</td>\n      <td>1.9</td>\n      <td>67.4</td>\n      <td>23.2</td>\n      <td>0.2</td>\n      <td>3.6</td>\n      <td>0.0</td>\n      <td>3068406</td>\n      <td>504125</td>\n      <td>1732548</td>\n      <td>258991</td>\n      <td>19.6</td>\n      <td>26.2</td>\n      <td>126247</td>\n      <td>8.5</td>\n      <td>85.4</td>\n      <td>10.3</td>\n      <td>4.1</td>\n      <td>0.1</td>\n      <td>32.3</td>\n      <td>19.8</td>\n      <td>25.3</td>\n      <td>6.6</td>\n      <td>15.6</td>\n      <td>83.3</td>\n      <td>8.5</td>\n      <td>3.1</td>\n      <td>1.6</td>\n      <td>0.6</td>\n      <td>2.7</td>\n      <td>21.9</td>\n      <td>911</td>\n      <td>2020</td>\n      <td>197882</td>\n      <td>1782</td>\n      <td>27</td>\n      <td>181</td>\n      <td>328</td>\n      <td>1246</td>\n      <td>6568</td>\n      <td>1686</td>\n      <td>4305</td>\n      <td>577</td>\n      <td>65</td>\n      <td>42.2</td>\n      <td>High</td>\n      <td>274</td>\n      <td>203</td>\n      <td>68</td>\n      <td>3</td>\n      <td>0</td>\n      <td>0</td>\n      <td>0</td>\n      <td>107</td>\n      <td>63</td>\n      <td>43</td>\n      <td>0</td>\n      <td>0</td>\n      <td>132</td>\n      <td>0</td>\n      <td>142</td>\n      <td>0</td>\n      <td>Good</td>\n      <td>0.490241</td>\n      <td>132,58,350,312,377</td>\n    </tr>\n  </tbody>\n</table>\n</div>"
          },
          "metadata": {},
          "execution_count": 14
        }
      ]
    },
    {
      "cell_type": "code",
      "metadata": {
        "colab": {
          "base_uri": "https://localhost:8080/",
          "height": 170
        },
        "id": "FCN0UY0qmiEd",
        "outputId": "0c5db77c-b2ed-4e30-f0da-d52de739e295"
      },
      "source": [
        "merged[132:133]"
      ],
      "execution_count": 15,
      "outputs": [
        {
          "output_type": "execute_result",
          "data": {
            "text/plain": [
              "   Unnamed: 0  Index    City State      lat      lon  TotalPop    Men  Women  \\\n",
              "1           1      1  Albany    GA  31.5776 -84.1762     93421  43571  49835   \n",
              "\n",
              "   Hispanic  White  Black  Native  Asian  Pacific   Income  IncomeErr  \\\n",
              "1       2.8   29.2   65.2     0.1    0.9      0.0  1025141     199233   \n",
              "\n",
              "   IncomePerCap  IncomePerCapErr  Poverty  ChildPoverty  Employed  \\\n",
              "1        547674            89500     29.6          41.9     35704   \n",
              "\n",
              "   Unemployment  PrivateWork  PublicWork  SelfEmployed  FamilyWork  \\\n",
              "1          16.2         71.9        23.7           4.1         0.1   \n",
              "\n",
              "   Professional  Service  Office  Construction  Production  Drive  Carpool  \\\n",
              "1          30.7     21.4    23.1           8.1        16.3   78.1     12.4   \n",
              "\n",
              "   Transit  Walk  OtherTransp  WorkAtHome  MeanCommute  Rent  Year  \\\n",
              "1      1.8   2.3          0.7         4.3         19.1   814  2020   \n",
              "\n",
              "   Population  Violent crime  Murder and nonnegligent manslaughter  Rape  \\\n",
              "1       74989            790                                    12    32   \n",
              "\n",
              "   Robbery  Aggravated assault  Property crime  Burglary  Larceny- theft  \\\n",
              "1      165                 581            3452       729            2489   \n",
              "\n",
              "   Motor vehicle theft  Arson  Crime Rate per 1000 Crime Rating  \\\n",
              "1                  234     17                56.57         High   \n",
              "\n",
              "   Days with AQI  Good Days  Moderate Days  \\\n",
              "1            244        182             60   \n",
              "\n",
              "   Unhealthy for Sensitive Groups Days  Unhealthy Days  Very Unhealthy Days  \\\n",
              "1                                    2               0                    0   \n",
              "\n",
              "   Hazardous Days  Max AQI  90th Percentile AQI  Median AQI  Days CO  \\\n",
              "1               0      114                   63          37        0   \n",
              "\n",
              "   Days NO2  Days Ozone  Days SO2  Days PM2.5  Days PM10 Air Quality Index  \\\n",
              "1         0           0         0         244          0              Good   \n",
              "\n",
              "   Diversity Index              Nearest  \n",
              "1         0.488771  170,395,146,373,265  "
            ],
            "text/html": "<div>\n<style scoped>\n    .dataframe tbody tr th:only-of-type {\n        vertical-align: middle;\n    }\n\n    .dataframe tbody tr th {\n        vertical-align: top;\n    }\n\n    .dataframe thead th {\n        text-align: right;\n    }\n</style>\n<table border=\"1\" class=\"dataframe\">\n  <thead>\n    <tr style=\"text-align: right;\">\n      <th></th>\n      <th>Unnamed: 0</th>\n      <th>Index</th>\n      <th>City</th>\n      <th>State</th>\n      <th>lat</th>\n      <th>lon</th>\n      <th>TotalPop</th>\n      <th>Men</th>\n      <th>Women</th>\n      <th>Hispanic</th>\n      <th>White</th>\n      <th>Black</th>\n      <th>Native</th>\n      <th>Asian</th>\n      <th>Pacific</th>\n      <th>Income</th>\n      <th>IncomeErr</th>\n      <th>IncomePerCap</th>\n      <th>IncomePerCapErr</th>\n      <th>Poverty</th>\n      <th>ChildPoverty</th>\n      <th>Employed</th>\n      <th>Unemployment</th>\n      <th>PrivateWork</th>\n      <th>PublicWork</th>\n      <th>SelfEmployed</th>\n      <th>FamilyWork</th>\n      <th>Professional</th>\n      <th>Service</th>\n      <th>Office</th>\n      <th>Construction</th>\n      <th>Production</th>\n      <th>Drive</th>\n      <th>Carpool</th>\n      <th>Transit</th>\n      <th>Walk</th>\n      <th>OtherTransp</th>\n      <th>WorkAtHome</th>\n      <th>MeanCommute</th>\n      <th>Rent</th>\n      <th>Year</th>\n      <th>Population</th>\n      <th>Violent crime</th>\n      <th>Murder and nonnegligent manslaughter</th>\n      <th>Rape</th>\n      <th>Robbery</th>\n      <th>Aggravated assault</th>\n      <th>Property crime</th>\n      <th>Burglary</th>\n      <th>Larceny- theft</th>\n      <th>Motor vehicle theft</th>\n      <th>Arson</th>\n      <th>Crime Rate per 1000</th>\n      <th>Crime Rating</th>\n      <th>Days with AQI</th>\n      <th>Good Days</th>\n      <th>Moderate Days</th>\n      <th>Unhealthy for Sensitive Groups Days</th>\n      <th>Unhealthy Days</th>\n      <th>Very Unhealthy Days</th>\n      <th>Hazardous Days</th>\n      <th>Max AQI</th>\n      <th>90th Percentile AQI</th>\n      <th>Median AQI</th>\n      <th>Days CO</th>\n      <th>Days NO2</th>\n      <th>Days Ozone</th>\n      <th>Days SO2</th>\n      <th>Days PM2.5</th>\n      <th>Days PM10</th>\n      <th>Air Quality Index</th>\n      <th>Diversity Index</th>\n      <th>Nearest</th>\n    </tr>\n  </thead>\n  <tbody>\n    <tr>\n      <th>1</th>\n      <td>1</td>\n      <td>1</td>\n      <td>Albany</td>\n      <td>GA</td>\n      <td>31.5776</td>\n      <td>-84.1762</td>\n      <td>93421</td>\n      <td>43571</td>\n      <td>49835</td>\n      <td>2.8</td>\n      <td>29.2</td>\n      <td>65.2</td>\n      <td>0.1</td>\n      <td>0.9</td>\n      <td>0.0</td>\n      <td>1025141</td>\n      <td>199233</td>\n      <td>547674</td>\n      <td>89500</td>\n      <td>29.6</td>\n      <td>41.9</td>\n      <td>35704</td>\n      <td>16.2</td>\n      <td>71.9</td>\n      <td>23.7</td>\n      <td>4.1</td>\n      <td>0.1</td>\n      <td>30.7</td>\n      <td>21.4</td>\n      <td>23.1</td>\n      <td>8.1</td>\n      <td>16.3</td>\n      <td>78.1</td>\n      <td>12.4</td>\n      <td>1.8</td>\n      <td>2.3</td>\n      <td>0.7</td>\n      <td>4.3</td>\n      <td>19.1</td>\n      <td>814</td>\n      <td>2020</td>\n      <td>74989</td>\n      <td>790</td>\n      <td>12</td>\n      <td>32</td>\n      <td>165</td>\n      <td>581</td>\n      <td>3452</td>\n      <td>729</td>\n      <td>2489</td>\n      <td>234</td>\n      <td>17</td>\n      <td>56.57</td>\n      <td>High</td>\n      <td>244</td>\n      <td>182</td>\n      <td>60</td>\n      <td>2</td>\n      <td>0</td>\n      <td>0</td>\n      <td>0</td>\n      <td>114</td>\n      <td>63</td>\n      <td>37</td>\n      <td>0</td>\n      <td>0</td>\n      <td>0</td>\n      <td>0</td>\n      <td>244</td>\n      <td>0</td>\n      <td>Good</td>\n      <td>0.488771</td>\n      <td>170,395,146,373,265</td>\n    </tr>\n  </tbody>\n</table>\n</div>"
          },
          "metadata": {},
          "execution_count": 15
        }
      ]
    },
    {
      "cell_type": "code",
      "metadata": {
        "colab": {
          "base_uri": "https://localhost:8080/",
          "height": 170
        },
        "id": "d_hZ10bMmiEf",
        "outputId": "bb5eeaf2-dfe6-4d4c-bd0b-75d38510d8e9"
      },
      "source": [
        "merged[58:59]"
      ],
      "execution_count": 16,
      "outputs": [
        {
          "output_type": "execute_result",
          "data": {
            "text/plain": [
              "     Unnamed: 0  Index        City State      lat      lon  TotalPop    Men  \\\n",
              "257         257    257  New London    CT  41.3502 -72.1023     27166  12966   \n",
              "\n",
              "     Women  Hispanic  White  Black  Native  Asian  Pacific  Income  IncomeErr  \\\n",
              "257  14197      33.0   45.2   13.7     0.0    2.5      0.1  274407      65765   \n",
              "\n",
              "     IncomePerCap  IncomePerCapErr  Poverty  ChildPoverty  Employed  \\\n",
              "257        163353            27573     29.6          45.5     12040   \n",
              "\n",
              "     Unemployment  PrivateWork  PublicWork  SelfEmployed  FamilyWork  \\\n",
              "257          11.9         82.5        12.7           4.7         0.0   \n",
              "\n",
              "     Professional  Service  Office  Construction  Production  Drive  Carpool  \\\n",
              "257          32.4     31.3    20.6           5.5        10.0   67.3      9.7   \n",
              "\n",
              "     Transit  Walk  OtherTransp  WorkAtHome  MeanCommute  Rent  Year  \\\n",
              "257      3.3  10.7          2.4         6.5         17.7  1303  2020   \n",
              "\n",
              "     Population  Violent crime  Murder and nonnegligent manslaughter  Rape  \\\n",
              "257       26856             79                                     0    19   \n",
              "\n",
              "     Robbery  Aggravated assault  Property crime  Burglary  Larceny- theft  \\\n",
              "257       32                  28             461        90             329   \n",
              "\n",
              "     Motor vehicle theft  Arson  Crime Rate per 1000 Crime Rating  \\\n",
              "257                   42      4                20.11          Low   \n",
              "\n",
              "     Days with AQI  Good Days  Moderate Days  \\\n",
              "257            181        164             17   \n",
              "\n",
              "     Unhealthy for Sensitive Groups Days  Unhealthy Days  Very Unhealthy Days  \\\n",
              "257                                    0               0                    0   \n",
              "\n",
              "     Hazardous Days  Max AQI  90th Percentile AQI  Median AQI  Days CO  \\\n",
              "257               0       87                   50          39        0   \n",
              "\n",
              "     Days NO2  Days Ozone  Days SO2  Days PM2.5  Days PM10 Air Quality Index  \\\n",
              "257         0         108         0          73          0              Good   \n",
              "\n",
              "     Diversity Index            Nearest  \n",
              "257         0.667424  356,96,418,95,256  "
            ],
            "text/html": "<div>\n<style scoped>\n    .dataframe tbody tr th:only-of-type {\n        vertical-align: middle;\n    }\n\n    .dataframe tbody tr th {\n        vertical-align: top;\n    }\n\n    .dataframe thead th {\n        text-align: right;\n    }\n</style>\n<table border=\"1\" class=\"dataframe\">\n  <thead>\n    <tr style=\"text-align: right;\">\n      <th></th>\n      <th>Unnamed: 0</th>\n      <th>Index</th>\n      <th>City</th>\n      <th>State</th>\n      <th>lat</th>\n      <th>lon</th>\n      <th>TotalPop</th>\n      <th>Men</th>\n      <th>Women</th>\n      <th>Hispanic</th>\n      <th>White</th>\n      <th>Black</th>\n      <th>Native</th>\n      <th>Asian</th>\n      <th>Pacific</th>\n      <th>Income</th>\n      <th>IncomeErr</th>\n      <th>IncomePerCap</th>\n      <th>IncomePerCapErr</th>\n      <th>Poverty</th>\n      <th>ChildPoverty</th>\n      <th>Employed</th>\n      <th>Unemployment</th>\n      <th>PrivateWork</th>\n      <th>PublicWork</th>\n      <th>SelfEmployed</th>\n      <th>FamilyWork</th>\n      <th>Professional</th>\n      <th>Service</th>\n      <th>Office</th>\n      <th>Construction</th>\n      <th>Production</th>\n      <th>Drive</th>\n      <th>Carpool</th>\n      <th>Transit</th>\n      <th>Walk</th>\n      <th>OtherTransp</th>\n      <th>WorkAtHome</th>\n      <th>MeanCommute</th>\n      <th>Rent</th>\n      <th>Year</th>\n      <th>Population</th>\n      <th>Violent crime</th>\n      <th>Murder and nonnegligent manslaughter</th>\n      <th>Rape</th>\n      <th>Robbery</th>\n      <th>Aggravated assault</th>\n      <th>Property crime</th>\n      <th>Burglary</th>\n      <th>Larceny- theft</th>\n      <th>Motor vehicle theft</th>\n      <th>Arson</th>\n      <th>Crime Rate per 1000</th>\n      <th>Crime Rating</th>\n      <th>Days with AQI</th>\n      <th>Good Days</th>\n      <th>Moderate Days</th>\n      <th>Unhealthy for Sensitive Groups Days</th>\n      <th>Unhealthy Days</th>\n      <th>Very Unhealthy Days</th>\n      <th>Hazardous Days</th>\n      <th>Max AQI</th>\n      <th>90th Percentile AQI</th>\n      <th>Median AQI</th>\n      <th>Days CO</th>\n      <th>Days NO2</th>\n      <th>Days Ozone</th>\n      <th>Days SO2</th>\n      <th>Days PM2.5</th>\n      <th>Days PM10</th>\n      <th>Air Quality Index</th>\n      <th>Diversity Index</th>\n      <th>Nearest</th>\n    </tr>\n  </thead>\n  <tbody>\n    <tr>\n      <th>257</th>\n      <td>257</td>\n      <td>257</td>\n      <td>New London</td>\n      <td>CT</td>\n      <td>41.3502</td>\n      <td>-72.1023</td>\n      <td>27166</td>\n      <td>12966</td>\n      <td>14197</td>\n      <td>33.0</td>\n      <td>45.2</td>\n      <td>13.7</td>\n      <td>0.0</td>\n      <td>2.5</td>\n      <td>0.1</td>\n      <td>274407</td>\n      <td>65765</td>\n      <td>163353</td>\n      <td>27573</td>\n      <td>29.6</td>\n      <td>45.5</td>\n      <td>12040</td>\n      <td>11.9</td>\n      <td>82.5</td>\n      <td>12.7</td>\n      <td>4.7</td>\n      <td>0.0</td>\n      <td>32.4</td>\n      <td>31.3</td>\n      <td>20.6</td>\n      <td>5.5</td>\n      <td>10.0</td>\n      <td>67.3</td>\n      <td>9.7</td>\n      <td>3.3</td>\n      <td>10.7</td>\n      <td>2.4</td>\n      <td>6.5</td>\n      <td>17.7</td>\n      <td>1303</td>\n      <td>2020</td>\n      <td>26856</td>\n      <td>79</td>\n      <td>0</td>\n      <td>19</td>\n      <td>32</td>\n      <td>28</td>\n      <td>461</td>\n      <td>90</td>\n      <td>329</td>\n      <td>42</td>\n      <td>4</td>\n      <td>20.11</td>\n      <td>Low</td>\n      <td>181</td>\n      <td>164</td>\n      <td>17</td>\n      <td>0</td>\n      <td>0</td>\n      <td>0</td>\n      <td>0</td>\n      <td>87</td>\n      <td>50</td>\n      <td>39</td>\n      <td>0</td>\n      <td>0</td>\n      <td>108</td>\n      <td>0</td>\n      <td>73</td>\n      <td>0</td>\n      <td>Good</td>\n      <td>0.667424</td>\n      <td>356,96,418,95,256</td>\n    </tr>\n  </tbody>\n</table>\n</div>"
          },
          "metadata": {},
          "execution_count": 16
        }
      ]
    },
    {
      "cell_type": "code",
      "metadata": {
        "colab": {
          "base_uri": "https://localhost:8080/",
          "height": 170
        },
        "id": "iers9syXmiEf",
        "outputId": "fcf27076-7e0c-492c-de54-0b14e248592f"
      },
      "source": [
        "merged[350:351]"
      ],
      "execution_count": null,
      "outputs": []
    },
    {
      "cell_type": "code",
      "metadata": {
        "colab": {
          "base_uri": "https://localhost:8080/",
          "height": 170
        },
        "id": "nobStoRimiEj",
        "outputId": "5bcb8ca8-184b-4fd4-958e-ff1a008fbf93"
      },
      "source": [
        "merged[312:313]"
      ],
      "execution_count": null,
      "outputs": []
    },
    {
      "cell_type": "code",
      "metadata": {
        "colab": {
          "base_uri": "https://localhost:8080/",
          "height": 188
        },
        "id": "SvGVGIg0miEl",
        "outputId": "3bd02150-f47c-4237-fb56-07dfe0017749"
      },
      "source": [
        "merged[377:378]"
      ],
      "execution_count": null,
      "outputs": []
    },
    {
      "cell_type": "markdown",
      "metadata": {
        "id": "Q0ReIfYClhyZ"
      },
      "source": [
        "### DROP COLUMNS"
      ]
    },
    {
      "cell_type": "code",
      "metadata": {
        "id": "MvnqNufgllmV"
      },
      "source": [
        "merged = merged.drop(columns=['Unnamed_0','Index'], axis=1)"
      ],
      "execution_count": null,
      "outputs": []
    },
    {
      "cell_type": "code",
      "metadata": {
        "colab": {
          "base_uri": "https://localhost:8080/",
          "height": 296
        },
        "id": "BysYJ-RToDkv",
        "outputId": "ec468f73-6d29-4840-fc27-b0cefdf4f7be"
      },
      "source": [
        "merged.head()"
      ],
      "execution_count": null,
      "outputs": []
    },
    {
      "cell_type": "markdown",
      "metadata": {
        "id": "MrcN3BDOmiEm"
      },
      "source": [
        "### SAVE"
      ]
    },
    {
      "cell_type": "code",
      "metadata": {
        "id": "otLtz7lEmiEn"
      },
      "source": [
        "merged.to_csv('nn_model.csv', index=False)"
      ],
      "execution_count": null,
      "outputs": []
    },
    {
      "cell_type": "markdown",
      "metadata": {
        "id": "0ag49Ousngti"
      },
      "source": [
        "### UPDATE DATABASE"
      ]
    },
    {
      "cell_type": "code",
      "metadata": {
        "id": "qsCQpghbojjq"
      },
      "source": [
        "# df = pd.read_csv('nn_model.csv')"
      ],
      "execution_count": null,
      "outputs": []
    },
    {
      "cell_type": "code",
      "metadata": {
        "id": "5hBV3dAOomOM"
      },
      "source": [
        "# df.to_sql(\"data\", con=engine, method='multi', if_exists='replace')"
      ],
      "execution_count": null,
      "outputs": []
    },
    {
      "cell_type": "code",
      "metadata": {
        "id": "VBYuxetoomIE",
        "colab": {
          "base_uri": "https://localhost:8080/",
          "height": 513
        },
        "outputId": "3ef08907-a4a0-4336-fb69-9dd8bf3181ba"
      },
      "source": [
        "# pd.read_sql('data', con=engine)"
      ],
      "execution_count": null,
      "outputs": []
    }
  ]
}