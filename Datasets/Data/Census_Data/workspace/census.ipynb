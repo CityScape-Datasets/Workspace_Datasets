{
 "cells": [
  {
   "cell_type": "markdown",
   "metadata": {
    "id": "GFuzZJpj-lkX"
   },
   "source": [
    "# CENSUS DATA\n"
   ]
  },
  {
   "cell_type": "markdown",
   "metadata": {
    "id": "wyq60YZ05wIK"
   },
   "source": [
    "Assumptions:\n",
    "- When getting demographic info, assumed the percentages were from the total population\n",
    "- With employment related statistics, assumed the percentages were from the total employed."
   ]
  },
  {
   "cell_type": "markdown",
   "metadata": {
    "id": "RYwfKxUx-h1T"
   },
   "source": [
    "# EDA"
   ]
  },
  {
   "cell_type": "markdown",
   "metadata": {
    "id": "K8LjMM6n-rh_"
   },
   "source": [
    "## Data Exploration"
   ]
  },
  {
   "cell_type": "code",
   "execution_count": 1,
   "metadata": {
    "id": "4gbRQmcq0gKJ"
   },
   "outputs": [],
   "source": [
    "import pandas as pd\n",
    "import numpy as np"
   ]
  },
  {
   "cell_type": "code",
   "execution_count": 2,
   "metadata": {},
   "outputs": [],
   "source": [
    "import os"
   ]
  },
  {
   "cell_type": "code",
   "execution_count": 3,
   "metadata": {},
   "outputs": [],
   "source": [
    "path = os.getcwd()"
   ]
  },
  {
   "cell_type": "markdown",
   "metadata": {
    "id": "T_JRrF9jmJeo"
   },
   "source": [
    "### Import data"
   ]
  },
  {
   "cell_type": "markdown",
   "metadata": {
    "id": "9FTdVfIqq-qO"
   },
   "source": [
    "##### Zip Code Data\n",
    "- using for city information"
   ]
  },
  {
   "cell_type": "code",
   "execution_count": 4,
   "metadata": {},
   "outputs": [],
   "source": [
    "uszip_filename = os.path.join(path, 'uszips.csv')"
   ]
  },
  {
   "cell_type": "code",
   "execution_count": 5,
   "metadata": {},
   "outputs": [],
   "source": [
    "uszip = pd.read_csv(uszip_filename)"
   ]
  },
  {
   "cell_type": "code",
   "execution_count": 6,
   "metadata": {
    "colab": {
     "base_uri": "https://localhost:8080/",
     "height": 313
    },
    "id": "abjNE0DMJfVY",
    "outputId": "933be457-a50f-4e7c-9e84-bd589301426b"
   },
   "outputs": [
    {
     "name": "stdout",
     "output_type": "stream",
     "text": [
      "(33121, 18)\n"
     ]
    },
    {
     "data": {
      "text/html": [
       "<div>\n",
       "<style scoped>\n",
       "    .dataframe tbody tr th:only-of-type {\n",
       "        vertical-align: middle;\n",
       "    }\n",
       "\n",
       "    .dataframe tbody tr th {\n",
       "        vertical-align: top;\n",
       "    }\n",
       "\n",
       "    .dataframe thead th {\n",
       "        text-align: right;\n",
       "    }\n",
       "</style>\n",
       "<table border=\"1\" class=\"dataframe\">\n",
       "  <thead>\n",
       "    <tr style=\"text-align: right;\">\n",
       "      <th></th>\n",
       "      <th>zip</th>\n",
       "      <th>lat</th>\n",
       "      <th>lng</th>\n",
       "      <th>city</th>\n",
       "      <th>state_id</th>\n",
       "      <th>state_name</th>\n",
       "      <th>zcta</th>\n",
       "      <th>parent_zcta</th>\n",
       "      <th>population</th>\n",
       "      <th>density</th>\n",
       "      <th>county_fips</th>\n",
       "      <th>county_name</th>\n",
       "      <th>county_weights</th>\n",
       "      <th>county_names_all</th>\n",
       "      <th>county_fips_all</th>\n",
       "      <th>imprecise</th>\n",
       "      <th>military</th>\n",
       "      <th>timezone</th>\n",
       "    </tr>\n",
       "  </thead>\n",
       "  <tbody>\n",
       "    <tr>\n",
       "      <th>0</th>\n",
       "      <td>601</td>\n",
       "      <td>18.18005</td>\n",
       "      <td>-66.75218</td>\n",
       "      <td>Adjuntas</td>\n",
       "      <td>PR</td>\n",
       "      <td>Puerto Rico</td>\n",
       "      <td>True</td>\n",
       "      <td>NaN</td>\n",
       "      <td>17113.0</td>\n",
       "      <td>102.7</td>\n",
       "      <td>72001</td>\n",
       "      <td>Adjuntas</td>\n",
       "      <td>{\"72001\": \"99.43\", \"72141\": \"0.57\"}</td>\n",
       "      <td>Adjuntas|Utuado</td>\n",
       "      <td>72001|72141</td>\n",
       "      <td>False</td>\n",
       "      <td>False</td>\n",
       "      <td>America/Puerto_Rico</td>\n",
       "    </tr>\n",
       "    <tr>\n",
       "      <th>1</th>\n",
       "      <td>602</td>\n",
       "      <td>18.36074</td>\n",
       "      <td>-67.17519</td>\n",
       "      <td>Aguada</td>\n",
       "      <td>PR</td>\n",
       "      <td>Puerto Rico</td>\n",
       "      <td>True</td>\n",
       "      <td>NaN</td>\n",
       "      <td>37751.0</td>\n",
       "      <td>476.0</td>\n",
       "      <td>72003</td>\n",
       "      <td>Aguada</td>\n",
       "      <td>{\"72003\": \"100\"}</td>\n",
       "      <td>Aguada</td>\n",
       "      <td>72003</td>\n",
       "      <td>False</td>\n",
       "      <td>False</td>\n",
       "      <td>America/Puerto_Rico</td>\n",
       "    </tr>\n",
       "    <tr>\n",
       "      <th>2</th>\n",
       "      <td>603</td>\n",
       "      <td>18.45440</td>\n",
       "      <td>-67.12201</td>\n",
       "      <td>Aguadilla</td>\n",
       "      <td>PR</td>\n",
       "      <td>Puerto Rico</td>\n",
       "      <td>True</td>\n",
       "      <td>NaN</td>\n",
       "      <td>47081.0</td>\n",
       "      <td>574.9</td>\n",
       "      <td>72005</td>\n",
       "      <td>Aguadilla</td>\n",
       "      <td>{\"72005\": \"100\"}</td>\n",
       "      <td>Aguadilla</td>\n",
       "      <td>72005</td>\n",
       "      <td>False</td>\n",
       "      <td>False</td>\n",
       "      <td>America/Puerto_Rico</td>\n",
       "    </tr>\n",
       "    <tr>\n",
       "      <th>3</th>\n",
       "      <td>606</td>\n",
       "      <td>18.16721</td>\n",
       "      <td>-66.93828</td>\n",
       "      <td>Maricao</td>\n",
       "      <td>PR</td>\n",
       "      <td>Puerto Rico</td>\n",
       "      <td>True</td>\n",
       "      <td>NaN</td>\n",
       "      <td>6392.0</td>\n",
       "      <td>58.3</td>\n",
       "      <td>72093</td>\n",
       "      <td>Maricao</td>\n",
       "      <td>{\"72093\": \"94.88\", \"72153\": \"3.78\", \"72121\": \"...</td>\n",
       "      <td>Maricao|Yauco|Sabana Grande</td>\n",
       "      <td>72093|72153|72121</td>\n",
       "      <td>False</td>\n",
       "      <td>False</td>\n",
       "      <td>America/Puerto_Rico</td>\n",
       "    </tr>\n",
       "    <tr>\n",
       "      <th>4</th>\n",
       "      <td>610</td>\n",
       "      <td>18.29032</td>\n",
       "      <td>-67.12244</td>\n",
       "      <td>Anasco</td>\n",
       "      <td>PR</td>\n",
       "      <td>Puerto Rico</td>\n",
       "      <td>True</td>\n",
       "      <td>NaN</td>\n",
       "      <td>26686.0</td>\n",
       "      <td>286.9</td>\n",
       "      <td>72011</td>\n",
       "      <td>Añasco</td>\n",
       "      <td>{\"72011\": \"99.45\", \"72003\": \"0.55\"}</td>\n",
       "      <td>Añasco|Aguada</td>\n",
       "      <td>72011|72003</td>\n",
       "      <td>False</td>\n",
       "      <td>False</td>\n",
       "      <td>America/Puerto_Rico</td>\n",
       "    </tr>\n",
       "  </tbody>\n",
       "</table>\n",
       "</div>"
      ],
      "text/plain": [
       "   zip       lat       lng       city state_id   state_name  zcta  \\\n",
       "0  601  18.18005 -66.75218   Adjuntas       PR  Puerto Rico  True   \n",
       "1  602  18.36074 -67.17519     Aguada       PR  Puerto Rico  True   \n",
       "2  603  18.45440 -67.12201  Aguadilla       PR  Puerto Rico  True   \n",
       "3  606  18.16721 -66.93828    Maricao       PR  Puerto Rico  True   \n",
       "4  610  18.29032 -67.12244     Anasco       PR  Puerto Rico  True   \n",
       "\n",
       "   parent_zcta  population  density  county_fips county_name  \\\n",
       "0          NaN     17113.0    102.7        72001    Adjuntas   \n",
       "1          NaN     37751.0    476.0        72003      Aguada   \n",
       "2          NaN     47081.0    574.9        72005   Aguadilla   \n",
       "3          NaN      6392.0     58.3        72093     Maricao   \n",
       "4          NaN     26686.0    286.9        72011      Añasco   \n",
       "\n",
       "                                      county_weights  \\\n",
       "0                {\"72001\": \"99.43\", \"72141\": \"0.57\"}   \n",
       "1                                   {\"72003\": \"100\"}   \n",
       "2                                   {\"72005\": \"100\"}   \n",
       "3  {\"72093\": \"94.88\", \"72153\": \"3.78\", \"72121\": \"...   \n",
       "4                {\"72011\": \"99.45\", \"72003\": \"0.55\"}   \n",
       "\n",
       "              county_names_all    county_fips_all  imprecise  military  \\\n",
       "0              Adjuntas|Utuado        72001|72141      False     False   \n",
       "1                       Aguada              72003      False     False   \n",
       "2                    Aguadilla              72005      False     False   \n",
       "3  Maricao|Yauco|Sabana Grande  72093|72153|72121      False     False   \n",
       "4                Añasco|Aguada        72011|72003      False     False   \n",
       "\n",
       "              timezone  \n",
       "0  America/Puerto_Rico  \n",
       "1  America/Puerto_Rico  \n",
       "2  America/Puerto_Rico  \n",
       "3  America/Puerto_Rico  \n",
       "4  America/Puerto_Rico  "
      ]
     },
     "execution_count": 6,
     "metadata": {},
     "output_type": "execute_result"
    }
   ],
   "source": [
    "print(uszip.shape)\n",
    "uszip.head()"
   ]
  },
  {
   "cell_type": "code",
   "execution_count": 7,
   "metadata": {
    "id": "Q5kLKAyWJssz"
   },
   "outputs": [],
   "source": [
    "uszip['zip'] = uszip['zip'].astype('str').str.zfill(5)"
   ]
  },
  {
   "cell_type": "code",
   "execution_count": 8,
   "metadata": {
    "colab": {
     "base_uri": "https://localhost:8080/"
    },
    "id": "quCah8CQM-n4",
    "outputId": "ea7a1a6e-1f18-4e5c-fa6c-5cea69277332"
   },
   "outputs": [
    {
     "data": {
      "text/plain": [
       "33121"
      ]
     },
     "execution_count": 8,
     "metadata": {},
     "output_type": "execute_result"
    }
   ],
   "source": [
    "uszip['zip'].nunique()"
   ]
  },
  {
   "cell_type": "markdown",
   "metadata": {
    "id": "6m0ZIuizrFA5"
   },
   "source": [
    "##### Census \n",
    "- Contains population, demographic, poverty, and employment data by tract"
   ]
  },
  {
   "cell_type": "code",
   "execution_count": 9,
   "metadata": {},
   "outputs": [],
   "source": [
    "census_filename = os.path.join(path, 'acs2017_census_tract_data.csv')"
   ]
  },
  {
   "cell_type": "code",
   "execution_count": 10,
   "metadata": {
    "colab": {
     "base_uri": "https://localhost:8080/",
     "height": 330
    },
    "id": "9YsioUqT1XDn",
    "outputId": "2e0a6abc-b337-4b09-e16a-29b492556036"
   },
   "outputs": [
    {
     "name": "stdout",
     "output_type": "stream",
     "text": [
      "(74001, 37)\n"
     ]
    },
    {
     "data": {
      "text/html": [
       "<div>\n",
       "<style scoped>\n",
       "    .dataframe tbody tr th:only-of-type {\n",
       "        vertical-align: middle;\n",
       "    }\n",
       "\n",
       "    .dataframe tbody tr th {\n",
       "        vertical-align: top;\n",
       "    }\n",
       "\n",
       "    .dataframe thead th {\n",
       "        text-align: right;\n",
       "    }\n",
       "</style>\n",
       "<table border=\"1\" class=\"dataframe\">\n",
       "  <thead>\n",
       "    <tr style=\"text-align: right;\">\n",
       "      <th></th>\n",
       "      <th>TractId</th>\n",
       "      <th>State</th>\n",
       "      <th>County</th>\n",
       "      <th>TotalPop</th>\n",
       "      <th>Men</th>\n",
       "      <th>Women</th>\n",
       "      <th>Hispanic</th>\n",
       "      <th>White</th>\n",
       "      <th>Black</th>\n",
       "      <th>Native</th>\n",
       "      <th>...</th>\n",
       "      <th>Walk</th>\n",
       "      <th>OtherTransp</th>\n",
       "      <th>WorkAtHome</th>\n",
       "      <th>MeanCommute</th>\n",
       "      <th>Employed</th>\n",
       "      <th>PrivateWork</th>\n",
       "      <th>PublicWork</th>\n",
       "      <th>SelfEmployed</th>\n",
       "      <th>FamilyWork</th>\n",
       "      <th>Unemployment</th>\n",
       "    </tr>\n",
       "  </thead>\n",
       "  <tbody>\n",
       "    <tr>\n",
       "      <th>0</th>\n",
       "      <td>1001020100</td>\n",
       "      <td>Alabama</td>\n",
       "      <td>Autauga County</td>\n",
       "      <td>1845</td>\n",
       "      <td>899</td>\n",
       "      <td>946</td>\n",
       "      <td>2.4</td>\n",
       "      <td>86.3</td>\n",
       "      <td>5.2</td>\n",
       "      <td>0.0</td>\n",
       "      <td>...</td>\n",
       "      <td>0.5</td>\n",
       "      <td>0.0</td>\n",
       "      <td>2.1</td>\n",
       "      <td>24.5</td>\n",
       "      <td>881</td>\n",
       "      <td>74.2</td>\n",
       "      <td>21.2</td>\n",
       "      <td>4.5</td>\n",
       "      <td>0.0</td>\n",
       "      <td>4.6</td>\n",
       "    </tr>\n",
       "    <tr>\n",
       "      <th>1</th>\n",
       "      <td>1001020200</td>\n",
       "      <td>Alabama</td>\n",
       "      <td>Autauga County</td>\n",
       "      <td>2172</td>\n",
       "      <td>1167</td>\n",
       "      <td>1005</td>\n",
       "      <td>1.1</td>\n",
       "      <td>41.6</td>\n",
       "      <td>54.5</td>\n",
       "      <td>0.0</td>\n",
       "      <td>...</td>\n",
       "      <td>0.0</td>\n",
       "      <td>0.5</td>\n",
       "      <td>0.0</td>\n",
       "      <td>22.2</td>\n",
       "      <td>852</td>\n",
       "      <td>75.9</td>\n",
       "      <td>15.0</td>\n",
       "      <td>9.0</td>\n",
       "      <td>0.0</td>\n",
       "      <td>3.4</td>\n",
       "    </tr>\n",
       "    <tr>\n",
       "      <th>2</th>\n",
       "      <td>1001020300</td>\n",
       "      <td>Alabama</td>\n",
       "      <td>Autauga County</td>\n",
       "      <td>3385</td>\n",
       "      <td>1533</td>\n",
       "      <td>1852</td>\n",
       "      <td>8.0</td>\n",
       "      <td>61.4</td>\n",
       "      <td>26.5</td>\n",
       "      <td>0.6</td>\n",
       "      <td>...</td>\n",
       "      <td>1.0</td>\n",
       "      <td>0.8</td>\n",
       "      <td>1.5</td>\n",
       "      <td>23.1</td>\n",
       "      <td>1482</td>\n",
       "      <td>73.3</td>\n",
       "      <td>21.1</td>\n",
       "      <td>4.8</td>\n",
       "      <td>0.7</td>\n",
       "      <td>4.7</td>\n",
       "    </tr>\n",
       "    <tr>\n",
       "      <th>3</th>\n",
       "      <td>1001020400</td>\n",
       "      <td>Alabama</td>\n",
       "      <td>Autauga County</td>\n",
       "      <td>4267</td>\n",
       "      <td>2001</td>\n",
       "      <td>2266</td>\n",
       "      <td>9.6</td>\n",
       "      <td>80.3</td>\n",
       "      <td>7.1</td>\n",
       "      <td>0.5</td>\n",
       "      <td>...</td>\n",
       "      <td>1.5</td>\n",
       "      <td>2.9</td>\n",
       "      <td>2.1</td>\n",
       "      <td>25.9</td>\n",
       "      <td>1849</td>\n",
       "      <td>75.8</td>\n",
       "      <td>19.7</td>\n",
       "      <td>4.5</td>\n",
       "      <td>0.0</td>\n",
       "      <td>6.1</td>\n",
       "    </tr>\n",
       "    <tr>\n",
       "      <th>4</th>\n",
       "      <td>1001020500</td>\n",
       "      <td>Alabama</td>\n",
       "      <td>Autauga County</td>\n",
       "      <td>9965</td>\n",
       "      <td>5054</td>\n",
       "      <td>4911</td>\n",
       "      <td>0.9</td>\n",
       "      <td>77.5</td>\n",
       "      <td>16.4</td>\n",
       "      <td>0.0</td>\n",
       "      <td>...</td>\n",
       "      <td>0.8</td>\n",
       "      <td>0.3</td>\n",
       "      <td>0.7</td>\n",
       "      <td>21.0</td>\n",
       "      <td>4787</td>\n",
       "      <td>71.4</td>\n",
       "      <td>24.1</td>\n",
       "      <td>4.5</td>\n",
       "      <td>0.0</td>\n",
       "      <td>2.3</td>\n",
       "    </tr>\n",
       "  </tbody>\n",
       "</table>\n",
       "<p>5 rows × 37 columns</p>\n",
       "</div>"
      ],
      "text/plain": [
       "      TractId    State          County  TotalPop   Men  Women  Hispanic  \\\n",
       "0  1001020100  Alabama  Autauga County      1845   899    946       2.4   \n",
       "1  1001020200  Alabama  Autauga County      2172  1167   1005       1.1   \n",
       "2  1001020300  Alabama  Autauga County      3385  1533   1852       8.0   \n",
       "3  1001020400  Alabama  Autauga County      4267  2001   2266       9.6   \n",
       "4  1001020500  Alabama  Autauga County      9965  5054   4911       0.9   \n",
       "\n",
       "   White  Black  Native  ...  Walk  OtherTransp  WorkAtHome  MeanCommute  \\\n",
       "0   86.3    5.2     0.0  ...   0.5          0.0         2.1         24.5   \n",
       "1   41.6   54.5     0.0  ...   0.0          0.5         0.0         22.2   \n",
       "2   61.4   26.5     0.6  ...   1.0          0.8         1.5         23.1   \n",
       "3   80.3    7.1     0.5  ...   1.5          2.9         2.1         25.9   \n",
       "4   77.5   16.4     0.0  ...   0.8          0.3         0.7         21.0   \n",
       "\n",
       "   Employed  PrivateWork  PublicWork  SelfEmployed  FamilyWork  Unemployment  \n",
       "0       881         74.2        21.2           4.5         0.0           4.6  \n",
       "1       852         75.9        15.0           9.0         0.0           3.4  \n",
       "2      1482         73.3        21.1           4.8         0.7           4.7  \n",
       "3      1849         75.8        19.7           4.5         0.0           6.1  \n",
       "4      4787         71.4        24.1           4.5         0.0           2.3  \n",
       "\n",
       "[5 rows x 37 columns]"
      ]
     },
     "execution_count": 10,
     "metadata": {},
     "output_type": "execute_result"
    }
   ],
   "source": [
    "df = pd.read_csv(census_filename)\n",
    "print(df.shape)\n",
    "df.head()"
   ]
  },
  {
   "cell_type": "code",
   "execution_count": 11,
   "metadata": {
    "colab": {
     "base_uri": "https://localhost:8080/"
    },
    "id": "lfyceowRO5rB",
    "outputId": "94ab46ac-bfc5-419c-d4cd-04811f09737f"
   },
   "outputs": [
    {
     "data": {
      "text/plain": [
       "74001"
      ]
     },
     "execution_count": 11,
     "metadata": {},
     "output_type": "execute_result"
    }
   ],
   "source": [
    "df['TractId'].nunique()"
   ]
  },
  {
   "cell_type": "markdown",
   "metadata": {
    "id": "jd5KIFAcrOtr"
   },
   "source": [
    "##### Tract to Zip\n",
    "- maps census tracts to zip codes"
   ]
  },
  {
   "cell_type": "code",
   "execution_count": 12,
   "metadata": {},
   "outputs": [],
   "source": [
    "tract_zip_filename = os.path.join(path, 'TRACT_ZIP_122017.xlsx')"
   ]
  },
  {
   "cell_type": "code",
   "execution_count": 13,
   "metadata": {
    "id": "-J5VuUO_1ihU"
   },
   "outputs": [],
   "source": [
    "tract_zip = pd.read_excel(tract_zip_filename)"
   ]
  },
  {
   "cell_type": "code",
   "execution_count": 14,
   "metadata": {
    "colab": {
     "base_uri": "https://localhost:8080/",
     "height": 224
    },
    "id": "umqYSfyQ1rdu",
    "outputId": "401d347a-4995-4f9b-f162-939ec6d50494"
   },
   "outputs": [
    {
     "name": "stdout",
     "output_type": "stream",
     "text": [
      "(168662, 6)\n"
     ]
    },
    {
     "data": {
      "text/html": [
       "<div>\n",
       "<style scoped>\n",
       "    .dataframe tbody tr th:only-of-type {\n",
       "        vertical-align: middle;\n",
       "    }\n",
       "\n",
       "    .dataframe tbody tr th {\n",
       "        vertical-align: top;\n",
       "    }\n",
       "\n",
       "    .dataframe thead th {\n",
       "        text-align: right;\n",
       "    }\n",
       "</style>\n",
       "<table border=\"1\" class=\"dataframe\">\n",
       "  <thead>\n",
       "    <tr style=\"text-align: right;\">\n",
       "      <th></th>\n",
       "      <th>tract</th>\n",
       "      <th>zip</th>\n",
       "      <th>res_ratio</th>\n",
       "      <th>bus_ratio</th>\n",
       "      <th>oth_ratio</th>\n",
       "      <th>tot_ratio</th>\n",
       "    </tr>\n",
       "  </thead>\n",
       "  <tbody>\n",
       "    <tr>\n",
       "      <th>0</th>\n",
       "      <td>1001020100</td>\n",
       "      <td>36067</td>\n",
       "      <td>1.000000</td>\n",
       "      <td>1.000000</td>\n",
       "      <td>1.00</td>\n",
       "      <td>1.000000</td>\n",
       "    </tr>\n",
       "    <tr>\n",
       "      <th>1</th>\n",
       "      <td>1001020200</td>\n",
       "      <td>36008</td>\n",
       "      <td>0.028243</td>\n",
       "      <td>0.012987</td>\n",
       "      <td>0.00</td>\n",
       "      <td>0.023846</td>\n",
       "    </tr>\n",
       "    <tr>\n",
       "      <th>2</th>\n",
       "      <td>1001020200</td>\n",
       "      <td>36067</td>\n",
       "      <td>0.971757</td>\n",
       "      <td>0.987013</td>\n",
       "      <td>1.00</td>\n",
       "      <td>0.976154</td>\n",
       "    </tr>\n",
       "    <tr>\n",
       "      <th>3</th>\n",
       "      <td>1001020300</td>\n",
       "      <td>36067</td>\n",
       "      <td>1.000000</td>\n",
       "      <td>1.000000</td>\n",
       "      <td>1.00</td>\n",
       "      <td>1.000000</td>\n",
       "    </tr>\n",
       "    <tr>\n",
       "      <th>4</th>\n",
       "      <td>1001020400</td>\n",
       "      <td>36067</td>\n",
       "      <td>0.025543</td>\n",
       "      <td>0.585987</td>\n",
       "      <td>0.25</td>\n",
       "      <td>0.071038</td>\n",
       "    </tr>\n",
       "  </tbody>\n",
       "</table>\n",
       "</div>"
      ],
      "text/plain": [
       "        tract    zip  res_ratio  bus_ratio  oth_ratio  tot_ratio\n",
       "0  1001020100  36067   1.000000   1.000000       1.00   1.000000\n",
       "1  1001020200  36008   0.028243   0.012987       0.00   0.023846\n",
       "2  1001020200  36067   0.971757   0.987013       1.00   0.976154\n",
       "3  1001020300  36067   1.000000   1.000000       1.00   1.000000\n",
       "4  1001020400  36067   0.025543   0.585987       0.25   0.071038"
      ]
     },
     "execution_count": 14,
     "metadata": {},
     "output_type": "execute_result"
    }
   ],
   "source": [
    "print(tract_zip.shape)\n",
    "tract_zip.head()"
   ]
  },
  {
   "cell_type": "code",
   "execution_count": 15,
   "metadata": {
    "id": "C7K0sV4_1yXK"
   },
   "outputs": [],
   "source": [
    "tract_zip = tract_zip[['tract', 'zip', 'res_ratio']]"
   ]
  },
  {
   "cell_type": "code",
   "execution_count": 16,
   "metadata": {
    "id": "3GwD9XN-2SUn"
   },
   "outputs": [],
   "source": [
    "tract_zip = tract_zip.rename(columns = {'tract':'TractId'})"
   ]
  },
  {
   "cell_type": "code",
   "execution_count": 17,
   "metadata": {
    "colab": {
     "base_uri": "https://localhost:8080/"
    },
    "id": "mOfFSPCzr4v0",
    "outputId": "82a05ec3-9e0e-4fb3-f007-aa6d612ed096"
   },
   "outputs": [
    {
     "data": {
      "text/plain": [
       "39301"
      ]
     },
     "execution_count": 17,
     "metadata": {},
     "output_type": "execute_result"
    }
   ],
   "source": [
    "tract_zip['zip'].nunique()"
   ]
  },
  {
   "cell_type": "code",
   "execution_count": 18,
   "metadata": {
    "colab": {
     "base_uri": "https://localhost:8080/"
    },
    "id": "c8xIOopiPAU9",
    "outputId": "4e98022c-9936-42b4-dbea-8c341345ff3e"
   },
   "outputs": [
    {
     "data": {
      "text/plain": [
       "73584"
      ]
     },
     "execution_count": 18,
     "metadata": {},
     "output_type": "execute_result"
    }
   ],
   "source": [
    "tract_zip['TractId'].nunique()"
   ]
  },
  {
   "cell_type": "markdown",
   "metadata": {
    "id": "zcNYhSmR-xF7"
   },
   "source": [
    "## Merge Census with Tract_Zip Data"
   ]
  },
  {
   "cell_type": "code",
   "execution_count": 19,
   "metadata": {
    "id": "s6dD-1yE2Kvq"
   },
   "outputs": [],
   "source": [
    "merge = df.merge(tract_zip, on=['TractId'])"
   ]
  },
  {
   "cell_type": "code",
   "execution_count": 20,
   "metadata": {
    "colab": {
     "base_uri": "https://localhost:8080/",
     "height": 330
    },
    "id": "s0gOAoKo2jhp",
    "outputId": "608c5843-a081-4182-e97b-1325602643d0"
   },
   "outputs": [
    {
     "name": "stdout",
     "output_type": "stream",
     "text": [
      "(168385, 39)\n"
     ]
    },
    {
     "data": {
      "text/html": [
       "<div>\n",
       "<style scoped>\n",
       "    .dataframe tbody tr th:only-of-type {\n",
       "        vertical-align: middle;\n",
       "    }\n",
       "\n",
       "    .dataframe tbody tr th {\n",
       "        vertical-align: top;\n",
       "    }\n",
       "\n",
       "    .dataframe thead th {\n",
       "        text-align: right;\n",
       "    }\n",
       "</style>\n",
       "<table border=\"1\" class=\"dataframe\">\n",
       "  <thead>\n",
       "    <tr style=\"text-align: right;\">\n",
       "      <th></th>\n",
       "      <th>TractId</th>\n",
       "      <th>State</th>\n",
       "      <th>County</th>\n",
       "      <th>TotalPop</th>\n",
       "      <th>Men</th>\n",
       "      <th>Women</th>\n",
       "      <th>Hispanic</th>\n",
       "      <th>White</th>\n",
       "      <th>Black</th>\n",
       "      <th>Native</th>\n",
       "      <th>...</th>\n",
       "      <th>WorkAtHome</th>\n",
       "      <th>MeanCommute</th>\n",
       "      <th>Employed</th>\n",
       "      <th>PrivateWork</th>\n",
       "      <th>PublicWork</th>\n",
       "      <th>SelfEmployed</th>\n",
       "      <th>FamilyWork</th>\n",
       "      <th>Unemployment</th>\n",
       "      <th>zip</th>\n",
       "      <th>res_ratio</th>\n",
       "    </tr>\n",
       "  </thead>\n",
       "  <tbody>\n",
       "    <tr>\n",
       "      <th>0</th>\n",
       "      <td>1001020100</td>\n",
       "      <td>Alabama</td>\n",
       "      <td>Autauga County</td>\n",
       "      <td>1845</td>\n",
       "      <td>899</td>\n",
       "      <td>946</td>\n",
       "      <td>2.4</td>\n",
       "      <td>86.3</td>\n",
       "      <td>5.2</td>\n",
       "      <td>0.0</td>\n",
       "      <td>...</td>\n",
       "      <td>2.1</td>\n",
       "      <td>24.5</td>\n",
       "      <td>881</td>\n",
       "      <td>74.2</td>\n",
       "      <td>21.2</td>\n",
       "      <td>4.5</td>\n",
       "      <td>0.0</td>\n",
       "      <td>4.6</td>\n",
       "      <td>36067</td>\n",
       "      <td>1.000000</td>\n",
       "    </tr>\n",
       "    <tr>\n",
       "      <th>1</th>\n",
       "      <td>1001020200</td>\n",
       "      <td>Alabama</td>\n",
       "      <td>Autauga County</td>\n",
       "      <td>2172</td>\n",
       "      <td>1167</td>\n",
       "      <td>1005</td>\n",
       "      <td>1.1</td>\n",
       "      <td>41.6</td>\n",
       "      <td>54.5</td>\n",
       "      <td>0.0</td>\n",
       "      <td>...</td>\n",
       "      <td>0.0</td>\n",
       "      <td>22.2</td>\n",
       "      <td>852</td>\n",
       "      <td>75.9</td>\n",
       "      <td>15.0</td>\n",
       "      <td>9.0</td>\n",
       "      <td>0.0</td>\n",
       "      <td>3.4</td>\n",
       "      <td>36008</td>\n",
       "      <td>0.028243</td>\n",
       "    </tr>\n",
       "    <tr>\n",
       "      <th>2</th>\n",
       "      <td>1001020200</td>\n",
       "      <td>Alabama</td>\n",
       "      <td>Autauga County</td>\n",
       "      <td>2172</td>\n",
       "      <td>1167</td>\n",
       "      <td>1005</td>\n",
       "      <td>1.1</td>\n",
       "      <td>41.6</td>\n",
       "      <td>54.5</td>\n",
       "      <td>0.0</td>\n",
       "      <td>...</td>\n",
       "      <td>0.0</td>\n",
       "      <td>22.2</td>\n",
       "      <td>852</td>\n",
       "      <td>75.9</td>\n",
       "      <td>15.0</td>\n",
       "      <td>9.0</td>\n",
       "      <td>0.0</td>\n",
       "      <td>3.4</td>\n",
       "      <td>36067</td>\n",
       "      <td>0.971757</td>\n",
       "    </tr>\n",
       "    <tr>\n",
       "      <th>3</th>\n",
       "      <td>1001020300</td>\n",
       "      <td>Alabama</td>\n",
       "      <td>Autauga County</td>\n",
       "      <td>3385</td>\n",
       "      <td>1533</td>\n",
       "      <td>1852</td>\n",
       "      <td>8.0</td>\n",
       "      <td>61.4</td>\n",
       "      <td>26.5</td>\n",
       "      <td>0.6</td>\n",
       "      <td>...</td>\n",
       "      <td>1.5</td>\n",
       "      <td>23.1</td>\n",
       "      <td>1482</td>\n",
       "      <td>73.3</td>\n",
       "      <td>21.1</td>\n",
       "      <td>4.8</td>\n",
       "      <td>0.7</td>\n",
       "      <td>4.7</td>\n",
       "      <td>36067</td>\n",
       "      <td>1.000000</td>\n",
       "    </tr>\n",
       "    <tr>\n",
       "      <th>4</th>\n",
       "      <td>1001020400</td>\n",
       "      <td>Alabama</td>\n",
       "      <td>Autauga County</td>\n",
       "      <td>4267</td>\n",
       "      <td>2001</td>\n",
       "      <td>2266</td>\n",
       "      <td>9.6</td>\n",
       "      <td>80.3</td>\n",
       "      <td>7.1</td>\n",
       "      <td>0.5</td>\n",
       "      <td>...</td>\n",
       "      <td>2.1</td>\n",
       "      <td>25.9</td>\n",
       "      <td>1849</td>\n",
       "      <td>75.8</td>\n",
       "      <td>19.7</td>\n",
       "      <td>4.5</td>\n",
       "      <td>0.0</td>\n",
       "      <td>6.1</td>\n",
       "      <td>36067</td>\n",
       "      <td>0.025543</td>\n",
       "    </tr>\n",
       "  </tbody>\n",
       "</table>\n",
       "<p>5 rows × 39 columns</p>\n",
       "</div>"
      ],
      "text/plain": [
       "      TractId    State          County  TotalPop   Men  Women  Hispanic  \\\n",
       "0  1001020100  Alabama  Autauga County      1845   899    946       2.4   \n",
       "1  1001020200  Alabama  Autauga County      2172  1167   1005       1.1   \n",
       "2  1001020200  Alabama  Autauga County      2172  1167   1005       1.1   \n",
       "3  1001020300  Alabama  Autauga County      3385  1533   1852       8.0   \n",
       "4  1001020400  Alabama  Autauga County      4267  2001   2266       9.6   \n",
       "\n",
       "   White  Black  Native  ...  WorkAtHome  MeanCommute  Employed  PrivateWork  \\\n",
       "0   86.3    5.2     0.0  ...         2.1         24.5       881         74.2   \n",
       "1   41.6   54.5     0.0  ...         0.0         22.2       852         75.9   \n",
       "2   41.6   54.5     0.0  ...         0.0         22.2       852         75.9   \n",
       "3   61.4   26.5     0.6  ...         1.5         23.1      1482         73.3   \n",
       "4   80.3    7.1     0.5  ...         2.1         25.9      1849         75.8   \n",
       "\n",
       "   PublicWork  SelfEmployed  FamilyWork  Unemployment    zip  res_ratio  \n",
       "0        21.2           4.5         0.0           4.6  36067   1.000000  \n",
       "1        15.0           9.0         0.0           3.4  36008   0.028243  \n",
       "2        15.0           9.0         0.0           3.4  36067   0.971757  \n",
       "3        21.1           4.8         0.7           4.7  36067   1.000000  \n",
       "4        19.7           4.5         0.0           6.1  36067   0.025543  \n",
       "\n",
       "[5 rows x 39 columns]"
      ]
     },
     "execution_count": 20,
     "metadata": {},
     "output_type": "execute_result"
    }
   ],
   "source": [
    "print(merge.shape)\n",
    "merge.head()"
   ]
  },
  {
   "cell_type": "markdown",
   "metadata": {
    "id": "A0CmvQNIEyHr"
   },
   "source": [
    "### Seeing what does not transfer over"
   ]
  },
  {
   "cell_type": "code",
   "execution_count": 21,
   "metadata": {
    "colab": {
     "base_uri": "https://localhost:8080/",
     "height": 670
    },
    "id": "XYPSl2eH3LZh",
    "outputId": "7ce6437f-5589-4c26-b28c-64bc469c5c16"
   },
   "outputs": [
    {
     "data": {
      "text/html": [
       "<div>\n",
       "<style scoped>\n",
       "    .dataframe tbody tr th:only-of-type {\n",
       "        vertical-align: middle;\n",
       "    }\n",
       "\n",
       "    .dataframe tbody tr th {\n",
       "        vertical-align: top;\n",
       "    }\n",
       "\n",
       "    .dataframe thead th {\n",
       "        text-align: right;\n",
       "    }\n",
       "</style>\n",
       "<table border=\"1\" class=\"dataframe\">\n",
       "  <thead>\n",
       "    <tr style=\"text-align: right;\">\n",
       "      <th></th>\n",
       "      <th>TractId</th>\n",
       "      <th>State</th>\n",
       "      <th>County</th>\n",
       "      <th>TotalPop</th>\n",
       "      <th>Men</th>\n",
       "      <th>Women</th>\n",
       "      <th>Hispanic</th>\n",
       "      <th>White</th>\n",
       "      <th>Black</th>\n",
       "      <th>Native</th>\n",
       "      <th>...</th>\n",
       "      <th>Walk</th>\n",
       "      <th>OtherTransp</th>\n",
       "      <th>WorkAtHome</th>\n",
       "      <th>MeanCommute</th>\n",
       "      <th>Employed</th>\n",
       "      <th>PrivateWork</th>\n",
       "      <th>PublicWork</th>\n",
       "      <th>SelfEmployed</th>\n",
       "      <th>FamilyWork</th>\n",
       "      <th>Unemployment</th>\n",
       "    </tr>\n",
       "  </thead>\n",
       "  <tbody>\n",
       "    <tr>\n",
       "      <th>43</th>\n",
       "      <td>1003990000</td>\n",
       "      <td>Alabama</td>\n",
       "      <td>Baldwin County</td>\n",
       "      <td>0</td>\n",
       "      <td>0</td>\n",
       "      <td>0</td>\n",
       "      <td>NaN</td>\n",
       "      <td>NaN</td>\n",
       "      <td>NaN</td>\n",
       "      <td>NaN</td>\n",
       "      <td>...</td>\n",
       "      <td>NaN</td>\n",
       "      <td>NaN</td>\n",
       "      <td>NaN</td>\n",
       "      <td>NaN</td>\n",
       "      <td>0</td>\n",
       "      <td>NaN</td>\n",
       "      <td>NaN</td>\n",
       "      <td>NaN</td>\n",
       "      <td>NaN</td>\n",
       "      <td>NaN</td>\n",
       "    </tr>\n",
       "    <tr>\n",
       "      <th>868</th>\n",
       "      <td>1097990000</td>\n",
       "      <td>Alabama</td>\n",
       "      <td>Mobile County</td>\n",
       "      <td>0</td>\n",
       "      <td>0</td>\n",
       "      <td>0</td>\n",
       "      <td>NaN</td>\n",
       "      <td>NaN</td>\n",
       "      <td>NaN</td>\n",
       "      <td>NaN</td>\n",
       "      <td>...</td>\n",
       "      <td>NaN</td>\n",
       "      <td>NaN</td>\n",
       "      <td>NaN</td>\n",
       "      <td>NaN</td>\n",
       "      <td>0</td>\n",
       "      <td>NaN</td>\n",
       "      <td>NaN</td>\n",
       "      <td>NaN</td>\n",
       "      <td>NaN</td>\n",
       "      <td>NaN</td>\n",
       "    </tr>\n",
       "    <tr>\n",
       "      <th>1266</th>\n",
       "      <td>2105000200</td>\n",
       "      <td>Alaska</td>\n",
       "      <td>Hoonah-Angoon Census Area</td>\n",
       "      <td>62</td>\n",
       "      <td>35</td>\n",
       "      <td>27</td>\n",
       "      <td>0.0</td>\n",
       "      <td>11.3</td>\n",
       "      <td>0.0</td>\n",
       "      <td>82.3</td>\n",
       "      <td>...</td>\n",
       "      <td>25.9</td>\n",
       "      <td>0.0</td>\n",
       "      <td>22.2</td>\n",
       "      <td>13.8</td>\n",
       "      <td>28</td>\n",
       "      <td>32.1</td>\n",
       "      <td>35.7</td>\n",
       "      <td>32.1</td>\n",
       "      <td>0.0</td>\n",
       "      <td>12.5</td>\n",
       "    </tr>\n",
       "    <tr>\n",
       "      <th>1324</th>\n",
       "      <td>2185000100</td>\n",
       "      <td>Alaska</td>\n",
       "      <td>North Slope Borough</td>\n",
       "      <td>4444</td>\n",
       "      <td>2366</td>\n",
       "      <td>2078</td>\n",
       "      <td>5.3</td>\n",
       "      <td>13.3</td>\n",
       "      <td>0.3</td>\n",
       "      <td>59.4</td>\n",
       "      <td>...</td>\n",
       "      <td>11.9</td>\n",
       "      <td>9.0</td>\n",
       "      <td>3.8</td>\n",
       "      <td>6.6</td>\n",
       "      <td>1800</td>\n",
       "      <td>44.3</td>\n",
       "      <td>54.4</td>\n",
       "      <td>1.3</td>\n",
       "      <td>0.0</td>\n",
       "      <td>14.2</td>\n",
       "    </tr>\n",
       "    <tr>\n",
       "      <th>1353</th>\n",
       "      <td>4001944202</td>\n",
       "      <td>Arizona</td>\n",
       "      <td>Apache County</td>\n",
       "      <td>4094</td>\n",
       "      <td>1933</td>\n",
       "      <td>2161</td>\n",
       "      <td>3.4</td>\n",
       "      <td>0.5</td>\n",
       "      <td>0.4</td>\n",
       "      <td>93.9</td>\n",
       "      <td>...</td>\n",
       "      <td>7.5</td>\n",
       "      <td>0.0</td>\n",
       "      <td>3.5</td>\n",
       "      <td>22.8</td>\n",
       "      <td>851</td>\n",
       "      <td>39.4</td>\n",
       "      <td>56.9</td>\n",
       "      <td>3.8</td>\n",
       "      <td>0.0</td>\n",
       "      <td>28.2</td>\n",
       "    </tr>\n",
       "    <tr>\n",
       "      <th>...</th>\n",
       "      <td>...</td>\n",
       "      <td>...</td>\n",
       "      <td>...</td>\n",
       "      <td>...</td>\n",
       "      <td>...</td>\n",
       "      <td>...</td>\n",
       "      <td>...</td>\n",
       "      <td>...</td>\n",
       "      <td>...</td>\n",
       "      <td>...</td>\n",
       "      <td>...</td>\n",
       "      <td>...</td>\n",
       "      <td>...</td>\n",
       "      <td>...</td>\n",
       "      <td>...</td>\n",
       "      <td>...</td>\n",
       "      <td>...</td>\n",
       "      <td>...</td>\n",
       "      <td>...</td>\n",
       "      <td>...</td>\n",
       "      <td>...</td>\n",
       "    </tr>\n",
       "    <tr>\n",
       "      <th>73982</th>\n",
       "      <td>72151950700</td>\n",
       "      <td>Puerto Rico</td>\n",
       "      <td>Yabucoa Municipio</td>\n",
       "      <td>4744</td>\n",
       "      <td>2377</td>\n",
       "      <td>2367</td>\n",
       "      <td>100.0</td>\n",
       "      <td>0.0</td>\n",
       "      <td>0.0</td>\n",
       "      <td>0.0</td>\n",
       "      <td>...</td>\n",
       "      <td>0.0</td>\n",
       "      <td>0.0</td>\n",
       "      <td>0.0</td>\n",
       "      <td>33.9</td>\n",
       "      <td>1034</td>\n",
       "      <td>61.4</td>\n",
       "      <td>36.2</td>\n",
       "      <td>2.4</td>\n",
       "      <td>0.0</td>\n",
       "      <td>17.9</td>\n",
       "    </tr>\n",
       "    <tr>\n",
       "      <th>73983</th>\n",
       "      <td>72151950800</td>\n",
       "      <td>Puerto Rico</td>\n",
       "      <td>Yabucoa Municipio</td>\n",
       "      <td>3531</td>\n",
       "      <td>1915</td>\n",
       "      <td>1616</td>\n",
       "      <td>100.0</td>\n",
       "      <td>0.0</td>\n",
       "      <td>0.0</td>\n",
       "      <td>0.0</td>\n",
       "      <td>...</td>\n",
       "      <td>2.7</td>\n",
       "      <td>2.5</td>\n",
       "      <td>0.0</td>\n",
       "      <td>25.0</td>\n",
       "      <td>780</td>\n",
       "      <td>71.0</td>\n",
       "      <td>18.2</td>\n",
       "      <td>10.8</td>\n",
       "      <td>0.0</td>\n",
       "      <td>30.4</td>\n",
       "    </tr>\n",
       "    <tr>\n",
       "      <th>73984</th>\n",
       "      <td>72151950900</td>\n",
       "      <td>Puerto Rico</td>\n",
       "      <td>Yabucoa Municipio</td>\n",
       "      <td>5822</td>\n",
       "      <td>2892</td>\n",
       "      <td>2930</td>\n",
       "      <td>99.7</td>\n",
       "      <td>0.3</td>\n",
       "      <td>0.0</td>\n",
       "      <td>0.0</td>\n",
       "      <td>...</td>\n",
       "      <td>2.3</td>\n",
       "      <td>0.0</td>\n",
       "      <td>0.0</td>\n",
       "      <td>32.3</td>\n",
       "      <td>1143</td>\n",
       "      <td>66.0</td>\n",
       "      <td>29.4</td>\n",
       "      <td>4.6</td>\n",
       "      <td>0.0</td>\n",
       "      <td>28.7</td>\n",
       "    </tr>\n",
       "    <tr>\n",
       "      <th>73989</th>\n",
       "      <td>72151990000</td>\n",
       "      <td>Puerto Rico</td>\n",
       "      <td>Yabucoa Municipio</td>\n",
       "      <td>0</td>\n",
       "      <td>0</td>\n",
       "      <td>0</td>\n",
       "      <td>NaN</td>\n",
       "      <td>NaN</td>\n",
       "      <td>NaN</td>\n",
       "      <td>NaN</td>\n",
       "      <td>...</td>\n",
       "      <td>NaN</td>\n",
       "      <td>NaN</td>\n",
       "      <td>NaN</td>\n",
       "      <td>NaN</td>\n",
       "      <td>0</td>\n",
       "      <td>NaN</td>\n",
       "      <td>NaN</td>\n",
       "      <td>NaN</td>\n",
       "      <td>NaN</td>\n",
       "      <td>NaN</td>\n",
       "    </tr>\n",
       "    <tr>\n",
       "      <th>73990</th>\n",
       "      <td>72153750101</td>\n",
       "      <td>Puerto Rico</td>\n",
       "      <td>Yauco Municipio</td>\n",
       "      <td>2462</td>\n",
       "      <td>1390</td>\n",
       "      <td>1072</td>\n",
       "      <td>99.4</td>\n",
       "      <td>0.6</td>\n",
       "      <td>0.0</td>\n",
       "      <td>0.0</td>\n",
       "      <td>...</td>\n",
       "      <td>0.0</td>\n",
       "      <td>0.0</td>\n",
       "      <td>9.0</td>\n",
       "      <td>24.4</td>\n",
       "      <td>520</td>\n",
       "      <td>74.6</td>\n",
       "      <td>16.0</td>\n",
       "      <td>9.4</td>\n",
       "      <td>0.0</td>\n",
       "      <td>20.4</td>\n",
       "    </tr>\n",
       "  </tbody>\n",
       "</table>\n",
       "<p>624 rows × 37 columns</p>\n",
       "</div>"
      ],
      "text/plain": [
       "           TractId        State                     County  TotalPop   Men  \\\n",
       "43      1003990000      Alabama             Baldwin County         0     0   \n",
       "868     1097990000      Alabama              Mobile County         0     0   \n",
       "1266    2105000200       Alaska  Hoonah-Angoon Census Area        62    35   \n",
       "1324    2185000100       Alaska        North Slope Borough      4444  2366   \n",
       "1353    4001944202      Arizona              Apache County      4094  1933   \n",
       "...            ...          ...                        ...       ...   ...   \n",
       "73982  72151950700  Puerto Rico          Yabucoa Municipio      4744  2377   \n",
       "73983  72151950800  Puerto Rico          Yabucoa Municipio      3531  1915   \n",
       "73984  72151950900  Puerto Rico          Yabucoa Municipio      5822  2892   \n",
       "73989  72151990000  Puerto Rico          Yabucoa Municipio         0     0   \n",
       "73990  72153750101  Puerto Rico            Yauco Municipio      2462  1390   \n",
       "\n",
       "       Women  Hispanic  White  Black  Native  ...  Walk  OtherTransp  \\\n",
       "43         0       NaN    NaN    NaN     NaN  ...   NaN          NaN   \n",
       "868        0       NaN    NaN    NaN     NaN  ...   NaN          NaN   \n",
       "1266      27       0.0   11.3    0.0    82.3  ...  25.9          0.0   \n",
       "1324    2078       5.3   13.3    0.3    59.4  ...  11.9          9.0   \n",
       "1353    2161       3.4    0.5    0.4    93.9  ...   7.5          0.0   \n",
       "...      ...       ...    ...    ...     ...  ...   ...          ...   \n",
       "73982   2367     100.0    0.0    0.0     0.0  ...   0.0          0.0   \n",
       "73983   1616     100.0    0.0    0.0     0.0  ...   2.7          2.5   \n",
       "73984   2930      99.7    0.3    0.0     0.0  ...   2.3          0.0   \n",
       "73989      0       NaN    NaN    NaN     NaN  ...   NaN          NaN   \n",
       "73990   1072      99.4    0.6    0.0     0.0  ...   0.0          0.0   \n",
       "\n",
       "       WorkAtHome  MeanCommute  Employed  PrivateWork  PublicWork  \\\n",
       "43            NaN          NaN         0          NaN         NaN   \n",
       "868           NaN          NaN         0          NaN         NaN   \n",
       "1266         22.2         13.8        28         32.1        35.7   \n",
       "1324          3.8          6.6      1800         44.3        54.4   \n",
       "1353          3.5         22.8       851         39.4        56.9   \n",
       "...           ...          ...       ...          ...         ...   \n",
       "73982         0.0         33.9      1034         61.4        36.2   \n",
       "73983         0.0         25.0       780         71.0        18.2   \n",
       "73984         0.0         32.3      1143         66.0        29.4   \n",
       "73989         NaN          NaN         0          NaN         NaN   \n",
       "73990         9.0         24.4       520         74.6        16.0   \n",
       "\n",
       "       SelfEmployed  FamilyWork  Unemployment  \n",
       "43              NaN         NaN           NaN  \n",
       "868             NaN         NaN           NaN  \n",
       "1266           32.1         0.0          12.5  \n",
       "1324            1.3         0.0          14.2  \n",
       "1353            3.8         0.0          28.2  \n",
       "...             ...         ...           ...  \n",
       "73982           2.4         0.0          17.9  \n",
       "73983          10.8         0.0          30.4  \n",
       "73984           4.6         0.0          28.7  \n",
       "73989           NaN         NaN           NaN  \n",
       "73990           9.4         0.0          20.4  \n",
       "\n",
       "[624 rows x 37 columns]"
      ]
     },
     "execution_count": 21,
     "metadata": {},
     "output_type": "execute_result"
    }
   ],
   "source": [
    "df[(~df.TractId.isin(merge.TractId))]"
   ]
  },
  {
   "cell_type": "code",
   "execution_count": 22,
   "metadata": {
    "colab": {
     "base_uri": "https://localhost:8080/",
     "height": 424
    },
    "id": "TuH7Q47L8PtZ",
    "outputId": "29855a38-de60-4a5b-ab4c-6db8b50c3412"
   },
   "outputs": [
    {
     "data": {
      "text/html": [
       "<div>\n",
       "<style scoped>\n",
       "    .dataframe tbody tr th:only-of-type {\n",
       "        vertical-align: middle;\n",
       "    }\n",
       "\n",
       "    .dataframe tbody tr th {\n",
       "        vertical-align: top;\n",
       "    }\n",
       "\n",
       "    .dataframe thead th {\n",
       "        text-align: right;\n",
       "    }\n",
       "</style>\n",
       "<table border=\"1\" class=\"dataframe\">\n",
       "  <thead>\n",
       "    <tr style=\"text-align: right;\">\n",
       "      <th></th>\n",
       "      <th>TractId</th>\n",
       "      <th>zip</th>\n",
       "      <th>res_ratio</th>\n",
       "    </tr>\n",
       "  </thead>\n",
       "  <tbody>\n",
       "    <tr>\n",
       "      <th>543</th>\n",
       "      <td>1037030200</td>\n",
       "      <td>36080</td>\n",
       "      <td>1.0</td>\n",
       "    </tr>\n",
       "    <tr>\n",
       "      <th>2828</th>\n",
       "      <td>1115050101</td>\n",
       "      <td>35146</td>\n",
       "      <td>1.0</td>\n",
       "    </tr>\n",
       "    <tr>\n",
       "      <th>3017</th>\n",
       "      <td>1123231500</td>\n",
       "      <td>36866</td>\n",
       "      <td>1.0</td>\n",
       "    </tr>\n",
       "    <tr>\n",
       "      <th>3673</th>\n",
       "      <td>2270000100</td>\n",
       "      <td>99563</td>\n",
       "      <td>0.0</td>\n",
       "    </tr>\n",
       "    <tr>\n",
       "      <th>3674</th>\n",
       "      <td>2270000100</td>\n",
       "      <td>99620</td>\n",
       "      <td>0.0</td>\n",
       "    </tr>\n",
       "    <tr>\n",
       "      <th>...</th>\n",
       "      <td>...</td>\n",
       "      <td>...</td>\n",
       "      <td>...</td>\n",
       "    </tr>\n",
       "    <tr>\n",
       "      <th>168657</th>\n",
       "      <td>78030960800</td>\n",
       "      <td>802</td>\n",
       "      <td>1.0</td>\n",
       "    </tr>\n",
       "    <tr>\n",
       "      <th>168658</th>\n",
       "      <td>78030960900</td>\n",
       "      <td>802</td>\n",
       "      <td>1.0</td>\n",
       "    </tr>\n",
       "    <tr>\n",
       "      <th>168659</th>\n",
       "      <td>78030961000</td>\n",
       "      <td>802</td>\n",
       "      <td>1.0</td>\n",
       "    </tr>\n",
       "    <tr>\n",
       "      <th>168660</th>\n",
       "      <td>78030961100</td>\n",
       "      <td>802</td>\n",
       "      <td>1.0</td>\n",
       "    </tr>\n",
       "    <tr>\n",
       "      <th>168661</th>\n",
       "      <td>78030961200</td>\n",
       "      <td>802</td>\n",
       "      <td>1.0</td>\n",
       "    </tr>\n",
       "  </tbody>\n",
       "</table>\n",
       "<p>277 rows × 3 columns</p>\n",
       "</div>"
      ],
      "text/plain": [
       "            TractId    zip  res_ratio\n",
       "543      1037030200  36080        1.0\n",
       "2828     1115050101  35146        1.0\n",
       "3017     1123231500  36866        1.0\n",
       "3673     2270000100  99563        0.0\n",
       "3674     2270000100  99620        0.0\n",
       "...             ...    ...        ...\n",
       "168657  78030960800    802        1.0\n",
       "168658  78030960900    802        1.0\n",
       "168659  78030961000    802        1.0\n",
       "168660  78030961100    802        1.0\n",
       "168661  78030961200    802        1.0\n",
       "\n",
       "[277 rows x 3 columns]"
      ]
     },
     "execution_count": 22,
     "metadata": {},
     "output_type": "execute_result"
    }
   ],
   "source": [
    "tract_zip[(~tract_zip.TractId.isin(merge.TractId))]"
   ]
  },
  {
   "cell_type": "markdown",
   "metadata": {
    "id": "-UH1yTHB_SH-"
   },
   "source": [
    "## Data Cleaning"
   ]
  },
  {
   "cell_type": "markdown",
   "metadata": {
    "id": "n9627GgeErxP"
   },
   "source": [
    "### isnull().sum()"
   ]
  },
  {
   "cell_type": "code",
   "execution_count": 23,
   "metadata": {
    "colab": {
     "base_uri": "https://localhost:8080/"
    },
    "id": "X8fEj9l48a43",
    "outputId": "2b5c99a0-0fec-4699-d045-1fe215419f04"
   },
   "outputs": [
    {
     "data": {
      "text/plain": [
       "TractId                0\n",
       "State                  0\n",
       "County                 0\n",
       "TotalPop               0\n",
       "Men                    0\n",
       "Women                  0\n",
       "Hispanic             506\n",
       "White                506\n",
       "Black                506\n",
       "Native               506\n",
       "Asian                506\n",
       "Pacific              506\n",
       "VotingAgeCitizen       0\n",
       "Income              1291\n",
       "IncomeErr           1291\n",
       "IncomePerCap         596\n",
       "IncomePerCapErr      596\n",
       "Poverty              710\n",
       "ChildPoverty        1286\n",
       "Professional         652\n",
       "Service              652\n",
       "Office               652\n",
       "Construction         652\n",
       "Production           652\n",
       "Drive                633\n",
       "Carpool              633\n",
       "Transit              633\n",
       "Walk                 633\n",
       "OtherTransp          633\n",
       "WorkAtHome           633\n",
       "MeanCommute          949\n",
       "Employed               0\n",
       "PrivateWork          652\n",
       "PublicWork           652\n",
       "SelfEmployed         652\n",
       "FamilyWork           652\n",
       "Unemployment         650\n",
       "zip                    0\n",
       "res_ratio              0\n",
       "dtype: int64"
      ]
     },
     "execution_count": 23,
     "metadata": {},
     "output_type": "execute_result"
    }
   ],
   "source": [
    "merge.isnull().sum()"
   ]
  },
  {
   "cell_type": "markdown",
   "metadata": {
    "id": "z0iWDMf5E8Q8"
   },
   "source": [
    "### Fill na with 0"
   ]
  },
  {
   "cell_type": "code",
   "execution_count": 24,
   "metadata": {
    "id": "iculLGYa87p9"
   },
   "outputs": [],
   "source": [
    "merge.fillna(0, inplace=True)"
   ]
  },
  {
   "cell_type": "code",
   "execution_count": 25,
   "metadata": {
    "colab": {
     "base_uri": "https://localhost:8080/"
    },
    "id": "NEmlPvPdUGml",
    "outputId": "03be07ea-7e9f-401d-8475-12bd3fbe85fe"
   },
   "outputs": [
    {
     "data": {
      "text/plain": [
       "TractId             0\n",
       "State               0\n",
       "County              0\n",
       "TotalPop            0\n",
       "Men                 0\n",
       "Women               0\n",
       "Hispanic            0\n",
       "White               0\n",
       "Black               0\n",
       "Native              0\n",
       "Asian               0\n",
       "Pacific             0\n",
       "VotingAgeCitizen    0\n",
       "Income              0\n",
       "IncomeErr           0\n",
       "IncomePerCap        0\n",
       "IncomePerCapErr     0\n",
       "Poverty             0\n",
       "ChildPoverty        0\n",
       "Professional        0\n",
       "Service             0\n",
       "Office              0\n",
       "Construction        0\n",
       "Production          0\n",
       "Drive               0\n",
       "Carpool             0\n",
       "Transit             0\n",
       "Walk                0\n",
       "OtherTransp         0\n",
       "WorkAtHome          0\n",
       "MeanCommute         0\n",
       "Employed            0\n",
       "PrivateWork         0\n",
       "PublicWork          0\n",
       "SelfEmployed        0\n",
       "FamilyWork          0\n",
       "Unemployment        0\n",
       "zip                 0\n",
       "res_ratio           0\n",
       "dtype: int64"
      ]
     },
     "execution_count": 25,
     "metadata": {},
     "output_type": "execute_result"
    }
   ],
   "source": [
    "merge.isnull().sum()"
   ]
  },
  {
   "cell_type": "code",
   "execution_count": 26,
   "metadata": {
    "colab": {
     "base_uri": "https://localhost:8080/"
    },
    "id": "Ssv7rP0D9LX7",
    "outputId": "1a7d04a2-a005-494c-ac31-e30fae8a6ad2"
   },
   "outputs": [
    {
     "data": {
      "text/plain": [
       "array(['Alabama', 'Alaska', 'Arizona', 'Arkansas', 'California',\n",
       "       'Colorado', 'Connecticut', 'Delaware', 'District of Columbia',\n",
       "       'Florida', 'Georgia', 'Hawaii', 'Idaho', 'Illinois', 'Indiana',\n",
       "       'Iowa', 'Kansas', 'Kentucky', 'Louisiana', 'Maine', 'Maryland',\n",
       "       'Massachusetts', 'Michigan', 'Minnesota', 'Mississippi',\n",
       "       'Missouri', 'Montana', 'Nebraska', 'Nevada', 'New Hampshire',\n",
       "       'New Jersey', 'New Mexico', 'New York', 'North Carolina',\n",
       "       'North Dakota', 'Ohio', 'Oklahoma', 'Oregon', 'Pennsylvania',\n",
       "       'Rhode Island', 'South Carolina', 'South Dakota', 'Tennessee',\n",
       "       'Texas', 'Utah', 'Vermont', 'Virginia', 'Washington',\n",
       "       'West Virginia', 'Wisconsin', 'Wyoming', 'Puerto Rico'],\n",
       "      dtype=object)"
      ]
     },
     "execution_count": 26,
     "metadata": {},
     "output_type": "execute_result"
    }
   ],
   "source": [
    "merge.State.unique()"
   ]
  },
  {
   "cell_type": "markdown",
   "metadata": {
    "id": "xqWzMl7gE-6H"
   },
   "source": [
    "### Remove nonstates"
   ]
  },
  {
   "cell_type": "code",
   "execution_count": 27,
   "metadata": {
    "id": "CkKsRB3b-AA7"
   },
   "outputs": [],
   "source": [
    "# Remove areas we don't have in other df\n",
    "merge = merge[merge['State'] != 'Puerto Rico']"
   ]
  },
  {
   "cell_type": "code",
   "execution_count": 28,
   "metadata": {
    "colab": {
     "base_uri": "https://localhost:8080/"
    },
    "id": "6Au545KX-UZY",
    "outputId": "1f4bfe7a-d321-4f2f-8a37-57d6d5bf37d8"
   },
   "outputs": [
    {
     "data": {
      "text/plain": [
       "51"
      ]
     },
     "execution_count": 28,
     "metadata": {},
     "output_type": "execute_result"
    }
   ],
   "source": [
    "merge['State'].nunique()"
   ]
  },
  {
   "cell_type": "markdown",
   "metadata": {
    "id": "z-cE_TA_eTiG"
   },
   "source": [
    "## Map Tracts to Zip Code\n",
    "* first get multiply % columns by total population\n",
    "* multiply % columns by employed\n",
    "* multiply residential ratio across rows"
   ]
  },
  {
   "cell_type": "markdown",
   "metadata": {
    "id": "bIXl0DwlgzNa"
   },
   "source": [
    "### Make Numbers Compatible"
   ]
  },
  {
   "cell_type": "markdown",
   "metadata": {
    "id": "supffNP4DXH0"
   },
   "source": [
    "#### Dividing certain columns by 100\n"
   ]
  },
  {
   "cell_type": "markdown",
   "metadata": {
    "id": "NLDYOzmTDmOh"
   },
   "source": [
    "##### Making sure I capture the correct columns"
   ]
  },
  {
   "cell_type": "code",
   "execution_count": 29,
   "metadata": {
    "colab": {
     "base_uri": "https://localhost:8080/",
     "height": 424
    },
    "id": "b_PjmFySRXAb",
    "outputId": "383519b0-bb44-41ac-d822-ff6ade1fd16d"
   },
   "outputs": [
    {
     "data": {
      "text/html": [
       "<div>\n",
       "<style scoped>\n",
       "    .dataframe tbody tr th:only-of-type {\n",
       "        vertical-align: middle;\n",
       "    }\n",
       "\n",
       "    .dataframe tbody tr th {\n",
       "        vertical-align: top;\n",
       "    }\n",
       "\n",
       "    .dataframe thead th {\n",
       "        text-align: right;\n",
       "    }\n",
       "</style>\n",
       "<table border=\"1\" class=\"dataframe\">\n",
       "  <thead>\n",
       "    <tr style=\"text-align: right;\">\n",
       "      <th></th>\n",
       "      <th>Hispanic</th>\n",
       "      <th>White</th>\n",
       "      <th>Black</th>\n",
       "      <th>Native</th>\n",
       "      <th>Asian</th>\n",
       "      <th>Pacific</th>\n",
       "    </tr>\n",
       "  </thead>\n",
       "  <tbody>\n",
       "    <tr>\n",
       "      <th>0</th>\n",
       "      <td>2.4</td>\n",
       "      <td>86.3</td>\n",
       "      <td>5.2</td>\n",
       "      <td>0.0</td>\n",
       "      <td>1.2</td>\n",
       "      <td>0.0</td>\n",
       "    </tr>\n",
       "    <tr>\n",
       "      <th>1</th>\n",
       "      <td>1.1</td>\n",
       "      <td>41.6</td>\n",
       "      <td>54.5</td>\n",
       "      <td>0.0</td>\n",
       "      <td>1.0</td>\n",
       "      <td>0.0</td>\n",
       "    </tr>\n",
       "    <tr>\n",
       "      <th>2</th>\n",
       "      <td>1.1</td>\n",
       "      <td>41.6</td>\n",
       "      <td>54.5</td>\n",
       "      <td>0.0</td>\n",
       "      <td>1.0</td>\n",
       "      <td>0.0</td>\n",
       "    </tr>\n",
       "    <tr>\n",
       "      <th>3</th>\n",
       "      <td>8.0</td>\n",
       "      <td>61.4</td>\n",
       "      <td>26.5</td>\n",
       "      <td>0.6</td>\n",
       "      <td>0.7</td>\n",
       "      <td>0.4</td>\n",
       "    </tr>\n",
       "    <tr>\n",
       "      <th>4</th>\n",
       "      <td>9.6</td>\n",
       "      <td>80.3</td>\n",
       "      <td>7.1</td>\n",
       "      <td>0.5</td>\n",
       "      <td>0.2</td>\n",
       "      <td>0.0</td>\n",
       "    </tr>\n",
       "    <tr>\n",
       "      <th>...</th>\n",
       "      <td>...</td>\n",
       "      <td>...</td>\n",
       "      <td>...</td>\n",
       "      <td>...</td>\n",
       "      <td>...</td>\n",
       "      <td>...</td>\n",
       "    </tr>\n",
       "    <tr>\n",
       "      <th>166947</th>\n",
       "      <td>3.0</td>\n",
       "      <td>89.4</td>\n",
       "      <td>1.0</td>\n",
       "      <td>0.1</td>\n",
       "      <td>3.0</td>\n",
       "      <td>0.0</td>\n",
       "    </tr>\n",
       "    <tr>\n",
       "      <th>166948</th>\n",
       "      <td>3.0</td>\n",
       "      <td>89.4</td>\n",
       "      <td>1.0</td>\n",
       "      <td>0.1</td>\n",
       "      <td>3.0</td>\n",
       "      <td>0.0</td>\n",
       "    </tr>\n",
       "    <tr>\n",
       "      <th>166949</th>\n",
       "      <td>3.0</td>\n",
       "      <td>89.4</td>\n",
       "      <td>1.0</td>\n",
       "      <td>0.1</td>\n",
       "      <td>3.0</td>\n",
       "      <td>0.0</td>\n",
       "    </tr>\n",
       "    <tr>\n",
       "      <th>166950</th>\n",
       "      <td>3.0</td>\n",
       "      <td>89.4</td>\n",
       "      <td>1.0</td>\n",
       "      <td>0.1</td>\n",
       "      <td>3.0</td>\n",
       "      <td>0.0</td>\n",
       "    </tr>\n",
       "    <tr>\n",
       "      <th>166951</th>\n",
       "      <td>0.1</td>\n",
       "      <td>93.6</td>\n",
       "      <td>0.0</td>\n",
       "      <td>0.1</td>\n",
       "      <td>5.4</td>\n",
       "      <td>0.0</td>\n",
       "    </tr>\n",
       "  </tbody>\n",
       "</table>\n",
       "<p>166952 rows × 6 columns</p>\n",
       "</div>"
      ],
      "text/plain": [
       "        Hispanic  White  Black  Native  Asian  Pacific\n",
       "0            2.4   86.3    5.2     0.0    1.2      0.0\n",
       "1            1.1   41.6   54.5     0.0    1.0      0.0\n",
       "2            1.1   41.6   54.5     0.0    1.0      0.0\n",
       "3            8.0   61.4   26.5     0.6    0.7      0.4\n",
       "4            9.6   80.3    7.1     0.5    0.2      0.0\n",
       "...          ...    ...    ...     ...    ...      ...\n",
       "166947       3.0   89.4    1.0     0.1    3.0      0.0\n",
       "166948       3.0   89.4    1.0     0.1    3.0      0.0\n",
       "166949       3.0   89.4    1.0     0.1    3.0      0.0\n",
       "166950       3.0   89.4    1.0     0.1    3.0      0.0\n",
       "166951       0.1   93.6    0.0     0.1    5.4      0.0\n",
       "\n",
       "[166952 rows x 6 columns]"
      ]
     },
     "execution_count": 29,
     "metadata": {},
     "output_type": "execute_result"
    }
   ],
   "source": [
    "merge.iloc[:,6:11+1]"
   ]
  },
  {
   "cell_type": "code",
   "execution_count": 30,
   "metadata": {
    "colab": {
     "base_uri": "https://localhost:8080/",
     "height": 444
    },
    "id": "GnBJwb_MDdni",
    "outputId": "bc09bdd1-5fe3-4e68-dad8-d90ac311576b"
   },
   "outputs": [
    {
     "data": {
      "text/html": [
       "<div>\n",
       "<style scoped>\n",
       "    .dataframe tbody tr th:only-of-type {\n",
       "        vertical-align: middle;\n",
       "    }\n",
       "\n",
       "    .dataframe tbody tr th {\n",
       "        vertical-align: top;\n",
       "    }\n",
       "\n",
       "    .dataframe thead th {\n",
       "        text-align: right;\n",
       "    }\n",
       "</style>\n",
       "<table border=\"1\" class=\"dataframe\">\n",
       "  <thead>\n",
       "    <tr style=\"text-align: right;\">\n",
       "      <th></th>\n",
       "      <th>Poverty</th>\n",
       "      <th>ChildPoverty</th>\n",
       "      <th>Professional</th>\n",
       "      <th>Service</th>\n",
       "      <th>Office</th>\n",
       "      <th>Construction</th>\n",
       "      <th>Production</th>\n",
       "      <th>Drive</th>\n",
       "      <th>Carpool</th>\n",
       "      <th>Transit</th>\n",
       "      <th>Walk</th>\n",
       "      <th>OtherTransp</th>\n",
       "      <th>WorkAtHome</th>\n",
       "      <th>MeanCommute</th>\n",
       "    </tr>\n",
       "  </thead>\n",
       "  <tbody>\n",
       "    <tr>\n",
       "      <th>0</th>\n",
       "      <td>10.7</td>\n",
       "      <td>20.8</td>\n",
       "      <td>38.5</td>\n",
       "      <td>15.6</td>\n",
       "      <td>22.8</td>\n",
       "      <td>10.8</td>\n",
       "      <td>12.4</td>\n",
       "      <td>94.2</td>\n",
       "      <td>3.3</td>\n",
       "      <td>0.0</td>\n",
       "      <td>0.5</td>\n",
       "      <td>0.0</td>\n",
       "      <td>2.1</td>\n",
       "      <td>24.5</td>\n",
       "    </tr>\n",
       "    <tr>\n",
       "      <th>1</th>\n",
       "      <td>22.4</td>\n",
       "      <td>35.8</td>\n",
       "      <td>30.5</td>\n",
       "      <td>24.9</td>\n",
       "      <td>22.9</td>\n",
       "      <td>6.3</td>\n",
       "      <td>15.4</td>\n",
       "      <td>90.5</td>\n",
       "      <td>9.1</td>\n",
       "      <td>0.0</td>\n",
       "      <td>0.0</td>\n",
       "      <td>0.5</td>\n",
       "      <td>0.0</td>\n",
       "      <td>22.2</td>\n",
       "    </tr>\n",
       "    <tr>\n",
       "      <th>2</th>\n",
       "      <td>22.4</td>\n",
       "      <td>35.8</td>\n",
       "      <td>30.5</td>\n",
       "      <td>24.9</td>\n",
       "      <td>22.9</td>\n",
       "      <td>6.3</td>\n",
       "      <td>15.4</td>\n",
       "      <td>90.5</td>\n",
       "      <td>9.1</td>\n",
       "      <td>0.0</td>\n",
       "      <td>0.0</td>\n",
       "      <td>0.5</td>\n",
       "      <td>0.0</td>\n",
       "      <td>22.2</td>\n",
       "    </tr>\n",
       "    <tr>\n",
       "      <th>3</th>\n",
       "      <td>14.7</td>\n",
       "      <td>21.1</td>\n",
       "      <td>27.9</td>\n",
       "      <td>19.4</td>\n",
       "      <td>33.3</td>\n",
       "      <td>9.9</td>\n",
       "      <td>9.6</td>\n",
       "      <td>88.3</td>\n",
       "      <td>8.4</td>\n",
       "      <td>0.0</td>\n",
       "      <td>1.0</td>\n",
       "      <td>0.8</td>\n",
       "      <td>1.5</td>\n",
       "      <td>23.1</td>\n",
       "    </tr>\n",
       "    <tr>\n",
       "      <th>4</th>\n",
       "      <td>2.3</td>\n",
       "      <td>1.7</td>\n",
       "      <td>29.0</td>\n",
       "      <td>16.6</td>\n",
       "      <td>25.8</td>\n",
       "      <td>9.1</td>\n",
       "      <td>19.5</td>\n",
       "      <td>82.3</td>\n",
       "      <td>11.2</td>\n",
       "      <td>0.0</td>\n",
       "      <td>1.5</td>\n",
       "      <td>2.9</td>\n",
       "      <td>2.1</td>\n",
       "      <td>25.9</td>\n",
       "    </tr>\n",
       "    <tr>\n",
       "      <th>...</th>\n",
       "      <td>...</td>\n",
       "      <td>...</td>\n",
       "      <td>...</td>\n",
       "      <td>...</td>\n",
       "      <td>...</td>\n",
       "      <td>...</td>\n",
       "      <td>...</td>\n",
       "      <td>...</td>\n",
       "      <td>...</td>\n",
       "      <td>...</td>\n",
       "      <td>...</td>\n",
       "      <td>...</td>\n",
       "      <td>...</td>\n",
       "      <td>...</td>\n",
       "    </tr>\n",
       "    <tr>\n",
       "      <th>166947</th>\n",
       "      <td>12.5</td>\n",
       "      <td>18.5</td>\n",
       "      <td>32.2</td>\n",
       "      <td>15.9</td>\n",
       "      <td>13.4</td>\n",
       "      <td>20.5</td>\n",
       "      <td>17.9</td>\n",
       "      <td>72.2</td>\n",
       "      <td>8.0</td>\n",
       "      <td>9.5</td>\n",
       "      <td>2.1</td>\n",
       "      <td>3.0</td>\n",
       "      <td>5.2</td>\n",
       "      <td>31.3</td>\n",
       "    </tr>\n",
       "    <tr>\n",
       "      <th>166948</th>\n",
       "      <td>12.5</td>\n",
       "      <td>18.5</td>\n",
       "      <td>32.2</td>\n",
       "      <td>15.9</td>\n",
       "      <td>13.4</td>\n",
       "      <td>20.5</td>\n",
       "      <td>17.9</td>\n",
       "      <td>72.2</td>\n",
       "      <td>8.0</td>\n",
       "      <td>9.5</td>\n",
       "      <td>2.1</td>\n",
       "      <td>3.0</td>\n",
       "      <td>5.2</td>\n",
       "      <td>31.3</td>\n",
       "    </tr>\n",
       "    <tr>\n",
       "      <th>166949</th>\n",
       "      <td>12.5</td>\n",
       "      <td>18.5</td>\n",
       "      <td>32.2</td>\n",
       "      <td>15.9</td>\n",
       "      <td>13.4</td>\n",
       "      <td>20.5</td>\n",
       "      <td>17.9</td>\n",
       "      <td>72.2</td>\n",
       "      <td>8.0</td>\n",
       "      <td>9.5</td>\n",
       "      <td>2.1</td>\n",
       "      <td>3.0</td>\n",
       "      <td>5.2</td>\n",
       "      <td>31.3</td>\n",
       "    </tr>\n",
       "    <tr>\n",
       "      <th>166950</th>\n",
       "      <td>12.5</td>\n",
       "      <td>18.5</td>\n",
       "      <td>32.2</td>\n",
       "      <td>15.9</td>\n",
       "      <td>13.4</td>\n",
       "      <td>20.5</td>\n",
       "      <td>17.9</td>\n",
       "      <td>72.2</td>\n",
       "      <td>8.0</td>\n",
       "      <td>9.5</td>\n",
       "      <td>2.1</td>\n",
       "      <td>3.0</td>\n",
       "      <td>5.2</td>\n",
       "      <td>31.3</td>\n",
       "    </tr>\n",
       "    <tr>\n",
       "      <th>166951</th>\n",
       "      <td>15.9</td>\n",
       "      <td>27.7</td>\n",
       "      <td>31.7</td>\n",
       "      <td>14.3</td>\n",
       "      <td>17.9</td>\n",
       "      <td>15.7</td>\n",
       "      <td>20.4</td>\n",
       "      <td>73.2</td>\n",
       "      <td>5.5</td>\n",
       "      <td>8.8</td>\n",
       "      <td>3.7</td>\n",
       "      <td>0.4</td>\n",
       "      <td>8.3</td>\n",
       "      <td>20.7</td>\n",
       "    </tr>\n",
       "  </tbody>\n",
       "</table>\n",
       "<p>166952 rows × 14 columns</p>\n",
       "</div>"
      ],
      "text/plain": [
       "        Poverty  ChildPoverty  Professional  Service  Office  Construction  \\\n",
       "0          10.7          20.8          38.5     15.6    22.8          10.8   \n",
       "1          22.4          35.8          30.5     24.9    22.9           6.3   \n",
       "2          22.4          35.8          30.5     24.9    22.9           6.3   \n",
       "3          14.7          21.1          27.9     19.4    33.3           9.9   \n",
       "4           2.3           1.7          29.0     16.6    25.8           9.1   \n",
       "...         ...           ...           ...      ...     ...           ...   \n",
       "166947     12.5          18.5          32.2     15.9    13.4          20.5   \n",
       "166948     12.5          18.5          32.2     15.9    13.4          20.5   \n",
       "166949     12.5          18.5          32.2     15.9    13.4          20.5   \n",
       "166950     12.5          18.5          32.2     15.9    13.4          20.5   \n",
       "166951     15.9          27.7          31.7     14.3    17.9          15.7   \n",
       "\n",
       "        Production  Drive  Carpool  Transit  Walk  OtherTransp  WorkAtHome  \\\n",
       "0             12.4   94.2      3.3      0.0   0.5          0.0         2.1   \n",
       "1             15.4   90.5      9.1      0.0   0.0          0.5         0.0   \n",
       "2             15.4   90.5      9.1      0.0   0.0          0.5         0.0   \n",
       "3              9.6   88.3      8.4      0.0   1.0          0.8         1.5   \n",
       "4             19.5   82.3     11.2      0.0   1.5          2.9         2.1   \n",
       "...            ...    ...      ...      ...   ...          ...         ...   \n",
       "166947        17.9   72.2      8.0      9.5   2.1          3.0         5.2   \n",
       "166948        17.9   72.2      8.0      9.5   2.1          3.0         5.2   \n",
       "166949        17.9   72.2      8.0      9.5   2.1          3.0         5.2   \n",
       "166950        17.9   72.2      8.0      9.5   2.1          3.0         5.2   \n",
       "166951        20.4   73.2      5.5      8.8   3.7          0.4         8.3   \n",
       "\n",
       "        MeanCommute  \n",
       "0              24.5  \n",
       "1              22.2  \n",
       "2              22.2  \n",
       "3              23.1  \n",
       "4              25.9  \n",
       "...             ...  \n",
       "166947         31.3  \n",
       "166948         31.3  \n",
       "166949         31.3  \n",
       "166950         31.3  \n",
       "166951         20.7  \n",
       "\n",
       "[166952 rows x 14 columns]"
      ]
     },
     "execution_count": 30,
     "metadata": {},
     "output_type": "execute_result"
    }
   ],
   "source": [
    "merge.iloc[:,17:30+1]"
   ]
  },
  {
   "cell_type": "code",
   "execution_count": 31,
   "metadata": {
    "colab": {
     "base_uri": "https://localhost:8080/",
     "height": 424
    },
    "id": "Wp83fb5QzJFx",
    "outputId": "3880caea-279d-4510-86ef-b47c878c2e8d"
   },
   "outputs": [
    {
     "data": {
      "text/html": [
       "<div>\n",
       "<style scoped>\n",
       "    .dataframe tbody tr th:only-of-type {\n",
       "        vertical-align: middle;\n",
       "    }\n",
       "\n",
       "    .dataframe tbody tr th {\n",
       "        vertical-align: top;\n",
       "    }\n",
       "\n",
       "    .dataframe thead th {\n",
       "        text-align: right;\n",
       "    }\n",
       "</style>\n",
       "<table border=\"1\" class=\"dataframe\">\n",
       "  <thead>\n",
       "    <tr style=\"text-align: right;\">\n",
       "      <th></th>\n",
       "      <th>PrivateWork</th>\n",
       "      <th>PublicWork</th>\n",
       "      <th>SelfEmployed</th>\n",
       "      <th>FamilyWork</th>\n",
       "      <th>Unemployment</th>\n",
       "    </tr>\n",
       "  </thead>\n",
       "  <tbody>\n",
       "    <tr>\n",
       "      <th>0</th>\n",
       "      <td>74.2</td>\n",
       "      <td>21.2</td>\n",
       "      <td>4.5</td>\n",
       "      <td>0.0</td>\n",
       "      <td>4.6</td>\n",
       "    </tr>\n",
       "    <tr>\n",
       "      <th>1</th>\n",
       "      <td>75.9</td>\n",
       "      <td>15.0</td>\n",
       "      <td>9.0</td>\n",
       "      <td>0.0</td>\n",
       "      <td>3.4</td>\n",
       "    </tr>\n",
       "    <tr>\n",
       "      <th>2</th>\n",
       "      <td>75.9</td>\n",
       "      <td>15.0</td>\n",
       "      <td>9.0</td>\n",
       "      <td>0.0</td>\n",
       "      <td>3.4</td>\n",
       "    </tr>\n",
       "    <tr>\n",
       "      <th>3</th>\n",
       "      <td>73.3</td>\n",
       "      <td>21.1</td>\n",
       "      <td>4.8</td>\n",
       "      <td>0.7</td>\n",
       "      <td>4.7</td>\n",
       "    </tr>\n",
       "    <tr>\n",
       "      <th>4</th>\n",
       "      <td>75.8</td>\n",
       "      <td>19.7</td>\n",
       "      <td>4.5</td>\n",
       "      <td>0.0</td>\n",
       "      <td>6.1</td>\n",
       "    </tr>\n",
       "    <tr>\n",
       "      <th>...</th>\n",
       "      <td>...</td>\n",
       "      <td>...</td>\n",
       "      <td>...</td>\n",
       "      <td>...</td>\n",
       "      <td>...</td>\n",
       "    </tr>\n",
       "    <tr>\n",
       "      <th>166947</th>\n",
       "      <td>64.6</td>\n",
       "      <td>22.9</td>\n",
       "      <td>10.9</td>\n",
       "      <td>1.6</td>\n",
       "      <td>0.4</td>\n",
       "    </tr>\n",
       "    <tr>\n",
       "      <th>166948</th>\n",
       "      <td>64.6</td>\n",
       "      <td>22.9</td>\n",
       "      <td>10.9</td>\n",
       "      <td>1.6</td>\n",
       "      <td>0.4</td>\n",
       "    </tr>\n",
       "    <tr>\n",
       "      <th>166949</th>\n",
       "      <td>64.6</td>\n",
       "      <td>22.9</td>\n",
       "      <td>10.9</td>\n",
       "      <td>1.6</td>\n",
       "      <td>0.4</td>\n",
       "    </tr>\n",
       "    <tr>\n",
       "      <th>166950</th>\n",
       "      <td>64.6</td>\n",
       "      <td>22.9</td>\n",
       "      <td>10.9</td>\n",
       "      <td>1.6</td>\n",
       "      <td>0.4</td>\n",
       "    </tr>\n",
       "    <tr>\n",
       "      <th>166951</th>\n",
       "      <td>71.3</td>\n",
       "      <td>21.1</td>\n",
       "      <td>7.0</td>\n",
       "      <td>0.6</td>\n",
       "      <td>3.7</td>\n",
       "    </tr>\n",
       "  </tbody>\n",
       "</table>\n",
       "<p>166952 rows × 5 columns</p>\n",
       "</div>"
      ],
      "text/plain": [
       "        PrivateWork  PublicWork  SelfEmployed  FamilyWork  Unemployment\n",
       "0              74.2        21.2           4.5         0.0           4.6\n",
       "1              75.9        15.0           9.0         0.0           3.4\n",
       "2              75.9        15.0           9.0         0.0           3.4\n",
       "3              73.3        21.1           4.8         0.7           4.7\n",
       "4              75.8        19.7           4.5         0.0           6.1\n",
       "...             ...         ...           ...         ...           ...\n",
       "166947         64.6        22.9          10.9         1.6           0.4\n",
       "166948         64.6        22.9          10.9         1.6           0.4\n",
       "166949         64.6        22.9          10.9         1.6           0.4\n",
       "166950         64.6        22.9          10.9         1.6           0.4\n",
       "166951         71.3        21.1           7.0         0.6           3.7\n",
       "\n",
       "[166952 rows x 5 columns]"
      ]
     },
     "execution_count": 31,
     "metadata": {},
     "output_type": "execute_result"
    }
   ],
   "source": [
    "merge.iloc[:,32:36+1]"
   ]
  },
  {
   "cell_type": "code",
   "execution_count": 32,
   "metadata": {
    "id": "IE7Y-URcDr7H"
   },
   "outputs": [],
   "source": [
    "merge.iloc[:,6:11+1] /= 100"
   ]
  },
  {
   "cell_type": "code",
   "execution_count": 33,
   "metadata": {
    "id": "tOxFl-pbD5lI"
   },
   "outputs": [],
   "source": [
    "merge.iloc[:,17:30+1] /= 100"
   ]
  },
  {
   "cell_type": "code",
   "execution_count": 34,
   "metadata": {
    "id": "rbP9M5s5w-E3"
   },
   "outputs": [],
   "source": [
    "merge.iloc[:,32:36+1] /= 100"
   ]
  },
  {
   "cell_type": "code",
   "execution_count": 35,
   "metadata": {
    "colab": {
     "base_uri": "https://localhost:8080/",
     "height": 313
    },
    "id": "FbBtTXAuEBq1",
    "outputId": "2d6a415c-0253-40a4-d116-adf730febe98"
   },
   "outputs": [
    {
     "data": {
      "text/html": [
       "<div>\n",
       "<style scoped>\n",
       "    .dataframe tbody tr th:only-of-type {\n",
       "        vertical-align: middle;\n",
       "    }\n",
       "\n",
       "    .dataframe tbody tr th {\n",
       "        vertical-align: top;\n",
       "    }\n",
       "\n",
       "    .dataframe thead th {\n",
       "        text-align: right;\n",
       "    }\n",
       "</style>\n",
       "<table border=\"1\" class=\"dataframe\">\n",
       "  <thead>\n",
       "    <tr style=\"text-align: right;\">\n",
       "      <th></th>\n",
       "      <th>TractId</th>\n",
       "      <th>State</th>\n",
       "      <th>County</th>\n",
       "      <th>TotalPop</th>\n",
       "      <th>Men</th>\n",
       "      <th>Women</th>\n",
       "      <th>Hispanic</th>\n",
       "      <th>White</th>\n",
       "      <th>Black</th>\n",
       "      <th>Native</th>\n",
       "      <th>...</th>\n",
       "      <th>WorkAtHome</th>\n",
       "      <th>MeanCommute</th>\n",
       "      <th>Employed</th>\n",
       "      <th>PrivateWork</th>\n",
       "      <th>PublicWork</th>\n",
       "      <th>SelfEmployed</th>\n",
       "      <th>FamilyWork</th>\n",
       "      <th>Unemployment</th>\n",
       "      <th>zip</th>\n",
       "      <th>res_ratio</th>\n",
       "    </tr>\n",
       "  </thead>\n",
       "  <tbody>\n",
       "    <tr>\n",
       "      <th>0</th>\n",
       "      <td>1001020100</td>\n",
       "      <td>Alabama</td>\n",
       "      <td>Autauga County</td>\n",
       "      <td>1845</td>\n",
       "      <td>899</td>\n",
       "      <td>946</td>\n",
       "      <td>0.024</td>\n",
       "      <td>0.863</td>\n",
       "      <td>0.052</td>\n",
       "      <td>0.000</td>\n",
       "      <td>...</td>\n",
       "      <td>0.021</td>\n",
       "      <td>0.245</td>\n",
       "      <td>881</td>\n",
       "      <td>0.742</td>\n",
       "      <td>0.212</td>\n",
       "      <td>0.045</td>\n",
       "      <td>0.000</td>\n",
       "      <td>0.046</td>\n",
       "      <td>36067</td>\n",
       "      <td>1.000000</td>\n",
       "    </tr>\n",
       "    <tr>\n",
       "      <th>1</th>\n",
       "      <td>1001020200</td>\n",
       "      <td>Alabama</td>\n",
       "      <td>Autauga County</td>\n",
       "      <td>2172</td>\n",
       "      <td>1167</td>\n",
       "      <td>1005</td>\n",
       "      <td>0.011</td>\n",
       "      <td>0.416</td>\n",
       "      <td>0.545</td>\n",
       "      <td>0.000</td>\n",
       "      <td>...</td>\n",
       "      <td>0.000</td>\n",
       "      <td>0.222</td>\n",
       "      <td>852</td>\n",
       "      <td>0.759</td>\n",
       "      <td>0.150</td>\n",
       "      <td>0.090</td>\n",
       "      <td>0.000</td>\n",
       "      <td>0.034</td>\n",
       "      <td>36008</td>\n",
       "      <td>0.028243</td>\n",
       "    </tr>\n",
       "    <tr>\n",
       "      <th>2</th>\n",
       "      <td>1001020200</td>\n",
       "      <td>Alabama</td>\n",
       "      <td>Autauga County</td>\n",
       "      <td>2172</td>\n",
       "      <td>1167</td>\n",
       "      <td>1005</td>\n",
       "      <td>0.011</td>\n",
       "      <td>0.416</td>\n",
       "      <td>0.545</td>\n",
       "      <td>0.000</td>\n",
       "      <td>...</td>\n",
       "      <td>0.000</td>\n",
       "      <td>0.222</td>\n",
       "      <td>852</td>\n",
       "      <td>0.759</td>\n",
       "      <td>0.150</td>\n",
       "      <td>0.090</td>\n",
       "      <td>0.000</td>\n",
       "      <td>0.034</td>\n",
       "      <td>36067</td>\n",
       "      <td>0.971757</td>\n",
       "    </tr>\n",
       "    <tr>\n",
       "      <th>3</th>\n",
       "      <td>1001020300</td>\n",
       "      <td>Alabama</td>\n",
       "      <td>Autauga County</td>\n",
       "      <td>3385</td>\n",
       "      <td>1533</td>\n",
       "      <td>1852</td>\n",
       "      <td>0.080</td>\n",
       "      <td>0.614</td>\n",
       "      <td>0.265</td>\n",
       "      <td>0.006</td>\n",
       "      <td>...</td>\n",
       "      <td>0.015</td>\n",
       "      <td>0.231</td>\n",
       "      <td>1482</td>\n",
       "      <td>0.733</td>\n",
       "      <td>0.211</td>\n",
       "      <td>0.048</td>\n",
       "      <td>0.007</td>\n",
       "      <td>0.047</td>\n",
       "      <td>36067</td>\n",
       "      <td>1.000000</td>\n",
       "    </tr>\n",
       "    <tr>\n",
       "      <th>4</th>\n",
       "      <td>1001020400</td>\n",
       "      <td>Alabama</td>\n",
       "      <td>Autauga County</td>\n",
       "      <td>4267</td>\n",
       "      <td>2001</td>\n",
       "      <td>2266</td>\n",
       "      <td>0.096</td>\n",
       "      <td>0.803</td>\n",
       "      <td>0.071</td>\n",
       "      <td>0.005</td>\n",
       "      <td>...</td>\n",
       "      <td>0.021</td>\n",
       "      <td>0.259</td>\n",
       "      <td>1849</td>\n",
       "      <td>0.758</td>\n",
       "      <td>0.197</td>\n",
       "      <td>0.045</td>\n",
       "      <td>0.000</td>\n",
       "      <td>0.061</td>\n",
       "      <td>36067</td>\n",
       "      <td>0.025543</td>\n",
       "    </tr>\n",
       "  </tbody>\n",
       "</table>\n",
       "<p>5 rows × 39 columns</p>\n",
       "</div>"
      ],
      "text/plain": [
       "      TractId    State          County  TotalPop   Men  Women  Hispanic  \\\n",
       "0  1001020100  Alabama  Autauga County      1845   899    946     0.024   \n",
       "1  1001020200  Alabama  Autauga County      2172  1167   1005     0.011   \n",
       "2  1001020200  Alabama  Autauga County      2172  1167   1005     0.011   \n",
       "3  1001020300  Alabama  Autauga County      3385  1533   1852     0.080   \n",
       "4  1001020400  Alabama  Autauga County      4267  2001   2266     0.096   \n",
       "\n",
       "   White  Black  Native  ...  WorkAtHome  MeanCommute  Employed  PrivateWork  \\\n",
       "0  0.863  0.052   0.000  ...       0.021        0.245       881        0.742   \n",
       "1  0.416  0.545   0.000  ...       0.000        0.222       852        0.759   \n",
       "2  0.416  0.545   0.000  ...       0.000        0.222       852        0.759   \n",
       "3  0.614  0.265   0.006  ...       0.015        0.231      1482        0.733   \n",
       "4  0.803  0.071   0.005  ...       0.021        0.259      1849        0.758   \n",
       "\n",
       "   PublicWork  SelfEmployed  FamilyWork  Unemployment    zip  res_ratio  \n",
       "0       0.212         0.045       0.000         0.046  36067   1.000000  \n",
       "1       0.150         0.090       0.000         0.034  36008   0.028243  \n",
       "2       0.150         0.090       0.000         0.034  36067   0.971757  \n",
       "3       0.211         0.048       0.007         0.047  36067   1.000000  \n",
       "4       0.197         0.045       0.000         0.061  36067   0.025543  \n",
       "\n",
       "[5 rows x 39 columns]"
      ]
     },
     "execution_count": 35,
     "metadata": {},
     "output_type": "execute_result"
    }
   ],
   "source": [
    "merge.head()"
   ]
  },
  {
   "cell_type": "markdown",
   "metadata": {
    "id": "Wl7lEguMEG0I"
   },
   "source": [
    "##### Multiply Columns by Total Population"
   ]
  },
  {
   "cell_type": "code",
   "execution_count": 36,
   "metadata": {
    "colab": {
     "base_uri": "https://localhost:8080/"
    },
    "id": "aFZazdPRQVS2",
    "outputId": "fbeeb1e8-bc1f-431d-8157-5c493786a311"
   },
   "outputs": [
    {
     "data": {
      "text/plain": [
       "Index(['TractId', 'State', 'County', 'TotalPop', 'Men', 'Women', 'Hispanic',\n",
       "       'White', 'Black', 'Native', 'Asian', 'Pacific', 'VotingAgeCitizen',\n",
       "       'Income', 'IncomeErr', 'IncomePerCap', 'IncomePerCapErr', 'Poverty',\n",
       "       'ChildPoverty', 'Professional', 'Service', 'Office', 'Construction',\n",
       "       'Production', 'Drive', 'Carpool', 'Transit', 'Walk', 'OtherTransp',\n",
       "       'WorkAtHome', 'MeanCommute', 'Employed', 'PrivateWork', 'PublicWork',\n",
       "       'SelfEmployed', 'FamilyWork', 'Unemployment', 'zip', 'res_ratio'],\n",
       "      dtype='object')"
      ]
     },
     "execution_count": 36,
     "metadata": {},
     "output_type": "execute_result"
    }
   ],
   "source": [
    "merge.columns"
   ]
  },
  {
   "cell_type": "code",
   "execution_count": 37,
   "metadata": {
    "id": "7SQ01QSSQhJE"
   },
   "outputs": [],
   "source": [
    "col = ['Hispanic','White', 'Black', 'Native', 'Asian', 'Pacific','Poverty',\n",
    "       'ChildPoverty','Unemployment']"
   ]
  },
  {
   "cell_type": "code",
   "execution_count": 38,
   "metadata": {
    "id": "PuYD8mBpELQb"
   },
   "outputs": [],
   "source": [
    "merge[col] = merge[col].multiply(merge['TotalPop'], axis = 'index')"
   ]
  },
  {
   "cell_type": "code",
   "execution_count": 39,
   "metadata": {
    "id": "gX38lIgJRFFm"
   },
   "outputs": [],
   "source": [
    "merge[col] = merge[col].astype(int)"
   ]
  },
  {
   "cell_type": "markdown",
   "metadata": {
    "id": "AYGmLrRmrGh9"
   },
   "source": [
    "### Multiply "
   ]
  },
  {
   "cell_type": "code",
   "execution_count": 40,
   "metadata": {
    "id": "i1SB6h_wrFOY"
   },
   "outputs": [],
   "source": [
    "employment = ['Professional', 'Service', 'Office', 'Construction', 'Production', \n",
    "              'Drive', 'Carpool', 'Transit', 'Walk', 'OtherTransp', 'WorkAtHome', \n",
    "              'MeanCommute','PrivateWork', 'PublicWork','SelfEmployed', 'FamilyWork']"
   ]
  },
  {
   "cell_type": "code",
   "execution_count": 41,
   "metadata": {
    "id": "pKLxv-mmrPXy"
   },
   "outputs": [],
   "source": [
    "merge[employment] = merge[employment].multiply(merge['Employed'], axis = 'index')"
   ]
  },
  {
   "cell_type": "code",
   "execution_count": 42,
   "metadata": {
    "id": "amUD92Q94_od"
   },
   "outputs": [],
   "source": [
    "merge[employment] = merge[employment].astype(int)"
   ]
  },
  {
   "cell_type": "markdown",
   "metadata": {
    "id": "E5lWrfJlXxfm"
   },
   "source": [
    "##### Check values"
   ]
  },
  {
   "cell_type": "code",
   "execution_count": 43,
   "metadata": {
    "colab": {
     "base_uri": "https://localhost:8080/",
     "height": 118
    },
    "id": "TfFA29BhaQDA",
    "outputId": "9563794a-0fa3-4494-ce84-2e34b4c3a9c2"
   },
   "outputs": [
    {
     "data": {
      "text/html": [
       "<div>\n",
       "<style scoped>\n",
       "    .dataframe tbody tr th:only-of-type {\n",
       "        vertical-align: middle;\n",
       "    }\n",
       "\n",
       "    .dataframe tbody tr th {\n",
       "        vertical-align: top;\n",
       "    }\n",
       "\n",
       "    .dataframe thead th {\n",
       "        text-align: right;\n",
       "    }\n",
       "</style>\n",
       "<table border=\"1\" class=\"dataframe\">\n",
       "  <thead>\n",
       "    <tr style=\"text-align: right;\">\n",
       "      <th></th>\n",
       "      <th>TractId</th>\n",
       "      <th>State</th>\n",
       "      <th>County</th>\n",
       "      <th>TotalPop</th>\n",
       "      <th>Men</th>\n",
       "      <th>Women</th>\n",
       "      <th>Hispanic</th>\n",
       "      <th>White</th>\n",
       "      <th>Black</th>\n",
       "      <th>Native</th>\n",
       "      <th>...</th>\n",
       "      <th>Walk</th>\n",
       "      <th>OtherTransp</th>\n",
       "      <th>WorkAtHome</th>\n",
       "      <th>MeanCommute</th>\n",
       "      <th>Employed</th>\n",
       "      <th>PrivateWork</th>\n",
       "      <th>PublicWork</th>\n",
       "      <th>SelfEmployed</th>\n",
       "      <th>FamilyWork</th>\n",
       "      <th>Unemployment</th>\n",
       "    </tr>\n",
       "  </thead>\n",
       "  <tbody>\n",
       "    <tr>\n",
       "      <th>73054</th>\n",
       "      <td>56045951100</td>\n",
       "      <td>Wyoming</td>\n",
       "      <td>Weston County</td>\n",
       "      <td>3329</td>\n",
       "      <td>1946</td>\n",
       "      <td>1383</td>\n",
       "      <td>3.0</td>\n",
       "      <td>89.4</td>\n",
       "      <td>1.0</td>\n",
       "      <td>0.1</td>\n",
       "      <td>...</td>\n",
       "      <td>2.1</td>\n",
       "      <td>3.0</td>\n",
       "      <td>5.2</td>\n",
       "      <td>31.3</td>\n",
       "      <td>1583</td>\n",
       "      <td>64.6</td>\n",
       "      <td>22.9</td>\n",
       "      <td>10.9</td>\n",
       "      <td>1.6</td>\n",
       "      <td>0.4</td>\n",
       "    </tr>\n",
       "  </tbody>\n",
       "</table>\n",
       "<p>1 rows × 37 columns</p>\n",
       "</div>"
      ],
      "text/plain": [
       "           TractId    State         County  TotalPop   Men  Women  Hispanic  \\\n",
       "73054  56045951100  Wyoming  Weston County      3329  1946   1383       3.0   \n",
       "\n",
       "       White  Black  Native  ...  Walk  OtherTransp  WorkAtHome  MeanCommute  \\\n",
       "73054   89.4    1.0     0.1  ...   2.1          3.0         5.2         31.3   \n",
       "\n",
       "       Employed  PrivateWork  PublicWork  SelfEmployed  FamilyWork  \\\n",
       "73054      1583         64.6        22.9          10.9         1.6   \n",
       "\n",
       "       Unemployment  \n",
       "73054           0.4  \n",
       "\n",
       "[1 rows x 37 columns]"
      ]
     },
     "execution_count": 43,
     "metadata": {},
     "output_type": "execute_result"
    }
   ],
   "source": [
    "df.loc[\n",
    "       (df.State == 'Wyoming')\n",
    "       &(df.TotalPop == 3329)\n",
    "       &(df.TractId == 56045951100)]"
   ]
  },
  {
   "cell_type": "code",
   "execution_count": 44,
   "metadata": {
    "colab": {
     "base_uri": "https://localhost:8080/",
     "height": 118
    },
    "id": "OBI8W2KYX7FH",
    "outputId": "85db9db2-9082-41ee-8ef4-c3efcb7b9eb6"
   },
   "outputs": [
    {
     "data": {
      "text/html": [
       "<div>\n",
       "<style scoped>\n",
       "    .dataframe tbody tr th:only-of-type {\n",
       "        vertical-align: middle;\n",
       "    }\n",
       "\n",
       "    .dataframe tbody tr th {\n",
       "        vertical-align: top;\n",
       "    }\n",
       "\n",
       "    .dataframe thead th {\n",
       "        text-align: right;\n",
       "    }\n",
       "</style>\n",
       "<table border=\"1\" class=\"dataframe\">\n",
       "  <thead>\n",
       "    <tr style=\"text-align: right;\">\n",
       "      <th></th>\n",
       "      <th>TractId</th>\n",
       "      <th>State</th>\n",
       "      <th>County</th>\n",
       "      <th>TotalPop</th>\n",
       "      <th>Men</th>\n",
       "      <th>Women</th>\n",
       "      <th>Hispanic</th>\n",
       "      <th>White</th>\n",
       "      <th>Black</th>\n",
       "      <th>Native</th>\n",
       "      <th>...</th>\n",
       "      <th>WorkAtHome</th>\n",
       "      <th>MeanCommute</th>\n",
       "      <th>Employed</th>\n",
       "      <th>PrivateWork</th>\n",
       "      <th>PublicWork</th>\n",
       "      <th>SelfEmployed</th>\n",
       "      <th>FamilyWork</th>\n",
       "      <th>Unemployment</th>\n",
       "      <th>zip</th>\n",
       "      <th>res_ratio</th>\n",
       "    </tr>\n",
       "  </thead>\n",
       "  <tbody>\n",
       "    <tr>\n",
       "      <th>166948</th>\n",
       "      <td>56045951100</td>\n",
       "      <td>Wyoming</td>\n",
       "      <td>Weston County</td>\n",
       "      <td>3329</td>\n",
       "      <td>1946</td>\n",
       "      <td>1383</td>\n",
       "      <td>99</td>\n",
       "      <td>2976</td>\n",
       "      <td>33</td>\n",
       "      <td>3</td>\n",
       "      <td>...</td>\n",
       "      <td>82</td>\n",
       "      <td>495</td>\n",
       "      <td>1583</td>\n",
       "      <td>1022</td>\n",
       "      <td>362</td>\n",
       "      <td>172</td>\n",
       "      <td>25</td>\n",
       "      <td>13</td>\n",
       "      <td>82729</td>\n",
       "      <td>0.002424</td>\n",
       "    </tr>\n",
       "  </tbody>\n",
       "</table>\n",
       "<p>1 rows × 39 columns</p>\n",
       "</div>"
      ],
      "text/plain": [
       "            TractId    State         County  TotalPop   Men  Women  Hispanic  \\\n",
       "166948  56045951100  Wyoming  Weston County      3329  1946   1383        99   \n",
       "\n",
       "        White  Black  Native  ...  WorkAtHome  MeanCommute  Employed  \\\n",
       "166948   2976     33       3  ...          82          495      1583   \n",
       "\n",
       "        PrivateWork  PublicWork  SelfEmployed  FamilyWork  Unemployment  \\\n",
       "166948         1022         362           172          25            13   \n",
       "\n",
       "          zip  res_ratio  \n",
       "166948  82729   0.002424  \n",
       "\n",
       "[1 rows x 39 columns]"
      ]
     },
     "execution_count": 44,
     "metadata": {},
     "output_type": "execute_result"
    }
   ],
   "source": [
    "merge.loc[166948:166948]"
   ]
  },
  {
   "cell_type": "code",
   "execution_count": 45,
   "metadata": {
    "colab": {
     "base_uri": "https://localhost:8080/"
    },
    "id": "CjIsGIb1bZ52",
    "outputId": "927d7568-4f49-474d-f9b6-bc8ebf2be1d8"
   },
   "outputs": [
    {
     "data": {
      "text/plain": [
       "99"
      ]
     },
     "execution_count": 45,
     "metadata": {},
     "output_type": "execute_result"
    }
   ],
   "source": [
    "int(3/100 * 3329)"
   ]
  },
  {
   "cell_type": "code",
   "execution_count": 46,
   "metadata": {
    "colab": {
     "base_uri": "https://localhost:8080/"
    },
    "id": "otOQyrpZcMUu",
    "outputId": "0c1e0845-d050-4f84-db04-c6f71eb72bc4"
   },
   "outputs": [
    {
     "data": {
      "text/plain": [
       "2976"
      ]
     },
     "execution_count": 46,
     "metadata": {},
     "output_type": "execute_result"
    }
   ],
   "source": [
    "int(89.4/100 * 3329)"
   ]
  },
  {
   "cell_type": "code",
   "execution_count": 47,
   "metadata": {
    "colab": {
     "base_uri": "https://localhost:8080/"
    },
    "id": "o2G3EChssMrV",
    "outputId": "cdc6697a-3453-49b3-de91-88cc5530aa2f"
   },
   "outputs": [
    {
     "data": {
      "text/plain": [
       "1022"
      ]
     },
     "execution_count": 47,
     "metadata": {},
     "output_type": "execute_result"
    }
   ],
   "source": [
    "int(64.6/100  * 1583)"
   ]
  },
  {
   "cell_type": "code",
   "execution_count": 48,
   "metadata": {
    "colab": {
     "base_uri": "https://localhost:8080/"
    },
    "id": "01DoXzGPsX6H",
    "outputId": "c6eaa962-624c-46cf-d22d-799bcb870529"
   },
   "outputs": [
    {
     "data": {
      "text/plain": [
       "25"
      ]
     },
     "execution_count": 48,
     "metadata": {},
     "output_type": "execute_result"
    }
   ],
   "source": [
    "int(1.6/100  * 1583)"
   ]
  },
  {
   "cell_type": "code",
   "execution_count": 49,
   "metadata": {
    "id": "yb5nkGKSbFCJ"
   },
   "outputs": [],
   "source": [
    "assert merge['Hispanic'][166948] == 99"
   ]
  },
  {
   "cell_type": "code",
   "execution_count": 50,
   "metadata": {
    "id": "-ynCA1U3cR6i"
   },
   "outputs": [],
   "source": [
    "assert merge['White'][166948] == 2976"
   ]
  },
  {
   "cell_type": "code",
   "execution_count": 51,
   "metadata": {
    "id": "cGOOb-NAsdZw"
   },
   "outputs": [],
   "source": [
    "assert merge['PrivateWork'][166948] == 1022"
   ]
  },
  {
   "cell_type": "code",
   "execution_count": 52,
   "metadata": {
    "id": "QE2QdcKFstWq"
   },
   "outputs": [],
   "source": [
    "assert merge['FamilyWork'][166948] == 25"
   ]
  },
  {
   "cell_type": "code",
   "execution_count": 53,
   "metadata": {
    "colab": {
     "base_uri": "https://localhost:8080/",
     "height": 118
    },
    "id": "3r8A-oKjcb5q",
    "outputId": "ba86ee6c-c9bb-4a4c-d102-dcad8abfddd8"
   },
   "outputs": [
    {
     "data": {
      "text/html": [
       "<div>\n",
       "<style scoped>\n",
       "    .dataframe tbody tr th:only-of-type {\n",
       "        vertical-align: middle;\n",
       "    }\n",
       "\n",
       "    .dataframe tbody tr th {\n",
       "        vertical-align: top;\n",
       "    }\n",
       "\n",
       "    .dataframe thead th {\n",
       "        text-align: right;\n",
       "    }\n",
       "</style>\n",
       "<table border=\"1\" class=\"dataframe\">\n",
       "  <thead>\n",
       "    <tr style=\"text-align: right;\">\n",
       "      <th></th>\n",
       "      <th>TractId</th>\n",
       "      <th>State</th>\n",
       "      <th>County</th>\n",
       "      <th>TotalPop</th>\n",
       "      <th>Men</th>\n",
       "      <th>Women</th>\n",
       "      <th>Hispanic</th>\n",
       "      <th>White</th>\n",
       "      <th>Black</th>\n",
       "      <th>Native</th>\n",
       "      <th>...</th>\n",
       "      <th>Walk</th>\n",
       "      <th>OtherTransp</th>\n",
       "      <th>WorkAtHome</th>\n",
       "      <th>MeanCommute</th>\n",
       "      <th>Employed</th>\n",
       "      <th>PrivateWork</th>\n",
       "      <th>PublicWork</th>\n",
       "      <th>SelfEmployed</th>\n",
       "      <th>FamilyWork</th>\n",
       "      <th>Unemployment</th>\n",
       "    </tr>\n",
       "  </thead>\n",
       "  <tbody>\n",
       "    <tr>\n",
       "      <th>41</th>\n",
       "      <td>1003011601</td>\n",
       "      <td>Alabama</td>\n",
       "      <td>Baldwin County</td>\n",
       "      <td>7131</td>\n",
       "      <td>3699</td>\n",
       "      <td>3432</td>\n",
       "      <td>9.7</td>\n",
       "      <td>87.6</td>\n",
       "      <td>1.4</td>\n",
       "      <td>0.7</td>\n",
       "      <td>...</td>\n",
       "      <td>0.5</td>\n",
       "      <td>0.3</td>\n",
       "      <td>8.4</td>\n",
       "      <td>29.3</td>\n",
       "      <td>3260</td>\n",
       "      <td>76.8</td>\n",
       "      <td>9.5</td>\n",
       "      <td>13.5</td>\n",
       "      <td>0.2</td>\n",
       "      <td>3.1</td>\n",
       "    </tr>\n",
       "  </tbody>\n",
       "</table>\n",
       "<p>1 rows × 37 columns</p>\n",
       "</div>"
      ],
      "text/plain": [
       "       TractId    State          County  TotalPop   Men  Women  Hispanic  \\\n",
       "41  1003011601  Alabama  Baldwin County      7131  3699   3432       9.7   \n",
       "\n",
       "    White  Black  Native  ...  Walk  OtherTransp  WorkAtHome  MeanCommute  \\\n",
       "41   87.6    1.4     0.7  ...   0.5          0.3         8.4         29.3   \n",
       "\n",
       "    Employed  PrivateWork  PublicWork  SelfEmployed  FamilyWork  Unemployment  \n",
       "41      3260         76.8         9.5          13.5         0.2           3.1  \n",
       "\n",
       "[1 rows x 37 columns]"
      ]
     },
     "execution_count": 53,
     "metadata": {},
     "output_type": "execute_result"
    }
   ],
   "source": [
    "df.loc[\n",
    "       (df.State == 'Alabama')\n",
    "       &(df.TotalPop == 7131)\n",
    "       &(df.TractId == 1003011601)]"
   ]
  },
  {
   "cell_type": "code",
   "execution_count": 54,
   "metadata": {
    "colab": {
     "base_uri": "https://localhost:8080/",
     "height": 118
    },
    "id": "Jt-x4w7IXwKQ",
    "outputId": "364f6f65-ff7f-49ee-f7ab-f1fab840b2d8"
   },
   "outputs": [
    {
     "data": {
      "text/html": [
       "<div>\n",
       "<style scoped>\n",
       "    .dataframe tbody tr th:only-of-type {\n",
       "        vertical-align: middle;\n",
       "    }\n",
       "\n",
       "    .dataframe tbody tr th {\n",
       "        vertical-align: top;\n",
       "    }\n",
       "\n",
       "    .dataframe thead th {\n",
       "        text-align: right;\n",
       "    }\n",
       "</style>\n",
       "<table border=\"1\" class=\"dataframe\">\n",
       "  <thead>\n",
       "    <tr style=\"text-align: right;\">\n",
       "      <th></th>\n",
       "      <th>TractId</th>\n",
       "      <th>State</th>\n",
       "      <th>County</th>\n",
       "      <th>TotalPop</th>\n",
       "      <th>Men</th>\n",
       "      <th>Women</th>\n",
       "      <th>Hispanic</th>\n",
       "      <th>White</th>\n",
       "      <th>Black</th>\n",
       "      <th>Native</th>\n",
       "      <th>...</th>\n",
       "      <th>WorkAtHome</th>\n",
       "      <th>MeanCommute</th>\n",
       "      <th>Employed</th>\n",
       "      <th>PrivateWork</th>\n",
       "      <th>PublicWork</th>\n",
       "      <th>SelfEmployed</th>\n",
       "      <th>FamilyWork</th>\n",
       "      <th>Unemployment</th>\n",
       "      <th>zip</th>\n",
       "      <th>res_ratio</th>\n",
       "    </tr>\n",
       "  </thead>\n",
       "  <tbody>\n",
       "    <tr>\n",
       "      <th>105</th>\n",
       "      <td>1003011601</td>\n",
       "      <td>Alabama</td>\n",
       "      <td>Baldwin County</td>\n",
       "      <td>7131</td>\n",
       "      <td>3699</td>\n",
       "      <td>3432</td>\n",
       "      <td>691</td>\n",
       "      <td>6246</td>\n",
       "      <td>99</td>\n",
       "      <td>49</td>\n",
       "      <td>...</td>\n",
       "      <td>273</td>\n",
       "      <td>955</td>\n",
       "      <td>3260</td>\n",
       "      <td>2503</td>\n",
       "      <td>309</td>\n",
       "      <td>440</td>\n",
       "      <td>6</td>\n",
       "      <td>221</td>\n",
       "      <td>36580</td>\n",
       "      <td>0.01071</td>\n",
       "    </tr>\n",
       "  </tbody>\n",
       "</table>\n",
       "<p>1 rows × 39 columns</p>\n",
       "</div>"
      ],
      "text/plain": [
       "        TractId    State          County  TotalPop   Men  Women  Hispanic  \\\n",
       "105  1003011601  Alabama  Baldwin County      7131  3699   3432       691   \n",
       "\n",
       "     White  Black  Native  ...  WorkAtHome  MeanCommute  Employed  \\\n",
       "105   6246     99      49  ...         273          955      3260   \n",
       "\n",
       "     PrivateWork  PublicWork  SelfEmployed  FamilyWork  Unemployment    zip  \\\n",
       "105         2503         309           440           6           221  36580   \n",
       "\n",
       "     res_ratio  \n",
       "105    0.01071  \n",
       "\n",
       "[1 rows x 39 columns]"
      ]
     },
     "execution_count": 54,
     "metadata": {},
     "output_type": "execute_result"
    }
   ],
   "source": [
    "merge.loc[105:105]"
   ]
  },
  {
   "cell_type": "code",
   "execution_count": 55,
   "metadata": {
    "colab": {
     "base_uri": "https://localhost:8080/"
    },
    "id": "IcYRwlcr6_MS",
    "outputId": "bae22c59-0a4e-49de-da76-8398756228a1"
   },
   "outputs": [
    {
     "data": {
      "text/plain": [
       "691"
      ]
     },
     "execution_count": 55,
     "metadata": {},
     "output_type": "execute_result"
    }
   ],
   "source": [
    "int(9.7/100 * 7131)"
   ]
  },
  {
   "cell_type": "code",
   "execution_count": 56,
   "metadata": {
    "colab": {
     "base_uri": "https://localhost:8080/"
    },
    "id": "rOjJRP_rcYXE",
    "outputId": "0e1ade98-5ef3-4fa7-9195-00e98adcda18"
   },
   "outputs": [
    {
     "data": {
      "text/plain": [
       "828"
      ]
     },
     "execution_count": 56,
     "metadata": {},
     "output_type": "execute_result"
    }
   ],
   "source": [
    "int(25.4/100 * 3260)"
   ]
  },
  {
   "cell_type": "code",
   "execution_count": 57,
   "metadata": {
    "colab": {
     "base_uri": "https://localhost:8080/"
    },
    "id": "lqOoTGeZc-eP",
    "outputId": "ebb34e8b-30c7-4b63-8483-ae4c1a2514b0"
   },
   "outputs": [
    {
     "data": {
      "text/plain": [
       "368"
      ]
     },
     "execution_count": 57,
     "metadata": {},
     "output_type": "execute_result"
    }
   ],
   "source": [
    "int(11.3/100 * 3260)"
   ]
  },
  {
   "cell_type": "code",
   "execution_count": 58,
   "metadata": {
    "colab": {
     "base_uri": "https://localhost:8080/"
    },
    "id": "YdXEQ1cwtr22",
    "outputId": "d1fc685b-9401-4f10-a010-d2e6f812b5fd"
   },
   "outputs": [
    {
     "data": {
      "text/plain": [
       "309"
      ]
     },
     "execution_count": 58,
     "metadata": {},
     "output_type": "execute_result"
    }
   ],
   "source": [
    "int(9.5/100 * 3260)"
   ]
  },
  {
   "cell_type": "code",
   "execution_count": 59,
   "metadata": {
    "colab": {
     "base_uri": "https://localhost:8080/"
    },
    "id": "lYzlc81ftv5y",
    "outputId": "b904ea40-eb45-4d92-9c79-0adb0b951673"
   },
   "outputs": [
    {
     "data": {
      "text/plain": [
       "440"
      ]
     },
     "execution_count": 59,
     "metadata": {},
     "output_type": "execute_result"
    }
   ],
   "source": [
    "int(13.5/100 * 3260)"
   ]
  },
  {
   "cell_type": "code",
   "execution_count": 60,
   "metadata": {
    "id": "I0mdSjHg7HS_"
   },
   "outputs": [],
   "source": [
    "assert merge['Hispanic'][105] == 691"
   ]
  },
  {
   "cell_type": "code",
   "execution_count": 61,
   "metadata": {
    "id": "2kqJ3sFJcwcR"
   },
   "outputs": [],
   "source": [
    "assert merge['Professional'][105] == 828"
   ]
  },
  {
   "cell_type": "code",
   "execution_count": 62,
   "metadata": {
    "id": "YDSPOKICc8KT"
   },
   "outputs": [],
   "source": [
    "assert merge['Construction'][105] == 368"
   ]
  },
  {
   "cell_type": "code",
   "execution_count": 63,
   "metadata": {
    "id": "HB3MXcpBs2lS"
   },
   "outputs": [],
   "source": [
    "assert merge['PublicWork'][105] == 309"
   ]
  },
  {
   "cell_type": "code",
   "execution_count": 64,
   "metadata": {
    "id": "24HKffA6s6vd"
   },
   "outputs": [],
   "source": [
    "assert merge['SelfEmployed'][105] == 440"
   ]
  },
  {
   "cell_type": "markdown",
   "metadata": {
    "id": "hy0IxY_ffAnr"
   },
   "source": [
    "#### Mutiply each row by residential ratio"
   ]
  },
  {
   "cell_type": "code",
   "execution_count": 65,
   "metadata": {
    "id": "PXRB0loTfGWv"
   },
   "outputs": [],
   "source": [
    "newcol = ['TotalPop', 'Men', 'Women', 'Hispanic',\n",
    "       'White', 'Black', 'Native', 'Asian', 'Pacific', 'VotingAgeCitizen',\n",
    "       'Income', 'IncomeErr', 'IncomePerCap', 'IncomePerCapErr', 'Poverty',\n",
    "       'ChildPoverty', 'Professional', 'Service', 'Office', 'Construction',\n",
    "       'Production', 'Drive', 'Carpool', 'Transit', 'Walk', 'OtherTransp',\n",
    "       'WorkAtHome', 'MeanCommute', 'Employed', 'PrivateWork', 'PublicWork',\n",
    "       'SelfEmployed', 'FamilyWork', 'Unemployment']"
   ]
  },
  {
   "cell_type": "code",
   "execution_count": 66,
   "metadata": {
    "id": "xGrbRoqNfOkI"
   },
   "outputs": [],
   "source": [
    "merge[newcol] = merge[newcol].multiply(merge['res_ratio'], axis = 'index')"
   ]
  },
  {
   "cell_type": "code",
   "execution_count": 67,
   "metadata": {
    "id": "WWmhiW9WgQnC"
   },
   "outputs": [],
   "source": [
    "merge[newcol] = merge[newcol].astype(int)"
   ]
  },
  {
   "cell_type": "code",
   "execution_count": 68,
   "metadata": {
    "colab": {
     "base_uri": "https://localhost:8080/",
     "height": 800
    },
    "id": "soOTBV01gJmJ",
    "outputId": "5d00b30f-e632-4750-a036-fd5f5f0960f2"
   },
   "outputs": [
    {
     "data": {
      "text/html": [
       "<div>\n",
       "<style scoped>\n",
       "    .dataframe tbody tr th:only-of-type {\n",
       "        vertical-align: middle;\n",
       "    }\n",
       "\n",
       "    .dataframe tbody tr th {\n",
       "        vertical-align: top;\n",
       "    }\n",
       "\n",
       "    .dataframe thead th {\n",
       "        text-align: right;\n",
       "    }\n",
       "</style>\n",
       "<table border=\"1\" class=\"dataframe\">\n",
       "  <thead>\n",
       "    <tr style=\"text-align: right;\">\n",
       "      <th></th>\n",
       "      <th>TractId</th>\n",
       "      <th>State</th>\n",
       "      <th>County</th>\n",
       "      <th>TotalPop</th>\n",
       "      <th>Men</th>\n",
       "      <th>Women</th>\n",
       "      <th>Hispanic</th>\n",
       "      <th>White</th>\n",
       "      <th>Black</th>\n",
       "      <th>Native</th>\n",
       "      <th>...</th>\n",
       "      <th>WorkAtHome</th>\n",
       "      <th>MeanCommute</th>\n",
       "      <th>Employed</th>\n",
       "      <th>PrivateWork</th>\n",
       "      <th>PublicWork</th>\n",
       "      <th>SelfEmployed</th>\n",
       "      <th>FamilyWork</th>\n",
       "      <th>Unemployment</th>\n",
       "      <th>zip</th>\n",
       "      <th>res_ratio</th>\n",
       "    </tr>\n",
       "  </thead>\n",
       "  <tbody>\n",
       "    <tr>\n",
       "      <th>0</th>\n",
       "      <td>1001020100</td>\n",
       "      <td>Alabama</td>\n",
       "      <td>Autauga County</td>\n",
       "      <td>1845</td>\n",
       "      <td>899</td>\n",
       "      <td>946</td>\n",
       "      <td>44</td>\n",
       "      <td>1592</td>\n",
       "      <td>95</td>\n",
       "      <td>0</td>\n",
       "      <td>...</td>\n",
       "      <td>18</td>\n",
       "      <td>215</td>\n",
       "      <td>881</td>\n",
       "      <td>653</td>\n",
       "      <td>186</td>\n",
       "      <td>39</td>\n",
       "      <td>0</td>\n",
       "      <td>84</td>\n",
       "      <td>36067</td>\n",
       "      <td>1.000000</td>\n",
       "    </tr>\n",
       "    <tr>\n",
       "      <th>1</th>\n",
       "      <td>1001020200</td>\n",
       "      <td>Alabama</td>\n",
       "      <td>Autauga County</td>\n",
       "      <td>61</td>\n",
       "      <td>32</td>\n",
       "      <td>28</td>\n",
       "      <td>0</td>\n",
       "      <td>25</td>\n",
       "      <td>33</td>\n",
       "      <td>0</td>\n",
       "      <td>...</td>\n",
       "      <td>0</td>\n",
       "      <td>5</td>\n",
       "      <td>24</td>\n",
       "      <td>18</td>\n",
       "      <td>3</td>\n",
       "      <td>2</td>\n",
       "      <td>0</td>\n",
       "      <td>2</td>\n",
       "      <td>36008</td>\n",
       "      <td>0.028243</td>\n",
       "    </tr>\n",
       "    <tr>\n",
       "      <th>2</th>\n",
       "      <td>1001020200</td>\n",
       "      <td>Alabama</td>\n",
       "      <td>Autauga County</td>\n",
       "      <td>2110</td>\n",
       "      <td>1134</td>\n",
       "      <td>976</td>\n",
       "      <td>22</td>\n",
       "      <td>877</td>\n",
       "      <td>1149</td>\n",
       "      <td>0</td>\n",
       "      <td>...</td>\n",
       "      <td>0</td>\n",
       "      <td>183</td>\n",
       "      <td>827</td>\n",
       "      <td>627</td>\n",
       "      <td>123</td>\n",
       "      <td>73</td>\n",
       "      <td>0</td>\n",
       "      <td>70</td>\n",
       "      <td>36067</td>\n",
       "      <td>0.971757</td>\n",
       "    </tr>\n",
       "    <tr>\n",
       "      <th>3</th>\n",
       "      <td>1001020300</td>\n",
       "      <td>Alabama</td>\n",
       "      <td>Autauga County</td>\n",
       "      <td>3385</td>\n",
       "      <td>1533</td>\n",
       "      <td>1852</td>\n",
       "      <td>270</td>\n",
       "      <td>2078</td>\n",
       "      <td>897</td>\n",
       "      <td>20</td>\n",
       "      <td>...</td>\n",
       "      <td>22</td>\n",
       "      <td>342</td>\n",
       "      <td>1482</td>\n",
       "      <td>1086</td>\n",
       "      <td>312</td>\n",
       "      <td>71</td>\n",
       "      <td>10</td>\n",
       "      <td>159</td>\n",
       "      <td>36067</td>\n",
       "      <td>1.000000</td>\n",
       "    </tr>\n",
       "    <tr>\n",
       "      <th>4</th>\n",
       "      <td>1001020400</td>\n",
       "      <td>Alabama</td>\n",
       "      <td>Autauga County</td>\n",
       "      <td>108</td>\n",
       "      <td>51</td>\n",
       "      <td>57</td>\n",
       "      <td>10</td>\n",
       "      <td>87</td>\n",
       "      <td>7</td>\n",
       "      <td>0</td>\n",
       "      <td>...</td>\n",
       "      <td>0</td>\n",
       "      <td>12</td>\n",
       "      <td>47</td>\n",
       "      <td>35</td>\n",
       "      <td>9</td>\n",
       "      <td>2</td>\n",
       "      <td>0</td>\n",
       "      <td>6</td>\n",
       "      <td>36067</td>\n",
       "      <td>0.025543</td>\n",
       "    </tr>\n",
       "    <tr>\n",
       "      <th>5</th>\n",
       "      <td>1001020400</td>\n",
       "      <td>Alabama</td>\n",
       "      <td>Autauga County</td>\n",
       "      <td>4158</td>\n",
       "      <td>1949</td>\n",
       "      <td>2208</td>\n",
       "      <td>398</td>\n",
       "      <td>3338</td>\n",
       "      <td>294</td>\n",
       "      <td>20</td>\n",
       "      <td>...</td>\n",
       "      <td>37</td>\n",
       "      <td>465</td>\n",
       "      <td>1801</td>\n",
       "      <td>1365</td>\n",
       "      <td>354</td>\n",
       "      <td>80</td>\n",
       "      <td>0</td>\n",
       "      <td>253</td>\n",
       "      <td>36066</td>\n",
       "      <td>0.974457</td>\n",
       "    </tr>\n",
       "    <tr>\n",
       "      <th>6</th>\n",
       "      <td>1001020500</td>\n",
       "      <td>Alabama</td>\n",
       "      <td>Autauga County</td>\n",
       "      <td>7856</td>\n",
       "      <td>3984</td>\n",
       "      <td>3871</td>\n",
       "      <td>70</td>\n",
       "      <td>6087</td>\n",
       "      <td>1288</td>\n",
       "      <td>0</td>\n",
       "      <td>...</td>\n",
       "      <td>26</td>\n",
       "      <td>792</td>\n",
       "      <td>3774</td>\n",
       "      <td>2693</td>\n",
       "      <td>909</td>\n",
       "      <td>169</td>\n",
       "      <td>0</td>\n",
       "      <td>180</td>\n",
       "      <td>36066</td>\n",
       "      <td>0.788390</td>\n",
       "    </tr>\n",
       "    <tr>\n",
       "      <th>7</th>\n",
       "      <td>1001020500</td>\n",
       "      <td>Alabama</td>\n",
       "      <td>Autauga County</td>\n",
       "      <td>2100</td>\n",
       "      <td>1065</td>\n",
       "      <td>1035</td>\n",
       "      <td>18</td>\n",
       "      <td>1627</td>\n",
       "      <td>344</td>\n",
       "      <td>0</td>\n",
       "      <td>...</td>\n",
       "      <td>6</td>\n",
       "      <td>211</td>\n",
       "      <td>1009</td>\n",
       "      <td>720</td>\n",
       "      <td>243</td>\n",
       "      <td>45</td>\n",
       "      <td>0</td>\n",
       "      <td>48</td>\n",
       "      <td>36068</td>\n",
       "      <td>0.210806</td>\n",
       "    </tr>\n",
       "    <tr>\n",
       "      <th>8</th>\n",
       "      <td>1001020500</td>\n",
       "      <td>Alabama</td>\n",
       "      <td>Autauga County</td>\n",
       "      <td>8</td>\n",
       "      <td>4</td>\n",
       "      <td>3</td>\n",
       "      <td>0</td>\n",
       "      <td>6</td>\n",
       "      <td>1</td>\n",
       "      <td>0</td>\n",
       "      <td>...</td>\n",
       "      <td>0</td>\n",
       "      <td>0</td>\n",
       "      <td>3</td>\n",
       "      <td>2</td>\n",
       "      <td>0</td>\n",
       "      <td>0</td>\n",
       "      <td>0</td>\n",
       "      <td>0</td>\n",
       "      <td>36067</td>\n",
       "      <td>0.000804</td>\n",
       "    </tr>\n",
       "    <tr>\n",
       "      <th>9</th>\n",
       "      <td>1001020600</td>\n",
       "      <td>Alabama</td>\n",
       "      <td>Autauga County</td>\n",
       "      <td>3620</td>\n",
       "      <td>1765</td>\n",
       "      <td>1855</td>\n",
       "      <td>108</td>\n",
       "      <td>2559</td>\n",
       "      <td>908</td>\n",
       "      <td>0</td>\n",
       "      <td>...</td>\n",
       "      <td>109</td>\n",
       "      <td>287</td>\n",
       "      <td>1364</td>\n",
       "      <td>1145</td>\n",
       "      <td>192</td>\n",
       "      <td>25</td>\n",
       "      <td>0</td>\n",
       "      <td>220</td>\n",
       "      <td>36067</td>\n",
       "      <td>1.000000</td>\n",
       "    </tr>\n",
       "    <tr>\n",
       "      <th>10</th>\n",
       "      <td>1001020700</td>\n",
       "      <td>Alabama</td>\n",
       "      <td>Autauga County</td>\n",
       "      <td>3420</td>\n",
       "      <td>1459</td>\n",
       "      <td>1961</td>\n",
       "      <td>136</td>\n",
       "      <td>2667</td>\n",
       "      <td>468</td>\n",
       "      <td>20</td>\n",
       "      <td>...</td>\n",
       "      <td>0</td>\n",
       "      <td>232</td>\n",
       "      <td>1418</td>\n",
       "      <td>1097</td>\n",
       "      <td>249</td>\n",
       "      <td>70</td>\n",
       "      <td>0</td>\n",
       "      <td>577</td>\n",
       "      <td>36067</td>\n",
       "      <td>1.000000</td>\n",
       "    </tr>\n",
       "    <tr>\n",
       "      <th>11</th>\n",
       "      <td>1001020801</td>\n",
       "      <td>Alabama</td>\n",
       "      <td>Autauga County</td>\n",
       "      <td>2913</td>\n",
       "      <td>1495</td>\n",
       "      <td>1418</td>\n",
       "      <td>122</td>\n",
       "      <td>2513</td>\n",
       "      <td>206</td>\n",
       "      <td>43</td>\n",
       "      <td>...</td>\n",
       "      <td>71</td>\n",
       "      <td>336</td>\n",
       "      <td>1369</td>\n",
       "      <td>995</td>\n",
       "      <td>239</td>\n",
       "      <td>120</td>\n",
       "      <td>13</td>\n",
       "      <td>209</td>\n",
       "      <td>36067</td>\n",
       "      <td>1.000000</td>\n",
       "    </tr>\n",
       "    <tr>\n",
       "      <th>12</th>\n",
       "      <td>1001020802</td>\n",
       "      <td>Alabama</td>\n",
       "      <td>Autauga County</td>\n",
       "      <td>2209</td>\n",
       "      <td>1070</td>\n",
       "      <td>1139</td>\n",
       "      <td>30</td>\n",
       "      <td>1807</td>\n",
       "      <td>337</td>\n",
       "      <td>0</td>\n",
       "      <td>...</td>\n",
       "      <td>20</td>\n",
       "      <td>259</td>\n",
       "      <td>947</td>\n",
       "      <td>663</td>\n",
       "      <td>212</td>\n",
       "      <td>70</td>\n",
       "      <td>0</td>\n",
       "      <td>48</td>\n",
       "      <td>36022</td>\n",
       "      <td>0.194991</td>\n",
       "    </tr>\n",
       "    <tr>\n",
       "      <th>13</th>\n",
       "      <td>1001020802</td>\n",
       "      <td>Alabama</td>\n",
       "      <td>Autauga County</td>\n",
       "      <td>6421</td>\n",
       "      <td>3109</td>\n",
       "      <td>3311</td>\n",
       "      <td>89</td>\n",
       "      <td>5252</td>\n",
       "      <td>981</td>\n",
       "      <td>0</td>\n",
       "      <td>...</td>\n",
       "      <td>60</td>\n",
       "      <td>753</td>\n",
       "      <td>2752</td>\n",
       "      <td>1928</td>\n",
       "      <td>618</td>\n",
       "      <td>203</td>\n",
       "      <td>0</td>\n",
       "      <td>141</td>\n",
       "      <td>36067</td>\n",
       "      <td>0.566622</td>\n",
       "    </tr>\n",
       "    <tr>\n",
       "      <th>14</th>\n",
       "      <td>1001020802</td>\n",
       "      <td>Alabama</td>\n",
       "      <td>Autauga County</td>\n",
       "      <td>2701</td>\n",
       "      <td>1308</td>\n",
       "      <td>1393</td>\n",
       "      <td>37</td>\n",
       "      <td>2209</td>\n",
       "      <td>413</td>\n",
       "      <td>0</td>\n",
       "      <td>...</td>\n",
       "      <td>25</td>\n",
       "      <td>317</td>\n",
       "      <td>1157</td>\n",
       "      <td>811</td>\n",
       "      <td>260</td>\n",
       "      <td>85</td>\n",
       "      <td>0</td>\n",
       "      <td>59</td>\n",
       "      <td>36066</td>\n",
       "      <td>0.238387</td>\n",
       "    </tr>\n",
       "  </tbody>\n",
       "</table>\n",
       "<p>15 rows × 39 columns</p>\n",
       "</div>"
      ],
      "text/plain": [
       "       TractId    State          County  TotalPop   Men  Women  Hispanic  \\\n",
       "0   1001020100  Alabama  Autauga County      1845   899    946        44   \n",
       "1   1001020200  Alabama  Autauga County        61    32     28         0   \n",
       "2   1001020200  Alabama  Autauga County      2110  1134    976        22   \n",
       "3   1001020300  Alabama  Autauga County      3385  1533   1852       270   \n",
       "4   1001020400  Alabama  Autauga County       108    51     57        10   \n",
       "5   1001020400  Alabama  Autauga County      4158  1949   2208       398   \n",
       "6   1001020500  Alabama  Autauga County      7856  3984   3871        70   \n",
       "7   1001020500  Alabama  Autauga County      2100  1065   1035        18   \n",
       "8   1001020500  Alabama  Autauga County         8     4      3         0   \n",
       "9   1001020600  Alabama  Autauga County      3620  1765   1855       108   \n",
       "10  1001020700  Alabama  Autauga County      3420  1459   1961       136   \n",
       "11  1001020801  Alabama  Autauga County      2913  1495   1418       122   \n",
       "12  1001020802  Alabama  Autauga County      2209  1070   1139        30   \n",
       "13  1001020802  Alabama  Autauga County      6421  3109   3311        89   \n",
       "14  1001020802  Alabama  Autauga County      2701  1308   1393        37   \n",
       "\n",
       "    White  Black  Native  ...  WorkAtHome  MeanCommute  Employed  PrivateWork  \\\n",
       "0    1592     95       0  ...          18          215       881          653   \n",
       "1      25     33       0  ...           0            5        24           18   \n",
       "2     877   1149       0  ...           0          183       827          627   \n",
       "3    2078    897      20  ...          22          342      1482         1086   \n",
       "4      87      7       0  ...           0           12        47           35   \n",
       "5    3338    294      20  ...          37          465      1801         1365   \n",
       "6    6087   1288       0  ...          26          792      3774         2693   \n",
       "7    1627    344       0  ...           6          211      1009          720   \n",
       "8       6      1       0  ...           0            0         3            2   \n",
       "9    2559    908       0  ...         109          287      1364         1145   \n",
       "10   2667    468      20  ...           0          232      1418         1097   \n",
       "11   2513    206      43  ...          71          336      1369          995   \n",
       "12   1807    337       0  ...          20          259       947          663   \n",
       "13   5252    981       0  ...          60          753      2752         1928   \n",
       "14   2209    413       0  ...          25          317      1157          811   \n",
       "\n",
       "    PublicWork  SelfEmployed  FamilyWork  Unemployment    zip  res_ratio  \n",
       "0          186            39           0            84  36067   1.000000  \n",
       "1            3             2           0             2  36008   0.028243  \n",
       "2          123            73           0            70  36067   0.971757  \n",
       "3          312            71          10           159  36067   1.000000  \n",
       "4            9             2           0             6  36067   0.025543  \n",
       "5          354            80           0           253  36066   0.974457  \n",
       "6          909           169           0           180  36066   0.788390  \n",
       "7          243            45           0            48  36068   0.210806  \n",
       "8            0             0           0             0  36067   0.000804  \n",
       "9          192            25           0           220  36067   1.000000  \n",
       "10         249            70           0           577  36067   1.000000  \n",
       "11         239           120          13           209  36067   1.000000  \n",
       "12         212            70           0            48  36022   0.194991  \n",
       "13         618           203           0           141  36067   0.566622  \n",
       "14         260            85           0            59  36066   0.238387  \n",
       "\n",
       "[15 rows x 39 columns]"
      ]
     },
     "execution_count": 68,
     "metadata": {},
     "output_type": "execute_result"
    }
   ],
   "source": [
    "merge.head(15)"
   ]
  },
  {
   "cell_type": "code",
   "execution_count": 69,
   "metadata": {
    "colab": {
     "base_uri": "https://localhost:8080/"
    },
    "id": "IvbT-moO6SMi",
    "outputId": "5cdfd72d-ad88-4a76-8218-d6bef7eb9518"
   },
   "outputs": [
    {
     "data": {
      "text/plain": [
       "(501, 99929)"
      ]
     },
     "execution_count": 69,
     "metadata": {},
     "output_type": "execute_result"
    }
   ],
   "source": [
    "min(merge['zip']), max(merge['zip'])"
   ]
  },
  {
   "cell_type": "code",
   "execution_count": 70,
   "metadata": {
    "id": "KrbAcn8lx6-c"
   },
   "outputs": [],
   "source": [
    "merge['zip'] = merge['zip'].astype('str').str.zfill(5)"
   ]
  },
  {
   "cell_type": "code",
   "execution_count": 71,
   "metadata": {
    "id": "sLu_V_I2_DTG"
   },
   "outputs": [],
   "source": [
    "merge = merge.drop(columns = ['res_ratio'])"
   ]
  },
  {
   "cell_type": "markdown",
   "metadata": {
    "id": "ZW3QPaoIajum"
   },
   "source": [
    "## Ratios\n",
    "-return df back to census form"
   ]
  },
  {
   "cell_type": "markdown",
   "metadata": {
    "id": "F-HZblarbxQ8"
   },
   "source": [
    "##### Multiply columns by 100"
   ]
  },
  {
   "cell_type": "code",
   "execution_count": 72,
   "metadata": {
    "id": "1ooRXH-JawWw"
   },
   "outputs": [],
   "source": [
    "merge.iloc[:,6:11+1] *= 100 "
   ]
  },
  {
   "cell_type": "code",
   "execution_count": 73,
   "metadata": {
    "id": "97Bx3BNFa4Vr"
   },
   "outputs": [],
   "source": [
    "merge.iloc[:,17:30+1] *= 100"
   ]
  },
  {
   "cell_type": "code",
   "execution_count": 74,
   "metadata": {
    "id": "QtrgHcsYxc_G"
   },
   "outputs": [],
   "source": [
    "merge.iloc[:,32:36+1] *= 100"
   ]
  },
  {
   "cell_type": "code",
   "execution_count": 75,
   "metadata": {
    "id": "QLyZLATybFa7"
   },
   "outputs": [],
   "source": [
    "col = ['Hispanic','White', 'Black', 'Native', 'Asian', 'Pacific','Poverty',\n",
    "       'ChildPoverty','Unemployment']"
   ]
  },
  {
   "cell_type": "markdown",
   "metadata": {
    "id": "5Sj3UWA5b86l"
   },
   "source": [
    "##### Divide columns by Total Population"
   ]
  },
  {
   "cell_type": "code",
   "execution_count": 76,
   "metadata": {
    "id": "nOwcvaXWbD4r"
   },
   "outputs": [],
   "source": [
    "merge[col] = merge[col].divide(merge['TotalPop'], axis = 'index')"
   ]
  },
  {
   "cell_type": "code",
   "execution_count": 77,
   "metadata": {
    "id": "NgKcaBYKh-Wk"
   },
   "outputs": [],
   "source": [
    "merge[col] = merge[col].round(1)"
   ]
  },
  {
   "cell_type": "markdown",
   "metadata": {
    "id": "ndNut-wK5YSV"
   },
   "source": [
    "##### Divide columns by Employed"
   ]
  },
  {
   "cell_type": "code",
   "execution_count": 78,
   "metadata": {
    "id": "TXuK6yK8rwdk"
   },
   "outputs": [],
   "source": [
    "employment = ['Professional', 'Service', 'Office', 'Construction', 'Production', \n",
    "              'Drive', 'Carpool', 'Transit', 'Walk', 'OtherTransp', 'WorkAtHome', \n",
    "              'MeanCommute', 'PrivateWork', 'PublicWork','SelfEmployed', 'FamilyWork']"
   ]
  },
  {
   "cell_type": "code",
   "execution_count": 79,
   "metadata": {
    "id": "EQDuiH9lruCe"
   },
   "outputs": [],
   "source": [
    "merge[employment] = merge[employment].divide(merge['Employed'], axis = 'index')"
   ]
  },
  {
   "cell_type": "code",
   "execution_count": 80,
   "metadata": {
    "id": "k_P-oTJp5Tdt"
   },
   "outputs": [],
   "source": [
    "merge[employment] = merge[employment].round(1)"
   ]
  },
  {
   "cell_type": "markdown",
   "metadata": {
    "id": "SOj4znP3cENw"
   },
   "source": [
    "##### Check"
   ]
  },
  {
   "cell_type": "code",
   "execution_count": 81,
   "metadata": {
    "colab": {
     "base_uri": "https://localhost:8080/",
     "height": 313
    },
    "id": "OjQmdlQ-hUYK",
    "outputId": "a36a309c-5c35-4882-9340-d62cfb1c1319"
   },
   "outputs": [
    {
     "data": {
      "text/html": [
       "<div>\n",
       "<style scoped>\n",
       "    .dataframe tbody tr th:only-of-type {\n",
       "        vertical-align: middle;\n",
       "    }\n",
       "\n",
       "    .dataframe tbody tr th {\n",
       "        vertical-align: top;\n",
       "    }\n",
       "\n",
       "    .dataframe thead th {\n",
       "        text-align: right;\n",
       "    }\n",
       "</style>\n",
       "<table border=\"1\" class=\"dataframe\">\n",
       "  <thead>\n",
       "    <tr style=\"text-align: right;\">\n",
       "      <th></th>\n",
       "      <th>TractId</th>\n",
       "      <th>State</th>\n",
       "      <th>County</th>\n",
       "      <th>TotalPop</th>\n",
       "      <th>Men</th>\n",
       "      <th>Women</th>\n",
       "      <th>Hispanic</th>\n",
       "      <th>White</th>\n",
       "      <th>Black</th>\n",
       "      <th>Native</th>\n",
       "      <th>...</th>\n",
       "      <th>OtherTransp</th>\n",
       "      <th>WorkAtHome</th>\n",
       "      <th>MeanCommute</th>\n",
       "      <th>Employed</th>\n",
       "      <th>PrivateWork</th>\n",
       "      <th>PublicWork</th>\n",
       "      <th>SelfEmployed</th>\n",
       "      <th>FamilyWork</th>\n",
       "      <th>Unemployment</th>\n",
       "      <th>zip</th>\n",
       "    </tr>\n",
       "  </thead>\n",
       "  <tbody>\n",
       "    <tr>\n",
       "      <th>0</th>\n",
       "      <td>1001020100</td>\n",
       "      <td>Alabama</td>\n",
       "      <td>Autauga County</td>\n",
       "      <td>1845</td>\n",
       "      <td>899</td>\n",
       "      <td>946</td>\n",
       "      <td>2.4</td>\n",
       "      <td>86.3</td>\n",
       "      <td>5.1</td>\n",
       "      <td>0.0</td>\n",
       "      <td>...</td>\n",
       "      <td>0.0</td>\n",
       "      <td>2.0</td>\n",
       "      <td>24.4</td>\n",
       "      <td>881</td>\n",
       "      <td>74.1</td>\n",
       "      <td>21.1</td>\n",
       "      <td>4.4</td>\n",
       "      <td>0.0</td>\n",
       "      <td>4.6</td>\n",
       "      <td>36067</td>\n",
       "    </tr>\n",
       "    <tr>\n",
       "      <th>1</th>\n",
       "      <td>1001020200</td>\n",
       "      <td>Alabama</td>\n",
       "      <td>Autauga County</td>\n",
       "      <td>61</td>\n",
       "      <td>32</td>\n",
       "      <td>28</td>\n",
       "      <td>0.0</td>\n",
       "      <td>41.0</td>\n",
       "      <td>54.1</td>\n",
       "      <td>0.0</td>\n",
       "      <td>...</td>\n",
       "      <td>0.0</td>\n",
       "      <td>0.0</td>\n",
       "      <td>20.8</td>\n",
       "      <td>24</td>\n",
       "      <td>75.0</td>\n",
       "      <td>12.5</td>\n",
       "      <td>8.3</td>\n",
       "      <td>0.0</td>\n",
       "      <td>3.3</td>\n",
       "      <td>36008</td>\n",
       "    </tr>\n",
       "    <tr>\n",
       "      <th>2</th>\n",
       "      <td>1001020200</td>\n",
       "      <td>Alabama</td>\n",
       "      <td>Autauga County</td>\n",
       "      <td>2110</td>\n",
       "      <td>1134</td>\n",
       "      <td>976</td>\n",
       "      <td>1.0</td>\n",
       "      <td>41.6</td>\n",
       "      <td>54.5</td>\n",
       "      <td>0.0</td>\n",
       "      <td>...</td>\n",
       "      <td>0.4</td>\n",
       "      <td>0.0</td>\n",
       "      <td>22.1</td>\n",
       "      <td>827</td>\n",
       "      <td>75.8</td>\n",
       "      <td>14.9</td>\n",
       "      <td>8.8</td>\n",
       "      <td>0.0</td>\n",
       "      <td>3.3</td>\n",
       "      <td>36067</td>\n",
       "    </tr>\n",
       "    <tr>\n",
       "      <th>3</th>\n",
       "      <td>1001020300</td>\n",
       "      <td>Alabama</td>\n",
       "      <td>Autauga County</td>\n",
       "      <td>3385</td>\n",
       "      <td>1533</td>\n",
       "      <td>1852</td>\n",
       "      <td>8.0</td>\n",
       "      <td>61.4</td>\n",
       "      <td>26.5</td>\n",
       "      <td>0.6</td>\n",
       "      <td>...</td>\n",
       "      <td>0.7</td>\n",
       "      <td>1.5</td>\n",
       "      <td>23.1</td>\n",
       "      <td>1482</td>\n",
       "      <td>73.3</td>\n",
       "      <td>21.1</td>\n",
       "      <td>4.8</td>\n",
       "      <td>0.7</td>\n",
       "      <td>4.7</td>\n",
       "      <td>36067</td>\n",
       "    </tr>\n",
       "    <tr>\n",
       "      <th>4</th>\n",
       "      <td>1001020400</td>\n",
       "      <td>Alabama</td>\n",
       "      <td>Autauga County</td>\n",
       "      <td>108</td>\n",
       "      <td>51</td>\n",
       "      <td>57</td>\n",
       "      <td>9.3</td>\n",
       "      <td>80.6</td>\n",
       "      <td>6.5</td>\n",
       "      <td>0.0</td>\n",
       "      <td>...</td>\n",
       "      <td>2.1</td>\n",
       "      <td>0.0</td>\n",
       "      <td>25.5</td>\n",
       "      <td>47</td>\n",
       "      <td>74.5</td>\n",
       "      <td>19.1</td>\n",
       "      <td>4.3</td>\n",
       "      <td>0.0</td>\n",
       "      <td>5.6</td>\n",
       "      <td>36067</td>\n",
       "    </tr>\n",
       "  </tbody>\n",
       "</table>\n",
       "<p>5 rows × 38 columns</p>\n",
       "</div>"
      ],
      "text/plain": [
       "      TractId    State          County  TotalPop   Men  Women  Hispanic  \\\n",
       "0  1001020100  Alabama  Autauga County      1845   899    946       2.4   \n",
       "1  1001020200  Alabama  Autauga County        61    32     28       0.0   \n",
       "2  1001020200  Alabama  Autauga County      2110  1134    976       1.0   \n",
       "3  1001020300  Alabama  Autauga County      3385  1533   1852       8.0   \n",
       "4  1001020400  Alabama  Autauga County       108    51     57       9.3   \n",
       "\n",
       "   White  Black  Native  ...  OtherTransp  WorkAtHome  MeanCommute  Employed  \\\n",
       "0   86.3    5.1     0.0  ...          0.0         2.0         24.4       881   \n",
       "1   41.0   54.1     0.0  ...          0.0         0.0         20.8        24   \n",
       "2   41.6   54.5     0.0  ...          0.4         0.0         22.1       827   \n",
       "3   61.4   26.5     0.6  ...          0.7         1.5         23.1      1482   \n",
       "4   80.6    6.5     0.0  ...          2.1         0.0         25.5        47   \n",
       "\n",
       "   PrivateWork  PublicWork  SelfEmployed  FamilyWork  Unemployment    zip  \n",
       "0         74.1        21.1           4.4         0.0           4.6  36067  \n",
       "1         75.0        12.5           8.3         0.0           3.3  36008  \n",
       "2         75.8        14.9           8.8         0.0           3.3  36067  \n",
       "3         73.3        21.1           4.8         0.7           4.7  36067  \n",
       "4         74.5        19.1           4.3         0.0           5.6  36067  \n",
       "\n",
       "[5 rows x 38 columns]"
      ]
     },
     "execution_count": 81,
     "metadata": {},
     "output_type": "execute_result"
    }
   ],
   "source": [
    "merge.head()"
   ]
  },
  {
   "cell_type": "markdown",
   "metadata": {
    "id": "dokkWx02pdFK"
   },
   "source": [
    "## Map Zip Codes to City"
   ]
  },
  {
   "cell_type": "code",
   "execution_count": 82,
   "metadata": {
    "colab": {
     "base_uri": "https://localhost:8080/"
    },
    "id": "9vjxWE9xJ2WR",
    "outputId": "9ebae4ce-ec21-4382-8ec8-f9ac656b6d53"
   },
   "outputs": [
    {
     "data": {
      "text/plain": [
       "Index(['zip', 'lat', 'lng', 'city', 'state_id', 'state_name', 'zcta',\n",
       "       'parent_zcta', 'population', 'density', 'county_fips', 'county_name',\n",
       "       'county_weights', 'county_names_all', 'county_fips_all', 'imprecise',\n",
       "       'military', 'timezone'],\n",
       "      dtype='object')"
      ]
     },
     "execution_count": 82,
     "metadata": {},
     "output_type": "execute_result"
    }
   ],
   "source": [
    "uszip.columns"
   ]
  },
  {
   "cell_type": "code",
   "execution_count": 83,
   "metadata": {
    "id": "Z7jeeS9ZJ2Lp"
   },
   "outputs": [],
   "source": [
    "uszip = uszip[['zip', 'city', 'state_name', 'state_id', 'county_name']]"
   ]
  },
  {
   "cell_type": "code",
   "execution_count": 84,
   "metadata": {
    "id": "-_nkz8brKY_7"
   },
   "outputs": [],
   "source": [
    "merge = merge.merge(uszip, on = 'zip')"
   ]
  },
  {
   "cell_type": "code",
   "execution_count": 85,
   "metadata": {
    "colab": {
     "base_uri": "https://localhost:8080/"
    },
    "id": "FATm2umeKe8c",
    "outputId": "f41b74da-f773-40e0-b43a-ab806f836ee0"
   },
   "outputs": [
    {
     "data": {
      "text/plain": [
       "(159991, 42)"
      ]
     },
     "execution_count": 85,
     "metadata": {},
     "output_type": "execute_result"
    }
   ],
   "source": [
    "merge.shape"
   ]
  },
  {
   "cell_type": "code",
   "execution_count": 86,
   "metadata": {
    "colab": {
     "base_uri": "https://localhost:8080/",
     "height": 313
    },
    "id": "w9R_UkmyKhAk",
    "outputId": "c9e58f84-12f5-4ab5-cfcf-e87438e03336"
   },
   "outputs": [
    {
     "data": {
      "text/html": [
       "<div>\n",
       "<style scoped>\n",
       "    .dataframe tbody tr th:only-of-type {\n",
       "        vertical-align: middle;\n",
       "    }\n",
       "\n",
       "    .dataframe tbody tr th {\n",
       "        vertical-align: top;\n",
       "    }\n",
       "\n",
       "    .dataframe thead th {\n",
       "        text-align: right;\n",
       "    }\n",
       "</style>\n",
       "<table border=\"1\" class=\"dataframe\">\n",
       "  <thead>\n",
       "    <tr style=\"text-align: right;\">\n",
       "      <th></th>\n",
       "      <th>TractId</th>\n",
       "      <th>State</th>\n",
       "      <th>County</th>\n",
       "      <th>TotalPop</th>\n",
       "      <th>Men</th>\n",
       "      <th>Women</th>\n",
       "      <th>Hispanic</th>\n",
       "      <th>White</th>\n",
       "      <th>Black</th>\n",
       "      <th>Native</th>\n",
       "      <th>...</th>\n",
       "      <th>PrivateWork</th>\n",
       "      <th>PublicWork</th>\n",
       "      <th>SelfEmployed</th>\n",
       "      <th>FamilyWork</th>\n",
       "      <th>Unemployment</th>\n",
       "      <th>zip</th>\n",
       "      <th>city</th>\n",
       "      <th>state_name</th>\n",
       "      <th>state_id</th>\n",
       "      <th>county_name</th>\n",
       "    </tr>\n",
       "  </thead>\n",
       "  <tbody>\n",
       "    <tr>\n",
       "      <th>0</th>\n",
       "      <td>1001020100</td>\n",
       "      <td>Alabama</td>\n",
       "      <td>Autauga County</td>\n",
       "      <td>1845</td>\n",
       "      <td>899</td>\n",
       "      <td>946</td>\n",
       "      <td>2.4</td>\n",
       "      <td>86.3</td>\n",
       "      <td>5.1</td>\n",
       "      <td>0.0</td>\n",
       "      <td>...</td>\n",
       "      <td>74.1</td>\n",
       "      <td>21.1</td>\n",
       "      <td>4.4</td>\n",
       "      <td>0.0</td>\n",
       "      <td>4.6</td>\n",
       "      <td>36067</td>\n",
       "      <td>Prattville</td>\n",
       "      <td>Alabama</td>\n",
       "      <td>AL</td>\n",
       "      <td>Autauga</td>\n",
       "    </tr>\n",
       "    <tr>\n",
       "      <th>1</th>\n",
       "      <td>1001020200</td>\n",
       "      <td>Alabama</td>\n",
       "      <td>Autauga County</td>\n",
       "      <td>2110</td>\n",
       "      <td>1134</td>\n",
       "      <td>976</td>\n",
       "      <td>1.0</td>\n",
       "      <td>41.6</td>\n",
       "      <td>54.5</td>\n",
       "      <td>0.0</td>\n",
       "      <td>...</td>\n",
       "      <td>75.8</td>\n",
       "      <td>14.9</td>\n",
       "      <td>8.8</td>\n",
       "      <td>0.0</td>\n",
       "      <td>3.3</td>\n",
       "      <td>36067</td>\n",
       "      <td>Prattville</td>\n",
       "      <td>Alabama</td>\n",
       "      <td>AL</td>\n",
       "      <td>Autauga</td>\n",
       "    </tr>\n",
       "    <tr>\n",
       "      <th>2</th>\n",
       "      <td>1001020300</td>\n",
       "      <td>Alabama</td>\n",
       "      <td>Autauga County</td>\n",
       "      <td>3385</td>\n",
       "      <td>1533</td>\n",
       "      <td>1852</td>\n",
       "      <td>8.0</td>\n",
       "      <td>61.4</td>\n",
       "      <td>26.5</td>\n",
       "      <td>0.6</td>\n",
       "      <td>...</td>\n",
       "      <td>73.3</td>\n",
       "      <td>21.1</td>\n",
       "      <td>4.8</td>\n",
       "      <td>0.7</td>\n",
       "      <td>4.7</td>\n",
       "      <td>36067</td>\n",
       "      <td>Prattville</td>\n",
       "      <td>Alabama</td>\n",
       "      <td>AL</td>\n",
       "      <td>Autauga</td>\n",
       "    </tr>\n",
       "    <tr>\n",
       "      <th>3</th>\n",
       "      <td>1001020400</td>\n",
       "      <td>Alabama</td>\n",
       "      <td>Autauga County</td>\n",
       "      <td>108</td>\n",
       "      <td>51</td>\n",
       "      <td>57</td>\n",
       "      <td>9.3</td>\n",
       "      <td>80.6</td>\n",
       "      <td>6.5</td>\n",
       "      <td>0.0</td>\n",
       "      <td>...</td>\n",
       "      <td>74.5</td>\n",
       "      <td>19.1</td>\n",
       "      <td>4.3</td>\n",
       "      <td>0.0</td>\n",
       "      <td>5.6</td>\n",
       "      <td>36067</td>\n",
       "      <td>Prattville</td>\n",
       "      <td>Alabama</td>\n",
       "      <td>AL</td>\n",
       "      <td>Autauga</td>\n",
       "    </tr>\n",
       "    <tr>\n",
       "      <th>4</th>\n",
       "      <td>1001020500</td>\n",
       "      <td>Alabama</td>\n",
       "      <td>Autauga County</td>\n",
       "      <td>8</td>\n",
       "      <td>4</td>\n",
       "      <td>3</td>\n",
       "      <td>0.0</td>\n",
       "      <td>75.0</td>\n",
       "      <td>12.5</td>\n",
       "      <td>0.0</td>\n",
       "      <td>...</td>\n",
       "      <td>66.7</td>\n",
       "      <td>0.0</td>\n",
       "      <td>0.0</td>\n",
       "      <td>0.0</td>\n",
       "      <td>0.0</td>\n",
       "      <td>36067</td>\n",
       "      <td>Prattville</td>\n",
       "      <td>Alabama</td>\n",
       "      <td>AL</td>\n",
       "      <td>Autauga</td>\n",
       "    </tr>\n",
       "  </tbody>\n",
       "</table>\n",
       "<p>5 rows × 42 columns</p>\n",
       "</div>"
      ],
      "text/plain": [
       "      TractId    State          County  TotalPop   Men  Women  Hispanic  \\\n",
       "0  1001020100  Alabama  Autauga County      1845   899    946       2.4   \n",
       "1  1001020200  Alabama  Autauga County      2110  1134    976       1.0   \n",
       "2  1001020300  Alabama  Autauga County      3385  1533   1852       8.0   \n",
       "3  1001020400  Alabama  Autauga County       108    51     57       9.3   \n",
       "4  1001020500  Alabama  Autauga County         8     4      3       0.0   \n",
       "\n",
       "   White  Black  Native  ...  PrivateWork  PublicWork  SelfEmployed  \\\n",
       "0   86.3    5.1     0.0  ...         74.1        21.1           4.4   \n",
       "1   41.6   54.5     0.0  ...         75.8        14.9           8.8   \n",
       "2   61.4   26.5     0.6  ...         73.3        21.1           4.8   \n",
       "3   80.6    6.5     0.0  ...         74.5        19.1           4.3   \n",
       "4   75.0   12.5     0.0  ...         66.7         0.0           0.0   \n",
       "\n",
       "   FamilyWork  Unemployment    zip        city  state_name  state_id  \\\n",
       "0         0.0           4.6  36067  Prattville     Alabama        AL   \n",
       "1         0.0           3.3  36067  Prattville     Alabama        AL   \n",
       "2         0.7           4.7  36067  Prattville     Alabama        AL   \n",
       "3         0.0           5.6  36067  Prattville     Alabama        AL   \n",
       "4         0.0           0.0  36067  Prattville     Alabama        AL   \n",
       "\n",
       "   county_name  \n",
       "0      Autauga  \n",
       "1      Autauga  \n",
       "2      Autauga  \n",
       "3      Autauga  \n",
       "4      Autauga  \n",
       "\n",
       "[5 rows x 42 columns]"
      ]
     },
     "execution_count": 86,
     "metadata": {},
     "output_type": "execute_result"
    }
   ],
   "source": [
    "merge.head()"
   ]
  },
  {
   "cell_type": "code",
   "execution_count": 87,
   "metadata": {
    "colab": {
     "base_uri": "https://localhost:8080/"
    },
    "id": "qH8dKwkALsFN",
    "outputId": "30c1e66a-1a53-4cea-ec7a-e218d295e81d"
   },
   "outputs": [
    {
     "data": {
      "text/plain": [
       "Index(['TractId', 'State', 'County', 'TotalPop', 'Men', 'Women', 'Hispanic',\n",
       "       'White', 'Black', 'Native', 'Asian', 'Pacific', 'VotingAgeCitizen',\n",
       "       'Income', 'IncomeErr', 'IncomePerCap', 'IncomePerCapErr', 'Poverty',\n",
       "       'ChildPoverty', 'Professional', 'Service', 'Office', 'Construction',\n",
       "       'Production', 'Drive', 'Carpool', 'Transit', 'Walk', 'OtherTransp',\n",
       "       'WorkAtHome', 'MeanCommute', 'Employed', 'PrivateWork', 'PublicWork',\n",
       "       'SelfEmployed', 'FamilyWork', 'Unemployment', 'zip', 'city',\n",
       "       'state_name', 'state_id', 'county_name'],\n",
       "      dtype='object')"
      ]
     },
     "execution_count": 87,
     "metadata": {},
     "output_type": "execute_result"
    }
   ],
   "source": [
    "merge.columns"
   ]
  },
  {
   "cell_type": "code",
   "execution_count": 88,
   "metadata": {
    "id": "urdHnxSeL4Hf"
   },
   "outputs": [],
   "source": [
    "columns = ['TractId', 'city', 'state_id', 'State', 'County', 'county_name', \n",
    "           'TotalPop', 'Men', 'Women', 'Hispanic','White', 'Black', 'Native', \n",
    "           'Asian', 'Pacific', 'VotingAgeCitizen','Income', 'IncomeErr', \n",
    "           'IncomePerCap', 'IncomePerCapErr', 'Poverty', 'ChildPoverty', \n",
    "           'Professional', 'Service', 'Office', 'Construction', 'Production', \n",
    "           'Drive', 'Carpool', 'Transit', 'Walk', 'OtherTransp', 'WorkAtHome', \n",
    "           'MeanCommute', 'Employed', 'PrivateWork', 'PublicWork', \n",
    "           'SelfEmployed', 'FamilyWork', 'Unemployment', 'zip', ]"
   ]
  },
  {
   "cell_type": "code",
   "execution_count": 89,
   "metadata": {
    "id": "LE-zKls5L1oS"
   },
   "outputs": [],
   "source": [
    "merge = merge[columns]"
   ]
  },
  {
   "cell_type": "code",
   "execution_count": 90,
   "metadata": {
    "colab": {
     "base_uri": "https://localhost:8080/",
     "height": 313
    },
    "id": "nk_bZZLHMuOc",
    "outputId": "0fbbc706-65ca-441b-e3b3-25274185ab2b"
   },
   "outputs": [
    {
     "data": {
      "text/html": [
       "<div>\n",
       "<style scoped>\n",
       "    .dataframe tbody tr th:only-of-type {\n",
       "        vertical-align: middle;\n",
       "    }\n",
       "\n",
       "    .dataframe tbody tr th {\n",
       "        vertical-align: top;\n",
       "    }\n",
       "\n",
       "    .dataframe thead th {\n",
       "        text-align: right;\n",
       "    }\n",
       "</style>\n",
       "<table border=\"1\" class=\"dataframe\">\n",
       "  <thead>\n",
       "    <tr style=\"text-align: right;\">\n",
       "      <th></th>\n",
       "      <th>TractId</th>\n",
       "      <th>city</th>\n",
       "      <th>state_id</th>\n",
       "      <th>State</th>\n",
       "      <th>County</th>\n",
       "      <th>county_name</th>\n",
       "      <th>TotalPop</th>\n",
       "      <th>Men</th>\n",
       "      <th>Women</th>\n",
       "      <th>Hispanic</th>\n",
       "      <th>...</th>\n",
       "      <th>OtherTransp</th>\n",
       "      <th>WorkAtHome</th>\n",
       "      <th>MeanCommute</th>\n",
       "      <th>Employed</th>\n",
       "      <th>PrivateWork</th>\n",
       "      <th>PublicWork</th>\n",
       "      <th>SelfEmployed</th>\n",
       "      <th>FamilyWork</th>\n",
       "      <th>Unemployment</th>\n",
       "      <th>zip</th>\n",
       "    </tr>\n",
       "  </thead>\n",
       "  <tbody>\n",
       "    <tr>\n",
       "      <th>0</th>\n",
       "      <td>1001020100</td>\n",
       "      <td>Prattville</td>\n",
       "      <td>AL</td>\n",
       "      <td>Alabama</td>\n",
       "      <td>Autauga County</td>\n",
       "      <td>Autauga</td>\n",
       "      <td>1845</td>\n",
       "      <td>899</td>\n",
       "      <td>946</td>\n",
       "      <td>2.4</td>\n",
       "      <td>...</td>\n",
       "      <td>0.0</td>\n",
       "      <td>2.0</td>\n",
       "      <td>24.4</td>\n",
       "      <td>881</td>\n",
       "      <td>74.1</td>\n",
       "      <td>21.1</td>\n",
       "      <td>4.4</td>\n",
       "      <td>0.0</td>\n",
       "      <td>4.6</td>\n",
       "      <td>36067</td>\n",
       "    </tr>\n",
       "    <tr>\n",
       "      <th>1</th>\n",
       "      <td>1001020200</td>\n",
       "      <td>Prattville</td>\n",
       "      <td>AL</td>\n",
       "      <td>Alabama</td>\n",
       "      <td>Autauga County</td>\n",
       "      <td>Autauga</td>\n",
       "      <td>2110</td>\n",
       "      <td>1134</td>\n",
       "      <td>976</td>\n",
       "      <td>1.0</td>\n",
       "      <td>...</td>\n",
       "      <td>0.4</td>\n",
       "      <td>0.0</td>\n",
       "      <td>22.1</td>\n",
       "      <td>827</td>\n",
       "      <td>75.8</td>\n",
       "      <td>14.9</td>\n",
       "      <td>8.8</td>\n",
       "      <td>0.0</td>\n",
       "      <td>3.3</td>\n",
       "      <td>36067</td>\n",
       "    </tr>\n",
       "    <tr>\n",
       "      <th>2</th>\n",
       "      <td>1001020300</td>\n",
       "      <td>Prattville</td>\n",
       "      <td>AL</td>\n",
       "      <td>Alabama</td>\n",
       "      <td>Autauga County</td>\n",
       "      <td>Autauga</td>\n",
       "      <td>3385</td>\n",
       "      <td>1533</td>\n",
       "      <td>1852</td>\n",
       "      <td>8.0</td>\n",
       "      <td>...</td>\n",
       "      <td>0.7</td>\n",
       "      <td>1.5</td>\n",
       "      <td>23.1</td>\n",
       "      <td>1482</td>\n",
       "      <td>73.3</td>\n",
       "      <td>21.1</td>\n",
       "      <td>4.8</td>\n",
       "      <td>0.7</td>\n",
       "      <td>4.7</td>\n",
       "      <td>36067</td>\n",
       "    </tr>\n",
       "    <tr>\n",
       "      <th>3</th>\n",
       "      <td>1001020400</td>\n",
       "      <td>Prattville</td>\n",
       "      <td>AL</td>\n",
       "      <td>Alabama</td>\n",
       "      <td>Autauga County</td>\n",
       "      <td>Autauga</td>\n",
       "      <td>108</td>\n",
       "      <td>51</td>\n",
       "      <td>57</td>\n",
       "      <td>9.3</td>\n",
       "      <td>...</td>\n",
       "      <td>2.1</td>\n",
       "      <td>0.0</td>\n",
       "      <td>25.5</td>\n",
       "      <td>47</td>\n",
       "      <td>74.5</td>\n",
       "      <td>19.1</td>\n",
       "      <td>4.3</td>\n",
       "      <td>0.0</td>\n",
       "      <td>5.6</td>\n",
       "      <td>36067</td>\n",
       "    </tr>\n",
       "    <tr>\n",
       "      <th>4</th>\n",
       "      <td>1001020500</td>\n",
       "      <td>Prattville</td>\n",
       "      <td>AL</td>\n",
       "      <td>Alabama</td>\n",
       "      <td>Autauga County</td>\n",
       "      <td>Autauga</td>\n",
       "      <td>8</td>\n",
       "      <td>4</td>\n",
       "      <td>3</td>\n",
       "      <td>0.0</td>\n",
       "      <td>...</td>\n",
       "      <td>0.0</td>\n",
       "      <td>0.0</td>\n",
       "      <td>0.0</td>\n",
       "      <td>3</td>\n",
       "      <td>66.7</td>\n",
       "      <td>0.0</td>\n",
       "      <td>0.0</td>\n",
       "      <td>0.0</td>\n",
       "      <td>0.0</td>\n",
       "      <td>36067</td>\n",
       "    </tr>\n",
       "  </tbody>\n",
       "</table>\n",
       "<p>5 rows × 41 columns</p>\n",
       "</div>"
      ],
      "text/plain": [
       "      TractId        city state_id    State          County county_name  \\\n",
       "0  1001020100  Prattville       AL  Alabama  Autauga County     Autauga   \n",
       "1  1001020200  Prattville       AL  Alabama  Autauga County     Autauga   \n",
       "2  1001020300  Prattville       AL  Alabama  Autauga County     Autauga   \n",
       "3  1001020400  Prattville       AL  Alabama  Autauga County     Autauga   \n",
       "4  1001020500  Prattville       AL  Alabama  Autauga County     Autauga   \n",
       "\n",
       "   TotalPop   Men  Women  Hispanic  ...  OtherTransp  WorkAtHome  MeanCommute  \\\n",
       "0      1845   899    946       2.4  ...          0.0         2.0         24.4   \n",
       "1      2110  1134    976       1.0  ...          0.4         0.0         22.1   \n",
       "2      3385  1533   1852       8.0  ...          0.7         1.5         23.1   \n",
       "3       108    51     57       9.3  ...          2.1         0.0         25.5   \n",
       "4         8     4      3       0.0  ...          0.0         0.0          0.0   \n",
       "\n",
       "   Employed  PrivateWork  PublicWork  SelfEmployed  FamilyWork  Unemployment  \\\n",
       "0       881         74.1        21.1           4.4         0.0           4.6   \n",
       "1       827         75.8        14.9           8.8         0.0           3.3   \n",
       "2      1482         73.3        21.1           4.8         0.7           4.7   \n",
       "3        47         74.5        19.1           4.3         0.0           5.6   \n",
       "4         3         66.7         0.0           0.0         0.0           0.0   \n",
       "\n",
       "     zip  \n",
       "0  36067  \n",
       "1  36067  \n",
       "2  36067  \n",
       "3  36067  \n",
       "4  36067  \n",
       "\n",
       "[5 rows x 41 columns]"
      ]
     },
     "execution_count": 90,
     "metadata": {},
     "output_type": "execute_result"
    }
   ],
   "source": [
    "merge.head()"
   ]
  },
  {
   "cell_type": "markdown",
   "metadata": {
    "id": "T_jtqYyia7Vx"
   },
   "source": [
    "### Create clean copy"
   ]
  },
  {
   "cell_type": "code",
   "execution_count": 91,
   "metadata": {
    "colab": {
     "base_uri": "https://localhost:8080/"
    },
    "id": "saRIgvXLndMt",
    "outputId": "688dd112-3946-4d5e-d8db-707abf4457b9"
   },
   "outputs": [
    {
     "data": {
      "text/plain": [
       "TractId                 0\n",
       "city                    0\n",
       "state_id                0\n",
       "State                   0\n",
       "County                  0\n",
       "county_name             0\n",
       "TotalPop                0\n",
       "Men                     0\n",
       "Women                   0\n",
       "Hispanic             8795\n",
       "White                8795\n",
       "Black                8795\n",
       "Native               8795\n",
       "Asian                8795\n",
       "Pacific              8795\n",
       "VotingAgeCitizen        0\n",
       "Income                  0\n",
       "IncomeErr               0\n",
       "IncomePerCap            0\n",
       "IncomePerCapErr         0\n",
       "Poverty              8795\n",
       "ChildPoverty         8795\n",
       "Professional        10666\n",
       "Service             10666\n",
       "Office              10666\n",
       "Construction        10666\n",
       "Production          10666\n",
       "Drive               10666\n",
       "Carpool             10666\n",
       "Transit             10666\n",
       "Walk                10666\n",
       "OtherTransp         10666\n",
       "WorkAtHome          10666\n",
       "MeanCommute         10666\n",
       "Employed                0\n",
       "PrivateWork         10666\n",
       "PublicWork          10666\n",
       "SelfEmployed        10666\n",
       "FamilyWork          10666\n",
       "Unemployment         8795\n",
       "zip                     0\n",
       "dtype: int64"
      ]
     },
     "execution_count": 91,
     "metadata": {},
     "output_type": "execute_result"
    }
   ],
   "source": [
    "merge.isnull().sum()"
   ]
  },
  {
   "cell_type": "code",
   "execution_count": 92,
   "metadata": {
    "id": "VjSdSKAVa_2_"
   },
   "outputs": [],
   "source": [
    "merge = merge.dropna(axis=0, subset = ['Hispanic', 'White', 'Black', 'Native', 'Asian', 'Pacific'], how = 'all')\n",
    "merge = merge.dropna(axis=0, subset = ['Professional', 'Service', 'Office', 'Construction', \n",
    "                                       'Production','Drive', 'Carpool', 'Transit', 'Walk', \n",
    "                                       'OtherTransp', 'WorkAtHome', 'MeanCommute'], how = 'all')\n",
    "merge = merge.replace(np.nan, 0)"
   ]
  },
  {
   "cell_type": "code",
   "execution_count": 93,
   "metadata": {
    "colab": {
     "base_uri": "https://localhost:8080/"
    },
    "id": "L0Z_ey1LoI0A",
    "outputId": "f8e816b3-7a97-4916-818b-aeac520c1e39"
   },
   "outputs": [
    {
     "data": {
      "text/plain": [
       "(149325, 41)"
      ]
     },
     "execution_count": 93,
     "metadata": {},
     "output_type": "execute_result"
    }
   ],
   "source": [
    "merge.shape"
   ]
  },
  {
   "cell_type": "code",
   "execution_count": 94,
   "metadata": {
    "id": "R8fLt0ictFrn"
   },
   "outputs": [],
   "source": [
    "merge.to_csv('merge.csv')"
   ]
  },
  {
   "cell_type": "markdown",
   "metadata": {
    "id": "E-cRYKNYS0Ln"
   },
   "source": [
    "##  CSVs - Group by Cities"
   ]
  },
  {
   "cell_type": "code",
   "execution_count": 95,
   "metadata": {
    "id": "5oj658Q3YjpX"
   },
   "outputs": [],
   "source": [
    "merge = merge.rename(columns = {'city': 'City',\n",
    "                                'state_id':'State_Id'})"
   ]
  },
  {
   "cell_type": "markdown",
   "metadata": {
    "id": "zMzOx-mmUhLQ"
   },
   "source": [
    "### Diversity"
   ]
  },
  {
   "cell_type": "code",
   "execution_count": 96,
   "metadata": {
    "colab": {
     "base_uri": "https://localhost:8080/",
     "height": 206
    },
    "id": "TgmIwBlwE5vD",
    "outputId": "1ccbb9d4-2c03-460d-a256-a46976349759"
   },
   "outputs": [
    {
     "data": {
      "text/html": [
       "<div>\n",
       "<style scoped>\n",
       "    .dataframe tbody tr th:only-of-type {\n",
       "        vertical-align: middle;\n",
       "    }\n",
       "\n",
       "    .dataframe tbody tr th {\n",
       "        vertical-align: top;\n",
       "    }\n",
       "\n",
       "    .dataframe thead th {\n",
       "        text-align: right;\n",
       "    }\n",
       "</style>\n",
       "<table border=\"1\" class=\"dataframe\">\n",
       "  <thead>\n",
       "    <tr style=\"text-align: right;\">\n",
       "      <th></th>\n",
       "      <th>City</th>\n",
       "      <th>State_Id</th>\n",
       "      <th>TotalPop</th>\n",
       "      <th>Men</th>\n",
       "      <th>Women</th>\n",
       "    </tr>\n",
       "  </thead>\n",
       "  <tbody>\n",
       "    <tr>\n",
       "      <th>0</th>\n",
       "      <td>Aaronsburg</td>\n",
       "      <td>PA</td>\n",
       "      <td>1056</td>\n",
       "      <td>532</td>\n",
       "      <td>524</td>\n",
       "    </tr>\n",
       "    <tr>\n",
       "      <th>1</th>\n",
       "      <td>Abbeville</td>\n",
       "      <td>AL</td>\n",
       "      <td>6693</td>\n",
       "      <td>3361</td>\n",
       "      <td>3329</td>\n",
       "    </tr>\n",
       "    <tr>\n",
       "      <th>2</th>\n",
       "      <td>Abbeville</td>\n",
       "      <td>GA</td>\n",
       "      <td>4683</td>\n",
       "      <td>3205</td>\n",
       "      <td>1478</td>\n",
       "    </tr>\n",
       "    <tr>\n",
       "      <th>3</th>\n",
       "      <td>Abbeville</td>\n",
       "      <td>LA</td>\n",
       "      <td>25185</td>\n",
       "      <td>12341</td>\n",
       "      <td>12839</td>\n",
       "    </tr>\n",
       "    <tr>\n",
       "      <th>4</th>\n",
       "      <td>Abbeville</td>\n",
       "      <td>MS</td>\n",
       "      <td>2078</td>\n",
       "      <td>1033</td>\n",
       "      <td>1042</td>\n",
       "    </tr>\n",
       "  </tbody>\n",
       "</table>\n",
       "</div>"
      ],
      "text/plain": [
       "         City State_Id  TotalPop    Men  Women\n",
       "0  Aaronsburg       PA      1056    532    524\n",
       "1   Abbeville       AL      6693   3361   3329\n",
       "2   Abbeville       GA      4683   3205   1478\n",
       "3   Abbeville       LA     25185  12341  12839\n",
       "4   Abbeville       MS      2078   1033   1042"
      ]
     },
     "execution_count": 96,
     "metadata": {},
     "output_type": "execute_result"
    }
   ],
   "source": [
    "total_pop_df = merge[['TotalPop', 'Men', 'Women','City', 'State_Id']].groupby(['City', 'State_Id'],as_index=False).sum()\n",
    "total_pop_df.head()"
   ]
  },
  {
   "cell_type": "code",
   "execution_count": 97,
   "metadata": {
    "colab": {
     "base_uri": "https://localhost:8080/",
     "height": 206
    },
    "id": "r_1UBhJHS4B0",
    "outputId": "16e3e203-8bf2-4251-eb02-f62c31df2293"
   },
   "outputs": [
    {
     "data": {
      "text/html": [
       "<div>\n",
       "<style scoped>\n",
       "    .dataframe tbody tr th:only-of-type {\n",
       "        vertical-align: middle;\n",
       "    }\n",
       "\n",
       "    .dataframe tbody tr th {\n",
       "        vertical-align: top;\n",
       "    }\n",
       "\n",
       "    .dataframe thead th {\n",
       "        text-align: right;\n",
       "    }\n",
       "</style>\n",
       "<table border=\"1\" class=\"dataframe\">\n",
       "  <thead>\n",
       "    <tr style=\"text-align: right;\">\n",
       "      <th></th>\n",
       "      <th>City</th>\n",
       "      <th>State_Id</th>\n",
       "      <th>Hispanic</th>\n",
       "      <th>White</th>\n",
       "      <th>Black</th>\n",
       "      <th>Native</th>\n",
       "      <th>Asian</th>\n",
       "      <th>Pacific</th>\n",
       "    </tr>\n",
       "  </thead>\n",
       "  <tbody>\n",
       "    <tr>\n",
       "      <th>0</th>\n",
       "      <td>Aaronsburg</td>\n",
       "      <td>PA</td>\n",
       "      <td>1.0</td>\n",
       "      <td>97.4</td>\n",
       "      <td>0.0</td>\n",
       "      <td>0.0</td>\n",
       "      <td>0.7</td>\n",
       "      <td>0.0</td>\n",
       "    </tr>\n",
       "    <tr>\n",
       "      <th>1</th>\n",
       "      <td>Abbeville</td>\n",
       "      <td>AL</td>\n",
       "      <td>3.6</td>\n",
       "      <td>64.2</td>\n",
       "      <td>31.4</td>\n",
       "      <td>0.0</td>\n",
       "      <td>0.0</td>\n",
       "      <td>0.0</td>\n",
       "    </tr>\n",
       "    <tr>\n",
       "      <th>2</th>\n",
       "      <td>Abbeville</td>\n",
       "      <td>GA</td>\n",
       "      <td>2.7</td>\n",
       "      <td>58.7</td>\n",
       "      <td>37.1</td>\n",
       "      <td>0.4</td>\n",
       "      <td>0.0</td>\n",
       "      <td>0.0</td>\n",
       "    </tr>\n",
       "    <tr>\n",
       "      <th>3</th>\n",
       "      <td>Abbeville</td>\n",
       "      <td>LA</td>\n",
       "      <td>3.9</td>\n",
       "      <td>77.0</td>\n",
       "      <td>14.2</td>\n",
       "      <td>0.3</td>\n",
       "      <td>2.1</td>\n",
       "      <td>0.0</td>\n",
       "    </tr>\n",
       "    <tr>\n",
       "      <th>4</th>\n",
       "      <td>Abbeville</td>\n",
       "      <td>MS</td>\n",
       "      <td>4.7</td>\n",
       "      <td>60.9</td>\n",
       "      <td>31.3</td>\n",
       "      <td>0.0</td>\n",
       "      <td>0.8</td>\n",
       "      <td>0.0</td>\n",
       "    </tr>\n",
       "  </tbody>\n",
       "</table>\n",
       "</div>"
      ],
      "text/plain": [
       "         City State_Id  Hispanic  White  Black  Native  Asian  Pacific\n",
       "0  Aaronsburg       PA       1.0   97.4    0.0     0.0    0.7      0.0\n",
       "1   Abbeville       AL       3.6   64.2   31.4     0.0    0.0      0.0\n",
       "2   Abbeville       GA       2.7   58.7   37.1     0.4    0.0      0.0\n",
       "3   Abbeville       LA       3.9   77.0   14.2     0.3    2.1      0.0\n",
       "4   Abbeville       MS       4.7   60.9   31.3     0.0    0.8      0.0"
      ]
     },
     "execution_count": 97,
     "metadata": {},
     "output_type": "execute_result"
    }
   ],
   "source": [
    "diversity_df = merge[['Hispanic','White', 'Black', 'Native', 'Asian', 'Pacific', 'City', 'State_Id']].groupby(['City', 'State_Id'],as_index=False).mean()\n",
    "diversity_df[['Hispanic','White', 'Black', 'Native', 'Asian', 'Pacific']] = diversity_df[['Hispanic','White', 'Black', 'Native', 'Asian', 'Pacific']].round(1)\n",
    "diversity_df.head()"
   ]
  },
  {
   "cell_type": "code",
   "execution_count": 98,
   "metadata": {
    "colab": {
     "base_uri": "https://localhost:8080/",
     "height": 206
    },
    "id": "UUfAWKwdFK-2",
    "outputId": "a9b2398a-55cb-4fd4-8d78-89f9458383c3"
   },
   "outputs": [
    {
     "data": {
      "text/html": [
       "<div>\n",
       "<style scoped>\n",
       "    .dataframe tbody tr th:only-of-type {\n",
       "        vertical-align: middle;\n",
       "    }\n",
       "\n",
       "    .dataframe tbody tr th {\n",
       "        vertical-align: top;\n",
       "    }\n",
       "\n",
       "    .dataframe thead th {\n",
       "        text-align: right;\n",
       "    }\n",
       "</style>\n",
       "<table border=\"1\" class=\"dataframe\">\n",
       "  <thead>\n",
       "    <tr style=\"text-align: right;\">\n",
       "      <th></th>\n",
       "      <th>City</th>\n",
       "      <th>State_Id</th>\n",
       "      <th>TotalPop</th>\n",
       "      <th>Men</th>\n",
       "      <th>Women</th>\n",
       "      <th>Hispanic</th>\n",
       "      <th>White</th>\n",
       "      <th>Black</th>\n",
       "      <th>Native</th>\n",
       "      <th>Asian</th>\n",
       "      <th>Pacific</th>\n",
       "    </tr>\n",
       "  </thead>\n",
       "  <tbody>\n",
       "    <tr>\n",
       "      <th>0</th>\n",
       "      <td>Aaronsburg</td>\n",
       "      <td>PA</td>\n",
       "      <td>1056</td>\n",
       "      <td>532</td>\n",
       "      <td>524</td>\n",
       "      <td>1.0</td>\n",
       "      <td>97.4</td>\n",
       "      <td>0.0</td>\n",
       "      <td>0.0</td>\n",
       "      <td>0.7</td>\n",
       "      <td>0.0</td>\n",
       "    </tr>\n",
       "    <tr>\n",
       "      <th>1</th>\n",
       "      <td>Abbeville</td>\n",
       "      <td>AL</td>\n",
       "      <td>6693</td>\n",
       "      <td>3361</td>\n",
       "      <td>3329</td>\n",
       "      <td>3.6</td>\n",
       "      <td>64.2</td>\n",
       "      <td>31.4</td>\n",
       "      <td>0.0</td>\n",
       "      <td>0.0</td>\n",
       "      <td>0.0</td>\n",
       "    </tr>\n",
       "    <tr>\n",
       "      <th>2</th>\n",
       "      <td>Abbeville</td>\n",
       "      <td>GA</td>\n",
       "      <td>4683</td>\n",
       "      <td>3205</td>\n",
       "      <td>1478</td>\n",
       "      <td>2.7</td>\n",
       "      <td>58.7</td>\n",
       "      <td>37.1</td>\n",
       "      <td>0.4</td>\n",
       "      <td>0.0</td>\n",
       "      <td>0.0</td>\n",
       "    </tr>\n",
       "    <tr>\n",
       "      <th>3</th>\n",
       "      <td>Abbeville</td>\n",
       "      <td>LA</td>\n",
       "      <td>25185</td>\n",
       "      <td>12341</td>\n",
       "      <td>12839</td>\n",
       "      <td>3.9</td>\n",
       "      <td>77.0</td>\n",
       "      <td>14.2</td>\n",
       "      <td>0.3</td>\n",
       "      <td>2.1</td>\n",
       "      <td>0.0</td>\n",
       "    </tr>\n",
       "    <tr>\n",
       "      <th>4</th>\n",
       "      <td>Abbeville</td>\n",
       "      <td>MS</td>\n",
       "      <td>2078</td>\n",
       "      <td>1033</td>\n",
       "      <td>1042</td>\n",
       "      <td>4.7</td>\n",
       "      <td>60.9</td>\n",
       "      <td>31.3</td>\n",
       "      <td>0.0</td>\n",
       "      <td>0.8</td>\n",
       "      <td>0.0</td>\n",
       "    </tr>\n",
       "  </tbody>\n",
       "</table>\n",
       "</div>"
      ],
      "text/plain": [
       "         City State_Id  TotalPop    Men  Women  Hispanic  White  Black  \\\n",
       "0  Aaronsburg       PA      1056    532    524       1.0   97.4    0.0   \n",
       "1   Abbeville       AL      6693   3361   3329       3.6   64.2   31.4   \n",
       "2   Abbeville       GA      4683   3205   1478       2.7   58.7   37.1   \n",
       "3   Abbeville       LA     25185  12341  12839       3.9   77.0   14.2   \n",
       "4   Abbeville       MS      2078   1033   1042       4.7   60.9   31.3   \n",
       "\n",
       "   Native  Asian  Pacific  \n",
       "0     0.0    0.7      0.0  \n",
       "1     0.0    0.0      0.0  \n",
       "2     0.4    0.0      0.0  \n",
       "3     0.3    2.1      0.0  \n",
       "4     0.0    0.8      0.0  "
      ]
     },
     "execution_count": 98,
     "metadata": {},
     "output_type": "execute_result"
    }
   ],
   "source": [
    "diversity_df = total_pop_df.merge(diversity_df, on = ['City', 'State_Id'])\n",
    "diversity_df.head()"
   ]
  },
  {
   "cell_type": "markdown",
   "metadata": {
    "id": "5wvl5r7RUktG"
   },
   "source": [
    "### Income Per Capita"
   ]
  },
  {
   "cell_type": "code",
   "execution_count": 99,
   "metadata": {
    "colab": {
     "base_uri": "https://localhost:8080/",
     "height": 206
    },
    "id": "KC0IGEM2Uj3L",
    "outputId": "330f1878-d027-4901-9e9d-bee3f3a4fe48"
   },
   "outputs": [
    {
     "data": {
      "text/html": [
       "<div>\n",
       "<style scoped>\n",
       "    .dataframe tbody tr th:only-of-type {\n",
       "        vertical-align: middle;\n",
       "    }\n",
       "\n",
       "    .dataframe tbody tr th {\n",
       "        vertical-align: top;\n",
       "    }\n",
       "\n",
       "    .dataframe thead th {\n",
       "        text-align: right;\n",
       "    }\n",
       "</style>\n",
       "<table border=\"1\" class=\"dataframe\">\n",
       "  <thead>\n",
       "    <tr style=\"text-align: right;\">\n",
       "      <th></th>\n",
       "      <th>City</th>\n",
       "      <th>State_Id</th>\n",
       "      <th>Income</th>\n",
       "      <th>IncomeErr</th>\n",
       "      <th>IncomePerCap</th>\n",
       "      <th>IncomePerCapErr</th>\n",
       "    </tr>\n",
       "  </thead>\n",
       "  <tbody>\n",
       "    <tr>\n",
       "      <th>0</th>\n",
       "      <td>Aaronsburg</td>\n",
       "      <td>PA</td>\n",
       "      <td>10258.0</td>\n",
       "      <td>1258.0</td>\n",
       "      <td>4516.0</td>\n",
       "      <td>324.0</td>\n",
       "    </tr>\n",
       "    <tr>\n",
       "      <th>1</th>\n",
       "      <td>Abbeville</td>\n",
       "      <td>AL</td>\n",
       "      <td>27895.8</td>\n",
       "      <td>6168.8</td>\n",
       "      <td>15016.5</td>\n",
       "      <td>2161.2</td>\n",
       "    </tr>\n",
       "    <tr>\n",
       "      <th>2</th>\n",
       "      <td>Abbeville</td>\n",
       "      <td>GA</td>\n",
       "      <td>14165.7</td>\n",
       "      <td>3522.0</td>\n",
       "      <td>5631.3</td>\n",
       "      <td>1339.0</td>\n",
       "    </tr>\n",
       "    <tr>\n",
       "      <th>3</th>\n",
       "      <td>Abbeville</td>\n",
       "      <td>LA</td>\n",
       "      <td>26087.2</td>\n",
       "      <td>5041.7</td>\n",
       "      <td>12330.7</td>\n",
       "      <td>1597.9</td>\n",
       "    </tr>\n",
       "    <tr>\n",
       "      <th>4</th>\n",
       "      <td>Abbeville</td>\n",
       "      <td>MS</td>\n",
       "      <td>7885.3</td>\n",
       "      <td>1314.7</td>\n",
       "      <td>4145.0</td>\n",
       "      <td>634.3</td>\n",
       "    </tr>\n",
       "  </tbody>\n",
       "</table>\n",
       "</div>"
      ],
      "text/plain": [
       "         City State_Id   Income  IncomeErr  IncomePerCap  IncomePerCapErr\n",
       "0  Aaronsburg       PA  10258.0     1258.0        4516.0            324.0\n",
       "1   Abbeville       AL  27895.8     6168.8       15016.5           2161.2\n",
       "2   Abbeville       GA  14165.7     3522.0        5631.3           1339.0\n",
       "3   Abbeville       LA  26087.2     5041.7       12330.7           1597.9\n",
       "4   Abbeville       MS   7885.3     1314.7        4145.0            634.3"
      ]
     },
     "execution_count": 99,
     "metadata": {},
     "output_type": "execute_result"
    }
   ],
   "source": [
    "income_per_capita_df = merge[['Income', 'IncomeErr', 'IncomePerCap', 'IncomePerCapErr','City', 'State_Id']].groupby(['City', 'State_Id'],as_index=False).mean()\n",
    "income_per_capita_df[['Income', 'IncomeErr', 'IncomePerCap', 'IncomePerCapErr']] = income_per_capita_df[['Income', 'IncomeErr', 'IncomePerCap', 'IncomePerCapErr']].round(1)\n",
    "income_per_capita_df.to_csv(\"income_per_capita_df.csv\",index=False)\n",
    "income_per_capita_df.head()"
   ]
  },
  {
   "cell_type": "markdown",
   "metadata": {
    "id": "2a_NFNN-U-eg"
   },
   "source": [
    "### Poverty"
   ]
  },
  {
   "cell_type": "code",
   "execution_count": 100,
   "metadata": {
    "colab": {
     "base_uri": "https://localhost:8080/",
     "height": 206
    },
    "id": "Qd9AcRJCVA6G",
    "outputId": "d51376ec-e539-4fbd-c69c-547f49285804"
   },
   "outputs": [
    {
     "data": {
      "text/html": [
       "<div>\n",
       "<style scoped>\n",
       "    .dataframe tbody tr th:only-of-type {\n",
       "        vertical-align: middle;\n",
       "    }\n",
       "\n",
       "    .dataframe tbody tr th {\n",
       "        vertical-align: top;\n",
       "    }\n",
       "\n",
       "    .dataframe thead th {\n",
       "        text-align: right;\n",
       "    }\n",
       "</style>\n",
       "<table border=\"1\" class=\"dataframe\">\n",
       "  <thead>\n",
       "    <tr style=\"text-align: right;\">\n",
       "      <th></th>\n",
       "      <th>City</th>\n",
       "      <th>State_Id</th>\n",
       "      <th>Poverty</th>\n",
       "      <th>ChildPoverty</th>\n",
       "    </tr>\n",
       "  </thead>\n",
       "  <tbody>\n",
       "    <tr>\n",
       "      <th>0</th>\n",
       "      <td>Aaronsburg</td>\n",
       "      <td>PA</td>\n",
       "      <td>16.4</td>\n",
       "      <td>31.6</td>\n",
       "    </tr>\n",
       "    <tr>\n",
       "      <th>1</th>\n",
       "      <td>Abbeville</td>\n",
       "      <td>AL</td>\n",
       "      <td>71.5</td>\n",
       "      <td>126.0</td>\n",
       "    </tr>\n",
       "    <tr>\n",
       "      <th>2</th>\n",
       "      <td>Abbeville</td>\n",
       "      <td>GA</td>\n",
       "      <td>75.2</td>\n",
       "      <td>100.5</td>\n",
       "    </tr>\n",
       "    <tr>\n",
       "      <th>3</th>\n",
       "      <td>Abbeville</td>\n",
       "      <td>LA</td>\n",
       "      <td>201.7</td>\n",
       "      <td>251.2</td>\n",
       "    </tr>\n",
       "    <tr>\n",
       "      <th>4</th>\n",
       "      <td>Abbeville</td>\n",
       "      <td>MS</td>\n",
       "      <td>58.8</td>\n",
       "      <td>87.8</td>\n",
       "    </tr>\n",
       "  </tbody>\n",
       "</table>\n",
       "</div>"
      ],
      "text/plain": [
       "         City State_Id  Poverty  ChildPoverty\n",
       "0  Aaronsburg       PA     16.4          31.6\n",
       "1   Abbeville       AL     71.5         126.0\n",
       "2   Abbeville       GA     75.2         100.5\n",
       "3   Abbeville       LA    201.7         251.2\n",
       "4   Abbeville       MS     58.8          87.8"
      ]
     },
     "execution_count": 100,
     "metadata": {},
     "output_type": "execute_result"
    }
   ],
   "source": [
    "poverty_df = merge[['Poverty', 'ChildPoverty','City', 'State_Id']].groupby(['City', 'State_Id'],as_index=False).sum()\n",
    "poverty_df.to_csv(\"poverty_df.csv\",index=False)\n",
    "poverty_df.head()"
   ]
  },
  {
   "cell_type": "markdown",
   "metadata": {
    "id": "Ps523aRSoYfQ"
   },
   "source": [
    "### Industries"
   ]
  },
  {
   "cell_type": "code",
   "execution_count": 101,
   "metadata": {
    "colab": {
     "base_uri": "https://localhost:8080/",
     "height": 206
    },
    "id": "LzO-rK8mVPSQ",
    "outputId": "6f95a154-4941-40c5-c20f-1148700144fd"
   },
   "outputs": [
    {
     "data": {
      "text/html": [
       "<div>\n",
       "<style scoped>\n",
       "    .dataframe tbody tr th:only-of-type {\n",
       "        vertical-align: middle;\n",
       "    }\n",
       "\n",
       "    .dataframe tbody tr th {\n",
       "        vertical-align: top;\n",
       "    }\n",
       "\n",
       "    .dataframe thead th {\n",
       "        text-align: right;\n",
       "    }\n",
       "</style>\n",
       "<table border=\"1\" class=\"dataframe\">\n",
       "  <thead>\n",
       "    <tr style=\"text-align: right;\">\n",
       "      <th></th>\n",
       "      <th>City</th>\n",
       "      <th>State_Id</th>\n",
       "      <th>Professional</th>\n",
       "      <th>Service</th>\n",
       "      <th>Office</th>\n",
       "      <th>Construction</th>\n",
       "      <th>Production</th>\n",
       "    </tr>\n",
       "  </thead>\n",
       "  <tbody>\n",
       "    <tr>\n",
       "      <th>0</th>\n",
       "      <td>Aaronsburg</td>\n",
       "      <td>PA</td>\n",
       "      <td>27.5</td>\n",
       "      <td>21.1</td>\n",
       "      <td>18.9</td>\n",
       "      <td>15.5</td>\n",
       "      <td>16.5</td>\n",
       "    </tr>\n",
       "    <tr>\n",
       "      <th>1</th>\n",
       "      <td>Abbeville</td>\n",
       "      <td>AL</td>\n",
       "      <td>109.5</td>\n",
       "      <td>72.2</td>\n",
       "      <td>76.2</td>\n",
       "      <td>39.3</td>\n",
       "      <td>99.5</td>\n",
       "    </tr>\n",
       "    <tr>\n",
       "      <th>2</th>\n",
       "      <td>Abbeville</td>\n",
       "      <td>GA</td>\n",
       "      <td>86.0</td>\n",
       "      <td>75.6</td>\n",
       "      <td>42.3</td>\n",
       "      <td>41.6</td>\n",
       "      <td>48.6</td>\n",
       "    </tr>\n",
       "    <tr>\n",
       "      <th>3</th>\n",
       "      <td>Abbeville</td>\n",
       "      <td>LA</td>\n",
       "      <td>277.0</td>\n",
       "      <td>169.7</td>\n",
       "      <td>266.4</td>\n",
       "      <td>188.8</td>\n",
       "      <td>135.9</td>\n",
       "    </tr>\n",
       "    <tr>\n",
       "      <th>4</th>\n",
       "      <td>Abbeville</td>\n",
       "      <td>MS</td>\n",
       "      <td>107.1</td>\n",
       "      <td>62.7</td>\n",
       "      <td>44.1</td>\n",
       "      <td>24.6</td>\n",
       "      <td>52.3</td>\n",
       "    </tr>\n",
       "  </tbody>\n",
       "</table>\n",
       "</div>"
      ],
      "text/plain": [
       "         City State_Id  Professional  Service  Office  Construction  \\\n",
       "0  Aaronsburg       PA          27.5     21.1    18.9          15.5   \n",
       "1   Abbeville       AL         109.5     72.2    76.2          39.3   \n",
       "2   Abbeville       GA          86.0     75.6    42.3          41.6   \n",
       "3   Abbeville       LA         277.0    169.7   266.4         188.8   \n",
       "4   Abbeville       MS         107.1     62.7    44.1          24.6   \n",
       "\n",
       "   Production  \n",
       "0        16.5  \n",
       "1        99.5  \n",
       "2        48.6  \n",
       "3       135.9  \n",
       "4        52.3  "
      ]
     },
     "execution_count": 101,
     "metadata": {},
     "output_type": "execute_result"
    }
   ],
   "source": [
    "industry_df = merge[['Professional', 'Service', 'Office', 'Construction', 'Production','City', 'State_Id']].groupby(['City', 'State_Id'],as_index=False).sum()\n",
    "industry_df.to_csv(\"industry_df.csv\",index=False)\n",
    "industry_df.head()"
   ]
  },
  {
   "cell_type": "markdown",
   "metadata": {
    "id": "tpGWQauioaqD"
   },
   "source": [
    "### Transportation"
   ]
  },
  {
   "cell_type": "code",
   "execution_count": 102,
   "metadata": {
    "colab": {
     "base_uri": "https://localhost:8080/",
     "height": 206
    },
    "id": "7jYvgDutVePe",
    "outputId": "00ec774f-3225-4cc5-b51e-8746a2642cad"
   },
   "outputs": [
    {
     "data": {
      "text/html": [
       "<div>\n",
       "<style scoped>\n",
       "    .dataframe tbody tr th:only-of-type {\n",
       "        vertical-align: middle;\n",
       "    }\n",
       "\n",
       "    .dataframe tbody tr th {\n",
       "        vertical-align: top;\n",
       "    }\n",
       "\n",
       "    .dataframe thead th {\n",
       "        text-align: right;\n",
       "    }\n",
       "</style>\n",
       "<table border=\"1\" class=\"dataframe\">\n",
       "  <thead>\n",
       "    <tr style=\"text-align: right;\">\n",
       "      <th></th>\n",
       "      <th>City</th>\n",
       "      <th>State_Id</th>\n",
       "      <th>Drive</th>\n",
       "      <th>Carpool</th>\n",
       "      <th>Transit</th>\n",
       "      <th>Walk</th>\n",
       "      <th>OtherTransp</th>\n",
       "      <th>WorkAtHome</th>\n",
       "      <th>MeanCommute</th>\n",
       "    </tr>\n",
       "  </thead>\n",
       "  <tbody>\n",
       "    <tr>\n",
       "      <th>0</th>\n",
       "      <td>Aaronsburg</td>\n",
       "      <td>PA</td>\n",
       "      <td>69.5</td>\n",
       "      <td>12.4</td>\n",
       "      <td>0.2</td>\n",
       "      <td>3.8</td>\n",
       "      <td>3.6</td>\n",
       "      <td>10.2</td>\n",
       "      <td>27.7</td>\n",
       "    </tr>\n",
       "    <tr>\n",
       "      <th>1</th>\n",
       "      <td>Abbeville</td>\n",
       "      <td>AL</td>\n",
       "      <td>85.0</td>\n",
       "      <td>9.1</td>\n",
       "      <td>0.0</td>\n",
       "      <td>1.0</td>\n",
       "      <td>1.6</td>\n",
       "      <td>2.4</td>\n",
       "      <td>26.7</td>\n",
       "    </tr>\n",
       "    <tr>\n",
       "      <th>2</th>\n",
       "      <td>Abbeville</td>\n",
       "      <td>GA</td>\n",
       "      <td>86.2</td>\n",
       "      <td>6.6</td>\n",
       "      <td>0.0</td>\n",
       "      <td>1.5</td>\n",
       "      <td>0.9</td>\n",
       "      <td>2.9</td>\n",
       "      <td>26.8</td>\n",
       "    </tr>\n",
       "    <tr>\n",
       "      <th>3</th>\n",
       "      <td>Abbeville</td>\n",
       "      <td>LA</td>\n",
       "      <td>80.1</td>\n",
       "      <td>9.9</td>\n",
       "      <td>0.1</td>\n",
       "      <td>3.1</td>\n",
       "      <td>1.5</td>\n",
       "      <td>2.8</td>\n",
       "      <td>29.1</td>\n",
       "    </tr>\n",
       "    <tr>\n",
       "      <th>4</th>\n",
       "      <td>Abbeville</td>\n",
       "      <td>MS</td>\n",
       "      <td>83.4</td>\n",
       "      <td>11.3</td>\n",
       "      <td>0.4</td>\n",
       "      <td>0.3</td>\n",
       "      <td>0.0</td>\n",
       "      <td>1.5</td>\n",
       "      <td>25.0</td>\n",
       "    </tr>\n",
       "  </tbody>\n",
       "</table>\n",
       "</div>"
      ],
      "text/plain": [
       "         City State_Id  Drive  Carpool  Transit  Walk  OtherTransp  \\\n",
       "0  Aaronsburg       PA   69.5     12.4      0.2   3.8          3.6   \n",
       "1   Abbeville       AL   85.0      9.1      0.0   1.0          1.6   \n",
       "2   Abbeville       GA   86.2      6.6      0.0   1.5          0.9   \n",
       "3   Abbeville       LA   80.1      9.9      0.1   3.1          1.5   \n",
       "4   Abbeville       MS   83.4     11.3      0.4   0.3          0.0   \n",
       "\n",
       "   WorkAtHome  MeanCommute  \n",
       "0        10.2         27.7  \n",
       "1         2.4         26.7  \n",
       "2         2.9         26.8  \n",
       "3         2.8         29.1  \n",
       "4         1.5         25.0  "
      ]
     },
     "execution_count": 102,
     "metadata": {},
     "output_type": "execute_result"
    }
   ],
   "source": [
    "transportation_df = merge[['Drive', 'Carpool', 'Transit', 'Walk', 'OtherTransp', 'WorkAtHome', 'MeanCommute','City', 'State_Id']].groupby(['City', 'State_Id'],as_index=False).mean()\n",
    "transportation_df[['Drive', 'Carpool', 'Transit', 'Walk', 'OtherTransp', 'WorkAtHome', 'MeanCommute',]] = transportation_df[['Drive', 'Carpool', 'Transit', 'Walk', 'OtherTransp', 'WorkAtHome', 'MeanCommute']].round(1)\n",
    "transportation_df.to_csv(\"transportation_df.csv\",index=False)\n",
    "transportation_df.head()"
   ]
  },
  {
   "cell_type": "markdown",
   "metadata": {
    "id": "jYsrgVY7odtK"
   },
   "source": [
    "### Employment"
   ]
  },
  {
   "cell_type": "code",
   "execution_count": 103,
   "metadata": {
    "colab": {
     "base_uri": "https://localhost:8080/",
     "height": 206
    },
    "id": "EG1Pfoq6aAXw",
    "outputId": "38c140d8-b2f2-4242-873f-aefb5f33956b"
   },
   "outputs": [
    {
     "data": {
      "text/html": [
       "<div>\n",
       "<style scoped>\n",
       "    .dataframe tbody tr th:only-of-type {\n",
       "        vertical-align: middle;\n",
       "    }\n",
       "\n",
       "    .dataframe tbody tr th {\n",
       "        vertical-align: top;\n",
       "    }\n",
       "\n",
       "    .dataframe thead th {\n",
       "        text-align: right;\n",
       "    }\n",
       "</style>\n",
       "<table border=\"1\" class=\"dataframe\">\n",
       "  <thead>\n",
       "    <tr style=\"text-align: right;\">\n",
       "      <th></th>\n",
       "      <th>City</th>\n",
       "      <th>State_Id</th>\n",
       "      <th>Employed</th>\n",
       "      <th>Unemployment</th>\n",
       "    </tr>\n",
       "  </thead>\n",
       "  <tbody>\n",
       "    <tr>\n",
       "      <th>0</th>\n",
       "      <td>Aaronsburg</td>\n",
       "      <td>PA</td>\n",
       "      <td>502</td>\n",
       "      <td>3.1</td>\n",
       "    </tr>\n",
       "    <tr>\n",
       "      <th>1</th>\n",
       "      <td>Abbeville</td>\n",
       "      <td>AL</td>\n",
       "      <td>2485</td>\n",
       "      <td>31.0</td>\n",
       "    </tr>\n",
       "    <tr>\n",
       "      <th>2</th>\n",
       "      <td>Abbeville</td>\n",
       "      <td>GA</td>\n",
       "      <td>824</td>\n",
       "      <td>18.0</td>\n",
       "    </tr>\n",
       "    <tr>\n",
       "      <th>3</th>\n",
       "      <td>Abbeville</td>\n",
       "      <td>LA</td>\n",
       "      <td>10437</td>\n",
       "      <td>76.5</td>\n",
       "    </tr>\n",
       "    <tr>\n",
       "      <th>4</th>\n",
       "      <td>Abbeville</td>\n",
       "      <td>MS</td>\n",
       "      <td>887</td>\n",
       "      <td>17.3</td>\n",
       "    </tr>\n",
       "  </tbody>\n",
       "</table>\n",
       "</div>"
      ],
      "text/plain": [
       "         City State_Id  Employed  Unemployment\n",
       "0  Aaronsburg       PA       502           3.1\n",
       "1   Abbeville       AL      2485          31.0\n",
       "2   Abbeville       GA       824          18.0\n",
       "3   Abbeville       LA     10437          76.5\n",
       "4   Abbeville       MS       887          17.3"
      ]
     },
     "execution_count": 103,
     "metadata": {},
     "output_type": "execute_result"
    }
   ],
   "source": [
    "employment_df = merge[['Employed', 'Unemployment','City', 'State_Id']].groupby(['City', 'State_Id'],as_index=False).sum()\n",
    "employment_df.to_csv('employment_df.csv', index=False)\n",
    "employment_df.head()\n"
   ]
  },
  {
   "cell_type": "markdown",
   "metadata": {
    "id": "0JkO4ZkzohHu"
   },
   "source": [
    "### Employment Type"
   ]
  },
  {
   "cell_type": "code",
   "execution_count": 104,
   "metadata": {
    "colab": {
     "base_uri": "https://localhost:8080/",
     "height": 206
    },
    "id": "elC9fsdJZYq9",
    "outputId": "ef14a49f-fdc1-4658-c685-2f3f285a840c"
   },
   "outputs": [
    {
     "data": {
      "text/html": [
       "<div>\n",
       "<style scoped>\n",
       "    .dataframe tbody tr th:only-of-type {\n",
       "        vertical-align: middle;\n",
       "    }\n",
       "\n",
       "    .dataframe tbody tr th {\n",
       "        vertical-align: top;\n",
       "    }\n",
       "\n",
       "    .dataframe thead th {\n",
       "        text-align: right;\n",
       "    }\n",
       "</style>\n",
       "<table border=\"1\" class=\"dataframe\">\n",
       "  <thead>\n",
       "    <tr style=\"text-align: right;\">\n",
       "      <th></th>\n",
       "      <th>City</th>\n",
       "      <th>State_Id</th>\n",
       "      <th>PrivateWork</th>\n",
       "      <th>PublicWork</th>\n",
       "      <th>SelfEmployed</th>\n",
       "      <th>FamilyWork</th>\n",
       "    </tr>\n",
       "  </thead>\n",
       "  <tbody>\n",
       "    <tr>\n",
       "      <th>0</th>\n",
       "      <td>Aaronsburg</td>\n",
       "      <td>PA</td>\n",
       "      <td>76.5</td>\n",
       "      <td>10.8</td>\n",
       "      <td>12.4</td>\n",
       "      <td>0.0</td>\n",
       "    </tr>\n",
       "    <tr>\n",
       "      <th>1</th>\n",
       "      <td>Abbeville</td>\n",
       "      <td>AL</td>\n",
       "      <td>79.5</td>\n",
       "      <td>14.7</td>\n",
       "      <td>5.2</td>\n",
       "      <td>0.0</td>\n",
       "    </tr>\n",
       "    <tr>\n",
       "      <th>2</th>\n",
       "      <td>Abbeville</td>\n",
       "      <td>GA</td>\n",
       "      <td>59.3</td>\n",
       "      <td>30.3</td>\n",
       "      <td>9.5</td>\n",
       "      <td>0.0</td>\n",
       "    </tr>\n",
       "    <tr>\n",
       "      <th>3</th>\n",
       "      <td>Abbeville</td>\n",
       "      <td>LA</td>\n",
       "      <td>81.2</td>\n",
       "      <td>11.5</td>\n",
       "      <td>5.2</td>\n",
       "      <td>0.0</td>\n",
       "    </tr>\n",
       "    <tr>\n",
       "      <th>4</th>\n",
       "      <td>Abbeville</td>\n",
       "      <td>MS</td>\n",
       "      <td>71.7</td>\n",
       "      <td>20.5</td>\n",
       "      <td>6.7</td>\n",
       "      <td>0.0</td>\n",
       "    </tr>\n",
       "  </tbody>\n",
       "</table>\n",
       "</div>"
      ],
      "text/plain": [
       "         City State_Id  PrivateWork  PublicWork  SelfEmployed  FamilyWork\n",
       "0  Aaronsburg       PA         76.5        10.8          12.4         0.0\n",
       "1   Abbeville       AL         79.5        14.7           5.2         0.0\n",
       "2   Abbeville       GA         59.3        30.3           9.5         0.0\n",
       "3   Abbeville       LA         81.2        11.5           5.2         0.0\n",
       "4   Abbeville       MS         71.7        20.5           6.7         0.0"
      ]
     },
     "execution_count": 104,
     "metadata": {},
     "output_type": "execute_result"
    }
   ],
   "source": [
    "employment_ratio_df = merge[['PrivateWork', 'PublicWork', 'SelfEmployed', 'FamilyWork','City', 'State_Id']].groupby(['City', 'State_Id'],as_index=False).mean()\n",
    "employment_ratio_df[['PrivateWork', 'PublicWork', 'SelfEmployed', 'FamilyWork']] = employment_ratio_df[['PrivateWork', 'PublicWork', 'SelfEmployed', 'FamilyWork']].round(1)\n",
    "employment_ratio_df.to_csv('employment_ratio_df.csv', index=False)\n",
    "employment_ratio_df.head()"
   ]
  },
  {
   "cell_type": "markdown",
   "metadata": {
    "id": "Y6xylD7yBUTI"
   },
   "source": [
    "Total_DF"
   ]
  },
  {
   "cell_type": "code",
   "execution_count": 105,
   "metadata": {
    "id": "fTgBPHp6BTpB"
   },
   "outputs": [],
   "source": [
    "census_df = diversity_df.merge(income_per_capita_df, on=['City', 'State_Id'])\n",
    "census_df = census_df.merge(poverty_df, on=['City', 'State_Id'])\n",
    "census_df = census_df.merge(employment_df, on=['City', 'State_Id'])\n",
    "census_df = census_df.merge(employment_ratio_df, on=['City', 'State_Id'])\n",
    "census_df = census_df.merge(industry_df, on=['City', 'State_Id'])\n",
    "census_df = census_df.merge(transportation_df, on=['City', 'State_Id'])\n"
   ]
  },
  {
   "cell_type": "code",
   "execution_count": 106,
   "metadata": {
    "colab": {
     "base_uri": "https://localhost:8080/",
     "height": 226
    },
    "id": "CEeE0GqhBJWN",
    "outputId": "2fa3fdb7-9e43-4bab-9c3a-b72d0e69fd19"
   },
   "outputs": [
    {
     "data": {
      "text/html": [
       "<div>\n",
       "<style scoped>\n",
       "    .dataframe tbody tr th:only-of-type {\n",
       "        vertical-align: middle;\n",
       "    }\n",
       "\n",
       "    .dataframe tbody tr th {\n",
       "        vertical-align: top;\n",
       "    }\n",
       "\n",
       "    .dataframe thead th {\n",
       "        text-align: right;\n",
       "    }\n",
       "</style>\n",
       "<table border=\"1\" class=\"dataframe\">\n",
       "  <thead>\n",
       "    <tr style=\"text-align: right;\">\n",
       "      <th></th>\n",
       "      <th>City</th>\n",
       "      <th>State_Id</th>\n",
       "      <th>TotalPop</th>\n",
       "      <th>Men</th>\n",
       "      <th>Women</th>\n",
       "      <th>Hispanic</th>\n",
       "      <th>White</th>\n",
       "      <th>Black</th>\n",
       "      <th>Native</th>\n",
       "      <th>Asian</th>\n",
       "      <th>...</th>\n",
       "      <th>Office</th>\n",
       "      <th>Construction</th>\n",
       "      <th>Production</th>\n",
       "      <th>Drive</th>\n",
       "      <th>Carpool</th>\n",
       "      <th>Transit</th>\n",
       "      <th>Walk</th>\n",
       "      <th>OtherTransp</th>\n",
       "      <th>WorkAtHome</th>\n",
       "      <th>MeanCommute</th>\n",
       "    </tr>\n",
       "  </thead>\n",
       "  <tbody>\n",
       "    <tr>\n",
       "      <th>0</th>\n",
       "      <td>Aaronsburg</td>\n",
       "      <td>PA</td>\n",
       "      <td>1056</td>\n",
       "      <td>532</td>\n",
       "      <td>524</td>\n",
       "      <td>1.0</td>\n",
       "      <td>97.4</td>\n",
       "      <td>0.0</td>\n",
       "      <td>0.0</td>\n",
       "      <td>0.7</td>\n",
       "      <td>...</td>\n",
       "      <td>18.9</td>\n",
       "      <td>15.5</td>\n",
       "      <td>16.5</td>\n",
       "      <td>69.5</td>\n",
       "      <td>12.4</td>\n",
       "      <td>0.2</td>\n",
       "      <td>3.8</td>\n",
       "      <td>3.6</td>\n",
       "      <td>10.2</td>\n",
       "      <td>27.7</td>\n",
       "    </tr>\n",
       "    <tr>\n",
       "      <th>1</th>\n",
       "      <td>Abbeville</td>\n",
       "      <td>AL</td>\n",
       "      <td>6693</td>\n",
       "      <td>3361</td>\n",
       "      <td>3329</td>\n",
       "      <td>3.6</td>\n",
       "      <td>64.2</td>\n",
       "      <td>31.4</td>\n",
       "      <td>0.0</td>\n",
       "      <td>0.0</td>\n",
       "      <td>...</td>\n",
       "      <td>76.2</td>\n",
       "      <td>39.3</td>\n",
       "      <td>99.5</td>\n",
       "      <td>85.0</td>\n",
       "      <td>9.1</td>\n",
       "      <td>0.0</td>\n",
       "      <td>1.0</td>\n",
       "      <td>1.6</td>\n",
       "      <td>2.4</td>\n",
       "      <td>26.7</td>\n",
       "    </tr>\n",
       "    <tr>\n",
       "      <th>2</th>\n",
       "      <td>Abbeville</td>\n",
       "      <td>GA</td>\n",
       "      <td>4683</td>\n",
       "      <td>3205</td>\n",
       "      <td>1478</td>\n",
       "      <td>2.7</td>\n",
       "      <td>58.7</td>\n",
       "      <td>37.1</td>\n",
       "      <td>0.4</td>\n",
       "      <td>0.0</td>\n",
       "      <td>...</td>\n",
       "      <td>42.3</td>\n",
       "      <td>41.6</td>\n",
       "      <td>48.6</td>\n",
       "      <td>86.2</td>\n",
       "      <td>6.6</td>\n",
       "      <td>0.0</td>\n",
       "      <td>1.5</td>\n",
       "      <td>0.9</td>\n",
       "      <td>2.9</td>\n",
       "      <td>26.8</td>\n",
       "    </tr>\n",
       "    <tr>\n",
       "      <th>3</th>\n",
       "      <td>Abbeville</td>\n",
       "      <td>LA</td>\n",
       "      <td>25185</td>\n",
       "      <td>12341</td>\n",
       "      <td>12839</td>\n",
       "      <td>3.9</td>\n",
       "      <td>77.0</td>\n",
       "      <td>14.2</td>\n",
       "      <td>0.3</td>\n",
       "      <td>2.1</td>\n",
       "      <td>...</td>\n",
       "      <td>266.4</td>\n",
       "      <td>188.8</td>\n",
       "      <td>135.9</td>\n",
       "      <td>80.1</td>\n",
       "      <td>9.9</td>\n",
       "      <td>0.1</td>\n",
       "      <td>3.1</td>\n",
       "      <td>1.5</td>\n",
       "      <td>2.8</td>\n",
       "      <td>29.1</td>\n",
       "    </tr>\n",
       "    <tr>\n",
       "      <th>4</th>\n",
       "      <td>Abbeville</td>\n",
       "      <td>MS</td>\n",
       "      <td>2078</td>\n",
       "      <td>1033</td>\n",
       "      <td>1042</td>\n",
       "      <td>4.7</td>\n",
       "      <td>60.9</td>\n",
       "      <td>31.3</td>\n",
       "      <td>0.0</td>\n",
       "      <td>0.8</td>\n",
       "      <td>...</td>\n",
       "      <td>44.1</td>\n",
       "      <td>24.6</td>\n",
       "      <td>52.3</td>\n",
       "      <td>83.4</td>\n",
       "      <td>11.3</td>\n",
       "      <td>0.4</td>\n",
       "      <td>0.3</td>\n",
       "      <td>0.0</td>\n",
       "      <td>1.5</td>\n",
       "      <td>25.0</td>\n",
       "    </tr>\n",
       "  </tbody>\n",
       "</table>\n",
       "<p>5 rows × 35 columns</p>\n",
       "</div>"
      ],
      "text/plain": [
       "         City State_Id  TotalPop    Men  Women  Hispanic  White  Black  \\\n",
       "0  Aaronsburg       PA      1056    532    524       1.0   97.4    0.0   \n",
       "1   Abbeville       AL      6693   3361   3329       3.6   64.2   31.4   \n",
       "2   Abbeville       GA      4683   3205   1478       2.7   58.7   37.1   \n",
       "3   Abbeville       LA     25185  12341  12839       3.9   77.0   14.2   \n",
       "4   Abbeville       MS      2078   1033   1042       4.7   60.9   31.3   \n",
       "\n",
       "   Native  Asian  ...  Office  Construction  Production  Drive  Carpool  \\\n",
       "0     0.0    0.7  ...    18.9          15.5        16.5   69.5     12.4   \n",
       "1     0.0    0.0  ...    76.2          39.3        99.5   85.0      9.1   \n",
       "2     0.4    0.0  ...    42.3          41.6        48.6   86.2      6.6   \n",
       "3     0.3    2.1  ...   266.4         188.8       135.9   80.1      9.9   \n",
       "4     0.0    0.8  ...    44.1          24.6        52.3   83.4     11.3   \n",
       "\n",
       "   Transit  Walk  OtherTransp  WorkAtHome  MeanCommute  \n",
       "0      0.2   3.8          3.6        10.2         27.7  \n",
       "1      0.0   1.0          1.6         2.4         26.7  \n",
       "2      0.0   1.5          0.9         2.9         26.8  \n",
       "3      0.1   3.1          1.5         2.8         29.1  \n",
       "4      0.4   0.3          0.0         1.5         25.0  \n",
       "\n",
       "[5 rows x 35 columns]"
      ]
     },
     "execution_count": 106,
     "metadata": {},
     "output_type": "execute_result"
    }
   ],
   "source": [
    "census_df.head()"
   ]
  },
  {
   "cell_type": "code",
   "execution_count": 107,
   "metadata": {
    "id": "R3-X4e0UCLry"
   },
   "outputs": [],
   "source": [
    "census_df.to_csv('census_by_city.csv', index=False)"
   ]
  }
 ],
 "metadata": {
  "colab": {
   "collapsed_sections": [],
   "name": "census.ipynb",
   "provenance": []
  },
  "kernelspec": {
   "display_name": "Python 3",
   "language": "python",
   "name": "python3"
  },
  "language_info": {
   "codemirror_mode": {
    "name": "ipython",
    "version": 3
   },
   "file_extension": ".py",
   "mimetype": "text/x-python",
   "name": "python",
   "nbconvert_exporter": "python",
   "pygments_lexer": "ipython3",
   "version": "3.7.6"
  }
 },
 "nbformat": 4,
 "nbformat_minor": 4
}
