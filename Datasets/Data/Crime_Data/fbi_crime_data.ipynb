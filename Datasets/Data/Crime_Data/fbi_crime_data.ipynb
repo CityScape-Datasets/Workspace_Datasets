{
 "cells": [
  {
   "cell_type": "markdown",
   "metadata": {
    "id": "EQopXARlVrVx"
   },
   "source": [
    "# FBI Crime Data\n",
    "https://ucr.fbi.gov/crime-in-the-u.s/2019/crime-in-the-u.s.-2019/tables/table-8/table-8.xls/view"
   ]
  },
  {
   "cell_type": "markdown",
   "metadata": {
    "id": "KoSfUg2spXVv"
   },
   "source": [
    "pretty clean dataset\n",
    "- just have to clean each state separately\n",
    "- merge all csv's"
   ]
  },
  {
   "cell_type": "markdown",
   "metadata": {
    "id": "2qm3Z0SjVvR1"
   },
   "source": [
    "## EDA"
   ]
  },
  {
   "cell_type": "code",
   "execution_count": 1,
   "metadata": {
    "id": "QEMbeHmvVHPZ"
   },
   "outputs": [],
   "source": [
    "import pandas as pd\n",
    "import numpy as np\n",
    "import re\n",
    "import os"
   ]
  },
  {
   "cell_type": "code",
   "execution_count": 2,
   "metadata": {},
   "outputs": [],
   "source": [
    "path = os.getcwd()"
   ]
  },
  {
   "cell_type": "markdown",
   "metadata": {
    "id": "e4ABsb2z-Mox"
   },
   "source": [
    "## Wrangle \n",
    "- us dictionary\n",
    "- wrangle"
   ]
  },
  {
   "cell_type": "code",
   "execution_count": 3,
   "metadata": {
    "id": "145ZZciSn3b6"
   },
   "outputs": [],
   "source": [
    "us_states = {\n",
    "\t'Alabama': 'AL',\n",
    "\t'Alaska': 'AK',\n",
    "\t'Arizona': 'AZ',\n",
    "\t'Arkansas': 'AR',\n",
    "\t'California': 'CA',\n",
    "\t'Colorado': 'CO',\n",
    "\t'Connecticut': 'CT',\n",
    "\t'Delaware': 'DE',\n",
    "\t'Districtofcolumbia': 'DC',\n",
    "\t'Florida': 'FL',\n",
    "\t'Georgia': 'GA',\n",
    "\t'Hawaii': 'HI',\n",
    "\t'Idaho': 'ID',\n",
    "\t'Illinois': 'IL',\n",
    "\t'Indiana': 'IN',\n",
    "\t'Iowa': 'IA',\n",
    "\t'Kansas': 'KS',\n",
    "\t'Kentucky': 'KY',\n",
    "\t'Louisiana': 'LA',\n",
    "\t'Maine': 'ME',\n",
    "\t'Maryland': 'MD',\n",
    "\t'Massachusetts': 'MA',\n",
    "\t'Michigan': 'MI',\n",
    "\t'Minnesota': 'MN',\n",
    "\t'Mississippi': 'MS',\n",
    "\t'Missouri': 'MO',\n",
    "\t'Montana': 'MT',\n",
    "\t'Nebraska': 'NE',\n",
    "\t'Nevada': 'NV',\n",
    "\t'Newhampshire': 'NH',\n",
    "\t'Newjersey': 'NJ',\n",
    "\t'Newmexico': 'NM',\n",
    "\t'Newyork': 'NY',\n",
    "\t'Northcarolina': 'NC',\n",
    "\t'Northdakota': 'ND',\n",
    "\t'Ohio': 'OH',\n",
    "\t'Oklahoma': 'OK',\n",
    "\t'Oregon': 'OR',\n",
    "\t'Pennsylvania': 'PA',\n",
    "\t'Rhodeisland': 'RI',\n",
    "\t'Southcarolina': 'SC',\n",
    "\t'Southdakota': 'SD',\n",
    "\t'Tennessee': 'TN',\n",
    "\t'Texas': 'TX',\n",
    "\t'Utah': 'UT',\n",
    "\t'Vermont': 'VT',\n",
    "\t'Virginia': 'VA',\n",
    "\t'Washington': 'WA',\n",
    "\t'Westvirginia': 'WV',\n",
    "\t'Wisconsin': 'WI',\n",
    "\t'Wyoming': 'WY'\n",
    "}"
   ]
  },
  {
   "cell_type": "code",
   "execution_count": 4,
   "metadata": {
    "id": "Q4FZlcr_pAZi"
   },
   "outputs": [],
   "source": [
    "# Get state name to create state column\n",
    "def return_value(k):\n",
    "  for key, value in us_states.items():\n",
    "    if k.lower()==key.lower():\n",
    "      return value\n",
    "  return('Value Not Found')"
   ]
  },
  {
   "cell_type": "code",
   "execution_count": 5,
   "metadata": {
    "id": "o3NKbyFOi3VD"
   },
   "outputs": [],
   "source": [
    "def wrangle(X):\n",
    "  # Wrangle all df files to merge later\n",
    "  # Create copy\n",
    "  X = X.copy()\n",
    "\n",
    "  # Need this to create states column\n",
    "  k = X.iloc[0][0]\n",
    "\n",
    "  # Make sure that k has no extra characters\n",
    "  k = re.sub('[^a-zA-Z]', '', k)\n",
    "  print(k)\n",
    "\n",
    "  # Create header row\n",
    "  header_row = 3\n",
    "  X.columns = X.iloc[header_row]\n",
    "\n",
    "  # Clean column names\n",
    "  X.columns = X.columns.str.replace(\"\\n\", \" \")\n",
    "  X = X.rename(columns = {'State': 'City',\n",
    "                          'Rape1': 'Rape',\n",
    "                          'Rape2': 'Rape',\n",
    "                          'Arson2': 'Arson',\n",
    "                          'Arson3': 'Arson'})\n",
    "\n",
    "  # Capture the first useful row\n",
    "  X = X.iloc[4:]\n",
    "  X = X.iloc[:, 0:12]\n",
    "  \n",
    "  # Delete all columns and rows that are totally null\n",
    "  X = X.dropna(axis=0, thresh = 4)\n",
    "\n",
    "  # Create state column \n",
    "  X.insert(loc=1, column = 'State', value= return_value(k))\n",
    "\n",
    "  #Remove police department and numbers from city name\n",
    "  X['City'] = X['City'].str.replace(' Metropolitan Police Department', '')\n",
    "  X['City'] = X['City'].str.replace('Metropolitan ', '')\n",
    "  X['City'] = X['City'].str.replace(' Regional Police Department', '')\n",
    "  X['City'] = X['City'].str.replace('Metro Police Authority of ', '')\n",
    "  X['City'] = X['City'].str.replace(' Police Department', '')\n",
    "  X['City'] = X['City'].str.replace(' Sheriff', '')\n",
    "  X['City'] = X['City'].str.replace('3,', '')\n",
    "  X['City'] = X['City'].str.replace('\\d+', '')\n",
    "\n",
    "  # Replace remaining NaNs with 0\n",
    "  X = X.replace(np.nan, 0)\n",
    "\n",
    "  return X"
   ]
  },
  {
   "cell_type": "markdown",
   "metadata": {
    "id": "NEIkIrfnZKjC"
   },
   "source": [
    "# ALABAMA"
   ]
  },
  {
   "cell_type": "code",
   "execution_count": 6,
   "metadata": {},
   "outputs": [],
   "source": [
    "alabama_filepath = os.path.join(path, 'xls/alabama.xls')"
   ]
  },
  {
   "cell_type": "code",
   "execution_count": 7,
   "metadata": {
    "colab": {
     "base_uri": "https://localhost:8080/"
    },
    "id": "tJevyV2kIH0Y",
    "outputId": "47a9331d-2d0f-4bb1-cabb-0c34bb80b382"
   },
   "outputs": [
    {
     "name": "stdout",
     "output_type": "stream",
     "text": [
      "ALABAMA\n"
     ]
    }
   ],
   "source": [
    "alabama = pd.read_excel(alabama_filepath)\n",
    "alabama = wrangle(alabama)\n",
    "alabama.to_csv('alabama.csv')"
   ]
  },
  {
   "cell_type": "markdown",
   "metadata": {
    "id": "YB_qUPrWfmvs"
   },
   "source": [
    "# ALASKA"
   ]
  },
  {
   "cell_type": "code",
   "execution_count": 8,
   "metadata": {},
   "outputs": [],
   "source": [
    "alaska_filepath = os.path.join(path, 'xls/alaska.xls')"
   ]
  },
  {
   "cell_type": "code",
   "execution_count": 9,
   "metadata": {
    "colab": {
     "base_uri": "https://localhost:8080/"
    },
    "id": "5JEnkvqNIgTC",
    "outputId": "374fb493-81ec-4514-df27-11822b20254f"
   },
   "outputs": [
    {
     "name": "stdout",
     "output_type": "stream",
     "text": [
      "ALASKA\n"
     ]
    }
   ],
   "source": [
    "alaska = pd.read_excel(alaska_filepath)\n",
    "alaska = wrangle(alaska)\n",
    "alaska.to_csv('alaska.csv')"
   ]
  },
  {
   "cell_type": "markdown",
   "metadata": {
    "id": "zNb1qhaag2_3"
   },
   "source": [
    "# ARIZONA"
   ]
  },
  {
   "cell_type": "code",
   "execution_count": 10,
   "metadata": {},
   "outputs": [],
   "source": [
    "arizona_filepath = os.path.join(path, 'xls/arizona.xls')"
   ]
  },
  {
   "cell_type": "code",
   "execution_count": 11,
   "metadata": {
    "colab": {
     "base_uri": "https://localhost:8080/"
    },
    "id": "REOenxbjg2_4",
    "outputId": "808622c8-a70d-44ad-dc89-f01024504aed"
   },
   "outputs": [
    {
     "name": "stdout",
     "output_type": "stream",
     "text": [
      "ARIZONA\n"
     ]
    }
   ],
   "source": [
    "arizona = pd.read_excel(arizona_filepath)\n",
    "arizona = wrangle(arizona)\n",
    "arizona.to_csv('arizona.csv')"
   ]
  },
  {
   "cell_type": "markdown",
   "metadata": {
    "id": "lhg8PZhzi7-w"
   },
   "source": [
    "# ARKANSAS"
   ]
  },
  {
   "cell_type": "code",
   "execution_count": 12,
   "metadata": {},
   "outputs": [],
   "source": [
    "arkansas_filepath = os.path.join(path, 'xls/arkansas.xls')"
   ]
  },
  {
   "cell_type": "code",
   "execution_count": 13,
   "metadata": {
    "colab": {
     "base_uri": "https://localhost:8080/"
    },
    "id": "TXY2wz3ai7-z",
    "outputId": "88422ed9-a37e-4119-e9ee-7d96f5f13179"
   },
   "outputs": [
    {
     "name": "stdout",
     "output_type": "stream",
     "text": [
      "ARKANSAS\n"
     ]
    }
   ],
   "source": [
    "arkansas = pd.read_excel(arkansas_filepath)\n",
    "arkansas = wrangle(arkansas)\n",
    "arkansas.to_csv('arkansas.csv')"
   ]
  },
  {
   "cell_type": "markdown",
   "metadata": {
    "id": "QDWkBQn3kWr9"
   },
   "source": [
    "# CALIFORNIA"
   ]
  },
  {
   "cell_type": "code",
   "execution_count": 14,
   "metadata": {},
   "outputs": [],
   "source": [
    "california_filepath = os.path.join(path, 'xls/california.xls')"
   ]
  },
  {
   "cell_type": "code",
   "execution_count": 15,
   "metadata": {
    "colab": {
     "base_uri": "https://localhost:8080/"
    },
    "id": "PCiLDzlskWr_",
    "outputId": "cf84cf95-9114-434d-cd34-f1f0dd73e65a"
   },
   "outputs": [
    {
     "name": "stdout",
     "output_type": "stream",
     "text": [
      "CALIFORNIA\n"
     ]
    }
   ],
   "source": [
    "california = pd.read_excel(california_filepath)\n",
    "california = wrangle(california)\n",
    "california.to_csv('california.csv')"
   ]
  },
  {
   "cell_type": "markdown",
   "metadata": {
    "id": "Xdz878TilTmM"
   },
   "source": [
    "# COLORADO"
   ]
  },
  {
   "cell_type": "code",
   "execution_count": 16,
   "metadata": {},
   "outputs": [],
   "source": [
    "colorado_filepath = os.path.join(path, 'xls/colorado.xls')"
   ]
  },
  {
   "cell_type": "code",
   "execution_count": 17,
   "metadata": {
    "colab": {
     "base_uri": "https://localhost:8080/"
    },
    "id": "_Q95zXhKlTmS",
    "outputId": "656649fa-fa36-4cba-9c98-af7255f459f6"
   },
   "outputs": [
    {
     "name": "stdout",
     "output_type": "stream",
     "text": [
      "COLORADO\n"
     ]
    }
   ],
   "source": [
    "colorado = pd.read_excel(colorado_filepath)\n",
    "colorado = wrangle(colorado)\n",
    "colorado.to_csv('colorado.csv')"
   ]
  },
  {
   "cell_type": "markdown",
   "metadata": {
    "id": "fZkdOQfjmD0J"
   },
   "source": [
    "# CONNECTICUT"
   ]
  },
  {
   "cell_type": "code",
   "execution_count": 18,
   "metadata": {},
   "outputs": [],
   "source": [
    "connecticut_filepath = os.path.join(path, 'xls/connecticut.xls')"
   ]
  },
  {
   "cell_type": "code",
   "execution_count": 19,
   "metadata": {
    "colab": {
     "base_uri": "https://localhost:8080/"
    },
    "id": "mKWnlgQxmD0L",
    "outputId": "1a21387e-81a2-418b-8302-97987f8a5752"
   },
   "outputs": [
    {
     "name": "stdout",
     "output_type": "stream",
     "text": [
      "CONNECTICUT\n"
     ]
    }
   ],
   "source": [
    "connecticut = pd.read_excel(connecticut_filepath)\n",
    "connecticut = wrangle(connecticut)\n",
    "connecticut.to_csv('connecticut.csv')"
   ]
  },
  {
   "cell_type": "markdown",
   "metadata": {
    "id": "PFrGK2AmnDMU"
   },
   "source": [
    "# DELEWARE"
   ]
  },
  {
   "cell_type": "code",
   "execution_count": 20,
   "metadata": {},
   "outputs": [],
   "source": [
    "delaware_filepath = os.path.join(path, 'xls/delaware.xls')"
   ]
  },
  {
   "cell_type": "code",
   "execution_count": 21,
   "metadata": {
    "colab": {
     "base_uri": "https://localhost:8080/"
    },
    "id": "SZ8lBfBLnDMW",
    "outputId": "5a84e38d-1d13-46ac-e653-ed7ad5a16c94"
   },
   "outputs": [
    {
     "name": "stdout",
     "output_type": "stream",
     "text": [
      "DELAWARE\n"
     ]
    }
   ],
   "source": [
    "delaware = pd.read_excel(delaware_filepath)\n",
    "delaware = wrangle(delaware)\n",
    "delaware.to_csv('delaware.csv')"
   ]
  },
  {
   "cell_type": "markdown",
   "metadata": {
    "id": "--sPcYntop9z"
   },
   "source": [
    "# FLORIDA"
   ]
  },
  {
   "cell_type": "code",
   "execution_count": 22,
   "metadata": {},
   "outputs": [],
   "source": [
    "florida_filepath = os.path.join(path, 'xls/florida.xls')"
   ]
  },
  {
   "cell_type": "code",
   "execution_count": 23,
   "metadata": {
    "colab": {
     "base_uri": "https://localhost:8080/"
    },
    "id": "LqNtOU39op92",
    "outputId": "c3a2c307-5efa-42e4-8e08-3c210de70a42"
   },
   "outputs": [
    {
     "name": "stdout",
     "output_type": "stream",
     "text": [
      "FLORIDA\n"
     ]
    }
   ],
   "source": [
    "florida = pd.read_excel(florida_filepath)\n",
    "florida = wrangle(florida)\n",
    "florida.to_csv('florida.csv')"
   ]
  },
  {
   "cell_type": "markdown",
   "metadata": {
    "id": "DrcOhZPEp0yY"
   },
   "source": [
    "# GEORGIA"
   ]
  },
  {
   "cell_type": "code",
   "execution_count": 24,
   "metadata": {},
   "outputs": [],
   "source": [
    "georgia_filepath = os.path.join(path, 'xls/georgia.xls')"
   ]
  },
  {
   "cell_type": "code",
   "execution_count": 25,
   "metadata": {
    "colab": {
     "base_uri": "https://localhost:8080/"
    },
    "id": "VaA81Menp0yd",
    "outputId": "ca236aa1-9184-4573-d80b-0a33e13ab165"
   },
   "outputs": [
    {
     "name": "stdout",
     "output_type": "stream",
     "text": [
      "GEORGIA\n"
     ]
    }
   ],
   "source": [
    "georgia = pd.read_excel(georgia_filepath)\n",
    "georgia = wrangle(georgia)\n",
    "georgia.to_csv('georgia.csv')"
   ]
  },
  {
   "cell_type": "markdown",
   "metadata": {
    "id": "e5UI-ouerwdF"
   },
   "source": [
    "# HAWAII"
   ]
  },
  {
   "cell_type": "code",
   "execution_count": 26,
   "metadata": {},
   "outputs": [],
   "source": [
    "hawaii_filepath = os.path.join(path, 'xls/hawaii.xls')"
   ]
  },
  {
   "cell_type": "code",
   "execution_count": 27,
   "metadata": {
    "colab": {
     "base_uri": "https://localhost:8080/"
    },
    "id": "i_lUVn6WrwdH",
    "outputId": "138fd8dc-941a-417c-dcea-15d7009adc8c"
   },
   "outputs": [
    {
     "name": "stdout",
     "output_type": "stream",
     "text": [
      "HAWAII\n"
     ]
    }
   ],
   "source": [
    "hawaii = pd.read_excel(hawaii_filepath)\n",
    "hawaii = wrangle(hawaii)\n",
    "hawaii.to_csv('hawaii.csv')"
   ]
  },
  {
   "cell_type": "markdown",
   "metadata": {
    "id": "LzHa-QX4vLdr"
   },
   "source": [
    "# IDAHO"
   ]
  },
  {
   "cell_type": "code",
   "execution_count": 28,
   "metadata": {},
   "outputs": [],
   "source": [
    "idaho_filepath = os.path.join(path, 'xls/idaho.xls')"
   ]
  },
  {
   "cell_type": "code",
   "execution_count": 29,
   "metadata": {
    "colab": {
     "base_uri": "https://localhost:8080/"
    },
    "id": "r4LV86Z6vLdz",
    "outputId": "b53f52d7-33b3-43b8-c632-81ddd9cafde0"
   },
   "outputs": [
    {
     "name": "stdout",
     "output_type": "stream",
     "text": [
      "IDAHO\n"
     ]
    }
   ],
   "source": [
    "idaho = pd.read_excel(idaho_filepath)\n",
    "idaho = wrangle(idaho)\n",
    "idaho.to_csv('idaho.csv')"
   ]
  },
  {
   "cell_type": "markdown",
   "metadata": {
    "id": "coGiXn-Kwnwi"
   },
   "source": [
    "# ILLINOIS"
   ]
  },
  {
   "cell_type": "code",
   "execution_count": 30,
   "metadata": {},
   "outputs": [],
   "source": [
    "illinois_filepath = os.path.join(path, 'xls/illinois.xls')"
   ]
  },
  {
   "cell_type": "code",
   "execution_count": 31,
   "metadata": {
    "colab": {
     "base_uri": "https://localhost:8080/"
    },
    "id": "uoAGHFRpwnwk",
    "outputId": "03eda064-fdf0-412d-b35d-1311b9aede7a"
   },
   "outputs": [
    {
     "name": "stdout",
     "output_type": "stream",
     "text": [
      "ILLINOIS\n"
     ]
    }
   ],
   "source": [
    "illinois = pd.read_excel(illinois_filepath)\n",
    "illinois = wrangle(illinois)\n",
    "illinois.to_csv('illinois.csv')"
   ]
  },
  {
   "cell_type": "markdown",
   "metadata": {
    "id": "C8YdXc4z3nN-"
   },
   "source": [
    "# INDIANA"
   ]
  },
  {
   "cell_type": "code",
   "execution_count": 32,
   "metadata": {},
   "outputs": [],
   "source": [
    "indiana_filepath = os.path.join(path, 'xls/indiana.xls')"
   ]
  },
  {
   "cell_type": "code",
   "execution_count": 33,
   "metadata": {
    "colab": {
     "base_uri": "https://localhost:8080/"
    },
    "id": "pf1X5SDG3nOA",
    "outputId": "ffde708a-a81f-43d9-ca35-9e1c7b2453ae"
   },
   "outputs": [
    {
     "name": "stdout",
     "output_type": "stream",
     "text": [
      "INDIANA\n"
     ]
    }
   ],
   "source": [
    "indiana = pd.read_excel(indiana_filepath)\n",
    "indiana = wrangle(indiana)\n",
    "indiana.to_csv('indiana.csv')"
   ]
  },
  {
   "cell_type": "markdown",
   "metadata": {
    "id": "xvXhUq_k6qfl"
   },
   "source": [
    "# IOWA"
   ]
  },
  {
   "cell_type": "code",
   "execution_count": 34,
   "metadata": {},
   "outputs": [],
   "source": [
    "iowa_filepath = os.path.join(path, 'xls/iowa.xls')"
   ]
  },
  {
   "cell_type": "code",
   "execution_count": 35,
   "metadata": {
    "colab": {
     "base_uri": "https://localhost:8080/"
    },
    "id": "gwU9xkR_6qfq",
    "outputId": "fdb70423-952f-419d-d77e-024e2b926f44"
   },
   "outputs": [
    {
     "name": "stdout",
     "output_type": "stream",
     "text": [
      "IOWA\n"
     ]
    }
   ],
   "source": [
    "iowa = pd.read_excel(iowa_filepath)\n",
    "iowa = wrangle(iowa)\n",
    "iowa.to_csv('iowa.csv')"
   ]
  },
  {
   "cell_type": "markdown",
   "metadata": {
    "id": "bczs450_9roe"
   },
   "source": [
    "# KANSAS"
   ]
  },
  {
   "cell_type": "code",
   "execution_count": 36,
   "metadata": {},
   "outputs": [],
   "source": [
    "kansas_filepath = os.path.join(path, 'xls/kansas.xls')"
   ]
  },
  {
   "cell_type": "code",
   "execution_count": 37,
   "metadata": {
    "colab": {
     "base_uri": "https://localhost:8080/"
    },
    "id": "ZTuQCRhF9roq",
    "outputId": "14a05bd5-c9ec-45f3-c3f8-97050394f221"
   },
   "outputs": [
    {
     "name": "stdout",
     "output_type": "stream",
     "text": [
      "KANSAS\n"
     ]
    }
   ],
   "source": [
    "kansas = pd.read_excel(kansas_filepath)\n",
    "kansas = wrangle(kansas)\n",
    "kansas.to_csv('kansas.csv')"
   ]
  },
  {
   "cell_type": "markdown",
   "metadata": {
    "id": "CSIP5j8OAXxG"
   },
   "source": [
    "# KENTUCKY"
   ]
  },
  {
   "cell_type": "code",
   "execution_count": 38,
   "metadata": {},
   "outputs": [],
   "source": [
    "kentucky_filepath = os.path.join(path, 'xls/kentucky.xls')"
   ]
  },
  {
   "cell_type": "code",
   "execution_count": 39,
   "metadata": {
    "colab": {
     "base_uri": "https://localhost:8080/"
    },
    "id": "czCxsHS3AXxK",
    "outputId": "4f36f288-20a9-432f-fdf4-99891550dad9"
   },
   "outputs": [
    {
     "name": "stdout",
     "output_type": "stream",
     "text": [
      "KENTUCKY\n"
     ]
    }
   ],
   "source": [
    "kentucky = pd.read_excel(kentucky_filepath)\n",
    "kentucky = wrangle(kentucky)\n",
    "kentucky.to_csv('kentucky.csv')"
   ]
  },
  {
   "cell_type": "markdown",
   "metadata": {
    "id": "7BWiI34xBm4t"
   },
   "source": [
    "# LOUISIANA"
   ]
  },
  {
   "cell_type": "code",
   "execution_count": 40,
   "metadata": {},
   "outputs": [],
   "source": [
    "louisiana_filepath = os.path.join(path, 'xls/louisiana.xls')"
   ]
  },
  {
   "cell_type": "code",
   "execution_count": 41,
   "metadata": {
    "colab": {
     "base_uri": "https://localhost:8080/"
    },
    "id": "bqKbCazqBm4y",
    "outputId": "b258c449-72bf-42ca-826c-bb964cf6e291"
   },
   "outputs": [
    {
     "name": "stdout",
     "output_type": "stream",
     "text": [
      "LOUISIANA\n"
     ]
    }
   ],
   "source": [
    "louisiana = pd.read_excel(louisiana_filepath)\n",
    "louisiana = wrangle(louisiana)\n",
    "louisiana.to_csv('louisiana.csv')"
   ]
  },
  {
   "cell_type": "markdown",
   "metadata": {
    "id": "Wy0XmZl4DH11"
   },
   "source": [
    "# MAINE"
   ]
  },
  {
   "cell_type": "code",
   "execution_count": 42,
   "metadata": {},
   "outputs": [],
   "source": [
    "maine_filepath = os.path.join(path, 'xls/maine.xls')"
   ]
  },
  {
   "cell_type": "code",
   "execution_count": 43,
   "metadata": {
    "colab": {
     "base_uri": "https://localhost:8080/"
    },
    "id": "qXyi9MPLDH19",
    "outputId": "3db98c5f-4e7d-4251-d2f1-2285a5cfb243"
   },
   "outputs": [
    {
     "name": "stdout",
     "output_type": "stream",
     "text": [
      "MAINE\n"
     ]
    }
   ],
   "source": [
    "maine = pd.read_excel(maine_filepath)\n",
    "maine = wrangle(maine)\n",
    "maine.to_csv('maine.csv')"
   ]
  },
  {
   "cell_type": "markdown",
   "metadata": {
    "id": "KEvx1UHTKYtN"
   },
   "source": [
    "# MARYLAND"
   ]
  },
  {
   "cell_type": "code",
   "execution_count": 44,
   "metadata": {},
   "outputs": [],
   "source": [
    "maryland_filepath = os.path.join(path, 'xls/maryland.xls')"
   ]
  },
  {
   "cell_type": "code",
   "execution_count": 45,
   "metadata": {
    "colab": {
     "base_uri": "https://localhost:8080/"
    },
    "id": "lD5WISDgKafW",
    "outputId": "4f0384ab-c235-43fb-d532-9dd131d67a30"
   },
   "outputs": [
    {
     "name": "stdout",
     "output_type": "stream",
     "text": [
      "MARYLAND\n"
     ]
    }
   ],
   "source": [
    "maryland = pd.read_excel(maryland_filepath)\n",
    "maryland = wrangle(maryland)\n",
    "maryland.to_csv('maryland.csv')"
   ]
  },
  {
   "cell_type": "markdown",
   "metadata": {
    "id": "U9cR5e3yHDUJ"
   },
   "source": [
    "# MASSACHUSETTS"
   ]
  },
  {
   "cell_type": "code",
   "execution_count": 46,
   "metadata": {},
   "outputs": [],
   "source": [
    "massachusetts_filepath = os.path.join(path, 'xls/massachusetts.xls')"
   ]
  },
  {
   "cell_type": "code",
   "execution_count": 47,
   "metadata": {
    "colab": {
     "base_uri": "https://localhost:8080/"
    },
    "id": "jMKkSd57HDUL",
    "outputId": "3db0eb8b-d863-4a5d-eb72-4b1f9693e526"
   },
   "outputs": [
    {
     "name": "stdout",
     "output_type": "stream",
     "text": [
      "MASSACHUSETTS\n"
     ]
    }
   ],
   "source": [
    "massachusetts = pd.read_excel(massachusetts_filepath)\n",
    "massachusetts = wrangle(massachusetts)\n",
    "massachusetts.to_csv('massachusetts.csv')"
   ]
  },
  {
   "cell_type": "markdown",
   "metadata": {
    "id": "FknFxdUWHtkQ"
   },
   "source": [
    "# MICHIGAN"
   ]
  },
  {
   "cell_type": "code",
   "execution_count": 48,
   "metadata": {},
   "outputs": [],
   "source": [
    "michigan_filepath = os.path.join(path, 'xls/michigan.xls')"
   ]
  },
  {
   "cell_type": "code",
   "execution_count": 49,
   "metadata": {
    "colab": {
     "base_uri": "https://localhost:8080/"
    },
    "id": "mvS9ee1WHtkS",
    "outputId": "4c9315cd-6aab-4946-c085-d22101b6b637"
   },
   "outputs": [
    {
     "name": "stdout",
     "output_type": "stream",
     "text": [
      "MICHIGAN\n"
     ]
    }
   ],
   "source": [
    "michigan = pd.read_excel(michigan_filepath)\n",
    "michigan = wrangle(michigan)\n",
    "michigan.to_csv('michigan.csv')"
   ]
  },
  {
   "cell_type": "markdown",
   "metadata": {
    "id": "6GIuMFUaIy6c"
   },
   "source": [
    "# MINNESOTA"
   ]
  },
  {
   "cell_type": "code",
   "execution_count": 50,
   "metadata": {},
   "outputs": [],
   "source": [
    "minnesota_filepath = os.path.join(path, 'xls/minnesota.xls')"
   ]
  },
  {
   "cell_type": "code",
   "execution_count": 51,
   "metadata": {
    "colab": {
     "base_uri": "https://localhost:8080/"
    },
    "id": "kZxmwLfnIy6f",
    "outputId": "6d94e762-330a-4728-be63-e0edfc0680ea"
   },
   "outputs": [
    {
     "name": "stdout",
     "output_type": "stream",
     "text": [
      "MINNESOTA\n"
     ]
    }
   ],
   "source": [
    "minnesota = pd.read_excel(minnesota_filepath)\n",
    "minnesota = wrangle(minnesota)\n",
    "minnesota.to_csv('minnesota.csv')"
   ]
  },
  {
   "cell_type": "markdown",
   "metadata": {
    "id": "5NsaYFf_I3Xd"
   },
   "source": [
    "# MISSISSIPPI"
   ]
  },
  {
   "cell_type": "code",
   "execution_count": 52,
   "metadata": {},
   "outputs": [],
   "source": [
    "mississippi_filepath = os.path.join(path, 'xls/mississippi.xls')"
   ]
  },
  {
   "cell_type": "code",
   "execution_count": 53,
   "metadata": {
    "colab": {
     "base_uri": "https://localhost:8080/"
    },
    "id": "B1BbtyPSI3Xh",
    "outputId": "a7502434-4550-4714-b57e-4c732999b5b1"
   },
   "outputs": [
    {
     "name": "stdout",
     "output_type": "stream",
     "text": [
      "MISSISSIPPI\n"
     ]
    }
   ],
   "source": [
    "mississippi = pd.read_excel(mississippi_filepath)\n",
    "mississippi = wrangle(mississippi)\n",
    "mississippi.to_csv('mississippi.csv')"
   ]
  },
  {
   "cell_type": "markdown",
   "metadata": {
    "id": "wKOqrsYEI528"
   },
   "source": [
    "# MISSOURI"
   ]
  },
  {
   "cell_type": "code",
   "execution_count": 54,
   "metadata": {},
   "outputs": [],
   "source": [
    "missouri_filepath = os.path.join(path, 'xls/missouri.xls')"
   ]
  },
  {
   "cell_type": "code",
   "execution_count": 55,
   "metadata": {
    "colab": {
     "base_uri": "https://localhost:8080/"
    },
    "id": "Yl2jp81nI52-",
    "outputId": "c9a6ee6f-f06d-4093-ed4d-a4cac791e649"
   },
   "outputs": [
    {
     "name": "stdout",
     "output_type": "stream",
     "text": [
      "MISSOURI\n"
     ]
    }
   ],
   "source": [
    "missouri = pd.read_excel(missouri_filepath)\n",
    "missouri = wrangle(missouri)\n",
    "missouri.to_csv('missouri.csv')"
   ]
  },
  {
   "cell_type": "markdown",
   "metadata": {
    "id": "g1m1dqJPI8MN"
   },
   "source": [
    "# MONTANA"
   ]
  },
  {
   "cell_type": "code",
   "execution_count": 56,
   "metadata": {},
   "outputs": [],
   "source": [
    "montana_filepath = os.path.join(path, 'xls/montana.xls')"
   ]
  },
  {
   "cell_type": "code",
   "execution_count": 57,
   "metadata": {
    "colab": {
     "base_uri": "https://localhost:8080/"
    },
    "id": "_oSeBb3CI8MQ",
    "outputId": "5af19097-4b55-45e1-a5fc-190a5a1611bc"
   },
   "outputs": [
    {
     "name": "stdout",
     "output_type": "stream",
     "text": [
      "MONTANA\n"
     ]
    }
   ],
   "source": [
    "montana = pd.read_excel(montana_filepath)\n",
    "montana = wrangle(montana)\n",
    "montana.to_csv('montana.csv')"
   ]
  },
  {
   "cell_type": "markdown",
   "metadata": {
    "id": "VkF1PL8NPGv7"
   },
   "source": [
    "# NEBRASKA"
   ]
  },
  {
   "cell_type": "code",
   "execution_count": 58,
   "metadata": {},
   "outputs": [],
   "source": [
    "nebraska_filepath = os.path.join(path, 'xls/nebraska.xls')"
   ]
  },
  {
   "cell_type": "code",
   "execution_count": 59,
   "metadata": {
    "colab": {
     "base_uri": "https://localhost:8080/"
    },
    "id": "AM-7f-7ZPGv-",
    "outputId": "af41e581-80fd-4843-9788-32e6c70eb6bd"
   },
   "outputs": [
    {
     "name": "stdout",
     "output_type": "stream",
     "text": [
      "NEBRASKA\n"
     ]
    }
   ],
   "source": [
    "nebraska = pd.read_excel(nebraska_filepath)\n",
    "nebraska = wrangle(nebraska)\n",
    "nebraska.to_csv('nebraska.csv')"
   ]
  },
  {
   "cell_type": "markdown",
   "metadata": {
    "id": "CxbX32cSPJXt"
   },
   "source": [
    "# NEVADA"
   ]
  },
  {
   "cell_type": "code",
   "execution_count": 60,
   "metadata": {},
   "outputs": [],
   "source": [
    "nevada_filepath = os.path.join(path, 'xls/nevada.xls')"
   ]
  },
  {
   "cell_type": "code",
   "execution_count": 61,
   "metadata": {
    "colab": {
     "base_uri": "https://localhost:8080/"
    },
    "id": "t72O9D2LPJXv",
    "outputId": "658b69da-5a74-4b16-c622-439942630c2b"
   },
   "outputs": [
    {
     "name": "stdout",
     "output_type": "stream",
     "text": [
      "NEVADA\n"
     ]
    }
   ],
   "source": [
    "nevada = pd.read_excel(nevada_filepath)\n",
    "nevada = wrangle(nevada)\n",
    "nevada.to_csv('nevada.csv')"
   ]
  },
  {
   "cell_type": "markdown",
   "metadata": {
    "id": "gR4q7m96PLw-"
   },
   "source": [
    "# NEW HAMPSHIRE"
   ]
  },
  {
   "cell_type": "code",
   "execution_count": 62,
   "metadata": {},
   "outputs": [],
   "source": [
    "new_hampshire_filepath = os.path.join(path, 'xls/new_hampshire.xls')"
   ]
  },
  {
   "cell_type": "code",
   "execution_count": 63,
   "metadata": {
    "colab": {
     "base_uri": "https://localhost:8080/"
    },
    "id": "AAd5vpXXPLw_",
    "outputId": "664e675d-9182-4c51-e1ba-360d1fda0cd3"
   },
   "outputs": [
    {
     "name": "stdout",
     "output_type": "stream",
     "text": [
      "NEWHAMPSHIRE\n"
     ]
    }
   ],
   "source": [
    "new_hampshire = pd.read_excel(new_hampshire_filepath)\n",
    "new_hampshire = wrangle(new_hampshire)\n",
    "new_hampshire.to_csv('new_hampshire.csv')"
   ]
  },
  {
   "cell_type": "markdown",
   "metadata": {
    "id": "FubZ7ZoiPOH5"
   },
   "source": [
    "# NEW JERSEY"
   ]
  },
  {
   "cell_type": "code",
   "execution_count": 64,
   "metadata": {},
   "outputs": [],
   "source": [
    "new_jersey_filepath = os.path.join(path, 'xls/new_jersey.xls')"
   ]
  },
  {
   "cell_type": "code",
   "execution_count": 65,
   "metadata": {
    "colab": {
     "base_uri": "https://localhost:8080/"
    },
    "id": "TcUbfPejPOH6",
    "outputId": "8241be06-c7ea-4e4a-9926-74fa892346d7"
   },
   "outputs": [
    {
     "name": "stdout",
     "output_type": "stream",
     "text": [
      "NEWJERSEY\n"
     ]
    }
   ],
   "source": [
    "new_jersey = pd.read_excel(new_jersey_filepath)\n",
    "new_jersey.head()\n",
    "new_jersey = wrangle(new_jersey)\n",
    "new_jersey.to_csv('new_jersey.csv')"
   ]
  },
  {
   "cell_type": "markdown",
   "metadata": {
    "id": "7jx8ViUWPQOV"
   },
   "source": [
    "# NEW MEXICO"
   ]
  },
  {
   "cell_type": "code",
   "execution_count": 66,
   "metadata": {},
   "outputs": [],
   "source": [
    "new_mexico_filepath = os.path.join(path, 'xls/new_mexico.xls')"
   ]
  },
  {
   "cell_type": "code",
   "execution_count": 67,
   "metadata": {
    "colab": {
     "base_uri": "https://localhost:8080/"
    },
    "id": "LyqlonE3PQOW",
    "outputId": "e9bee790-167a-4ba4-88dd-ece5370eb744"
   },
   "outputs": [
    {
     "name": "stdout",
     "output_type": "stream",
     "text": [
      "NEWMEXICO\n"
     ]
    }
   ],
   "source": [
    "new_mexico = pd.read_excel(new_mexico_filepath)\n",
    "new_mexico = wrangle(new_mexico)\n",
    "new_mexico.to_csv('new_mexico.csv')"
   ]
  },
  {
   "cell_type": "markdown",
   "metadata": {
    "id": "ec25wvb_zO5T"
   },
   "source": [
    "# NEW YORK"
   ]
  },
  {
   "cell_type": "code",
   "execution_count": 68,
   "metadata": {},
   "outputs": [],
   "source": [
    "new_york_filepath = os.path.join(path, 'xls/new_york.xls')"
   ]
  },
  {
   "cell_type": "code",
   "execution_count": 69,
   "metadata": {
    "colab": {
     "base_uri": "https://localhost:8080/"
    },
    "id": "0v_XOzprzO5V",
    "outputId": "2990e6f8-f351-498b-a24c-2117c04b79bc"
   },
   "outputs": [
    {
     "name": "stdout",
     "output_type": "stream",
     "text": [
      "NEWYORK\n"
     ]
    }
   ],
   "source": [
    "new_york = pd.read_excel(new_york_filepath)\n",
    "new_york = wrangle(new_york)\n",
    "new_york.to_csv('new_york.csv')"
   ]
  },
  {
   "cell_type": "markdown",
   "metadata": {
    "id": "uIElbGdAzRVm"
   },
   "source": [
    "# NORTH CAROLINA"
   ]
  },
  {
   "cell_type": "code",
   "execution_count": 70,
   "metadata": {},
   "outputs": [],
   "source": [
    "north_carolina_filepath = os.path.join(path, 'xls/north_carolina.xls')"
   ]
  },
  {
   "cell_type": "code",
   "execution_count": 71,
   "metadata": {
    "colab": {
     "base_uri": "https://localhost:8080/"
    },
    "id": "S7pRbkCqzRVm",
    "outputId": "f6b91583-d50b-4da7-b47a-4d7ba7955241"
   },
   "outputs": [
    {
     "name": "stdout",
     "output_type": "stream",
     "text": [
      "NORTHCAROLINA\n"
     ]
    }
   ],
   "source": [
    "north_carolina = pd.read_excel(north_carolina_filepath)\n",
    "north_carolina = wrangle(north_carolina)\n",
    "north_carolina.to_csv('north_carolina.csv')"
   ]
  },
  {
   "cell_type": "markdown",
   "metadata": {
    "id": "fT4ppK5EzUUE"
   },
   "source": [
    "# NORTH DAKOTA"
   ]
  },
  {
   "cell_type": "code",
   "execution_count": 72,
   "metadata": {},
   "outputs": [],
   "source": [
    "north_dakota_filepath = os.path.join(path, 'xls/north_dakota.xls')"
   ]
  },
  {
   "cell_type": "code",
   "execution_count": 73,
   "metadata": {
    "colab": {
     "base_uri": "https://localhost:8080/"
    },
    "id": "5iIkwpNazUUE",
    "outputId": "cf56e028-2545-49dd-debd-92052be24e87"
   },
   "outputs": [
    {
     "name": "stdout",
     "output_type": "stream",
     "text": [
      "NORTHDAKOTA\n"
     ]
    }
   ],
   "source": [
    "north_dakota = pd.read_excel(north_dakota_filepath)\n",
    "north_dakota = wrangle(north_dakota)\n",
    "north_dakota.to_csv('north_dakota.csv')"
   ]
  },
  {
   "cell_type": "markdown",
   "metadata": {
    "id": "s_Hxgmwx3-Kg"
   },
   "source": [
    "# OHIO"
   ]
  },
  {
   "cell_type": "code",
   "execution_count": 74,
   "metadata": {},
   "outputs": [],
   "source": [
    "ohio_filepath = os.path.join(path, 'xls/ohio.xls')"
   ]
  },
  {
   "cell_type": "code",
   "execution_count": 75,
   "metadata": {
    "colab": {
     "base_uri": "https://localhost:8080/"
    },
    "id": "MArYdXFW3-Kj",
    "outputId": "d77a59a1-1654-4b56-9286-1132e9a9e27d"
   },
   "outputs": [
    {
     "name": "stdout",
     "output_type": "stream",
     "text": [
      "OHIO\n"
     ]
    }
   ],
   "source": [
    "ohio = pd.read_excel(ohio_filepath)\n",
    "ohio = wrangle(ohio)\n",
    "ohio.to_csv('ohio.csv')"
   ]
  },
  {
   "cell_type": "markdown",
   "metadata": {
    "id": "HfJVYfb34BGF"
   },
   "source": [
    "# OKLAHOMA"
   ]
  },
  {
   "cell_type": "code",
   "execution_count": 76,
   "metadata": {},
   "outputs": [],
   "source": [
    "oklahoma_filepath = os.path.join(path, 'xls/oklahoma.xls')"
   ]
  },
  {
   "cell_type": "code",
   "execution_count": 77,
   "metadata": {
    "colab": {
     "base_uri": "https://localhost:8080/"
    },
    "id": "F9wRIvtT4BGF",
    "outputId": "9a51237b-be52-436b-9639-afebae60895c"
   },
   "outputs": [
    {
     "name": "stdout",
     "output_type": "stream",
     "text": [
      "OKLAHOMA\n"
     ]
    }
   ],
   "source": [
    "oklahoma = pd.read_excel(oklahoma_filepath)\n",
    "oklahoma = wrangle(oklahoma)\n",
    "oklahoma.to_csv('oklahoma.csv')"
   ]
  },
  {
   "cell_type": "markdown",
   "metadata": {
    "id": "3g-aWS1d4DLT"
   },
   "source": [
    "# OREGON"
   ]
  },
  {
   "cell_type": "code",
   "execution_count": 78,
   "metadata": {},
   "outputs": [],
   "source": [
    "oregon_filepath = os.path.join(path, 'xls/oregon.xls')"
   ]
  },
  {
   "cell_type": "code",
   "execution_count": 79,
   "metadata": {
    "colab": {
     "base_uri": "https://localhost:8080/"
    },
    "id": "ZAbzpyO34DLU",
    "outputId": "ed419558-a620-4ec2-e629-80ca1d3d75fe"
   },
   "outputs": [
    {
     "name": "stdout",
     "output_type": "stream",
     "text": [
      "OREGON\n"
     ]
    }
   ],
   "source": [
    "oregon = pd.read_excel(oregon_filepath)\n",
    "oregon = wrangle(oregon)\n",
    "oregon.to_csv('oregon.csv')"
   ]
  },
  {
   "cell_type": "markdown",
   "metadata": {
    "id": "oHXKppT94FT1"
   },
   "source": [
    "# PENNSYLVANIA"
   ]
  },
  {
   "cell_type": "code",
   "execution_count": 80,
   "metadata": {},
   "outputs": [],
   "source": [
    "pennsylvania_filepath = os.path.join(path, 'xls/pennsylvania.xls')"
   ]
  },
  {
   "cell_type": "code",
   "execution_count": 81,
   "metadata": {
    "colab": {
     "base_uri": "https://localhost:8080/"
    },
    "id": "H6_y_Vs74FT1",
    "outputId": "e9be99dc-ef74-4b21-c327-6f7e250129e1"
   },
   "outputs": [
    {
     "name": "stdout",
     "output_type": "stream",
     "text": [
      "PENNSYLVANIA\n"
     ]
    }
   ],
   "source": [
    "pennsylvania = pd.read_excel(pennsylvania_filepath)\n",
    "pennsylvania = wrangle(pennsylvania)\n",
    "pennsylvania.to_csv('pennsylvania.csv')"
   ]
  },
  {
   "cell_type": "markdown",
   "metadata": {
    "id": "DxDePDbu4HjO"
   },
   "source": [
    "# RHODE ISLAND"
   ]
  },
  {
   "cell_type": "code",
   "execution_count": 82,
   "metadata": {},
   "outputs": [],
   "source": [
    "rhode_island_filepath = os.path.join(path, 'xls/rhode_island.xls')"
   ]
  },
  {
   "cell_type": "code",
   "execution_count": 83,
   "metadata": {
    "colab": {
     "base_uri": "https://localhost:8080/"
    },
    "id": "aLQIPO_p4HjP",
    "outputId": "6dfa0f2a-1cd3-4eb1-974c-a735d0c00f2a"
   },
   "outputs": [
    {
     "name": "stdout",
     "output_type": "stream",
     "text": [
      "RHODEISLAND\n"
     ]
    }
   ],
   "source": [
    "rhode_island = pd.read_excel(rhode_island_filepath)\n",
    "rhode_island = wrangle(rhode_island)\n",
    "rhode_island.to_csv('rhode_island.csv')"
   ]
  },
  {
   "cell_type": "markdown",
   "metadata": {
    "id": "rIqnYB7I-iF9"
   },
   "source": [
    "# SOUTH CAROLINA"
   ]
  },
  {
   "cell_type": "code",
   "execution_count": 84,
   "metadata": {},
   "outputs": [],
   "source": [
    "south_carolina_filepath = os.path.join(path, 'xls/south_carolina.xls')"
   ]
  },
  {
   "cell_type": "code",
   "execution_count": 85,
   "metadata": {
    "colab": {
     "base_uri": "https://localhost:8080/"
    },
    "id": "QwJq1ip7-iF_",
    "outputId": "2035e852-5fd8-44ca-8256-8237a32d0037"
   },
   "outputs": [
    {
     "name": "stdout",
     "output_type": "stream",
     "text": [
      "SOUTHCAROLINA\n"
     ]
    }
   ],
   "source": [
    "south_carolina = pd.read_excel(south_carolina_filepath)\n",
    "south_carolina = wrangle(south_carolina)\n",
    "south_carolina.to_csv('south_carolina.csv')"
   ]
  },
  {
   "cell_type": "markdown",
   "metadata": {
    "id": "WGvzEsueAlnT"
   },
   "source": [
    "# SOUTH DAKOTA"
   ]
  },
  {
   "cell_type": "code",
   "execution_count": 86,
   "metadata": {},
   "outputs": [],
   "source": [
    "south_dakota_filepath = os.path.join(path, 'xls/south_dakota.xls')"
   ]
  },
  {
   "cell_type": "code",
   "execution_count": 87,
   "metadata": {
    "colab": {
     "base_uri": "https://localhost:8080/"
    },
    "id": "3UdlPaPJAlnV",
    "outputId": "899f3e71-f75b-4503-efd9-0e6060513cfb"
   },
   "outputs": [
    {
     "name": "stdout",
     "output_type": "stream",
     "text": [
      "SOUTHDAKOTA\n"
     ]
    }
   ],
   "source": [
    "south_dakota = pd.read_excel(south_dakota_filepath)\n",
    "south_dakota = wrangle(south_dakota)\n",
    "south_dakota.to_csv('south_dakota.csv')"
   ]
  },
  {
   "cell_type": "markdown",
   "metadata": {
    "id": "dy88rRmNC1xf"
   },
   "source": [
    "# TENNESSEE"
   ]
  },
  {
   "cell_type": "code",
   "execution_count": 88,
   "metadata": {},
   "outputs": [],
   "source": [
    "tennessee_filepath = os.path.join(path, 'xls/tennessee.xls')"
   ]
  },
  {
   "cell_type": "code",
   "execution_count": 89,
   "metadata": {
    "colab": {
     "base_uri": "https://localhost:8080/"
    },
    "id": "fswGAG3qC1xf",
    "outputId": "814e3e16-2c8e-4f3f-8010-8b1c01a79c6b"
   },
   "outputs": [
    {
     "name": "stdout",
     "output_type": "stream",
     "text": [
      "TENNESSEE\n"
     ]
    }
   ],
   "source": [
    "tennessee = pd.read_excel(tennessee_filepath)\n",
    "tennessee = wrangle(tennessee)\n",
    "tennessee.to_csv('tennessee.csv')"
   ]
  },
  {
   "cell_type": "markdown",
   "metadata": {
    "id": "JXPP-tNVEdLZ"
   },
   "source": [
    "# TEXAS"
   ]
  },
  {
   "cell_type": "code",
   "execution_count": 90,
   "metadata": {},
   "outputs": [],
   "source": [
    "texas_filepath = os.path.join(path, 'xls/texas.xls')"
   ]
  },
  {
   "cell_type": "code",
   "execution_count": 91,
   "metadata": {
    "colab": {
     "base_uri": "https://localhost:8080/"
    },
    "id": "INLvS4pNEdLa",
    "outputId": "7472dedd-2fca-49b6-96e1-e200e8698269"
   },
   "outputs": [
    {
     "name": "stdout",
     "output_type": "stream",
     "text": [
      "TEXAS\n"
     ]
    }
   ],
   "source": [
    "texas = pd.read_excel(texas_filepath)\n",
    "texas = wrangle(texas)\n",
    "texas.to_csv('texas.csv')"
   ]
  },
  {
   "cell_type": "markdown",
   "metadata": {
    "id": "NKYFm_2LFejj"
   },
   "source": [
    "# UTAH"
   ]
  },
  {
   "cell_type": "code",
   "execution_count": 92,
   "metadata": {},
   "outputs": [],
   "source": [
    "utah_filepath = os.path.join(path, 'xls/utah.xls')"
   ]
  },
  {
   "cell_type": "code",
   "execution_count": 93,
   "metadata": {
    "colab": {
     "base_uri": "https://localhost:8080/"
    },
    "id": "Iyz-J9ESFejk",
    "outputId": "9411ae9a-254d-428a-c4c1-87b32622882e"
   },
   "outputs": [
    {
     "name": "stdout",
     "output_type": "stream",
     "text": [
      "UTAH\n"
     ]
    }
   ],
   "source": [
    "utah = pd.read_excel(utah_filepath)\n",
    "utah = wrangle(utah)\n",
    "utah.to_csv('utah.csv')"
   ]
  },
  {
   "cell_type": "markdown",
   "metadata": {
    "id": "w8EkgoueGrDY"
   },
   "source": [
    "# VERMONT"
   ]
  },
  {
   "cell_type": "code",
   "execution_count": 94,
   "metadata": {},
   "outputs": [],
   "source": [
    "vermont_filepath = os.path.join(path, 'xls/vermont.xls')"
   ]
  },
  {
   "cell_type": "code",
   "execution_count": 95,
   "metadata": {
    "colab": {
     "base_uri": "https://localhost:8080/"
    },
    "id": "ukLXS99kGrDZ",
    "outputId": "9bb1dec1-3a53-4f11-8170-5be188c9745d"
   },
   "outputs": [
    {
     "name": "stdout",
     "output_type": "stream",
     "text": [
      "VERMONT\n"
     ]
    }
   ],
   "source": [
    "vermont = pd.read_excel(vermont_filepath)\n",
    "vermont = wrangle(vermont)\n",
    "vermont.to_csv('vermont.csv')"
   ]
  },
  {
   "cell_type": "markdown",
   "metadata": {
    "id": "lYK1S__BGuYq"
   },
   "source": [
    "# VIRGINIA"
   ]
  },
  {
   "cell_type": "code",
   "execution_count": 96,
   "metadata": {},
   "outputs": [],
   "source": [
    "virginia_filepath = os.path.join(path, 'xls/virginia.xls')"
   ]
  },
  {
   "cell_type": "code",
   "execution_count": 97,
   "metadata": {
    "colab": {
     "base_uri": "https://localhost:8080/"
    },
    "id": "cWnDf3RFGuYq",
    "outputId": "23f1e037-cdb4-4f0a-97db-908bbe4bea9e"
   },
   "outputs": [
    {
     "name": "stdout",
     "output_type": "stream",
     "text": [
      "VIRGINIA\n"
     ]
    }
   ],
   "source": [
    "virginia = pd.read_excel(virginia_filepath)\n",
    "virginia = wrangle(virginia)\n",
    "virginia.to_csv('virginia.csv')"
   ]
  },
  {
   "cell_type": "markdown",
   "metadata": {
    "id": "4wUy6eCYKS-4"
   },
   "source": [
    "# WASHINGTON"
   ]
  },
  {
   "cell_type": "code",
   "execution_count": 98,
   "metadata": {},
   "outputs": [],
   "source": [
    "washington_filepath = os.path.join(path, 'xls/washington.xls')"
   ]
  },
  {
   "cell_type": "code",
   "execution_count": 99,
   "metadata": {
    "colab": {
     "base_uri": "https://localhost:8080/"
    },
    "id": "0REScZaFKS-4",
    "outputId": "98c5b436-feee-4f15-8592-7c44ea492730"
   },
   "outputs": [
    {
     "name": "stdout",
     "output_type": "stream",
     "text": [
      "WASHINGTON\n"
     ]
    }
   ],
   "source": [
    "washington = pd.read_excel(washington_filepath)\n",
    "washington = wrangle(washington)\n",
    "washington.to_csv('washington.csv')"
   ]
  },
  {
   "cell_type": "markdown",
   "metadata": {
    "id": "Glx-RARUKV3d"
   },
   "source": [
    "# WEST VIRGINIA"
   ]
  },
  {
   "cell_type": "code",
   "execution_count": 100,
   "metadata": {},
   "outputs": [],
   "source": [
    "west_virginia_filepath = os.path.join(path, 'xls/west_virginia.xls')"
   ]
  },
  {
   "cell_type": "code",
   "execution_count": 101,
   "metadata": {
    "colab": {
     "base_uri": "https://localhost:8080/"
    },
    "id": "hy-ZaEPmKV3d",
    "outputId": "4b0bf1b4-b502-4744-d897-9ed7f6817cc6"
   },
   "outputs": [
    {
     "name": "stdout",
     "output_type": "stream",
     "text": [
      "WESTVIRGINIA\n"
     ]
    }
   ],
   "source": [
    "west_virginia = pd.read_excel(west_virginia_filepath)\n",
    "west_virginia = wrangle(west_virginia)\n",
    "west_virginia.to_csv('west_virginia.csv')"
   ]
  },
  {
   "cell_type": "markdown",
   "metadata": {
    "id": "niOJLPpqKZGs"
   },
   "source": [
    "# WISCONSIN"
   ]
  },
  {
   "cell_type": "code",
   "execution_count": 102,
   "metadata": {},
   "outputs": [],
   "source": [
    "wisconsin_filepath = os.path.join(path, 'xls/wisconsin.xls')"
   ]
  },
  {
   "cell_type": "code",
   "execution_count": 103,
   "metadata": {
    "colab": {
     "base_uri": "https://localhost:8080/"
    },
    "id": "Fs3rzB3vKZGv",
    "outputId": "8f3ed4dc-ee3f-4df0-eaf3-c6cb7ea4f0db"
   },
   "outputs": [
    {
     "name": "stdout",
     "output_type": "stream",
     "text": [
      "WISCONSIN\n"
     ]
    }
   ],
   "source": [
    "wisconsin = pd.read_excel(wisconsin_filepath)\n",
    "wisconsin = wrangle(wisconsin)\n",
    "wisconsin.to_csv('wisconsin.csv')"
   ]
  },
  {
   "cell_type": "markdown",
   "metadata": {
    "id": "ZTIZFXWzKcOy"
   },
   "source": [
    "# WYOMING"
   ]
  },
  {
   "cell_type": "code",
   "execution_count": 104,
   "metadata": {},
   "outputs": [],
   "source": [
    "wyoming_filepath = os.path.join(path, 'xls/wyoming.xls')"
   ]
  },
  {
   "cell_type": "code",
   "execution_count": 105,
   "metadata": {
    "colab": {
     "base_uri": "https://localhost:8080/"
    },
    "id": "ekvSy2wvKcOz",
    "outputId": "8a1ee6a8-5f85-4f5b-81ee-ac639d4f2d2c"
   },
   "outputs": [
    {
     "name": "stdout",
     "output_type": "stream",
     "text": [
      "WYOMING\n"
     ]
    }
   ],
   "source": [
    "wyoming = pd.read_excel(wyoming_filepath)\n",
    "wyoming = wrangle(wyoming)\n",
    "wyoming.to_csv('wyoming.csv')"
   ]
  },
  {
   "cell_type": "markdown",
   "metadata": {},
   "source": [
    "# DISTRICT OF COLUMBIA"
   ]
  },
  {
   "cell_type": "code",
   "execution_count": 106,
   "metadata": {},
   "outputs": [],
   "source": [
    "dc_filepath = os.path.join(path, 'xls/district_of_columbia.xls')"
   ]
  },
  {
   "cell_type": "code",
   "execution_count": 107,
   "metadata": {},
   "outputs": [
    {
     "name": "stdout",
     "output_type": "stream",
     "text": [
      "DISTRICTOFCOLUMBIA\n"
     ]
    }
   ],
   "source": [
    "district_of_columbia = pd.read_excel(dc_filepath)\n",
    "district_of_columbia = wrangle(district_of_columbia)\n",
    "district_of_columbia.to_csv('district_of_columbia.csv')"
   ]
  }
 ],
 "metadata": {
  "colab": {
   "collapsed_sections": [],
   "name": "fbi_crime_data.ipynb",
   "provenance": [],
   "toc_visible": true
  },
  "kernelspec": {
   "display_name": "Python 3",
   "language": "python",
   "name": "python3"
  },
  "language_info": {
   "codemirror_mode": {
    "name": "ipython",
    "version": 3
   },
   "file_extension": ".py",
   "mimetype": "text/x-python",
   "name": "python",
   "nbconvert_exporter": "python",
   "pygments_lexer": "ipython3",
   "version": "3.7.6"
  }
 },
 "nbformat": 4,
 "nbformat_minor": 4
}
