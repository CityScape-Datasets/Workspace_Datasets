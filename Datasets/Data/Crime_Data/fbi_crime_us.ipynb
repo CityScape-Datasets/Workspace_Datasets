{
 "cells": [
  {
   "cell_type": "code",
   "execution_count": 1,
   "metadata": {
    "id": "KEztRIclYEDM"
   },
   "outputs": [],
   "source": [
    "import os\n",
    "import glob\n",
    "import pandas as pd\n",
    "os.chdir(\"/Users/jisha/Desktop/Lambda_Course_Work/Coursework/Work/3. Labs/Workspace_Datasets/Datasets/Crime_Data/csv\")"
   ]
  },
  {
   "cell_type": "code",
   "execution_count": 2,
   "metadata": {},
   "outputs": [],
   "source": [
    "path = os.getcwd()"
   ]
  },
  {
   "cell_type": "code",
   "execution_count": 3,
   "metadata": {
    "id": "LgaegRZiaq4l"
   },
   "outputs": [],
   "source": [
    "extension = 'csv'\n",
    "all_filenames = [i for i in glob.glob('*.{}'.format(extension))]"
   ]
  },
  {
   "cell_type": "code",
   "execution_count": 4,
   "metadata": {
    "id": "jKsUbxknauis"
   },
   "outputs": [],
   "source": [
    "# combine all files in the list\n",
    "combined_csv = pd.concat([pd.read_csv(f) for f in all_filenames ])\n",
    "# export to csv\n",
    "combined_csv.to_csv(\"../combined_csv.csv\", index=False)"
   ]
  },
  {
   "cell_type": "code",
   "execution_count": 5,
   "metadata": {
    "id": "hWPWCtwzdbe2"
   },
   "outputs": [],
   "source": [
    "import pandas as pd\n",
    "import numpy as np"
   ]
  },
  {
   "cell_type": "code",
   "execution_count": 6,
   "metadata": {
    "colab": {
     "base_uri": "https://localhost:8080/",
     "height": 224
    },
    "id": "xkx_EQpqdOT6",
    "outputId": "395754e9-b0e3-41f2-e90c-181e902b37a4"
   },
   "outputs": [
    {
     "output_type": "stream",
     "name": "stdout",
     "text": [
      "(8105, 14)\n"
     ]
    },
    {
     "output_type": "execute_result",
     "data": {
      "text/plain": [
       "   Unnamed: 0         City State  Population  Violent crime  \\\n",
       "0           4      Acworth    GA       22921             16   \n",
       "1           5  Adairsville    GA        4953              7   \n",
       "2           6       Albany    GA       74989            790   \n",
       "3           7         Alma    GA        3438             10   \n",
       "4           8   Alpharetta    GA       67411             75   \n",
       "\n",
       "   Murder and nonnegligent manslaughter  Rape  Robbery  Aggravated assault  \\\n",
       "0                                     0     2        1                  13   \n",
       "1                                     0     2        0                   5   \n",
       "2                                    12    32      165                 581   \n",
       "3                                     0     0        2                   8   \n",
       "4                                     1     7       11                  56   \n",
       "\n",
       "   Property crime  Burglary  Larceny- theft  Motor vehicle theft  Arson  \n",
       "0             437        24             399                   14      0  \n",
       "1              83        15              59                    9      0  \n",
       "2            3452       729            2489                  234     17  \n",
       "3             111        36              69                    6      0  \n",
       "4             991        97             849                   45      0  "
      ],
      "text/html": "<div>\n<style scoped>\n    .dataframe tbody tr th:only-of-type {\n        vertical-align: middle;\n    }\n\n    .dataframe tbody tr th {\n        vertical-align: top;\n    }\n\n    .dataframe thead th {\n        text-align: right;\n    }\n</style>\n<table border=\"1\" class=\"dataframe\">\n  <thead>\n    <tr style=\"text-align: right;\">\n      <th></th>\n      <th>Unnamed: 0</th>\n      <th>City</th>\n      <th>State</th>\n      <th>Population</th>\n      <th>Violent crime</th>\n      <th>Murder and nonnegligent manslaughter</th>\n      <th>Rape</th>\n      <th>Robbery</th>\n      <th>Aggravated assault</th>\n      <th>Property crime</th>\n      <th>Burglary</th>\n      <th>Larceny- theft</th>\n      <th>Motor vehicle theft</th>\n      <th>Arson</th>\n    </tr>\n  </thead>\n  <tbody>\n    <tr>\n      <th>0</th>\n      <td>4</td>\n      <td>Acworth</td>\n      <td>GA</td>\n      <td>22921</td>\n      <td>16</td>\n      <td>0</td>\n      <td>2</td>\n      <td>1</td>\n      <td>13</td>\n      <td>437</td>\n      <td>24</td>\n      <td>399</td>\n      <td>14</td>\n      <td>0</td>\n    </tr>\n    <tr>\n      <th>1</th>\n      <td>5</td>\n      <td>Adairsville</td>\n      <td>GA</td>\n      <td>4953</td>\n      <td>7</td>\n      <td>0</td>\n      <td>2</td>\n      <td>0</td>\n      <td>5</td>\n      <td>83</td>\n      <td>15</td>\n      <td>59</td>\n      <td>9</td>\n      <td>0</td>\n    </tr>\n    <tr>\n      <th>2</th>\n      <td>6</td>\n      <td>Albany</td>\n      <td>GA</td>\n      <td>74989</td>\n      <td>790</td>\n      <td>12</td>\n      <td>32</td>\n      <td>165</td>\n      <td>581</td>\n      <td>3452</td>\n      <td>729</td>\n      <td>2489</td>\n      <td>234</td>\n      <td>17</td>\n    </tr>\n    <tr>\n      <th>3</th>\n      <td>7</td>\n      <td>Alma</td>\n      <td>GA</td>\n      <td>3438</td>\n      <td>10</td>\n      <td>0</td>\n      <td>0</td>\n      <td>2</td>\n      <td>8</td>\n      <td>111</td>\n      <td>36</td>\n      <td>69</td>\n      <td>6</td>\n      <td>0</td>\n    </tr>\n    <tr>\n      <th>4</th>\n      <td>8</td>\n      <td>Alpharetta</td>\n      <td>GA</td>\n      <td>67411</td>\n      <td>75</td>\n      <td>1</td>\n      <td>7</td>\n      <td>11</td>\n      <td>56</td>\n      <td>991</td>\n      <td>97</td>\n      <td>849</td>\n      <td>45</td>\n      <td>0</td>\n    </tr>\n  </tbody>\n</table>\n</div>"
     },
     "metadata": {},
     "execution_count": 6
    }
   ],
   "source": [
    "crime_filepath = os.path.join(path, \"../combined_csv.csv\")\n",
    "combined_csv = pd.read_csv(crime_filepath)\n",
    "print(combined_csv.shape)\n",
    "combined_csv.head()"
   ]
  },
  {
   "source": [
    "## Clean Data"
   ],
   "cell_type": "markdown",
   "metadata": {}
  },
  {
   "source": [
    "### Remove Cities with a 0 populations"
   ],
   "cell_type": "markdown",
   "metadata": {}
  },
  {
   "cell_type": "code",
   "execution_count": 7,
   "metadata": {
    "colab": {
     "base_uri": "https://localhost:8080/",
     "height": 112
    },
    "id": "x7OYwxloMeEn",
    "outputId": "551e3d1e-93c1-47c4-a571-691257fb59e3"
   },
   "outputs": [
    {
     "output_type": "execute_result",
     "data": {
      "text/plain": [
       "      Unnamed: 0            City State  Population  Violent crime  \\\n",
       "693            7  Baltimore City    MD           0              0   \n",
       "7055          77        Sunriver    OR           0              1   \n",
       "\n",
       "      Murder and nonnegligent manslaughter  Rape  Robbery  Aggravated assault  \\\n",
       "693                                      0     0        0                   0   \n",
       "7055                                     0     0        0                   1   \n",
       "\n",
       "      Property crime  Burglary  Larceny- theft  Motor vehicle theft  Arson  \n",
       "693                0         0               0                    0      0  \n",
       "7055              54         9              43                    2      0  "
      ],
      "text/html": "<div>\n<style scoped>\n    .dataframe tbody tr th:only-of-type {\n        vertical-align: middle;\n    }\n\n    .dataframe tbody tr th {\n        vertical-align: top;\n    }\n\n    .dataframe thead th {\n        text-align: right;\n    }\n</style>\n<table border=\"1\" class=\"dataframe\">\n  <thead>\n    <tr style=\"text-align: right;\">\n      <th></th>\n      <th>Unnamed: 0</th>\n      <th>City</th>\n      <th>State</th>\n      <th>Population</th>\n      <th>Violent crime</th>\n      <th>Murder and nonnegligent manslaughter</th>\n      <th>Rape</th>\n      <th>Robbery</th>\n      <th>Aggravated assault</th>\n      <th>Property crime</th>\n      <th>Burglary</th>\n      <th>Larceny- theft</th>\n      <th>Motor vehicle theft</th>\n      <th>Arson</th>\n    </tr>\n  </thead>\n  <tbody>\n    <tr>\n      <th>693</th>\n      <td>7</td>\n      <td>Baltimore City</td>\n      <td>MD</td>\n      <td>0</td>\n      <td>0</td>\n      <td>0</td>\n      <td>0</td>\n      <td>0</td>\n      <td>0</td>\n      <td>0</td>\n      <td>0</td>\n      <td>0</td>\n      <td>0</td>\n      <td>0</td>\n    </tr>\n    <tr>\n      <th>7055</th>\n      <td>77</td>\n      <td>Sunriver</td>\n      <td>OR</td>\n      <td>0</td>\n      <td>1</td>\n      <td>0</td>\n      <td>0</td>\n      <td>0</td>\n      <td>1</td>\n      <td>54</td>\n      <td>9</td>\n      <td>43</td>\n      <td>2</td>\n      <td>0</td>\n    </tr>\n  </tbody>\n</table>\n</div>"
     },
     "metadata": {},
     "execution_count": 7
    }
   ],
   "source": [
    "# Population cannot be 0\n",
    "combined_csv.loc[combined_csv['Population']==0.0]"
   ]
  },
  {
   "source": [
    "combined_csv = combined_csv[combined_csv.Population != 0]"
   ],
   "cell_type": "code",
   "metadata": {
    "id": "sWXWcyO1MrIn"
   },
   "execution_count": 8,
   "outputs": []
  },
  {
   "source": [
    "### Fill empty columns with violent crime and property crime sums if available.\n",
    "- property crime is the sum of 'Burglary', 'Larceny- theft', 'Motor vehicle theft'\n",
    "- violent crime is the sum of 'Murder and nonnegligent manslaughter', 'Rape','Robbery', 'Aggravated assault'\n"
   ],
   "cell_type": "markdown",
   "metadata": {}
  },
  {
   "cell_type": "code",
   "execution_count": 9,
   "metadata": {
    "id": "5qFcImF4wwi3"
   },
   "outputs": [],
   "source": [
    "violent_crimes = ['Murder and nonnegligent manslaughter', 'Rape','Robbery', \n",
    "                  'Aggravated assault']"
   ]
  },
  {
   "cell_type": "code",
   "execution_count": 10,
   "metadata": {
    "id": "bh7ft40X0JZU"
   },
   "outputs": [],
   "source": [
    "combined_csv['Violent crime']= combined_csv[violent_crimes].sum(axis=1)"
   ]
  },
  {
   "cell_type": "code",
   "execution_count": 11,
   "metadata": {
    "id": "crP9OU9b2OMs"
   },
   "outputs": [],
   "source": [
    "property_crimes = ['Burglary', 'Larceny- theft', 'Motor vehicle theft']"
   ]
  },
  {
   "cell_type": "code",
   "execution_count": 12,
   "metadata": {
    "id": "gJt3tA5JvT7T"
   },
   "outputs": [],
   "source": [
    "combined_csv['Property crime']= combined_csv[property_crimes].sum(axis=1)"
   ]
  },
  {
   "cell_type": "markdown",
   "metadata": {
    "id": "HHkn8C_dcemU"
   },
   "source": [
    "## Feature Engineering\n",
    "- Creating a crime rate per 1000 column \n",
    "- Creating a crime rating column\n"
   ]
  },
  {
   "source": [
    "### Crime Rate\n",
    "Crime Rate per 1,000 inhabitants: This represents the number of Index offenses per 1,000 inhabitants.For example: What is the crime rate for a municipality with 513 Index offenses (murder, rape, robbery,aggravated assault, burglary, larceny-theft and motor vehicle theft), with a population of 8,280?\n",
    "513 (Index offenses) ÷ 8,280 (population) = .061957 x 1,000 = 62.0 (crime per 1,000 inhabitants) \n",
    "\n",
    "https://www.njsp.org/info/ucr2000/pdf/calc_ucr2000.pdf"
   ],
   "cell_type": "markdown",
   "metadata": {}
  },
  {
   "cell_type": "code",
   "execution_count": 13,
   "metadata": {
    "id": "OgcZ4616Zu_1"
   },
   "outputs": [],
   "source": [
    "# Crime is broken down into violent crime and property crime\n",
    "# Arson is reported in conjunction with property or violent crime depending on the nature\n",
    "columns = ['Violent crime', 'Property crime']"
   ]
  },
  {
   "cell_type": "code",
   "execution_count": 14,
   "metadata": {
    "id": "Rgg5i2tycrK3"
   },
   "outputs": [],
   "source": [
    "combined_csv[columns] = combined_csv[columns].astype(int)"
   ]
  },
  {
   "cell_type": "code",
   "execution_count": 15,
   "metadata": {
    "id": "vILpOAjqZMTk"
   },
   "outputs": [],
   "source": [
    "def sum_frame_by_column(frame, new_col_name, list_of_cols_to_sum, divideby):\n",
    "    frame[new_col_name] = ((frame[list_of_cols_to_sum].astype(int).sum(axis=1)/frame[divideby].astype(int))*1000).round(2)\n",
    "    return(frame)"
   ]
  },
  {
   "cell_type": "code",
   "execution_count": 16,
   "metadata": {
    "colab": {
     "base_uri": "https://localhost:8080/",
     "height": 423
    },
    "id": "mFNrbQNGbrRB",
    "outputId": "3839ac9c-cecf-419f-bfb8-39f947a0f805"
   },
   "outputs": [
    {
     "output_type": "execute_result",
     "data": {
      "text/plain": [
       "      Unnamed: 0            City State  Population  Violent crime  \\\n",
       "0              4         Acworth    GA       22921             16   \n",
       "1              5     Adairsville    GA        4953              7   \n",
       "2              6          Albany    GA       74989            790   \n",
       "3              7            Alma    GA        3438             10   \n",
       "4              8      Alpharetta    GA       67411             75   \n",
       "...          ...             ...   ...         ...            ...   \n",
       "8100         249     West Plains    MO       12284             52   \n",
       "8101         250         Wheaton    MO         693              0   \n",
       "8102         251         Willard    MO        5616              7   \n",
       "8103         252  Willow Springs    MO        2103             13   \n",
       "8104           4      Washington    DC      705749           6896   \n",
       "\n",
       "      Murder and nonnegligent manslaughter  Rape  Robbery  Aggravated assault  \\\n",
       "0                                        0     2        1                  13   \n",
       "1                                        0     2        0                   5   \n",
       "2                                       12    32      165                 581   \n",
       "3                                        0     0        2                   8   \n",
       "4                                        1     7       11                  56   \n",
       "...                                    ...   ...      ...                 ...   \n",
       "8100                                     0    10        2                  40   \n",
       "8101                                     0     0        0                   0   \n",
       "8102                                     0     1        0                   6   \n",
       "8103                                     0     4        0                   9   \n",
       "8104                                   166   342     2359                4029   \n",
       "\n",
       "      Property crime  Burglary  Larceny- theft  Motor vehicle theft  Arson  \\\n",
       "0                437        24             399                   14      0   \n",
       "1                 83        15              59                    9      0   \n",
       "2               3452       729            2489                  234     17   \n",
       "3                111        36              69                    6      0   \n",
       "4                991        97             849                   45      0   \n",
       "...              ...       ...             ...                  ...    ...   \n",
       "8100             709       126             496                   87      0   \n",
       "8101               0         0               0                    0      0   \n",
       "8102              74        14              55                    5      0   \n",
       "8103              71        22              41                    8      1   \n",
       "8104           29965      1840           25827                 2298      0   \n",
       "\n",
       "      Crime Rate (per 1000 residents)  \n",
       "0                               19.76  \n",
       "1                               18.17  \n",
       "2                               56.57  \n",
       "3                               35.19  \n",
       "4                               15.81  \n",
       "...                               ...  \n",
       "8100                            61.95  \n",
       "8101                             0.00  \n",
       "8102                            14.42  \n",
       "8103                            39.94  \n",
       "8104                            52.23  \n",
       "\n",
       "[8103 rows x 15 columns]"
      ],
      "text/html": "<div>\n<style scoped>\n    .dataframe tbody tr th:only-of-type {\n        vertical-align: middle;\n    }\n\n    .dataframe tbody tr th {\n        vertical-align: top;\n    }\n\n    .dataframe thead th {\n        text-align: right;\n    }\n</style>\n<table border=\"1\" class=\"dataframe\">\n  <thead>\n    <tr style=\"text-align: right;\">\n      <th></th>\n      <th>Unnamed: 0</th>\n      <th>City</th>\n      <th>State</th>\n      <th>Population</th>\n      <th>Violent crime</th>\n      <th>Murder and nonnegligent manslaughter</th>\n      <th>Rape</th>\n      <th>Robbery</th>\n      <th>Aggravated assault</th>\n      <th>Property crime</th>\n      <th>Burglary</th>\n      <th>Larceny- theft</th>\n      <th>Motor vehicle theft</th>\n      <th>Arson</th>\n      <th>Crime Rate (per 1000 residents)</th>\n    </tr>\n  </thead>\n  <tbody>\n    <tr>\n      <th>0</th>\n      <td>4</td>\n      <td>Acworth</td>\n      <td>GA</td>\n      <td>22921</td>\n      <td>16</td>\n      <td>0</td>\n      <td>2</td>\n      <td>1</td>\n      <td>13</td>\n      <td>437</td>\n      <td>24</td>\n      <td>399</td>\n      <td>14</td>\n      <td>0</td>\n      <td>19.76</td>\n    </tr>\n    <tr>\n      <th>1</th>\n      <td>5</td>\n      <td>Adairsville</td>\n      <td>GA</td>\n      <td>4953</td>\n      <td>7</td>\n      <td>0</td>\n      <td>2</td>\n      <td>0</td>\n      <td>5</td>\n      <td>83</td>\n      <td>15</td>\n      <td>59</td>\n      <td>9</td>\n      <td>0</td>\n      <td>18.17</td>\n    </tr>\n    <tr>\n      <th>2</th>\n      <td>6</td>\n      <td>Albany</td>\n      <td>GA</td>\n      <td>74989</td>\n      <td>790</td>\n      <td>12</td>\n      <td>32</td>\n      <td>165</td>\n      <td>581</td>\n      <td>3452</td>\n      <td>729</td>\n      <td>2489</td>\n      <td>234</td>\n      <td>17</td>\n      <td>56.57</td>\n    </tr>\n    <tr>\n      <th>3</th>\n      <td>7</td>\n      <td>Alma</td>\n      <td>GA</td>\n      <td>3438</td>\n      <td>10</td>\n      <td>0</td>\n      <td>0</td>\n      <td>2</td>\n      <td>8</td>\n      <td>111</td>\n      <td>36</td>\n      <td>69</td>\n      <td>6</td>\n      <td>0</td>\n      <td>35.19</td>\n    </tr>\n    <tr>\n      <th>4</th>\n      <td>8</td>\n      <td>Alpharetta</td>\n      <td>GA</td>\n      <td>67411</td>\n      <td>75</td>\n      <td>1</td>\n      <td>7</td>\n      <td>11</td>\n      <td>56</td>\n      <td>991</td>\n      <td>97</td>\n      <td>849</td>\n      <td>45</td>\n      <td>0</td>\n      <td>15.81</td>\n    </tr>\n    <tr>\n      <th>...</th>\n      <td>...</td>\n      <td>...</td>\n      <td>...</td>\n      <td>...</td>\n      <td>...</td>\n      <td>...</td>\n      <td>...</td>\n      <td>...</td>\n      <td>...</td>\n      <td>...</td>\n      <td>...</td>\n      <td>...</td>\n      <td>...</td>\n      <td>...</td>\n      <td>...</td>\n    </tr>\n    <tr>\n      <th>8100</th>\n      <td>249</td>\n      <td>West Plains</td>\n      <td>MO</td>\n      <td>12284</td>\n      <td>52</td>\n      <td>0</td>\n      <td>10</td>\n      <td>2</td>\n      <td>40</td>\n      <td>709</td>\n      <td>126</td>\n      <td>496</td>\n      <td>87</td>\n      <td>0</td>\n      <td>61.95</td>\n    </tr>\n    <tr>\n      <th>8101</th>\n      <td>250</td>\n      <td>Wheaton</td>\n      <td>MO</td>\n      <td>693</td>\n      <td>0</td>\n      <td>0</td>\n      <td>0</td>\n      <td>0</td>\n      <td>0</td>\n      <td>0</td>\n      <td>0</td>\n      <td>0</td>\n      <td>0</td>\n      <td>0</td>\n      <td>0.00</td>\n    </tr>\n    <tr>\n      <th>8102</th>\n      <td>251</td>\n      <td>Willard</td>\n      <td>MO</td>\n      <td>5616</td>\n      <td>7</td>\n      <td>0</td>\n      <td>1</td>\n      <td>0</td>\n      <td>6</td>\n      <td>74</td>\n      <td>14</td>\n      <td>55</td>\n      <td>5</td>\n      <td>0</td>\n      <td>14.42</td>\n    </tr>\n    <tr>\n      <th>8103</th>\n      <td>252</td>\n      <td>Willow Springs</td>\n      <td>MO</td>\n      <td>2103</td>\n      <td>13</td>\n      <td>0</td>\n      <td>4</td>\n      <td>0</td>\n      <td>9</td>\n      <td>71</td>\n      <td>22</td>\n      <td>41</td>\n      <td>8</td>\n      <td>1</td>\n      <td>39.94</td>\n    </tr>\n    <tr>\n      <th>8104</th>\n      <td>4</td>\n      <td>Washington</td>\n      <td>DC</td>\n      <td>705749</td>\n      <td>6896</td>\n      <td>166</td>\n      <td>342</td>\n      <td>2359</td>\n      <td>4029</td>\n      <td>29965</td>\n      <td>1840</td>\n      <td>25827</td>\n      <td>2298</td>\n      <td>0</td>\n      <td>52.23</td>\n    </tr>\n  </tbody>\n</table>\n<p>8103 rows × 15 columns</p>\n</div>"
     },
     "metadata": {},
     "execution_count": 16
    }
   ],
   "source": [
    "sum_frame_by_column(combined_csv, 'Crime Rate (per 1000 residents)', columns, 'Population' )"
   ]
  },
  {
   "cell_type": "code",
   "execution_count": 17,
   "metadata": {
    "colab": {
     "base_uri": "https://localhost:8080/"
    },
    "id": "hEyDBK1Wdeh4",
    "outputId": "048adb63-15b6-4166-d848-31f0912307d0"
   },
   "outputs": [
    {
     "output_type": "execute_result",
     "data": {
      "text/plain": [
       "(0.0, 25625.0)"
      ]
     },
     "metadata": {},
     "execution_count": 17
    }
   ],
   "source": [
    "min(combined_csv['Crime Rate (per 1000 residents)']), max(combined_csv['Crime Rate (per 1000 residents)'])"
   ]
  },
  {
   "cell_type": "code",
   "execution_count": 18,
   "metadata": {
    "colab": {
     "base_uri": "https://localhost:8080/",
     "height": 80
    },
    "id": "nrEYmvRwaiy0",
    "outputId": "0e1c7b46-046c-48aa-e4f1-8f85c6eb1795"
   },
   "outputs": [
    {
     "output_type": "execute_result",
     "data": {
      "text/plain": [
       "      Unnamed: 0      City State  Population  Violent crime  \\\n",
       "4098          71  Lakeside    CO           8              0   \n",
       "\n",
       "      Murder and nonnegligent manslaughter  Rape  Robbery  Aggravated assault  \\\n",
       "4098                                     0     0        0                   0   \n",
       "\n",
       "      Property crime  Burglary  Larceny- theft  Motor vehicle theft  Arson  \\\n",
       "4098             205         1             202                    2      0   \n",
       "\n",
       "      Crime Rate (per 1000 residents)  \n",
       "4098                          25625.0  "
      ],
      "text/html": "<div>\n<style scoped>\n    .dataframe tbody tr th:only-of-type {\n        vertical-align: middle;\n    }\n\n    .dataframe tbody tr th {\n        vertical-align: top;\n    }\n\n    .dataframe thead th {\n        text-align: right;\n    }\n</style>\n<table border=\"1\" class=\"dataframe\">\n  <thead>\n    <tr style=\"text-align: right;\">\n      <th></th>\n      <th>Unnamed: 0</th>\n      <th>City</th>\n      <th>State</th>\n      <th>Population</th>\n      <th>Violent crime</th>\n      <th>Murder and nonnegligent manslaughter</th>\n      <th>Rape</th>\n      <th>Robbery</th>\n      <th>Aggravated assault</th>\n      <th>Property crime</th>\n      <th>Burglary</th>\n      <th>Larceny- theft</th>\n      <th>Motor vehicle theft</th>\n      <th>Arson</th>\n      <th>Crime Rate (per 1000 residents)</th>\n    </tr>\n  </thead>\n  <tbody>\n    <tr>\n      <th>4098</th>\n      <td>71</td>\n      <td>Lakeside</td>\n      <td>CO</td>\n      <td>8</td>\n      <td>0</td>\n      <td>0</td>\n      <td>0</td>\n      <td>0</td>\n      <td>0</td>\n      <td>205</td>\n      <td>1</td>\n      <td>202</td>\n      <td>2</td>\n      <td>0</td>\n      <td>25625.0</td>\n    </tr>\n  </tbody>\n</table>\n</div>"
     },
     "metadata": {},
     "execution_count": 18
    }
   ],
   "source": [
    "# Just wanted to see the type of crime for such a high percentage\n",
    "combined_csv.loc[combined_csv['Crime Rate (per 1000 residents)']==25625.0]"
   ]
  },
  {
   "source": [
    "### Using pd.cut() to create a Crime Ratings Columns"
   ],
   "cell_type": "markdown",
   "metadata": {}
  },
  {
   "cell_type": "code",
   "execution_count": 19,
   "metadata": {},
   "outputs": [
    {
     "output_type": "execute_result",
     "data": {
      "text/plain": [
       "count     8103.000000\n",
       "mean        25.214522\n",
       "std        298.766689\n",
       "min          0.000000\n",
       "25%          7.945000\n",
       "50%         15.440000\n",
       "75%         26.920000\n",
       "max      25625.000000\n",
       "Name: Crime Rate (per 1000 residents), dtype: float64"
      ]
     },
     "metadata": {},
     "execution_count": 19
    }
   ],
   "source": [
    "combined_csv['Crime Rate (per 1000 residents)'].describe()"
   ]
  },
  {
   "cell_type": "code",
   "execution_count": 20,
   "metadata": {},
   "outputs": [],
   "source": [
    "combined_csv['Crime Rating'] = pd.qcut(combined_csv['Crime Rate (per 1000 residents)'], q=3, labels=['Low', 'Medium', 'High'])"
   ]
  },
  {
   "cell_type": "code",
   "execution_count": 21,
   "metadata": {},
   "outputs": [
    {
     "output_type": "execute_result",
     "data": {
      "text/plain": [
       "   Unnamed: 0         City State  Population  Violent crime  \\\n",
       "0           4      Acworth    GA       22921             16   \n",
       "1           5  Adairsville    GA        4953              7   \n",
       "2           6       Albany    GA       74989            790   \n",
       "3           7         Alma    GA        3438             10   \n",
       "4           8   Alpharetta    GA       67411             75   \n",
       "\n",
       "   Murder and nonnegligent manslaughter  Rape  Robbery  Aggravated assault  \\\n",
       "0                                     0     2        1                  13   \n",
       "1                                     0     2        0                   5   \n",
       "2                                    12    32      165                 581   \n",
       "3                                     0     0        2                   8   \n",
       "4                                     1     7       11                  56   \n",
       "\n",
       "   Property crime  Burglary  Larceny- theft  Motor vehicle theft  Arson  \\\n",
       "0             437        24             399                   14      0   \n",
       "1              83        15              59                    9      0   \n",
       "2            3452       729            2489                  234     17   \n",
       "3             111        36              69                    6      0   \n",
       "4             991        97             849                   45      0   \n",
       "\n",
       "   Crime Rate (per 1000 residents) Crime Rating  \n",
       "0                            19.76       Medium  \n",
       "1                            18.17       Medium  \n",
       "2                            56.57         High  \n",
       "3                            35.19         High  \n",
       "4                            15.81       Medium  "
      ],
      "text/html": "<div>\n<style scoped>\n    .dataframe tbody tr th:only-of-type {\n        vertical-align: middle;\n    }\n\n    .dataframe tbody tr th {\n        vertical-align: top;\n    }\n\n    .dataframe thead th {\n        text-align: right;\n    }\n</style>\n<table border=\"1\" class=\"dataframe\">\n  <thead>\n    <tr style=\"text-align: right;\">\n      <th></th>\n      <th>Unnamed: 0</th>\n      <th>City</th>\n      <th>State</th>\n      <th>Population</th>\n      <th>Violent crime</th>\n      <th>Murder and nonnegligent manslaughter</th>\n      <th>Rape</th>\n      <th>Robbery</th>\n      <th>Aggravated assault</th>\n      <th>Property crime</th>\n      <th>Burglary</th>\n      <th>Larceny- theft</th>\n      <th>Motor vehicle theft</th>\n      <th>Arson</th>\n      <th>Crime Rate (per 1000 residents)</th>\n      <th>Crime Rating</th>\n    </tr>\n  </thead>\n  <tbody>\n    <tr>\n      <th>0</th>\n      <td>4</td>\n      <td>Acworth</td>\n      <td>GA</td>\n      <td>22921</td>\n      <td>16</td>\n      <td>0</td>\n      <td>2</td>\n      <td>1</td>\n      <td>13</td>\n      <td>437</td>\n      <td>24</td>\n      <td>399</td>\n      <td>14</td>\n      <td>0</td>\n      <td>19.76</td>\n      <td>Medium</td>\n    </tr>\n    <tr>\n      <th>1</th>\n      <td>5</td>\n      <td>Adairsville</td>\n      <td>GA</td>\n      <td>4953</td>\n      <td>7</td>\n      <td>0</td>\n      <td>2</td>\n      <td>0</td>\n      <td>5</td>\n      <td>83</td>\n      <td>15</td>\n      <td>59</td>\n      <td>9</td>\n      <td>0</td>\n      <td>18.17</td>\n      <td>Medium</td>\n    </tr>\n    <tr>\n      <th>2</th>\n      <td>6</td>\n      <td>Albany</td>\n      <td>GA</td>\n      <td>74989</td>\n      <td>790</td>\n      <td>12</td>\n      <td>32</td>\n      <td>165</td>\n      <td>581</td>\n      <td>3452</td>\n      <td>729</td>\n      <td>2489</td>\n      <td>234</td>\n      <td>17</td>\n      <td>56.57</td>\n      <td>High</td>\n    </tr>\n    <tr>\n      <th>3</th>\n      <td>7</td>\n      <td>Alma</td>\n      <td>GA</td>\n      <td>3438</td>\n      <td>10</td>\n      <td>0</td>\n      <td>0</td>\n      <td>2</td>\n      <td>8</td>\n      <td>111</td>\n      <td>36</td>\n      <td>69</td>\n      <td>6</td>\n      <td>0</td>\n      <td>35.19</td>\n      <td>High</td>\n    </tr>\n    <tr>\n      <th>4</th>\n      <td>8</td>\n      <td>Alpharetta</td>\n      <td>GA</td>\n      <td>67411</td>\n      <td>75</td>\n      <td>1</td>\n      <td>7</td>\n      <td>11</td>\n      <td>56</td>\n      <td>991</td>\n      <td>97</td>\n      <td>849</td>\n      <td>45</td>\n      <td>0</td>\n      <td>15.81</td>\n      <td>Medium</td>\n    </tr>\n  </tbody>\n</table>\n</div>"
     },
     "metadata": {},
     "execution_count": 21
    }
   ],
   "source": [
    "combined_csv.head()"
   ]
  },
  {
   "cell_type": "code",
   "execution_count": 22,
   "metadata": {
    "id": "zFFWTBCLdu6K"
   },
   "outputs": [],
   "source": [
    "combined_csv.to_csv(\"../fbi_crime_uscities.csv\", index=False)"
   ]
  },
  {
   "cell_type": "code",
   "execution_count": 23,
   "metadata": {
    "colab": {
     "base_uri": "https://localhost:8080/",
     "height": 206
    },
    "id": "cVLHy2DOpnso",
    "outputId": "68bb1b6d-3c24-43a6-80c3-74477ad53bc3"
   },
   "outputs": [
    {
     "output_type": "execute_result",
     "data": {
      "text/plain": [
       "   Unnamed: 0         City State  Population  Violent crime  \\\n",
       "0           4      Acworth    GA       22921             16   \n",
       "1           5  Adairsville    GA        4953              7   \n",
       "2           6       Albany    GA       74989            790   \n",
       "3           7         Alma    GA        3438             10   \n",
       "4           8   Alpharetta    GA       67411             75   \n",
       "\n",
       "   Murder and nonnegligent manslaughter  Rape  Robbery  Aggravated assault  \\\n",
       "0                                     0     2        1                  13   \n",
       "1                                     0     2        0                   5   \n",
       "2                                    12    32      165                 581   \n",
       "3                                     0     0        2                   8   \n",
       "4                                     1     7       11                  56   \n",
       "\n",
       "   Property crime  Burglary  Larceny- theft  Motor vehicle theft  Arson  \\\n",
       "0             437        24             399                   14      0   \n",
       "1              83        15              59                    9      0   \n",
       "2            3452       729            2489                  234     17   \n",
       "3             111        36              69                    6      0   \n",
       "4             991        97             849                   45      0   \n",
       "\n",
       "   Crime Rate (per 1000 residents) Crime Rating  \n",
       "0                            19.76       Medium  \n",
       "1                            18.17       Medium  \n",
       "2                            56.57         High  \n",
       "3                            35.19         High  \n",
       "4                            15.81       Medium  "
      ],
      "text/html": "<div>\n<style scoped>\n    .dataframe tbody tr th:only-of-type {\n        vertical-align: middle;\n    }\n\n    .dataframe tbody tr th {\n        vertical-align: top;\n    }\n\n    .dataframe thead th {\n        text-align: right;\n    }\n</style>\n<table border=\"1\" class=\"dataframe\">\n  <thead>\n    <tr style=\"text-align: right;\">\n      <th></th>\n      <th>Unnamed: 0</th>\n      <th>City</th>\n      <th>State</th>\n      <th>Population</th>\n      <th>Violent crime</th>\n      <th>Murder and nonnegligent manslaughter</th>\n      <th>Rape</th>\n      <th>Robbery</th>\n      <th>Aggravated assault</th>\n      <th>Property crime</th>\n      <th>Burglary</th>\n      <th>Larceny- theft</th>\n      <th>Motor vehicle theft</th>\n      <th>Arson</th>\n      <th>Crime Rate (per 1000 residents)</th>\n      <th>Crime Rating</th>\n    </tr>\n  </thead>\n  <tbody>\n    <tr>\n      <th>0</th>\n      <td>4</td>\n      <td>Acworth</td>\n      <td>GA</td>\n      <td>22921</td>\n      <td>16</td>\n      <td>0</td>\n      <td>2</td>\n      <td>1</td>\n      <td>13</td>\n      <td>437</td>\n      <td>24</td>\n      <td>399</td>\n      <td>14</td>\n      <td>0</td>\n      <td>19.76</td>\n      <td>Medium</td>\n    </tr>\n    <tr>\n      <th>1</th>\n      <td>5</td>\n      <td>Adairsville</td>\n      <td>GA</td>\n      <td>4953</td>\n      <td>7</td>\n      <td>0</td>\n      <td>2</td>\n      <td>0</td>\n      <td>5</td>\n      <td>83</td>\n      <td>15</td>\n      <td>59</td>\n      <td>9</td>\n      <td>0</td>\n      <td>18.17</td>\n      <td>Medium</td>\n    </tr>\n    <tr>\n      <th>2</th>\n      <td>6</td>\n      <td>Albany</td>\n      <td>GA</td>\n      <td>74989</td>\n      <td>790</td>\n      <td>12</td>\n      <td>32</td>\n      <td>165</td>\n      <td>581</td>\n      <td>3452</td>\n      <td>729</td>\n      <td>2489</td>\n      <td>234</td>\n      <td>17</td>\n      <td>56.57</td>\n      <td>High</td>\n    </tr>\n    <tr>\n      <th>3</th>\n      <td>7</td>\n      <td>Alma</td>\n      <td>GA</td>\n      <td>3438</td>\n      <td>10</td>\n      <td>0</td>\n      <td>0</td>\n      <td>2</td>\n      <td>8</td>\n      <td>111</td>\n      <td>36</td>\n      <td>69</td>\n      <td>6</td>\n      <td>0</td>\n      <td>35.19</td>\n      <td>High</td>\n    </tr>\n    <tr>\n      <th>4</th>\n      <td>8</td>\n      <td>Alpharetta</td>\n      <td>GA</td>\n      <td>67411</td>\n      <td>75</td>\n      <td>1</td>\n      <td>7</td>\n      <td>11</td>\n      <td>56</td>\n      <td>991</td>\n      <td>97</td>\n      <td>849</td>\n      <td>45</td>\n      <td>0</td>\n      <td>15.81</td>\n      <td>Medium</td>\n    </tr>\n  </tbody>\n</table>\n</div>"
     },
     "metadata": {},
     "execution_count": 23
    }
   ],
   "source": [
    "fbi_crime_filepath = os.path.join(path, \"../fbi_crime_uscities.csv\")\n",
    "fbi_crime_uscities = pd.read_csv(fbi_crime_filepath)\n",
    "fbi_crime_uscities.head()"
   ]
  },
  {
   "cell_type": "code",
   "execution_count": 24,
   "metadata": {
    "colab": {
     "base_uri": "https://localhost:8080/",
     "height": 206
    },
    "id": "9LMuxdEPahe2",
    "outputId": "1e36e672-e28c-4caf-ffc3-92a9462af922"
   },
   "outputs": [
    {
     "output_type": "execute_result",
     "data": {
      "text/plain": [
       "      Unnamed: 0                 City State  Population  Violent crime  \\\n",
       "253          148          Lake Delton    WI        3005             24   \n",
       "421          316       West Milwaukee    WI        4107             30   \n",
       "743           58           Ocean City    MD        6905             91   \n",
       "1062          30     Balcones Heights    TX        3366             38   \n",
       "1261         229               Humble    TX       16157            189   \n",
       "1493         461   South Padre Island    TX        2805             44   \n",
       "1505         473        Sunset Valley    TX         683              5   \n",
       "1718         152        Mangonia Park    FL        2033             33   \n",
       "1723         157               Medley    FL         896             11   \n",
       "2091         236      Mackinac Island    MI         468              2   \n",
       "2300          20           Berry Hill    TN         515             15   \n",
       "2690         113            Newington    NH         810              5   \n",
       "3010          93              Fairfax    OH        1710              5   \n",
       "3116         199           New Boston    OH        2093             18   \n",
       "3411          11     Bald Head Island    NC         182              0   \n",
       "3418          18               Biscoe    NC        1724              6   \n",
       "3483          83         Indian Beach    NC         119              0   \n",
       "3527         127            Pineville    NC        9088             68   \n",
       "3570         170           Whiteville    NC        5338             78   \n",
       "4037          11           Black Hawk    CO         128              8   \n",
       "4080          54             Glendale    CO        5289             50   \n",
       "4097          71             Lakeside    CO           8              0   \n",
       "4260           6           Alexandria    LA       46630            732   \n",
       "4313          59            Opelousas    LA       16049            394   \n",
       "5140          40           Darlington    SC        5886             87   \n",
       "5164          64           Hartsville    SC        7524            108   \n",
       "5185          85              Manning    SC        3921             58   \n",
       "5193          93         Myrtle Beach    SC       34860            415   \n",
       "5449          87                Colma    CA        1512             28   \n",
       "5492         130           Emeryville    CA       12380            166   \n",
       "5552         190             Industry    CA         201             72   \n",
       "5556         194            Irwindale    CA        1469             26   \n",
       "5716         354            Sand City    CA         407              9   \n",
       "5793         431               Vernon    CA         112             27   \n",
       "5928          32         Bedford Park    IL         602              9   \n",
       "6128         232             Hodgkins    IL        1883              7   \n",
       "6265         369       Olympia Fields    IL        4821             13   \n",
       "6332         436             Rosemont    IL        4094             36   \n",
       "6345         449               Sauget    IL         164              3   \n",
       "6416         520            West City    IL         640              1   \n",
       "6449          17               Avalon    NJ        1236              5   \n",
       "6456          24          Beach Haven    NJ        1191              0   \n",
       "6855         423         Stone Harbor    NJ         804              2   \n",
       "6863         431            Teterboro    NJ          68              0   \n",
       "7452         240  Ocean Beach Village    NY          83              0   \n",
       "7834         135              Tukwila    WA       20439            158   \n",
       "7878          29              Branson    MO       11688             73   \n",
       "7879          30         Branson West    MO         449              3   \n",
       "\n",
       "      Murder and nonnegligent manslaughter  Rape  Robbery  Aggravated assault  \\\n",
       "253                                      0     4        3                  17   \n",
       "421                                      1     0       11                  18   \n",
       "743                                      0     5       18                  68   \n",
       "1062                                     1     0        8                  29   \n",
       "1261                                     1    34       58                  96   \n",
       "1493                                     0    20        6                  18   \n",
       "1505                                     0     0        2                   3   \n",
       "1718                                     0     3       11                  19   \n",
       "1723                                     0     0        3                   8   \n",
       "2091                                     0     0        0                   2   \n",
       "2300                                     0     0        7                   8   \n",
       "2690                                     0     0        1                   4   \n",
       "3010                                     0     0        4                   1   \n",
       "3116                                     0     0        6                  12   \n",
       "3411                                     0     0        0                   0   \n",
       "3418                                     0     0        2                   4   \n",
       "3483                                     0     0        0                   0   \n",
       "3527                                     1     4       21                  42   \n",
       "3570                                     2     2       10                  64   \n",
       "4037                                     0     0        0                   8   \n",
       "4080                                     1     5       14                  30   \n",
       "4097                                     0     0        0                   0   \n",
       "4260                                     9    16      132                 575   \n",
       "4313                                     6    25       48                 315   \n",
       "5140                                     1     7       12                  67   \n",
       "5164                                     0     6       15                  87   \n",
       "5185                                     1     2        6                  49   \n",
       "5193                                     3    52       98                 262   \n",
       "5449                                     0     0       20                   8   \n",
       "5492                                     0    12      114                  40   \n",
       "5552                                     0     1       41                  30   \n",
       "5556                                     0     1        8                  17   \n",
       "5716                                     0     0        2                   7   \n",
       "5793                                     0     1       12                  14   \n",
       "5928                                     0     3        0                   6   \n",
       "6128                                     0     1        0                   6   \n",
       "6265                                     0     4        7                   2   \n",
       "6332                                     0    16        6                  14   \n",
       "6345                                     0     0        2                   1   \n",
       "6416                                     0     0        0                   1   \n",
       "6449                                     0     0        0                   5   \n",
       "6456                                     0     0        0                   0   \n",
       "6855                                     0     0        0                   2   \n",
       "6863                                     0     0        0                   0   \n",
       "7452                                     0     0        0                   0   \n",
       "7834                                     1    26       74                  57   \n",
       "7878                                     0    10       16                  47   \n",
       "7879                                     0     1        0                   2   \n",
       "\n",
       "      Property crime  Burglary  Larceny- theft  Motor vehicle theft  Arson  \\\n",
       "253              458        23             417                   18      0   \n",
       "421             1467        31            1411                   25      0   \n",
       "743              720        94             615                   11      0   \n",
       "1062             304        23             244                   37      0   \n",
       "1261            1681       110            1394                  177      1   \n",
       "1493             365        18             318                   29      0   \n",
       "1505             135         4             126                    5      0   \n",
       "1718             177        10             160                    7      1   \n",
       "1723             179        28             130                   21      0   \n",
       "2091              94         0              93                    1      0   \n",
       "2300             120        19              97                    4      0   \n",
       "2690             113         2             110                    1      0   \n",
       "3010             358         2             355                    1      0   \n",
       "3116             302        19             277                    6      1   \n",
       "3411              24         4              19                    1      0   \n",
       "3418             186         9             175                    2      0   \n",
       "3483              21         2              19                    0      0   \n",
       "3527            1131       115             956                   60      3   \n",
       "3570             509        88             402                   19      0   \n",
       "4037             211         4             200                    7      0   \n",
       "4080             936        22             833                   81      1   \n",
       "4097             205         1             202                    2      0   \n",
       "4260            4180       892            3056                  232      0   \n",
       "4313            1287       405             831                   51      2   \n",
       "5140             505        73             416                   16      2   \n",
       "5164             668       119             523                   26      2   \n",
       "5185             341        45             292                    4      1   \n",
       "5193            3916       304            3384                  228      6   \n",
       "5449             325        36             263                   26      2   \n",
       "5492            2623        95            2415                  113      3   \n",
       "5552            1180       156             899                  125      7   \n",
       "5556             240        73             139                   28      3   \n",
       "5716              77         4              70                    3      0   \n",
       "5793             485       133             272                   80      5   \n",
       "5928             388         2             366                   20      0   \n",
       "6128             257         2             253                    2      1   \n",
       "6265             490        11             471                    8      0   \n",
       "6332             504        11             488                    5      0   \n",
       "6345              66        12              31                   23      0   \n",
       "6416              78         4              70                    4      0   \n",
       "6449             157        12             145                    0      0   \n",
       "6456             141         5             136                    0      0   \n",
       "6855             106        14              91                    1      1   \n",
       "6863             102         0              99                    3      0   \n",
       "7452               9         0               9                    0      0   \n",
       "7834            3350       189            2681                  480      2   \n",
       "7878            1173       118             993                   62      7   \n",
       "7879             102         1             101                    0      0   \n",
       "\n",
       "      Crime Rate (per 1000 residents) Crime Rating  \n",
       "253                            160.40         High  \n",
       "421                            364.50         High  \n",
       "743                            117.45         High  \n",
       "1062                           101.60         High  \n",
       "1261                           115.74         High  \n",
       "1493                           145.81         High  \n",
       "1505                           204.98         High  \n",
       "1718                           103.30         High  \n",
       "1723                           212.05         High  \n",
       "2091                           205.13         High  \n",
       "2300                           262.14         High  \n",
       "2690                           145.68         High  \n",
       "3010                           212.28         High  \n",
       "3116                           152.89         High  \n",
       "3411                           131.87         High  \n",
       "3418                           111.37         High  \n",
       "3483                           176.47         High  \n",
       "3527                           131.93         High  \n",
       "3570                           109.97         High  \n",
       "4037                          1710.94         High  \n",
       "4080                           186.42         High  \n",
       "4097                         25625.00         High  \n",
       "4260                           105.34         High  \n",
       "4313                           104.74         High  \n",
       "5140                           100.58         High  \n",
       "5164                           103.14         High  \n",
       "5185                           101.76         High  \n",
       "5193                           124.24         High  \n",
       "5449                           233.47         High  \n",
       "5492                           225.28         High  \n",
       "5552                          6228.86         High  \n",
       "5556                           181.08         High  \n",
       "5716                           211.30         High  \n",
       "5793                          4571.43         High  \n",
       "5928                           659.47         High  \n",
       "6128                           140.20         High  \n",
       "6265                           104.34         High  \n",
       "6332                           131.90         High  \n",
       "6345                           420.73         High  \n",
       "6416                           123.44         High  \n",
       "6449                           131.07         High  \n",
       "6456                           118.39         High  \n",
       "6855                           134.33         High  \n",
       "6863                          1500.00         High  \n",
       "7452                           108.43         High  \n",
       "7834                           171.63         High  \n",
       "7878                           106.61         High  \n",
       "7879                           233.85         High  "
      ],
      "text/html": "<div>\n<style scoped>\n    .dataframe tbody tr th:only-of-type {\n        vertical-align: middle;\n    }\n\n    .dataframe tbody tr th {\n        vertical-align: top;\n    }\n\n    .dataframe thead th {\n        text-align: right;\n    }\n</style>\n<table border=\"1\" class=\"dataframe\">\n  <thead>\n    <tr style=\"text-align: right;\">\n      <th></th>\n      <th>Unnamed: 0</th>\n      <th>City</th>\n      <th>State</th>\n      <th>Population</th>\n      <th>Violent crime</th>\n      <th>Murder and nonnegligent manslaughter</th>\n      <th>Rape</th>\n      <th>Robbery</th>\n      <th>Aggravated assault</th>\n      <th>Property crime</th>\n      <th>Burglary</th>\n      <th>Larceny- theft</th>\n      <th>Motor vehicle theft</th>\n      <th>Arson</th>\n      <th>Crime Rate (per 1000 residents)</th>\n      <th>Crime Rating</th>\n    </tr>\n  </thead>\n  <tbody>\n    <tr>\n      <th>253</th>\n      <td>148</td>\n      <td>Lake Delton</td>\n      <td>WI</td>\n      <td>3005</td>\n      <td>24</td>\n      <td>0</td>\n      <td>4</td>\n      <td>3</td>\n      <td>17</td>\n      <td>458</td>\n      <td>23</td>\n      <td>417</td>\n      <td>18</td>\n      <td>0</td>\n      <td>160.40</td>\n      <td>High</td>\n    </tr>\n    <tr>\n      <th>421</th>\n      <td>316</td>\n      <td>West Milwaukee</td>\n      <td>WI</td>\n      <td>4107</td>\n      <td>30</td>\n      <td>1</td>\n      <td>0</td>\n      <td>11</td>\n      <td>18</td>\n      <td>1467</td>\n      <td>31</td>\n      <td>1411</td>\n      <td>25</td>\n      <td>0</td>\n      <td>364.50</td>\n      <td>High</td>\n    </tr>\n    <tr>\n      <th>743</th>\n      <td>58</td>\n      <td>Ocean City</td>\n      <td>MD</td>\n      <td>6905</td>\n      <td>91</td>\n      <td>0</td>\n      <td>5</td>\n      <td>18</td>\n      <td>68</td>\n      <td>720</td>\n      <td>94</td>\n      <td>615</td>\n      <td>11</td>\n      <td>0</td>\n      <td>117.45</td>\n      <td>High</td>\n    </tr>\n    <tr>\n      <th>1062</th>\n      <td>30</td>\n      <td>Balcones Heights</td>\n      <td>TX</td>\n      <td>3366</td>\n      <td>38</td>\n      <td>1</td>\n      <td>0</td>\n      <td>8</td>\n      <td>29</td>\n      <td>304</td>\n      <td>23</td>\n      <td>244</td>\n      <td>37</td>\n      <td>0</td>\n      <td>101.60</td>\n      <td>High</td>\n    </tr>\n    <tr>\n      <th>1261</th>\n      <td>229</td>\n      <td>Humble</td>\n      <td>TX</td>\n      <td>16157</td>\n      <td>189</td>\n      <td>1</td>\n      <td>34</td>\n      <td>58</td>\n      <td>96</td>\n      <td>1681</td>\n      <td>110</td>\n      <td>1394</td>\n      <td>177</td>\n      <td>1</td>\n      <td>115.74</td>\n      <td>High</td>\n    </tr>\n    <tr>\n      <th>1493</th>\n      <td>461</td>\n      <td>South Padre Island</td>\n      <td>TX</td>\n      <td>2805</td>\n      <td>44</td>\n      <td>0</td>\n      <td>20</td>\n      <td>6</td>\n      <td>18</td>\n      <td>365</td>\n      <td>18</td>\n      <td>318</td>\n      <td>29</td>\n      <td>0</td>\n      <td>145.81</td>\n      <td>High</td>\n    </tr>\n    <tr>\n      <th>1505</th>\n      <td>473</td>\n      <td>Sunset Valley</td>\n      <td>TX</td>\n      <td>683</td>\n      <td>5</td>\n      <td>0</td>\n      <td>0</td>\n      <td>2</td>\n      <td>3</td>\n      <td>135</td>\n      <td>4</td>\n      <td>126</td>\n      <td>5</td>\n      <td>0</td>\n      <td>204.98</td>\n      <td>High</td>\n    </tr>\n    <tr>\n      <th>1718</th>\n      <td>152</td>\n      <td>Mangonia Park</td>\n      <td>FL</td>\n      <td>2033</td>\n      <td>33</td>\n      <td>0</td>\n      <td>3</td>\n      <td>11</td>\n      <td>19</td>\n      <td>177</td>\n      <td>10</td>\n      <td>160</td>\n      <td>7</td>\n      <td>1</td>\n      <td>103.30</td>\n      <td>High</td>\n    </tr>\n    <tr>\n      <th>1723</th>\n      <td>157</td>\n      <td>Medley</td>\n      <td>FL</td>\n      <td>896</td>\n      <td>11</td>\n      <td>0</td>\n      <td>0</td>\n      <td>3</td>\n      <td>8</td>\n      <td>179</td>\n      <td>28</td>\n      <td>130</td>\n      <td>21</td>\n      <td>0</td>\n      <td>212.05</td>\n      <td>High</td>\n    </tr>\n    <tr>\n      <th>2091</th>\n      <td>236</td>\n      <td>Mackinac Island</td>\n      <td>MI</td>\n      <td>468</td>\n      <td>2</td>\n      <td>0</td>\n      <td>0</td>\n      <td>0</td>\n      <td>2</td>\n      <td>94</td>\n      <td>0</td>\n      <td>93</td>\n      <td>1</td>\n      <td>0</td>\n      <td>205.13</td>\n      <td>High</td>\n    </tr>\n    <tr>\n      <th>2300</th>\n      <td>20</td>\n      <td>Berry Hill</td>\n      <td>TN</td>\n      <td>515</td>\n      <td>15</td>\n      <td>0</td>\n      <td>0</td>\n      <td>7</td>\n      <td>8</td>\n      <td>120</td>\n      <td>19</td>\n      <td>97</td>\n      <td>4</td>\n      <td>0</td>\n      <td>262.14</td>\n      <td>High</td>\n    </tr>\n    <tr>\n      <th>2690</th>\n      <td>113</td>\n      <td>Newington</td>\n      <td>NH</td>\n      <td>810</td>\n      <td>5</td>\n      <td>0</td>\n      <td>0</td>\n      <td>1</td>\n      <td>4</td>\n      <td>113</td>\n      <td>2</td>\n      <td>110</td>\n      <td>1</td>\n      <td>0</td>\n      <td>145.68</td>\n      <td>High</td>\n    </tr>\n    <tr>\n      <th>3010</th>\n      <td>93</td>\n      <td>Fairfax</td>\n      <td>OH</td>\n      <td>1710</td>\n      <td>5</td>\n      <td>0</td>\n      <td>0</td>\n      <td>4</td>\n      <td>1</td>\n      <td>358</td>\n      <td>2</td>\n      <td>355</td>\n      <td>1</td>\n      <td>0</td>\n      <td>212.28</td>\n      <td>High</td>\n    </tr>\n    <tr>\n      <th>3116</th>\n      <td>199</td>\n      <td>New Boston</td>\n      <td>OH</td>\n      <td>2093</td>\n      <td>18</td>\n      <td>0</td>\n      <td>0</td>\n      <td>6</td>\n      <td>12</td>\n      <td>302</td>\n      <td>19</td>\n      <td>277</td>\n      <td>6</td>\n      <td>1</td>\n      <td>152.89</td>\n      <td>High</td>\n    </tr>\n    <tr>\n      <th>3411</th>\n      <td>11</td>\n      <td>Bald Head Island</td>\n      <td>NC</td>\n      <td>182</td>\n      <td>0</td>\n      <td>0</td>\n      <td>0</td>\n      <td>0</td>\n      <td>0</td>\n      <td>24</td>\n      <td>4</td>\n      <td>19</td>\n      <td>1</td>\n      <td>0</td>\n      <td>131.87</td>\n      <td>High</td>\n    </tr>\n    <tr>\n      <th>3418</th>\n      <td>18</td>\n      <td>Biscoe</td>\n      <td>NC</td>\n      <td>1724</td>\n      <td>6</td>\n      <td>0</td>\n      <td>0</td>\n      <td>2</td>\n      <td>4</td>\n      <td>186</td>\n      <td>9</td>\n      <td>175</td>\n      <td>2</td>\n      <td>0</td>\n      <td>111.37</td>\n      <td>High</td>\n    </tr>\n    <tr>\n      <th>3483</th>\n      <td>83</td>\n      <td>Indian Beach</td>\n      <td>NC</td>\n      <td>119</td>\n      <td>0</td>\n      <td>0</td>\n      <td>0</td>\n      <td>0</td>\n      <td>0</td>\n      <td>21</td>\n      <td>2</td>\n      <td>19</td>\n      <td>0</td>\n      <td>0</td>\n      <td>176.47</td>\n      <td>High</td>\n    </tr>\n    <tr>\n      <th>3527</th>\n      <td>127</td>\n      <td>Pineville</td>\n      <td>NC</td>\n      <td>9088</td>\n      <td>68</td>\n      <td>1</td>\n      <td>4</td>\n      <td>21</td>\n      <td>42</td>\n      <td>1131</td>\n      <td>115</td>\n      <td>956</td>\n      <td>60</td>\n      <td>3</td>\n      <td>131.93</td>\n      <td>High</td>\n    </tr>\n    <tr>\n      <th>3570</th>\n      <td>170</td>\n      <td>Whiteville</td>\n      <td>NC</td>\n      <td>5338</td>\n      <td>78</td>\n      <td>2</td>\n      <td>2</td>\n      <td>10</td>\n      <td>64</td>\n      <td>509</td>\n      <td>88</td>\n      <td>402</td>\n      <td>19</td>\n      <td>0</td>\n      <td>109.97</td>\n      <td>High</td>\n    </tr>\n    <tr>\n      <th>4037</th>\n      <td>11</td>\n      <td>Black Hawk</td>\n      <td>CO</td>\n      <td>128</td>\n      <td>8</td>\n      <td>0</td>\n      <td>0</td>\n      <td>0</td>\n      <td>8</td>\n      <td>211</td>\n      <td>4</td>\n      <td>200</td>\n      <td>7</td>\n      <td>0</td>\n      <td>1710.94</td>\n      <td>High</td>\n    </tr>\n    <tr>\n      <th>4080</th>\n      <td>54</td>\n      <td>Glendale</td>\n      <td>CO</td>\n      <td>5289</td>\n      <td>50</td>\n      <td>1</td>\n      <td>5</td>\n      <td>14</td>\n      <td>30</td>\n      <td>936</td>\n      <td>22</td>\n      <td>833</td>\n      <td>81</td>\n      <td>1</td>\n      <td>186.42</td>\n      <td>High</td>\n    </tr>\n    <tr>\n      <th>4097</th>\n      <td>71</td>\n      <td>Lakeside</td>\n      <td>CO</td>\n      <td>8</td>\n      <td>0</td>\n      <td>0</td>\n      <td>0</td>\n      <td>0</td>\n      <td>0</td>\n      <td>205</td>\n      <td>1</td>\n      <td>202</td>\n      <td>2</td>\n      <td>0</td>\n      <td>25625.00</td>\n      <td>High</td>\n    </tr>\n    <tr>\n      <th>4260</th>\n      <td>6</td>\n      <td>Alexandria</td>\n      <td>LA</td>\n      <td>46630</td>\n      <td>732</td>\n      <td>9</td>\n      <td>16</td>\n      <td>132</td>\n      <td>575</td>\n      <td>4180</td>\n      <td>892</td>\n      <td>3056</td>\n      <td>232</td>\n      <td>0</td>\n      <td>105.34</td>\n      <td>High</td>\n    </tr>\n    <tr>\n      <th>4313</th>\n      <td>59</td>\n      <td>Opelousas</td>\n      <td>LA</td>\n      <td>16049</td>\n      <td>394</td>\n      <td>6</td>\n      <td>25</td>\n      <td>48</td>\n      <td>315</td>\n      <td>1287</td>\n      <td>405</td>\n      <td>831</td>\n      <td>51</td>\n      <td>2</td>\n      <td>104.74</td>\n      <td>High</td>\n    </tr>\n    <tr>\n      <th>5140</th>\n      <td>40</td>\n      <td>Darlington</td>\n      <td>SC</td>\n      <td>5886</td>\n      <td>87</td>\n      <td>1</td>\n      <td>7</td>\n      <td>12</td>\n      <td>67</td>\n      <td>505</td>\n      <td>73</td>\n      <td>416</td>\n      <td>16</td>\n      <td>2</td>\n      <td>100.58</td>\n      <td>High</td>\n    </tr>\n    <tr>\n      <th>5164</th>\n      <td>64</td>\n      <td>Hartsville</td>\n      <td>SC</td>\n      <td>7524</td>\n      <td>108</td>\n      <td>0</td>\n      <td>6</td>\n      <td>15</td>\n      <td>87</td>\n      <td>668</td>\n      <td>119</td>\n      <td>523</td>\n      <td>26</td>\n      <td>2</td>\n      <td>103.14</td>\n      <td>High</td>\n    </tr>\n    <tr>\n      <th>5185</th>\n      <td>85</td>\n      <td>Manning</td>\n      <td>SC</td>\n      <td>3921</td>\n      <td>58</td>\n      <td>1</td>\n      <td>2</td>\n      <td>6</td>\n      <td>49</td>\n      <td>341</td>\n      <td>45</td>\n      <td>292</td>\n      <td>4</td>\n      <td>1</td>\n      <td>101.76</td>\n      <td>High</td>\n    </tr>\n    <tr>\n      <th>5193</th>\n      <td>93</td>\n      <td>Myrtle Beach</td>\n      <td>SC</td>\n      <td>34860</td>\n      <td>415</td>\n      <td>3</td>\n      <td>52</td>\n      <td>98</td>\n      <td>262</td>\n      <td>3916</td>\n      <td>304</td>\n      <td>3384</td>\n      <td>228</td>\n      <td>6</td>\n      <td>124.24</td>\n      <td>High</td>\n    </tr>\n    <tr>\n      <th>5449</th>\n      <td>87</td>\n      <td>Colma</td>\n      <td>CA</td>\n      <td>1512</td>\n      <td>28</td>\n      <td>0</td>\n      <td>0</td>\n      <td>20</td>\n      <td>8</td>\n      <td>325</td>\n      <td>36</td>\n      <td>263</td>\n      <td>26</td>\n      <td>2</td>\n      <td>233.47</td>\n      <td>High</td>\n    </tr>\n    <tr>\n      <th>5492</th>\n      <td>130</td>\n      <td>Emeryville</td>\n      <td>CA</td>\n      <td>12380</td>\n      <td>166</td>\n      <td>0</td>\n      <td>12</td>\n      <td>114</td>\n      <td>40</td>\n      <td>2623</td>\n      <td>95</td>\n      <td>2415</td>\n      <td>113</td>\n      <td>3</td>\n      <td>225.28</td>\n      <td>High</td>\n    </tr>\n    <tr>\n      <th>5552</th>\n      <td>190</td>\n      <td>Industry</td>\n      <td>CA</td>\n      <td>201</td>\n      <td>72</td>\n      <td>0</td>\n      <td>1</td>\n      <td>41</td>\n      <td>30</td>\n      <td>1180</td>\n      <td>156</td>\n      <td>899</td>\n      <td>125</td>\n      <td>7</td>\n      <td>6228.86</td>\n      <td>High</td>\n    </tr>\n    <tr>\n      <th>5556</th>\n      <td>194</td>\n      <td>Irwindale</td>\n      <td>CA</td>\n      <td>1469</td>\n      <td>26</td>\n      <td>0</td>\n      <td>1</td>\n      <td>8</td>\n      <td>17</td>\n      <td>240</td>\n      <td>73</td>\n      <td>139</td>\n      <td>28</td>\n      <td>3</td>\n      <td>181.08</td>\n      <td>High</td>\n    </tr>\n    <tr>\n      <th>5716</th>\n      <td>354</td>\n      <td>Sand City</td>\n      <td>CA</td>\n      <td>407</td>\n      <td>9</td>\n      <td>0</td>\n      <td>0</td>\n      <td>2</td>\n      <td>7</td>\n      <td>77</td>\n      <td>4</td>\n      <td>70</td>\n      <td>3</td>\n      <td>0</td>\n      <td>211.30</td>\n      <td>High</td>\n    </tr>\n    <tr>\n      <th>5793</th>\n      <td>431</td>\n      <td>Vernon</td>\n      <td>CA</td>\n      <td>112</td>\n      <td>27</td>\n      <td>0</td>\n      <td>1</td>\n      <td>12</td>\n      <td>14</td>\n      <td>485</td>\n      <td>133</td>\n      <td>272</td>\n      <td>80</td>\n      <td>5</td>\n      <td>4571.43</td>\n      <td>High</td>\n    </tr>\n    <tr>\n      <th>5928</th>\n      <td>32</td>\n      <td>Bedford Park</td>\n      <td>IL</td>\n      <td>602</td>\n      <td>9</td>\n      <td>0</td>\n      <td>3</td>\n      <td>0</td>\n      <td>6</td>\n      <td>388</td>\n      <td>2</td>\n      <td>366</td>\n      <td>20</td>\n      <td>0</td>\n      <td>659.47</td>\n      <td>High</td>\n    </tr>\n    <tr>\n      <th>6128</th>\n      <td>232</td>\n      <td>Hodgkins</td>\n      <td>IL</td>\n      <td>1883</td>\n      <td>7</td>\n      <td>0</td>\n      <td>1</td>\n      <td>0</td>\n      <td>6</td>\n      <td>257</td>\n      <td>2</td>\n      <td>253</td>\n      <td>2</td>\n      <td>1</td>\n      <td>140.20</td>\n      <td>High</td>\n    </tr>\n    <tr>\n      <th>6265</th>\n      <td>369</td>\n      <td>Olympia Fields</td>\n      <td>IL</td>\n      <td>4821</td>\n      <td>13</td>\n      <td>0</td>\n      <td>4</td>\n      <td>7</td>\n      <td>2</td>\n      <td>490</td>\n      <td>11</td>\n      <td>471</td>\n      <td>8</td>\n      <td>0</td>\n      <td>104.34</td>\n      <td>High</td>\n    </tr>\n    <tr>\n      <th>6332</th>\n      <td>436</td>\n      <td>Rosemont</td>\n      <td>IL</td>\n      <td>4094</td>\n      <td>36</td>\n      <td>0</td>\n      <td>16</td>\n      <td>6</td>\n      <td>14</td>\n      <td>504</td>\n      <td>11</td>\n      <td>488</td>\n      <td>5</td>\n      <td>0</td>\n      <td>131.90</td>\n      <td>High</td>\n    </tr>\n    <tr>\n      <th>6345</th>\n      <td>449</td>\n      <td>Sauget</td>\n      <td>IL</td>\n      <td>164</td>\n      <td>3</td>\n      <td>0</td>\n      <td>0</td>\n      <td>2</td>\n      <td>1</td>\n      <td>66</td>\n      <td>12</td>\n      <td>31</td>\n      <td>23</td>\n      <td>0</td>\n      <td>420.73</td>\n      <td>High</td>\n    </tr>\n    <tr>\n      <th>6416</th>\n      <td>520</td>\n      <td>West City</td>\n      <td>IL</td>\n      <td>640</td>\n      <td>1</td>\n      <td>0</td>\n      <td>0</td>\n      <td>0</td>\n      <td>1</td>\n      <td>78</td>\n      <td>4</td>\n      <td>70</td>\n      <td>4</td>\n      <td>0</td>\n      <td>123.44</td>\n      <td>High</td>\n    </tr>\n    <tr>\n      <th>6449</th>\n      <td>17</td>\n      <td>Avalon</td>\n      <td>NJ</td>\n      <td>1236</td>\n      <td>5</td>\n      <td>0</td>\n      <td>0</td>\n      <td>0</td>\n      <td>5</td>\n      <td>157</td>\n      <td>12</td>\n      <td>145</td>\n      <td>0</td>\n      <td>0</td>\n      <td>131.07</td>\n      <td>High</td>\n    </tr>\n    <tr>\n      <th>6456</th>\n      <td>24</td>\n      <td>Beach Haven</td>\n      <td>NJ</td>\n      <td>1191</td>\n      <td>0</td>\n      <td>0</td>\n      <td>0</td>\n      <td>0</td>\n      <td>0</td>\n      <td>141</td>\n      <td>5</td>\n      <td>136</td>\n      <td>0</td>\n      <td>0</td>\n      <td>118.39</td>\n      <td>High</td>\n    </tr>\n    <tr>\n      <th>6855</th>\n      <td>423</td>\n      <td>Stone Harbor</td>\n      <td>NJ</td>\n      <td>804</td>\n      <td>2</td>\n      <td>0</td>\n      <td>0</td>\n      <td>0</td>\n      <td>2</td>\n      <td>106</td>\n      <td>14</td>\n      <td>91</td>\n      <td>1</td>\n      <td>1</td>\n      <td>134.33</td>\n      <td>High</td>\n    </tr>\n    <tr>\n      <th>6863</th>\n      <td>431</td>\n      <td>Teterboro</td>\n      <td>NJ</td>\n      <td>68</td>\n      <td>0</td>\n      <td>0</td>\n      <td>0</td>\n      <td>0</td>\n      <td>0</td>\n      <td>102</td>\n      <td>0</td>\n      <td>99</td>\n      <td>3</td>\n      <td>0</td>\n      <td>1500.00</td>\n      <td>High</td>\n    </tr>\n    <tr>\n      <th>7452</th>\n      <td>240</td>\n      <td>Ocean Beach Village</td>\n      <td>NY</td>\n      <td>83</td>\n      <td>0</td>\n      <td>0</td>\n      <td>0</td>\n      <td>0</td>\n      <td>0</td>\n      <td>9</td>\n      <td>0</td>\n      <td>9</td>\n      <td>0</td>\n      <td>0</td>\n      <td>108.43</td>\n      <td>High</td>\n    </tr>\n    <tr>\n      <th>7834</th>\n      <td>135</td>\n      <td>Tukwila</td>\n      <td>WA</td>\n      <td>20439</td>\n      <td>158</td>\n      <td>1</td>\n      <td>26</td>\n      <td>74</td>\n      <td>57</td>\n      <td>3350</td>\n      <td>189</td>\n      <td>2681</td>\n      <td>480</td>\n      <td>2</td>\n      <td>171.63</td>\n      <td>High</td>\n    </tr>\n    <tr>\n      <th>7878</th>\n      <td>29</td>\n      <td>Branson</td>\n      <td>MO</td>\n      <td>11688</td>\n      <td>73</td>\n      <td>0</td>\n      <td>10</td>\n      <td>16</td>\n      <td>47</td>\n      <td>1173</td>\n      <td>118</td>\n      <td>993</td>\n      <td>62</td>\n      <td>7</td>\n      <td>106.61</td>\n      <td>High</td>\n    </tr>\n    <tr>\n      <th>7879</th>\n      <td>30</td>\n      <td>Branson West</td>\n      <td>MO</td>\n      <td>449</td>\n      <td>3</td>\n      <td>0</td>\n      <td>1</td>\n      <td>0</td>\n      <td>2</td>\n      <td>102</td>\n      <td>1</td>\n      <td>101</td>\n      <td>0</td>\n      <td>0</td>\n      <td>233.85</td>\n      <td>High</td>\n    </tr>\n  </tbody>\n</table>\n</div>"
     },
     "metadata": {},
     "execution_count": 24
    }
   ],
   "source": [
    "fbi_crime_uscities.loc[fbi_crime_uscities['Crime Rate (per 1000 residents)']>=100]"
   ]
  },
  {
   "cell_type": "code",
   "execution_count": 25,
   "metadata": {
    "colab": {
     "base_uri": "https://localhost:8080/"
    },
    "id": "qhgM405NauCV",
    "outputId": "39781ab1-d43e-40ab-bb44-55b6fdc49b2a"
   },
   "outputs": [
    {
     "output_type": "execute_result",
     "data": {
      "text/plain": [
       "48"
      ]
     },
     "metadata": {},
     "execution_count": 25
    }
   ],
   "source": [
    "len(fbi_crime_uscities.loc[fbi_crime_uscities['Crime Rate (per 1000 residents)']>=100])"
   ]
  },
  {
   "cell_type": "code",
   "execution_count": null,
   "metadata": {},
   "outputs": [],
   "source": []
  }
 ],
 "metadata": {
  "colab": {
   "collapsed_sections": [],
   "name": "fbi_crime_us.ipynb",
   "provenance": []
  },
  "kernelspec": {
   "display_name": "Python 3",
   "language": "python",
   "name": "python3"
  },
  "language_info": {
   "codemirror_mode": {
    "name": "ipython",
    "version": 3
   },
   "file_extension": ".py",
   "mimetype": "text/x-python",
   "name": "python",
   "nbconvert_exporter": "python",
   "pygments_lexer": "ipython3",
   "version": "3.8.6-final"
  }
 },
 "nbformat": 4,
 "nbformat_minor": 4
}