{
 "metadata": {
  "language_info": {
   "codemirror_mode": {
    "name": "ipython",
    "version": 3
   },
   "file_extension": ".py",
   "mimetype": "text/x-python",
   "name": "python",
   "nbconvert_exporter": "python",
   "pygments_lexer": "ipython3",
   "version": "3.7.6-final"
  },
  "orig_nbformat": 2,
  "kernelspec": {
   "name": "python3",
   "display_name": "Python 3",
   "language": "python"
  }
 },
 "nbformat": 4,
 "nbformat_minor": 2,
 "cells": [
  {
   "cell_type": "code",
   "execution_count": 1,
   "metadata": {},
   "outputs": [
    {
     "output_type": "stream",
     "name": "stdout",
     "text": [
      "Requirement already satisfied: pandas in /Applications/anaconda3/lib/python3.7/site-packages (1.0.1)\n",
      "Requirement already satisfied: numpy>=1.13.3 in /Applications/anaconda3/lib/python3.7/site-packages (from pandas) (1.18.5)\n",
      "Requirement already satisfied: pytz>=2017.2 in /Applications/anaconda3/lib/python3.7/site-packages (from pandas) (2019.3)\n",
      "Requirement already satisfied: python-dateutil>=2.6.1 in /Applications/anaconda3/lib/python3.7/site-packages (from pandas) (2.8.1)\n",
      "Requirement already satisfied: six>=1.5 in /Applications/anaconda3/lib/python3.7/site-packages (from python-dateutil>=2.6.1->pandas) (1.14.0)\n",
      "Note: you may need to restart the kernel to use updated packages.\n"
     ]
    }
   ],
   "source": [
    "pip install pandas"
   ]
  },
  {
   "cell_type": "code",
   "execution_count": 2,
   "metadata": {},
   "outputs": [
    {
     "output_type": "stream",
     "name": "stdout",
     "text": [
      "Requirement already satisfied: numpy in /Applications/anaconda3/lib/python3.7/site-packages (1.18.5)\n",
      "Note: you may need to restart the kernel to use updated packages.\n"
     ]
    }
   ],
   "source": [
    "pip install numpy"
   ]
  },
  {
   "cell_type": "code",
   "execution_count": 3,
   "metadata": {},
   "outputs": [],
   "source": [
    "import pandas as pd\n",
    "import numpy as np"
   ]
  },
  {
   "cell_type": "code",
   "execution_count": 5,
   "metadata": {},
   "outputs": [
    {
     "output_type": "execute_result",
     "data": {
      "text/plain": [
       "   RegionID  RegionName  SizeRank       MsaName  2014-01  2014-02  2014-03  \\\n",
       "0     61639       10025         1  New York, NY   3012.0   3025.0   3037.0   \n",
       "1     84654       60657         2   Chicago, IL   1588.0   1594.0   1599.0   \n",
       "2     61637       10023         3  New York, NY   3114.0   3123.0   3131.0   \n",
       "3     91982       77494         4   Houston, TX   1759.0   1763.0   1766.0   \n",
       "4     84616       60614         5   Chicago, IL   1740.0   1745.0   1750.0   \n",
       "\n",
       "   2014-04  2014-05  2014-06  ...  2020-02  2020-03  2020-04  2020-05  \\\n",
       "0   3049.0   3062.0   3074.0  ...   3268.0   3234.0   3199.0   3162.0   \n",
       "1   1605.0   1610.0   1615.0  ...   1834.0   1829.0   1824.0   1818.0   \n",
       "2   3140.0   3148.0   3156.0  ...   3307.0   3275.0   3244.0   3211.0   \n",
       "3   1770.0   1773.0   1776.0  ...   1775.0   1777.0   1780.0   1782.0   \n",
       "4   1755.0   1759.0   1764.0  ...   2023.0   2017.0   2010.0   2003.0   \n",
       "\n",
       "   2020-06  2020-07  2020-08  2020-09  2020-10  2020-11  \n",
       "0   3125.0   3088.0   3048.0   3008.0   2968.0   2925.0  \n",
       "1   1813.0   1807.0   1801.0   1795.0   1788.0   1781.0  \n",
       "2   3178.0   3144.0   3108.0   3072.0   3035.0   2997.0  \n",
       "3   1785.0   1788.0   1791.0   1794.0   1796.0   1799.0  \n",
       "4   1995.0   1988.0   1979.0   1970.0   1962.0   1952.0  \n",
       "\n",
       "[5 rows x 87 columns]"
      ],
      "text/html": "<div>\n<style scoped>\n    .dataframe tbody tr th:only-of-type {\n        vertical-align: middle;\n    }\n\n    .dataframe tbody tr th {\n        vertical-align: top;\n    }\n\n    .dataframe thead th {\n        text-align: right;\n    }\n</style>\n<table border=\"1\" class=\"dataframe\">\n  <thead>\n    <tr style=\"text-align: right;\">\n      <th></th>\n      <th>RegionID</th>\n      <th>RegionName</th>\n      <th>SizeRank</th>\n      <th>MsaName</th>\n      <th>2014-01</th>\n      <th>2014-02</th>\n      <th>2014-03</th>\n      <th>2014-04</th>\n      <th>2014-05</th>\n      <th>2014-06</th>\n      <th>...</th>\n      <th>2020-02</th>\n      <th>2020-03</th>\n      <th>2020-04</th>\n      <th>2020-05</th>\n      <th>2020-06</th>\n      <th>2020-07</th>\n      <th>2020-08</th>\n      <th>2020-09</th>\n      <th>2020-10</th>\n      <th>2020-11</th>\n    </tr>\n  </thead>\n  <tbody>\n    <tr>\n      <th>0</th>\n      <td>61639</td>\n      <td>10025</td>\n      <td>1</td>\n      <td>New York, NY</td>\n      <td>3012.0</td>\n      <td>3025.0</td>\n      <td>3037.0</td>\n      <td>3049.0</td>\n      <td>3062.0</td>\n      <td>3074.0</td>\n      <td>...</td>\n      <td>3268.0</td>\n      <td>3234.0</td>\n      <td>3199.0</td>\n      <td>3162.0</td>\n      <td>3125.0</td>\n      <td>3088.0</td>\n      <td>3048.0</td>\n      <td>3008.0</td>\n      <td>2968.0</td>\n      <td>2925.0</td>\n    </tr>\n    <tr>\n      <th>1</th>\n      <td>84654</td>\n      <td>60657</td>\n      <td>2</td>\n      <td>Chicago, IL</td>\n      <td>1588.0</td>\n      <td>1594.0</td>\n      <td>1599.0</td>\n      <td>1605.0</td>\n      <td>1610.0</td>\n      <td>1615.0</td>\n      <td>...</td>\n      <td>1834.0</td>\n      <td>1829.0</td>\n      <td>1824.0</td>\n      <td>1818.0</td>\n      <td>1813.0</td>\n      <td>1807.0</td>\n      <td>1801.0</td>\n      <td>1795.0</td>\n      <td>1788.0</td>\n      <td>1781.0</td>\n    </tr>\n    <tr>\n      <th>2</th>\n      <td>61637</td>\n      <td>10023</td>\n      <td>3</td>\n      <td>New York, NY</td>\n      <td>3114.0</td>\n      <td>3123.0</td>\n      <td>3131.0</td>\n      <td>3140.0</td>\n      <td>3148.0</td>\n      <td>3156.0</td>\n      <td>...</td>\n      <td>3307.0</td>\n      <td>3275.0</td>\n      <td>3244.0</td>\n      <td>3211.0</td>\n      <td>3178.0</td>\n      <td>3144.0</td>\n      <td>3108.0</td>\n      <td>3072.0</td>\n      <td>3035.0</td>\n      <td>2997.0</td>\n    </tr>\n    <tr>\n      <th>3</th>\n      <td>91982</td>\n      <td>77494</td>\n      <td>4</td>\n      <td>Houston, TX</td>\n      <td>1759.0</td>\n      <td>1763.0</td>\n      <td>1766.0</td>\n      <td>1770.0</td>\n      <td>1773.0</td>\n      <td>1776.0</td>\n      <td>...</td>\n      <td>1775.0</td>\n      <td>1777.0</td>\n      <td>1780.0</td>\n      <td>1782.0</td>\n      <td>1785.0</td>\n      <td>1788.0</td>\n      <td>1791.0</td>\n      <td>1794.0</td>\n      <td>1796.0</td>\n      <td>1799.0</td>\n    </tr>\n    <tr>\n      <th>4</th>\n      <td>84616</td>\n      <td>60614</td>\n      <td>5</td>\n      <td>Chicago, IL</td>\n      <td>1740.0</td>\n      <td>1745.0</td>\n      <td>1750.0</td>\n      <td>1755.0</td>\n      <td>1759.0</td>\n      <td>1764.0</td>\n      <td>...</td>\n      <td>2023.0</td>\n      <td>2017.0</td>\n      <td>2010.0</td>\n      <td>2003.0</td>\n      <td>1995.0</td>\n      <td>1988.0</td>\n      <td>1979.0</td>\n      <td>1970.0</td>\n      <td>1962.0</td>\n      <td>1952.0</td>\n    </tr>\n  </tbody>\n</table>\n<p>5 rows × 87 columns</p>\n</div>"
     },
     "metadata": {},
     "execution_count": 5
    }
   ],
   "source": [
    "zillow = pd.read_csv(\"Datasets/Zip_ZORI_AllHomesPlusMultifamily_SSA.csv\")\n",
    "zillow.head()"
   ]
  },
  {
   "cell_type": "code",
   "execution_count": 8,
   "metadata": {},
   "outputs": [
    {
     "output_type": "execute_result",
     "data": {
      "text/plain": [
       "RegionID        0\n",
       "RegionName      0\n",
       "SizeRank        0\n",
       "MsaName         0\n",
       "2014-01       871\n",
       "             ... \n",
       "2020-07        57\n",
       "2020-08        64\n",
       "2020-09        74\n",
       "2020-10        80\n",
       "2020-11        66\n",
       "Length: 87, dtype: int64"
      ]
     },
     "metadata": {},
     "execution_count": 8
    }
   ],
   "source": [
    "zillow.isna().sum()"
   ]
  },
  {
   "cell_type": "code",
   "execution_count": 9,
   "metadata": {},
   "outputs": [
    {
     "output_type": "execute_result",
     "data": {
      "text/plain": [
       "(3190, 87)"
      ]
     },
     "metadata": {},
     "execution_count": 9
    }
   ],
   "source": [
    "zillow.shape"
   ]
  },
  {
   "cell_type": "code",
   "execution_count": null,
   "metadata": {},
   "outputs": [],
   "source": []
  }
 ]
}