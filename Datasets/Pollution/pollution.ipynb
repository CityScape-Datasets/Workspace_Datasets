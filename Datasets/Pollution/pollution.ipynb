{
  "nbformat": 4,
  "nbformat_minor": 0,
  "metadata": {
    "colab": {
      "name": "pollution.ipynb",
      "provenance": [],
      "collapsed_sections": [],
      "toc_visible": true
    },
    "kernelspec": {
      "name": "python3",
      "display_name": "Python 3"
    }
  },
  "cells": [
    {
      "cell_type": "markdown",
      "metadata": {
        "id": "o7lSEr50hFFP"
      },
      "source": [
        "# EDA"
      ]
    },
    {
      "cell_type": "markdown",
      "metadata": {
        "id": "PkdlO00j89Cv"
      },
      "source": [
        "This notebook looks at air quality for different states in the United States. The four pollutants are NO2, O3, SO2 and O3. "
      ]
    },
    {
      "cell_type": "markdown",
      "metadata": {
        "id": "vi_TnPx9hJ3t"
      },
      "source": [
        "### Import Data"
      ]
    },
    {
      "cell_type": "code",
      "metadata": {
        "id": "UaWUx0sHgmsU"
      },
      "source": [
        "import pandas as pd\n",
        "import numpy as np\n",
        "import matplotlib.pyplot as plt\n",
        "import seaborn as sns\n",
        "import statistics as stat"
      ],
      "execution_count": 1,
      "outputs": []
    },
    {
      "cell_type": "code",
      "metadata": {
        "colab": {
          "base_uri": "https://localhost:8080/"
        },
        "id": "rDXC7wGZKAmI",
        "outputId": "01d31797-fcfa-4000-9fc7-622780dc5d64"
      },
      "source": [
        "\n",
        "from google.colab import drive\n",
        "drive.mount('/content/drive')"
      ],
      "execution_count": 2,
      "outputs": [
        {
          "output_type": "stream",
          "text": [
            "Drive already mounted at /content/drive; to attempt to forcibly remount, call drive.mount(\"/content/drive\", force_remount=True).\n"
          ],
          "name": "stdout"
        }
      ]
    },
    {
      "cell_type": "code",
      "metadata": {
        "id": "dWDsOpVAg5FV"
      },
      "source": [
        "pollution_df = pd.read_csv(\"/content/pollution_us_2000_2016.csv\")"
      ],
      "execution_count": 3,
      "outputs": []
    },
    {
      "cell_type": "markdown",
      "metadata": {
        "id": "W9LApJbQhM6w"
      },
      "source": [
        "### Explore Data"
      ]
    },
    {
      "cell_type": "code",
      "metadata": {
        "colab": {
          "base_uri": "https://localhost:8080/",
          "height": 1000
        },
        "id": "xnWB-o0og_os",
        "outputId": "d15b4804-52d5-4992-daab-bec81cd194fe"
      },
      "source": [
        "pollution_df.head(10)"
      ],
      "execution_count": 4,
      "outputs": [
        {
          "output_type": "execute_result",
          "data": {
            "text/html": [
              "<div>\n",
              "<style scoped>\n",
              "    .dataframe tbody tr th:only-of-type {\n",
              "        vertical-align: middle;\n",
              "    }\n",
              "\n",
              "    .dataframe tbody tr th {\n",
              "        vertical-align: top;\n",
              "    }\n",
              "\n",
              "    .dataframe thead th {\n",
              "        text-align: right;\n",
              "    }\n",
              "</style>\n",
              "<table border=\"1\" class=\"dataframe\">\n",
              "  <thead>\n",
              "    <tr style=\"text-align: right;\">\n",
              "      <th></th>\n",
              "      <th>Unnamed: 0</th>\n",
              "      <th>State Code</th>\n",
              "      <th>County Code</th>\n",
              "      <th>Site Num</th>\n",
              "      <th>Address</th>\n",
              "      <th>State</th>\n",
              "      <th>County</th>\n",
              "      <th>City</th>\n",
              "      <th>Date Local</th>\n",
              "      <th>NO2 Units</th>\n",
              "      <th>NO2 Mean</th>\n",
              "      <th>NO2 1st Max Value</th>\n",
              "      <th>NO2 1st Max Hour</th>\n",
              "      <th>NO2 AQI</th>\n",
              "      <th>O3 Units</th>\n",
              "      <th>O3 Mean</th>\n",
              "      <th>O3 1st Max Value</th>\n",
              "      <th>O3 1st Max Hour</th>\n",
              "      <th>O3 AQI</th>\n",
              "      <th>SO2 Units</th>\n",
              "      <th>SO2 Mean</th>\n",
              "      <th>SO2 1st Max Value</th>\n",
              "      <th>SO2 1st Max Hour</th>\n",
              "      <th>SO2 AQI</th>\n",
              "      <th>CO Units</th>\n",
              "      <th>CO Mean</th>\n",
              "      <th>CO 1st Max Value</th>\n",
              "      <th>CO 1st Max Hour</th>\n",
              "      <th>CO AQI</th>\n",
              "    </tr>\n",
              "  </thead>\n",
              "  <tbody>\n",
              "    <tr>\n",
              "      <th>0</th>\n",
              "      <td>0</td>\n",
              "      <td>4</td>\n",
              "      <td>13</td>\n",
              "      <td>3002</td>\n",
              "      <td>1645 E ROOSEVELT ST-CENTRAL PHOENIX STN</td>\n",
              "      <td>Arizona</td>\n",
              "      <td>Maricopa</td>\n",
              "      <td>Phoenix</td>\n",
              "      <td>2000-01-01</td>\n",
              "      <td>Parts per billion</td>\n",
              "      <td>19.041667</td>\n",
              "      <td>49.0</td>\n",
              "      <td>19</td>\n",
              "      <td>46</td>\n",
              "      <td>Parts per million</td>\n",
              "      <td>0.022500</td>\n",
              "      <td>0.040</td>\n",
              "      <td>10</td>\n",
              "      <td>34</td>\n",
              "      <td>Parts per billion</td>\n",
              "      <td>3.000000</td>\n",
              "      <td>9.0</td>\n",
              "      <td>21</td>\n",
              "      <td>13.0</td>\n",
              "      <td>Parts per million</td>\n",
              "      <td>1.145833</td>\n",
              "      <td>4.2</td>\n",
              "      <td>21</td>\n",
              "      <td>NaN</td>\n",
              "    </tr>\n",
              "    <tr>\n",
              "      <th>1</th>\n",
              "      <td>1</td>\n",
              "      <td>4</td>\n",
              "      <td>13</td>\n",
              "      <td>3002</td>\n",
              "      <td>1645 E ROOSEVELT ST-CENTRAL PHOENIX STN</td>\n",
              "      <td>Arizona</td>\n",
              "      <td>Maricopa</td>\n",
              "      <td>Phoenix</td>\n",
              "      <td>2000-01-01</td>\n",
              "      <td>Parts per billion</td>\n",
              "      <td>19.041667</td>\n",
              "      <td>49.0</td>\n",
              "      <td>19</td>\n",
              "      <td>46</td>\n",
              "      <td>Parts per million</td>\n",
              "      <td>0.022500</td>\n",
              "      <td>0.040</td>\n",
              "      <td>10</td>\n",
              "      <td>34</td>\n",
              "      <td>Parts per billion</td>\n",
              "      <td>3.000000</td>\n",
              "      <td>9.0</td>\n",
              "      <td>21</td>\n",
              "      <td>13.0</td>\n",
              "      <td>Parts per million</td>\n",
              "      <td>0.878947</td>\n",
              "      <td>2.2</td>\n",
              "      <td>23</td>\n",
              "      <td>25.0</td>\n",
              "    </tr>\n",
              "    <tr>\n",
              "      <th>2</th>\n",
              "      <td>2</td>\n",
              "      <td>4</td>\n",
              "      <td>13</td>\n",
              "      <td>3002</td>\n",
              "      <td>1645 E ROOSEVELT ST-CENTRAL PHOENIX STN</td>\n",
              "      <td>Arizona</td>\n",
              "      <td>Maricopa</td>\n",
              "      <td>Phoenix</td>\n",
              "      <td>2000-01-01</td>\n",
              "      <td>Parts per billion</td>\n",
              "      <td>19.041667</td>\n",
              "      <td>49.0</td>\n",
              "      <td>19</td>\n",
              "      <td>46</td>\n",
              "      <td>Parts per million</td>\n",
              "      <td>0.022500</td>\n",
              "      <td>0.040</td>\n",
              "      <td>10</td>\n",
              "      <td>34</td>\n",
              "      <td>Parts per billion</td>\n",
              "      <td>2.975000</td>\n",
              "      <td>6.6</td>\n",
              "      <td>23</td>\n",
              "      <td>NaN</td>\n",
              "      <td>Parts per million</td>\n",
              "      <td>1.145833</td>\n",
              "      <td>4.2</td>\n",
              "      <td>21</td>\n",
              "      <td>NaN</td>\n",
              "    </tr>\n",
              "    <tr>\n",
              "      <th>3</th>\n",
              "      <td>3</td>\n",
              "      <td>4</td>\n",
              "      <td>13</td>\n",
              "      <td>3002</td>\n",
              "      <td>1645 E ROOSEVELT ST-CENTRAL PHOENIX STN</td>\n",
              "      <td>Arizona</td>\n",
              "      <td>Maricopa</td>\n",
              "      <td>Phoenix</td>\n",
              "      <td>2000-01-01</td>\n",
              "      <td>Parts per billion</td>\n",
              "      <td>19.041667</td>\n",
              "      <td>49.0</td>\n",
              "      <td>19</td>\n",
              "      <td>46</td>\n",
              "      <td>Parts per million</td>\n",
              "      <td>0.022500</td>\n",
              "      <td>0.040</td>\n",
              "      <td>10</td>\n",
              "      <td>34</td>\n",
              "      <td>Parts per billion</td>\n",
              "      <td>2.975000</td>\n",
              "      <td>6.6</td>\n",
              "      <td>23</td>\n",
              "      <td>NaN</td>\n",
              "      <td>Parts per million</td>\n",
              "      <td>0.878947</td>\n",
              "      <td>2.2</td>\n",
              "      <td>23</td>\n",
              "      <td>25.0</td>\n",
              "    </tr>\n",
              "    <tr>\n",
              "      <th>4</th>\n",
              "      <td>4</td>\n",
              "      <td>4</td>\n",
              "      <td>13</td>\n",
              "      <td>3002</td>\n",
              "      <td>1645 E ROOSEVELT ST-CENTRAL PHOENIX STN</td>\n",
              "      <td>Arizona</td>\n",
              "      <td>Maricopa</td>\n",
              "      <td>Phoenix</td>\n",
              "      <td>2000-01-02</td>\n",
              "      <td>Parts per billion</td>\n",
              "      <td>22.958333</td>\n",
              "      <td>36.0</td>\n",
              "      <td>19</td>\n",
              "      <td>34</td>\n",
              "      <td>Parts per million</td>\n",
              "      <td>0.013375</td>\n",
              "      <td>0.032</td>\n",
              "      <td>10</td>\n",
              "      <td>27</td>\n",
              "      <td>Parts per billion</td>\n",
              "      <td>1.958333</td>\n",
              "      <td>3.0</td>\n",
              "      <td>22</td>\n",
              "      <td>4.0</td>\n",
              "      <td>Parts per million</td>\n",
              "      <td>0.850000</td>\n",
              "      <td>1.6</td>\n",
              "      <td>23</td>\n",
              "      <td>NaN</td>\n",
              "    </tr>\n",
              "    <tr>\n",
              "      <th>5</th>\n",
              "      <td>5</td>\n",
              "      <td>4</td>\n",
              "      <td>13</td>\n",
              "      <td>3002</td>\n",
              "      <td>1645 E ROOSEVELT ST-CENTRAL PHOENIX STN</td>\n",
              "      <td>Arizona</td>\n",
              "      <td>Maricopa</td>\n",
              "      <td>Phoenix</td>\n",
              "      <td>2000-01-02</td>\n",
              "      <td>Parts per billion</td>\n",
              "      <td>22.958333</td>\n",
              "      <td>36.0</td>\n",
              "      <td>19</td>\n",
              "      <td>34</td>\n",
              "      <td>Parts per million</td>\n",
              "      <td>0.013375</td>\n",
              "      <td>0.032</td>\n",
              "      <td>10</td>\n",
              "      <td>27</td>\n",
              "      <td>Parts per billion</td>\n",
              "      <td>1.958333</td>\n",
              "      <td>3.0</td>\n",
              "      <td>22</td>\n",
              "      <td>4.0</td>\n",
              "      <td>Parts per million</td>\n",
              "      <td>1.066667</td>\n",
              "      <td>2.3</td>\n",
              "      <td>0</td>\n",
              "      <td>26.0</td>\n",
              "    </tr>\n",
              "    <tr>\n",
              "      <th>6</th>\n",
              "      <td>6</td>\n",
              "      <td>4</td>\n",
              "      <td>13</td>\n",
              "      <td>3002</td>\n",
              "      <td>1645 E ROOSEVELT ST-CENTRAL PHOENIX STN</td>\n",
              "      <td>Arizona</td>\n",
              "      <td>Maricopa</td>\n",
              "      <td>Phoenix</td>\n",
              "      <td>2000-01-02</td>\n",
              "      <td>Parts per billion</td>\n",
              "      <td>22.958333</td>\n",
              "      <td>36.0</td>\n",
              "      <td>19</td>\n",
              "      <td>34</td>\n",
              "      <td>Parts per million</td>\n",
              "      <td>0.013375</td>\n",
              "      <td>0.032</td>\n",
              "      <td>10</td>\n",
              "      <td>27</td>\n",
              "      <td>Parts per billion</td>\n",
              "      <td>1.937500</td>\n",
              "      <td>2.6</td>\n",
              "      <td>23</td>\n",
              "      <td>NaN</td>\n",
              "      <td>Parts per million</td>\n",
              "      <td>0.850000</td>\n",
              "      <td>1.6</td>\n",
              "      <td>23</td>\n",
              "      <td>NaN</td>\n",
              "    </tr>\n",
              "    <tr>\n",
              "      <th>7</th>\n",
              "      <td>7</td>\n",
              "      <td>4</td>\n",
              "      <td>13</td>\n",
              "      <td>3002</td>\n",
              "      <td>1645 E ROOSEVELT ST-CENTRAL PHOENIX STN</td>\n",
              "      <td>Arizona</td>\n",
              "      <td>Maricopa</td>\n",
              "      <td>Phoenix</td>\n",
              "      <td>2000-01-02</td>\n",
              "      <td>Parts per billion</td>\n",
              "      <td>22.958333</td>\n",
              "      <td>36.0</td>\n",
              "      <td>19</td>\n",
              "      <td>34</td>\n",
              "      <td>Parts per million</td>\n",
              "      <td>0.013375</td>\n",
              "      <td>0.032</td>\n",
              "      <td>10</td>\n",
              "      <td>27</td>\n",
              "      <td>Parts per billion</td>\n",
              "      <td>1.937500</td>\n",
              "      <td>2.6</td>\n",
              "      <td>23</td>\n",
              "      <td>NaN</td>\n",
              "      <td>Parts per million</td>\n",
              "      <td>1.066667</td>\n",
              "      <td>2.3</td>\n",
              "      <td>0</td>\n",
              "      <td>26.0</td>\n",
              "    </tr>\n",
              "    <tr>\n",
              "      <th>8</th>\n",
              "      <td>8</td>\n",
              "      <td>4</td>\n",
              "      <td>13</td>\n",
              "      <td>3002</td>\n",
              "      <td>1645 E ROOSEVELT ST-CENTRAL PHOENIX STN</td>\n",
              "      <td>Arizona</td>\n",
              "      <td>Maricopa</td>\n",
              "      <td>Phoenix</td>\n",
              "      <td>2000-01-03</td>\n",
              "      <td>Parts per billion</td>\n",
              "      <td>38.125000</td>\n",
              "      <td>51.0</td>\n",
              "      <td>8</td>\n",
              "      <td>48</td>\n",
              "      <td>Parts per million</td>\n",
              "      <td>0.007958</td>\n",
              "      <td>0.016</td>\n",
              "      <td>9</td>\n",
              "      <td>14</td>\n",
              "      <td>Parts per billion</td>\n",
              "      <td>5.250000</td>\n",
              "      <td>11.0</td>\n",
              "      <td>19</td>\n",
              "      <td>16.0</td>\n",
              "      <td>Parts per million</td>\n",
              "      <td>1.929167</td>\n",
              "      <td>4.4</td>\n",
              "      <td>8</td>\n",
              "      <td>NaN</td>\n",
              "    </tr>\n",
              "    <tr>\n",
              "      <th>9</th>\n",
              "      <td>9</td>\n",
              "      <td>4</td>\n",
              "      <td>13</td>\n",
              "      <td>3002</td>\n",
              "      <td>1645 E ROOSEVELT ST-CENTRAL PHOENIX STN</td>\n",
              "      <td>Arizona</td>\n",
              "      <td>Maricopa</td>\n",
              "      <td>Phoenix</td>\n",
              "      <td>2000-01-03</td>\n",
              "      <td>Parts per billion</td>\n",
              "      <td>38.125000</td>\n",
              "      <td>51.0</td>\n",
              "      <td>8</td>\n",
              "      <td>48</td>\n",
              "      <td>Parts per million</td>\n",
              "      <td>0.007958</td>\n",
              "      <td>0.016</td>\n",
              "      <td>9</td>\n",
              "      <td>14</td>\n",
              "      <td>Parts per billion</td>\n",
              "      <td>5.250000</td>\n",
              "      <td>11.0</td>\n",
              "      <td>19</td>\n",
              "      <td>16.0</td>\n",
              "      <td>Parts per million</td>\n",
              "      <td>1.762500</td>\n",
              "      <td>2.5</td>\n",
              "      <td>8</td>\n",
              "      <td>28.0</td>\n",
              "    </tr>\n",
              "  </tbody>\n",
              "</table>\n",
              "</div>"
            ],
            "text/plain": [
              "   Unnamed: 0  State Code  ...  CO 1st Max Hour  CO AQI\n",
              "0           0           4  ...               21     NaN\n",
              "1           1           4  ...               23    25.0\n",
              "2           2           4  ...               21     NaN\n",
              "3           3           4  ...               23    25.0\n",
              "4           4           4  ...               23     NaN\n",
              "5           5           4  ...                0    26.0\n",
              "6           6           4  ...               23     NaN\n",
              "7           7           4  ...                0    26.0\n",
              "8           8           4  ...                8     NaN\n",
              "9           9           4  ...                8    28.0\n",
              "\n",
              "[10 rows x 29 columns]"
            ]
          },
          "metadata": {
            "tags": []
          },
          "execution_count": 4
        }
      ]
    },
    {
      "cell_type": "code",
      "metadata": {
        "id": "_Tl_Ulq7m08_",
        "colab": {
          "base_uri": "https://localhost:8080/"
        },
        "outputId": "5adc679c-d151-4767-fa09-a0b844bc32e8"
      },
      "source": [
        "pollution_df.shape"
      ],
      "execution_count": 5,
      "outputs": [
        {
          "output_type": "execute_result",
          "data": {
            "text/plain": [
              "(1746661, 29)"
            ]
          },
          "metadata": {
            "tags": []
          },
          "execution_count": 5
        }
      ]
    },
    {
      "cell_type": "code",
      "metadata": {
        "colab": {
          "base_uri": "https://localhost:8080/"
        },
        "id": "s7KiVZ4lhBq-",
        "outputId": "599a9aef-ccf3-4d32-c1d5-22766a80f4f3"
      },
      "source": [
        "pollution_df.columns"
      ],
      "execution_count": 6,
      "outputs": [
        {
          "output_type": "execute_result",
          "data": {
            "text/plain": [
              "Index(['Unnamed: 0', 'State Code', 'County Code', 'Site Num', 'Address',\n",
              "       'State', 'County', 'City', 'Date Local', 'NO2 Units', 'NO2 Mean',\n",
              "       'NO2 1st Max Value', 'NO2 1st Max Hour', 'NO2 AQI', 'O3 Units',\n",
              "       'O3 Mean', 'O3 1st Max Value', 'O3 1st Max Hour', 'O3 AQI', 'SO2 Units',\n",
              "       'SO2 Mean', 'SO2 1st Max Value', 'SO2 1st Max Hour', 'SO2 AQI',\n",
              "       'CO Units', 'CO Mean', 'CO 1st Max Value', 'CO 1st Max Hour', 'CO AQI'],\n",
              "      dtype='object')"
            ]
          },
          "metadata": {
            "tags": []
          },
          "execution_count": 6
        }
      ]
    },
    {
      "cell_type": "code",
      "metadata": {
        "id": "wlKv4g5pewtb",
        "colab": {
          "base_uri": "https://localhost:8080/",
          "height": 484
        },
        "outputId": "96bc579e-c150-44d5-e21a-1b5edac06c35"
      },
      "source": [
        "pollution_df.describe(include = 'all')"
      ],
      "execution_count": 7,
      "outputs": [
        {
          "output_type": "execute_result",
          "data": {
            "text/html": [
              "<div>\n",
              "<style scoped>\n",
              "    .dataframe tbody tr th:only-of-type {\n",
              "        vertical-align: middle;\n",
              "    }\n",
              "\n",
              "    .dataframe tbody tr th {\n",
              "        vertical-align: top;\n",
              "    }\n",
              "\n",
              "    .dataframe thead th {\n",
              "        text-align: right;\n",
              "    }\n",
              "</style>\n",
              "<table border=\"1\" class=\"dataframe\">\n",
              "  <thead>\n",
              "    <tr style=\"text-align: right;\">\n",
              "      <th></th>\n",
              "      <th>Unnamed: 0</th>\n",
              "      <th>State Code</th>\n",
              "      <th>County Code</th>\n",
              "      <th>Site Num</th>\n",
              "      <th>Address</th>\n",
              "      <th>State</th>\n",
              "      <th>County</th>\n",
              "      <th>City</th>\n",
              "      <th>Date Local</th>\n",
              "      <th>NO2 Units</th>\n",
              "      <th>NO2 Mean</th>\n",
              "      <th>NO2 1st Max Value</th>\n",
              "      <th>NO2 1st Max Hour</th>\n",
              "      <th>NO2 AQI</th>\n",
              "      <th>O3 Units</th>\n",
              "      <th>O3 Mean</th>\n",
              "      <th>O3 1st Max Value</th>\n",
              "      <th>O3 1st Max Hour</th>\n",
              "      <th>O3 AQI</th>\n",
              "      <th>SO2 Units</th>\n",
              "      <th>SO2 Mean</th>\n",
              "      <th>SO2 1st Max Value</th>\n",
              "      <th>SO2 1st Max Hour</th>\n",
              "      <th>SO2 AQI</th>\n",
              "      <th>CO Units</th>\n",
              "      <th>CO Mean</th>\n",
              "      <th>CO 1st Max Value</th>\n",
              "      <th>CO 1st Max Hour</th>\n",
              "      <th>CO AQI</th>\n",
              "    </tr>\n",
              "  </thead>\n",
              "  <tbody>\n",
              "    <tr>\n",
              "      <th>count</th>\n",
              "      <td>1.746661e+06</td>\n",
              "      <td>1.746661e+06</td>\n",
              "      <td>1.746661e+06</td>\n",
              "      <td>1.746661e+06</td>\n",
              "      <td>1746661</td>\n",
              "      <td>1746661</td>\n",
              "      <td>1746661</td>\n",
              "      <td>1746661</td>\n",
              "      <td>1746661</td>\n",
              "      <td>1746661</td>\n",
              "      <td>1.746661e+06</td>\n",
              "      <td>1.746661e+06</td>\n",
              "      <td>1.746661e+06</td>\n",
              "      <td>1.746661e+06</td>\n",
              "      <td>1746661</td>\n",
              "      <td>1.746661e+06</td>\n",
              "      <td>1.746661e+06</td>\n",
              "      <td>1.746661e+06</td>\n",
              "      <td>1.746661e+06</td>\n",
              "      <td>1746661</td>\n",
              "      <td>1.746661e+06</td>\n",
              "      <td>1.746661e+06</td>\n",
              "      <td>1.746661e+06</td>\n",
              "      <td>873754.000000</td>\n",
              "      <td>1746661</td>\n",
              "      <td>1.746661e+06</td>\n",
              "      <td>1.746661e+06</td>\n",
              "      <td>1.746661e+06</td>\n",
              "      <td>873338.000000</td>\n",
              "    </tr>\n",
              "    <tr>\n",
              "      <th>unique</th>\n",
              "      <td>NaN</td>\n",
              "      <td>NaN</td>\n",
              "      <td>NaN</td>\n",
              "      <td>NaN</td>\n",
              "      <td>204</td>\n",
              "      <td>47</td>\n",
              "      <td>133</td>\n",
              "      <td>144</td>\n",
              "      <td>5996</td>\n",
              "      <td>1</td>\n",
              "      <td>NaN</td>\n",
              "      <td>NaN</td>\n",
              "      <td>NaN</td>\n",
              "      <td>NaN</td>\n",
              "      <td>1</td>\n",
              "      <td>NaN</td>\n",
              "      <td>NaN</td>\n",
              "      <td>NaN</td>\n",
              "      <td>NaN</td>\n",
              "      <td>1</td>\n",
              "      <td>NaN</td>\n",
              "      <td>NaN</td>\n",
              "      <td>NaN</td>\n",
              "      <td>NaN</td>\n",
              "      <td>1</td>\n",
              "      <td>NaN</td>\n",
              "      <td>NaN</td>\n",
              "      <td>NaN</td>\n",
              "      <td>NaN</td>\n",
              "    </tr>\n",
              "    <tr>\n",
              "      <th>top</th>\n",
              "      <td>NaN</td>\n",
              "      <td>NaN</td>\n",
              "      <td>NaN</td>\n",
              "      <td>NaN</td>\n",
              "      <td>PIKE AVE AT RIVER ROAD</td>\n",
              "      <td>California</td>\n",
              "      <td>Los Angeles</td>\n",
              "      <td>Not in a city</td>\n",
              "      <td>2002-06-10</td>\n",
              "      <td>Parts per billion</td>\n",
              "      <td>NaN</td>\n",
              "      <td>NaN</td>\n",
              "      <td>NaN</td>\n",
              "      <td>NaN</td>\n",
              "      <td>Parts per million</td>\n",
              "      <td>NaN</td>\n",
              "      <td>NaN</td>\n",
              "      <td>NaN</td>\n",
              "      <td>NaN</td>\n",
              "      <td>Parts per billion</td>\n",
              "      <td>NaN</td>\n",
              "      <td>NaN</td>\n",
              "      <td>NaN</td>\n",
              "      <td>NaN</td>\n",
              "      <td>Parts per million</td>\n",
              "      <td>NaN</td>\n",
              "      <td>NaN</td>\n",
              "      <td>NaN</td>\n",
              "      <td>NaN</td>\n",
              "    </tr>\n",
              "    <tr>\n",
              "      <th>freq</th>\n",
              "      <td>NaN</td>\n",
              "      <td>NaN</td>\n",
              "      <td>NaN</td>\n",
              "      <td>NaN</td>\n",
              "      <td>35332</td>\n",
              "      <td>576142</td>\n",
              "      <td>93381</td>\n",
              "      <td>138411</td>\n",
              "      <td>640</td>\n",
              "      <td>1746661</td>\n",
              "      <td>NaN</td>\n",
              "      <td>NaN</td>\n",
              "      <td>NaN</td>\n",
              "      <td>NaN</td>\n",
              "      <td>1746661</td>\n",
              "      <td>NaN</td>\n",
              "      <td>NaN</td>\n",
              "      <td>NaN</td>\n",
              "      <td>NaN</td>\n",
              "      <td>1746661</td>\n",
              "      <td>NaN</td>\n",
              "      <td>NaN</td>\n",
              "      <td>NaN</td>\n",
              "      <td>NaN</td>\n",
              "      <td>1746661</td>\n",
              "      <td>NaN</td>\n",
              "      <td>NaN</td>\n",
              "      <td>NaN</td>\n",
              "      <td>NaN</td>\n",
              "    </tr>\n",
              "    <tr>\n",
              "      <th>mean</th>\n",
              "      <td>5.471414e+04</td>\n",
              "      <td>2.230907e+01</td>\n",
              "      <td>7.169381e+01</td>\n",
              "      <td>1.118214e+03</td>\n",
              "      <td>NaN</td>\n",
              "      <td>NaN</td>\n",
              "      <td>NaN</td>\n",
              "      <td>NaN</td>\n",
              "      <td>NaN</td>\n",
              "      <td>NaN</td>\n",
              "      <td>1.282193e+01</td>\n",
              "      <td>2.541485e+01</td>\n",
              "      <td>1.173102e+01</td>\n",
              "      <td>2.389822e+01</td>\n",
              "      <td>NaN</td>\n",
              "      <td>2.612485e-02</td>\n",
              "      <td>3.920331e-02</td>\n",
              "      <td>1.017053e+01</td>\n",
              "      <td>3.605012e+01</td>\n",
              "      <td>NaN</td>\n",
              "      <td>1.870364e+00</td>\n",
              "      <td>4.492185e+00</td>\n",
              "      <td>9.664906e+00</td>\n",
              "      <td>7.115945</td>\n",
              "      <td>NaN</td>\n",
              "      <td>3.682177e-01</td>\n",
              "      <td>6.201067e-01</td>\n",
              "      <td>7.875026e+00</td>\n",
              "      <td>5.996595</td>\n",
              "    </tr>\n",
              "    <tr>\n",
              "      <th>std</th>\n",
              "      <td>3.372908e+04</td>\n",
              "      <td>1.725621e+01</td>\n",
              "      <td>7.948023e+01</td>\n",
              "      <td>2.003103e+03</td>\n",
              "      <td>NaN</td>\n",
              "      <td>NaN</td>\n",
              "      <td>NaN</td>\n",
              "      <td>NaN</td>\n",
              "      <td>NaN</td>\n",
              "      <td>NaN</td>\n",
              "      <td>9.504814e+00</td>\n",
              "      <td>1.599963e+01</td>\n",
              "      <td>7.877501e+00</td>\n",
              "      <td>1.516280e+01</td>\n",
              "      <td>NaN</td>\n",
              "      <td>1.136974e-02</td>\n",
              "      <td>1.534362e-02</td>\n",
              "      <td>4.003144e+00</td>\n",
              "      <td>1.978042e+01</td>\n",
              "      <td>NaN</td>\n",
              "      <td>2.760435e+00</td>\n",
              "      <td>7.679866e+00</td>\n",
              "      <td>6.731228e+00</td>\n",
              "      <td>11.937473</td>\n",
              "      <td>NaN</td>\n",
              "      <td>3.140231e-01</td>\n",
              "      <td>6.439361e-01</td>\n",
              "      <td>7.978844e+00</td>\n",
              "      <td>5.851836</td>\n",
              "    </tr>\n",
              "    <tr>\n",
              "      <th>min</th>\n",
              "      <td>0.000000e+00</td>\n",
              "      <td>1.000000e+00</td>\n",
              "      <td>1.000000e+00</td>\n",
              "      <td>1.000000e+00</td>\n",
              "      <td>NaN</td>\n",
              "      <td>NaN</td>\n",
              "      <td>NaN</td>\n",
              "      <td>NaN</td>\n",
              "      <td>NaN</td>\n",
              "      <td>NaN</td>\n",
              "      <td>-2.000000e+00</td>\n",
              "      <td>-2.000000e+00</td>\n",
              "      <td>0.000000e+00</td>\n",
              "      <td>0.000000e+00</td>\n",
              "      <td>NaN</td>\n",
              "      <td>0.000000e+00</td>\n",
              "      <td>0.000000e+00</td>\n",
              "      <td>0.000000e+00</td>\n",
              "      <td>0.000000e+00</td>\n",
              "      <td>NaN</td>\n",
              "      <td>-2.000000e+00</td>\n",
              "      <td>-2.000000e+00</td>\n",
              "      <td>0.000000e+00</td>\n",
              "      <td>0.000000</td>\n",
              "      <td>NaN</td>\n",
              "      <td>-4.375000e-01</td>\n",
              "      <td>-4.000000e-01</td>\n",
              "      <td>0.000000e+00</td>\n",
              "      <td>0.000000</td>\n",
              "    </tr>\n",
              "    <tr>\n",
              "      <th>25%</th>\n",
              "      <td>2.575300e+04</td>\n",
              "      <td>6.000000e+00</td>\n",
              "      <td>1.700000e+01</td>\n",
              "      <td>9.000000e+00</td>\n",
              "      <td>NaN</td>\n",
              "      <td>NaN</td>\n",
              "      <td>NaN</td>\n",
              "      <td>NaN</td>\n",
              "      <td>NaN</td>\n",
              "      <td>NaN</td>\n",
              "      <td>5.750000e+00</td>\n",
              "      <td>1.300000e+01</td>\n",
              "      <td>5.000000e+00</td>\n",
              "      <td>1.200000e+01</td>\n",
              "      <td>NaN</td>\n",
              "      <td>1.787500e-02</td>\n",
              "      <td>2.900000e-02</td>\n",
              "      <td>9.000000e+00</td>\n",
              "      <td>2.500000e+01</td>\n",
              "      <td>NaN</td>\n",
              "      <td>2.565220e-01</td>\n",
              "      <td>8.000000e-01</td>\n",
              "      <td>5.000000e+00</td>\n",
              "      <td>1.000000</td>\n",
              "      <td>NaN</td>\n",
              "      <td>1.834580e-01</td>\n",
              "      <td>2.920000e-01</td>\n",
              "      <td>0.000000e+00</td>\n",
              "      <td>2.000000</td>\n",
              "    </tr>\n",
              "    <tr>\n",
              "      <th>50%</th>\n",
              "      <td>5.304500e+04</td>\n",
              "      <td>1.700000e+01</td>\n",
              "      <td>5.900000e+01</td>\n",
              "      <td>6.000000e+01</td>\n",
              "      <td>NaN</td>\n",
              "      <td>NaN</td>\n",
              "      <td>NaN</td>\n",
              "      <td>NaN</td>\n",
              "      <td>NaN</td>\n",
              "      <td>NaN</td>\n",
              "      <td>1.073913e+01</td>\n",
              "      <td>2.400000e+01</td>\n",
              "      <td>9.000000e+00</td>\n",
              "      <td>2.300000e+01</td>\n",
              "      <td>NaN</td>\n",
              "      <td>2.587500e-02</td>\n",
              "      <td>3.800000e-02</td>\n",
              "      <td>1.000000e+01</td>\n",
              "      <td>3.300000e+01</td>\n",
              "      <td>NaN</td>\n",
              "      <td>9.875000e-01</td>\n",
              "      <td>2.000000e+00</td>\n",
              "      <td>8.000000e+00</td>\n",
              "      <td>3.000000</td>\n",
              "      <td>NaN</td>\n",
              "      <td>2.926250e-01</td>\n",
              "      <td>4.000000e-01</td>\n",
              "      <td>6.000000e+00</td>\n",
              "      <td>5.000000</td>\n",
              "    </tr>\n",
              "    <tr>\n",
              "      <th>75%</th>\n",
              "      <td>8.033600e+04</td>\n",
              "      <td>4.000000e+01</td>\n",
              "      <td>9.700000e+01</td>\n",
              "      <td>1.039000e+03</td>\n",
              "      <td>NaN</td>\n",
              "      <td>NaN</td>\n",
              "      <td>NaN</td>\n",
              "      <td>NaN</td>\n",
              "      <td>NaN</td>\n",
              "      <td>NaN</td>\n",
              "      <td>1.771364e+01</td>\n",
              "      <td>3.570000e+01</td>\n",
              "      <td>2.000000e+01</td>\n",
              "      <td>3.300000e+01</td>\n",
              "      <td>NaN</td>\n",
              "      <td>3.391700e-02</td>\n",
              "      <td>4.800000e-02</td>\n",
              "      <td>1.100000e+01</td>\n",
              "      <td>4.200000e+01</td>\n",
              "      <td>NaN</td>\n",
              "      <td>2.325000e+00</td>\n",
              "      <td>5.000000e+00</td>\n",
              "      <td>1.400000e+01</td>\n",
              "      <td>9.000000</td>\n",
              "      <td>NaN</td>\n",
              "      <td>4.666670e-01</td>\n",
              "      <td>8.000000e-01</td>\n",
              "      <td>1.300000e+01</td>\n",
              "      <td>8.000000</td>\n",
              "    </tr>\n",
              "    <tr>\n",
              "      <th>max</th>\n",
              "      <td>1.345750e+05</td>\n",
              "      <td>8.000000e+01</td>\n",
              "      <td>6.500000e+02</td>\n",
              "      <td>9.997000e+03</td>\n",
              "      <td>NaN</td>\n",
              "      <td>NaN</td>\n",
              "      <td>NaN</td>\n",
              "      <td>NaN</td>\n",
              "      <td>NaN</td>\n",
              "      <td>NaN</td>\n",
              "      <td>1.395417e+02</td>\n",
              "      <td>2.670000e+02</td>\n",
              "      <td>2.300000e+01</td>\n",
              "      <td>1.320000e+02</td>\n",
              "      <td>NaN</td>\n",
              "      <td>9.508300e-02</td>\n",
              "      <td>1.410000e-01</td>\n",
              "      <td>2.300000e+01</td>\n",
              "      <td>2.180000e+02</td>\n",
              "      <td>NaN</td>\n",
              "      <td>3.216250e+02</td>\n",
              "      <td>3.510000e+02</td>\n",
              "      <td>2.300000e+01</td>\n",
              "      <td>200.000000</td>\n",
              "      <td>NaN</td>\n",
              "      <td>7.508333e+00</td>\n",
              "      <td>1.990000e+01</td>\n",
              "      <td>2.300000e+01</td>\n",
              "      <td>201.000000</td>\n",
              "    </tr>\n",
              "  </tbody>\n",
              "</table>\n",
              "</div>"
            ],
            "text/plain": [
              "          Unnamed: 0    State Code  ...  CO 1st Max Hour         CO AQI\n",
              "count   1.746661e+06  1.746661e+06  ...     1.746661e+06  873338.000000\n",
              "unique           NaN           NaN  ...              NaN            NaN\n",
              "top              NaN           NaN  ...              NaN            NaN\n",
              "freq             NaN           NaN  ...              NaN            NaN\n",
              "mean    5.471414e+04  2.230907e+01  ...     7.875026e+00       5.996595\n",
              "std     3.372908e+04  1.725621e+01  ...     7.978844e+00       5.851836\n",
              "min     0.000000e+00  1.000000e+00  ...     0.000000e+00       0.000000\n",
              "25%     2.575300e+04  6.000000e+00  ...     0.000000e+00       2.000000\n",
              "50%     5.304500e+04  1.700000e+01  ...     6.000000e+00       5.000000\n",
              "75%     8.033600e+04  4.000000e+01  ...     1.300000e+01       8.000000\n",
              "max     1.345750e+05  8.000000e+01  ...     2.300000e+01     201.000000\n",
              "\n",
              "[11 rows x 29 columns]"
            ]
          },
          "metadata": {
            "tags": []
          },
          "execution_count": 7
        }
      ]
    },
    {
      "cell_type": "code",
      "metadata": {
        "colab": {
          "base_uri": "https://localhost:8080/"
        },
        "id": "jL_7mxAwhEFt",
        "outputId": "4017679a-727b-4466-b05e-6a0d70a960c0"
      },
      "source": [
        "pollution_df.dtypes"
      ],
      "execution_count": 8,
      "outputs": [
        {
          "output_type": "execute_result",
          "data": {
            "text/plain": [
              "Unnamed: 0             int64\n",
              "State Code             int64\n",
              "County Code            int64\n",
              "Site Num               int64\n",
              "Address               object\n",
              "State                 object\n",
              "County                object\n",
              "City                  object\n",
              "Date Local            object\n",
              "NO2 Units             object\n",
              "NO2 Mean             float64\n",
              "NO2 1st Max Value    float64\n",
              "NO2 1st Max Hour       int64\n",
              "NO2 AQI                int64\n",
              "O3 Units              object\n",
              "O3 Mean              float64\n",
              "O3 1st Max Value     float64\n",
              "O3 1st Max Hour        int64\n",
              "O3 AQI                 int64\n",
              "SO2 Units             object\n",
              "SO2 Mean             float64\n",
              "SO2 1st Max Value    float64\n",
              "SO2 1st Max Hour       int64\n",
              "SO2 AQI              float64\n",
              "CO Units              object\n",
              "CO Mean              float64\n",
              "CO 1st Max Value     float64\n",
              "CO 1st Max Hour        int64\n",
              "CO AQI               float64\n",
              "dtype: object"
            ]
          },
          "metadata": {
            "tags": []
          },
          "execution_count": 8
        }
      ]
    },
    {
      "cell_type": "code",
      "metadata": {
        "colab": {
          "base_uri": "https://localhost:8080/"
        },
        "id": "cn7NZ9s5h0Wi",
        "outputId": "98918eb9-248c-4f6b-9404-2262ee1ea769"
      },
      "source": [
        "pollution_df.isna().sum()"
      ],
      "execution_count": 9,
      "outputs": [
        {
          "output_type": "execute_result",
          "data": {
            "text/plain": [
              "Unnamed: 0                0\n",
              "State Code                0\n",
              "County Code               0\n",
              "Site Num                  0\n",
              "Address                   0\n",
              "State                     0\n",
              "County                    0\n",
              "City                      0\n",
              "Date Local                0\n",
              "NO2 Units                 0\n",
              "NO2 Mean                  0\n",
              "NO2 1st Max Value         0\n",
              "NO2 1st Max Hour          0\n",
              "NO2 AQI                   0\n",
              "O3 Units                  0\n",
              "O3 Mean                   0\n",
              "O3 1st Max Value          0\n",
              "O3 1st Max Hour           0\n",
              "O3 AQI                    0\n",
              "SO2 Units                 0\n",
              "SO2 Mean                  0\n",
              "SO2 1st Max Value         0\n",
              "SO2 1st Max Hour          0\n",
              "SO2 AQI              872907\n",
              "CO Units                  0\n",
              "CO Mean                   0\n",
              "CO 1st Max Value          0\n",
              "CO 1st Max Hour           0\n",
              "CO AQI               873323\n",
              "dtype: int64"
            ]
          },
          "metadata": {
            "tags": []
          },
          "execution_count": 9
        }
      ]
    },
    {
      "cell_type": "code",
      "metadata": {
        "colab": {
          "base_uri": "https://localhost:8080/"
        },
        "id": "6u-lzij2ieDa",
        "outputId": "cdd823e2-2a8f-44a4-c579-c140fb648dd3"
      },
      "source": [
        "pollution_df.count()"
      ],
      "execution_count": 10,
      "outputs": [
        {
          "output_type": "execute_result",
          "data": {
            "text/plain": [
              "Unnamed: 0           1746661\n",
              "State Code           1746661\n",
              "County Code          1746661\n",
              "Site Num             1746661\n",
              "Address              1746661\n",
              "State                1746661\n",
              "County               1746661\n",
              "City                 1746661\n",
              "Date Local           1746661\n",
              "NO2 Units            1746661\n",
              "NO2 Mean             1746661\n",
              "NO2 1st Max Value    1746661\n",
              "NO2 1st Max Hour     1746661\n",
              "NO2 AQI              1746661\n",
              "O3 Units             1746661\n",
              "O3 Mean              1746661\n",
              "O3 1st Max Value     1746661\n",
              "O3 1st Max Hour      1746661\n",
              "O3 AQI               1746661\n",
              "SO2 Units            1746661\n",
              "SO2 Mean             1746661\n",
              "SO2 1st Max Value    1746661\n",
              "SO2 1st Max Hour     1746661\n",
              "SO2 AQI               873754\n",
              "CO Units             1746661\n",
              "CO Mean              1746661\n",
              "CO 1st Max Value     1746661\n",
              "CO 1st Max Hour      1746661\n",
              "CO AQI                873338\n",
              "dtype: int64"
            ]
          },
          "metadata": {
            "tags": []
          },
          "execution_count": 10
        }
      ]
    },
    {
      "cell_type": "markdown",
      "metadata": {
        "id": "WfYRQAQXm6hK"
      },
      "source": [
        "### Clean Data"
      ]
    },
    {
      "cell_type": "code",
      "metadata": {
        "colab": {
          "base_uri": "https://localhost:8080/",
          "height": 278
        },
        "id": "G1WIlEasjIri",
        "outputId": "b55f1655-d520-468e-9273-cba4d5b25162"
      },
      "source": [
        "pollution_df = pollution_df.drop(['Unnamed: 0','State Code','County Code','Site Num','Address','NO2 Units','O3 Units','SO2 Units','CO Units'],axis=1)\n",
        "pollution_df.head()"
      ],
      "execution_count": 11,
      "outputs": [
        {
          "output_type": "execute_result",
          "data": {
            "text/html": [
              "<div>\n",
              "<style scoped>\n",
              "    .dataframe tbody tr th:only-of-type {\n",
              "        vertical-align: middle;\n",
              "    }\n",
              "\n",
              "    .dataframe tbody tr th {\n",
              "        vertical-align: top;\n",
              "    }\n",
              "\n",
              "    .dataframe thead th {\n",
              "        text-align: right;\n",
              "    }\n",
              "</style>\n",
              "<table border=\"1\" class=\"dataframe\">\n",
              "  <thead>\n",
              "    <tr style=\"text-align: right;\">\n",
              "      <th></th>\n",
              "      <th>State</th>\n",
              "      <th>County</th>\n",
              "      <th>City</th>\n",
              "      <th>Date Local</th>\n",
              "      <th>NO2 Mean</th>\n",
              "      <th>NO2 1st Max Value</th>\n",
              "      <th>NO2 1st Max Hour</th>\n",
              "      <th>NO2 AQI</th>\n",
              "      <th>O3 Mean</th>\n",
              "      <th>O3 1st Max Value</th>\n",
              "      <th>O3 1st Max Hour</th>\n",
              "      <th>O3 AQI</th>\n",
              "      <th>SO2 Mean</th>\n",
              "      <th>SO2 1st Max Value</th>\n",
              "      <th>SO2 1st Max Hour</th>\n",
              "      <th>SO2 AQI</th>\n",
              "      <th>CO Mean</th>\n",
              "      <th>CO 1st Max Value</th>\n",
              "      <th>CO 1st Max Hour</th>\n",
              "      <th>CO AQI</th>\n",
              "    </tr>\n",
              "  </thead>\n",
              "  <tbody>\n",
              "    <tr>\n",
              "      <th>0</th>\n",
              "      <td>Arizona</td>\n",
              "      <td>Maricopa</td>\n",
              "      <td>Phoenix</td>\n",
              "      <td>2000-01-01</td>\n",
              "      <td>19.041667</td>\n",
              "      <td>49.0</td>\n",
              "      <td>19</td>\n",
              "      <td>46</td>\n",
              "      <td>0.022500</td>\n",
              "      <td>0.040</td>\n",
              "      <td>10</td>\n",
              "      <td>34</td>\n",
              "      <td>3.000000</td>\n",
              "      <td>9.0</td>\n",
              "      <td>21</td>\n",
              "      <td>13.0</td>\n",
              "      <td>1.145833</td>\n",
              "      <td>4.2</td>\n",
              "      <td>21</td>\n",
              "      <td>NaN</td>\n",
              "    </tr>\n",
              "    <tr>\n",
              "      <th>1</th>\n",
              "      <td>Arizona</td>\n",
              "      <td>Maricopa</td>\n",
              "      <td>Phoenix</td>\n",
              "      <td>2000-01-01</td>\n",
              "      <td>19.041667</td>\n",
              "      <td>49.0</td>\n",
              "      <td>19</td>\n",
              "      <td>46</td>\n",
              "      <td>0.022500</td>\n",
              "      <td>0.040</td>\n",
              "      <td>10</td>\n",
              "      <td>34</td>\n",
              "      <td>3.000000</td>\n",
              "      <td>9.0</td>\n",
              "      <td>21</td>\n",
              "      <td>13.0</td>\n",
              "      <td>0.878947</td>\n",
              "      <td>2.2</td>\n",
              "      <td>23</td>\n",
              "      <td>25.0</td>\n",
              "    </tr>\n",
              "    <tr>\n",
              "      <th>2</th>\n",
              "      <td>Arizona</td>\n",
              "      <td>Maricopa</td>\n",
              "      <td>Phoenix</td>\n",
              "      <td>2000-01-01</td>\n",
              "      <td>19.041667</td>\n",
              "      <td>49.0</td>\n",
              "      <td>19</td>\n",
              "      <td>46</td>\n",
              "      <td>0.022500</td>\n",
              "      <td>0.040</td>\n",
              "      <td>10</td>\n",
              "      <td>34</td>\n",
              "      <td>2.975000</td>\n",
              "      <td>6.6</td>\n",
              "      <td>23</td>\n",
              "      <td>NaN</td>\n",
              "      <td>1.145833</td>\n",
              "      <td>4.2</td>\n",
              "      <td>21</td>\n",
              "      <td>NaN</td>\n",
              "    </tr>\n",
              "    <tr>\n",
              "      <th>3</th>\n",
              "      <td>Arizona</td>\n",
              "      <td>Maricopa</td>\n",
              "      <td>Phoenix</td>\n",
              "      <td>2000-01-01</td>\n",
              "      <td>19.041667</td>\n",
              "      <td>49.0</td>\n",
              "      <td>19</td>\n",
              "      <td>46</td>\n",
              "      <td>0.022500</td>\n",
              "      <td>0.040</td>\n",
              "      <td>10</td>\n",
              "      <td>34</td>\n",
              "      <td>2.975000</td>\n",
              "      <td>6.6</td>\n",
              "      <td>23</td>\n",
              "      <td>NaN</td>\n",
              "      <td>0.878947</td>\n",
              "      <td>2.2</td>\n",
              "      <td>23</td>\n",
              "      <td>25.0</td>\n",
              "    </tr>\n",
              "    <tr>\n",
              "      <th>4</th>\n",
              "      <td>Arizona</td>\n",
              "      <td>Maricopa</td>\n",
              "      <td>Phoenix</td>\n",
              "      <td>2000-01-02</td>\n",
              "      <td>22.958333</td>\n",
              "      <td>36.0</td>\n",
              "      <td>19</td>\n",
              "      <td>34</td>\n",
              "      <td>0.013375</td>\n",
              "      <td>0.032</td>\n",
              "      <td>10</td>\n",
              "      <td>27</td>\n",
              "      <td>1.958333</td>\n",
              "      <td>3.0</td>\n",
              "      <td>22</td>\n",
              "      <td>4.0</td>\n",
              "      <td>0.850000</td>\n",
              "      <td>1.6</td>\n",
              "      <td>23</td>\n",
              "      <td>NaN</td>\n",
              "    </tr>\n",
              "  </tbody>\n",
              "</table>\n",
              "</div>"
            ],
            "text/plain": [
              "     State    County     City  ... CO 1st Max Value  CO 1st Max Hour  CO AQI\n",
              "0  Arizona  Maricopa  Phoenix  ...              4.2               21     NaN\n",
              "1  Arizona  Maricopa  Phoenix  ...              2.2               23    25.0\n",
              "2  Arizona  Maricopa  Phoenix  ...              4.2               21     NaN\n",
              "3  Arizona  Maricopa  Phoenix  ...              2.2               23    25.0\n",
              "4  Arizona  Maricopa  Phoenix  ...              1.6               23     NaN\n",
              "\n",
              "[5 rows x 20 columns]"
            ]
          },
          "metadata": {
            "tags": []
          },
          "execution_count": 11
        }
      ]
    },
    {
      "cell_type": "code",
      "metadata": {
        "id": "-s0BDNHiect5"
      },
      "source": [
        "# For this times series analysis, I am just going to stick with the air quality indicators\n",
        "pollution = pollution_df[['State', 'County', 'City', 'Date Local', 'NO2 AQI', 'O3 AQI', 'SO2 AQI', 'CO AQI']]"
      ],
      "execution_count": 12,
      "outputs": []
    },
    {
      "cell_type": "code",
      "metadata": {
        "id": "fPt4jHJLoIQP"
      },
      "source": [
        "# Dropping District of Columbia and Country of Mexico\n",
        "pollution = pollution[pollution['State'] != 'Country of Mexico']\n",
        "pollution = pollution[pollution['State'] != 'District of Columbia']"
      ],
      "execution_count": 13,
      "outputs": []
    },
    {
      "cell_type": "code",
      "metadata": {
        "id": "cyugD9O0ohGE"
      },
      "source": [
        "# For the time series analysis, changing Date Local from a string to a date format\n",
        "pollution['Date Local'] = pd.to_datetime(pollution['Date Local'], format='%Y-%m-%d')"
      ],
      "execution_count": 14,
      "outputs": []
    },
    {
      "cell_type": "markdown",
      "metadata": {
        "id": "99A57q0E-CsZ"
      },
      "source": [
        "There is quite a lot of duplicates so I am going to group by the same date and take the mean. "
      ]
    },
    {
      "cell_type": "code",
      "metadata": {
        "id": "rFtXLaXYmWg1"
      },
      "source": [
        "# Since there are a lot of duplicates in the data, I will group the data by state, county, and date\n",
        "pollution = pollution.groupby(['State', 'City', 'County', 'Date Local']).agg(np.mean).reset_index()"
      ],
      "execution_count": 15,
      "outputs": []
    },
    {
      "cell_type": "code",
      "metadata": {
        "colab": {
          "base_uri": "https://localhost:8080/",
          "height": 206
        },
        "id": "5N0YJhGu47Ss",
        "outputId": "d0dcfde7-b27a-4607-b7a0-ec94b33475cd"
      },
      "source": [
        "pollution.head()"
      ],
      "execution_count": 16,
      "outputs": [
        {
          "output_type": "execute_result",
          "data": {
            "text/html": [
              "<div>\n",
              "<style scoped>\n",
              "    .dataframe tbody tr th:only-of-type {\n",
              "        vertical-align: middle;\n",
              "    }\n",
              "\n",
              "    .dataframe tbody tr th {\n",
              "        vertical-align: top;\n",
              "    }\n",
              "\n",
              "    .dataframe thead th {\n",
              "        text-align: right;\n",
              "    }\n",
              "</style>\n",
              "<table border=\"1\" class=\"dataframe\">\n",
              "  <thead>\n",
              "    <tr style=\"text-align: right;\">\n",
              "      <th></th>\n",
              "      <th>State</th>\n",
              "      <th>City</th>\n",
              "      <th>County</th>\n",
              "      <th>Date Local</th>\n",
              "      <th>NO2 AQI</th>\n",
              "      <th>O3 AQI</th>\n",
              "      <th>SO2 AQI</th>\n",
              "      <th>CO AQI</th>\n",
              "    </tr>\n",
              "  </thead>\n",
              "  <tbody>\n",
              "    <tr>\n",
              "      <th>0</th>\n",
              "      <td>Alabama</td>\n",
              "      <td>Birmingham</td>\n",
              "      <td>Jefferson</td>\n",
              "      <td>2013-12-01</td>\n",
              "      <td>37.0</td>\n",
              "      <td>24.0</td>\n",
              "      <td>1.0</td>\n",
              "      <td>6.0</td>\n",
              "    </tr>\n",
              "    <tr>\n",
              "      <th>1</th>\n",
              "      <td>Alabama</td>\n",
              "      <td>Birmingham</td>\n",
              "      <td>Jefferson</td>\n",
              "      <td>2013-12-02</td>\n",
              "      <td>30.0</td>\n",
              "      <td>12.0</td>\n",
              "      <td>3.0</td>\n",
              "      <td>6.0</td>\n",
              "    </tr>\n",
              "    <tr>\n",
              "      <th>2</th>\n",
              "      <td>Alabama</td>\n",
              "      <td>Birmingham</td>\n",
              "      <td>Jefferson</td>\n",
              "      <td>2013-12-03</td>\n",
              "      <td>21.0</td>\n",
              "      <td>11.0</td>\n",
              "      <td>3.0</td>\n",
              "      <td>3.0</td>\n",
              "    </tr>\n",
              "    <tr>\n",
              "      <th>3</th>\n",
              "      <td>Alabama</td>\n",
              "      <td>Birmingham</td>\n",
              "      <td>Jefferson</td>\n",
              "      <td>2013-12-04</td>\n",
              "      <td>18.0</td>\n",
              "      <td>13.0</td>\n",
              "      <td>1.0</td>\n",
              "      <td>2.0</td>\n",
              "    </tr>\n",
              "    <tr>\n",
              "      <th>4</th>\n",
              "      <td>Alabama</td>\n",
              "      <td>Birmingham</td>\n",
              "      <td>Jefferson</td>\n",
              "      <td>2013-12-05</td>\n",
              "      <td>15.0</td>\n",
              "      <td>13.0</td>\n",
              "      <td>1.0</td>\n",
              "      <td>2.0</td>\n",
              "    </tr>\n",
              "  </tbody>\n",
              "</table>\n",
              "</div>"
            ],
            "text/plain": [
              "     State        City     County Date Local  NO2 AQI  O3 AQI  SO2 AQI  CO AQI\n",
              "0  Alabama  Birmingham  Jefferson 2013-12-01     37.0    24.0      1.0     6.0\n",
              "1  Alabama  Birmingham  Jefferson 2013-12-02     30.0    12.0      3.0     6.0\n",
              "2  Alabama  Birmingham  Jefferson 2013-12-03     21.0    11.0      3.0     3.0\n",
              "3  Alabama  Birmingham  Jefferson 2013-12-04     18.0    13.0      1.0     2.0\n",
              "4  Alabama  Birmingham  Jefferson 2013-12-05     15.0    13.0      1.0     2.0"
            ]
          },
          "metadata": {
            "tags": []
          },
          "execution_count": 16
        }
      ]
    },
    {
      "cell_type": "code",
      "metadata": {
        "colab": {
          "base_uri": "https://localhost:8080/"
        },
        "id": "iG5zfy8T5BfS",
        "outputId": "15a16af7-afa3-4852-8e3f-6fb6eebf459b"
      },
      "source": [
        "pollution.shape"
      ],
      "execution_count": 17,
      "outputs": [
        {
          "output_type": "execute_result",
          "data": {
            "text/plain": [
              "(392352, 8)"
            ]
          },
          "metadata": {
            "tags": []
          },
          "execution_count": 17
        }
      ]
    },
    {
      "cell_type": "markdown",
      "metadata": {
        "id": "D5qkYfY--gyv"
      },
      "source": [
        "### Feature Engineering"
      ]
    },
    {
      "cell_type": "markdown",
      "metadata": {
        "id": "b3j-oqpi-P8S"
      },
      "source": [
        "Checking the pollution min and max for each pollutant. "
      ]
    },
    {
      "cell_type": "code",
      "metadata": {
        "colab": {
          "base_uri": "https://localhost:8080/"
        },
        "id": "RDdgdygT03d9",
        "outputId": "1e5aa8a7-29ff-4e8e-eef7-2faea1fda192"
      },
      "source": [
        "min(pollution['NO2 AQI']), max(pollution['NO2 AQI'])"
      ],
      "execution_count": 18,
      "outputs": [
        {
          "output_type": "execute_result",
          "data": {
            "text/plain": [
              "(0.0, 132.0)"
            ]
          },
          "metadata": {
            "tags": []
          },
          "execution_count": 18
        }
      ]
    },
    {
      "cell_type": "code",
      "metadata": {
        "colab": {
          "base_uri": "https://localhost:8080/"
        },
        "id": "NBErSBn31Bxi",
        "outputId": "0be93152-70c6-4319-c466-d16e16570cae"
      },
      "source": [
        "min(pollution['O3 AQI']), max(pollution['O3 AQI'])"
      ],
      "execution_count": 19,
      "outputs": [
        {
          "output_type": "execute_result",
          "data": {
            "text/plain": [
              "(0.0, 218.0)"
            ]
          },
          "metadata": {
            "tags": []
          },
          "execution_count": 19
        }
      ]
    },
    {
      "cell_type": "code",
      "metadata": {
        "colab": {
          "base_uri": "https://localhost:8080/"
        },
        "id": "jmrtGRUS1F5-",
        "outputId": "c1f06b05-7d7c-47ed-e5e4-791edffaa6a4"
      },
      "source": [
        "min(pollution['SO2 AQI']), max(pollution['SO2 AQI'])"
      ],
      "execution_count": 20,
      "outputs": [
        {
          "output_type": "execute_result",
          "data": {
            "text/plain": [
              "(0.0, 200.0)"
            ]
          },
          "metadata": {
            "tags": []
          },
          "execution_count": 20
        }
      ]
    },
    {
      "cell_type": "code",
      "metadata": {
        "colab": {
          "base_uri": "https://localhost:8080/"
        },
        "id": "4SKlg-i01HpX",
        "outputId": "099f3eae-5d66-49dd-87ad-6ec0e15737b5"
      },
      "source": [
        "min(pollution['CO AQI']), max(pollution['CO AQI'])"
      ],
      "execution_count": 21,
      "outputs": [
        {
          "output_type": "execute_result",
          "data": {
            "text/plain": [
              "(0.0, 201.0)"
            ]
          },
          "metadata": {
            "tags": []
          },
          "execution_count": 21
        }
      ]
    },
    {
      "cell_type": "code",
      "metadata": {
        "colab": {
          "base_uri": "https://localhost:8080/"
        },
        "id": "67rSv8693pmf",
        "outputId": "19873b3d-60b5-411a-8138-2371206c6ce7"
      },
      "source": [
        "pollution[['State','City']].nunique()"
      ],
      "execution_count": 22,
      "outputs": [
        {
          "output_type": "execute_result",
          "data": {
            "text/plain": [
              "State     47\n",
              "City     144\n",
              "dtype: int64"
            ]
          },
          "metadata": {
            "tags": []
          },
          "execution_count": 22
        }
      ]
    },
    {
      "cell_type": "markdown",
      "metadata": {
        "id": "MeitKvFy-rSS"
      },
      "source": [
        "This is information from AirNow \n",
        "\n",
        "https://www.airnow.gov/aqi/aqi-basics/\n",
        "\n",
        "I am creating another column that finds the largest number of the pollutants and utilizing the AQI index, and then returning a level of concern. "
      ]
    },
    {
      "cell_type": "markdown",
      "metadata": {
        "id": "QIX0hfV_80K9"
      },
      "source": [
        "![aqi_index.png](data:image/png;base64,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)"
      ]
    },
    {
      "cell_type": "code",
      "metadata": {
        "id": "ZLZJThse8e4k"
      },
      "source": [
        "pollution['Index'] = pollution[['NO2 AQI','O3 AQI','SO2 AQI','CO AQI']].values.max(1)"
      ],
      "execution_count": 23,
      "outputs": []
    },
    {
      "cell_type": "code",
      "metadata": {
        "id": "k5kHsCA-Doen"
      },
      "source": [
        "def aqi(row):\n",
        "# Separating values into levels of concerns\n",
        "  if 0 <= row['Index'] <= 50:\n",
        "    val = 'Good'\n",
        "  elif 51 <= row['Index'] <= 100:\n",
        "    val = 'Moderate'\n",
        "  elif 101 <= row['Index'] <= 150:\n",
        "    val = 'Unhealthy for Some'\n",
        "  elif 151 <= row['Index'] <= 200:\n",
        "    val = 'Unhealthy'\n",
        "  elif 201 <= row['Index'] <= 300:\n",
        "    val = 'Very Unhealthy'\n",
        "  else:\n",
        "    val = 'Hazardous'\n",
        "\n",
        "  return val"
      ],
      "execution_count": 24,
      "outputs": []
    },
    {
      "cell_type": "code",
      "metadata": {
        "id": "oVCjoOUBG5qe"
      },
      "source": [
        "pollution['Level of Concern'] = pollution.apply(aqi, axis=1)"
      ],
      "execution_count": 25,
      "outputs": []
    },
    {
      "cell_type": "code",
      "metadata": {
        "colab": {
          "base_uri": "https://localhost:8080/",
          "height": 206
        },
        "id": "0oJJNynXDjiE",
        "outputId": "d575da4a-fd35-498e-e48b-b07f69cdbd85"
      },
      "source": [
        "pollution.head()"
      ],
      "execution_count": 26,
      "outputs": [
        {
          "output_type": "execute_result",
          "data": {
            "text/html": [
              "<div>\n",
              "<style scoped>\n",
              "    .dataframe tbody tr th:only-of-type {\n",
              "        vertical-align: middle;\n",
              "    }\n",
              "\n",
              "    .dataframe tbody tr th {\n",
              "        vertical-align: top;\n",
              "    }\n",
              "\n",
              "    .dataframe thead th {\n",
              "        text-align: right;\n",
              "    }\n",
              "</style>\n",
              "<table border=\"1\" class=\"dataframe\">\n",
              "  <thead>\n",
              "    <tr style=\"text-align: right;\">\n",
              "      <th></th>\n",
              "      <th>State</th>\n",
              "      <th>City</th>\n",
              "      <th>County</th>\n",
              "      <th>Date Local</th>\n",
              "      <th>NO2 AQI</th>\n",
              "      <th>O3 AQI</th>\n",
              "      <th>SO2 AQI</th>\n",
              "      <th>CO AQI</th>\n",
              "      <th>Index</th>\n",
              "      <th>Level of Concern</th>\n",
              "    </tr>\n",
              "  </thead>\n",
              "  <tbody>\n",
              "    <tr>\n",
              "      <th>0</th>\n",
              "      <td>Alabama</td>\n",
              "      <td>Birmingham</td>\n",
              "      <td>Jefferson</td>\n",
              "      <td>2013-12-01</td>\n",
              "      <td>37.0</td>\n",
              "      <td>24.0</td>\n",
              "      <td>1.0</td>\n",
              "      <td>6.0</td>\n",
              "      <td>37.0</td>\n",
              "      <td>Good</td>\n",
              "    </tr>\n",
              "    <tr>\n",
              "      <th>1</th>\n",
              "      <td>Alabama</td>\n",
              "      <td>Birmingham</td>\n",
              "      <td>Jefferson</td>\n",
              "      <td>2013-12-02</td>\n",
              "      <td>30.0</td>\n",
              "      <td>12.0</td>\n",
              "      <td>3.0</td>\n",
              "      <td>6.0</td>\n",
              "      <td>30.0</td>\n",
              "      <td>Good</td>\n",
              "    </tr>\n",
              "    <tr>\n",
              "      <th>2</th>\n",
              "      <td>Alabama</td>\n",
              "      <td>Birmingham</td>\n",
              "      <td>Jefferson</td>\n",
              "      <td>2013-12-03</td>\n",
              "      <td>21.0</td>\n",
              "      <td>11.0</td>\n",
              "      <td>3.0</td>\n",
              "      <td>3.0</td>\n",
              "      <td>21.0</td>\n",
              "      <td>Good</td>\n",
              "    </tr>\n",
              "    <tr>\n",
              "      <th>3</th>\n",
              "      <td>Alabama</td>\n",
              "      <td>Birmingham</td>\n",
              "      <td>Jefferson</td>\n",
              "      <td>2013-12-04</td>\n",
              "      <td>18.0</td>\n",
              "      <td>13.0</td>\n",
              "      <td>1.0</td>\n",
              "      <td>2.0</td>\n",
              "      <td>18.0</td>\n",
              "      <td>Good</td>\n",
              "    </tr>\n",
              "    <tr>\n",
              "      <th>4</th>\n",
              "      <td>Alabama</td>\n",
              "      <td>Birmingham</td>\n",
              "      <td>Jefferson</td>\n",
              "      <td>2013-12-05</td>\n",
              "      <td>15.0</td>\n",
              "      <td>13.0</td>\n",
              "      <td>1.0</td>\n",
              "      <td>2.0</td>\n",
              "      <td>15.0</td>\n",
              "      <td>Good</td>\n",
              "    </tr>\n",
              "  </tbody>\n",
              "</table>\n",
              "</div>"
            ],
            "text/plain": [
              "     State        City     County  ... CO AQI  Index  Level of Concern\n",
              "0  Alabama  Birmingham  Jefferson  ...    6.0   37.0              Good\n",
              "1  Alabama  Birmingham  Jefferson  ...    6.0   30.0              Good\n",
              "2  Alabama  Birmingham  Jefferson  ...    3.0   21.0              Good\n",
              "3  Alabama  Birmingham  Jefferson  ...    2.0   18.0              Good\n",
              "4  Alabama  Birmingham  Jefferson  ...    2.0   15.0              Good\n",
              "\n",
              "[5 rows x 10 columns]"
            ]
          },
          "metadata": {
            "tags": []
          },
          "execution_count": 26
        }
      ]
    },
    {
      "cell_type": "markdown",
      "metadata": {
        "id": "kqXZZaqEIj7W"
      },
      "source": [
        "### Cleaned Data"
      ]
    },
    {
      "cell_type": "code",
      "metadata": {
        "id": "1c4F345NIrWt"
      },
      "source": [
        "pollution.to_csv('pollution.csv')"
      ],
      "execution_count": 27,
      "outputs": []
    },
    {
      "cell_type": "code",
      "metadata": {
        "id": "K_4hJihCJ1v4"
      },
      "source": [
        "!cp pollution.csv \"drive/My Drive/\""
      ],
      "execution_count": 28,
      "outputs": []
    },
    {
      "cell_type": "markdown",
      "metadata": {
        "id": "MJjyCmJ2Imre"
      },
      "source": [
        "### Summary Data\n",
        "\n",
        "Creating an aggregate of all dates as a summary data to create a unified dataset"
      ]
    },
    {
      "cell_type": "code",
      "metadata": {
        "id": "xH6LgMBAIYWQ"
      },
      "source": [
        "summary = pollution.groupby(['State', 'City', 'County', ]).agg(np.mean).reset_index()\n",
        "summary[['NO2 AQI','O3 AQI','SO2 AQI','CO AQI']] = summary[['NO2 AQI','O3 AQI','SO2 AQI','CO AQI']].round(2)"
      ],
      "execution_count": 29,
      "outputs": []
    },
    {
      "cell_type": "code",
      "metadata": {
        "id": "aB0lGpfsJelm"
      },
      "source": [
        "summary['Index'] = summary[['NO2 AQI','O3 AQI','SO2 AQI','CO AQI']].values.max(1)"
      ],
      "execution_count": 30,
      "outputs": []
    },
    {
      "cell_type": "code",
      "metadata": {
        "id": "Rhh1KjrmJlNl"
      },
      "source": [
        "summary['Level of Concern'] = summary.apply(aqi, axis=1)"
      ],
      "execution_count": 31,
      "outputs": []
    },
    {
      "cell_type": "code",
      "metadata": {
        "colab": {
          "base_uri": "https://localhost:8080/",
          "height": 206
        },
        "id": "YlcfNpDKI5oA",
        "outputId": "3c1cd4bc-8794-49ae-b64a-d64914cfaca1"
      },
      "source": [
        "summary.head()"
      ],
      "execution_count": 32,
      "outputs": [
        {
          "output_type": "execute_result",
          "data": {
            "text/html": [
              "<div>\n",
              "<style scoped>\n",
              "    .dataframe tbody tr th:only-of-type {\n",
              "        vertical-align: middle;\n",
              "    }\n",
              "\n",
              "    .dataframe tbody tr th {\n",
              "        vertical-align: top;\n",
              "    }\n",
              "\n",
              "    .dataframe thead th {\n",
              "        text-align: right;\n",
              "    }\n",
              "</style>\n",
              "<table border=\"1\" class=\"dataframe\">\n",
              "  <thead>\n",
              "    <tr style=\"text-align: right;\">\n",
              "      <th></th>\n",
              "      <th>State</th>\n",
              "      <th>City</th>\n",
              "      <th>County</th>\n",
              "      <th>NO2 AQI</th>\n",
              "      <th>O3 AQI</th>\n",
              "      <th>SO2 AQI</th>\n",
              "      <th>CO AQI</th>\n",
              "      <th>Index</th>\n",
              "      <th>Level of Concern</th>\n",
              "    </tr>\n",
              "  </thead>\n",
              "  <tbody>\n",
              "    <tr>\n",
              "      <th>0</th>\n",
              "      <td>Alabama</td>\n",
              "      <td>Birmingham</td>\n",
              "      <td>Jefferson</td>\n",
              "      <td>21.23</td>\n",
              "      <td>36.83</td>\n",
              "      <td>7.01</td>\n",
              "      <td>3.85</td>\n",
              "      <td>36.83</td>\n",
              "      <td>Good</td>\n",
              "    </tr>\n",
              "    <tr>\n",
              "      <th>1</th>\n",
              "      <td>Alaska</td>\n",
              "      <td>Fairbanks</td>\n",
              "      <td>Fairbanks North Star</td>\n",
              "      <td>19.58</td>\n",
              "      <td>17.71</td>\n",
              "      <td>14.51</td>\n",
              "      <td>6.53</td>\n",
              "      <td>19.58</td>\n",
              "      <td>Good</td>\n",
              "    </tr>\n",
              "    <tr>\n",
              "      <th>2</th>\n",
              "      <td>Arizona</td>\n",
              "      <td>Phoenix</td>\n",
              "      <td>Maricopa</td>\n",
              "      <td>40.96</td>\n",
              "      <td>40.32</td>\n",
              "      <td>5.44</td>\n",
              "      <td>11.79</td>\n",
              "      <td>40.96</td>\n",
              "      <td>Good</td>\n",
              "    </tr>\n",
              "    <tr>\n",
              "      <th>3</th>\n",
              "      <td>Arizona</td>\n",
              "      <td>Scottsdale</td>\n",
              "      <td>Maricopa</td>\n",
              "      <td>41.99</td>\n",
              "      <td>31.46</td>\n",
              "      <td>4.53</td>\n",
              "      <td>11.45</td>\n",
              "      <td>41.99</td>\n",
              "      <td>Good</td>\n",
              "    </tr>\n",
              "    <tr>\n",
              "      <th>4</th>\n",
              "      <td>Arizona</td>\n",
              "      <td>Tucson</td>\n",
              "      <td>Pima</td>\n",
              "      <td>27.81</td>\n",
              "      <td>38.50</td>\n",
              "      <td>2.96</td>\n",
              "      <td>5.33</td>\n",
              "      <td>38.50</td>\n",
              "      <td>Good</td>\n",
              "    </tr>\n",
              "  </tbody>\n",
              "</table>\n",
              "</div>"
            ],
            "text/plain": [
              "     State        City                 County  ...  CO AQI  Index  Level of Concern\n",
              "0  Alabama  Birmingham              Jefferson  ...    3.85  36.83              Good\n",
              "1   Alaska   Fairbanks  Fairbanks North Star   ...    6.53  19.58              Good\n",
              "2  Arizona     Phoenix               Maricopa  ...   11.79  40.96              Good\n",
              "3  Arizona  Scottsdale               Maricopa  ...   11.45  41.99              Good\n",
              "4  Arizona      Tucson                   Pima  ...    5.33  38.50              Good\n",
              "\n",
              "[5 rows x 9 columns]"
            ]
          },
          "metadata": {
            "tags": []
          },
          "execution_count": 32
        }
      ]
    },
    {
      "cell_type": "code",
      "metadata": {
        "id": "TvREbtIk53W1"
      },
      "source": [
        "summary.to_csv('pollution_summary.csv')"
      ],
      "execution_count": 33,
      "outputs": []
    },
    {
      "cell_type": "code",
      "metadata": {
        "id": "WQvjQzoVJ_EJ"
      },
      "source": [
        "!cp pollution_summary.csv \"drive/My Drive/\""
      ],
      "execution_count": 34,
      "outputs": []
    }
  ]
}