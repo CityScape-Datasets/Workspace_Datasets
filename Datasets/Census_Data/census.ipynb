{
  "nbformat": 4,
  "nbformat_minor": 0,
  "metadata": {
    "colab": {
      "name": "census.ipynb",
      "provenance": [],
      "collapsed_sections": []
    },
    "kernelspec": {
      "display_name": "Python 3",
      "language": "python",
      "name": "python3"
    },
    "language_info": {
      "codemirror_mode": {
        "name": "ipython",
        "version": 3
      },
      "file_extension": ".py",
      "mimetype": "text/x-python",
      "name": "python",
      "nbconvert_exporter": "python",
      "pygments_lexer": "ipython3",
      "version": "3.8.6"
    }
  },
  "cells": [
    {
      "cell_type": "markdown",
      "metadata": {
        "id": "GFuzZJpj-lkX"
      },
      "source": [
        "# CENSUS DATA\n"
      ]
    },
    {
      "cell_type": "markdown",
      "metadata": {
        "id": "wyq60YZ05wIK"
      },
      "source": [
        "Assumptions:\n",
        "- When getting demographic info, assumed the percentages were from the total population\n",
        "- With employment related statistics, assumed the percentages were from the total employed."
      ]
    },
    {
      "cell_type": "markdown",
      "metadata": {
        "id": "RYwfKxUx-h1T"
      },
      "source": [
        "# EDA"
      ]
    },
    {
      "cell_type": "markdown",
      "metadata": {
        "id": "K8LjMM6n-rh_"
      },
      "source": [
        "## Data Exploration"
      ]
    },
    {
      "cell_type": "code",
      "metadata": {
        "id": "4gbRQmcq0gKJ"
      },
      "source": [
        "import pandas as pd\n",
        "import numpy as np\n",
        "\n",
        "pd.set_option('display.max_columns', None)"
      ],
      "execution_count": 1,
      "outputs": []
    },
    {
      "cell_type": "code",
      "metadata": {
        "id": "Ygap33Pi4E7Y"
      },
      "source": [
        "import os"
      ],
      "execution_count": 2,
      "outputs": []
    },
    {
      "cell_type": "code",
      "metadata": {
        "id": "3fWAQXGe4E7Z"
      },
      "source": [
        "path = os.getcwd()"
      ],
      "execution_count": 3,
      "outputs": []
    },
    {
      "cell_type": "markdown",
      "metadata": {
        "id": "T_JRrF9jmJeo"
      },
      "source": [
        "### Import data"
      ]
    },
    {
      "cell_type": "markdown",
      "metadata": {
        "id": "9FTdVfIqq-qO"
      },
      "source": [
        "##### Zip Code Data\n",
        "- using for city information"
      ]
    },
    {
      "cell_type": "code",
      "metadata": {
        "id": "AlA3BBGQ4E7i"
      },
      "source": [
        "uszip_filename = os.path.join(path, 'workspace/uszips.csv')"
      ],
      "execution_count": 4,
      "outputs": []
    },
    {
      "cell_type": "code",
      "metadata": {
        "id": "Ijp1h_jU4E7j"
      },
      "source": [
        "uszip = pd.read_csv(uszip_filename)"
      ],
      "execution_count": 5,
      "outputs": []
    },
    {
      "cell_type": "code",
      "metadata": {
        "colab": {
          "base_uri": "https://localhost:8080/",
          "height": 313
        },
        "id": "abjNE0DMJfVY",
        "outputId": "933be457-a50f-4e7c-9e84-bd589301426b"
      },
      "source": [
        "print(uszip.shape)\n",
        "uszip.head()"
      ],
      "execution_count": 6,
      "outputs": [
        {
          "output_type": "stream",
          "name": "stdout",
          "text": [
            "(33121, 18)\n"
          ]
        },
        {
          "output_type": "execute_result",
          "data": {
            "text/plain": [
              "   zip       lat       lng       city state_id   state_name  zcta  \\\n",
              "0  601  18.18005 -66.75218   Adjuntas       PR  Puerto Rico  True   \n",
              "1  602  18.36074 -67.17519     Aguada       PR  Puerto Rico  True   \n",
              "2  603  18.45440 -67.12201  Aguadilla       PR  Puerto Rico  True   \n",
              "3  606  18.16721 -66.93828    Maricao       PR  Puerto Rico  True   \n",
              "4  610  18.29032 -67.12244     Anasco       PR  Puerto Rico  True   \n",
              "\n",
              "   parent_zcta  population  density  county_fips county_name  \\\n",
              "0          NaN     17113.0    102.7        72001    Adjuntas   \n",
              "1          NaN     37751.0    476.0        72003      Aguada   \n",
              "2          NaN     47081.0    574.9        72005   Aguadilla   \n",
              "3          NaN      6392.0     58.3        72093     Maricao   \n",
              "4          NaN     26686.0    286.9        72011      Añasco   \n",
              "\n",
              "                                      county_weights  \\\n",
              "0                {\"72001\": \"99.43\", \"72141\": \"0.57\"}   \n",
              "1                                   {\"72003\": \"100\"}   \n",
              "2                                   {\"72005\": \"100\"}   \n",
              "3  {\"72093\": \"94.88\", \"72153\": \"3.78\", \"72121\": \"...   \n",
              "4                {\"72011\": \"99.45\", \"72003\": \"0.55\"}   \n",
              "\n",
              "              county_names_all    county_fips_all  imprecise  military  \\\n",
              "0              Adjuntas|Utuado        72001|72141      False     False   \n",
              "1                       Aguada              72003      False     False   \n",
              "2                    Aguadilla              72005      False     False   \n",
              "3  Maricao|Yauco|Sabana Grande  72093|72153|72121      False     False   \n",
              "4                Añasco|Aguada        72011|72003      False     False   \n",
              "\n",
              "              timezone  \n",
              "0  America/Puerto_Rico  \n",
              "1  America/Puerto_Rico  \n",
              "2  America/Puerto_Rico  \n",
              "3  America/Puerto_Rico  \n",
              "4  America/Puerto_Rico  "
            ],
            "text/html": "<div>\n<style scoped>\n    .dataframe tbody tr th:only-of-type {\n        vertical-align: middle;\n    }\n\n    .dataframe tbody tr th {\n        vertical-align: top;\n    }\n\n    .dataframe thead th {\n        text-align: right;\n    }\n</style>\n<table border=\"1\" class=\"dataframe\">\n  <thead>\n    <tr style=\"text-align: right;\">\n      <th></th>\n      <th>zip</th>\n      <th>lat</th>\n      <th>lng</th>\n      <th>city</th>\n      <th>state_id</th>\n      <th>state_name</th>\n      <th>zcta</th>\n      <th>parent_zcta</th>\n      <th>population</th>\n      <th>density</th>\n      <th>county_fips</th>\n      <th>county_name</th>\n      <th>county_weights</th>\n      <th>county_names_all</th>\n      <th>county_fips_all</th>\n      <th>imprecise</th>\n      <th>military</th>\n      <th>timezone</th>\n    </tr>\n  </thead>\n  <tbody>\n    <tr>\n      <th>0</th>\n      <td>601</td>\n      <td>18.18005</td>\n      <td>-66.75218</td>\n      <td>Adjuntas</td>\n      <td>PR</td>\n      <td>Puerto Rico</td>\n      <td>True</td>\n      <td>NaN</td>\n      <td>17113.0</td>\n      <td>102.7</td>\n      <td>72001</td>\n      <td>Adjuntas</td>\n      <td>{\"72001\": \"99.43\", \"72141\": \"0.57\"}</td>\n      <td>Adjuntas|Utuado</td>\n      <td>72001|72141</td>\n      <td>False</td>\n      <td>False</td>\n      <td>America/Puerto_Rico</td>\n    </tr>\n    <tr>\n      <th>1</th>\n      <td>602</td>\n      <td>18.36074</td>\n      <td>-67.17519</td>\n      <td>Aguada</td>\n      <td>PR</td>\n      <td>Puerto Rico</td>\n      <td>True</td>\n      <td>NaN</td>\n      <td>37751.0</td>\n      <td>476.0</td>\n      <td>72003</td>\n      <td>Aguada</td>\n      <td>{\"72003\": \"100\"}</td>\n      <td>Aguada</td>\n      <td>72003</td>\n      <td>False</td>\n      <td>False</td>\n      <td>America/Puerto_Rico</td>\n    </tr>\n    <tr>\n      <th>2</th>\n      <td>603</td>\n      <td>18.45440</td>\n      <td>-67.12201</td>\n      <td>Aguadilla</td>\n      <td>PR</td>\n      <td>Puerto Rico</td>\n      <td>True</td>\n      <td>NaN</td>\n      <td>47081.0</td>\n      <td>574.9</td>\n      <td>72005</td>\n      <td>Aguadilla</td>\n      <td>{\"72005\": \"100\"}</td>\n      <td>Aguadilla</td>\n      <td>72005</td>\n      <td>False</td>\n      <td>False</td>\n      <td>America/Puerto_Rico</td>\n    </tr>\n    <tr>\n      <th>3</th>\n      <td>606</td>\n      <td>18.16721</td>\n      <td>-66.93828</td>\n      <td>Maricao</td>\n      <td>PR</td>\n      <td>Puerto Rico</td>\n      <td>True</td>\n      <td>NaN</td>\n      <td>6392.0</td>\n      <td>58.3</td>\n      <td>72093</td>\n      <td>Maricao</td>\n      <td>{\"72093\": \"94.88\", \"72153\": \"3.78\", \"72121\": \"...</td>\n      <td>Maricao|Yauco|Sabana Grande</td>\n      <td>72093|72153|72121</td>\n      <td>False</td>\n      <td>False</td>\n      <td>America/Puerto_Rico</td>\n    </tr>\n    <tr>\n      <th>4</th>\n      <td>610</td>\n      <td>18.29032</td>\n      <td>-67.12244</td>\n      <td>Anasco</td>\n      <td>PR</td>\n      <td>Puerto Rico</td>\n      <td>True</td>\n      <td>NaN</td>\n      <td>26686.0</td>\n      <td>286.9</td>\n      <td>72011</td>\n      <td>Añasco</td>\n      <td>{\"72011\": \"99.45\", \"72003\": \"0.55\"}</td>\n      <td>Añasco|Aguada</td>\n      <td>72011|72003</td>\n      <td>False</td>\n      <td>False</td>\n      <td>America/Puerto_Rico</td>\n    </tr>\n  </tbody>\n</table>\n</div>"
          },
          "metadata": {},
          "execution_count": 6
        }
      ]
    },
    {
      "cell_type": "code",
      "metadata": {
        "id": "Q5kLKAyWJssz"
      },
      "source": [
        "uszip['zip'] = uszip['zip'].astype('str').str.zfill(5)"
      ],
      "execution_count": 7,
      "outputs": []
    },
    {
      "cell_type": "code",
      "metadata": {
        "colab": {
          "base_uri": "https://localhost:8080/"
        },
        "id": "quCah8CQM-n4",
        "outputId": "ea7a1a6e-1f18-4e5c-fa6c-5cea69277332"
      },
      "source": [
        "uszip['zip'].nunique()"
      ],
      "execution_count": 8,
      "outputs": [
        {
          "output_type": "execute_result",
          "data": {
            "text/plain": [
              "33121"
            ]
          },
          "metadata": {},
          "execution_count": 8
        }
      ]
    },
    {
      "cell_type": "markdown",
      "metadata": {
        "id": "6m0ZIuizrFA5"
      },
      "source": [
        "##### Census \n",
        "- Contains population, demographic, poverty, and employment data by tract"
      ]
    },
    {
      "cell_type": "code",
      "metadata": {
        "id": "cnEnTdtE4E7w"
      },
      "source": [
        "census_filename = os.path.join(path, 'workspace/acs2017_census_tract_data.csv')"
      ],
      "execution_count": 9,
      "outputs": []
    },
    {
      "cell_type": "code",
      "metadata": {
        "colab": {
          "base_uri": "https://localhost:8080/",
          "height": 330
        },
        "id": "9YsioUqT1XDn",
        "outputId": "2e0a6abc-b337-4b09-e16a-29b492556036"
      },
      "source": [
        "df = pd.read_csv(census_filename)\n",
        "print(df.shape)\n",
        "df.head()"
      ],
      "execution_count": 10,
      "outputs": [
        {
          "output_type": "stream",
          "name": "stdout",
          "text": [
            "(74001, 37)\n"
          ]
        },
        {
          "output_type": "execute_result",
          "data": {
            "text/plain": [
              "      TractId    State          County  TotalPop   Men  Women  Hispanic  \\\n",
              "0  1001020100  Alabama  Autauga County      1845   899    946       2.4   \n",
              "1  1001020200  Alabama  Autauga County      2172  1167   1005       1.1   \n",
              "2  1001020300  Alabama  Autauga County      3385  1533   1852       8.0   \n",
              "3  1001020400  Alabama  Autauga County      4267  2001   2266       9.6   \n",
              "4  1001020500  Alabama  Autauga County      9965  5054   4911       0.9   \n",
              "\n",
              "   White  Black  Native  Asian  Pacific  VotingAgeCitizen   Income  IncomeErr  \\\n",
              "0   86.3    5.2     0.0    1.2      0.0              1407  67826.0    14560.0   \n",
              "1   41.6   54.5     0.0    1.0      0.0              1652  41287.0     3819.0   \n",
              "2   61.4   26.5     0.6    0.7      0.4              2480  46806.0     9496.0   \n",
              "3   80.3    7.1     0.5    0.2      0.0              3257  55895.0     4369.0   \n",
              "4   77.5   16.4     0.0    3.1      0.0              7229  68143.0    14424.0   \n",
              "\n",
              "   IncomePerCap  IncomePerCapErr  Poverty  ChildPoverty  Professional  \\\n",
              "0       33018.0           6294.0     10.7          20.8          38.5   \n",
              "1       18996.0           2453.0     22.4          35.8          30.5   \n",
              "2       21236.0           2562.0     14.7          21.1          27.9   \n",
              "3       28068.0           3190.0      2.3           1.7          29.0   \n",
              "4       36905.0          10706.0     12.2          17.9          48.8   \n",
              "\n",
              "   Service  Office  Construction  Production  Drive  Carpool  Transit  Walk  \\\n",
              "0     15.6    22.8          10.8        12.4   94.2      3.3      0.0   0.5   \n",
              "1     24.9    22.9           6.3        15.4   90.5      9.1      0.0   0.0   \n",
              "2     19.4    33.3           9.9         9.6   88.3      8.4      0.0   1.0   \n",
              "3     16.6    25.8           9.1        19.5   82.3     11.2      0.0   1.5   \n",
              "4     13.8    20.5           3.5        13.4   86.9     11.2      0.0   0.8   \n",
              "\n",
              "   OtherTransp  WorkAtHome  MeanCommute  Employed  PrivateWork  PublicWork  \\\n",
              "0          0.0         2.1         24.5       881         74.2        21.2   \n",
              "1          0.5         0.0         22.2       852         75.9        15.0   \n",
              "2          0.8         1.5         23.1      1482         73.3        21.1   \n",
              "3          2.9         2.1         25.9      1849         75.8        19.7   \n",
              "4          0.3         0.7         21.0      4787         71.4        24.1   \n",
              "\n",
              "   SelfEmployed  FamilyWork  Unemployment  \n",
              "0           4.5         0.0           4.6  \n",
              "1           9.0         0.0           3.4  \n",
              "2           4.8         0.7           4.7  \n",
              "3           4.5         0.0           6.1  \n",
              "4           4.5         0.0           2.3  "
            ],
            "text/html": "<div>\n<style scoped>\n    .dataframe tbody tr th:only-of-type {\n        vertical-align: middle;\n    }\n\n    .dataframe tbody tr th {\n        vertical-align: top;\n    }\n\n    .dataframe thead th {\n        text-align: right;\n    }\n</style>\n<table border=\"1\" class=\"dataframe\">\n  <thead>\n    <tr style=\"text-align: right;\">\n      <th></th>\n      <th>TractId</th>\n      <th>State</th>\n      <th>County</th>\n      <th>TotalPop</th>\n      <th>Men</th>\n      <th>Women</th>\n      <th>Hispanic</th>\n      <th>White</th>\n      <th>Black</th>\n      <th>Native</th>\n      <th>Asian</th>\n      <th>Pacific</th>\n      <th>VotingAgeCitizen</th>\n      <th>Income</th>\n      <th>IncomeErr</th>\n      <th>IncomePerCap</th>\n      <th>IncomePerCapErr</th>\n      <th>Poverty</th>\n      <th>ChildPoverty</th>\n      <th>Professional</th>\n      <th>Service</th>\n      <th>Office</th>\n      <th>Construction</th>\n      <th>Production</th>\n      <th>Drive</th>\n      <th>Carpool</th>\n      <th>Transit</th>\n      <th>Walk</th>\n      <th>OtherTransp</th>\n      <th>WorkAtHome</th>\n      <th>MeanCommute</th>\n      <th>Employed</th>\n      <th>PrivateWork</th>\n      <th>PublicWork</th>\n      <th>SelfEmployed</th>\n      <th>FamilyWork</th>\n      <th>Unemployment</th>\n    </tr>\n  </thead>\n  <tbody>\n    <tr>\n      <th>0</th>\n      <td>1001020100</td>\n      <td>Alabama</td>\n      <td>Autauga County</td>\n      <td>1845</td>\n      <td>899</td>\n      <td>946</td>\n      <td>2.4</td>\n      <td>86.3</td>\n      <td>5.2</td>\n      <td>0.0</td>\n      <td>1.2</td>\n      <td>0.0</td>\n      <td>1407</td>\n      <td>67826.0</td>\n      <td>14560.0</td>\n      <td>33018.0</td>\n      <td>6294.0</td>\n      <td>10.7</td>\n      <td>20.8</td>\n      <td>38.5</td>\n      <td>15.6</td>\n      <td>22.8</td>\n      <td>10.8</td>\n      <td>12.4</td>\n      <td>94.2</td>\n      <td>3.3</td>\n      <td>0.0</td>\n      <td>0.5</td>\n      <td>0.0</td>\n      <td>2.1</td>\n      <td>24.5</td>\n      <td>881</td>\n      <td>74.2</td>\n      <td>21.2</td>\n      <td>4.5</td>\n      <td>0.0</td>\n      <td>4.6</td>\n    </tr>\n    <tr>\n      <th>1</th>\n      <td>1001020200</td>\n      <td>Alabama</td>\n      <td>Autauga County</td>\n      <td>2172</td>\n      <td>1167</td>\n      <td>1005</td>\n      <td>1.1</td>\n      <td>41.6</td>\n      <td>54.5</td>\n      <td>0.0</td>\n      <td>1.0</td>\n      <td>0.0</td>\n      <td>1652</td>\n      <td>41287.0</td>\n      <td>3819.0</td>\n      <td>18996.0</td>\n      <td>2453.0</td>\n      <td>22.4</td>\n      <td>35.8</td>\n      <td>30.5</td>\n      <td>24.9</td>\n      <td>22.9</td>\n      <td>6.3</td>\n      <td>15.4</td>\n      <td>90.5</td>\n      <td>9.1</td>\n      <td>0.0</td>\n      <td>0.0</td>\n      <td>0.5</td>\n      <td>0.0</td>\n      <td>22.2</td>\n      <td>852</td>\n      <td>75.9</td>\n      <td>15.0</td>\n      <td>9.0</td>\n      <td>0.0</td>\n      <td>3.4</td>\n    </tr>\n    <tr>\n      <th>2</th>\n      <td>1001020300</td>\n      <td>Alabama</td>\n      <td>Autauga County</td>\n      <td>3385</td>\n      <td>1533</td>\n      <td>1852</td>\n      <td>8.0</td>\n      <td>61.4</td>\n      <td>26.5</td>\n      <td>0.6</td>\n      <td>0.7</td>\n      <td>0.4</td>\n      <td>2480</td>\n      <td>46806.0</td>\n      <td>9496.0</td>\n      <td>21236.0</td>\n      <td>2562.0</td>\n      <td>14.7</td>\n      <td>21.1</td>\n      <td>27.9</td>\n      <td>19.4</td>\n      <td>33.3</td>\n      <td>9.9</td>\n      <td>9.6</td>\n      <td>88.3</td>\n      <td>8.4</td>\n      <td>0.0</td>\n      <td>1.0</td>\n      <td>0.8</td>\n      <td>1.5</td>\n      <td>23.1</td>\n      <td>1482</td>\n      <td>73.3</td>\n      <td>21.1</td>\n      <td>4.8</td>\n      <td>0.7</td>\n      <td>4.7</td>\n    </tr>\n    <tr>\n      <th>3</th>\n      <td>1001020400</td>\n      <td>Alabama</td>\n      <td>Autauga County</td>\n      <td>4267</td>\n      <td>2001</td>\n      <td>2266</td>\n      <td>9.6</td>\n      <td>80.3</td>\n      <td>7.1</td>\n      <td>0.5</td>\n      <td>0.2</td>\n      <td>0.0</td>\n      <td>3257</td>\n      <td>55895.0</td>\n      <td>4369.0</td>\n      <td>28068.0</td>\n      <td>3190.0</td>\n      <td>2.3</td>\n      <td>1.7</td>\n      <td>29.0</td>\n      <td>16.6</td>\n      <td>25.8</td>\n      <td>9.1</td>\n      <td>19.5</td>\n      <td>82.3</td>\n      <td>11.2</td>\n      <td>0.0</td>\n      <td>1.5</td>\n      <td>2.9</td>\n      <td>2.1</td>\n      <td>25.9</td>\n      <td>1849</td>\n      <td>75.8</td>\n      <td>19.7</td>\n      <td>4.5</td>\n      <td>0.0</td>\n      <td>6.1</td>\n    </tr>\n    <tr>\n      <th>4</th>\n      <td>1001020500</td>\n      <td>Alabama</td>\n      <td>Autauga County</td>\n      <td>9965</td>\n      <td>5054</td>\n      <td>4911</td>\n      <td>0.9</td>\n      <td>77.5</td>\n      <td>16.4</td>\n      <td>0.0</td>\n      <td>3.1</td>\n      <td>0.0</td>\n      <td>7229</td>\n      <td>68143.0</td>\n      <td>14424.0</td>\n      <td>36905.0</td>\n      <td>10706.0</td>\n      <td>12.2</td>\n      <td>17.9</td>\n      <td>48.8</td>\n      <td>13.8</td>\n      <td>20.5</td>\n      <td>3.5</td>\n      <td>13.4</td>\n      <td>86.9</td>\n      <td>11.2</td>\n      <td>0.0</td>\n      <td>0.8</td>\n      <td>0.3</td>\n      <td>0.7</td>\n      <td>21.0</td>\n      <td>4787</td>\n      <td>71.4</td>\n      <td>24.1</td>\n      <td>4.5</td>\n      <td>0.0</td>\n      <td>2.3</td>\n    </tr>\n  </tbody>\n</table>\n</div>"
          },
          "metadata": {},
          "execution_count": 10
        }
      ]
    },
    {
      "cell_type": "code",
      "metadata": {
        "colab": {
          "base_uri": "https://localhost:8080/"
        },
        "id": "lfyceowRO5rB",
        "outputId": "94ab46ac-bfc5-419c-d4cd-04811f09737f"
      },
      "source": [
        "df['TractId'].nunique()"
      ],
      "execution_count": 11,
      "outputs": [
        {
          "output_type": "execute_result",
          "data": {
            "text/plain": [
              "74001"
            ]
          },
          "metadata": {},
          "execution_count": 11
        }
      ]
    },
    {
      "cell_type": "markdown",
      "metadata": {
        "id": "jd5KIFAcrOtr"
      },
      "source": [
        "##### Tract to Zip\n",
        "- maps census tracts to zip codes"
      ]
    },
    {
      "cell_type": "code",
      "metadata": {
        "id": "vXeTnHVu4E70"
      },
      "source": [
        "tract_zip_filename = os.path.join(path, 'workspace/TRACT_ZIP_122017.xlsx')"
      ],
      "execution_count": 12,
      "outputs": []
    },
    {
      "cell_type": "code",
      "metadata": {
        "id": "-J5VuUO_1ihU"
      },
      "source": [
        "tract_zip = pd.read_excel(tract_zip_filename)"
      ],
      "execution_count": 13,
      "outputs": []
    },
    {
      "cell_type": "code",
      "metadata": {
        "colab": {
          "base_uri": "https://localhost:8080/",
          "height": 224
        },
        "id": "umqYSfyQ1rdu",
        "outputId": "401d347a-4995-4f9b-f162-939ec6d50494"
      },
      "source": [
        "print(tract_zip.shape)\n",
        "tract_zip.head()"
      ],
      "execution_count": 14,
      "outputs": [
        {
          "output_type": "stream",
          "name": "stdout",
          "text": [
            "(168662, 6)\n"
          ]
        },
        {
          "output_type": "execute_result",
          "data": {
            "text/plain": [
              "        tract    zip  res_ratio  bus_ratio  oth_ratio  tot_ratio\n",
              "0  1001020100  36067   1.000000   1.000000       1.00   1.000000\n",
              "1  1001020200  36008   0.028243   0.012987       0.00   0.023846\n",
              "2  1001020200  36067   0.971757   0.987013       1.00   0.976154\n",
              "3  1001020300  36067   1.000000   1.000000       1.00   1.000000\n",
              "4  1001020400  36067   0.025543   0.585987       0.25   0.071038"
            ],
            "text/html": "<div>\n<style scoped>\n    .dataframe tbody tr th:only-of-type {\n        vertical-align: middle;\n    }\n\n    .dataframe tbody tr th {\n        vertical-align: top;\n    }\n\n    .dataframe thead th {\n        text-align: right;\n    }\n</style>\n<table border=\"1\" class=\"dataframe\">\n  <thead>\n    <tr style=\"text-align: right;\">\n      <th></th>\n      <th>tract</th>\n      <th>zip</th>\n      <th>res_ratio</th>\n      <th>bus_ratio</th>\n      <th>oth_ratio</th>\n      <th>tot_ratio</th>\n    </tr>\n  </thead>\n  <tbody>\n    <tr>\n      <th>0</th>\n      <td>1001020100</td>\n      <td>36067</td>\n      <td>1.000000</td>\n      <td>1.000000</td>\n      <td>1.00</td>\n      <td>1.000000</td>\n    </tr>\n    <tr>\n      <th>1</th>\n      <td>1001020200</td>\n      <td>36008</td>\n      <td>0.028243</td>\n      <td>0.012987</td>\n      <td>0.00</td>\n      <td>0.023846</td>\n    </tr>\n    <tr>\n      <th>2</th>\n      <td>1001020200</td>\n      <td>36067</td>\n      <td>0.971757</td>\n      <td>0.987013</td>\n      <td>1.00</td>\n      <td>0.976154</td>\n    </tr>\n    <tr>\n      <th>3</th>\n      <td>1001020300</td>\n      <td>36067</td>\n      <td>1.000000</td>\n      <td>1.000000</td>\n      <td>1.00</td>\n      <td>1.000000</td>\n    </tr>\n    <tr>\n      <th>4</th>\n      <td>1001020400</td>\n      <td>36067</td>\n      <td>0.025543</td>\n      <td>0.585987</td>\n      <td>0.25</td>\n      <td>0.071038</td>\n    </tr>\n  </tbody>\n</table>\n</div>"
          },
          "metadata": {},
          "execution_count": 14
        }
      ]
    },
    {
      "cell_type": "code",
      "metadata": {
        "id": "C7K0sV4_1yXK"
      },
      "source": [
        "tract_zip = tract_zip[['tract', 'zip', 'res_ratio']]"
      ],
      "execution_count": 15,
      "outputs": []
    },
    {
      "cell_type": "code",
      "metadata": {
        "id": "3GwD9XN-2SUn"
      },
      "source": [
        "tract_zip = tract_zip.rename(columns = {'tract':'TractId'})"
      ],
      "execution_count": 16,
      "outputs": []
    },
    {
      "cell_type": "code",
      "metadata": {
        "colab": {
          "base_uri": "https://localhost:8080/"
        },
        "id": "mOfFSPCzr4v0",
        "outputId": "82a05ec3-9e0e-4fb3-f007-aa6d612ed096"
      },
      "source": [
        "tract_zip['zip'].nunique()"
      ],
      "execution_count": 17,
      "outputs": [
        {
          "output_type": "execute_result",
          "data": {
            "text/plain": [
              "39301"
            ]
          },
          "metadata": {},
          "execution_count": 17
        }
      ]
    },
    {
      "cell_type": "code",
      "metadata": {
        "colab": {
          "base_uri": "https://localhost:8080/"
        },
        "id": "c8xIOopiPAU9",
        "outputId": "4e98022c-9936-42b4-dbea-8c341345ff3e"
      },
      "source": [
        "tract_zip['TractId'].nunique()"
      ],
      "execution_count": 18,
      "outputs": [
        {
          "output_type": "execute_result",
          "data": {
            "text/plain": [
              "73584"
            ]
          },
          "metadata": {},
          "execution_count": 18
        }
      ]
    },
    {
      "cell_type": "markdown",
      "metadata": {
        "id": "zcNYhSmR-xF7"
      },
      "source": [
        "## Merge Census with Tract_Zip Data"
      ]
    },
    {
      "cell_type": "code",
      "metadata": {
        "id": "s6dD-1yE2Kvq"
      },
      "source": [
        "merge = df.merge(tract_zip, on=['TractId'])"
      ],
      "execution_count": 19,
      "outputs": []
    },
    {
      "cell_type": "code",
      "metadata": {
        "colab": {
          "base_uri": "https://localhost:8080/",
          "height": 330
        },
        "id": "s0gOAoKo2jhp",
        "outputId": "608c5843-a081-4182-e97b-1325602643d0"
      },
      "source": [
        "print(merge.shape)\n",
        "merge.head()"
      ],
      "execution_count": 20,
      "outputs": [
        {
          "output_type": "stream",
          "name": "stdout",
          "text": [
            "(168385, 39)\n"
          ]
        },
        {
          "output_type": "execute_result",
          "data": {
            "text/plain": [
              "      TractId    State          County  TotalPop   Men  Women  Hispanic  \\\n",
              "0  1001020100  Alabama  Autauga County      1845   899    946       2.4   \n",
              "1  1001020200  Alabama  Autauga County      2172  1167   1005       1.1   \n",
              "2  1001020200  Alabama  Autauga County      2172  1167   1005       1.1   \n",
              "3  1001020300  Alabama  Autauga County      3385  1533   1852       8.0   \n",
              "4  1001020400  Alabama  Autauga County      4267  2001   2266       9.6   \n",
              "\n",
              "   White  Black  Native  Asian  Pacific  VotingAgeCitizen   Income  IncomeErr  \\\n",
              "0   86.3    5.2     0.0    1.2      0.0              1407  67826.0    14560.0   \n",
              "1   41.6   54.5     0.0    1.0      0.0              1652  41287.0     3819.0   \n",
              "2   41.6   54.5     0.0    1.0      0.0              1652  41287.0     3819.0   \n",
              "3   61.4   26.5     0.6    0.7      0.4              2480  46806.0     9496.0   \n",
              "4   80.3    7.1     0.5    0.2      0.0              3257  55895.0     4369.0   \n",
              "\n",
              "   IncomePerCap  IncomePerCapErr  Poverty  ChildPoverty  Professional  \\\n",
              "0       33018.0           6294.0     10.7          20.8          38.5   \n",
              "1       18996.0           2453.0     22.4          35.8          30.5   \n",
              "2       18996.0           2453.0     22.4          35.8          30.5   \n",
              "3       21236.0           2562.0     14.7          21.1          27.9   \n",
              "4       28068.0           3190.0      2.3           1.7          29.0   \n",
              "\n",
              "   Service  Office  Construction  Production  Drive  Carpool  Transit  Walk  \\\n",
              "0     15.6    22.8          10.8        12.4   94.2      3.3      0.0   0.5   \n",
              "1     24.9    22.9           6.3        15.4   90.5      9.1      0.0   0.0   \n",
              "2     24.9    22.9           6.3        15.4   90.5      9.1      0.0   0.0   \n",
              "3     19.4    33.3           9.9         9.6   88.3      8.4      0.0   1.0   \n",
              "4     16.6    25.8           9.1        19.5   82.3     11.2      0.0   1.5   \n",
              "\n",
              "   OtherTransp  WorkAtHome  MeanCommute  Employed  PrivateWork  PublicWork  \\\n",
              "0          0.0         2.1         24.5       881         74.2        21.2   \n",
              "1          0.5         0.0         22.2       852         75.9        15.0   \n",
              "2          0.5         0.0         22.2       852         75.9        15.0   \n",
              "3          0.8         1.5         23.1      1482         73.3        21.1   \n",
              "4          2.9         2.1         25.9      1849         75.8        19.7   \n",
              "\n",
              "   SelfEmployed  FamilyWork  Unemployment    zip  res_ratio  \n",
              "0           4.5         0.0           4.6  36067   1.000000  \n",
              "1           9.0         0.0           3.4  36008   0.028243  \n",
              "2           9.0         0.0           3.4  36067   0.971757  \n",
              "3           4.8         0.7           4.7  36067   1.000000  \n",
              "4           4.5         0.0           6.1  36067   0.025543  "
            ],
            "text/html": "<div>\n<style scoped>\n    .dataframe tbody tr th:only-of-type {\n        vertical-align: middle;\n    }\n\n    .dataframe tbody tr th {\n        vertical-align: top;\n    }\n\n    .dataframe thead th {\n        text-align: right;\n    }\n</style>\n<table border=\"1\" class=\"dataframe\">\n  <thead>\n    <tr style=\"text-align: right;\">\n      <th></th>\n      <th>TractId</th>\n      <th>State</th>\n      <th>County</th>\n      <th>TotalPop</th>\n      <th>Men</th>\n      <th>Women</th>\n      <th>Hispanic</th>\n      <th>White</th>\n      <th>Black</th>\n      <th>Native</th>\n      <th>Asian</th>\n      <th>Pacific</th>\n      <th>VotingAgeCitizen</th>\n      <th>Income</th>\n      <th>IncomeErr</th>\n      <th>IncomePerCap</th>\n      <th>IncomePerCapErr</th>\n      <th>Poverty</th>\n      <th>ChildPoverty</th>\n      <th>Professional</th>\n      <th>Service</th>\n      <th>Office</th>\n      <th>Construction</th>\n      <th>Production</th>\n      <th>Drive</th>\n      <th>Carpool</th>\n      <th>Transit</th>\n      <th>Walk</th>\n      <th>OtherTransp</th>\n      <th>WorkAtHome</th>\n      <th>MeanCommute</th>\n      <th>Employed</th>\n      <th>PrivateWork</th>\n      <th>PublicWork</th>\n      <th>SelfEmployed</th>\n      <th>FamilyWork</th>\n      <th>Unemployment</th>\n      <th>zip</th>\n      <th>res_ratio</th>\n    </tr>\n  </thead>\n  <tbody>\n    <tr>\n      <th>0</th>\n      <td>1001020100</td>\n      <td>Alabama</td>\n      <td>Autauga County</td>\n      <td>1845</td>\n      <td>899</td>\n      <td>946</td>\n      <td>2.4</td>\n      <td>86.3</td>\n      <td>5.2</td>\n      <td>0.0</td>\n      <td>1.2</td>\n      <td>0.0</td>\n      <td>1407</td>\n      <td>67826.0</td>\n      <td>14560.0</td>\n      <td>33018.0</td>\n      <td>6294.0</td>\n      <td>10.7</td>\n      <td>20.8</td>\n      <td>38.5</td>\n      <td>15.6</td>\n      <td>22.8</td>\n      <td>10.8</td>\n      <td>12.4</td>\n      <td>94.2</td>\n      <td>3.3</td>\n      <td>0.0</td>\n      <td>0.5</td>\n      <td>0.0</td>\n      <td>2.1</td>\n      <td>24.5</td>\n      <td>881</td>\n      <td>74.2</td>\n      <td>21.2</td>\n      <td>4.5</td>\n      <td>0.0</td>\n      <td>4.6</td>\n      <td>36067</td>\n      <td>1.000000</td>\n    </tr>\n    <tr>\n      <th>1</th>\n      <td>1001020200</td>\n      <td>Alabama</td>\n      <td>Autauga County</td>\n      <td>2172</td>\n      <td>1167</td>\n      <td>1005</td>\n      <td>1.1</td>\n      <td>41.6</td>\n      <td>54.5</td>\n      <td>0.0</td>\n      <td>1.0</td>\n      <td>0.0</td>\n      <td>1652</td>\n      <td>41287.0</td>\n      <td>3819.0</td>\n      <td>18996.0</td>\n      <td>2453.0</td>\n      <td>22.4</td>\n      <td>35.8</td>\n      <td>30.5</td>\n      <td>24.9</td>\n      <td>22.9</td>\n      <td>6.3</td>\n      <td>15.4</td>\n      <td>90.5</td>\n      <td>9.1</td>\n      <td>0.0</td>\n      <td>0.0</td>\n      <td>0.5</td>\n      <td>0.0</td>\n      <td>22.2</td>\n      <td>852</td>\n      <td>75.9</td>\n      <td>15.0</td>\n      <td>9.0</td>\n      <td>0.0</td>\n      <td>3.4</td>\n      <td>36008</td>\n      <td>0.028243</td>\n    </tr>\n    <tr>\n      <th>2</th>\n      <td>1001020200</td>\n      <td>Alabama</td>\n      <td>Autauga County</td>\n      <td>2172</td>\n      <td>1167</td>\n      <td>1005</td>\n      <td>1.1</td>\n      <td>41.6</td>\n      <td>54.5</td>\n      <td>0.0</td>\n      <td>1.0</td>\n      <td>0.0</td>\n      <td>1652</td>\n      <td>41287.0</td>\n      <td>3819.0</td>\n      <td>18996.0</td>\n      <td>2453.0</td>\n      <td>22.4</td>\n      <td>35.8</td>\n      <td>30.5</td>\n      <td>24.9</td>\n      <td>22.9</td>\n      <td>6.3</td>\n      <td>15.4</td>\n      <td>90.5</td>\n      <td>9.1</td>\n      <td>0.0</td>\n      <td>0.0</td>\n      <td>0.5</td>\n      <td>0.0</td>\n      <td>22.2</td>\n      <td>852</td>\n      <td>75.9</td>\n      <td>15.0</td>\n      <td>9.0</td>\n      <td>0.0</td>\n      <td>3.4</td>\n      <td>36067</td>\n      <td>0.971757</td>\n    </tr>\n    <tr>\n      <th>3</th>\n      <td>1001020300</td>\n      <td>Alabama</td>\n      <td>Autauga County</td>\n      <td>3385</td>\n      <td>1533</td>\n      <td>1852</td>\n      <td>8.0</td>\n      <td>61.4</td>\n      <td>26.5</td>\n      <td>0.6</td>\n      <td>0.7</td>\n      <td>0.4</td>\n      <td>2480</td>\n      <td>46806.0</td>\n      <td>9496.0</td>\n      <td>21236.0</td>\n      <td>2562.0</td>\n      <td>14.7</td>\n      <td>21.1</td>\n      <td>27.9</td>\n      <td>19.4</td>\n      <td>33.3</td>\n      <td>9.9</td>\n      <td>9.6</td>\n      <td>88.3</td>\n      <td>8.4</td>\n      <td>0.0</td>\n      <td>1.0</td>\n      <td>0.8</td>\n      <td>1.5</td>\n      <td>23.1</td>\n      <td>1482</td>\n      <td>73.3</td>\n      <td>21.1</td>\n      <td>4.8</td>\n      <td>0.7</td>\n      <td>4.7</td>\n      <td>36067</td>\n      <td>1.000000</td>\n    </tr>\n    <tr>\n      <th>4</th>\n      <td>1001020400</td>\n      <td>Alabama</td>\n      <td>Autauga County</td>\n      <td>4267</td>\n      <td>2001</td>\n      <td>2266</td>\n      <td>9.6</td>\n      <td>80.3</td>\n      <td>7.1</td>\n      <td>0.5</td>\n      <td>0.2</td>\n      <td>0.0</td>\n      <td>3257</td>\n      <td>55895.0</td>\n      <td>4369.0</td>\n      <td>28068.0</td>\n      <td>3190.0</td>\n      <td>2.3</td>\n      <td>1.7</td>\n      <td>29.0</td>\n      <td>16.6</td>\n      <td>25.8</td>\n      <td>9.1</td>\n      <td>19.5</td>\n      <td>82.3</td>\n      <td>11.2</td>\n      <td>0.0</td>\n      <td>1.5</td>\n      <td>2.9</td>\n      <td>2.1</td>\n      <td>25.9</td>\n      <td>1849</td>\n      <td>75.8</td>\n      <td>19.7</td>\n      <td>4.5</td>\n      <td>0.0</td>\n      <td>6.1</td>\n      <td>36067</td>\n      <td>0.025543</td>\n    </tr>\n  </tbody>\n</table>\n</div>"
          },
          "metadata": {},
          "execution_count": 20
        }
      ]
    },
    {
      "cell_type": "markdown",
      "metadata": {
        "id": "A0CmvQNIEyHr"
      },
      "source": [
        "### Seeing what does not transfer over"
      ]
    },
    {
      "cell_type": "code",
      "metadata": {
        "colab": {
          "base_uri": "https://localhost:8080/",
          "height": 670
        },
        "id": "XYPSl2eH3LZh",
        "outputId": "7ce6437f-5589-4c26-b28c-64bc469c5c16"
      },
      "source": [
        "df[(~df.TractId.isin(merge.TractId))]"
      ],
      "execution_count": 21,
      "outputs": [
        {
          "output_type": "execute_result",
          "data": {
            "text/plain": [
              "           TractId        State                     County  TotalPop   Men  \\\n",
              "43      1003990000      Alabama             Baldwin County         0     0   \n",
              "868     1097990000      Alabama              Mobile County         0     0   \n",
              "1266    2105000200       Alaska  Hoonah-Angoon Census Area        62    35   \n",
              "1324    2185000100       Alaska        North Slope Borough      4444  2366   \n",
              "1353    4001944202      Arizona              Apache County      4094  1933   \n",
              "...            ...          ...                        ...       ...   ...   \n",
              "73982  72151950700  Puerto Rico          Yabucoa Municipio      4744  2377   \n",
              "73983  72151950800  Puerto Rico          Yabucoa Municipio      3531  1915   \n",
              "73984  72151950900  Puerto Rico          Yabucoa Municipio      5822  2892   \n",
              "73989  72151990000  Puerto Rico          Yabucoa Municipio         0     0   \n",
              "73990  72153750101  Puerto Rico            Yauco Municipio      2462  1390   \n",
              "\n",
              "       Women  Hispanic  White  Black  Native  Asian  Pacific  \\\n",
              "43         0       NaN    NaN    NaN     NaN    NaN      NaN   \n",
              "868        0       NaN    NaN    NaN     NaN    NaN      NaN   \n",
              "1266      27       0.0   11.3    0.0    82.3    0.0      0.0   \n",
              "1324    2078       5.3   13.3    0.3    59.4   10.5      3.3   \n",
              "1353    2161       3.4    0.5    0.4    93.9    0.2      0.0   \n",
              "...      ...       ...    ...    ...     ...    ...      ...   \n",
              "73982   2367     100.0    0.0    0.0     0.0    0.0      0.0   \n",
              "73983   1616     100.0    0.0    0.0     0.0    0.0      0.0   \n",
              "73984   2930      99.7    0.3    0.0     0.0    0.0      0.0   \n",
              "73989      0       NaN    NaN    NaN     NaN    NaN      NaN   \n",
              "73990   1072      99.4    0.6    0.0     0.0    0.0      0.0   \n",
              "\n",
              "       VotingAgeCitizen   Income  IncomeErr  IncomePerCap  IncomePerCapErr  \\\n",
              "43                    0      NaN        NaN           NaN              NaN   \n",
              "868                   0      NaN        NaN           NaN              NaN   \n",
              "1266                 60  42500.0     9004.0       23827.0           3232.0   \n",
              "1324               2769  82964.0    13376.0       31860.0           5094.0   \n",
              "1353               2561  26296.0     6947.0       10079.0           1702.0   \n",
              "...                 ...      ...        ...           ...              ...   \n",
              "73982              4061  16087.0     3373.0        8157.0           1248.0   \n",
              "73983              2924  15767.0     2603.0        8133.0           1350.0   \n",
              "73984              4380  13841.0     3098.0        7088.0           1162.0   \n",
              "73989                 0      NaN        NaN           NaN              NaN   \n",
              "73990              2036   8560.0     2012.0        4918.0           1042.0   \n",
              "\n",
              "       Poverty  ChildPoverty  Professional  Service  Office  Construction  \\\n",
              "43         NaN           NaN           NaN      NaN     NaN           NaN   \n",
              "868        NaN           NaN           NaN      NaN     NaN           NaN   \n",
              "1266       6.5          50.0          39.3     32.1     7.1          10.7   \n",
              "1324      11.2          13.0          35.6     15.0    26.4           7.4   \n",
              "1353      53.9          70.0          43.8     17.6    12.8          13.4   \n",
              "...        ...           ...           ...      ...     ...           ...   \n",
              "73982     53.6          42.2          41.0     12.1    22.1          12.9   \n",
              "73983     42.4          52.7          12.7     31.9    21.2           9.2   \n",
              "73984     58.7          66.5          29.0     24.1    25.5           9.2   \n",
              "73989      NaN           NaN           NaN      NaN     NaN           NaN   \n",
              "73990     75.8          66.7          32.7      9.8     1.3          50.8   \n",
              "\n",
              "       Production  Drive  Carpool  Transit  Walk  OtherTransp  WorkAtHome  \\\n",
              "43            NaN    NaN      NaN      NaN   NaN          NaN         NaN   \n",
              "868           NaN    NaN      NaN      NaN   NaN          NaN         NaN   \n",
              "1266         10.7   51.9      0.0      0.0  25.9          0.0        22.2   \n",
              "1324         15.6   48.1     26.8      0.5  11.9          9.0         3.8   \n",
              "1353         12.3   73.1     13.7      2.1   7.5          0.0         3.5   \n",
              "...           ...    ...      ...      ...   ...          ...         ...   \n",
              "73982        11.9   85.5     14.5      0.0   0.0          0.0         0.0   \n",
              "73983        25.0   81.1     13.7      0.0   2.7          2.5         0.0   \n",
              "73984        12.2   95.7      2.0      0.0   2.3          0.0         0.0   \n",
              "73989         NaN    NaN      NaN      NaN   NaN          NaN         NaN   \n",
              "73990         5.4   78.3     12.7      0.0   0.0          0.0         9.0   \n",
              "\n",
              "       MeanCommute  Employed  PrivateWork  PublicWork  SelfEmployed  \\\n",
              "43             NaN         0          NaN         NaN           NaN   \n",
              "868            NaN         0          NaN         NaN           NaN   \n",
              "1266          13.8        28         32.1        35.7          32.1   \n",
              "1324           6.6      1800         44.3        54.4           1.3   \n",
              "1353          22.8       851         39.4        56.9           3.8   \n",
              "...            ...       ...          ...         ...           ...   \n",
              "73982         33.9      1034         61.4        36.2           2.4   \n",
              "73983         25.0       780         71.0        18.2          10.8   \n",
              "73984         32.3      1143         66.0        29.4           4.6   \n",
              "73989          NaN         0          NaN         NaN           NaN   \n",
              "73990         24.4       520         74.6        16.0           9.4   \n",
              "\n",
              "       FamilyWork  Unemployment  \n",
              "43            NaN           NaN  \n",
              "868           NaN           NaN  \n",
              "1266          0.0          12.5  \n",
              "1324          0.0          14.2  \n",
              "1353          0.0          28.2  \n",
              "...           ...           ...  \n",
              "73982         0.0          17.9  \n",
              "73983         0.0          30.4  \n",
              "73984         0.0          28.7  \n",
              "73989         NaN           NaN  \n",
              "73990         0.0          20.4  \n",
              "\n",
              "[624 rows x 37 columns]"
            ],
            "text/html": "<div>\n<style scoped>\n    .dataframe tbody tr th:only-of-type {\n        vertical-align: middle;\n    }\n\n    .dataframe tbody tr th {\n        vertical-align: top;\n    }\n\n    .dataframe thead th {\n        text-align: right;\n    }\n</style>\n<table border=\"1\" class=\"dataframe\">\n  <thead>\n    <tr style=\"text-align: right;\">\n      <th></th>\n      <th>TractId</th>\n      <th>State</th>\n      <th>County</th>\n      <th>TotalPop</th>\n      <th>Men</th>\n      <th>Women</th>\n      <th>Hispanic</th>\n      <th>White</th>\n      <th>Black</th>\n      <th>Native</th>\n      <th>Asian</th>\n      <th>Pacific</th>\n      <th>VotingAgeCitizen</th>\n      <th>Income</th>\n      <th>IncomeErr</th>\n      <th>IncomePerCap</th>\n      <th>IncomePerCapErr</th>\n      <th>Poverty</th>\n      <th>ChildPoverty</th>\n      <th>Professional</th>\n      <th>Service</th>\n      <th>Office</th>\n      <th>Construction</th>\n      <th>Production</th>\n      <th>Drive</th>\n      <th>Carpool</th>\n      <th>Transit</th>\n      <th>Walk</th>\n      <th>OtherTransp</th>\n      <th>WorkAtHome</th>\n      <th>MeanCommute</th>\n      <th>Employed</th>\n      <th>PrivateWork</th>\n      <th>PublicWork</th>\n      <th>SelfEmployed</th>\n      <th>FamilyWork</th>\n      <th>Unemployment</th>\n    </tr>\n  </thead>\n  <tbody>\n    <tr>\n      <th>43</th>\n      <td>1003990000</td>\n      <td>Alabama</td>\n      <td>Baldwin County</td>\n      <td>0</td>\n      <td>0</td>\n      <td>0</td>\n      <td>NaN</td>\n      <td>NaN</td>\n      <td>NaN</td>\n      <td>NaN</td>\n      <td>NaN</td>\n      <td>NaN</td>\n      <td>0</td>\n      <td>NaN</td>\n      <td>NaN</td>\n      <td>NaN</td>\n      <td>NaN</td>\n      <td>NaN</td>\n      <td>NaN</td>\n      <td>NaN</td>\n      <td>NaN</td>\n      <td>NaN</td>\n      <td>NaN</td>\n      <td>NaN</td>\n      <td>NaN</td>\n      <td>NaN</td>\n      <td>NaN</td>\n      <td>NaN</td>\n      <td>NaN</td>\n      <td>NaN</td>\n      <td>NaN</td>\n      <td>0</td>\n      <td>NaN</td>\n      <td>NaN</td>\n      <td>NaN</td>\n      <td>NaN</td>\n      <td>NaN</td>\n    </tr>\n    <tr>\n      <th>868</th>\n      <td>1097990000</td>\n      <td>Alabama</td>\n      <td>Mobile County</td>\n      <td>0</td>\n      <td>0</td>\n      <td>0</td>\n      <td>NaN</td>\n      <td>NaN</td>\n      <td>NaN</td>\n      <td>NaN</td>\n      <td>NaN</td>\n      <td>NaN</td>\n      <td>0</td>\n      <td>NaN</td>\n      <td>NaN</td>\n      <td>NaN</td>\n      <td>NaN</td>\n      <td>NaN</td>\n      <td>NaN</td>\n      <td>NaN</td>\n      <td>NaN</td>\n      <td>NaN</td>\n      <td>NaN</td>\n      <td>NaN</td>\n      <td>NaN</td>\n      <td>NaN</td>\n      <td>NaN</td>\n      <td>NaN</td>\n      <td>NaN</td>\n      <td>NaN</td>\n      <td>NaN</td>\n      <td>0</td>\n      <td>NaN</td>\n      <td>NaN</td>\n      <td>NaN</td>\n      <td>NaN</td>\n      <td>NaN</td>\n    </tr>\n    <tr>\n      <th>1266</th>\n      <td>2105000200</td>\n      <td>Alaska</td>\n      <td>Hoonah-Angoon Census Area</td>\n      <td>62</td>\n      <td>35</td>\n      <td>27</td>\n      <td>0.0</td>\n      <td>11.3</td>\n      <td>0.0</td>\n      <td>82.3</td>\n      <td>0.0</td>\n      <td>0.0</td>\n      <td>60</td>\n      <td>42500.0</td>\n      <td>9004.0</td>\n      <td>23827.0</td>\n      <td>3232.0</td>\n      <td>6.5</td>\n      <td>50.0</td>\n      <td>39.3</td>\n      <td>32.1</td>\n      <td>7.1</td>\n      <td>10.7</td>\n      <td>10.7</td>\n      <td>51.9</td>\n      <td>0.0</td>\n      <td>0.0</td>\n      <td>25.9</td>\n      <td>0.0</td>\n      <td>22.2</td>\n      <td>13.8</td>\n      <td>28</td>\n      <td>32.1</td>\n      <td>35.7</td>\n      <td>32.1</td>\n      <td>0.0</td>\n      <td>12.5</td>\n    </tr>\n    <tr>\n      <th>1324</th>\n      <td>2185000100</td>\n      <td>Alaska</td>\n      <td>North Slope Borough</td>\n      <td>4444</td>\n      <td>2366</td>\n      <td>2078</td>\n      <td>5.3</td>\n      <td>13.3</td>\n      <td>0.3</td>\n      <td>59.4</td>\n      <td>10.5</td>\n      <td>3.3</td>\n      <td>2769</td>\n      <td>82964.0</td>\n      <td>13376.0</td>\n      <td>31860.0</td>\n      <td>5094.0</td>\n      <td>11.2</td>\n      <td>13.0</td>\n      <td>35.6</td>\n      <td>15.0</td>\n      <td>26.4</td>\n      <td>7.4</td>\n      <td>15.6</td>\n      <td>48.1</td>\n      <td>26.8</td>\n      <td>0.5</td>\n      <td>11.9</td>\n      <td>9.0</td>\n      <td>3.8</td>\n      <td>6.6</td>\n      <td>1800</td>\n      <td>44.3</td>\n      <td>54.4</td>\n      <td>1.3</td>\n      <td>0.0</td>\n      <td>14.2</td>\n    </tr>\n    <tr>\n      <th>1353</th>\n      <td>4001944202</td>\n      <td>Arizona</td>\n      <td>Apache County</td>\n      <td>4094</td>\n      <td>1933</td>\n      <td>2161</td>\n      <td>3.4</td>\n      <td>0.5</td>\n      <td>0.4</td>\n      <td>93.9</td>\n      <td>0.2</td>\n      <td>0.0</td>\n      <td>2561</td>\n      <td>26296.0</td>\n      <td>6947.0</td>\n      <td>10079.0</td>\n      <td>1702.0</td>\n      <td>53.9</td>\n      <td>70.0</td>\n      <td>43.8</td>\n      <td>17.6</td>\n      <td>12.8</td>\n      <td>13.4</td>\n      <td>12.3</td>\n      <td>73.1</td>\n      <td>13.7</td>\n      <td>2.1</td>\n      <td>7.5</td>\n      <td>0.0</td>\n      <td>3.5</td>\n      <td>22.8</td>\n      <td>851</td>\n      <td>39.4</td>\n      <td>56.9</td>\n      <td>3.8</td>\n      <td>0.0</td>\n      <td>28.2</td>\n    </tr>\n    <tr>\n      <th>...</th>\n      <td>...</td>\n      <td>...</td>\n      <td>...</td>\n      <td>...</td>\n      <td>...</td>\n      <td>...</td>\n      <td>...</td>\n      <td>...</td>\n      <td>...</td>\n      <td>...</td>\n      <td>...</td>\n      <td>...</td>\n      <td>...</td>\n      <td>...</td>\n      <td>...</td>\n      <td>...</td>\n      <td>...</td>\n      <td>...</td>\n      <td>...</td>\n      <td>...</td>\n      <td>...</td>\n      <td>...</td>\n      <td>...</td>\n      <td>...</td>\n      <td>...</td>\n      <td>...</td>\n      <td>...</td>\n      <td>...</td>\n      <td>...</td>\n      <td>...</td>\n      <td>...</td>\n      <td>...</td>\n      <td>...</td>\n      <td>...</td>\n      <td>...</td>\n      <td>...</td>\n      <td>...</td>\n    </tr>\n    <tr>\n      <th>73982</th>\n      <td>72151950700</td>\n      <td>Puerto Rico</td>\n      <td>Yabucoa Municipio</td>\n      <td>4744</td>\n      <td>2377</td>\n      <td>2367</td>\n      <td>100.0</td>\n      <td>0.0</td>\n      <td>0.0</td>\n      <td>0.0</td>\n      <td>0.0</td>\n      <td>0.0</td>\n      <td>4061</td>\n      <td>16087.0</td>\n      <td>3373.0</td>\n      <td>8157.0</td>\n      <td>1248.0</td>\n      <td>53.6</td>\n      <td>42.2</td>\n      <td>41.0</td>\n      <td>12.1</td>\n      <td>22.1</td>\n      <td>12.9</td>\n      <td>11.9</td>\n      <td>85.5</td>\n      <td>14.5</td>\n      <td>0.0</td>\n      <td>0.0</td>\n      <td>0.0</td>\n      <td>0.0</td>\n      <td>33.9</td>\n      <td>1034</td>\n      <td>61.4</td>\n      <td>36.2</td>\n      <td>2.4</td>\n      <td>0.0</td>\n      <td>17.9</td>\n    </tr>\n    <tr>\n      <th>73983</th>\n      <td>72151950800</td>\n      <td>Puerto Rico</td>\n      <td>Yabucoa Municipio</td>\n      <td>3531</td>\n      <td>1915</td>\n      <td>1616</td>\n      <td>100.0</td>\n      <td>0.0</td>\n      <td>0.0</td>\n      <td>0.0</td>\n      <td>0.0</td>\n      <td>0.0</td>\n      <td>2924</td>\n      <td>15767.0</td>\n      <td>2603.0</td>\n      <td>8133.0</td>\n      <td>1350.0</td>\n      <td>42.4</td>\n      <td>52.7</td>\n      <td>12.7</td>\n      <td>31.9</td>\n      <td>21.2</td>\n      <td>9.2</td>\n      <td>25.0</td>\n      <td>81.1</td>\n      <td>13.7</td>\n      <td>0.0</td>\n      <td>2.7</td>\n      <td>2.5</td>\n      <td>0.0</td>\n      <td>25.0</td>\n      <td>780</td>\n      <td>71.0</td>\n      <td>18.2</td>\n      <td>10.8</td>\n      <td>0.0</td>\n      <td>30.4</td>\n    </tr>\n    <tr>\n      <th>73984</th>\n      <td>72151950900</td>\n      <td>Puerto Rico</td>\n      <td>Yabucoa Municipio</td>\n      <td>5822</td>\n      <td>2892</td>\n      <td>2930</td>\n      <td>99.7</td>\n      <td>0.3</td>\n      <td>0.0</td>\n      <td>0.0</td>\n      <td>0.0</td>\n      <td>0.0</td>\n      <td>4380</td>\n      <td>13841.0</td>\n      <td>3098.0</td>\n      <td>7088.0</td>\n      <td>1162.0</td>\n      <td>58.7</td>\n      <td>66.5</td>\n      <td>29.0</td>\n      <td>24.1</td>\n      <td>25.5</td>\n      <td>9.2</td>\n      <td>12.2</td>\n      <td>95.7</td>\n      <td>2.0</td>\n      <td>0.0</td>\n      <td>2.3</td>\n      <td>0.0</td>\n      <td>0.0</td>\n      <td>32.3</td>\n      <td>1143</td>\n      <td>66.0</td>\n      <td>29.4</td>\n      <td>4.6</td>\n      <td>0.0</td>\n      <td>28.7</td>\n    </tr>\n    <tr>\n      <th>73989</th>\n      <td>72151990000</td>\n      <td>Puerto Rico</td>\n      <td>Yabucoa Municipio</td>\n      <td>0</td>\n      <td>0</td>\n      <td>0</td>\n      <td>NaN</td>\n      <td>NaN</td>\n      <td>NaN</td>\n      <td>NaN</td>\n      <td>NaN</td>\n      <td>NaN</td>\n      <td>0</td>\n      <td>NaN</td>\n      <td>NaN</td>\n      <td>NaN</td>\n      <td>NaN</td>\n      <td>NaN</td>\n      <td>NaN</td>\n      <td>NaN</td>\n      <td>NaN</td>\n      <td>NaN</td>\n      <td>NaN</td>\n      <td>NaN</td>\n      <td>NaN</td>\n      <td>NaN</td>\n      <td>NaN</td>\n      <td>NaN</td>\n      <td>NaN</td>\n      <td>NaN</td>\n      <td>NaN</td>\n      <td>0</td>\n      <td>NaN</td>\n      <td>NaN</td>\n      <td>NaN</td>\n      <td>NaN</td>\n      <td>NaN</td>\n    </tr>\n    <tr>\n      <th>73990</th>\n      <td>72153750101</td>\n      <td>Puerto Rico</td>\n      <td>Yauco Municipio</td>\n      <td>2462</td>\n      <td>1390</td>\n      <td>1072</td>\n      <td>99.4</td>\n      <td>0.6</td>\n      <td>0.0</td>\n      <td>0.0</td>\n      <td>0.0</td>\n      <td>0.0</td>\n      <td>2036</td>\n      <td>8560.0</td>\n      <td>2012.0</td>\n      <td>4918.0</td>\n      <td>1042.0</td>\n      <td>75.8</td>\n      <td>66.7</td>\n      <td>32.7</td>\n      <td>9.8</td>\n      <td>1.3</td>\n      <td>50.8</td>\n      <td>5.4</td>\n      <td>78.3</td>\n      <td>12.7</td>\n      <td>0.0</td>\n      <td>0.0</td>\n      <td>0.0</td>\n      <td>9.0</td>\n      <td>24.4</td>\n      <td>520</td>\n      <td>74.6</td>\n      <td>16.0</td>\n      <td>9.4</td>\n      <td>0.0</td>\n      <td>20.4</td>\n    </tr>\n  </tbody>\n</table>\n<p>624 rows × 37 columns</p>\n</div>"
          },
          "metadata": {},
          "execution_count": 21
        }
      ]
    },
    {
      "cell_type": "code",
      "metadata": {
        "colab": {
          "base_uri": "https://localhost:8080/",
          "height": 424
        },
        "id": "TuH7Q47L8PtZ",
        "outputId": "29855a38-de60-4a5b-ab4c-6db8b50c3412"
      },
      "source": [
        "tract_zip[(~tract_zip.TractId.isin(merge.TractId))]"
      ],
      "execution_count": 22,
      "outputs": [
        {
          "output_type": "execute_result",
          "data": {
            "text/plain": [
              "            TractId    zip  res_ratio\n",
              "543      1037030200  36080        1.0\n",
              "2828     1115050101  35146        1.0\n",
              "3017     1123231500  36866        1.0\n",
              "3673     2270000100  99563        0.0\n",
              "3674     2270000100  99620        0.0\n",
              "...             ...    ...        ...\n",
              "168657  78030960800    802        1.0\n",
              "168658  78030960900    802        1.0\n",
              "168659  78030961000    802        1.0\n",
              "168660  78030961100    802        1.0\n",
              "168661  78030961200    802        1.0\n",
              "\n",
              "[277 rows x 3 columns]"
            ],
            "text/html": "<div>\n<style scoped>\n    .dataframe tbody tr th:only-of-type {\n        vertical-align: middle;\n    }\n\n    .dataframe tbody tr th {\n        vertical-align: top;\n    }\n\n    .dataframe thead th {\n        text-align: right;\n    }\n</style>\n<table border=\"1\" class=\"dataframe\">\n  <thead>\n    <tr style=\"text-align: right;\">\n      <th></th>\n      <th>TractId</th>\n      <th>zip</th>\n      <th>res_ratio</th>\n    </tr>\n  </thead>\n  <tbody>\n    <tr>\n      <th>543</th>\n      <td>1037030200</td>\n      <td>36080</td>\n      <td>1.0</td>\n    </tr>\n    <tr>\n      <th>2828</th>\n      <td>1115050101</td>\n      <td>35146</td>\n      <td>1.0</td>\n    </tr>\n    <tr>\n      <th>3017</th>\n      <td>1123231500</td>\n      <td>36866</td>\n      <td>1.0</td>\n    </tr>\n    <tr>\n      <th>3673</th>\n      <td>2270000100</td>\n      <td>99563</td>\n      <td>0.0</td>\n    </tr>\n    <tr>\n      <th>3674</th>\n      <td>2270000100</td>\n      <td>99620</td>\n      <td>0.0</td>\n    </tr>\n    <tr>\n      <th>...</th>\n      <td>...</td>\n      <td>...</td>\n      <td>...</td>\n    </tr>\n    <tr>\n      <th>168657</th>\n      <td>78030960800</td>\n      <td>802</td>\n      <td>1.0</td>\n    </tr>\n    <tr>\n      <th>168658</th>\n      <td>78030960900</td>\n      <td>802</td>\n      <td>1.0</td>\n    </tr>\n    <tr>\n      <th>168659</th>\n      <td>78030961000</td>\n      <td>802</td>\n      <td>1.0</td>\n    </tr>\n    <tr>\n      <th>168660</th>\n      <td>78030961100</td>\n      <td>802</td>\n      <td>1.0</td>\n    </tr>\n    <tr>\n      <th>168661</th>\n      <td>78030961200</td>\n      <td>802</td>\n      <td>1.0</td>\n    </tr>\n  </tbody>\n</table>\n<p>277 rows × 3 columns</p>\n</div>"
          },
          "metadata": {},
          "execution_count": 22
        }
      ]
    },
    {
      "cell_type": "markdown",
      "metadata": {
        "id": "-UH1yTHB_SH-"
      },
      "source": [
        "## Data Cleaning"
      ]
    },
    {
      "cell_type": "markdown",
      "metadata": {
        "id": "n9627GgeErxP"
      },
      "source": [
        "### isnull().sum()"
      ]
    },
    {
      "cell_type": "code",
      "metadata": {
        "colab": {
          "base_uri": "https://localhost:8080/"
        },
        "id": "X8fEj9l48a43",
        "outputId": "2b5c99a0-0fec-4699-d045-1fe215419f04"
      },
      "source": [
        "merge.isnull().sum()"
      ],
      "execution_count": 23,
      "outputs": [
        {
          "output_type": "execute_result",
          "data": {
            "text/plain": [
              "TractId                0\n",
              "State                  0\n",
              "County                 0\n",
              "TotalPop               0\n",
              "Men                    0\n",
              "Women                  0\n",
              "Hispanic             506\n",
              "White                506\n",
              "Black                506\n",
              "Native               506\n",
              "Asian                506\n",
              "Pacific              506\n",
              "VotingAgeCitizen       0\n",
              "Income              1291\n",
              "IncomeErr           1291\n",
              "IncomePerCap         596\n",
              "IncomePerCapErr      596\n",
              "Poverty              710\n",
              "ChildPoverty        1286\n",
              "Professional         652\n",
              "Service              652\n",
              "Office               652\n",
              "Construction         652\n",
              "Production           652\n",
              "Drive                633\n",
              "Carpool              633\n",
              "Transit              633\n",
              "Walk                 633\n",
              "OtherTransp          633\n",
              "WorkAtHome           633\n",
              "MeanCommute          949\n",
              "Employed               0\n",
              "PrivateWork          652\n",
              "PublicWork           652\n",
              "SelfEmployed         652\n",
              "FamilyWork           652\n",
              "Unemployment         650\n",
              "zip                    0\n",
              "res_ratio              0\n",
              "dtype: int64"
            ]
          },
          "metadata": {},
          "execution_count": 23
        }
      ]
    },
    {
      "cell_type": "markdown",
      "metadata": {
        "id": "z0iWDMf5E8Q8"
      },
      "source": [
        "### Fill na with 0"
      ]
    },
    {
      "cell_type": "code",
      "metadata": {
        "id": "iculLGYa87p9"
      },
      "source": [
        "merge.fillna(0, inplace=True)"
      ],
      "execution_count": 24,
      "outputs": []
    },
    {
      "cell_type": "code",
      "metadata": {
        "colab": {
          "base_uri": "https://localhost:8080/"
        },
        "id": "NEmlPvPdUGml",
        "outputId": "03be07ea-7e9f-401d-8475-12bd3fbe85fe"
      },
      "source": [
        "merge.isnull().sum()"
      ],
      "execution_count": 25,
      "outputs": [
        {
          "output_type": "execute_result",
          "data": {
            "text/plain": [
              "TractId             0\n",
              "State               0\n",
              "County              0\n",
              "TotalPop            0\n",
              "Men                 0\n",
              "Women               0\n",
              "Hispanic            0\n",
              "White               0\n",
              "Black               0\n",
              "Native              0\n",
              "Asian               0\n",
              "Pacific             0\n",
              "VotingAgeCitizen    0\n",
              "Income              0\n",
              "IncomeErr           0\n",
              "IncomePerCap        0\n",
              "IncomePerCapErr     0\n",
              "Poverty             0\n",
              "ChildPoverty        0\n",
              "Professional        0\n",
              "Service             0\n",
              "Office              0\n",
              "Construction        0\n",
              "Production          0\n",
              "Drive               0\n",
              "Carpool             0\n",
              "Transit             0\n",
              "Walk                0\n",
              "OtherTransp         0\n",
              "WorkAtHome          0\n",
              "MeanCommute         0\n",
              "Employed            0\n",
              "PrivateWork         0\n",
              "PublicWork          0\n",
              "SelfEmployed        0\n",
              "FamilyWork          0\n",
              "Unemployment        0\n",
              "zip                 0\n",
              "res_ratio           0\n",
              "dtype: int64"
            ]
          },
          "metadata": {},
          "execution_count": 25
        }
      ]
    },
    {
      "cell_type": "code",
      "metadata": {
        "colab": {
          "base_uri": "https://localhost:8080/"
        },
        "id": "Ssv7rP0D9LX7",
        "outputId": "1a7d04a2-a005-494c-ac31-e30fae8a6ad2"
      },
      "source": [
        "merge.State.unique()"
      ],
      "execution_count": 26,
      "outputs": [
        {
          "output_type": "execute_result",
          "data": {
            "text/plain": [
              "array(['Alabama', 'Alaska', 'Arizona', 'Arkansas', 'California',\n",
              "       'Colorado', 'Connecticut', 'Delaware', 'District of Columbia',\n",
              "       'Florida', 'Georgia', 'Hawaii', 'Idaho', 'Illinois', 'Indiana',\n",
              "       'Iowa', 'Kansas', 'Kentucky', 'Louisiana', 'Maine', 'Maryland',\n",
              "       'Massachusetts', 'Michigan', 'Minnesota', 'Mississippi',\n",
              "       'Missouri', 'Montana', 'Nebraska', 'Nevada', 'New Hampshire',\n",
              "       'New Jersey', 'New Mexico', 'New York', 'North Carolina',\n",
              "       'North Dakota', 'Ohio', 'Oklahoma', 'Oregon', 'Pennsylvania',\n",
              "       'Rhode Island', 'South Carolina', 'South Dakota', 'Tennessee',\n",
              "       'Texas', 'Utah', 'Vermont', 'Virginia', 'Washington',\n",
              "       'West Virginia', 'Wisconsin', 'Wyoming', 'Puerto Rico'],\n",
              "      dtype=object)"
            ]
          },
          "metadata": {},
          "execution_count": 26
        }
      ]
    },
    {
      "cell_type": "markdown",
      "metadata": {
        "id": "xqWzMl7gE-6H"
      },
      "source": [
        "### Remove nonstates"
      ]
    },
    {
      "cell_type": "code",
      "metadata": {
        "id": "CkKsRB3b-AA7"
      },
      "source": [
        "# Remove areas we don't have in other df\n",
        "merge = merge[merge['State'] != 'Puerto Rico']"
      ],
      "execution_count": 27,
      "outputs": []
    },
    {
      "cell_type": "code",
      "metadata": {
        "colab": {
          "base_uri": "https://localhost:8080/"
        },
        "id": "6Au545KX-UZY",
        "outputId": "1f4bfe7a-d321-4f2f-8a37-57d6d5bf37d8"
      },
      "source": [
        "merge['State'].nunique()"
      ],
      "execution_count": 28,
      "outputs": [
        {
          "output_type": "execute_result",
          "data": {
            "text/plain": [
              "51"
            ]
          },
          "metadata": {},
          "execution_count": 28
        }
      ]
    },
    {
      "cell_type": "markdown",
      "metadata": {
        "id": "z-cE_TA_eTiG"
      },
      "source": [
        "## Map Tracts to Zip Code\n",
        "* first get multiply % columns by total population\n",
        "* multiply % columns by employed\n",
        "* multiply residential ratio across rows"
      ]
    },
    {
      "cell_type": "markdown",
      "metadata": {
        "id": "bIXl0DwlgzNa"
      },
      "source": [
        "### Make Numbers Compatible"
      ]
    },
    {
      "cell_type": "markdown",
      "metadata": {
        "id": "supffNP4DXH0"
      },
      "source": [
        "#### Dividing certain columns by 100\n"
      ]
    },
    {
      "cell_type": "markdown",
      "metadata": {
        "id": "NLDYOzmTDmOh"
      },
      "source": [
        "##### Making sure I capture the correct columns"
      ]
    },
    {
      "cell_type": "code",
      "metadata": {
        "colab": {
          "base_uri": "https://localhost:8080/",
          "height": 424
        },
        "id": "b_PjmFySRXAb",
        "outputId": "383519b0-bb44-41ac-d822-ff6ade1fd16d"
      },
      "source": [
        "merge.iloc[:,6:11+1]"
      ],
      "execution_count": 29,
      "outputs": [
        {
          "output_type": "execute_result",
          "data": {
            "text/plain": [
              "        Hispanic  White  Black  Native  Asian  Pacific\n",
              "0            2.4   86.3    5.2     0.0    1.2      0.0\n",
              "1            1.1   41.6   54.5     0.0    1.0      0.0\n",
              "2            1.1   41.6   54.5     0.0    1.0      0.0\n",
              "3            8.0   61.4   26.5     0.6    0.7      0.4\n",
              "4            9.6   80.3    7.1     0.5    0.2      0.0\n",
              "...          ...    ...    ...     ...    ...      ...\n",
              "166947       3.0   89.4    1.0     0.1    3.0      0.0\n",
              "166948       3.0   89.4    1.0     0.1    3.0      0.0\n",
              "166949       3.0   89.4    1.0     0.1    3.0      0.0\n",
              "166950       3.0   89.4    1.0     0.1    3.0      0.0\n",
              "166951       0.1   93.6    0.0     0.1    5.4      0.0\n",
              "\n",
              "[166952 rows x 6 columns]"
            ],
            "text/html": "<div>\n<style scoped>\n    .dataframe tbody tr th:only-of-type {\n        vertical-align: middle;\n    }\n\n    .dataframe tbody tr th {\n        vertical-align: top;\n    }\n\n    .dataframe thead th {\n        text-align: right;\n    }\n</style>\n<table border=\"1\" class=\"dataframe\">\n  <thead>\n    <tr style=\"text-align: right;\">\n      <th></th>\n      <th>Hispanic</th>\n      <th>White</th>\n      <th>Black</th>\n      <th>Native</th>\n      <th>Asian</th>\n      <th>Pacific</th>\n    </tr>\n  </thead>\n  <tbody>\n    <tr>\n      <th>0</th>\n      <td>2.4</td>\n      <td>86.3</td>\n      <td>5.2</td>\n      <td>0.0</td>\n      <td>1.2</td>\n      <td>0.0</td>\n    </tr>\n    <tr>\n      <th>1</th>\n      <td>1.1</td>\n      <td>41.6</td>\n      <td>54.5</td>\n      <td>0.0</td>\n      <td>1.0</td>\n      <td>0.0</td>\n    </tr>\n    <tr>\n      <th>2</th>\n      <td>1.1</td>\n      <td>41.6</td>\n      <td>54.5</td>\n      <td>0.0</td>\n      <td>1.0</td>\n      <td>0.0</td>\n    </tr>\n    <tr>\n      <th>3</th>\n      <td>8.0</td>\n      <td>61.4</td>\n      <td>26.5</td>\n      <td>0.6</td>\n      <td>0.7</td>\n      <td>0.4</td>\n    </tr>\n    <tr>\n      <th>4</th>\n      <td>9.6</td>\n      <td>80.3</td>\n      <td>7.1</td>\n      <td>0.5</td>\n      <td>0.2</td>\n      <td>0.0</td>\n    </tr>\n    <tr>\n      <th>...</th>\n      <td>...</td>\n      <td>...</td>\n      <td>...</td>\n      <td>...</td>\n      <td>...</td>\n      <td>...</td>\n    </tr>\n    <tr>\n      <th>166947</th>\n      <td>3.0</td>\n      <td>89.4</td>\n      <td>1.0</td>\n      <td>0.1</td>\n      <td>3.0</td>\n      <td>0.0</td>\n    </tr>\n    <tr>\n      <th>166948</th>\n      <td>3.0</td>\n      <td>89.4</td>\n      <td>1.0</td>\n      <td>0.1</td>\n      <td>3.0</td>\n      <td>0.0</td>\n    </tr>\n    <tr>\n      <th>166949</th>\n      <td>3.0</td>\n      <td>89.4</td>\n      <td>1.0</td>\n      <td>0.1</td>\n      <td>3.0</td>\n      <td>0.0</td>\n    </tr>\n    <tr>\n      <th>166950</th>\n      <td>3.0</td>\n      <td>89.4</td>\n      <td>1.0</td>\n      <td>0.1</td>\n      <td>3.0</td>\n      <td>0.0</td>\n    </tr>\n    <tr>\n      <th>166951</th>\n      <td>0.1</td>\n      <td>93.6</td>\n      <td>0.0</td>\n      <td>0.1</td>\n      <td>5.4</td>\n      <td>0.0</td>\n    </tr>\n  </tbody>\n</table>\n<p>166952 rows × 6 columns</p>\n</div>"
          },
          "metadata": {},
          "execution_count": 29
        }
      ]
    },
    {
      "cell_type": "code",
      "metadata": {
        "colab": {
          "base_uri": "https://localhost:8080/",
          "height": 444
        },
        "id": "GnBJwb_MDdni",
        "outputId": "bc09bdd1-5fe3-4e68-dad8-d90ac311576b"
      },
      "source": [
        "merge.iloc[:,17:30+1]"
      ],
      "execution_count": 30,
      "outputs": [
        {
          "output_type": "execute_result",
          "data": {
            "text/plain": [
              "        Poverty  ChildPoverty  Professional  Service  Office  Construction  \\\n",
              "0          10.7          20.8          38.5     15.6    22.8          10.8   \n",
              "1          22.4          35.8          30.5     24.9    22.9           6.3   \n",
              "2          22.4          35.8          30.5     24.9    22.9           6.3   \n",
              "3          14.7          21.1          27.9     19.4    33.3           9.9   \n",
              "4           2.3           1.7          29.0     16.6    25.8           9.1   \n",
              "...         ...           ...           ...      ...     ...           ...   \n",
              "166947     12.5          18.5          32.2     15.9    13.4          20.5   \n",
              "166948     12.5          18.5          32.2     15.9    13.4          20.5   \n",
              "166949     12.5          18.5          32.2     15.9    13.4          20.5   \n",
              "166950     12.5          18.5          32.2     15.9    13.4          20.5   \n",
              "166951     15.9          27.7          31.7     14.3    17.9          15.7   \n",
              "\n",
              "        Production  Drive  Carpool  Transit  Walk  OtherTransp  WorkAtHome  \\\n",
              "0             12.4   94.2      3.3      0.0   0.5          0.0         2.1   \n",
              "1             15.4   90.5      9.1      0.0   0.0          0.5         0.0   \n",
              "2             15.4   90.5      9.1      0.0   0.0          0.5         0.0   \n",
              "3              9.6   88.3      8.4      0.0   1.0          0.8         1.5   \n",
              "4             19.5   82.3     11.2      0.0   1.5          2.9         2.1   \n",
              "...            ...    ...      ...      ...   ...          ...         ...   \n",
              "166947        17.9   72.2      8.0      9.5   2.1          3.0         5.2   \n",
              "166948        17.9   72.2      8.0      9.5   2.1          3.0         5.2   \n",
              "166949        17.9   72.2      8.0      9.5   2.1          3.0         5.2   \n",
              "166950        17.9   72.2      8.0      9.5   2.1          3.0         5.2   \n",
              "166951        20.4   73.2      5.5      8.8   3.7          0.4         8.3   \n",
              "\n",
              "        MeanCommute  \n",
              "0              24.5  \n",
              "1              22.2  \n",
              "2              22.2  \n",
              "3              23.1  \n",
              "4              25.9  \n",
              "...             ...  \n",
              "166947         31.3  \n",
              "166948         31.3  \n",
              "166949         31.3  \n",
              "166950         31.3  \n",
              "166951         20.7  \n",
              "\n",
              "[166952 rows x 14 columns]"
            ],
            "text/html": "<div>\n<style scoped>\n    .dataframe tbody tr th:only-of-type {\n        vertical-align: middle;\n    }\n\n    .dataframe tbody tr th {\n        vertical-align: top;\n    }\n\n    .dataframe thead th {\n        text-align: right;\n    }\n</style>\n<table border=\"1\" class=\"dataframe\">\n  <thead>\n    <tr style=\"text-align: right;\">\n      <th></th>\n      <th>Poverty</th>\n      <th>ChildPoverty</th>\n      <th>Professional</th>\n      <th>Service</th>\n      <th>Office</th>\n      <th>Construction</th>\n      <th>Production</th>\n      <th>Drive</th>\n      <th>Carpool</th>\n      <th>Transit</th>\n      <th>Walk</th>\n      <th>OtherTransp</th>\n      <th>WorkAtHome</th>\n      <th>MeanCommute</th>\n    </tr>\n  </thead>\n  <tbody>\n    <tr>\n      <th>0</th>\n      <td>10.7</td>\n      <td>20.8</td>\n      <td>38.5</td>\n      <td>15.6</td>\n      <td>22.8</td>\n      <td>10.8</td>\n      <td>12.4</td>\n      <td>94.2</td>\n      <td>3.3</td>\n      <td>0.0</td>\n      <td>0.5</td>\n      <td>0.0</td>\n      <td>2.1</td>\n      <td>24.5</td>\n    </tr>\n    <tr>\n      <th>1</th>\n      <td>22.4</td>\n      <td>35.8</td>\n      <td>30.5</td>\n      <td>24.9</td>\n      <td>22.9</td>\n      <td>6.3</td>\n      <td>15.4</td>\n      <td>90.5</td>\n      <td>9.1</td>\n      <td>0.0</td>\n      <td>0.0</td>\n      <td>0.5</td>\n      <td>0.0</td>\n      <td>22.2</td>\n    </tr>\n    <tr>\n      <th>2</th>\n      <td>22.4</td>\n      <td>35.8</td>\n      <td>30.5</td>\n      <td>24.9</td>\n      <td>22.9</td>\n      <td>6.3</td>\n      <td>15.4</td>\n      <td>90.5</td>\n      <td>9.1</td>\n      <td>0.0</td>\n      <td>0.0</td>\n      <td>0.5</td>\n      <td>0.0</td>\n      <td>22.2</td>\n    </tr>\n    <tr>\n      <th>3</th>\n      <td>14.7</td>\n      <td>21.1</td>\n      <td>27.9</td>\n      <td>19.4</td>\n      <td>33.3</td>\n      <td>9.9</td>\n      <td>9.6</td>\n      <td>88.3</td>\n      <td>8.4</td>\n      <td>0.0</td>\n      <td>1.0</td>\n      <td>0.8</td>\n      <td>1.5</td>\n      <td>23.1</td>\n    </tr>\n    <tr>\n      <th>4</th>\n      <td>2.3</td>\n      <td>1.7</td>\n      <td>29.0</td>\n      <td>16.6</td>\n      <td>25.8</td>\n      <td>9.1</td>\n      <td>19.5</td>\n      <td>82.3</td>\n      <td>11.2</td>\n      <td>0.0</td>\n      <td>1.5</td>\n      <td>2.9</td>\n      <td>2.1</td>\n      <td>25.9</td>\n    </tr>\n    <tr>\n      <th>...</th>\n      <td>...</td>\n      <td>...</td>\n      <td>...</td>\n      <td>...</td>\n      <td>...</td>\n      <td>...</td>\n      <td>...</td>\n      <td>...</td>\n      <td>...</td>\n      <td>...</td>\n      <td>...</td>\n      <td>...</td>\n      <td>...</td>\n      <td>...</td>\n    </tr>\n    <tr>\n      <th>166947</th>\n      <td>12.5</td>\n      <td>18.5</td>\n      <td>32.2</td>\n      <td>15.9</td>\n      <td>13.4</td>\n      <td>20.5</td>\n      <td>17.9</td>\n      <td>72.2</td>\n      <td>8.0</td>\n      <td>9.5</td>\n      <td>2.1</td>\n      <td>3.0</td>\n      <td>5.2</td>\n      <td>31.3</td>\n    </tr>\n    <tr>\n      <th>166948</th>\n      <td>12.5</td>\n      <td>18.5</td>\n      <td>32.2</td>\n      <td>15.9</td>\n      <td>13.4</td>\n      <td>20.5</td>\n      <td>17.9</td>\n      <td>72.2</td>\n      <td>8.0</td>\n      <td>9.5</td>\n      <td>2.1</td>\n      <td>3.0</td>\n      <td>5.2</td>\n      <td>31.3</td>\n    </tr>\n    <tr>\n      <th>166949</th>\n      <td>12.5</td>\n      <td>18.5</td>\n      <td>32.2</td>\n      <td>15.9</td>\n      <td>13.4</td>\n      <td>20.5</td>\n      <td>17.9</td>\n      <td>72.2</td>\n      <td>8.0</td>\n      <td>9.5</td>\n      <td>2.1</td>\n      <td>3.0</td>\n      <td>5.2</td>\n      <td>31.3</td>\n    </tr>\n    <tr>\n      <th>166950</th>\n      <td>12.5</td>\n      <td>18.5</td>\n      <td>32.2</td>\n      <td>15.9</td>\n      <td>13.4</td>\n      <td>20.5</td>\n      <td>17.9</td>\n      <td>72.2</td>\n      <td>8.0</td>\n      <td>9.5</td>\n      <td>2.1</td>\n      <td>3.0</td>\n      <td>5.2</td>\n      <td>31.3</td>\n    </tr>\n    <tr>\n      <th>166951</th>\n      <td>15.9</td>\n      <td>27.7</td>\n      <td>31.7</td>\n      <td>14.3</td>\n      <td>17.9</td>\n      <td>15.7</td>\n      <td>20.4</td>\n      <td>73.2</td>\n      <td>5.5</td>\n      <td>8.8</td>\n      <td>3.7</td>\n      <td>0.4</td>\n      <td>8.3</td>\n      <td>20.7</td>\n    </tr>\n  </tbody>\n</table>\n<p>166952 rows × 14 columns</p>\n</div>"
          },
          "metadata": {},
          "execution_count": 30
        }
      ]
    },
    {
      "cell_type": "code",
      "metadata": {
        "colab": {
          "base_uri": "https://localhost:8080/",
          "height": 424
        },
        "id": "Wp83fb5QzJFx",
        "outputId": "3880caea-279d-4510-86ef-b47c878c2e8d"
      },
      "source": [
        "merge.iloc[:,32:36+1]"
      ],
      "execution_count": 31,
      "outputs": [
        {
          "output_type": "execute_result",
          "data": {
            "text/plain": [
              "        PrivateWork  PublicWork  SelfEmployed  FamilyWork  Unemployment\n",
              "0              74.2        21.2           4.5         0.0           4.6\n",
              "1              75.9        15.0           9.0         0.0           3.4\n",
              "2              75.9        15.0           9.0         0.0           3.4\n",
              "3              73.3        21.1           4.8         0.7           4.7\n",
              "4              75.8        19.7           4.5         0.0           6.1\n",
              "...             ...         ...           ...         ...           ...\n",
              "166947         64.6        22.9          10.9         1.6           0.4\n",
              "166948         64.6        22.9          10.9         1.6           0.4\n",
              "166949         64.6        22.9          10.9         1.6           0.4\n",
              "166950         64.6        22.9          10.9         1.6           0.4\n",
              "166951         71.3        21.1           7.0         0.6           3.7\n",
              "\n",
              "[166952 rows x 5 columns]"
            ],
            "text/html": "<div>\n<style scoped>\n    .dataframe tbody tr th:only-of-type {\n        vertical-align: middle;\n    }\n\n    .dataframe tbody tr th {\n        vertical-align: top;\n    }\n\n    .dataframe thead th {\n        text-align: right;\n    }\n</style>\n<table border=\"1\" class=\"dataframe\">\n  <thead>\n    <tr style=\"text-align: right;\">\n      <th></th>\n      <th>PrivateWork</th>\n      <th>PublicWork</th>\n      <th>SelfEmployed</th>\n      <th>FamilyWork</th>\n      <th>Unemployment</th>\n    </tr>\n  </thead>\n  <tbody>\n    <tr>\n      <th>0</th>\n      <td>74.2</td>\n      <td>21.2</td>\n      <td>4.5</td>\n      <td>0.0</td>\n      <td>4.6</td>\n    </tr>\n    <tr>\n      <th>1</th>\n      <td>75.9</td>\n      <td>15.0</td>\n      <td>9.0</td>\n      <td>0.0</td>\n      <td>3.4</td>\n    </tr>\n    <tr>\n      <th>2</th>\n      <td>75.9</td>\n      <td>15.0</td>\n      <td>9.0</td>\n      <td>0.0</td>\n      <td>3.4</td>\n    </tr>\n    <tr>\n      <th>3</th>\n      <td>73.3</td>\n      <td>21.1</td>\n      <td>4.8</td>\n      <td>0.7</td>\n      <td>4.7</td>\n    </tr>\n    <tr>\n      <th>4</th>\n      <td>75.8</td>\n      <td>19.7</td>\n      <td>4.5</td>\n      <td>0.0</td>\n      <td>6.1</td>\n    </tr>\n    <tr>\n      <th>...</th>\n      <td>...</td>\n      <td>...</td>\n      <td>...</td>\n      <td>...</td>\n      <td>...</td>\n    </tr>\n    <tr>\n      <th>166947</th>\n      <td>64.6</td>\n      <td>22.9</td>\n      <td>10.9</td>\n      <td>1.6</td>\n      <td>0.4</td>\n    </tr>\n    <tr>\n      <th>166948</th>\n      <td>64.6</td>\n      <td>22.9</td>\n      <td>10.9</td>\n      <td>1.6</td>\n      <td>0.4</td>\n    </tr>\n    <tr>\n      <th>166949</th>\n      <td>64.6</td>\n      <td>22.9</td>\n      <td>10.9</td>\n      <td>1.6</td>\n      <td>0.4</td>\n    </tr>\n    <tr>\n      <th>166950</th>\n      <td>64.6</td>\n      <td>22.9</td>\n      <td>10.9</td>\n      <td>1.6</td>\n      <td>0.4</td>\n    </tr>\n    <tr>\n      <th>166951</th>\n      <td>71.3</td>\n      <td>21.1</td>\n      <td>7.0</td>\n      <td>0.6</td>\n      <td>3.7</td>\n    </tr>\n  </tbody>\n</table>\n<p>166952 rows × 5 columns</p>\n</div>"
          },
          "metadata": {},
          "execution_count": 31
        }
      ]
    },
    {
      "cell_type": "code",
      "metadata": {
        "id": "IE7Y-URcDr7H"
      },
      "source": [
        "merge.iloc[:,6:11+1] /= 100"
      ],
      "execution_count": 32,
      "outputs": []
    },
    {
      "cell_type": "code",
      "metadata": {
        "id": "tOxFl-pbD5lI"
      },
      "source": [
        "merge.iloc[:,17:30+1] /= 100"
      ],
      "execution_count": 33,
      "outputs": []
    },
    {
      "cell_type": "code",
      "metadata": {
        "id": "rbP9M5s5w-E3"
      },
      "source": [
        "merge.iloc[:,32:36+1] /= 100"
      ],
      "execution_count": 34,
      "outputs": []
    },
    {
      "cell_type": "code",
      "metadata": {
        "colab": {
          "base_uri": "https://localhost:8080/",
          "height": 313
        },
        "id": "FbBtTXAuEBq1",
        "outputId": "2d6a415c-0253-40a4-d116-adf730febe98"
      },
      "source": [
        "merge.head()"
      ],
      "execution_count": 35,
      "outputs": [
        {
          "output_type": "execute_result",
          "data": {
            "text/plain": [
              "      TractId    State          County  TotalPop   Men  Women  Hispanic  \\\n",
              "0  1001020100  Alabama  Autauga County      1845   899    946     0.024   \n",
              "1  1001020200  Alabama  Autauga County      2172  1167   1005     0.011   \n",
              "2  1001020200  Alabama  Autauga County      2172  1167   1005     0.011   \n",
              "3  1001020300  Alabama  Autauga County      3385  1533   1852     0.080   \n",
              "4  1001020400  Alabama  Autauga County      4267  2001   2266     0.096   \n",
              "\n",
              "   White  Black  Native  Asian  Pacific  VotingAgeCitizen   Income  IncomeErr  \\\n",
              "0  0.863  0.052   0.000  0.012    0.000              1407  67826.0    14560.0   \n",
              "1  0.416  0.545   0.000  0.010    0.000              1652  41287.0     3819.0   \n",
              "2  0.416  0.545   0.000  0.010    0.000              1652  41287.0     3819.0   \n",
              "3  0.614  0.265   0.006  0.007    0.004              2480  46806.0     9496.0   \n",
              "4  0.803  0.071   0.005  0.002    0.000              3257  55895.0     4369.0   \n",
              "\n",
              "   IncomePerCap  IncomePerCapErr  Poverty  ChildPoverty  Professional  \\\n",
              "0       33018.0           6294.0    0.107         0.208         0.385   \n",
              "1       18996.0           2453.0    0.224         0.358         0.305   \n",
              "2       18996.0           2453.0    0.224         0.358         0.305   \n",
              "3       21236.0           2562.0    0.147         0.211         0.279   \n",
              "4       28068.0           3190.0    0.023         0.017         0.290   \n",
              "\n",
              "   Service  Office  Construction  Production  Drive  Carpool  Transit   Walk  \\\n",
              "0    0.156   0.228         0.108       0.124  0.942    0.033      0.0  0.005   \n",
              "1    0.249   0.229         0.063       0.154  0.905    0.091      0.0  0.000   \n",
              "2    0.249   0.229         0.063       0.154  0.905    0.091      0.0  0.000   \n",
              "3    0.194   0.333         0.099       0.096  0.883    0.084      0.0  0.010   \n",
              "4    0.166   0.258         0.091       0.195  0.823    0.112      0.0  0.015   \n",
              "\n",
              "   OtherTransp  WorkAtHome  MeanCommute  Employed  PrivateWork  PublicWork  \\\n",
              "0        0.000       0.021        0.245       881        0.742       0.212   \n",
              "1        0.005       0.000        0.222       852        0.759       0.150   \n",
              "2        0.005       0.000        0.222       852        0.759       0.150   \n",
              "3        0.008       0.015        0.231      1482        0.733       0.211   \n",
              "4        0.029       0.021        0.259      1849        0.758       0.197   \n",
              "\n",
              "   SelfEmployed  FamilyWork  Unemployment    zip  res_ratio  \n",
              "0         0.045       0.000         0.046  36067   1.000000  \n",
              "1         0.090       0.000         0.034  36008   0.028243  \n",
              "2         0.090       0.000         0.034  36067   0.971757  \n",
              "3         0.048       0.007         0.047  36067   1.000000  \n",
              "4         0.045       0.000         0.061  36067   0.025543  "
            ],
            "text/html": "<div>\n<style scoped>\n    .dataframe tbody tr th:only-of-type {\n        vertical-align: middle;\n    }\n\n    .dataframe tbody tr th {\n        vertical-align: top;\n    }\n\n    .dataframe thead th {\n        text-align: right;\n    }\n</style>\n<table border=\"1\" class=\"dataframe\">\n  <thead>\n    <tr style=\"text-align: right;\">\n      <th></th>\n      <th>TractId</th>\n      <th>State</th>\n      <th>County</th>\n      <th>TotalPop</th>\n      <th>Men</th>\n      <th>Women</th>\n      <th>Hispanic</th>\n      <th>White</th>\n      <th>Black</th>\n      <th>Native</th>\n      <th>Asian</th>\n      <th>Pacific</th>\n      <th>VotingAgeCitizen</th>\n      <th>Income</th>\n      <th>IncomeErr</th>\n      <th>IncomePerCap</th>\n      <th>IncomePerCapErr</th>\n      <th>Poverty</th>\n      <th>ChildPoverty</th>\n      <th>Professional</th>\n      <th>Service</th>\n      <th>Office</th>\n      <th>Construction</th>\n      <th>Production</th>\n      <th>Drive</th>\n      <th>Carpool</th>\n      <th>Transit</th>\n      <th>Walk</th>\n      <th>OtherTransp</th>\n      <th>WorkAtHome</th>\n      <th>MeanCommute</th>\n      <th>Employed</th>\n      <th>PrivateWork</th>\n      <th>PublicWork</th>\n      <th>SelfEmployed</th>\n      <th>FamilyWork</th>\n      <th>Unemployment</th>\n      <th>zip</th>\n      <th>res_ratio</th>\n    </tr>\n  </thead>\n  <tbody>\n    <tr>\n      <th>0</th>\n      <td>1001020100</td>\n      <td>Alabama</td>\n      <td>Autauga County</td>\n      <td>1845</td>\n      <td>899</td>\n      <td>946</td>\n      <td>0.024</td>\n      <td>0.863</td>\n      <td>0.052</td>\n      <td>0.000</td>\n      <td>0.012</td>\n      <td>0.000</td>\n      <td>1407</td>\n      <td>67826.0</td>\n      <td>14560.0</td>\n      <td>33018.0</td>\n      <td>6294.0</td>\n      <td>0.107</td>\n      <td>0.208</td>\n      <td>0.385</td>\n      <td>0.156</td>\n      <td>0.228</td>\n      <td>0.108</td>\n      <td>0.124</td>\n      <td>0.942</td>\n      <td>0.033</td>\n      <td>0.0</td>\n      <td>0.005</td>\n      <td>0.000</td>\n      <td>0.021</td>\n      <td>0.245</td>\n      <td>881</td>\n      <td>0.742</td>\n      <td>0.212</td>\n      <td>0.045</td>\n      <td>0.000</td>\n      <td>0.046</td>\n      <td>36067</td>\n      <td>1.000000</td>\n    </tr>\n    <tr>\n      <th>1</th>\n      <td>1001020200</td>\n      <td>Alabama</td>\n      <td>Autauga County</td>\n      <td>2172</td>\n      <td>1167</td>\n      <td>1005</td>\n      <td>0.011</td>\n      <td>0.416</td>\n      <td>0.545</td>\n      <td>0.000</td>\n      <td>0.010</td>\n      <td>0.000</td>\n      <td>1652</td>\n      <td>41287.0</td>\n      <td>3819.0</td>\n      <td>18996.0</td>\n      <td>2453.0</td>\n      <td>0.224</td>\n      <td>0.358</td>\n      <td>0.305</td>\n      <td>0.249</td>\n      <td>0.229</td>\n      <td>0.063</td>\n      <td>0.154</td>\n      <td>0.905</td>\n      <td>0.091</td>\n      <td>0.0</td>\n      <td>0.000</td>\n      <td>0.005</td>\n      <td>0.000</td>\n      <td>0.222</td>\n      <td>852</td>\n      <td>0.759</td>\n      <td>0.150</td>\n      <td>0.090</td>\n      <td>0.000</td>\n      <td>0.034</td>\n      <td>36008</td>\n      <td>0.028243</td>\n    </tr>\n    <tr>\n      <th>2</th>\n      <td>1001020200</td>\n      <td>Alabama</td>\n      <td>Autauga County</td>\n      <td>2172</td>\n      <td>1167</td>\n      <td>1005</td>\n      <td>0.011</td>\n      <td>0.416</td>\n      <td>0.545</td>\n      <td>0.000</td>\n      <td>0.010</td>\n      <td>0.000</td>\n      <td>1652</td>\n      <td>41287.0</td>\n      <td>3819.0</td>\n      <td>18996.0</td>\n      <td>2453.0</td>\n      <td>0.224</td>\n      <td>0.358</td>\n      <td>0.305</td>\n      <td>0.249</td>\n      <td>0.229</td>\n      <td>0.063</td>\n      <td>0.154</td>\n      <td>0.905</td>\n      <td>0.091</td>\n      <td>0.0</td>\n      <td>0.000</td>\n      <td>0.005</td>\n      <td>0.000</td>\n      <td>0.222</td>\n      <td>852</td>\n      <td>0.759</td>\n      <td>0.150</td>\n      <td>0.090</td>\n      <td>0.000</td>\n      <td>0.034</td>\n      <td>36067</td>\n      <td>0.971757</td>\n    </tr>\n    <tr>\n      <th>3</th>\n      <td>1001020300</td>\n      <td>Alabama</td>\n      <td>Autauga County</td>\n      <td>3385</td>\n      <td>1533</td>\n      <td>1852</td>\n      <td>0.080</td>\n      <td>0.614</td>\n      <td>0.265</td>\n      <td>0.006</td>\n      <td>0.007</td>\n      <td>0.004</td>\n      <td>2480</td>\n      <td>46806.0</td>\n      <td>9496.0</td>\n      <td>21236.0</td>\n      <td>2562.0</td>\n      <td>0.147</td>\n      <td>0.211</td>\n      <td>0.279</td>\n      <td>0.194</td>\n      <td>0.333</td>\n      <td>0.099</td>\n      <td>0.096</td>\n      <td>0.883</td>\n      <td>0.084</td>\n      <td>0.0</td>\n      <td>0.010</td>\n      <td>0.008</td>\n      <td>0.015</td>\n      <td>0.231</td>\n      <td>1482</td>\n      <td>0.733</td>\n      <td>0.211</td>\n      <td>0.048</td>\n      <td>0.007</td>\n      <td>0.047</td>\n      <td>36067</td>\n      <td>1.000000</td>\n    </tr>\n    <tr>\n      <th>4</th>\n      <td>1001020400</td>\n      <td>Alabama</td>\n      <td>Autauga County</td>\n      <td>4267</td>\n      <td>2001</td>\n      <td>2266</td>\n      <td>0.096</td>\n      <td>0.803</td>\n      <td>0.071</td>\n      <td>0.005</td>\n      <td>0.002</td>\n      <td>0.000</td>\n      <td>3257</td>\n      <td>55895.0</td>\n      <td>4369.0</td>\n      <td>28068.0</td>\n      <td>3190.0</td>\n      <td>0.023</td>\n      <td>0.017</td>\n      <td>0.290</td>\n      <td>0.166</td>\n      <td>0.258</td>\n      <td>0.091</td>\n      <td>0.195</td>\n      <td>0.823</td>\n      <td>0.112</td>\n      <td>0.0</td>\n      <td>0.015</td>\n      <td>0.029</td>\n      <td>0.021</td>\n      <td>0.259</td>\n      <td>1849</td>\n      <td>0.758</td>\n      <td>0.197</td>\n      <td>0.045</td>\n      <td>0.000</td>\n      <td>0.061</td>\n      <td>36067</td>\n      <td>0.025543</td>\n    </tr>\n  </tbody>\n</table>\n</div>"
          },
          "metadata": {},
          "execution_count": 35
        }
      ]
    },
    {
      "cell_type": "markdown",
      "metadata": {
        "id": "AYGmLrRmrGh9"
      },
      "source": [
        "### Multiply "
      ]
    },
    {
      "cell_type": "markdown",
      "metadata": {
        "id": "Wl7lEguMEG0I"
      },
      "source": [
        "##### Multiply Columns by Total Population"
      ]
    },
    {
      "cell_type": "code",
      "metadata": {
        "id": "7SQ01QSSQhJE"
      },
      "source": [
        "col = ['Hispanic','White', 'Black', 'Native', 'Asian', 'Pacific','Poverty',\n",
        "       'ChildPoverty','Unemployment']"
      ],
      "execution_count": 37,
      "outputs": []
    },
    {
      "cell_type": "code",
      "metadata": {
        "id": "PuYD8mBpELQb"
      },
      "source": [
        "merge[col] = merge[col].multiply(merge['TotalPop'], axis = 'index')"
      ],
      "execution_count": 38,
      "outputs": []
    },
    {
      "cell_type": "code",
      "metadata": {
        "id": "gX38lIgJRFFm"
      },
      "source": [
        "merge[col] = merge[col].astype(int)"
      ],
      "execution_count": 39,
      "outputs": []
    },
    {
      "source": [
        "##### Multiply Columns by Employment"
      ],
      "cell_type": "markdown",
      "metadata": {}
    },
    {
      "cell_type": "code",
      "metadata": {
        "id": "i1SB6h_wrFOY"
      },
      "source": [
        "employment = ['Professional', 'Service', 'Office', 'Construction', 'Production', \n",
        "              'Drive', 'Carpool', 'Transit', 'Walk', 'OtherTransp', 'WorkAtHome', \n",
        "              'MeanCommute','PrivateWork', 'PublicWork','SelfEmployed', 'FamilyWork']"
      ],
      "execution_count": 40,
      "outputs": []
    },
    {
      "cell_type": "code",
      "metadata": {
        "id": "pKLxv-mmrPXy"
      },
      "source": [
        "merge[employment] = merge[employment].multiply(merge['Employed'], axis = 'index')"
      ],
      "execution_count": 41,
      "outputs": []
    },
    {
      "cell_type": "code",
      "metadata": {
        "id": "amUD92Q94_od"
      },
      "source": [
        "merge[employment] = merge[employment].astype(int)"
      ],
      "execution_count": 42,
      "outputs": []
    },
    {
      "cell_type": "markdown",
      "metadata": {
        "id": "E5lWrfJlXxfm"
      },
      "source": [
        "##### Check values"
      ]
    },
    {
      "cell_type": "code",
      "metadata": {
        "colab": {
          "base_uri": "https://localhost:8080/",
          "height": 118
        },
        "id": "TfFA29BhaQDA",
        "outputId": "9563794a-0fa3-4494-ce84-2e34b4c3a9c2"
      },
      "source": [
        "df.loc[\n",
        "       (df.State == 'Wyoming')\n",
        "       &(df.TotalPop == 3329)\n",
        "       &(df.TractId == 56045951100)]"
      ],
      "execution_count": 43,
      "outputs": [
        {
          "output_type": "execute_result",
          "data": {
            "text/plain": [
              "           TractId    State         County  TotalPop   Men  Women  Hispanic  \\\n",
              "73054  56045951100  Wyoming  Weston County      3329  1946   1383       3.0   \n",
              "\n",
              "       White  Black  Native  Asian  Pacific  VotingAgeCitizen   Income  \\\n",
              "73054   89.4    1.0     0.1    3.0      0.0              2700  62435.0   \n",
              "\n",
              "       IncomeErr  IncomePerCap  IncomePerCapErr  Poverty  ChildPoverty  \\\n",
              "73054     9525.0       32665.0           4047.0     12.5          18.5   \n",
              "\n",
              "       Professional  Service  Office  Construction  Production  Drive  \\\n",
              "73054          32.2     15.9    13.4          20.5        17.9   72.2   \n",
              "\n",
              "       Carpool  Transit  Walk  OtherTransp  WorkAtHome  MeanCommute  Employed  \\\n",
              "73054      8.0      9.5   2.1          3.0         5.2         31.3      1583   \n",
              "\n",
              "       PrivateWork  PublicWork  SelfEmployed  FamilyWork  Unemployment  \n",
              "73054         64.6        22.9          10.9         1.6           0.4  "
            ],
            "text/html": "<div>\n<style scoped>\n    .dataframe tbody tr th:only-of-type {\n        vertical-align: middle;\n    }\n\n    .dataframe tbody tr th {\n        vertical-align: top;\n    }\n\n    .dataframe thead th {\n        text-align: right;\n    }\n</style>\n<table border=\"1\" class=\"dataframe\">\n  <thead>\n    <tr style=\"text-align: right;\">\n      <th></th>\n      <th>TractId</th>\n      <th>State</th>\n      <th>County</th>\n      <th>TotalPop</th>\n      <th>Men</th>\n      <th>Women</th>\n      <th>Hispanic</th>\n      <th>White</th>\n      <th>Black</th>\n      <th>Native</th>\n      <th>Asian</th>\n      <th>Pacific</th>\n      <th>VotingAgeCitizen</th>\n      <th>Income</th>\n      <th>IncomeErr</th>\n      <th>IncomePerCap</th>\n      <th>IncomePerCapErr</th>\n      <th>Poverty</th>\n      <th>ChildPoverty</th>\n      <th>Professional</th>\n      <th>Service</th>\n      <th>Office</th>\n      <th>Construction</th>\n      <th>Production</th>\n      <th>Drive</th>\n      <th>Carpool</th>\n      <th>Transit</th>\n      <th>Walk</th>\n      <th>OtherTransp</th>\n      <th>WorkAtHome</th>\n      <th>MeanCommute</th>\n      <th>Employed</th>\n      <th>PrivateWork</th>\n      <th>PublicWork</th>\n      <th>SelfEmployed</th>\n      <th>FamilyWork</th>\n      <th>Unemployment</th>\n    </tr>\n  </thead>\n  <tbody>\n    <tr>\n      <th>73054</th>\n      <td>56045951100</td>\n      <td>Wyoming</td>\n      <td>Weston County</td>\n      <td>3329</td>\n      <td>1946</td>\n      <td>1383</td>\n      <td>3.0</td>\n      <td>89.4</td>\n      <td>1.0</td>\n      <td>0.1</td>\n      <td>3.0</td>\n      <td>0.0</td>\n      <td>2700</td>\n      <td>62435.0</td>\n      <td>9525.0</td>\n      <td>32665.0</td>\n      <td>4047.0</td>\n      <td>12.5</td>\n      <td>18.5</td>\n      <td>32.2</td>\n      <td>15.9</td>\n      <td>13.4</td>\n      <td>20.5</td>\n      <td>17.9</td>\n      <td>72.2</td>\n      <td>8.0</td>\n      <td>9.5</td>\n      <td>2.1</td>\n      <td>3.0</td>\n      <td>5.2</td>\n      <td>31.3</td>\n      <td>1583</td>\n      <td>64.6</td>\n      <td>22.9</td>\n      <td>10.9</td>\n      <td>1.6</td>\n      <td>0.4</td>\n    </tr>\n  </tbody>\n</table>\n</div>"
          },
          "metadata": {},
          "execution_count": 43
        }
      ]
    },
    {
      "cell_type": "code",
      "metadata": {
        "colab": {
          "base_uri": "https://localhost:8080/",
          "height": 118
        },
        "id": "OBI8W2KYX7FH",
        "outputId": "85db9db2-9082-41ee-8ef4-c3efcb7b9eb6"
      },
      "source": [
        "merge.loc[166948:166948]"
      ],
      "execution_count": 44,
      "outputs": [
        {
          "output_type": "execute_result",
          "data": {
            "text/plain": [
              "            TractId    State         County  TotalPop   Men  Women  Hispanic  \\\n",
              "166948  56045951100  Wyoming  Weston County      3329  1946   1383        99   \n",
              "\n",
              "        White  Black  Native  Asian  Pacific  VotingAgeCitizen   Income  \\\n",
              "166948   2976     33       3     99        0              2700  62435.0   \n",
              "\n",
              "        IncomeErr  IncomePerCap  IncomePerCapErr  Poverty  ChildPoverty  \\\n",
              "166948     9525.0       32665.0           4047.0      416           615   \n",
              "\n",
              "        Professional  Service  Office  Construction  Production  Drive  \\\n",
              "166948           509      251     212           324         283   1142   \n",
              "\n",
              "        Carpool  Transit  Walk  OtherTransp  WorkAtHome  MeanCommute  \\\n",
              "166948      126      150    33           47          82          495   \n",
              "\n",
              "        Employed  PrivateWork  PublicWork  SelfEmployed  FamilyWork  \\\n",
              "166948      1583         1022         362           172          25   \n",
              "\n",
              "        Unemployment    zip  res_ratio  \n",
              "166948            13  82729   0.002424  "
            ],
            "text/html": "<div>\n<style scoped>\n    .dataframe tbody tr th:only-of-type {\n        vertical-align: middle;\n    }\n\n    .dataframe tbody tr th {\n        vertical-align: top;\n    }\n\n    .dataframe thead th {\n        text-align: right;\n    }\n</style>\n<table border=\"1\" class=\"dataframe\">\n  <thead>\n    <tr style=\"text-align: right;\">\n      <th></th>\n      <th>TractId</th>\n      <th>State</th>\n      <th>County</th>\n      <th>TotalPop</th>\n      <th>Men</th>\n      <th>Women</th>\n      <th>Hispanic</th>\n      <th>White</th>\n      <th>Black</th>\n      <th>Native</th>\n      <th>Asian</th>\n      <th>Pacific</th>\n      <th>VotingAgeCitizen</th>\n      <th>Income</th>\n      <th>IncomeErr</th>\n      <th>IncomePerCap</th>\n      <th>IncomePerCapErr</th>\n      <th>Poverty</th>\n      <th>ChildPoverty</th>\n      <th>Professional</th>\n      <th>Service</th>\n      <th>Office</th>\n      <th>Construction</th>\n      <th>Production</th>\n      <th>Drive</th>\n      <th>Carpool</th>\n      <th>Transit</th>\n      <th>Walk</th>\n      <th>OtherTransp</th>\n      <th>WorkAtHome</th>\n      <th>MeanCommute</th>\n      <th>Employed</th>\n      <th>PrivateWork</th>\n      <th>PublicWork</th>\n      <th>SelfEmployed</th>\n      <th>FamilyWork</th>\n      <th>Unemployment</th>\n      <th>zip</th>\n      <th>res_ratio</th>\n    </tr>\n  </thead>\n  <tbody>\n    <tr>\n      <th>166948</th>\n      <td>56045951100</td>\n      <td>Wyoming</td>\n      <td>Weston County</td>\n      <td>3329</td>\n      <td>1946</td>\n      <td>1383</td>\n      <td>99</td>\n      <td>2976</td>\n      <td>33</td>\n      <td>3</td>\n      <td>99</td>\n      <td>0</td>\n      <td>2700</td>\n      <td>62435.0</td>\n      <td>9525.0</td>\n      <td>32665.0</td>\n      <td>4047.0</td>\n      <td>416</td>\n      <td>615</td>\n      <td>509</td>\n      <td>251</td>\n      <td>212</td>\n      <td>324</td>\n      <td>283</td>\n      <td>1142</td>\n      <td>126</td>\n      <td>150</td>\n      <td>33</td>\n      <td>47</td>\n      <td>82</td>\n      <td>495</td>\n      <td>1583</td>\n      <td>1022</td>\n      <td>362</td>\n      <td>172</td>\n      <td>25</td>\n      <td>13</td>\n      <td>82729</td>\n      <td>0.002424</td>\n    </tr>\n  </tbody>\n</table>\n</div>"
          },
          "metadata": {},
          "execution_count": 44
        }
      ]
    },
    {
      "cell_type": "code",
      "metadata": {
        "colab": {
          "base_uri": "https://localhost:8080/"
        },
        "id": "CjIsGIb1bZ52",
        "outputId": "927d7568-4f49-474d-f9b6-bc8ebf2be1d8"
      },
      "source": [
        "int(3/100 * 3329)"
      ],
      "execution_count": 45,
      "outputs": [
        {
          "output_type": "execute_result",
          "data": {
            "text/plain": [
              "99"
            ]
          },
          "metadata": {},
          "execution_count": 45
        }
      ]
    },
    {
      "cell_type": "code",
      "metadata": {
        "colab": {
          "base_uri": "https://localhost:8080/"
        },
        "id": "otOQyrpZcMUu",
        "outputId": "0c1e0845-d050-4f84-db04-c6f71eb72bc4"
      },
      "source": [
        "int(89.4/100 * 3329)"
      ],
      "execution_count": 46,
      "outputs": [
        {
          "output_type": "execute_result",
          "data": {
            "text/plain": [
              "2976"
            ]
          },
          "metadata": {},
          "execution_count": 46
        }
      ]
    },
    {
      "cell_type": "code",
      "metadata": {
        "colab": {
          "base_uri": "https://localhost:8080/"
        },
        "id": "o2G3EChssMrV",
        "outputId": "cdc6697a-3453-49b3-de91-88cc5530aa2f"
      },
      "source": [
        "int(64.6/100  * 1583)"
      ],
      "execution_count": 47,
      "outputs": [
        {
          "output_type": "execute_result",
          "data": {
            "text/plain": [
              "1022"
            ]
          },
          "metadata": {},
          "execution_count": 47
        }
      ]
    },
    {
      "cell_type": "code",
      "metadata": {
        "colab": {
          "base_uri": "https://localhost:8080/"
        },
        "id": "01DoXzGPsX6H",
        "outputId": "c6eaa962-624c-46cf-d22d-799bcb870529"
      },
      "source": [
        "int(1.6/100  * 1583)"
      ],
      "execution_count": 48,
      "outputs": [
        {
          "output_type": "execute_result",
          "data": {
            "text/plain": [
              "25"
            ]
          },
          "metadata": {},
          "execution_count": 48
        }
      ]
    },
    {
      "cell_type": "code",
      "metadata": {
        "id": "yb5nkGKSbFCJ"
      },
      "source": [
        "assert merge['Hispanic'][166948] == 99"
      ],
      "execution_count": 49,
      "outputs": []
    },
    {
      "cell_type": "code",
      "metadata": {
        "id": "-ynCA1U3cR6i"
      },
      "source": [
        "assert merge['White'][166948] == 2976"
      ],
      "execution_count": 50,
      "outputs": []
    },
    {
      "cell_type": "code",
      "metadata": {
        "id": "cGOOb-NAsdZw"
      },
      "source": [
        "assert merge['PrivateWork'][166948] == 1022"
      ],
      "execution_count": 51,
      "outputs": []
    },
    {
      "cell_type": "code",
      "metadata": {
        "id": "QE2QdcKFstWq"
      },
      "source": [
        "assert merge['FamilyWork'][166948] == 25"
      ],
      "execution_count": 52,
      "outputs": []
    },
    {
      "cell_type": "code",
      "metadata": {
        "colab": {
          "base_uri": "https://localhost:8080/",
          "height": 118
        },
        "id": "3r8A-oKjcb5q",
        "outputId": "ba86ee6c-c9bb-4a4c-d102-dcad8abfddd8"
      },
      "source": [
        "df.loc[\n",
        "       (df.State == 'Alabama')\n",
        "       &(df.TotalPop == 7131)\n",
        "       &(df.TractId == 1003011601)]"
      ],
      "execution_count": 53,
      "outputs": [
        {
          "output_type": "execute_result",
          "data": {
            "text/plain": [
              "       TractId    State          County  TotalPop   Men  Women  Hispanic  \\\n",
              "41  1003011601  Alabama  Baldwin County      7131  3699   3432       9.7   \n",
              "\n",
              "    White  Black  Native  Asian  Pacific  VotingAgeCitizen   Income  \\\n",
              "41   87.6    1.4     0.7    0.1      0.0              5232  49900.0   \n",
              "\n",
              "    IncomeErr  IncomePerCap  IncomePerCapErr  Poverty  ChildPoverty  \\\n",
              "41     9397.0       21858.0           3270.0     22.4          35.1   \n",
              "\n",
              "    Professional  Service  Office  Construction  Production  Drive  Carpool  \\\n",
              "41          25.4     23.9    22.6          11.3        16.7   83.4      7.4   \n",
              "\n",
              "    Transit  Walk  OtherTransp  WorkAtHome  MeanCommute  Employed  \\\n",
              "41      0.0   0.5          0.3         8.4         29.3      3260   \n",
              "\n",
              "    PrivateWork  PublicWork  SelfEmployed  FamilyWork  Unemployment  \n",
              "41         76.8         9.5          13.5         0.2           3.1  "
            ],
            "text/html": "<div>\n<style scoped>\n    .dataframe tbody tr th:only-of-type {\n        vertical-align: middle;\n    }\n\n    .dataframe tbody tr th {\n        vertical-align: top;\n    }\n\n    .dataframe thead th {\n        text-align: right;\n    }\n</style>\n<table border=\"1\" class=\"dataframe\">\n  <thead>\n    <tr style=\"text-align: right;\">\n      <th></th>\n      <th>TractId</th>\n      <th>State</th>\n      <th>County</th>\n      <th>TotalPop</th>\n      <th>Men</th>\n      <th>Women</th>\n      <th>Hispanic</th>\n      <th>White</th>\n      <th>Black</th>\n      <th>Native</th>\n      <th>Asian</th>\n      <th>Pacific</th>\n      <th>VotingAgeCitizen</th>\n      <th>Income</th>\n      <th>IncomeErr</th>\n      <th>IncomePerCap</th>\n      <th>IncomePerCapErr</th>\n      <th>Poverty</th>\n      <th>ChildPoverty</th>\n      <th>Professional</th>\n      <th>Service</th>\n      <th>Office</th>\n      <th>Construction</th>\n      <th>Production</th>\n      <th>Drive</th>\n      <th>Carpool</th>\n      <th>Transit</th>\n      <th>Walk</th>\n      <th>OtherTransp</th>\n      <th>WorkAtHome</th>\n      <th>MeanCommute</th>\n      <th>Employed</th>\n      <th>PrivateWork</th>\n      <th>PublicWork</th>\n      <th>SelfEmployed</th>\n      <th>FamilyWork</th>\n      <th>Unemployment</th>\n    </tr>\n  </thead>\n  <tbody>\n    <tr>\n      <th>41</th>\n      <td>1003011601</td>\n      <td>Alabama</td>\n      <td>Baldwin County</td>\n      <td>7131</td>\n      <td>3699</td>\n      <td>3432</td>\n      <td>9.7</td>\n      <td>87.6</td>\n      <td>1.4</td>\n      <td>0.7</td>\n      <td>0.1</td>\n      <td>0.0</td>\n      <td>5232</td>\n      <td>49900.0</td>\n      <td>9397.0</td>\n      <td>21858.0</td>\n      <td>3270.0</td>\n      <td>22.4</td>\n      <td>35.1</td>\n      <td>25.4</td>\n      <td>23.9</td>\n      <td>22.6</td>\n      <td>11.3</td>\n      <td>16.7</td>\n      <td>83.4</td>\n      <td>7.4</td>\n      <td>0.0</td>\n      <td>0.5</td>\n      <td>0.3</td>\n      <td>8.4</td>\n      <td>29.3</td>\n      <td>3260</td>\n      <td>76.8</td>\n      <td>9.5</td>\n      <td>13.5</td>\n      <td>0.2</td>\n      <td>3.1</td>\n    </tr>\n  </tbody>\n</table>\n</div>"
          },
          "metadata": {},
          "execution_count": 53
        }
      ]
    },
    {
      "cell_type": "code",
      "metadata": {
        "colab": {
          "base_uri": "https://localhost:8080/",
          "height": 118
        },
        "id": "Jt-x4w7IXwKQ",
        "outputId": "364f6f65-ff7f-49ee-f7ab-f1fab840b2d8"
      },
      "source": [
        "merge.loc[105:105]"
      ],
      "execution_count": 54,
      "outputs": [
        {
          "output_type": "execute_result",
          "data": {
            "text/plain": [
              "        TractId    State          County  TotalPop   Men  Women  Hispanic  \\\n",
              "105  1003011601  Alabama  Baldwin County      7131  3699   3432       691   \n",
              "\n",
              "     White  Black  Native  Asian  Pacific  VotingAgeCitizen   Income  \\\n",
              "105   6246     99      49      7        0              5232  49900.0   \n",
              "\n",
              "     IncomeErr  IncomePerCap  IncomePerCapErr  Poverty  ChildPoverty  \\\n",
              "105     9397.0       21858.0           3270.0     1597          2502   \n",
              "\n",
              "     Professional  Service  Office  Construction  Production  Drive  Carpool  \\\n",
              "105           828      779     736           368         544   2718      241   \n",
              "\n",
              "     Transit  Walk  OtherTransp  WorkAtHome  MeanCommute  Employed  \\\n",
              "105        0    16            9         273          955      3260   \n",
              "\n",
              "     PrivateWork  PublicWork  SelfEmployed  FamilyWork  Unemployment    zip  \\\n",
              "105         2503         309           440           6           221  36580   \n",
              "\n",
              "     res_ratio  \n",
              "105    0.01071  "
            ],
            "text/html": "<div>\n<style scoped>\n    .dataframe tbody tr th:only-of-type {\n        vertical-align: middle;\n    }\n\n    .dataframe tbody tr th {\n        vertical-align: top;\n    }\n\n    .dataframe thead th {\n        text-align: right;\n    }\n</style>\n<table border=\"1\" class=\"dataframe\">\n  <thead>\n    <tr style=\"text-align: right;\">\n      <th></th>\n      <th>TractId</th>\n      <th>State</th>\n      <th>County</th>\n      <th>TotalPop</th>\n      <th>Men</th>\n      <th>Women</th>\n      <th>Hispanic</th>\n      <th>White</th>\n      <th>Black</th>\n      <th>Native</th>\n      <th>Asian</th>\n      <th>Pacific</th>\n      <th>VotingAgeCitizen</th>\n      <th>Income</th>\n      <th>IncomeErr</th>\n      <th>IncomePerCap</th>\n      <th>IncomePerCapErr</th>\n      <th>Poverty</th>\n      <th>ChildPoverty</th>\n      <th>Professional</th>\n      <th>Service</th>\n      <th>Office</th>\n      <th>Construction</th>\n      <th>Production</th>\n      <th>Drive</th>\n      <th>Carpool</th>\n      <th>Transit</th>\n      <th>Walk</th>\n      <th>OtherTransp</th>\n      <th>WorkAtHome</th>\n      <th>MeanCommute</th>\n      <th>Employed</th>\n      <th>PrivateWork</th>\n      <th>PublicWork</th>\n      <th>SelfEmployed</th>\n      <th>FamilyWork</th>\n      <th>Unemployment</th>\n      <th>zip</th>\n      <th>res_ratio</th>\n    </tr>\n  </thead>\n  <tbody>\n    <tr>\n      <th>105</th>\n      <td>1003011601</td>\n      <td>Alabama</td>\n      <td>Baldwin County</td>\n      <td>7131</td>\n      <td>3699</td>\n      <td>3432</td>\n      <td>691</td>\n      <td>6246</td>\n      <td>99</td>\n      <td>49</td>\n      <td>7</td>\n      <td>0</td>\n      <td>5232</td>\n      <td>49900.0</td>\n      <td>9397.0</td>\n      <td>21858.0</td>\n      <td>3270.0</td>\n      <td>1597</td>\n      <td>2502</td>\n      <td>828</td>\n      <td>779</td>\n      <td>736</td>\n      <td>368</td>\n      <td>544</td>\n      <td>2718</td>\n      <td>241</td>\n      <td>0</td>\n      <td>16</td>\n      <td>9</td>\n      <td>273</td>\n      <td>955</td>\n      <td>3260</td>\n      <td>2503</td>\n      <td>309</td>\n      <td>440</td>\n      <td>6</td>\n      <td>221</td>\n      <td>36580</td>\n      <td>0.01071</td>\n    </tr>\n  </tbody>\n</table>\n</div>"
          },
          "metadata": {},
          "execution_count": 54
        }
      ]
    },
    {
      "cell_type": "code",
      "metadata": {
        "colab": {
          "base_uri": "https://localhost:8080/"
        },
        "id": "IcYRwlcr6_MS",
        "outputId": "bae22c59-0a4e-49de-da76-8398756228a1"
      },
      "source": [
        "int(9.7/100 * 7131)"
      ],
      "execution_count": 55,
      "outputs": [
        {
          "output_type": "execute_result",
          "data": {
            "text/plain": [
              "691"
            ]
          },
          "metadata": {},
          "execution_count": 55
        }
      ]
    },
    {
      "cell_type": "code",
      "metadata": {
        "colab": {
          "base_uri": "https://localhost:8080/"
        },
        "id": "rOjJRP_rcYXE",
        "outputId": "0e1ade98-5ef3-4fa7-9195-00e98adcda18"
      },
      "source": [
        "int(25.4/100 * 3260)"
      ],
      "execution_count": 56,
      "outputs": [
        {
          "output_type": "execute_result",
          "data": {
            "text/plain": [
              "828"
            ]
          },
          "metadata": {},
          "execution_count": 56
        }
      ]
    },
    {
      "cell_type": "code",
      "metadata": {
        "colab": {
          "base_uri": "https://localhost:8080/"
        },
        "id": "lqOoTGeZc-eP",
        "outputId": "ebb34e8b-30c7-4b63-8483-ae4c1a2514b0"
      },
      "source": [
        "int(11.3/100 * 3260)"
      ],
      "execution_count": 57,
      "outputs": [
        {
          "output_type": "execute_result",
          "data": {
            "text/plain": [
              "368"
            ]
          },
          "metadata": {},
          "execution_count": 57
        }
      ]
    },
    {
      "cell_type": "code",
      "metadata": {
        "colab": {
          "base_uri": "https://localhost:8080/"
        },
        "id": "YdXEQ1cwtr22",
        "outputId": "d1fc685b-9401-4f10-a010-d2e6f812b5fd"
      },
      "source": [
        "int(9.5/100 * 3260)"
      ],
      "execution_count": 58,
      "outputs": [
        {
          "output_type": "execute_result",
          "data": {
            "text/plain": [
              "309"
            ]
          },
          "metadata": {},
          "execution_count": 58
        }
      ]
    },
    {
      "cell_type": "code",
      "metadata": {
        "colab": {
          "base_uri": "https://localhost:8080/"
        },
        "id": "lYzlc81ftv5y",
        "outputId": "b904ea40-eb45-4d92-9c79-0adb0b951673"
      },
      "source": [
        "int(13.5/100 * 3260)"
      ],
      "execution_count": 59,
      "outputs": [
        {
          "output_type": "execute_result",
          "data": {
            "text/plain": [
              "440"
            ]
          },
          "metadata": {},
          "execution_count": 59
        }
      ]
    },
    {
      "cell_type": "code",
      "metadata": {
        "id": "I0mdSjHg7HS_"
      },
      "source": [
        "assert merge['Hispanic'][105] == 691"
      ],
      "execution_count": 60,
      "outputs": []
    },
    {
      "cell_type": "code",
      "metadata": {
        "id": "2kqJ3sFJcwcR"
      },
      "source": [
        "assert merge['Professional'][105] == 828"
      ],
      "execution_count": 61,
      "outputs": []
    },
    {
      "cell_type": "code",
      "metadata": {
        "id": "YDSPOKICc8KT"
      },
      "source": [
        "assert merge['Construction'][105] == 368"
      ],
      "execution_count": 62,
      "outputs": []
    },
    {
      "cell_type": "code",
      "metadata": {
        "id": "HB3MXcpBs2lS"
      },
      "source": [
        "assert merge['PublicWork'][105] == 309"
      ],
      "execution_count": 63,
      "outputs": []
    },
    {
      "cell_type": "code",
      "metadata": {
        "id": "24HKffA6s6vd"
      },
      "source": [
        "assert merge['SelfEmployed'][105] == 440"
      ],
      "execution_count": 64,
      "outputs": []
    },
    {
      "cell_type": "markdown",
      "metadata": {
        "id": "hy0IxY_ffAnr"
      },
      "source": [
        "#### Mutiply each row by residential ratio"
      ]
    },
    {
      "cell_type": "code",
      "metadata": {
        "id": "PXRB0loTfGWv"
      },
      "source": [
        "newcol = ['TotalPop', 'Men', 'Women', 'Hispanic',\n",
        "       'White', 'Black', 'Native', 'Asian', 'Pacific', 'VotingAgeCitizen',\n",
        "       'Income', 'IncomeErr', 'IncomePerCap', 'IncomePerCapErr', 'Poverty',\n",
        "       'ChildPoverty', 'Professional', 'Service', 'Office', 'Construction',\n",
        "       'Production', 'Drive', 'Carpool', 'Transit', 'Walk', 'OtherTransp',\n",
        "       'WorkAtHome', 'MeanCommute', 'Employed', 'PrivateWork', 'PublicWork',\n",
        "       'SelfEmployed', 'FamilyWork', 'Unemployment']"
      ],
      "execution_count": 65,
      "outputs": []
    },
    {
      "cell_type": "code",
      "metadata": {
        "id": "xGrbRoqNfOkI"
      },
      "source": [
        "merge[newcol] = merge[newcol].multiply(merge['res_ratio'], axis = 'index')"
      ],
      "execution_count": 66,
      "outputs": []
    },
    {
      "cell_type": "code",
      "metadata": {
        "id": "WWmhiW9WgQnC"
      },
      "source": [
        "merge[newcol] = merge[newcol].astype(int)"
      ],
      "execution_count": 67,
      "outputs": []
    },
    {
      "cell_type": "code",
      "metadata": {
        "colab": {
          "base_uri": "https://localhost:8080/"
        },
        "id": "IvbT-moO6SMi",
        "outputId": "5cdfd72d-ad88-4a76-8218-d6bef7eb9518"
      },
      "source": [
        "min(merge['zip']), max(merge['zip'])"
      ],
      "execution_count": 69,
      "outputs": [
        {
          "output_type": "execute_result",
          "data": {
            "text/plain": [
              "(501, 99929)"
            ]
          },
          "metadata": {},
          "execution_count": 69
        }
      ]
    },
    {
      "cell_type": "code",
      "metadata": {
        "id": "KrbAcn8lx6-c"
      },
      "source": [
        "merge['zip'] = merge['zip'].astype('str').str.zfill(5)"
      ],
      "execution_count": 70,
      "outputs": []
    },
    {
      "cell_type": "code",
      "metadata": {
        "id": "sLu_V_I2_DTG"
      },
      "source": [
        "merge = merge.drop(columns = ['res_ratio'])"
      ],
      "execution_count": 71,
      "outputs": []
    },
    {
      "cell_type": "markdown",
      "metadata": {
        "id": "dokkWx02pdFK"
      },
      "source": [
        "## Map Zip Codes to City"
      ]
    },
    {
      "cell_type": "code",
      "metadata": {
        "colab": {
          "base_uri": "https://localhost:8080/"
        },
        "id": "9vjxWE9xJ2WR",
        "outputId": "9ebae4ce-ec21-4382-8ec8-f9ac656b6d53"
      },
      "source": [
        "uszip.columns"
      ],
      "execution_count": 73,
      "outputs": [
        {
          "output_type": "execute_result",
          "data": {
            "text/plain": [
              "Index(['zip', 'lat', 'lng', 'city', 'state_id', 'state_name', 'zcta',\n",
              "       'parent_zcta', 'population', 'density', 'county_fips', 'county_name',\n",
              "       'county_weights', 'county_names_all', 'county_fips_all', 'imprecise',\n",
              "       'military', 'timezone'],\n",
              "      dtype='object')"
            ]
          },
          "metadata": {},
          "execution_count": 73
        }
      ]
    },
    {
      "cell_type": "code",
      "metadata": {
        "id": "Z7jeeS9ZJ2Lp"
      },
      "source": [
        "uszip = uszip[['zip', 'city', 'state_name', 'state_id', 'county_name']]"
      ],
      "execution_count": 74,
      "outputs": []
    },
    {
      "cell_type": "code",
      "execution_count": 75,
      "metadata": {},
      "outputs": [],
      "source": [
        "merge = merge.merge(uszip, on = 'zip')"
      ]
    },
    {
      "cell_type": "code",
      "metadata": {
        "id": "5oj658Q3YjpX"
      },
      "source": [
        "merge = merge.rename(columns = {'city': 'City',\n",
        "                                'state_id':'State_Id'})"
      ],
      "execution_count": 76,
      "outputs": []
    },
    {
      "cell_type": "markdown",
      "metadata": {
        "id": "E-cRYKNYS0Ln"
      },
      "source": [
        "##  Group by Cities"
      ]
    },
    {
      "cell_type": "code",
      "execution_count": 77,
      "metadata": {},
      "outputs": [],
      "source": [
        "merge = merge.groupby(['City', 'State_Id'],as_index=False).sum()"
      ]
    },
    {
      "cell_type": "code",
      "execution_count": 78,
      "metadata": {},
      "outputs": [
        {
          "output_type": "execute_result",
          "data": {
            "text/plain": [
              "         City State_Id       TractId  TotalPop    Men  Women  Hispanic  White  \\\n",
              "0  Aaronsburg       PA   42027010800      1056    532    524        11   1029   \n",
              "1   Abbeville       AL    4268121200      6693   3361   3329       188   3999   \n",
              "2   Abbeville       GA   39947880700      4683   3205   1478       203   2229   \n",
              "3   Abbeville       LA  243253457806     25185  12341  12839       894  16810   \n",
              "4   Abbeville       MS   84215850903      2078   1033   1042        65   1270   \n",
              "\n",
              "   Black  Native  Asian  Pacific  VotingAgeCitizen  Income  IncomeErr  \\\n",
              "0      0       0      7        0               739   10258       1258   \n",
              "1   2441       2      0        0              5612  111583      24675   \n",
              "2   2173       5      0        0              3869   42497      10566   \n",
              "3   6186      51    820        0             17956  286959      55459   \n",
              "4    688       0      7        0              1557   23656       3944   \n",
              "\n",
              "   IncomePerCap  IncomePerCapErr  Poverty  ChildPoverty  Professional  \\\n",
              "0          4516              324      173           334           138   \n",
              "1         60066             8645     1252          2581           584   \n",
              "2         16894             4017     1543          2318           209   \n",
              "3        135638            17577     5334          6718          2664   \n",
              "4         12435             1903      439           691           281   \n",
              "\n",
              "   Service  Office  Construction  Production  Drive  Carpool  Transit  Walk  \\\n",
              "0      106      95            78          83    349       62        1    19   \n",
              "1      540     497           181         668   2123      231        0    39   \n",
              "2      242     110           114         138    726       55        0    11   \n",
              "3     1951    2804          1499        1477   8380     1226       12   354   \n",
              "4      181     127            78         212    757       89        7     2   \n",
              "\n",
              "   OtherTransp  WorkAtHome  MeanCommute  Employed  PrivateWork  PublicWork  \\\n",
              "0           18          51          139       502          384          54   \n",
              "1           30          48          654      2485         2031         335   \n",
              "2            5          15          244       824          485         276   \n",
              "3          136         301         2898     10437         8553        1340   \n",
              "4            0          25          276       887          700         126   \n",
              "\n",
              "   SelfEmployed  FamilyWork  Unemployment  \n",
              "0            62           0            33  \n",
              "1           112           0           453  \n",
              "2            57           0           184  \n",
              "3           525           0          1851  \n",
              "4            58           0           164  "
            ],
            "text/html": "<div>\n<style scoped>\n    .dataframe tbody tr th:only-of-type {\n        vertical-align: middle;\n    }\n\n    .dataframe tbody tr th {\n        vertical-align: top;\n    }\n\n    .dataframe thead th {\n        text-align: right;\n    }\n</style>\n<table border=\"1\" class=\"dataframe\">\n  <thead>\n    <tr style=\"text-align: right;\">\n      <th></th>\n      <th>City</th>\n      <th>State_Id</th>\n      <th>TractId</th>\n      <th>TotalPop</th>\n      <th>Men</th>\n      <th>Women</th>\n      <th>Hispanic</th>\n      <th>White</th>\n      <th>Black</th>\n      <th>Native</th>\n      <th>Asian</th>\n      <th>Pacific</th>\n      <th>VotingAgeCitizen</th>\n      <th>Income</th>\n      <th>IncomeErr</th>\n      <th>IncomePerCap</th>\n      <th>IncomePerCapErr</th>\n      <th>Poverty</th>\n      <th>ChildPoverty</th>\n      <th>Professional</th>\n      <th>Service</th>\n      <th>Office</th>\n      <th>Construction</th>\n      <th>Production</th>\n      <th>Drive</th>\n      <th>Carpool</th>\n      <th>Transit</th>\n      <th>Walk</th>\n      <th>OtherTransp</th>\n      <th>WorkAtHome</th>\n      <th>MeanCommute</th>\n      <th>Employed</th>\n      <th>PrivateWork</th>\n      <th>PublicWork</th>\n      <th>SelfEmployed</th>\n      <th>FamilyWork</th>\n      <th>Unemployment</th>\n    </tr>\n  </thead>\n  <tbody>\n    <tr>\n      <th>0</th>\n      <td>Aaronsburg</td>\n      <td>PA</td>\n      <td>42027010800</td>\n      <td>1056</td>\n      <td>532</td>\n      <td>524</td>\n      <td>11</td>\n      <td>1029</td>\n      <td>0</td>\n      <td>0</td>\n      <td>7</td>\n      <td>0</td>\n      <td>739</td>\n      <td>10258</td>\n      <td>1258</td>\n      <td>4516</td>\n      <td>324</td>\n      <td>173</td>\n      <td>334</td>\n      <td>138</td>\n      <td>106</td>\n      <td>95</td>\n      <td>78</td>\n      <td>83</td>\n      <td>349</td>\n      <td>62</td>\n      <td>1</td>\n      <td>19</td>\n      <td>18</td>\n      <td>51</td>\n      <td>139</td>\n      <td>502</td>\n      <td>384</td>\n      <td>54</td>\n      <td>62</td>\n      <td>0</td>\n      <td>33</td>\n    </tr>\n    <tr>\n      <th>1</th>\n      <td>Abbeville</td>\n      <td>AL</td>\n      <td>4268121200</td>\n      <td>6693</td>\n      <td>3361</td>\n      <td>3329</td>\n      <td>188</td>\n      <td>3999</td>\n      <td>2441</td>\n      <td>2</td>\n      <td>0</td>\n      <td>0</td>\n      <td>5612</td>\n      <td>111583</td>\n      <td>24675</td>\n      <td>60066</td>\n      <td>8645</td>\n      <td>1252</td>\n      <td>2581</td>\n      <td>584</td>\n      <td>540</td>\n      <td>497</td>\n      <td>181</td>\n      <td>668</td>\n      <td>2123</td>\n      <td>231</td>\n      <td>0</td>\n      <td>39</td>\n      <td>30</td>\n      <td>48</td>\n      <td>654</td>\n      <td>2485</td>\n      <td>2031</td>\n      <td>335</td>\n      <td>112</td>\n      <td>0</td>\n      <td>453</td>\n    </tr>\n    <tr>\n      <th>2</th>\n      <td>Abbeville</td>\n      <td>GA</td>\n      <td>39947880700</td>\n      <td>4683</td>\n      <td>3205</td>\n      <td>1478</td>\n      <td>203</td>\n      <td>2229</td>\n      <td>2173</td>\n      <td>5</td>\n      <td>0</td>\n      <td>0</td>\n      <td>3869</td>\n      <td>42497</td>\n      <td>10566</td>\n      <td>16894</td>\n      <td>4017</td>\n      <td>1543</td>\n      <td>2318</td>\n      <td>209</td>\n      <td>242</td>\n      <td>110</td>\n      <td>114</td>\n      <td>138</td>\n      <td>726</td>\n      <td>55</td>\n      <td>0</td>\n      <td>11</td>\n      <td>5</td>\n      <td>15</td>\n      <td>244</td>\n      <td>824</td>\n      <td>485</td>\n      <td>276</td>\n      <td>57</td>\n      <td>0</td>\n      <td>184</td>\n    </tr>\n    <tr>\n      <th>3</th>\n      <td>Abbeville</td>\n      <td>LA</td>\n      <td>243253457806</td>\n      <td>25185</td>\n      <td>12341</td>\n      <td>12839</td>\n      <td>894</td>\n      <td>16810</td>\n      <td>6186</td>\n      <td>51</td>\n      <td>820</td>\n      <td>0</td>\n      <td>17956</td>\n      <td>286959</td>\n      <td>55459</td>\n      <td>135638</td>\n      <td>17577</td>\n      <td>5334</td>\n      <td>6718</td>\n      <td>2664</td>\n      <td>1951</td>\n      <td>2804</td>\n      <td>1499</td>\n      <td>1477</td>\n      <td>8380</td>\n      <td>1226</td>\n      <td>12</td>\n      <td>354</td>\n      <td>136</td>\n      <td>301</td>\n      <td>2898</td>\n      <td>10437</td>\n      <td>8553</td>\n      <td>1340</td>\n      <td>525</td>\n      <td>0</td>\n      <td>1851</td>\n    </tr>\n    <tr>\n      <th>4</th>\n      <td>Abbeville</td>\n      <td>MS</td>\n      <td>84215850903</td>\n      <td>2078</td>\n      <td>1033</td>\n      <td>1042</td>\n      <td>65</td>\n      <td>1270</td>\n      <td>688</td>\n      <td>0</td>\n      <td>7</td>\n      <td>0</td>\n      <td>1557</td>\n      <td>23656</td>\n      <td>3944</td>\n      <td>12435</td>\n      <td>1903</td>\n      <td>439</td>\n      <td>691</td>\n      <td>281</td>\n      <td>181</td>\n      <td>127</td>\n      <td>78</td>\n      <td>212</td>\n      <td>757</td>\n      <td>89</td>\n      <td>7</td>\n      <td>2</td>\n      <td>0</td>\n      <td>25</td>\n      <td>276</td>\n      <td>887</td>\n      <td>700</td>\n      <td>126</td>\n      <td>58</td>\n      <td>0</td>\n      <td>164</td>\n    </tr>\n  </tbody>\n</table>\n</div>"
          },
          "metadata": {},
          "execution_count": 78
        }
      ],
      "source": [
        "merge.head()"
      ]
    },
    {
      "cell_type": "markdown",
      "metadata": {
        "id": "ZW3QPaoIajum"
      },
      "source": [
        "### Ratios\n",
        "-return df back to census form"
      ]
    },
    {
      "cell_type": "markdown",
      "metadata": {
        "id": "F-HZblarbxQ8"
      },
      "source": [
        "##### Multiply columns by 100"
      ]
    },
    {
      "cell_type": "code",
      "metadata": {
        "id": "1ooRXH-JawWw"
      },
      "source": [
        "merge.iloc[:,6:11+1] *= 100 "
      ],
      "execution_count": 79,
      "outputs": []
    },
    {
      "cell_type": "code",
      "metadata": {
        "id": "97Bx3BNFa4Vr"
      },
      "source": [
        "merge.iloc[:,17:30+1] *= 100"
      ],
      "execution_count": 80,
      "outputs": []
    },
    {
      "cell_type": "code",
      "metadata": {
        "id": "QtrgHcsYxc_G"
      },
      "source": [
        "merge.iloc[:,32:36+1] *= 100"
      ],
      "execution_count": 81,
      "outputs": []
    },
    {
      "cell_type": "markdown",
      "metadata": {
        "id": "5Sj3UWA5b86l"
      },
      "source": [
        "##### Divide columns by Total Population"
      ]
    },
    {
      "cell_type": "code",
      "metadata": {
        "id": "QLyZLATybFa7"
      },
      "source": [
        "col = ['Hispanic','White', 'Black', 'Native', 'Asian', 'Pacific','Poverty',\n",
        "       'ChildPoverty','Unemployment']"
      ],
      "execution_count": 82,
      "outputs": []
    },
    {
      "cell_type": "code",
      "metadata": {
        "id": "nOwcvaXWbD4r"
      },
      "source": [
        "merge[col] = merge[col].divide(merge['TotalPop'], axis = 'index')"
      ],
      "execution_count": 83,
      "outputs": []
    },
    {
      "cell_type": "code",
      "metadata": {
        "id": "NgKcaBYKh-Wk"
      },
      "source": [
        "merge[col] = merge[col].round(1)"
      ],
      "execution_count": 84,
      "outputs": []
    },
    {
      "cell_type": "markdown",
      "metadata": {
        "id": "ndNut-wK5YSV"
      },
      "source": [
        "##### Divide columns by Employed"
      ]
    },
    {
      "cell_type": "code",
      "metadata": {
        "id": "TXuK6yK8rwdk"
      },
      "source": [
        "employment = ['Professional', 'Service', 'Office', 'Construction', 'Production', \n",
        "              'Drive', 'Carpool', 'Transit', 'Walk', 'OtherTransp', 'WorkAtHome', \n",
        "              'MeanCommute', 'PrivateWork', 'PublicWork','SelfEmployed', 'FamilyWork']"
      ],
      "execution_count": 85,
      "outputs": []
    },
    {
      "cell_type": "code",
      "metadata": {
        "id": "EQDuiH9lruCe"
      },
      "source": [
        "merge[employment] = merge[employment].divide(merge['Employed'], axis = 'index')"
      ],
      "execution_count": 86,
      "outputs": []
    },
    {
      "cell_type": "code",
      "metadata": {
        "id": "k_P-oTJp5Tdt"
      },
      "source": [
        "merge[employment] = merge[employment].round(1)"
      ],
      "execution_count": 87,
      "outputs": []
    },
    {
      "cell_type": "markdown",
      "metadata": {
        "id": "T_jtqYyia7Vx"
      },
      "source": [
        "#### Create clean copy"
      ]
    },
    {
      "cell_type": "code",
      "metadata": {
        "colab": {
          "base_uri": "https://localhost:8080/"
        },
        "id": "qH8dKwkALsFN",
        "outputId": "30c1e66a-1a53-4cea-ec7a-e218d295e81d"
      },
      "source": [
        "merge.columns"
      ],
      "execution_count": 88,
      "outputs": [
        {
          "output_type": "execute_result",
          "data": {
            "text/plain": [
              "Index(['City', 'State_Id', 'TractId', 'TotalPop', 'Men', 'Women', 'Hispanic',\n",
              "       'White', 'Black', 'Native', 'Asian', 'Pacific', 'VotingAgeCitizen',\n",
              "       'Income', 'IncomeErr', 'IncomePerCap', 'IncomePerCapErr', 'Poverty',\n",
              "       'ChildPoverty', 'Professional', 'Service', 'Office', 'Construction',\n",
              "       'Production', 'Drive', 'Carpool', 'Transit', 'Walk', 'OtherTransp',\n",
              "       'WorkAtHome', 'MeanCommute', 'Employed', 'PrivateWork', 'PublicWork',\n",
              "       'SelfEmployed', 'FamilyWork', 'Unemployment'],\n",
              "      dtype='object')"
            ]
          },
          "metadata": {},
          "execution_count": 88
        }
      ]
    },
    {
      "cell_type": "code",
      "metadata": {
        "id": "urdHnxSeL4Hf"
      },
      "source": [
        "columns = ['TractId', 'City', 'State_Id', \n",
        "           'TotalPop', 'Men', 'Women', 'Hispanic','White', 'Black', 'Native', \n",
        "           'Asian', 'Pacific', 'VotingAgeCitizen','Income', 'IncomeErr', \n",
        "           'IncomePerCap', 'IncomePerCapErr', 'Poverty', 'ChildPoverty', \n",
        "           'Professional', 'Service', 'Office', 'Construction', 'Production', \n",
        "           'Drive', 'Carpool', 'Transit', 'Walk', 'OtherTransp', 'WorkAtHome', \n",
        "           'MeanCommute', 'Employed', 'PrivateWork', 'PublicWork', \n",
        "           'SelfEmployed', 'FamilyWork', 'Unemployment']"
      ],
      "execution_count": 89,
      "outputs": []
    },
    {
      "cell_type": "code",
      "metadata": {
        "id": "LE-zKls5L1oS"
      },
      "source": [
        "merge = merge[columns]"
      ],
      "execution_count": 90,
      "outputs": []
    },
    {
      "cell_type": "code",
      "metadata": {
        "colab": {
          "base_uri": "https://localhost:8080/"
        },
        "id": "saRIgvXLndMt",
        "outputId": "688dd112-3946-4d5e-d8db-707abf4457b9"
      },
      "source": [
        "merge.isnull().sum()"
      ],
      "execution_count": 91,
      "outputs": [
        {
          "output_type": "execute_result",
          "data": {
            "text/plain": [
              "TractId                0\n",
              "City                   0\n",
              "State_Id               0\n",
              "TotalPop               0\n",
              "Men                    0\n",
              "Women                  0\n",
              "Hispanic            2092\n",
              "White               2092\n",
              "Black               2092\n",
              "Native              2092\n",
              "Asian               2092\n",
              "Pacific             2092\n",
              "VotingAgeCitizen       0\n",
              "Income                 0\n",
              "IncomeErr              0\n",
              "IncomePerCap           0\n",
              "IncomePerCapErr        0\n",
              "Poverty             2092\n",
              "ChildPoverty        2092\n",
              "Professional        2192\n",
              "Service             2192\n",
              "Office              2192\n",
              "Construction        2192\n",
              "Production          2192\n",
              "Drive               2192\n",
              "Carpool             2192\n",
              "Transit             2192\n",
              "Walk                2192\n",
              "OtherTransp         2192\n",
              "WorkAtHome          2192\n",
              "MeanCommute         2192\n",
              "Employed               0\n",
              "PrivateWork         2192\n",
              "PublicWork          2192\n",
              "SelfEmployed        2192\n",
              "FamilyWork          2192\n",
              "Unemployment        2092\n",
              "dtype: int64"
            ]
          },
          "metadata": {},
          "execution_count": 91
        }
      ]
    },
    {
      "cell_type": "code",
      "metadata": {
        "id": "VjSdSKAVa_2_"
      },
      "source": [
        "merge = merge.dropna(axis=0, subset = ['Hispanic', 'White', 'Black', 'Native', 'Asian', 'Pacific'], how = 'all')\n",
        "merge = merge.dropna(axis=0, subset = ['Professional', 'Service', 'Office', 'Construction', \n",
        "                                       'Production','Drive', 'Carpool', 'Transit', 'Walk', \n",
        "                                       'OtherTransp', 'WorkAtHome', 'MeanCommute'], how = 'all')\n",
        "merge = merge.replace(np.nan, 0)"
      ],
      "execution_count": 92,
      "outputs": []
    },
    {
      "cell_type": "code",
      "metadata": {
        "colab": {
          "base_uri": "https://localhost:8080/",
          "height": 313
        },
        "id": "nk_bZZLHMuOc",
        "outputId": "0fbbc706-65ca-441b-e3b3-25274185ab2b"
      },
      "source": [
        "print(merge.shape)\n",
        "merge.head()"
      ],
      "execution_count": 93,
      "outputs": [
        {
          "output_type": "stream",
          "name": "stdout",
          "text": [
            "(25236, 37)\n"
          ]
        },
        {
          "output_type": "execute_result",
          "data": {
            "text/plain": [
              "        TractId        City State_Id  TotalPop    Men  Women  Hispanic  White  \\\n",
              "0   42027010800  Aaronsburg       PA      1056    532    524       1.0   97.4   \n",
              "1    4268121200   Abbeville       AL      6693   3361   3329       2.8   59.7   \n",
              "2   39947880700   Abbeville       GA      4683   3205   1478       4.3   47.6   \n",
              "3  243253457806   Abbeville       LA     25185  12341  12839       3.5   66.7   \n",
              "4   84215850903   Abbeville       MS      2078   1033   1042       3.1   61.1   \n",
              "\n",
              "   Black  Native  Asian  Pacific  VotingAgeCitizen  Income  IncomeErr  \\\n",
              "0    0.0     0.0    0.7      0.0               739   10258       1258   \n",
              "1   36.5     0.0    0.0      0.0              5612  111583      24675   \n",
              "2   46.4     0.1    0.0      0.0              3869   42497      10566   \n",
              "3   24.6     0.2    3.3      0.0             17956  286959      55459   \n",
              "4   33.1     0.0    0.3      0.0              1557   23656       3944   \n",
              "\n",
              "   IncomePerCap  IncomePerCapErr  Poverty  ChildPoverty  Professional  \\\n",
              "0          4516              324     16.4          31.6          27.5   \n",
              "1         60066             8645     18.7          38.6          23.5   \n",
              "2         16894             4017     32.9          49.5          25.4   \n",
              "3        135638            17577     21.2          26.7          25.5   \n",
              "4         12435             1903     21.1          33.3          31.7   \n",
              "\n",
              "   Service  Office  Construction  Production  Drive  Carpool  Transit  Walk  \\\n",
              "0     21.1    18.9          15.5        16.5   69.5     12.4      0.2   3.8   \n",
              "1     21.7    20.0           7.3        26.9   85.4      9.3      0.0   1.6   \n",
              "2     29.4    13.3          13.8        16.7   88.1      6.7      0.0   1.3   \n",
              "3     18.7    26.9          14.4        14.2   80.3     11.7      0.1   3.4   \n",
              "4     20.4    14.3           8.8        23.9   85.3     10.0      0.8   0.2   \n",
              "\n",
              "   OtherTransp  WorkAtHome  MeanCommute  Employed  PrivateWork  PublicWork  \\\n",
              "0          3.6        10.2         27.7       502         76.5        10.8   \n",
              "1          1.2         1.9         26.3      2485         81.7        13.5   \n",
              "2          0.6         1.8         29.6       824         58.9        33.5   \n",
              "3          1.3         2.9         27.8     10437         81.9        12.8   \n",
              "4          0.0         2.8         31.1       887         78.9        14.2   \n",
              "\n",
              "   SelfEmployed  FamilyWork  Unemployment  \n",
              "0          12.4         0.0           3.1  \n",
              "1           4.5         0.0           6.8  \n",
              "2           6.9         0.0           3.9  \n",
              "3           5.0         0.0           7.3  \n",
              "4           6.5         0.0           7.9  "
            ],
            "text/html": "<div>\n<style scoped>\n    .dataframe tbody tr th:only-of-type {\n        vertical-align: middle;\n    }\n\n    .dataframe tbody tr th {\n        vertical-align: top;\n    }\n\n    .dataframe thead th {\n        text-align: right;\n    }\n</style>\n<table border=\"1\" class=\"dataframe\">\n  <thead>\n    <tr style=\"text-align: right;\">\n      <th></th>\n      <th>TractId</th>\n      <th>City</th>\n      <th>State_Id</th>\n      <th>TotalPop</th>\n      <th>Men</th>\n      <th>Women</th>\n      <th>Hispanic</th>\n      <th>White</th>\n      <th>Black</th>\n      <th>Native</th>\n      <th>Asian</th>\n      <th>Pacific</th>\n      <th>VotingAgeCitizen</th>\n      <th>Income</th>\n      <th>IncomeErr</th>\n      <th>IncomePerCap</th>\n      <th>IncomePerCapErr</th>\n      <th>Poverty</th>\n      <th>ChildPoverty</th>\n      <th>Professional</th>\n      <th>Service</th>\n      <th>Office</th>\n      <th>Construction</th>\n      <th>Production</th>\n      <th>Drive</th>\n      <th>Carpool</th>\n      <th>Transit</th>\n      <th>Walk</th>\n      <th>OtherTransp</th>\n      <th>WorkAtHome</th>\n      <th>MeanCommute</th>\n      <th>Employed</th>\n      <th>PrivateWork</th>\n      <th>PublicWork</th>\n      <th>SelfEmployed</th>\n      <th>FamilyWork</th>\n      <th>Unemployment</th>\n    </tr>\n  </thead>\n  <tbody>\n    <tr>\n      <th>0</th>\n      <td>42027010800</td>\n      <td>Aaronsburg</td>\n      <td>PA</td>\n      <td>1056</td>\n      <td>532</td>\n      <td>524</td>\n      <td>1.0</td>\n      <td>97.4</td>\n      <td>0.0</td>\n      <td>0.0</td>\n      <td>0.7</td>\n      <td>0.0</td>\n      <td>739</td>\n      <td>10258</td>\n      <td>1258</td>\n      <td>4516</td>\n      <td>324</td>\n      <td>16.4</td>\n      <td>31.6</td>\n      <td>27.5</td>\n      <td>21.1</td>\n      <td>18.9</td>\n      <td>15.5</td>\n      <td>16.5</td>\n      <td>69.5</td>\n      <td>12.4</td>\n      <td>0.2</td>\n      <td>3.8</td>\n      <td>3.6</td>\n      <td>10.2</td>\n      <td>27.7</td>\n      <td>502</td>\n      <td>76.5</td>\n      <td>10.8</td>\n      <td>12.4</td>\n      <td>0.0</td>\n      <td>3.1</td>\n    </tr>\n    <tr>\n      <th>1</th>\n      <td>4268121200</td>\n      <td>Abbeville</td>\n      <td>AL</td>\n      <td>6693</td>\n      <td>3361</td>\n      <td>3329</td>\n      <td>2.8</td>\n      <td>59.7</td>\n      <td>36.5</td>\n      <td>0.0</td>\n      <td>0.0</td>\n      <td>0.0</td>\n      <td>5612</td>\n      <td>111583</td>\n      <td>24675</td>\n      <td>60066</td>\n      <td>8645</td>\n      <td>18.7</td>\n      <td>38.6</td>\n      <td>23.5</td>\n      <td>21.7</td>\n      <td>20.0</td>\n      <td>7.3</td>\n      <td>26.9</td>\n      <td>85.4</td>\n      <td>9.3</td>\n      <td>0.0</td>\n      <td>1.6</td>\n      <td>1.2</td>\n      <td>1.9</td>\n      <td>26.3</td>\n      <td>2485</td>\n      <td>81.7</td>\n      <td>13.5</td>\n      <td>4.5</td>\n      <td>0.0</td>\n      <td>6.8</td>\n    </tr>\n    <tr>\n      <th>2</th>\n      <td>39947880700</td>\n      <td>Abbeville</td>\n      <td>GA</td>\n      <td>4683</td>\n      <td>3205</td>\n      <td>1478</td>\n      <td>4.3</td>\n      <td>47.6</td>\n      <td>46.4</td>\n      <td>0.1</td>\n      <td>0.0</td>\n      <td>0.0</td>\n      <td>3869</td>\n      <td>42497</td>\n      <td>10566</td>\n      <td>16894</td>\n      <td>4017</td>\n      <td>32.9</td>\n      <td>49.5</td>\n      <td>25.4</td>\n      <td>29.4</td>\n      <td>13.3</td>\n      <td>13.8</td>\n      <td>16.7</td>\n      <td>88.1</td>\n      <td>6.7</td>\n      <td>0.0</td>\n      <td>1.3</td>\n      <td>0.6</td>\n      <td>1.8</td>\n      <td>29.6</td>\n      <td>824</td>\n      <td>58.9</td>\n      <td>33.5</td>\n      <td>6.9</td>\n      <td>0.0</td>\n      <td>3.9</td>\n    </tr>\n    <tr>\n      <th>3</th>\n      <td>243253457806</td>\n      <td>Abbeville</td>\n      <td>LA</td>\n      <td>25185</td>\n      <td>12341</td>\n      <td>12839</td>\n      <td>3.5</td>\n      <td>66.7</td>\n      <td>24.6</td>\n      <td>0.2</td>\n      <td>3.3</td>\n      <td>0.0</td>\n      <td>17956</td>\n      <td>286959</td>\n      <td>55459</td>\n      <td>135638</td>\n      <td>17577</td>\n      <td>21.2</td>\n      <td>26.7</td>\n      <td>25.5</td>\n      <td>18.7</td>\n      <td>26.9</td>\n      <td>14.4</td>\n      <td>14.2</td>\n      <td>80.3</td>\n      <td>11.7</td>\n      <td>0.1</td>\n      <td>3.4</td>\n      <td>1.3</td>\n      <td>2.9</td>\n      <td>27.8</td>\n      <td>10437</td>\n      <td>81.9</td>\n      <td>12.8</td>\n      <td>5.0</td>\n      <td>0.0</td>\n      <td>7.3</td>\n    </tr>\n    <tr>\n      <th>4</th>\n      <td>84215850903</td>\n      <td>Abbeville</td>\n      <td>MS</td>\n      <td>2078</td>\n      <td>1033</td>\n      <td>1042</td>\n      <td>3.1</td>\n      <td>61.1</td>\n      <td>33.1</td>\n      <td>0.0</td>\n      <td>0.3</td>\n      <td>0.0</td>\n      <td>1557</td>\n      <td>23656</td>\n      <td>3944</td>\n      <td>12435</td>\n      <td>1903</td>\n      <td>21.1</td>\n      <td>33.3</td>\n      <td>31.7</td>\n      <td>20.4</td>\n      <td>14.3</td>\n      <td>8.8</td>\n      <td>23.9</td>\n      <td>85.3</td>\n      <td>10.0</td>\n      <td>0.8</td>\n      <td>0.2</td>\n      <td>0.0</td>\n      <td>2.8</td>\n      <td>31.1</td>\n      <td>887</td>\n      <td>78.9</td>\n      <td>14.2</td>\n      <td>6.5</td>\n      <td>0.0</td>\n      <td>7.9</td>\n    </tr>\n  </tbody>\n</table>\n</div>"
          },
          "metadata": {},
          "execution_count": 93
        }
      ]
    },
    {
      "cell_type": "code",
      "metadata": {
        "id": "R8fLt0ictFrn"
      },
      "source": [
        "merge.to_csv('census_csv/census_by_city.csv', index=False)"
      ],
      "execution_count": 94,
      "outputs": []
    },
    {
      "cell_type": "markdown",
      "metadata": {
        "id": "4M-bbKhiDqlT"
      },
      "source": [
        "## CSVs "
      ]
    },
    {
      "cell_type": "markdown",
      "metadata": {
        "id": "zMzOx-mmUhLQ"
      },
      "source": [
        "### Diversity"
      ]
    },
    {
      "cell_type": "code",
      "metadata": {
        "colab": {
          "base_uri": "https://localhost:8080/",
          "height": 206
        },
        "id": "TgmIwBlwE5vD",
        "outputId": "1ccbb9d4-2c03-460d-a256-a46976349759"
      },
      "source": [
        "total_pop_df = merge[['TotalPop', 'Men', 'Women','City', 'State_Id']]\n",
        "total_pop_df.head()"
      ],
      "execution_count": 95,
      "outputs": [
        {
          "output_type": "execute_result",
          "data": {
            "text/plain": [
              "   TotalPop    Men  Women        City State_Id\n",
              "0      1056    532    524  Aaronsburg       PA\n",
              "1      6693   3361   3329   Abbeville       AL\n",
              "2      4683   3205   1478   Abbeville       GA\n",
              "3     25185  12341  12839   Abbeville       LA\n",
              "4      2078   1033   1042   Abbeville       MS"
            ],
            "text/html": "<div>\n<style scoped>\n    .dataframe tbody tr th:only-of-type {\n        vertical-align: middle;\n    }\n\n    .dataframe tbody tr th {\n        vertical-align: top;\n    }\n\n    .dataframe thead th {\n        text-align: right;\n    }\n</style>\n<table border=\"1\" class=\"dataframe\">\n  <thead>\n    <tr style=\"text-align: right;\">\n      <th></th>\n      <th>TotalPop</th>\n      <th>Men</th>\n      <th>Women</th>\n      <th>City</th>\n      <th>State_Id</th>\n    </tr>\n  </thead>\n  <tbody>\n    <tr>\n      <th>0</th>\n      <td>1056</td>\n      <td>532</td>\n      <td>524</td>\n      <td>Aaronsburg</td>\n      <td>PA</td>\n    </tr>\n    <tr>\n      <th>1</th>\n      <td>6693</td>\n      <td>3361</td>\n      <td>3329</td>\n      <td>Abbeville</td>\n      <td>AL</td>\n    </tr>\n    <tr>\n      <th>2</th>\n      <td>4683</td>\n      <td>3205</td>\n      <td>1478</td>\n      <td>Abbeville</td>\n      <td>GA</td>\n    </tr>\n    <tr>\n      <th>3</th>\n      <td>25185</td>\n      <td>12341</td>\n      <td>12839</td>\n      <td>Abbeville</td>\n      <td>LA</td>\n    </tr>\n    <tr>\n      <th>4</th>\n      <td>2078</td>\n      <td>1033</td>\n      <td>1042</td>\n      <td>Abbeville</td>\n      <td>MS</td>\n    </tr>\n  </tbody>\n</table>\n</div>"
          },
          "metadata": {},
          "execution_count": 95
        }
      ]
    },
    {
      "cell_type": "code",
      "metadata": {
        "colab": {
          "base_uri": "https://localhost:8080/",
          "height": 206
        },
        "id": "r_1UBhJHS4B0",
        "outputId": "16e3e203-8bf2-4251-eb02-f62c31df2293"
      },
      "source": [
        "diversity_df = merge[['Hispanic','White', 'Black', 'Native', 'Asian', 'Pacific', 'City', 'State_Id']]\n",
        "diversity_df[['Hispanic','White', 'Black', 'Native', 'Asian', 'Pacific']] = diversity_df[['Hispanic','White', 'Black', 'Native', 'Asian', 'Pacific']].round(1)\n",
        "diversity_df.head()"
      ],
      "execution_count": 96,
      "outputs": [
        {
          "output_type": "execute_result",
          "data": {
            "text/plain": [
              "   Hispanic  White  Black  Native  Asian  Pacific        City State_Id\n",
              "0       1.0   97.4    0.0     0.0    0.7      0.0  Aaronsburg       PA\n",
              "1       2.8   59.7   36.5     0.0    0.0      0.0   Abbeville       AL\n",
              "2       4.3   47.6   46.4     0.1    0.0      0.0   Abbeville       GA\n",
              "3       3.5   66.7   24.6     0.2    3.3      0.0   Abbeville       LA\n",
              "4       3.1   61.1   33.1     0.0    0.3      0.0   Abbeville       MS"
            ],
            "text/html": "<div>\n<style scoped>\n    .dataframe tbody tr th:only-of-type {\n        vertical-align: middle;\n    }\n\n    .dataframe tbody tr th {\n        vertical-align: top;\n    }\n\n    .dataframe thead th {\n        text-align: right;\n    }\n</style>\n<table border=\"1\" class=\"dataframe\">\n  <thead>\n    <tr style=\"text-align: right;\">\n      <th></th>\n      <th>Hispanic</th>\n      <th>White</th>\n      <th>Black</th>\n      <th>Native</th>\n      <th>Asian</th>\n      <th>Pacific</th>\n      <th>City</th>\n      <th>State_Id</th>\n    </tr>\n  </thead>\n  <tbody>\n    <tr>\n      <th>0</th>\n      <td>1.0</td>\n      <td>97.4</td>\n      <td>0.0</td>\n      <td>0.0</td>\n      <td>0.7</td>\n      <td>0.0</td>\n      <td>Aaronsburg</td>\n      <td>PA</td>\n    </tr>\n    <tr>\n      <th>1</th>\n      <td>2.8</td>\n      <td>59.7</td>\n      <td>36.5</td>\n      <td>0.0</td>\n      <td>0.0</td>\n      <td>0.0</td>\n      <td>Abbeville</td>\n      <td>AL</td>\n    </tr>\n    <tr>\n      <th>2</th>\n      <td>4.3</td>\n      <td>47.6</td>\n      <td>46.4</td>\n      <td>0.1</td>\n      <td>0.0</td>\n      <td>0.0</td>\n      <td>Abbeville</td>\n      <td>GA</td>\n    </tr>\n    <tr>\n      <th>3</th>\n      <td>3.5</td>\n      <td>66.7</td>\n      <td>24.6</td>\n      <td>0.2</td>\n      <td>3.3</td>\n      <td>0.0</td>\n      <td>Abbeville</td>\n      <td>LA</td>\n    </tr>\n    <tr>\n      <th>4</th>\n      <td>3.1</td>\n      <td>61.1</td>\n      <td>33.1</td>\n      <td>0.0</td>\n      <td>0.3</td>\n      <td>0.0</td>\n      <td>Abbeville</td>\n      <td>MS</td>\n    </tr>\n  </tbody>\n</table>\n</div>"
          },
          "metadata": {},
          "execution_count": 96
        }
      ]
    },
    {
      "cell_type": "code",
      "metadata": {
        "colab": {
          "base_uri": "https://localhost:8080/",
          "height": 206
        },
        "id": "UUfAWKwdFK-2",
        "outputId": "a9b2398a-55cb-4fd4-8d78-89f9458383c3"
      },
      "source": [
        "diversity_df = total_pop_df.merge(diversity_df, on = ['City', 'State_Id'])\n",
        "diversity_df.to_csv('census_csv/diversity_df.csv', index=False)\n",
        "diversity_df.head()"
      ],
      "execution_count": 97,
      "outputs": [
        {
          "output_type": "execute_result",
          "data": {
            "text/plain": [
              "   TotalPop    Men  Women        City State_Id  Hispanic  White  Black  \\\n",
              "0      1056    532    524  Aaronsburg       PA       1.0   97.4    0.0   \n",
              "1      6693   3361   3329   Abbeville       AL       2.8   59.7   36.5   \n",
              "2      4683   3205   1478   Abbeville       GA       4.3   47.6   46.4   \n",
              "3     25185  12341  12839   Abbeville       LA       3.5   66.7   24.6   \n",
              "4      2078   1033   1042   Abbeville       MS       3.1   61.1   33.1   \n",
              "\n",
              "   Native  Asian  Pacific  \n",
              "0     0.0    0.7      0.0  \n",
              "1     0.0    0.0      0.0  \n",
              "2     0.1    0.0      0.0  \n",
              "3     0.2    3.3      0.0  \n",
              "4     0.0    0.3      0.0  "
            ],
            "text/html": "<div>\n<style scoped>\n    .dataframe tbody tr th:only-of-type {\n        vertical-align: middle;\n    }\n\n    .dataframe tbody tr th {\n        vertical-align: top;\n    }\n\n    .dataframe thead th {\n        text-align: right;\n    }\n</style>\n<table border=\"1\" class=\"dataframe\">\n  <thead>\n    <tr style=\"text-align: right;\">\n      <th></th>\n      <th>TotalPop</th>\n      <th>Men</th>\n      <th>Women</th>\n      <th>City</th>\n      <th>State_Id</th>\n      <th>Hispanic</th>\n      <th>White</th>\n      <th>Black</th>\n      <th>Native</th>\n      <th>Asian</th>\n      <th>Pacific</th>\n    </tr>\n  </thead>\n  <tbody>\n    <tr>\n      <th>0</th>\n      <td>1056</td>\n      <td>532</td>\n      <td>524</td>\n      <td>Aaronsburg</td>\n      <td>PA</td>\n      <td>1.0</td>\n      <td>97.4</td>\n      <td>0.0</td>\n      <td>0.0</td>\n      <td>0.7</td>\n      <td>0.0</td>\n    </tr>\n    <tr>\n      <th>1</th>\n      <td>6693</td>\n      <td>3361</td>\n      <td>3329</td>\n      <td>Abbeville</td>\n      <td>AL</td>\n      <td>2.8</td>\n      <td>59.7</td>\n      <td>36.5</td>\n      <td>0.0</td>\n      <td>0.0</td>\n      <td>0.0</td>\n    </tr>\n    <tr>\n      <th>2</th>\n      <td>4683</td>\n      <td>3205</td>\n      <td>1478</td>\n      <td>Abbeville</td>\n      <td>GA</td>\n      <td>4.3</td>\n      <td>47.6</td>\n      <td>46.4</td>\n      <td>0.1</td>\n      <td>0.0</td>\n      <td>0.0</td>\n    </tr>\n    <tr>\n      <th>3</th>\n      <td>25185</td>\n      <td>12341</td>\n      <td>12839</td>\n      <td>Abbeville</td>\n      <td>LA</td>\n      <td>3.5</td>\n      <td>66.7</td>\n      <td>24.6</td>\n      <td>0.2</td>\n      <td>3.3</td>\n      <td>0.0</td>\n    </tr>\n    <tr>\n      <th>4</th>\n      <td>2078</td>\n      <td>1033</td>\n      <td>1042</td>\n      <td>Abbeville</td>\n      <td>MS</td>\n      <td>3.1</td>\n      <td>61.1</td>\n      <td>33.1</td>\n      <td>0.0</td>\n      <td>0.3</td>\n      <td>0.0</td>\n    </tr>\n  </tbody>\n</table>\n</div>"
          },
          "metadata": {},
          "execution_count": 97
        }
      ]
    },
    {
      "cell_type": "code",
      "execution_count": null,
      "metadata": {},
      "outputs": [],
      "source": []
    },
    {
      "cell_type": "markdown",
      "metadata": {
        "id": "5wvl5r7RUktG"
      },
      "source": [
        "### Income Per Capita"
      ]
    },
    {
      "cell_type": "code",
      "metadata": {
        "colab": {
          "base_uri": "https://localhost:8080/",
          "height": 206
        },
        "id": "KC0IGEM2Uj3L",
        "outputId": "330f1878-d027-4901-9e9d-bee3f3a4fe48"
      },
      "source": [
        "income_per_capita_df = merge[['Income', 'IncomeErr', 'IncomePerCap', 'IncomePerCapErr','City', 'State_Id']]\n",
        "income_per_capita_df[['Income', 'IncomeErr', 'IncomePerCap', 'IncomePerCapErr']] = income_per_capita_df[['Income', 'IncomeErr', 'IncomePerCap', 'IncomePerCapErr']].round(1)\n",
        "income_per_capita_df.to_csv(\"census_csv/income_per_capita_df.csv\",index=False)\n",
        "income_per_capita_df.head()"
      ],
      "execution_count": 98,
      "outputs": [
        {
          "output_type": "execute_result",
          "data": {
            "text/plain": [
              "   Income  IncomeErr  IncomePerCap  IncomePerCapErr        City State_Id\n",
              "0   10258       1258          4516              324  Aaronsburg       PA\n",
              "1  111583      24675         60066             8645   Abbeville       AL\n",
              "2   42497      10566         16894             4017   Abbeville       GA\n",
              "3  286959      55459        135638            17577   Abbeville       LA\n",
              "4   23656       3944         12435             1903   Abbeville       MS"
            ],
            "text/html": "<div>\n<style scoped>\n    .dataframe tbody tr th:only-of-type {\n        vertical-align: middle;\n    }\n\n    .dataframe tbody tr th {\n        vertical-align: top;\n    }\n\n    .dataframe thead th {\n        text-align: right;\n    }\n</style>\n<table border=\"1\" class=\"dataframe\">\n  <thead>\n    <tr style=\"text-align: right;\">\n      <th></th>\n      <th>Income</th>\n      <th>IncomeErr</th>\n      <th>IncomePerCap</th>\n      <th>IncomePerCapErr</th>\n      <th>City</th>\n      <th>State_Id</th>\n    </tr>\n  </thead>\n  <tbody>\n    <tr>\n      <th>0</th>\n      <td>10258</td>\n      <td>1258</td>\n      <td>4516</td>\n      <td>324</td>\n      <td>Aaronsburg</td>\n      <td>PA</td>\n    </tr>\n    <tr>\n      <th>1</th>\n      <td>111583</td>\n      <td>24675</td>\n      <td>60066</td>\n      <td>8645</td>\n      <td>Abbeville</td>\n      <td>AL</td>\n    </tr>\n    <tr>\n      <th>2</th>\n      <td>42497</td>\n      <td>10566</td>\n      <td>16894</td>\n      <td>4017</td>\n      <td>Abbeville</td>\n      <td>GA</td>\n    </tr>\n    <tr>\n      <th>3</th>\n      <td>286959</td>\n      <td>55459</td>\n      <td>135638</td>\n      <td>17577</td>\n      <td>Abbeville</td>\n      <td>LA</td>\n    </tr>\n    <tr>\n      <th>4</th>\n      <td>23656</td>\n      <td>3944</td>\n      <td>12435</td>\n      <td>1903</td>\n      <td>Abbeville</td>\n      <td>MS</td>\n    </tr>\n  </tbody>\n</table>\n</div>"
          },
          "metadata": {},
          "execution_count": 98
        }
      ]
    },
    {
      "cell_type": "markdown",
      "metadata": {
        "id": "2a_NFNN-U-eg"
      },
      "source": [
        "### Poverty"
      ]
    },
    {
      "cell_type": "code",
      "metadata": {
        "colab": {
          "base_uri": "https://localhost:8080/",
          "height": 206
        },
        "id": "Qd9AcRJCVA6G",
        "outputId": "d51376ec-e539-4fbd-c69c-547f49285804"
      },
      "source": [
        "poverty_df = merge[['Poverty', 'ChildPoverty','City', 'State_Id']]\n",
        "poverty_df.to_csv(\"census_csv/poverty_df.csv\",index=False)\n",
        "poverty_df.head()"
      ],
      "execution_count": 99,
      "outputs": [
        {
          "output_type": "execute_result",
          "data": {
            "text/plain": [
              "   Poverty  ChildPoverty        City State_Id\n",
              "0     16.4          31.6  Aaronsburg       PA\n",
              "1     18.7          38.6   Abbeville       AL\n",
              "2     32.9          49.5   Abbeville       GA\n",
              "3     21.2          26.7   Abbeville       LA\n",
              "4     21.1          33.3   Abbeville       MS"
            ],
            "text/html": "<div>\n<style scoped>\n    .dataframe tbody tr th:only-of-type {\n        vertical-align: middle;\n    }\n\n    .dataframe tbody tr th {\n        vertical-align: top;\n    }\n\n    .dataframe thead th {\n        text-align: right;\n    }\n</style>\n<table border=\"1\" class=\"dataframe\">\n  <thead>\n    <tr style=\"text-align: right;\">\n      <th></th>\n      <th>Poverty</th>\n      <th>ChildPoverty</th>\n      <th>City</th>\n      <th>State_Id</th>\n    </tr>\n  </thead>\n  <tbody>\n    <tr>\n      <th>0</th>\n      <td>16.4</td>\n      <td>31.6</td>\n      <td>Aaronsburg</td>\n      <td>PA</td>\n    </tr>\n    <tr>\n      <th>1</th>\n      <td>18.7</td>\n      <td>38.6</td>\n      <td>Abbeville</td>\n      <td>AL</td>\n    </tr>\n    <tr>\n      <th>2</th>\n      <td>32.9</td>\n      <td>49.5</td>\n      <td>Abbeville</td>\n      <td>GA</td>\n    </tr>\n    <tr>\n      <th>3</th>\n      <td>21.2</td>\n      <td>26.7</td>\n      <td>Abbeville</td>\n      <td>LA</td>\n    </tr>\n    <tr>\n      <th>4</th>\n      <td>21.1</td>\n      <td>33.3</td>\n      <td>Abbeville</td>\n      <td>MS</td>\n    </tr>\n  </tbody>\n</table>\n</div>"
          },
          "metadata": {},
          "execution_count": 99
        }
      ]
    },
    {
      "cell_type": "markdown",
      "metadata": {
        "id": "Ps523aRSoYfQ"
      },
      "source": [
        "### Industries"
      ]
    },
    {
      "cell_type": "code",
      "metadata": {
        "colab": {
          "base_uri": "https://localhost:8080/",
          "height": 206
        },
        "id": "LzO-rK8mVPSQ",
        "outputId": "6f95a154-4941-40c5-c20f-1148700144fd"
      },
      "source": [
        "industry_df = merge[['Professional', 'Service', 'Office', 'Construction', 'Production','City', 'State_Id']]\n",
        "industry_df.to_csv(\"census_csv/industry_df.csv\",index=False)\n",
        "industry_df.head()"
      ],
      "execution_count": 100,
      "outputs": [
        {
          "output_type": "execute_result",
          "data": {
            "text/plain": [
              "   Professional  Service  Office  Construction  Production        City  \\\n",
              "0          27.5     21.1    18.9          15.5        16.5  Aaronsburg   \n",
              "1          23.5     21.7    20.0           7.3        26.9   Abbeville   \n",
              "2          25.4     29.4    13.3          13.8        16.7   Abbeville   \n",
              "3          25.5     18.7    26.9          14.4        14.2   Abbeville   \n",
              "4          31.7     20.4    14.3           8.8        23.9   Abbeville   \n",
              "\n",
              "  State_Id  \n",
              "0       PA  \n",
              "1       AL  \n",
              "2       GA  \n",
              "3       LA  \n",
              "4       MS  "
            ],
            "text/html": "<div>\n<style scoped>\n    .dataframe tbody tr th:only-of-type {\n        vertical-align: middle;\n    }\n\n    .dataframe tbody tr th {\n        vertical-align: top;\n    }\n\n    .dataframe thead th {\n        text-align: right;\n    }\n</style>\n<table border=\"1\" class=\"dataframe\">\n  <thead>\n    <tr style=\"text-align: right;\">\n      <th></th>\n      <th>Professional</th>\n      <th>Service</th>\n      <th>Office</th>\n      <th>Construction</th>\n      <th>Production</th>\n      <th>City</th>\n      <th>State_Id</th>\n    </tr>\n  </thead>\n  <tbody>\n    <tr>\n      <th>0</th>\n      <td>27.5</td>\n      <td>21.1</td>\n      <td>18.9</td>\n      <td>15.5</td>\n      <td>16.5</td>\n      <td>Aaronsburg</td>\n      <td>PA</td>\n    </tr>\n    <tr>\n      <th>1</th>\n      <td>23.5</td>\n      <td>21.7</td>\n      <td>20.0</td>\n      <td>7.3</td>\n      <td>26.9</td>\n      <td>Abbeville</td>\n      <td>AL</td>\n    </tr>\n    <tr>\n      <th>2</th>\n      <td>25.4</td>\n      <td>29.4</td>\n      <td>13.3</td>\n      <td>13.8</td>\n      <td>16.7</td>\n      <td>Abbeville</td>\n      <td>GA</td>\n    </tr>\n    <tr>\n      <th>3</th>\n      <td>25.5</td>\n      <td>18.7</td>\n      <td>26.9</td>\n      <td>14.4</td>\n      <td>14.2</td>\n      <td>Abbeville</td>\n      <td>LA</td>\n    </tr>\n    <tr>\n      <th>4</th>\n      <td>31.7</td>\n      <td>20.4</td>\n      <td>14.3</td>\n      <td>8.8</td>\n      <td>23.9</td>\n      <td>Abbeville</td>\n      <td>MS</td>\n    </tr>\n  </tbody>\n</table>\n</div>"
          },
          "metadata": {},
          "execution_count": 100
        }
      ]
    },
    {
      "cell_type": "markdown",
      "metadata": {
        "id": "tpGWQauioaqD"
      },
      "source": [
        "### Transportation"
      ]
    },
    {
      "cell_type": "code",
      "metadata": {
        "colab": {
          "base_uri": "https://localhost:8080/",
          "height": 206
        },
        "id": "7jYvgDutVePe",
        "outputId": "00ec774f-3225-4cc5-b51e-8746a2642cad"
      },
      "source": [
        "transportation_df = merge[['Drive', 'Carpool', 'Transit', 'Walk', 'OtherTransp', 'WorkAtHome', 'MeanCommute','City', 'State_Id']]\n",
        "transportation_df[['Drive', 'Carpool', 'Transit', 'Walk', 'OtherTransp', 'WorkAtHome', 'MeanCommute',]] = transportation_df[['Drive', 'Carpool', 'Transit', 'Walk', 'OtherTransp', 'WorkAtHome', 'MeanCommute']].round(1)\n",
        "transportation_df.to_csv(\"census_csv/transportation_df.csv\",index=False)\n",
        "transportation_df.head()"
      ],
      "execution_count": 101,
      "outputs": [
        {
          "output_type": "execute_result",
          "data": {
            "text/plain": [
              "   Drive  Carpool  Transit  Walk  OtherTransp  WorkAtHome  MeanCommute  \\\n",
              "0   69.5     12.4      0.2   3.8          3.6        10.2         27.7   \n",
              "1   85.4      9.3      0.0   1.6          1.2         1.9         26.3   \n",
              "2   88.1      6.7      0.0   1.3          0.6         1.8         29.6   \n",
              "3   80.3     11.7      0.1   3.4          1.3         2.9         27.8   \n",
              "4   85.3     10.0      0.8   0.2          0.0         2.8         31.1   \n",
              "\n",
              "         City State_Id  \n",
              "0  Aaronsburg       PA  \n",
              "1   Abbeville       AL  \n",
              "2   Abbeville       GA  \n",
              "3   Abbeville       LA  \n",
              "4   Abbeville       MS  "
            ],
            "text/html": "<div>\n<style scoped>\n    .dataframe tbody tr th:only-of-type {\n        vertical-align: middle;\n    }\n\n    .dataframe tbody tr th {\n        vertical-align: top;\n    }\n\n    .dataframe thead th {\n        text-align: right;\n    }\n</style>\n<table border=\"1\" class=\"dataframe\">\n  <thead>\n    <tr style=\"text-align: right;\">\n      <th></th>\n      <th>Drive</th>\n      <th>Carpool</th>\n      <th>Transit</th>\n      <th>Walk</th>\n      <th>OtherTransp</th>\n      <th>WorkAtHome</th>\n      <th>MeanCommute</th>\n      <th>City</th>\n      <th>State_Id</th>\n    </tr>\n  </thead>\n  <tbody>\n    <tr>\n      <th>0</th>\n      <td>69.5</td>\n      <td>12.4</td>\n      <td>0.2</td>\n      <td>3.8</td>\n      <td>3.6</td>\n      <td>10.2</td>\n      <td>27.7</td>\n      <td>Aaronsburg</td>\n      <td>PA</td>\n    </tr>\n    <tr>\n      <th>1</th>\n      <td>85.4</td>\n      <td>9.3</td>\n      <td>0.0</td>\n      <td>1.6</td>\n      <td>1.2</td>\n      <td>1.9</td>\n      <td>26.3</td>\n      <td>Abbeville</td>\n      <td>AL</td>\n    </tr>\n    <tr>\n      <th>2</th>\n      <td>88.1</td>\n      <td>6.7</td>\n      <td>0.0</td>\n      <td>1.3</td>\n      <td>0.6</td>\n      <td>1.8</td>\n      <td>29.6</td>\n      <td>Abbeville</td>\n      <td>GA</td>\n    </tr>\n    <tr>\n      <th>3</th>\n      <td>80.3</td>\n      <td>11.7</td>\n      <td>0.1</td>\n      <td>3.4</td>\n      <td>1.3</td>\n      <td>2.9</td>\n      <td>27.8</td>\n      <td>Abbeville</td>\n      <td>LA</td>\n    </tr>\n    <tr>\n      <th>4</th>\n      <td>85.3</td>\n      <td>10.0</td>\n      <td>0.8</td>\n      <td>0.2</td>\n      <td>0.0</td>\n      <td>2.8</td>\n      <td>31.1</td>\n      <td>Abbeville</td>\n      <td>MS</td>\n    </tr>\n  </tbody>\n</table>\n</div>"
          },
          "metadata": {},
          "execution_count": 101
        }
      ]
    },
    {
      "cell_type": "markdown",
      "metadata": {
        "id": "jYsrgVY7odtK"
      },
      "source": [
        "### Employment"
      ]
    },
    {
      "cell_type": "code",
      "metadata": {
        "colab": {
          "base_uri": "https://localhost:8080/",
          "height": 206
        },
        "id": "EG1Pfoq6aAXw",
        "outputId": "38c140d8-b2f2-4242-873f-aefb5f33956b"
      },
      "source": [
        "employment_df = merge[['Employed', 'Unemployment','City', 'State_Id']]\n",
        "employment_df.to_csv('census_csv/employment_df.csv', index=False)\n",
        "employment_df.head()\n"
      ],
      "execution_count": 102,
      "outputs": [
        {
          "output_type": "execute_result",
          "data": {
            "text/plain": [
              "   Employed  Unemployment        City State_Id\n",
              "0       502           3.1  Aaronsburg       PA\n",
              "1      2485           6.8   Abbeville       AL\n",
              "2       824           3.9   Abbeville       GA\n",
              "3     10437           7.3   Abbeville       LA\n",
              "4       887           7.9   Abbeville       MS"
            ],
            "text/html": "<div>\n<style scoped>\n    .dataframe tbody tr th:only-of-type {\n        vertical-align: middle;\n    }\n\n    .dataframe tbody tr th {\n        vertical-align: top;\n    }\n\n    .dataframe thead th {\n        text-align: right;\n    }\n</style>\n<table border=\"1\" class=\"dataframe\">\n  <thead>\n    <tr style=\"text-align: right;\">\n      <th></th>\n      <th>Employed</th>\n      <th>Unemployment</th>\n      <th>City</th>\n      <th>State_Id</th>\n    </tr>\n  </thead>\n  <tbody>\n    <tr>\n      <th>0</th>\n      <td>502</td>\n      <td>3.1</td>\n      <td>Aaronsburg</td>\n      <td>PA</td>\n    </tr>\n    <tr>\n      <th>1</th>\n      <td>2485</td>\n      <td>6.8</td>\n      <td>Abbeville</td>\n      <td>AL</td>\n    </tr>\n    <tr>\n      <th>2</th>\n      <td>824</td>\n      <td>3.9</td>\n      <td>Abbeville</td>\n      <td>GA</td>\n    </tr>\n    <tr>\n      <th>3</th>\n      <td>10437</td>\n      <td>7.3</td>\n      <td>Abbeville</td>\n      <td>LA</td>\n    </tr>\n    <tr>\n      <th>4</th>\n      <td>887</td>\n      <td>7.9</td>\n      <td>Abbeville</td>\n      <td>MS</td>\n    </tr>\n  </tbody>\n</table>\n</div>"
          },
          "metadata": {},
          "execution_count": 102
        }
      ]
    },
    {
      "cell_type": "markdown",
      "metadata": {
        "id": "0JkO4ZkzohHu"
      },
      "source": [
        "### Employment Type"
      ]
    },
    {
      "cell_type": "code",
      "metadata": {
        "colab": {
          "base_uri": "https://localhost:8080/",
          "height": 206
        },
        "id": "elC9fsdJZYq9",
        "outputId": "ef14a49f-fdc1-4658-c685-2f3f285a840c"
      },
      "source": [
        "employment_ratio_df = merge[['PrivateWork', 'PublicWork', 'SelfEmployed', 'FamilyWork','City', 'State_Id']]\n",
        "employment_ratio_df[['PrivateWork', 'PublicWork', 'SelfEmployed', 'FamilyWork']] = employment_ratio_df[['PrivateWork', 'PublicWork', 'SelfEmployed', 'FamilyWork']].round(1)\n",
        "employment_ratio_df.to_csv('census_csv/employment_ratio_df.csv', index=False)\n",
        "employment_ratio_df.head()"
      ],
      "execution_count": 103,
      "outputs": [
        {
          "output_type": "execute_result",
          "data": {
            "text/plain": [
              "   PrivateWork  PublicWork  SelfEmployed  FamilyWork        City State_Id\n",
              "0         76.5        10.8          12.4         0.0  Aaronsburg       PA\n",
              "1         81.7        13.5           4.5         0.0   Abbeville       AL\n",
              "2         58.9        33.5           6.9         0.0   Abbeville       GA\n",
              "3         81.9        12.8           5.0         0.0   Abbeville       LA\n",
              "4         78.9        14.2           6.5         0.0   Abbeville       MS"
            ],
            "text/html": "<div>\n<style scoped>\n    .dataframe tbody tr th:only-of-type {\n        vertical-align: middle;\n    }\n\n    .dataframe tbody tr th {\n        vertical-align: top;\n    }\n\n    .dataframe thead th {\n        text-align: right;\n    }\n</style>\n<table border=\"1\" class=\"dataframe\">\n  <thead>\n    <tr style=\"text-align: right;\">\n      <th></th>\n      <th>PrivateWork</th>\n      <th>PublicWork</th>\n      <th>SelfEmployed</th>\n      <th>FamilyWork</th>\n      <th>City</th>\n      <th>State_Id</th>\n    </tr>\n  </thead>\n  <tbody>\n    <tr>\n      <th>0</th>\n      <td>76.5</td>\n      <td>10.8</td>\n      <td>12.4</td>\n      <td>0.0</td>\n      <td>Aaronsburg</td>\n      <td>PA</td>\n    </tr>\n    <tr>\n      <th>1</th>\n      <td>81.7</td>\n      <td>13.5</td>\n      <td>4.5</td>\n      <td>0.0</td>\n      <td>Abbeville</td>\n      <td>AL</td>\n    </tr>\n    <tr>\n      <th>2</th>\n      <td>58.9</td>\n      <td>33.5</td>\n      <td>6.9</td>\n      <td>0.0</td>\n      <td>Abbeville</td>\n      <td>GA</td>\n    </tr>\n    <tr>\n      <th>3</th>\n      <td>81.9</td>\n      <td>12.8</td>\n      <td>5.0</td>\n      <td>0.0</td>\n      <td>Abbeville</td>\n      <td>LA</td>\n    </tr>\n    <tr>\n      <th>4</th>\n      <td>78.9</td>\n      <td>14.2</td>\n      <td>6.5</td>\n      <td>0.0</td>\n      <td>Abbeville</td>\n      <td>MS</td>\n    </tr>\n  </tbody>\n</table>\n</div>"
          },
          "metadata": {},
          "execution_count": 103
        }
      ]
    },
    {
      "cell_type": "code",
      "execution_count": null,
      "metadata": {},
      "outputs": [],
      "source": []
    }
  ]
}