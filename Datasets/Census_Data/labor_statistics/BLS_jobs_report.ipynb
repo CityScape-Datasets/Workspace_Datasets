{
  "nbformat": 4,
  "nbformat_minor": 0,
  "metadata": {
    "colab": {
      "name": "BLS_jobs_report.ipynb",
      "provenance": []
    },
    "kernelspec": {
      "name": "python3",
      "display_name": "Python 3"
    }
  },
  "cells": [
    {
      "cell_type": "markdown",
      "metadata": {
        "id": "Wm-VRbadWTbv"
      },
      "source": [
        "# Bureau of Labor Statistics\n",
        "https://www.bls.gov/oes/about_charts.htm"
      ]
    },
    {
      "cell_type": "markdown",
      "metadata": {
        "id": "54am9QEiWdHA"
      },
      "source": [
        "## EDA"
      ]
    },
    {
      "cell_type": "code",
      "metadata": {
        "id": "NMEQi7HRQ3Oh"
      },
      "source": [
        "import pandas as pd\n",
        "import numpy as np"
      ],
      "execution_count": 1,
      "outputs": []
    },
    {
      "cell_type": "code",
      "metadata": {
        "colab": {
          "base_uri": "https://localhost:8080/"
        },
        "id": "r_nKzGorUKWO",
        "outputId": "c8b906a2-f2ef-4467-8275-86638e7a1331"
      },
      "source": [
        "from google.colab import drive\n",
        "drive.mount('/content/drive')"
      ],
      "execution_count": 2,
      "outputs": [
        {
          "output_type": "stream",
          "text": [
            "Drive already mounted at /content/drive; to attempt to forcibly remount, call drive.mount(\"/content/drive\", force_remount=True).\n"
          ],
          "name": "stdout"
        }
      ]
    },
    {
      "cell_type": "code",
      "metadata": {
        "id": "nPXTG8N5U8_P"
      },
      "source": [
        "df = pd.read_excel('/content/MSA_M2019_dl.xlsx')"
      ],
      "execution_count": 3,
      "outputs": []
    },
    {
      "cell_type": "code",
      "metadata": {
        "colab": {
          "base_uri": "https://localhost:8080/",
          "height": 400
        },
        "id": "LarOWjx6VKMi",
        "outputId": "aadc1131-7ab5-4963-faf4-bd3f10725561"
      },
      "source": [
        "print(df.shape)\n",
        "df.head()"
      ],
      "execution_count": 4,
      "outputs": [
        {
          "output_type": "stream",
          "text": [
            "(142410, 30)\n"
          ],
          "name": "stdout"
        },
        {
          "output_type": "execute_result",
          "data": {
            "text/html": [
              "<div>\n",
              "<style scoped>\n",
              "    .dataframe tbody tr th:only-of-type {\n",
              "        vertical-align: middle;\n",
              "    }\n",
              "\n",
              "    .dataframe tbody tr th {\n",
              "        vertical-align: top;\n",
              "    }\n",
              "\n",
              "    .dataframe thead th {\n",
              "        text-align: right;\n",
              "    }\n",
              "</style>\n",
              "<table border=\"1\" class=\"dataframe\">\n",
              "  <thead>\n",
              "    <tr style=\"text-align: right;\">\n",
              "      <th></th>\n",
              "      <th>area</th>\n",
              "      <th>area_title</th>\n",
              "      <th>area_type</th>\n",
              "      <th>naics</th>\n",
              "      <th>naics_title</th>\n",
              "      <th>i_group</th>\n",
              "      <th>own_code</th>\n",
              "      <th>occ_code</th>\n",
              "      <th>occ_title</th>\n",
              "      <th>o_group</th>\n",
              "      <th>tot_emp</th>\n",
              "      <th>emp_prse</th>\n",
              "      <th>jobs_1000</th>\n",
              "      <th>loc_quotient</th>\n",
              "      <th>pct_total</th>\n",
              "      <th>h_mean</th>\n",
              "      <th>a_mean</th>\n",
              "      <th>mean_prse</th>\n",
              "      <th>h_pct10</th>\n",
              "      <th>h_pct25</th>\n",
              "      <th>h_median</th>\n",
              "      <th>h_pct75</th>\n",
              "      <th>h_pct90</th>\n",
              "      <th>a_pct10</th>\n",
              "      <th>a_pct25</th>\n",
              "      <th>a_median</th>\n",
              "      <th>a_pct75</th>\n",
              "      <th>a_pct90</th>\n",
              "      <th>annual</th>\n",
              "      <th>hourly</th>\n",
              "    </tr>\n",
              "  </thead>\n",
              "  <tbody>\n",
              "    <tr>\n",
              "      <th>0</th>\n",
              "      <td>10180</td>\n",
              "      <td>Abilene, TX</td>\n",
              "      <td>4</td>\n",
              "      <td>0</td>\n",
              "      <td>Cross-industry</td>\n",
              "      <td>cross-industry</td>\n",
              "      <td>1235</td>\n",
              "      <td>00-0000</td>\n",
              "      <td>All Occupations</td>\n",
              "      <td>total</td>\n",
              "      <td>66510</td>\n",
              "      <td>3.1</td>\n",
              "      <td>1000</td>\n",
              "      <td>1</td>\n",
              "      <td>NaN</td>\n",
              "      <td>20.08</td>\n",
              "      <td>41760</td>\n",
              "      <td>1.8</td>\n",
              "      <td>8.94</td>\n",
              "      <td>10.97</td>\n",
              "      <td>15.64</td>\n",
              "      <td>24.05</td>\n",
              "      <td>35.21</td>\n",
              "      <td>18580</td>\n",
              "      <td>22810</td>\n",
              "      <td>32530</td>\n",
              "      <td>50030</td>\n",
              "      <td>73230</td>\n",
              "      <td>NaN</td>\n",
              "      <td>NaN</td>\n",
              "    </tr>\n",
              "    <tr>\n",
              "      <th>1</th>\n",
              "      <td>10180</td>\n",
              "      <td>Abilene, TX</td>\n",
              "      <td>4</td>\n",
              "      <td>0</td>\n",
              "      <td>Cross-industry</td>\n",
              "      <td>cross-industry</td>\n",
              "      <td>1235</td>\n",
              "      <td>11-0000</td>\n",
              "      <td>Management Occupations</td>\n",
              "      <td>major</td>\n",
              "      <td>2670</td>\n",
              "      <td>5.8</td>\n",
              "      <td>40.137</td>\n",
              "      <td>0.73</td>\n",
              "      <td>NaN</td>\n",
              "      <td>43.51</td>\n",
              "      <td>90500</td>\n",
              "      <td>2.2</td>\n",
              "      <td>17.86</td>\n",
              "      <td>27.22</td>\n",
              "      <td>37.51</td>\n",
              "      <td>51.88</td>\n",
              "      <td>75.57</td>\n",
              "      <td>37140</td>\n",
              "      <td>56610</td>\n",
              "      <td>78030</td>\n",
              "      <td>107910</td>\n",
              "      <td>157190</td>\n",
              "      <td>NaN</td>\n",
              "      <td>NaN</td>\n",
              "    </tr>\n",
              "    <tr>\n",
              "      <th>2</th>\n",
              "      <td>10180</td>\n",
              "      <td>Abilene, TX</td>\n",
              "      <td>4</td>\n",
              "      <td>0</td>\n",
              "      <td>Cross-industry</td>\n",
              "      <td>cross-industry</td>\n",
              "      <td>1235</td>\n",
              "      <td>11-1021</td>\n",
              "      <td>General and Operations Managers</td>\n",
              "      <td>detailed</td>\n",
              "      <td>1100</td>\n",
              "      <td>7.7</td>\n",
              "      <td>16.499</td>\n",
              "      <td>1.01</td>\n",
              "      <td>NaN</td>\n",
              "      <td>40.39</td>\n",
              "      <td>84000</td>\n",
              "      <td>3.7</td>\n",
              "      <td>10.97</td>\n",
              "      <td>24.21</td>\n",
              "      <td>35.51</td>\n",
              "      <td>51.38</td>\n",
              "      <td>74.29</td>\n",
              "      <td>22810</td>\n",
              "      <td>50350</td>\n",
              "      <td>73850</td>\n",
              "      <td>106870</td>\n",
              "      <td>154520</td>\n",
              "      <td>NaN</td>\n",
              "      <td>NaN</td>\n",
              "    </tr>\n",
              "    <tr>\n",
              "      <th>3</th>\n",
              "      <td>10180</td>\n",
              "      <td>Abilene, TX</td>\n",
              "      <td>4</td>\n",
              "      <td>0</td>\n",
              "      <td>Cross-industry</td>\n",
              "      <td>cross-industry</td>\n",
              "      <td>1235</td>\n",
              "      <td>11-2022</td>\n",
              "      <td>Sales Managers</td>\n",
              "      <td>detailed</td>\n",
              "      <td>110</td>\n",
              "      <td>18.8</td>\n",
              "      <td>1.728</td>\n",
              "      <td>0.63</td>\n",
              "      <td>NaN</td>\n",
              "      <td>59.96</td>\n",
              "      <td>124710</td>\n",
              "      <td>6.6</td>\n",
              "      <td>22.77</td>\n",
              "      <td>34.69</td>\n",
              "      <td>57.65</td>\n",
              "      <td>74.55</td>\n",
              "      <td>99.8</td>\n",
              "      <td>47360</td>\n",
              "      <td>72140</td>\n",
              "      <td>119920</td>\n",
              "      <td>155050</td>\n",
              "      <td>207570</td>\n",
              "      <td>NaN</td>\n",
              "      <td>NaN</td>\n",
              "    </tr>\n",
              "    <tr>\n",
              "      <th>4</th>\n",
              "      <td>10180</td>\n",
              "      <td>Abilene, TX</td>\n",
              "      <td>4</td>\n",
              "      <td>0</td>\n",
              "      <td>Cross-industry</td>\n",
              "      <td>cross-industry</td>\n",
              "      <td>1235</td>\n",
              "      <td>11-2030</td>\n",
              "      <td>Public Relations and Fundraising Managers</td>\n",
              "      <td>detailed</td>\n",
              "      <td>40</td>\n",
              "      <td>29.7</td>\n",
              "      <td>0.571</td>\n",
              "      <td>1.06</td>\n",
              "      <td>NaN</td>\n",
              "      <td>*</td>\n",
              "      <td>*</td>\n",
              "      <td>*</td>\n",
              "      <td>*</td>\n",
              "      <td>*</td>\n",
              "      <td>*</td>\n",
              "      <td>*</td>\n",
              "      <td>*</td>\n",
              "      <td>*</td>\n",
              "      <td>*</td>\n",
              "      <td>*</td>\n",
              "      <td>*</td>\n",
              "      <td>*</td>\n",
              "      <td>NaN</td>\n",
              "      <td>NaN</td>\n",
              "    </tr>\n",
              "  </tbody>\n",
              "</table>\n",
              "</div>"
            ],
            "text/plain": [
              "    area   area_title  area_type  naics  ... a_pct75 a_pct90  annual hourly\n",
              "0  10180  Abilene, TX          4      0  ...   50030   73230     NaN    NaN\n",
              "1  10180  Abilene, TX          4      0  ...  107910  157190     NaN    NaN\n",
              "2  10180  Abilene, TX          4      0  ...  106870  154520     NaN    NaN\n",
              "3  10180  Abilene, TX          4      0  ...  155050  207570     NaN    NaN\n",
              "4  10180  Abilene, TX          4      0  ...       *       *     NaN    NaN\n",
              "\n",
              "[5 rows x 30 columns]"
            ]
          },
          "metadata": {
            "tags": []
          },
          "execution_count": 4
        }
      ]
    },
    {
      "cell_type": "code",
      "metadata": {
        "colab": {
          "base_uri": "https://localhost:8080/"
        },
        "id": "WDvQIEMSYgJB",
        "outputId": "29eca5dc-b88e-4c67-a007-42a46a93777b"
      },
      "source": [
        "df.dtypes"
      ],
      "execution_count": 5,
      "outputs": [
        {
          "output_type": "execute_result",
          "data": {
            "text/plain": [
              "area              int64\n",
              "area_title       object\n",
              "area_type         int64\n",
              "naics             int64\n",
              "naics_title      object\n",
              "i_group          object\n",
              "own_code          int64\n",
              "occ_code         object\n",
              "occ_title        object\n",
              "o_group          object\n",
              "tot_emp          object\n",
              "emp_prse         object\n",
              "jobs_1000        object\n",
              "loc_quotient     object\n",
              "pct_total       float64\n",
              "h_mean           object\n",
              "a_mean           object\n",
              "mean_prse        object\n",
              "h_pct10          object\n",
              "h_pct25          object\n",
              "h_median         object\n",
              "h_pct75          object\n",
              "h_pct90          object\n",
              "a_pct10          object\n",
              "a_pct25          object\n",
              "a_median         object\n",
              "a_pct75          object\n",
              "a_pct90          object\n",
              "annual           object\n",
              "hourly           object\n",
              "dtype: object"
            ]
          },
          "metadata": {
            "tags": []
          },
          "execution_count": 5
        }
      ]
    },
    {
      "cell_type": "markdown",
      "metadata": {
        "id": "spkkfTf_WQEY"
      },
      "source": [
        "## Data Cleaning"
      ]
    },
    {
      "cell_type": "code",
      "metadata": {
        "id": "pvbnGUf9X3Hm"
      },
      "source": [
        "# Dropping pct_total, annual, and hourly\n",
        "# Majority is empty\n",
        "bls_m2019 = df.copy()\n",
        "bls_m2019 = bls_m2019.dropna(axis=1)"
      ],
      "execution_count": 6,
      "outputs": []
    },
    {
      "cell_type": "code",
      "metadata": {
        "colab": {
          "base_uri": "https://localhost:8080/",
          "height": 400
        },
        "id": "xsZQksdZYUZ9",
        "outputId": "d554cca5-9e19-4be9-ed02-a863c8e1f19f"
      },
      "source": [
        "print(bls_m2019.shape)\n",
        "bls_m2019.head()"
      ],
      "execution_count": 7,
      "outputs": [
        {
          "output_type": "stream",
          "text": [
            "(142410, 27)\n"
          ],
          "name": "stdout"
        },
        {
          "output_type": "execute_result",
          "data": {
            "text/html": [
              "<div>\n",
              "<style scoped>\n",
              "    .dataframe tbody tr th:only-of-type {\n",
              "        vertical-align: middle;\n",
              "    }\n",
              "\n",
              "    .dataframe tbody tr th {\n",
              "        vertical-align: top;\n",
              "    }\n",
              "\n",
              "    .dataframe thead th {\n",
              "        text-align: right;\n",
              "    }\n",
              "</style>\n",
              "<table border=\"1\" class=\"dataframe\">\n",
              "  <thead>\n",
              "    <tr style=\"text-align: right;\">\n",
              "      <th></th>\n",
              "      <th>area</th>\n",
              "      <th>area_title</th>\n",
              "      <th>area_type</th>\n",
              "      <th>naics</th>\n",
              "      <th>naics_title</th>\n",
              "      <th>i_group</th>\n",
              "      <th>own_code</th>\n",
              "      <th>occ_code</th>\n",
              "      <th>occ_title</th>\n",
              "      <th>o_group</th>\n",
              "      <th>tot_emp</th>\n",
              "      <th>emp_prse</th>\n",
              "      <th>jobs_1000</th>\n",
              "      <th>loc_quotient</th>\n",
              "      <th>h_mean</th>\n",
              "      <th>a_mean</th>\n",
              "      <th>mean_prse</th>\n",
              "      <th>h_pct10</th>\n",
              "      <th>h_pct25</th>\n",
              "      <th>h_median</th>\n",
              "      <th>h_pct75</th>\n",
              "      <th>h_pct90</th>\n",
              "      <th>a_pct10</th>\n",
              "      <th>a_pct25</th>\n",
              "      <th>a_median</th>\n",
              "      <th>a_pct75</th>\n",
              "      <th>a_pct90</th>\n",
              "    </tr>\n",
              "  </thead>\n",
              "  <tbody>\n",
              "    <tr>\n",
              "      <th>0</th>\n",
              "      <td>10180</td>\n",
              "      <td>Abilene, TX</td>\n",
              "      <td>4</td>\n",
              "      <td>0</td>\n",
              "      <td>Cross-industry</td>\n",
              "      <td>cross-industry</td>\n",
              "      <td>1235</td>\n",
              "      <td>00-0000</td>\n",
              "      <td>All Occupations</td>\n",
              "      <td>total</td>\n",
              "      <td>66510</td>\n",
              "      <td>3.1</td>\n",
              "      <td>1000</td>\n",
              "      <td>1</td>\n",
              "      <td>20.08</td>\n",
              "      <td>41760</td>\n",
              "      <td>1.8</td>\n",
              "      <td>8.94</td>\n",
              "      <td>10.97</td>\n",
              "      <td>15.64</td>\n",
              "      <td>24.05</td>\n",
              "      <td>35.21</td>\n",
              "      <td>18580</td>\n",
              "      <td>22810</td>\n",
              "      <td>32530</td>\n",
              "      <td>50030</td>\n",
              "      <td>73230</td>\n",
              "    </tr>\n",
              "    <tr>\n",
              "      <th>1</th>\n",
              "      <td>10180</td>\n",
              "      <td>Abilene, TX</td>\n",
              "      <td>4</td>\n",
              "      <td>0</td>\n",
              "      <td>Cross-industry</td>\n",
              "      <td>cross-industry</td>\n",
              "      <td>1235</td>\n",
              "      <td>11-0000</td>\n",
              "      <td>Management Occupations</td>\n",
              "      <td>major</td>\n",
              "      <td>2670</td>\n",
              "      <td>5.8</td>\n",
              "      <td>40.137</td>\n",
              "      <td>0.73</td>\n",
              "      <td>43.51</td>\n",
              "      <td>90500</td>\n",
              "      <td>2.2</td>\n",
              "      <td>17.86</td>\n",
              "      <td>27.22</td>\n",
              "      <td>37.51</td>\n",
              "      <td>51.88</td>\n",
              "      <td>75.57</td>\n",
              "      <td>37140</td>\n",
              "      <td>56610</td>\n",
              "      <td>78030</td>\n",
              "      <td>107910</td>\n",
              "      <td>157190</td>\n",
              "    </tr>\n",
              "    <tr>\n",
              "      <th>2</th>\n",
              "      <td>10180</td>\n",
              "      <td>Abilene, TX</td>\n",
              "      <td>4</td>\n",
              "      <td>0</td>\n",
              "      <td>Cross-industry</td>\n",
              "      <td>cross-industry</td>\n",
              "      <td>1235</td>\n",
              "      <td>11-1021</td>\n",
              "      <td>General and Operations Managers</td>\n",
              "      <td>detailed</td>\n",
              "      <td>1100</td>\n",
              "      <td>7.7</td>\n",
              "      <td>16.499</td>\n",
              "      <td>1.01</td>\n",
              "      <td>40.39</td>\n",
              "      <td>84000</td>\n",
              "      <td>3.7</td>\n",
              "      <td>10.97</td>\n",
              "      <td>24.21</td>\n",
              "      <td>35.51</td>\n",
              "      <td>51.38</td>\n",
              "      <td>74.29</td>\n",
              "      <td>22810</td>\n",
              "      <td>50350</td>\n",
              "      <td>73850</td>\n",
              "      <td>106870</td>\n",
              "      <td>154520</td>\n",
              "    </tr>\n",
              "    <tr>\n",
              "      <th>3</th>\n",
              "      <td>10180</td>\n",
              "      <td>Abilene, TX</td>\n",
              "      <td>4</td>\n",
              "      <td>0</td>\n",
              "      <td>Cross-industry</td>\n",
              "      <td>cross-industry</td>\n",
              "      <td>1235</td>\n",
              "      <td>11-2022</td>\n",
              "      <td>Sales Managers</td>\n",
              "      <td>detailed</td>\n",
              "      <td>110</td>\n",
              "      <td>18.8</td>\n",
              "      <td>1.728</td>\n",
              "      <td>0.63</td>\n",
              "      <td>59.96</td>\n",
              "      <td>124710</td>\n",
              "      <td>6.6</td>\n",
              "      <td>22.77</td>\n",
              "      <td>34.69</td>\n",
              "      <td>57.65</td>\n",
              "      <td>74.55</td>\n",
              "      <td>99.8</td>\n",
              "      <td>47360</td>\n",
              "      <td>72140</td>\n",
              "      <td>119920</td>\n",
              "      <td>155050</td>\n",
              "      <td>207570</td>\n",
              "    </tr>\n",
              "    <tr>\n",
              "      <th>4</th>\n",
              "      <td>10180</td>\n",
              "      <td>Abilene, TX</td>\n",
              "      <td>4</td>\n",
              "      <td>0</td>\n",
              "      <td>Cross-industry</td>\n",
              "      <td>cross-industry</td>\n",
              "      <td>1235</td>\n",
              "      <td>11-2030</td>\n",
              "      <td>Public Relations and Fundraising Managers</td>\n",
              "      <td>detailed</td>\n",
              "      <td>40</td>\n",
              "      <td>29.7</td>\n",
              "      <td>0.571</td>\n",
              "      <td>1.06</td>\n",
              "      <td>*</td>\n",
              "      <td>*</td>\n",
              "      <td>*</td>\n",
              "      <td>*</td>\n",
              "      <td>*</td>\n",
              "      <td>*</td>\n",
              "      <td>*</td>\n",
              "      <td>*</td>\n",
              "      <td>*</td>\n",
              "      <td>*</td>\n",
              "      <td>*</td>\n",
              "      <td>*</td>\n",
              "      <td>*</td>\n",
              "    </tr>\n",
              "  </tbody>\n",
              "</table>\n",
              "</div>"
            ],
            "text/plain": [
              "    area   area_title  area_type  naics  ... a_pct25 a_median  a_pct75 a_pct90\n",
              "0  10180  Abilene, TX          4      0  ...   22810    32530    50030   73230\n",
              "1  10180  Abilene, TX          4      0  ...   56610    78030   107910  157190\n",
              "2  10180  Abilene, TX          4      0  ...   50350    73850   106870  154520\n",
              "3  10180  Abilene, TX          4      0  ...   72140   119920   155050  207570\n",
              "4  10180  Abilene, TX          4      0  ...       *        *        *       *\n",
              "\n",
              "[5 rows x 27 columns]"
            ]
          },
          "metadata": {
            "tags": []
          },
          "execution_count": 7
        }
      ]
    },
    {
      "cell_type": "markdown",
      "metadata": {
        "id": "hRqWBqWviwja"
      },
      "source": [
        "Did this exploration after dropping NaN"
      ]
    },
    {
      "cell_type": "code",
      "metadata": {
        "colab": {
          "base_uri": "https://localhost:8080/",
          "height": 264
        },
        "id": "fjALdYbjYuus",
        "outputId": "539233ea-818b-49ba-a60a-081beb24d1f1"
      },
      "source": [
        "bls_m2019.describe(exclude='number')"
      ],
      "execution_count": 8,
      "outputs": [
        {
          "output_type": "execute_result",
          "data": {
            "text/html": [
              "<div>\n",
              "<style scoped>\n",
              "    .dataframe tbody tr th:only-of-type {\n",
              "        vertical-align: middle;\n",
              "    }\n",
              "\n",
              "    .dataframe tbody tr th {\n",
              "        vertical-align: top;\n",
              "    }\n",
              "\n",
              "    .dataframe thead th {\n",
              "        text-align: right;\n",
              "    }\n",
              "</style>\n",
              "<table border=\"1\" class=\"dataframe\">\n",
              "  <thead>\n",
              "    <tr style=\"text-align: right;\">\n",
              "      <th></th>\n",
              "      <th>area_title</th>\n",
              "      <th>naics_title</th>\n",
              "      <th>i_group</th>\n",
              "      <th>occ_code</th>\n",
              "      <th>occ_title</th>\n",
              "      <th>o_group</th>\n",
              "      <th>tot_emp</th>\n",
              "      <th>emp_prse</th>\n",
              "      <th>jobs_1000</th>\n",
              "      <th>loc_quotient</th>\n",
              "      <th>h_mean</th>\n",
              "      <th>a_mean</th>\n",
              "      <th>mean_prse</th>\n",
              "      <th>h_pct10</th>\n",
              "      <th>h_pct25</th>\n",
              "      <th>h_median</th>\n",
              "      <th>h_pct75</th>\n",
              "      <th>h_pct90</th>\n",
              "      <th>a_pct10</th>\n",
              "      <th>a_pct25</th>\n",
              "      <th>a_median</th>\n",
              "      <th>a_pct75</th>\n",
              "      <th>a_pct90</th>\n",
              "    </tr>\n",
              "  </thead>\n",
              "  <tbody>\n",
              "    <tr>\n",
              "      <th>count</th>\n",
              "      <td>142410</td>\n",
              "      <td>142410</td>\n",
              "      <td>142410</td>\n",
              "      <td>142410</td>\n",
              "      <td>142410</td>\n",
              "      <td>142410</td>\n",
              "      <td>142410</td>\n",
              "      <td>142410</td>\n",
              "      <td>142410</td>\n",
              "      <td>142410</td>\n",
              "      <td>142410</td>\n",
              "      <td>142410</td>\n",
              "      <td>142410</td>\n",
              "      <td>142410</td>\n",
              "      <td>142410</td>\n",
              "      <td>142410</td>\n",
              "      <td>142410</td>\n",
              "      <td>142410</td>\n",
              "      <td>142410</td>\n",
              "      <td>142410</td>\n",
              "      <td>142410</td>\n",
              "      <td>142410</td>\n",
              "      <td>142410</td>\n",
              "    </tr>\n",
              "    <tr>\n",
              "      <th>unique</th>\n",
              "      <td>396</td>\n",
              "      <td>1</td>\n",
              "      <td>1</td>\n",
              "      <td>806</td>\n",
              "      <td>806</td>\n",
              "      <td>3</td>\n",
              "      <td>3903</td>\n",
              "      <td>501</td>\n",
              "      <td>21778</td>\n",
              "      <td>1571</td>\n",
              "      <td>7925</td>\n",
              "      <td>13977</td>\n",
              "      <td>297</td>\n",
              "      <td>4916</td>\n",
              "      <td>5883</td>\n",
              "      <td>6768</td>\n",
              "      <td>7833</td>\n",
              "      <td>8738</td>\n",
              "      <td>8623</td>\n",
              "      <td>10460</td>\n",
              "      <td>12425</td>\n",
              "      <td>14786</td>\n",
              "      <td>16865</td>\n",
              "    </tr>\n",
              "    <tr>\n",
              "      <th>top</th>\n",
              "      <td>New York-Newark-Jersey City, NY-NJ-PA</td>\n",
              "      <td>Cross-industry</td>\n",
              "      <td>cross-industry</td>\n",
              "      <td>53-0000</td>\n",
              "      <td>Secretaries and Administrative Assistants, Exc...</td>\n",
              "      <td>detailed</td>\n",
              "      <td>**</td>\n",
              "      <td>**</td>\n",
              "      <td>**</td>\n",
              "      <td>**</td>\n",
              "      <td>*</td>\n",
              "      <td>*</td>\n",
              "      <td>3</td>\n",
              "      <td>*</td>\n",
              "      <td>*</td>\n",
              "      <td>*</td>\n",
              "      <td>*</td>\n",
              "      <td>*</td>\n",
              "      <td>*</td>\n",
              "      <td>*</td>\n",
              "      <td>*</td>\n",
              "      <td>*</td>\n",
              "      <td>#</td>\n",
              "    </tr>\n",
              "    <tr>\n",
              "      <th>freq</th>\n",
              "      <td>759</td>\n",
              "      <td>142410</td>\n",
              "      <td>142410</td>\n",
              "      <td>396</td>\n",
              "      <td>396</td>\n",
              "      <td>133369</td>\n",
              "      <td>11719</td>\n",
              "      <td>11719</td>\n",
              "      <td>11719</td>\n",
              "      <td>11719</td>\n",
              "      <td>9221</td>\n",
              "      <td>2652</td>\n",
              "      <td>3008</td>\n",
              "      <td>9221</td>\n",
              "      <td>9221</td>\n",
              "      <td>9221</td>\n",
              "      <td>9221</td>\n",
              "      <td>9221</td>\n",
              "      <td>2652</td>\n",
              "      <td>2652</td>\n",
              "      <td>2652</td>\n",
              "      <td>2652</td>\n",
              "      <td>3977</td>\n",
              "    </tr>\n",
              "  </tbody>\n",
              "</table>\n",
              "</div>"
            ],
            "text/plain": [
              "                                   area_title     naics_title  ... a_pct75 a_pct90\n",
              "count                                  142410          142410  ...  142410  142410\n",
              "unique                                    396               1  ...   14786   16865\n",
              "top     New York-Newark-Jersey City, NY-NJ-PA  Cross-industry  ...       *       #\n",
              "freq                                      759          142410  ...    2652    3977\n",
              "\n",
              "[4 rows x 23 columns]"
            ]
          },
          "metadata": {
            "tags": []
          },
          "execution_count": 8
        }
      ]
    },
    {
      "cell_type": "code",
      "metadata": {
        "colab": {
          "base_uri": "https://localhost:8080/",
          "height": 300
        },
        "id": "sERRPx3xY4EG",
        "outputId": "eaa002ee-92c1-4cd5-b6bd-acc623ade822"
      },
      "source": [
        "bls_m2019.describe()"
      ],
      "execution_count": 9,
      "outputs": [
        {
          "output_type": "execute_result",
          "data": {
            "text/html": [
              "<div>\n",
              "<style scoped>\n",
              "    .dataframe tbody tr th:only-of-type {\n",
              "        vertical-align: middle;\n",
              "    }\n",
              "\n",
              "    .dataframe tbody tr th {\n",
              "        vertical-align: top;\n",
              "    }\n",
              "\n",
              "    .dataframe thead th {\n",
              "        text-align: right;\n",
              "    }\n",
              "</style>\n",
              "<table border=\"1\" class=\"dataframe\">\n",
              "  <thead>\n",
              "    <tr style=\"text-align: right;\">\n",
              "      <th></th>\n",
              "      <th>area</th>\n",
              "      <th>area_type</th>\n",
              "      <th>naics</th>\n",
              "      <th>own_code</th>\n",
              "    </tr>\n",
              "  </thead>\n",
              "  <tbody>\n",
              "    <tr>\n",
              "      <th>count</th>\n",
              "      <td>142410.000000</td>\n",
              "      <td>142410.0</td>\n",
              "      <td>142410.0</td>\n",
              "      <td>142410.0</td>\n",
              "    </tr>\n",
              "    <tr>\n",
              "      <th>mean</th>\n",
              "      <td>32528.190506</td>\n",
              "      <td>4.0</td>\n",
              "      <td>0.0</td>\n",
              "      <td>1235.0</td>\n",
              "    </tr>\n",
              "    <tr>\n",
              "      <th>std</th>\n",
              "      <td>15255.350647</td>\n",
              "      <td>0.0</td>\n",
              "      <td>0.0</td>\n",
              "      <td>0.0</td>\n",
              "    </tr>\n",
              "    <tr>\n",
              "      <th>min</th>\n",
              "      <td>10180.000000</td>\n",
              "      <td>4.0</td>\n",
              "      <td>0.0</td>\n",
              "      <td>1235.0</td>\n",
              "    </tr>\n",
              "    <tr>\n",
              "      <th>25%</th>\n",
              "      <td>20220.000000</td>\n",
              "      <td>4.0</td>\n",
              "      <td>0.0</td>\n",
              "      <td>1235.0</td>\n",
              "    </tr>\n",
              "    <tr>\n",
              "      <th>50%</th>\n",
              "      <td>31080.000000</td>\n",
              "      <td>4.0</td>\n",
              "      <td>0.0</td>\n",
              "      <td>1235.0</td>\n",
              "    </tr>\n",
              "    <tr>\n",
              "      <th>75%</th>\n",
              "      <td>41620.000000</td>\n",
              "      <td>4.0</td>\n",
              "      <td>0.0</td>\n",
              "      <td>1235.0</td>\n",
              "    </tr>\n",
              "    <tr>\n",
              "      <th>max</th>\n",
              "      <td>79600.000000</td>\n",
              "      <td>4.0</td>\n",
              "      <td>0.0</td>\n",
              "      <td>1235.0</td>\n",
              "    </tr>\n",
              "  </tbody>\n",
              "</table>\n",
              "</div>"
            ],
            "text/plain": [
              "                area  area_type     naics  own_code\n",
              "count  142410.000000   142410.0  142410.0  142410.0\n",
              "mean    32528.190506        4.0       0.0    1235.0\n",
              "std     15255.350647        0.0       0.0       0.0\n",
              "min     10180.000000        4.0       0.0    1235.0\n",
              "25%     20220.000000        4.0       0.0    1235.0\n",
              "50%     31080.000000        4.0       0.0    1235.0\n",
              "75%     41620.000000        4.0       0.0    1235.0\n",
              "max     79600.000000        4.0       0.0    1235.0"
            ]
          },
          "metadata": {
            "tags": []
          },
          "execution_count": 9
        }
      ]
    },
    {
      "cell_type": "code",
      "metadata": {
        "colab": {
          "base_uri": "https://localhost:8080/"
        },
        "id": "lhBdmDX3bdhI",
        "outputId": "de2059ba-0c0f-4981-b4a4-d34cd1fa1063"
      },
      "source": [
        "bls_m2019['area_title'].nunique()"
      ],
      "execution_count": 10,
      "outputs": [
        {
          "output_type": "execute_result",
          "data": {
            "text/plain": [
              "396"
            ]
          },
          "metadata": {
            "tags": []
          },
          "execution_count": 10
        }
      ]
    },
    {
      "cell_type": "code",
      "metadata": {
        "colab": {
          "base_uri": "https://localhost:8080/",
          "height": 826
        },
        "id": "E0oThdGrafMi",
        "outputId": "e9812cf1-b18d-4257-ae51-a2747ce6e8a9"
      },
      "source": [
        "bls_m2019.sort_values(['area_title', 'loc_quotient'], ascending=False)"
      ],
      "execution_count": 11,
      "outputs": [
        {
          "output_type": "execute_result",
          "data": {
            "text/html": [
              "<div>\n",
              "<style scoped>\n",
              "    .dataframe tbody tr th:only-of-type {\n",
              "        vertical-align: middle;\n",
              "    }\n",
              "\n",
              "    .dataframe tbody tr th {\n",
              "        vertical-align: top;\n",
              "    }\n",
              "\n",
              "    .dataframe thead th {\n",
              "        text-align: right;\n",
              "    }\n",
              "</style>\n",
              "<table border=\"1\" class=\"dataframe\">\n",
              "  <thead>\n",
              "    <tr style=\"text-align: right;\">\n",
              "      <th></th>\n",
              "      <th>area</th>\n",
              "      <th>area_title</th>\n",
              "      <th>area_type</th>\n",
              "      <th>naics</th>\n",
              "      <th>naics_title</th>\n",
              "      <th>i_group</th>\n",
              "      <th>own_code</th>\n",
              "      <th>occ_code</th>\n",
              "      <th>occ_title</th>\n",
              "      <th>o_group</th>\n",
              "      <th>tot_emp</th>\n",
              "      <th>emp_prse</th>\n",
              "      <th>jobs_1000</th>\n",
              "      <th>loc_quotient</th>\n",
              "      <th>h_mean</th>\n",
              "      <th>a_mean</th>\n",
              "      <th>mean_prse</th>\n",
              "      <th>h_pct10</th>\n",
              "      <th>h_pct25</th>\n",
              "      <th>h_median</th>\n",
              "      <th>h_pct75</th>\n",
              "      <th>h_pct90</th>\n",
              "      <th>a_pct10</th>\n",
              "      <th>a_pct25</th>\n",
              "      <th>a_median</th>\n",
              "      <th>a_pct75</th>\n",
              "      <th>a_pct90</th>\n",
              "    </tr>\n",
              "  </thead>\n",
              "  <tbody>\n",
              "    <tr>\n",
              "      <th>133989</th>\n",
              "      <td>49740</td>\n",
              "      <td>Yuma, AZ</td>\n",
              "      <td>4</td>\n",
              "      <td>0</td>\n",
              "      <td>Cross-industry</td>\n",
              "      <td>cross-industry</td>\n",
              "      <td>1235</td>\n",
              "      <td>11-9021</td>\n",
              "      <td>Construction Managers</td>\n",
              "      <td>detailed</td>\n",
              "      <td>**</td>\n",
              "      <td>**</td>\n",
              "      <td>**</td>\n",
              "      <td>**</td>\n",
              "      <td>49.09</td>\n",
              "      <td>102110</td>\n",
              "      <td>4.4</td>\n",
              "      <td>22.77</td>\n",
              "      <td>30.47</td>\n",
              "      <td>47.28</td>\n",
              "      <td>68.88</td>\n",
              "      <td>77.95</td>\n",
              "      <td>47370</td>\n",
              "      <td>63370</td>\n",
              "      <td>98340</td>\n",
              "      <td>143280</td>\n",
              "      <td>162140</td>\n",
              "    </tr>\n",
              "    <tr>\n",
              "      <th>134049</th>\n",
              "      <td>49740</td>\n",
              "      <td>Yuma, AZ</td>\n",
              "      <td>4</td>\n",
              "      <td>0</td>\n",
              "      <td>Cross-industry</td>\n",
              "      <td>cross-industry</td>\n",
              "      <td>1235</td>\n",
              "      <td>25-3031</td>\n",
              "      <td>Substitute Teachers, Short-Term</td>\n",
              "      <td>detailed</td>\n",
              "      <td>**</td>\n",
              "      <td>**</td>\n",
              "      <td>**</td>\n",
              "      <td>**</td>\n",
              "      <td>14.27</td>\n",
              "      <td>29680</td>\n",
              "      <td>2.8</td>\n",
              "      <td>11.84</td>\n",
              "      <td>12.64</td>\n",
              "      <td>13.96</td>\n",
              "      <td>15.99</td>\n",
              "      <td>17.91</td>\n",
              "      <td>24640</td>\n",
              "      <td>26280</td>\n",
              "      <td>29040</td>\n",
              "      <td>33260</td>\n",
              "      <td>37250</td>\n",
              "    </tr>\n",
              "    <tr>\n",
              "      <th>134065</th>\n",
              "      <td>49740</td>\n",
              "      <td>Yuma, AZ</td>\n",
              "      <td>4</td>\n",
              "      <td>0</td>\n",
              "      <td>Cross-industry</td>\n",
              "      <td>cross-industry</td>\n",
              "      <td>1235</td>\n",
              "      <td>29-1131</td>\n",
              "      <td>Veterinarians</td>\n",
              "      <td>detailed</td>\n",
              "      <td>**</td>\n",
              "      <td>**</td>\n",
              "      <td>**</td>\n",
              "      <td>**</td>\n",
              "      <td>55.96</td>\n",
              "      <td>116400</td>\n",
              "      <td>14.6</td>\n",
              "      <td>15.27</td>\n",
              "      <td>36.96</td>\n",
              "      <td>58.8</td>\n",
              "      <td>73.94</td>\n",
              "      <td>84.62</td>\n",
              "      <td>31750</td>\n",
              "      <td>76870</td>\n",
              "      <td>122310</td>\n",
              "      <td>153800</td>\n",
              "      <td>176010</td>\n",
              "    </tr>\n",
              "    <tr>\n",
              "      <th>134069</th>\n",
              "      <td>49740</td>\n",
              "      <td>Yuma, AZ</td>\n",
              "      <td>4</td>\n",
              "      <td>0</td>\n",
              "      <td>Cross-industry</td>\n",
              "      <td>cross-industry</td>\n",
              "      <td>1235</td>\n",
              "      <td>29-1216</td>\n",
              "      <td>General Internal Medicine Physicians</td>\n",
              "      <td>detailed</td>\n",
              "      <td>**</td>\n",
              "      <td>**</td>\n",
              "      <td>**</td>\n",
              "      <td>**</td>\n",
              "      <td>103.73</td>\n",
              "      <td>215750</td>\n",
              "      <td>12.8</td>\n",
              "      <td>53.13</td>\n",
              "      <td>62.79</td>\n",
              "      <td>#</td>\n",
              "      <td>#</td>\n",
              "      <td>#</td>\n",
              "      <td>110520</td>\n",
              "      <td>130600</td>\n",
              "      <td>#</td>\n",
              "      <td>#</td>\n",
              "      <td>#</td>\n",
              "    </tr>\n",
              "    <tr>\n",
              "      <th>134071</th>\n",
              "      <td>49740</td>\n",
              "      <td>Yuma, AZ</td>\n",
              "      <td>4</td>\n",
              "      <td>0</td>\n",
              "      <td>Cross-industry</td>\n",
              "      <td>cross-industry</td>\n",
              "      <td>1235</td>\n",
              "      <td>29-1292</td>\n",
              "      <td>Dental Hygienists</td>\n",
              "      <td>detailed</td>\n",
              "      <td>**</td>\n",
              "      <td>**</td>\n",
              "      <td>**</td>\n",
              "      <td>**</td>\n",
              "      <td>38.22</td>\n",
              "      <td>79500</td>\n",
              "      <td>9.4</td>\n",
              "      <td>27.98</td>\n",
              "      <td>31.68</td>\n",
              "      <td>40.21</td>\n",
              "      <td>44.89</td>\n",
              "      <td>47.68</td>\n",
              "      <td>58190</td>\n",
              "      <td>65890</td>\n",
              "      <td>83650</td>\n",
              "      <td>93370</td>\n",
              "      <td>99180</td>\n",
              "    </tr>\n",
              "    <tr>\n",
              "      <th>...</th>\n",
              "      <td>...</td>\n",
              "      <td>...</td>\n",
              "      <td>...</td>\n",
              "      <td>...</td>\n",
              "      <td>...</td>\n",
              "      <td>...</td>\n",
              "      <td>...</td>\n",
              "      <td>...</td>\n",
              "      <td>...</td>\n",
              "      <td>...</td>\n",
              "      <td>...</td>\n",
              "      <td>...</td>\n",
              "      <td>...</td>\n",
              "      <td>...</td>\n",
              "      <td>...</td>\n",
              "      <td>...</td>\n",
              "      <td>...</td>\n",
              "      <td>...</td>\n",
              "      <td>...</td>\n",
              "      <td>...</td>\n",
              "      <td>...</td>\n",
              "      <td>...</td>\n",
              "      <td>...</td>\n",
              "      <td>...</td>\n",
              "      <td>...</td>\n",
              "      <td>...</td>\n",
              "      <td>...</td>\n",
              "    </tr>\n",
              "    <tr>\n",
              "      <th>25</th>\n",
              "      <td>10180</td>\n",
              "      <td>Abilene, TX</td>\n",
              "      <td>4</td>\n",
              "      <td>0</td>\n",
              "      <td>Cross-industry</td>\n",
              "      <td>cross-industry</td>\n",
              "      <td>1235</td>\n",
              "      <td>13-1111</td>\n",
              "      <td>Management Analysts</td>\n",
              "      <td>detailed</td>\n",
              "      <td>80</td>\n",
              "      <td>30.3</td>\n",
              "      <td>1.15</td>\n",
              "      <td>0.24</td>\n",
              "      <td>38.36</td>\n",
              "      <td>79780</td>\n",
              "      <td>3.1</td>\n",
              "      <td>24.83</td>\n",
              "      <td>28.65</td>\n",
              "      <td>36.46</td>\n",
              "      <td>45.76</td>\n",
              "      <td>59.26</td>\n",
              "      <td>51650</td>\n",
              "      <td>59600</td>\n",
              "      <td>75830</td>\n",
              "      <td>95190</td>\n",
              "      <td>123270</td>\n",
              "    </tr>\n",
              "    <tr>\n",
              "      <th>37</th>\n",
              "      <td>10180</td>\n",
              "      <td>Abilene, TX</td>\n",
              "      <td>4</td>\n",
              "      <td>0</td>\n",
              "      <td>Cross-industry</td>\n",
              "      <td>cross-industry</td>\n",
              "      <td>1235</td>\n",
              "      <td>15-1211</td>\n",
              "      <td>Computer Systems Analysts</td>\n",
              "      <td>detailed</td>\n",
              "      <td>60</td>\n",
              "      <td>23.7</td>\n",
              "      <td>0.917</td>\n",
              "      <td>0.23</td>\n",
              "      <td>31.14</td>\n",
              "      <td>64770</td>\n",
              "      <td>4.5</td>\n",
              "      <td>20.39</td>\n",
              "      <td>22.77</td>\n",
              "      <td>28.77</td>\n",
              "      <td>39.04</td>\n",
              "      <td>46.91</td>\n",
              "      <td>42410</td>\n",
              "      <td>47350</td>\n",
              "      <td>59840</td>\n",
              "      <td>81200</td>\n",
              "      <td>97580</td>\n",
              "    </tr>\n",
              "    <tr>\n",
              "      <th>17</th>\n",
              "      <td>10180</td>\n",
              "      <td>Abilene, TX</td>\n",
              "      <td>4</td>\n",
              "      <td>0</td>\n",
              "      <td>Cross-industry</td>\n",
              "      <td>cross-industry</td>\n",
              "      <td>1235</td>\n",
              "      <td>11-9198</td>\n",
              "      <td>Personal Service Managers, All Other; Entertai...</td>\n",
              "      <td>detailed</td>\n",
              "      <td>30</td>\n",
              "      <td>19.9</td>\n",
              "      <td>0.523</td>\n",
              "      <td>0.16</td>\n",
              "      <td>45.95</td>\n",
              "      <td>95580</td>\n",
              "      <td>8.6</td>\n",
              "      <td>18.91</td>\n",
              "      <td>32.23</td>\n",
              "      <td>41.9</td>\n",
              "      <td>50.89</td>\n",
              "      <td>73.42</td>\n",
              "      <td>39330</td>\n",
              "      <td>67050</td>\n",
              "      <td>87160</td>\n",
              "      <td>105850</td>\n",
              "      <td>152710</td>\n",
              "    </tr>\n",
              "    <tr>\n",
              "      <th>42</th>\n",
              "      <td>10180</td>\n",
              "      <td>Abilene, TX</td>\n",
              "      <td>4</td>\n",
              "      <td>0</td>\n",
              "      <td>Cross-industry</td>\n",
              "      <td>cross-industry</td>\n",
              "      <td>1235</td>\n",
              "      <td>15-1256</td>\n",
              "      <td>Software Developers and Software Quality Assur...</td>\n",
              "      <td>detailed</td>\n",
              "      <td>90</td>\n",
              "      <td>21.1</td>\n",
              "      <td>1.368</td>\n",
              "      <td>0.14</td>\n",
              "      <td>42.77</td>\n",
              "      <td>88960</td>\n",
              "      <td>6.2</td>\n",
              "      <td>24.29</td>\n",
              "      <td>30.02</td>\n",
              "      <td>40.85</td>\n",
              "      <td>52.61</td>\n",
              "      <td>66.44</td>\n",
              "      <td>50520</td>\n",
              "      <td>62440</td>\n",
              "      <td>84980</td>\n",
              "      <td>109430</td>\n",
              "      <td>138190</td>\n",
              "    </tr>\n",
              "    <tr>\n",
              "      <th>257</th>\n",
              "      <td>10180</td>\n",
              "      <td>Abilene, TX</td>\n",
              "      <td>4</td>\n",
              "      <td>0</td>\n",
              "      <td>Cross-industry</td>\n",
              "      <td>cross-industry</td>\n",
              "      <td>1235</td>\n",
              "      <td>51-2090</td>\n",
              "      <td>Miscellaneous Assemblers and Fabricators</td>\n",
              "      <td>detailed</td>\n",
              "      <td>70</td>\n",
              "      <td>16.4</td>\n",
              "      <td>1.06</td>\n",
              "      <td>0.11</td>\n",
              "      <td>13.59</td>\n",
              "      <td>28280</td>\n",
              "      <td>5.1</td>\n",
              "      <td>8.95</td>\n",
              "      <td>10.43</td>\n",
              "      <td>13.22</td>\n",
              "      <td>16.79</td>\n",
              "      <td>19.03</td>\n",
              "      <td>18620</td>\n",
              "      <td>21700</td>\n",
              "      <td>27500</td>\n",
              "      <td>34920</td>\n",
              "      <td>39590</td>\n",
              "    </tr>\n",
              "  </tbody>\n",
              "</table>\n",
              "<p>142410 rows × 27 columns</p>\n",
              "</div>"
            ],
            "text/plain": [
              "         area   area_title  area_type  naics  ... a_pct25 a_median  a_pct75 a_pct90\n",
              "133989  49740     Yuma, AZ          4      0  ...   63370    98340   143280  162140\n",
              "134049  49740     Yuma, AZ          4      0  ...   26280    29040    33260   37250\n",
              "134065  49740     Yuma, AZ          4      0  ...   76870   122310   153800  176010\n",
              "134069  49740     Yuma, AZ          4      0  ...  130600        #        #       #\n",
              "134071  49740     Yuma, AZ          4      0  ...   65890    83650    93370   99180\n",
              "...       ...          ...        ...    ...  ...     ...      ...      ...     ...\n",
              "25      10180  Abilene, TX          4      0  ...   59600    75830    95190  123270\n",
              "37      10180  Abilene, TX          4      0  ...   47350    59840    81200   97580\n",
              "17      10180  Abilene, TX          4      0  ...   67050    87160   105850  152710\n",
              "42      10180  Abilene, TX          4      0  ...   62440    84980   109430  138190\n",
              "257     10180  Abilene, TX          4      0  ...   21700    27500    34920   39590\n",
              "\n",
              "[142410 rows x 27 columns]"
            ]
          },
          "metadata": {
            "tags": []
          },
          "execution_count": 11
        }
      ]
    },
    {
      "cell_type": "code",
      "metadata": {
        "id": "hcA1fNt7eaI8"
      },
      "source": [
        "# Clean up loc_quotient\n",
        "bls_m2019['loc_quotient'] = bls_m2019['loc_quotient'].replace('**', '0')\n",
        "bls_m2019['loc_quotient'] = bls_m2019['loc_quotient'].astype(float)"
      ],
      "execution_count": 12,
      "outputs": []
    },
    {
      "cell_type": "code",
      "metadata": {
        "id": "8UKad-uve8UV"
      },
      "source": [
        "# Clean up jobs_1000\n",
        "bls_m2019[\"jobs_1000\"] = bls_m2019['jobs_1000'].replace(\"**\",\"0\")\n",
        "bls_m2019[\"jobs_1000\"] = bls_m2019['jobs_1000'].astype(float)"
      ],
      "execution_count": 13,
      "outputs": []
    },
    {
      "cell_type": "code",
      "metadata": {
        "id": "AANIm7GDfViI"
      },
      "source": [
        "# Clean up h_mean\n",
        "# replacing *, #'s with 0's for now -> will calculate after cleaning\n",
        "bls_m2019['h_mean'] = bls_m2019['h_mean'].replace(\"*\",\"0\")\n",
        "bls_m2019['h_mean'] = bls_m2019['h_mean'].replace(\"#\",\"0\")\n",
        "bls_m2019['h_mean'] = bls_m2019['h_mean'].astype(float)"
      ],
      "execution_count": 14,
      "outputs": []
    },
    {
      "cell_type": "code",
      "metadata": {
        "id": "IZSq_X2sfYPx"
      },
      "source": [
        "# Clean up a_mean\n",
        "bls_m2019['a_mean'] = bls_m2019['a_mean'].replace(\"*\",\"0\")\n",
        "bls_m2019['a_mean'] = bls_m2019['a_mean'].replace(\"#\",\"0\")\n",
        "bls_m2019['a_mean'] = bls_m2019['a_mean'].astype(int)"
      ],
      "execution_count": 15,
      "outputs": []
    },
    {
      "cell_type": "markdown",
      "metadata": {
        "id": "v0JPdz2YWEyv"
      },
      "source": [
        "## Feature Engineering\n"
      ]
    },
    {
      "cell_type": "code",
      "metadata": {
        "id": "YI3QpWoIc2cH"
      },
      "source": [
        "# We do not need all the columns so I will compress the df to just the necessary columns\n",
        "bls = bls_m2019[['area_title', 'occ_title', 'jobs_1000', 'loc_quotient', 'h_mean', 'a_mean']]"
      ],
      "execution_count": 16,
      "outputs": []
    },
    {
      "cell_type": "code",
      "metadata": {
        "id": "HEMZArCIjQJu"
      },
      "source": [
        "# For readability\n",
        "bls = bls.rename(columns = {\n",
        "    'h_mean': 'avg_hourly_salary',\n",
        "    'a_mean': 'avg_annual_salary'\n",
        "})"
      ],
      "execution_count": 17,
      "outputs": []
    },
    {
      "cell_type": "code",
      "metadata": {
        "id": "7NokXt8oWHIz"
      },
      "source": [
        "# Creating a city and state columns for easier manipulation and joining with other tables\n",
        "states = []\n",
        "cities = []\n",
        "\n",
        "for row in bls_m2019['area_title']:\n",
        "  row = row.split(',')\n",
        "  cities.append(row[0])\n",
        "  states.append(row[1])\n",
        "\n",
        "bls['city'] = cities\n",
        "bls['state'] = states"
      ],
      "execution_count": 18,
      "outputs": []
    },
    {
      "cell_type": "code",
      "metadata": {
        "colab": {
          "base_uri": "https://localhost:8080/",
          "height": 400
        },
        "id": "E5qHkMRTcdSQ",
        "outputId": "c40d2722-d9a9-4b8c-af34-7594e84f1112"
      },
      "source": [
        "print(bls.shape)\n",
        "bls.head()"
      ],
      "execution_count": 19,
      "outputs": [
        {
          "output_type": "stream",
          "text": [
            "(142410, 8)\n"
          ],
          "name": "stdout"
        },
        {
          "output_type": "execute_result",
          "data": {
            "text/html": [
              "<div>\n",
              "<style scoped>\n",
              "    .dataframe tbody tr th:only-of-type {\n",
              "        vertical-align: middle;\n",
              "    }\n",
              "\n",
              "    .dataframe tbody tr th {\n",
              "        vertical-align: top;\n",
              "    }\n",
              "\n",
              "    .dataframe thead th {\n",
              "        text-align: right;\n",
              "    }\n",
              "</style>\n",
              "<table border=\"1\" class=\"dataframe\">\n",
              "  <thead>\n",
              "    <tr style=\"text-align: right;\">\n",
              "      <th></th>\n",
              "      <th>area_title</th>\n",
              "      <th>occ_title</th>\n",
              "      <th>jobs_1000</th>\n",
              "      <th>loc_quotient</th>\n",
              "      <th>avg_hourly_salary</th>\n",
              "      <th>avg_annual_salary</th>\n",
              "      <th>city</th>\n",
              "      <th>state</th>\n",
              "    </tr>\n",
              "  </thead>\n",
              "  <tbody>\n",
              "    <tr>\n",
              "      <th>0</th>\n",
              "      <td>Abilene, TX</td>\n",
              "      <td>All Occupations</td>\n",
              "      <td>1000.000</td>\n",
              "      <td>1.00</td>\n",
              "      <td>20.08</td>\n",
              "      <td>41760</td>\n",
              "      <td>Abilene</td>\n",
              "      <td>TX</td>\n",
              "    </tr>\n",
              "    <tr>\n",
              "      <th>1</th>\n",
              "      <td>Abilene, TX</td>\n",
              "      <td>Management Occupations</td>\n",
              "      <td>40.137</td>\n",
              "      <td>0.73</td>\n",
              "      <td>43.51</td>\n",
              "      <td>90500</td>\n",
              "      <td>Abilene</td>\n",
              "      <td>TX</td>\n",
              "    </tr>\n",
              "    <tr>\n",
              "      <th>2</th>\n",
              "      <td>Abilene, TX</td>\n",
              "      <td>General and Operations Managers</td>\n",
              "      <td>16.499</td>\n",
              "      <td>1.01</td>\n",
              "      <td>40.39</td>\n",
              "      <td>84000</td>\n",
              "      <td>Abilene</td>\n",
              "      <td>TX</td>\n",
              "    </tr>\n",
              "    <tr>\n",
              "      <th>3</th>\n",
              "      <td>Abilene, TX</td>\n",
              "      <td>Sales Managers</td>\n",
              "      <td>1.728</td>\n",
              "      <td>0.63</td>\n",
              "      <td>59.96</td>\n",
              "      <td>124710</td>\n",
              "      <td>Abilene</td>\n",
              "      <td>TX</td>\n",
              "    </tr>\n",
              "    <tr>\n",
              "      <th>4</th>\n",
              "      <td>Abilene, TX</td>\n",
              "      <td>Public Relations and Fundraising Managers</td>\n",
              "      <td>0.571</td>\n",
              "      <td>1.06</td>\n",
              "      <td>0.00</td>\n",
              "      <td>0</td>\n",
              "      <td>Abilene</td>\n",
              "      <td>TX</td>\n",
              "    </tr>\n",
              "  </tbody>\n",
              "</table>\n",
              "</div>"
            ],
            "text/plain": [
              "    area_title                                  occ_title  ...     city  state\n",
              "0  Abilene, TX                            All Occupations  ...  Abilene     TX\n",
              "1  Abilene, TX                     Management Occupations  ...  Abilene     TX\n",
              "2  Abilene, TX            General and Operations Managers  ...  Abilene     TX\n",
              "3  Abilene, TX                             Sales Managers  ...  Abilene     TX\n",
              "4  Abilene, TX  Public Relations and Fundraising Managers  ...  Abilene     TX\n",
              "\n",
              "[5 rows x 8 columns]"
            ]
          },
          "metadata": {
            "tags": []
          },
          "execution_count": 19
        }
      ]
    },
    {
      "cell_type": "code",
      "metadata": {
        "colab": {
          "base_uri": "https://localhost:8080/"
        },
        "id": "SPPhHDzpj__c",
        "outputId": "93f55f45-c3a6-4f4e-f014-baf76d396dbb"
      },
      "source": [
        "# Checking column types after revision\n",
        "bls.dtypes"
      ],
      "execution_count": 20,
      "outputs": [
        {
          "output_type": "execute_result",
          "data": {
            "text/plain": [
              "area_title            object\n",
              "occ_title             object\n",
              "jobs_1000            float64\n",
              "loc_quotient         float64\n",
              "avg_hourly_salary    float64\n",
              "avg_annual_salary      int64\n",
              "city                  object\n",
              "state                 object\n",
              "dtype: object"
            ]
          },
          "metadata": {
            "tags": []
          },
          "execution_count": 20
        }
      ]
    },
    {
      "cell_type": "code",
      "metadata": {
        "colab": {
          "base_uri": "https://localhost:8080/"
        },
        "id": "GeEvVA0tkh1p",
        "outputId": "f1dbb5c6-2090-402f-94dc-9855594c1b76"
      },
      "source": [
        "bls.isnull().sum()"
      ],
      "execution_count": 21,
      "outputs": [
        {
          "output_type": "execute_result",
          "data": {
            "text/plain": [
              "area_title           0\n",
              "occ_title            0\n",
              "jobs_1000            0\n",
              "loc_quotient         0\n",
              "avg_hourly_salary    0\n",
              "avg_annual_salary    0\n",
              "city                 0\n",
              "state                0\n",
              "dtype: int64"
            ]
          },
          "metadata": {
            "tags": []
          },
          "execution_count": 21
        }
      ]
    },
    {
      "cell_type": "code",
      "metadata": {
        "id": "qiGkJMRfkGDu"
      },
      "source": [
        "# Reorder df, also do not need area_tile (redundant)\n",
        "bls = bls[['state', 'city', 'occ_title', 'jobs_1000', 'loc_quotient', 'avg_hourly_salary', 'avg_annual_salary']]"
      ],
      "execution_count": 22,
      "outputs": []
    },
    {
      "cell_type": "code",
      "metadata": {
        "id": "EvNt6sNxVqnm"
      },
      "source": [
        "bls.loc[(bls.city =='Urban Honolulu'), 'city'] = 'Honolulu'"
      ],
      "execution_count": 23,
      "outputs": []
    },
    {
      "cell_type": "code",
      "metadata": {
        "colab": {
          "base_uri": "https://localhost:8080/",
          "height": 118
        },
        "id": "QalCa2t_TtyJ",
        "outputId": "ba1d9397-7fb7-42d5-82e2-15327a9a6629"
      },
      "source": [
        "bls.loc[(bls.city == 'Honolulu')][0:1]"
      ],
      "execution_count": 24,
      "outputs": [
        {
          "output_type": "execute_result",
          "data": {
            "text/html": [
              "<div>\n",
              "<style scoped>\n",
              "    .dataframe tbody tr th:only-of-type {\n",
              "        vertical-align: middle;\n",
              "    }\n",
              "\n",
              "    .dataframe tbody tr th {\n",
              "        vertical-align: top;\n",
              "    }\n",
              "\n",
              "    .dataframe thead th {\n",
              "        text-align: right;\n",
              "    }\n",
              "</style>\n",
              "<table border=\"1\" class=\"dataframe\">\n",
              "  <thead>\n",
              "    <tr style=\"text-align: right;\">\n",
              "      <th></th>\n",
              "      <th>state</th>\n",
              "      <th>city</th>\n",
              "      <th>occ_title</th>\n",
              "      <th>jobs_1000</th>\n",
              "      <th>loc_quotient</th>\n",
              "      <th>avg_hourly_salary</th>\n",
              "      <th>avg_annual_salary</th>\n",
              "    </tr>\n",
              "  </thead>\n",
              "  <tbody>\n",
              "    <tr>\n",
              "      <th>124580</th>\n",
              "      <td>HI</td>\n",
              "      <td>Honolulu</td>\n",
              "      <td>All Occupations</td>\n",
              "      <td>1000.0</td>\n",
              "      <td>1.0</td>\n",
              "      <td>27.43</td>\n",
              "      <td>57060</td>\n",
              "    </tr>\n",
              "  </tbody>\n",
              "</table>\n",
              "</div>"
            ],
            "text/plain": [
              "       state      city  ... avg_hourly_salary  avg_annual_salary\n",
              "124580    HI  Honolulu  ...             27.43              57060\n",
              "\n",
              "[1 rows x 7 columns]"
            ]
          },
          "metadata": {
            "tags": []
          },
          "execution_count": 24
        }
      ]
    },
    {
      "cell_type": "markdown",
      "metadata": {
        "id": "FulR7tXh3d62"
      },
      "source": [
        "### Calculate Annual Wage\n",
        "- using hourly wage \n",
        "(assumption - 40 hours * 52 weeks)"
      ]
    },
    {
      "cell_type": "code",
      "metadata": {
        "id": "pRwB1f1a3bMr"
      },
      "source": [
        "bls['avg_annual_salary'] = np.where(bls['avg_annual_salary']== 0, bls['avg_hourly_salary']*40*52, bls['avg_annual_salary'] )"
      ],
      "execution_count": 25,
      "outputs": []
    },
    {
      "cell_type": "markdown",
      "metadata": {
        "id": "6q75UW8oTvVr"
      },
      "source": [
        "#### Check if columns to see if formula is applied properly"
      ]
    },
    {
      "cell_type": "code",
      "metadata": {
        "colab": {
          "base_uri": "https://localhost:8080/"
        },
        "id": "MaG2pkz6rVXi",
        "outputId": "0b66cbd1-4e35-4d22-9090-f4c404b16f98"
      },
      "source": [
        "14.07*40*52"
      ],
      "execution_count": 26,
      "outputs": [
        {
          "output_type": "execute_result",
          "data": {
            "text/plain": [
              "29265.6"
            ]
          },
          "metadata": {
            "tags": []
          },
          "execution_count": 26
        }
      ]
    },
    {
      "cell_type": "code",
      "metadata": {
        "id": "UK37o0lyr3NM"
      },
      "source": [
        "assert bls['avg_annual_salary'][1290] == 29265.6"
      ],
      "execution_count": 27,
      "outputs": []
    },
    {
      "cell_type": "code",
      "metadata": {
        "colab": {
          "base_uri": "https://localhost:8080/",
          "height": 118
        },
        "id": "zTR3XtnGD-UJ",
        "outputId": "5860a61a-dbec-4455-fef0-d6bcaf8cdb81"
      },
      "source": [
        "bls.loc[\n",
        "        (bls.city == 'Albany')\n",
        "        & (bls.occ_title == 'Musicians and Singers')]\n"
      ],
      "execution_count": 28,
      "outputs": [
        {
          "output_type": "execute_result",
          "data": {
            "text/html": [
              "<div>\n",
              "<style scoped>\n",
              "    .dataframe tbody tr th:only-of-type {\n",
              "        vertical-align: middle;\n",
              "    }\n",
              "\n",
              "    .dataframe tbody tr th {\n",
              "        vertical-align: top;\n",
              "    }\n",
              "\n",
              "    .dataframe thead th {\n",
              "        text-align: right;\n",
              "    }\n",
              "</style>\n",
              "<table border=\"1\" class=\"dataframe\">\n",
              "  <thead>\n",
              "    <tr style=\"text-align: right;\">\n",
              "      <th></th>\n",
              "      <th>state</th>\n",
              "      <th>city</th>\n",
              "      <th>occ_title</th>\n",
              "      <th>jobs_1000</th>\n",
              "      <th>loc_quotient</th>\n",
              "      <th>avg_hourly_salary</th>\n",
              "      <th>avg_annual_salary</th>\n",
              "    </tr>\n",
              "  </thead>\n",
              "  <tbody>\n",
              "    <tr>\n",
              "      <th>1290</th>\n",
              "      <td>OR</td>\n",
              "      <td>Albany</td>\n",
              "      <td>Musicians and Singers</td>\n",
              "      <td>1.589</td>\n",
              "      <td>5.67</td>\n",
              "      <td>14.07</td>\n",
              "      <td>29265.6</td>\n",
              "    </tr>\n",
              "  </tbody>\n",
              "</table>\n",
              "</div>"
            ],
            "text/plain": [
              "     state    city  ... avg_hourly_salary  avg_annual_salary\n",
              "1290    OR  Albany  ...             14.07            29265.6\n",
              "\n",
              "[1 rows x 7 columns]"
            ]
          },
          "metadata": {
            "tags": []
          },
          "execution_count": 28
        }
      ]
    },
    {
      "cell_type": "code",
      "metadata": {
        "colab": {
          "base_uri": "https://localhost:8080/"
        },
        "id": "rbljG-RFunSH",
        "outputId": "5d2e3553-24f2-445b-919d-419dd02608c9"
      },
      "source": [
        "20.97*40*52"
      ],
      "execution_count": 29,
      "outputs": [
        {
          "output_type": "execute_result",
          "data": {
            "text/plain": [
              "43617.6"
            ]
          },
          "metadata": {
            "tags": []
          },
          "execution_count": 29
        }
      ]
    },
    {
      "cell_type": "code",
      "metadata": {
        "id": "d93VyzUhuhGV"
      },
      "source": [
        "assert bls['avg_annual_salary'][1691] == 43617.6"
      ],
      "execution_count": 30,
      "outputs": []
    },
    {
      "cell_type": "code",
      "metadata": {
        "colab": {
          "base_uri": "https://localhost:8080/",
          "height": 170
        },
        "id": "ha0Z4gMBn4-B",
        "outputId": "42f7010d-02cf-4727-e4fe-ada9b5350642"
      },
      "source": [
        "\n",
        "bls.loc[\n",
        "        (bls.city == 'Albany-Schenectady-Troy')\n",
        "        & (bls.occ_title == 'Miscellaneous Entertainers and Performers, Sports and Related Workers')]"
      ],
      "execution_count": 31,
      "outputs": [
        {
          "output_type": "execute_result",
          "data": {
            "text/html": [
              "<div>\n",
              "<style scoped>\n",
              "    .dataframe tbody tr th:only-of-type {\n",
              "        vertical-align: middle;\n",
              "    }\n",
              "\n",
              "    .dataframe tbody tr th {\n",
              "        vertical-align: top;\n",
              "    }\n",
              "\n",
              "    .dataframe thead th {\n",
              "        text-align: right;\n",
              "    }\n",
              "</style>\n",
              "<table border=\"1\" class=\"dataframe\">\n",
              "  <thead>\n",
              "    <tr style=\"text-align: right;\">\n",
              "      <th></th>\n",
              "      <th>state</th>\n",
              "      <th>city</th>\n",
              "      <th>occ_title</th>\n",
              "      <th>jobs_1000</th>\n",
              "      <th>loc_quotient</th>\n",
              "      <th>avg_hourly_salary</th>\n",
              "      <th>avg_annual_salary</th>\n",
              "    </tr>\n",
              "  </thead>\n",
              "  <tbody>\n",
              "    <tr>\n",
              "      <th>1691</th>\n",
              "      <td>NY</td>\n",
              "      <td>Albany-Schenectady-Troy</td>\n",
              "      <td>Miscellaneous Entertainers and Performers, Spo...</td>\n",
              "      <td>0.138</td>\n",
              "      <td>1.28</td>\n",
              "      <td>20.97</td>\n",
              "      <td>43617.6</td>\n",
              "    </tr>\n",
              "  </tbody>\n",
              "</table>\n",
              "</div>"
            ],
            "text/plain": [
              "     state                     city  ... avg_hourly_salary  avg_annual_salary\n",
              "1691    NY  Albany-Schenectady-Troy  ...             20.97            43617.6\n",
              "\n",
              "[1 rows x 7 columns]"
            ]
          },
          "metadata": {
            "tags": []
          },
          "execution_count": 31
        }
      ]
    },
    {
      "cell_type": "code",
      "metadata": {
        "colab": {
          "base_uri": "https://localhost:8080/"
        },
        "id": "Wau_BVV0urQe",
        "outputId": "9d0f97d4-9bd1-4b0f-b026-b3c8680f4061"
      },
      "source": [
        "26.23*40*52"
      ],
      "execution_count": 32,
      "outputs": [
        {
          "output_type": "execute_result",
          "data": {
            "text/plain": [
              "54558.4"
            ]
          },
          "metadata": {
            "tags": []
          },
          "execution_count": 32
        }
      ]
    },
    {
      "cell_type": "code",
      "metadata": {
        "id": "Yo0RclmWuvhx"
      },
      "source": [
        "assert bls['avg_annual_salary'][8367] == 54558.4"
      ],
      "execution_count": 33,
      "outputs": []
    },
    {
      "cell_type": "code",
      "metadata": {
        "colab": {
          "base_uri": "https://localhost:8080/",
          "height": 135
        },
        "id": "Le-uRFTCpFQj",
        "outputId": "ed59af61-4841-4393-cff0-8a27847c6499"
      },
      "source": [
        "bls.loc[\n",
        "        (bls.city == 'Austin-Round Rock')\n",
        "        & (bls.occ_title == 'Musicians and Singers')]"
      ],
      "execution_count": 34,
      "outputs": [
        {
          "output_type": "execute_result",
          "data": {
            "text/html": [
              "<div>\n",
              "<style scoped>\n",
              "    .dataframe tbody tr th:only-of-type {\n",
              "        vertical-align: middle;\n",
              "    }\n",
              "\n",
              "    .dataframe tbody tr th {\n",
              "        vertical-align: top;\n",
              "    }\n",
              "\n",
              "    .dataframe thead th {\n",
              "        text-align: right;\n",
              "    }\n",
              "</style>\n",
              "<table border=\"1\" class=\"dataframe\">\n",
              "  <thead>\n",
              "    <tr style=\"text-align: right;\">\n",
              "      <th></th>\n",
              "      <th>state</th>\n",
              "      <th>city</th>\n",
              "      <th>occ_title</th>\n",
              "      <th>jobs_1000</th>\n",
              "      <th>loc_quotient</th>\n",
              "      <th>avg_hourly_salary</th>\n",
              "      <th>avg_annual_salary</th>\n",
              "    </tr>\n",
              "  </thead>\n",
              "  <tbody>\n",
              "    <tr>\n",
              "      <th>8367</th>\n",
              "      <td>TX</td>\n",
              "      <td>Austin-Round Rock</td>\n",
              "      <td>Musicians and Singers</td>\n",
              "      <td>0.374</td>\n",
              "      <td>1.33</td>\n",
              "      <td>26.23</td>\n",
              "      <td>54558.4</td>\n",
              "    </tr>\n",
              "  </tbody>\n",
              "</table>\n",
              "</div>"
            ],
            "text/plain": [
              "     state               city  ... avg_hourly_salary  avg_annual_salary\n",
              "8367    TX  Austin-Round Rock  ...             26.23            54558.4\n",
              "\n",
              "[1 rows x 7 columns]"
            ]
          },
          "metadata": {
            "tags": []
          },
          "execution_count": 34
        }
      ]
    },
    {
      "cell_type": "code",
      "metadata": {
        "colab": {
          "base_uri": "https://localhost:8080/",
          "height": 135
        },
        "id": "XEaraMpGpFBm",
        "outputId": "50ea82f0-99ef-471d-df75-084762b1c54e"
      },
      "source": [
        "bls.loc[\n",
        "        (bls.city == 'Denver-Aurora-Lakewood')\n",
        "        & (bls.occ_title == 'Actors')]"
      ],
      "execution_count": 35,
      "outputs": [
        {
          "output_type": "execute_result",
          "data": {
            "text/html": [
              "<div>\n",
              "<style scoped>\n",
              "    .dataframe tbody tr th:only-of-type {\n",
              "        vertical-align: middle;\n",
              "    }\n",
              "\n",
              "    .dataframe tbody tr th {\n",
              "        vertical-align: top;\n",
              "    }\n",
              "\n",
              "    .dataframe thead th {\n",
              "        text-align: right;\n",
              "    }\n",
              "</style>\n",
              "<table border=\"1\" class=\"dataframe\">\n",
              "  <thead>\n",
              "    <tr style=\"text-align: right;\">\n",
              "      <th></th>\n",
              "      <th>state</th>\n",
              "      <th>city</th>\n",
              "      <th>occ_title</th>\n",
              "      <th>jobs_1000</th>\n",
              "      <th>loc_quotient</th>\n",
              "      <th>avg_hourly_salary</th>\n",
              "      <th>avg_annual_salary</th>\n",
              "    </tr>\n",
              "  </thead>\n",
              "  <tbody>\n",
              "    <tr>\n",
              "      <th>33443</th>\n",
              "      <td>CO</td>\n",
              "      <td>Denver-Aurora-Lakewood</td>\n",
              "      <td>Actors</td>\n",
              "      <td>0.33</td>\n",
              "      <td>0.92</td>\n",
              "      <td>33.1</td>\n",
              "      <td>68848.0</td>\n",
              "    </tr>\n",
              "  </tbody>\n",
              "</table>\n",
              "</div>"
            ],
            "text/plain": [
              "      state                    city  ... avg_hourly_salary  avg_annual_salary\n",
              "33443    CO  Denver-Aurora-Lakewood  ...              33.1            68848.0\n",
              "\n",
              "[1 rows x 7 columns]"
            ]
          },
          "metadata": {
            "tags": []
          },
          "execution_count": 35
        }
      ]
    },
    {
      "cell_type": "markdown",
      "metadata": {
        "id": "Qg-RFnsDoaFy"
      },
      "source": [
        "## Calculate Hourly Wage\n",
        "- use annual wage(assumption - /40 and /52)"
      ]
    },
    {
      "cell_type": "code",
      "metadata": {
        "id": "5bhrsqWdqEFT"
      },
      "source": [
        "bls['avg_hourly_salary'] = np.where(bls['avg_hourly_salary']== 0, bls['avg_annual_salary']/(40*52), bls['avg_hourly_salary'] )"
      ],
      "execution_count": 36,
      "outputs": []
    },
    {
      "cell_type": "markdown",
      "metadata": {
        "id": "qHtdZwdXvBlZ"
      },
      "source": [
        "#### Check if columns to see if formula is applied properly"
      ]
    },
    {
      "cell_type": "code",
      "metadata": {
        "colab": {
          "base_uri": "https://localhost:8080/"
        },
        "id": "uLlhECoCvGtl",
        "outputId": "71389461-4e2b-4f68-c414-a1ce542cf8c4"
      },
      "source": [
        "17400.0/(40*52)"
      ],
      "execution_count": 37,
      "outputs": [
        {
          "output_type": "execute_result",
          "data": {
            "text/plain": [
              "8.365384615384615"
            ]
          },
          "metadata": {
            "tags": []
          },
          "execution_count": 37
        }
      ]
    },
    {
      "cell_type": "code",
      "metadata": {
        "id": "ty9iRoPWvHZ_"
      },
      "source": [
        "assert bls['avg_hourly_salary'][103837] == 8.365384615384615"
      ],
      "execution_count": 38,
      "outputs": []
    },
    {
      "cell_type": "code",
      "metadata": {
        "colab": {
          "base_uri": "https://localhost:8080/",
          "height": 118
        },
        "id": "4_PtoDj3qEwK",
        "outputId": "d183accc-a649-4e64-c4ca-43bcae663b68"
      },
      "source": [
        "bls.loc[\n",
        "        (bls.city == 'St. George')\n",
        "        & (bls.occ_title == 'Legislators')]"
      ],
      "execution_count": 39,
      "outputs": [
        {
          "output_type": "execute_result",
          "data": {
            "text/html": [
              "<div>\n",
              "<style scoped>\n",
              "    .dataframe tbody tr th:only-of-type {\n",
              "        vertical-align: middle;\n",
              "    }\n",
              "\n",
              "    .dataframe tbody tr th {\n",
              "        vertical-align: top;\n",
              "    }\n",
              "\n",
              "    .dataframe thead th {\n",
              "        text-align: right;\n",
              "    }\n",
              "</style>\n",
              "<table border=\"1\" class=\"dataframe\">\n",
              "  <thead>\n",
              "    <tr style=\"text-align: right;\">\n",
              "      <th></th>\n",
              "      <th>state</th>\n",
              "      <th>city</th>\n",
              "      <th>occ_title</th>\n",
              "      <th>jobs_1000</th>\n",
              "      <th>loc_quotient</th>\n",
              "      <th>avg_hourly_salary</th>\n",
              "      <th>avg_annual_salary</th>\n",
              "    </tr>\n",
              "  </thead>\n",
              "  <tbody>\n",
              "    <tr>\n",
              "      <th>103837</th>\n",
              "      <td>UT</td>\n",
              "      <td>St. George</td>\n",
              "      <td>Legislators</td>\n",
              "      <td>0.502</td>\n",
              "      <td>1.41</td>\n",
              "      <td>8.365385</td>\n",
              "      <td>17400.0</td>\n",
              "    </tr>\n",
              "  </tbody>\n",
              "</table>\n",
              "</div>"
            ],
            "text/plain": [
              "       state        city  ... avg_hourly_salary  avg_annual_salary\n",
              "103837    UT  St. George  ...          8.365385            17400.0\n",
              "\n",
              "[1 rows x 7 columns]"
            ]
          },
          "metadata": {
            "tags": []
          },
          "execution_count": 39
        }
      ]
    },
    {
      "cell_type": "code",
      "metadata": {
        "colab": {
          "base_uri": "https://localhost:8080/"
        },
        "id": "TiOKH_kuvsLq",
        "outputId": "3c15fe8b-af39-4dd5-cc76-9c0c1593b71a"
      },
      "source": [
        "51870.0/(40*52)"
      ],
      "execution_count": 40,
      "outputs": [
        {
          "output_type": "execute_result",
          "data": {
            "text/plain": [
              "24.9375"
            ]
          },
          "metadata": {
            "tags": []
          },
          "execution_count": 40
        }
      ]
    },
    {
      "cell_type": "code",
      "metadata": {
        "id": "Gg3kJ44Rvcz6"
      },
      "source": [
        "assert bls['avg_hourly_salary'][21409]==24.9375"
      ],
      "execution_count": 41,
      "outputs": []
    },
    {
      "cell_type": "code",
      "metadata": {
        "colab": {
          "base_uri": "https://localhost:8080/",
          "height": 170
        },
        "id": "n0e64orMrSUt",
        "outputId": "41b1ef85-2765-423d-f14a-ea30dfcbdbd1"
      },
      "source": [
        "bls.loc[\n",
        "        (bls.city == 'Charlotte-Concord-Gastonia')\n",
        "        & (bls.occ_title == 'Special Education Teachers, Kindergarten and Elementary School')]"
      ],
      "execution_count": 42,
      "outputs": [
        {
          "output_type": "execute_result",
          "data": {
            "text/html": [
              "<div>\n",
              "<style scoped>\n",
              "    .dataframe tbody tr th:only-of-type {\n",
              "        vertical-align: middle;\n",
              "    }\n",
              "\n",
              "    .dataframe tbody tr th {\n",
              "        vertical-align: top;\n",
              "    }\n",
              "\n",
              "    .dataframe thead th {\n",
              "        text-align: right;\n",
              "    }\n",
              "</style>\n",
              "<table border=\"1\" class=\"dataframe\">\n",
              "  <thead>\n",
              "    <tr style=\"text-align: right;\">\n",
              "      <th></th>\n",
              "      <th>state</th>\n",
              "      <th>city</th>\n",
              "      <th>occ_title</th>\n",
              "      <th>jobs_1000</th>\n",
              "      <th>loc_quotient</th>\n",
              "      <th>avg_hourly_salary</th>\n",
              "      <th>avg_annual_salary</th>\n",
              "    </tr>\n",
              "  </thead>\n",
              "  <tbody>\n",
              "    <tr>\n",
              "      <th>21409</th>\n",
              "      <td>NC-SC</td>\n",
              "      <td>Charlotte-Concord-Gastonia</td>\n",
              "      <td>Special Education Teachers, Kindergarten and E...</td>\n",
              "      <td>1.337</td>\n",
              "      <td>1.01</td>\n",
              "      <td>24.9375</td>\n",
              "      <td>51870.0</td>\n",
              "    </tr>\n",
              "  </tbody>\n",
              "</table>\n",
              "</div>"
            ],
            "text/plain": [
              "        state                        city  ... avg_hourly_salary  avg_annual_salary\n",
              "21409   NC-SC  Charlotte-Concord-Gastonia  ...           24.9375            51870.0\n",
              "\n",
              "[1 rows x 7 columns]"
            ]
          },
          "metadata": {
            "tags": []
          },
          "execution_count": 42
        }
      ]
    },
    {
      "cell_type": "code",
      "metadata": {
        "colab": {
          "base_uri": "https://localhost:8080/"
        },
        "id": "L-tS2CE4wXq9",
        "outputId": "3f9d5bc4-318b-4831-cca9-a936e4b98424"
      },
      "source": [
        "92190/(40*52)"
      ],
      "execution_count": 43,
      "outputs": [
        {
          "output_type": "execute_result",
          "data": {
            "text/plain": [
              "44.32211538461539"
            ]
          },
          "metadata": {
            "tags": []
          },
          "execution_count": 43
        }
      ]
    },
    {
      "cell_type": "code",
      "metadata": {
        "id": "b8HvZLfkwXM0"
      },
      "source": [
        "assert bls['avg_hourly_salary'][17786]==44.32211538461539"
      ],
      "execution_count": 44,
      "outputs": []
    },
    {
      "cell_type": "code",
      "metadata": {
        "colab": {
          "base_uri": "https://localhost:8080/",
          "height": 135
        },
        "id": "Cg7oj3PAwBNi",
        "outputId": "2d1d3085-aef6-442b-e2f7-08a09edbab48"
      },
      "source": [
        "bls.loc[\n",
        "        (bls.city == 'Canton-Massillon')\n",
        "        & (bls.occ_title == 'Chemistry Teachers, Postsecondary')]"
      ],
      "execution_count": 45,
      "outputs": [
        {
          "output_type": "execute_result",
          "data": {
            "text/html": [
              "<div>\n",
              "<style scoped>\n",
              "    .dataframe tbody tr th:only-of-type {\n",
              "        vertical-align: middle;\n",
              "    }\n",
              "\n",
              "    .dataframe tbody tr th {\n",
              "        vertical-align: top;\n",
              "    }\n",
              "\n",
              "    .dataframe thead th {\n",
              "        text-align: right;\n",
              "    }\n",
              "</style>\n",
              "<table border=\"1\" class=\"dataframe\">\n",
              "  <thead>\n",
              "    <tr style=\"text-align: right;\">\n",
              "      <th></th>\n",
              "      <th>state</th>\n",
              "      <th>city</th>\n",
              "      <th>occ_title</th>\n",
              "      <th>jobs_1000</th>\n",
              "      <th>loc_quotient</th>\n",
              "      <th>avg_hourly_salary</th>\n",
              "      <th>avg_annual_salary</th>\n",
              "    </tr>\n",
              "  </thead>\n",
              "  <tbody>\n",
              "    <tr>\n",
              "      <th>17786</th>\n",
              "      <td>OH</td>\n",
              "      <td>Canton-Massillon</td>\n",
              "      <td>Chemistry Teachers, Postsecondary</td>\n",
              "      <td>0.18</td>\n",
              "      <td>1.24</td>\n",
              "      <td>44.322115</td>\n",
              "      <td>92190.0</td>\n",
              "    </tr>\n",
              "  </tbody>\n",
              "</table>\n",
              "</div>"
            ],
            "text/plain": [
              "      state              city  ... avg_hourly_salary  avg_annual_salary\n",
              "17786    OH  Canton-Massillon  ...         44.322115            92190.0\n",
              "\n",
              "[1 rows x 7 columns]"
            ]
          },
          "metadata": {
            "tags": []
          },
          "execution_count": 45
        }
      ]
    },
    {
      "cell_type": "markdown",
      "metadata": {
        "id": "Ih5h4oHDw7yn"
      },
      "source": [
        "## Save modified df "
      ]
    },
    {
      "cell_type": "code",
      "metadata": {
        "id": "SXNgudIXw7S1"
      },
      "source": [
        "bls.to_csv('bls.csv')"
      ],
      "execution_count": 46,
      "outputs": []
    },
    {
      "cell_type": "code",
      "metadata": {
        "id": "ojzeqwnbx3Wk"
      },
      "source": [
        "!cp bls.csv \"drive/My Drive/\""
      ],
      "execution_count": 49,
      "outputs": []
    }
  ]
}