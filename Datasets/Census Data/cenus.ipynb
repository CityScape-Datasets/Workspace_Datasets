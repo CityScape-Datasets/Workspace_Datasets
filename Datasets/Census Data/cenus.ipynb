{
 "metadata": {
  "language_info": {
   "codemirror_mode": {
    "name": "ipython",
    "version": 3
   },
   "file_extension": ".py",
   "mimetype": "text/x-python",
   "name": "python",
   "nbconvert_exporter": "python",
   "pygments_lexer": "ipython3",
   "version": 3
  },
  "orig_nbformat": 2
 },
 "nbformat": 4,
 "nbformat_minor": 2,
 "cells": [
  {
   "cell_type": "code",
   "execution_count": null,
   "metadata": {},
   "outputs": [],
   "source": [
    "# This Python 3 environment comes with many helpful analytics libraries installed\n",
    "# It is defined by the kaggle/python Docker image: https://github.com/kaggle/docker-python\n",
    "# For example, here's several helpful packages to load\n",
    "!pip install pyzipcode\n",
    "import numpy as np # linear algebra\n",
    "import pandas as pd # data processiInng, CSV file I/O (e.g. pd.read_csv)\n",
    "from pyzipcode import ZipCodeDatabase"
   ]
  },
  {
   "cell_type": "code",
   "execution_count": null,
   "metadata": {},
   "outputs": [],
   "source": [
    "import os\n",
    "for dirname, _, filenames in os.walk('/kaggle/input'):\n",
    "    for filename in filenames:\n",
    "        print(os.path.join(dirname, filename)"
   ]
  },
  {
   "cell_type": "code",
   "execution_count": null,
   "metadata": {},
   "outputs": [],
   "source": [
    "df = pd.read_csv(\"https://raw.githubusercontent.com/jiobu1/Workspace_Datasets/main/Datasets/Census%20Data/us_population_by_zip/population_by_zip_2010.csv?token=ANCU3NVSKQSPRJOZFSNWMGDABHL66\", dtype={'zipcode':'category'})\n",
    "df = df.dropna()\n",
    "df.head(5)"
   ]
  },
  {
   "cell_type": "code",
   "execution_count": null,
   "metadata": {},
   "outputs": [],
   "source": [
    "zip_df = pd.read_csv(\"https://raw.githubusercontent.com/jiobu1/Workspace_Datasets/main/Datasets/Census%20Data/counties%20to%20zip/ZIP-COUNTY-FIPS_2017-06.csv?token=ANCU3NU64O656R6CGG6AD4TABHLZA\", dtype={\"ZIP\":'category'})\n",
    "zip_df.head(5)"
   ]
  },
  {
   "cell_type": "code",
   "execution_count": null,
   "metadata": {},
   "outputs": [],
   "source": [
    "pop_df = pd.read_csv(\"https://github.com/jiobu1/Workspace_Datasets/blob/main/Datasets/Census%20Data/census_demographic/acs2015_county_data.csv\")\n",
    "pop_df.head(5)\n"
   ]
  },
  {
   "cell_type": "code",
   "execution_count": null,
   "metadata": {},
   "outputs": [],
   "source": [
    "income_df = pd.read_csv('https://raw.githubusercontent.com/jiobu1/Workspace_Datasets/main/Datasets/Census%20Data/kaggle_incom/kaggle_income.csv?token=ANCU3NTWMURR56TAGID2LDTABHL24',encoding='latin-1')\n",
    "income_df = income_df.rename(columns={'State_ab':'State'})\n",
    "income_df.head(5)"
   ]
  },
  {
   "cell_type": "code",
   "execution_count": null,
   "metadata": {},
   "outputs": [],
   "source": [
    "def zip_finder(CountNum):\n",
    "    try:\n",
    "        return (((zip_df[zip_df['STCOUNTYFP']==int(CountNum)])['ZIP']).values)[0]\n",
    "    except:\n",
    "        print(CountNum)\n",
    "        return('None')"
   ]
  }
 ]
}