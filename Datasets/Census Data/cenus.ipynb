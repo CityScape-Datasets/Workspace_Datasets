{
  "nbformat": 4,
  "nbformat_minor": 0,
  "metadata": {
    "orig_nbformat": 2,
    "colab": {
      "name": "cenus.ipynb",
      "provenance": [],
      "toc_visible": true
    },
    "kernelspec": {
      "name": "python3",
      "display_name": "Python 3"
    }
  },
  "cells": [
    {
      "cell_type": "code",
      "metadata": {
        "colab": {
          "base_uri": "https://localhost:8080/"
        },
        "id": "rIi_YmC9bfKr",
        "outputId": "ff91c297-da92-495a-b9c6-39be8bdfa05d"
      },
      "source": [
        "!pip install pyzipcode"
      ],
      "execution_count": 1,
      "outputs": [
        {
          "output_type": "stream",
          "text": [
            "Collecting pyzipcode\n",
            "\u001b[?25l  Downloading https://files.pythonhosted.org/packages/1f/e8/477c86b29e6080dd34419c63929247fcd603bd05a0b5c86e5a7fdbe76dd0/pyzipcode-2.0.0.tar.gz (1.9MB)\n",
            "\u001b[K     |████████████████████████████████| 1.9MB 5.1MB/s \n",
            "\u001b[?25hBuilding wheels for collected packages: pyzipcode\n",
            "  Building wheel for pyzipcode (setup.py) ... \u001b[?25l\u001b[?25hdone\n",
            "  Created wheel for pyzipcode: filename=pyzipcode-2.0.0-cp36-none-any.whl size=1931040 sha256=daddaa37cb2dc45a46efff5ca6a588f3c32246ce26d9269635e4badfa1c800d0\n",
            "  Stored in directory: /root/.cache/pip/wheels/dd/0b/3d/3769c445fa954e1028d9ce89f54ac8db7d6ffb6fb4f8aeb554\n",
            "Successfully built pyzipcode\n",
            "Installing collected packages: pyzipcode\n",
            "Successfully installed pyzipcode-2.0.0\n"
          ],
          "name": "stdout"
        }
      ]
    },
    {
      "cell_type": "code",
      "metadata": {
        "id": "zhb60Y3GbfK4"
      },
      "source": [
        "import numpy as np \n",
        "import pandas as pd \n",
        "from pyzipcode import ZipCodeDatabase"
      ],
      "execution_count": 2,
      "outputs": []
    },
    {
      "cell_type": "code",
      "metadata": {
        "colab": {
          "base_uri": "https://localhost:8080/",
          "height": 206
        },
        "id": "zydcHhrVbfK6",
        "outputId": "d952e8ef-2193-4da0-c2c3-c01337695d56"
      },
      "source": [
        "df = pd.read_csv(\"https://raw.githubusercontent.com/jiobu1/Workspace_Datasets/main/Datasets/Census%20Data/us_population_by_zip/population_by_zip_2010.csv?token=ANCU3NVSKQSPRJOZFSNWMGDABHL66\", dtype={'zipcode':'category'})\n",
        "df = df.dropna()\n",
        "df.head(5)"
      ],
      "execution_count": 3,
      "outputs": [
        {
          "output_type": "execute_result",
          "data": {
            "text/html": [
              "<div>\n",
              "<style scoped>\n",
              "    .dataframe tbody tr th:only-of-type {\n",
              "        vertical-align: middle;\n",
              "    }\n",
              "\n",
              "    .dataframe tbody tr th {\n",
              "        vertical-align: top;\n",
              "    }\n",
              "\n",
              "    .dataframe thead th {\n",
              "        text-align: right;\n",
              "    }\n",
              "</style>\n",
              "<table border=\"1\" class=\"dataframe\">\n",
              "  <thead>\n",
              "    <tr style=\"text-align: right;\">\n",
              "      <th></th>\n",
              "      <th>population</th>\n",
              "      <th>minimum_age</th>\n",
              "      <th>maximum_age</th>\n",
              "      <th>gender</th>\n",
              "      <th>zipcode</th>\n",
              "      <th>geo_id</th>\n",
              "    </tr>\n",
              "  </thead>\n",
              "  <tbody>\n",
              "    <tr>\n",
              "      <th>0</th>\n",
              "      <td>50</td>\n",
              "      <td>30.0</td>\n",
              "      <td>34.0</td>\n",
              "      <td>female</td>\n",
              "      <td>61747</td>\n",
              "      <td>8600000US61747</td>\n",
              "    </tr>\n",
              "    <tr>\n",
              "      <th>2</th>\n",
              "      <td>1389</td>\n",
              "      <td>30.0</td>\n",
              "      <td>34.0</td>\n",
              "      <td>male</td>\n",
              "      <td>95117</td>\n",
              "      <td>8600000US95117</td>\n",
              "    </tr>\n",
              "    <tr>\n",
              "      <th>3</th>\n",
              "      <td>231</td>\n",
              "      <td>60.0</td>\n",
              "      <td>61.0</td>\n",
              "      <td>female</td>\n",
              "      <td>74074</td>\n",
              "      <td>8600000US74074</td>\n",
              "    </tr>\n",
              "    <tr>\n",
              "      <th>4</th>\n",
              "      <td>56</td>\n",
              "      <td>0.0</td>\n",
              "      <td>4.0</td>\n",
              "      <td>female</td>\n",
              "      <td>58042</td>\n",
              "      <td>8600000US58042</td>\n",
              "    </tr>\n",
              "    <tr>\n",
              "      <th>5</th>\n",
              "      <td>524</td>\n",
              "      <td>22.0</td>\n",
              "      <td>24.0</td>\n",
              "      <td>female</td>\n",
              "      <td>75241</td>\n",
              "      <td>8600000US75241</td>\n",
              "    </tr>\n",
              "  </tbody>\n",
              "</table>\n",
              "</div>"
            ],
            "text/plain": [
              "   population  minimum_age  maximum_age  gender zipcode          geo_id\n",
              "0          50         30.0         34.0  female   61747  8600000US61747\n",
              "2        1389         30.0         34.0    male   95117  8600000US95117\n",
              "3         231         60.0         61.0  female   74074  8600000US74074\n",
              "4          56          0.0          4.0  female   58042  8600000US58042\n",
              "5         524         22.0         24.0  female   75241  8600000US75241"
            ]
          },
          "metadata": {
            "tags": []
          },
          "execution_count": 3
        }
      ]
    },
    {
      "cell_type": "code",
      "metadata": {
        "colab": {
          "base_uri": "https://localhost:8080/",
          "height": 206
        },
        "id": "-Ayr57SqbfK8",
        "outputId": "f7af19ac-1c95-4fc5-ed0a-55c52147bf82"
      },
      "source": [
        "zip_df = pd.read_csv(\"https://raw.githubusercontent.com/jiobu1/Workspace_Datasets/main/Datasets/Census%20Data/counties%20to%20zip/ZIP-COUNTY-FIPS_2017-06.csv?token=ANCU3NU64O656R6CGG6AD4TABHLZA\", dtype={\"ZIP\":'category'})\n",
        "zip_df.head(5)"
      ],
      "execution_count": 4,
      "outputs": [
        {
          "output_type": "execute_result",
          "data": {
            "text/html": [
              "<div>\n",
              "<style scoped>\n",
              "    .dataframe tbody tr th:only-of-type {\n",
              "        vertical-align: middle;\n",
              "    }\n",
              "\n",
              "    .dataframe tbody tr th {\n",
              "        vertical-align: top;\n",
              "    }\n",
              "\n",
              "    .dataframe thead th {\n",
              "        text-align: right;\n",
              "    }\n",
              "</style>\n",
              "<table border=\"1\" class=\"dataframe\">\n",
              "  <thead>\n",
              "    <tr style=\"text-align: right;\">\n",
              "      <th></th>\n",
              "      <th>ZIP</th>\n",
              "      <th>COUNTYNAME</th>\n",
              "      <th>STATE</th>\n",
              "      <th>STCOUNTYFP</th>\n",
              "      <th>CLASSFP</th>\n",
              "    </tr>\n",
              "  </thead>\n",
              "  <tbody>\n",
              "    <tr>\n",
              "      <th>0</th>\n",
              "      <td>36003</td>\n",
              "      <td>Autauga County</td>\n",
              "      <td>AL</td>\n",
              "      <td>1001</td>\n",
              "      <td>H1</td>\n",
              "    </tr>\n",
              "    <tr>\n",
              "      <th>1</th>\n",
              "      <td>36006</td>\n",
              "      <td>Autauga County</td>\n",
              "      <td>AL</td>\n",
              "      <td>1001</td>\n",
              "      <td>H1</td>\n",
              "    </tr>\n",
              "    <tr>\n",
              "      <th>2</th>\n",
              "      <td>36067</td>\n",
              "      <td>Autauga County</td>\n",
              "      <td>AL</td>\n",
              "      <td>1001</td>\n",
              "      <td>H1</td>\n",
              "    </tr>\n",
              "    <tr>\n",
              "      <th>3</th>\n",
              "      <td>36066</td>\n",
              "      <td>Autauga County</td>\n",
              "      <td>AL</td>\n",
              "      <td>1001</td>\n",
              "      <td>H1</td>\n",
              "    </tr>\n",
              "    <tr>\n",
              "      <th>4</th>\n",
              "      <td>36703</td>\n",
              "      <td>Autauga County</td>\n",
              "      <td>AL</td>\n",
              "      <td>1001</td>\n",
              "      <td>H1</td>\n",
              "    </tr>\n",
              "  </tbody>\n",
              "</table>\n",
              "</div>"
            ],
            "text/plain": [
              "     ZIP      COUNTYNAME STATE  STCOUNTYFP CLASSFP\n",
              "0  36003  Autauga County    AL        1001      H1\n",
              "1  36006  Autauga County    AL        1001      H1\n",
              "2  36067  Autauga County    AL        1001      H1\n",
              "3  36066  Autauga County    AL        1001      H1\n",
              "4  36703  Autauga County    AL        1001      H1"
            ]
          },
          "metadata": {
            "tags": []
          },
          "execution_count": 4
        }
      ]
    },
    {
      "cell_type": "code",
      "metadata": {
        "colab": {
          "base_uri": "https://localhost:8080/",
          "height": 226
        },
        "id": "WZz4tgX9bfK9",
        "outputId": "24e45f06-02e6-45cf-fe9f-96dc24064834"
      },
      "source": [
        "pop_df = pd.read_csv(\"https://raw.githubusercontent.com/jiobu1/Workspace_Datasets/main/Datasets/Census%20Data/census_demographic/acs2015_county_data.csv?token=ANCU3NSG2H64KF63GU2BAU3ABHNHS\")\n",
        "pop_df.head(5)\n",
        "\n"
      ],
      "execution_count": 5,
      "outputs": [
        {
          "output_type": "execute_result",
          "data": {
            "text/html": [
              "<div>\n",
              "<style scoped>\n",
              "    .dataframe tbody tr th:only-of-type {\n",
              "        vertical-align: middle;\n",
              "    }\n",
              "\n",
              "    .dataframe tbody tr th {\n",
              "        vertical-align: top;\n",
              "    }\n",
              "\n",
              "    .dataframe thead th {\n",
              "        text-align: right;\n",
              "    }\n",
              "</style>\n",
              "<table border=\"1\" class=\"dataframe\">\n",
              "  <thead>\n",
              "    <tr style=\"text-align: right;\">\n",
              "      <th></th>\n",
              "      <th>CensusId</th>\n",
              "      <th>State</th>\n",
              "      <th>County</th>\n",
              "      <th>TotalPop</th>\n",
              "      <th>Men</th>\n",
              "      <th>Women</th>\n",
              "      <th>Hispanic</th>\n",
              "      <th>White</th>\n",
              "      <th>Black</th>\n",
              "      <th>Native</th>\n",
              "      <th>Asian</th>\n",
              "      <th>Pacific</th>\n",
              "      <th>Citizen</th>\n",
              "      <th>Income</th>\n",
              "      <th>IncomeErr</th>\n",
              "      <th>IncomePerCap</th>\n",
              "      <th>IncomePerCapErr</th>\n",
              "      <th>Poverty</th>\n",
              "      <th>ChildPoverty</th>\n",
              "      <th>Professional</th>\n",
              "      <th>Service</th>\n",
              "      <th>Office</th>\n",
              "      <th>Construction</th>\n",
              "      <th>Production</th>\n",
              "      <th>Drive</th>\n",
              "      <th>Carpool</th>\n",
              "      <th>Transit</th>\n",
              "      <th>Walk</th>\n",
              "      <th>OtherTransp</th>\n",
              "      <th>WorkAtHome</th>\n",
              "      <th>MeanCommute</th>\n",
              "      <th>Employed</th>\n",
              "      <th>PrivateWork</th>\n",
              "      <th>PublicWork</th>\n",
              "      <th>SelfEmployed</th>\n",
              "      <th>FamilyWork</th>\n",
              "      <th>Unemployment</th>\n",
              "    </tr>\n",
              "  </thead>\n",
              "  <tbody>\n",
              "    <tr>\n",
              "      <th>0</th>\n",
              "      <td>1001</td>\n",
              "      <td>Alabama</td>\n",
              "      <td>Autauga</td>\n",
              "      <td>55221</td>\n",
              "      <td>26745</td>\n",
              "      <td>28476</td>\n",
              "      <td>2.6</td>\n",
              "      <td>75.8</td>\n",
              "      <td>18.5</td>\n",
              "      <td>0.4</td>\n",
              "      <td>1.0</td>\n",
              "      <td>0.0</td>\n",
              "      <td>40725</td>\n",
              "      <td>51281.0</td>\n",
              "      <td>2391.0</td>\n",
              "      <td>24974</td>\n",
              "      <td>1080</td>\n",
              "      <td>12.9</td>\n",
              "      <td>18.6</td>\n",
              "      <td>33.2</td>\n",
              "      <td>17.0</td>\n",
              "      <td>24.2</td>\n",
              "      <td>8.6</td>\n",
              "      <td>17.1</td>\n",
              "      <td>87.5</td>\n",
              "      <td>8.8</td>\n",
              "      <td>0.1</td>\n",
              "      <td>0.5</td>\n",
              "      <td>1.3</td>\n",
              "      <td>1.8</td>\n",
              "      <td>26.5</td>\n",
              "      <td>23986</td>\n",
              "      <td>73.6</td>\n",
              "      <td>20.9</td>\n",
              "      <td>5.5</td>\n",
              "      <td>0.0</td>\n",
              "      <td>7.6</td>\n",
              "    </tr>\n",
              "    <tr>\n",
              "      <th>1</th>\n",
              "      <td>1003</td>\n",
              "      <td>Alabama</td>\n",
              "      <td>Baldwin</td>\n",
              "      <td>195121</td>\n",
              "      <td>95314</td>\n",
              "      <td>99807</td>\n",
              "      <td>4.5</td>\n",
              "      <td>83.1</td>\n",
              "      <td>9.5</td>\n",
              "      <td>0.6</td>\n",
              "      <td>0.7</td>\n",
              "      <td>0.0</td>\n",
              "      <td>147695</td>\n",
              "      <td>50254.0</td>\n",
              "      <td>1263.0</td>\n",
              "      <td>27317</td>\n",
              "      <td>711</td>\n",
              "      <td>13.4</td>\n",
              "      <td>19.2</td>\n",
              "      <td>33.1</td>\n",
              "      <td>17.7</td>\n",
              "      <td>27.1</td>\n",
              "      <td>10.8</td>\n",
              "      <td>11.2</td>\n",
              "      <td>84.7</td>\n",
              "      <td>8.8</td>\n",
              "      <td>0.1</td>\n",
              "      <td>1.0</td>\n",
              "      <td>1.4</td>\n",
              "      <td>3.9</td>\n",
              "      <td>26.4</td>\n",
              "      <td>85953</td>\n",
              "      <td>81.5</td>\n",
              "      <td>12.3</td>\n",
              "      <td>5.8</td>\n",
              "      <td>0.4</td>\n",
              "      <td>7.5</td>\n",
              "    </tr>\n",
              "    <tr>\n",
              "      <th>2</th>\n",
              "      <td>1005</td>\n",
              "      <td>Alabama</td>\n",
              "      <td>Barbour</td>\n",
              "      <td>26932</td>\n",
              "      <td>14497</td>\n",
              "      <td>12435</td>\n",
              "      <td>4.6</td>\n",
              "      <td>46.2</td>\n",
              "      <td>46.7</td>\n",
              "      <td>0.2</td>\n",
              "      <td>0.4</td>\n",
              "      <td>0.0</td>\n",
              "      <td>20714</td>\n",
              "      <td>32964.0</td>\n",
              "      <td>2973.0</td>\n",
              "      <td>16824</td>\n",
              "      <td>798</td>\n",
              "      <td>26.7</td>\n",
              "      <td>45.3</td>\n",
              "      <td>26.8</td>\n",
              "      <td>16.1</td>\n",
              "      <td>23.1</td>\n",
              "      <td>10.8</td>\n",
              "      <td>23.1</td>\n",
              "      <td>83.8</td>\n",
              "      <td>10.9</td>\n",
              "      <td>0.4</td>\n",
              "      <td>1.8</td>\n",
              "      <td>1.5</td>\n",
              "      <td>1.6</td>\n",
              "      <td>24.1</td>\n",
              "      <td>8597</td>\n",
              "      <td>71.8</td>\n",
              "      <td>20.8</td>\n",
              "      <td>7.3</td>\n",
              "      <td>0.1</td>\n",
              "      <td>17.6</td>\n",
              "    </tr>\n",
              "    <tr>\n",
              "      <th>3</th>\n",
              "      <td>1007</td>\n",
              "      <td>Alabama</td>\n",
              "      <td>Bibb</td>\n",
              "      <td>22604</td>\n",
              "      <td>12073</td>\n",
              "      <td>10531</td>\n",
              "      <td>2.2</td>\n",
              "      <td>74.5</td>\n",
              "      <td>21.4</td>\n",
              "      <td>0.4</td>\n",
              "      <td>0.1</td>\n",
              "      <td>0.0</td>\n",
              "      <td>17495</td>\n",
              "      <td>38678.0</td>\n",
              "      <td>3995.0</td>\n",
              "      <td>18431</td>\n",
              "      <td>1618</td>\n",
              "      <td>16.8</td>\n",
              "      <td>27.9</td>\n",
              "      <td>21.5</td>\n",
              "      <td>17.9</td>\n",
              "      <td>17.8</td>\n",
              "      <td>19.0</td>\n",
              "      <td>23.7</td>\n",
              "      <td>83.2</td>\n",
              "      <td>13.5</td>\n",
              "      <td>0.5</td>\n",
              "      <td>0.6</td>\n",
              "      <td>1.5</td>\n",
              "      <td>0.7</td>\n",
              "      <td>28.8</td>\n",
              "      <td>8294</td>\n",
              "      <td>76.8</td>\n",
              "      <td>16.1</td>\n",
              "      <td>6.7</td>\n",
              "      <td>0.4</td>\n",
              "      <td>8.3</td>\n",
              "    </tr>\n",
              "    <tr>\n",
              "      <th>4</th>\n",
              "      <td>1009</td>\n",
              "      <td>Alabama</td>\n",
              "      <td>Blount</td>\n",
              "      <td>57710</td>\n",
              "      <td>28512</td>\n",
              "      <td>29198</td>\n",
              "      <td>8.6</td>\n",
              "      <td>87.9</td>\n",
              "      <td>1.5</td>\n",
              "      <td>0.3</td>\n",
              "      <td>0.1</td>\n",
              "      <td>0.0</td>\n",
              "      <td>42345</td>\n",
              "      <td>45813.0</td>\n",
              "      <td>3141.0</td>\n",
              "      <td>20532</td>\n",
              "      <td>708</td>\n",
              "      <td>16.7</td>\n",
              "      <td>27.2</td>\n",
              "      <td>28.5</td>\n",
              "      <td>14.1</td>\n",
              "      <td>23.9</td>\n",
              "      <td>13.5</td>\n",
              "      <td>19.9</td>\n",
              "      <td>84.9</td>\n",
              "      <td>11.2</td>\n",
              "      <td>0.4</td>\n",
              "      <td>0.9</td>\n",
              "      <td>0.4</td>\n",
              "      <td>2.3</td>\n",
              "      <td>34.9</td>\n",
              "      <td>22189</td>\n",
              "      <td>82.0</td>\n",
              "      <td>13.5</td>\n",
              "      <td>4.2</td>\n",
              "      <td>0.4</td>\n",
              "      <td>7.7</td>\n",
              "    </tr>\n",
              "  </tbody>\n",
              "</table>\n",
              "</div>"
            ],
            "text/plain": [
              "   CensusId    State   County  ...  SelfEmployed  FamilyWork  Unemployment\n",
              "0      1001  Alabama  Autauga  ...           5.5         0.0           7.6\n",
              "1      1003  Alabama  Baldwin  ...           5.8         0.4           7.5\n",
              "2      1005  Alabama  Barbour  ...           7.3         0.1          17.6\n",
              "3      1007  Alabama     Bibb  ...           6.7         0.4           8.3\n",
              "4      1009  Alabama   Blount  ...           4.2         0.4           7.7\n",
              "\n",
              "[5 rows x 37 columns]"
            ]
          },
          "metadata": {
            "tags": []
          },
          "execution_count": 5
        }
      ]
    },
    {
      "cell_type": "code",
      "metadata": {
        "colab": {
          "base_uri": "https://localhost:8080/",
          "height": 293
        },
        "id": "RwQq0giwbfK-",
        "outputId": "9a3ef569-36f0-429d-da95-84cbcab41403"
      },
      "source": [
        "income_df = pd.read_csv('https://raw.githubusercontent.com/jiobu1/Workspace_Datasets/main/Datasets/Census%20Data/kaggle_incom/kaggle_income.csv?token=ANCU3NTWMURR56TAGID2LDTABHL24',encoding='latin-1')\n",
        "income_df = income_df.rename(columns={'State_ab':'State'})\n",
        "income_df.head(5)"
      ],
      "execution_count": 6,
      "outputs": [
        {
          "output_type": "execute_result",
          "data": {
            "text/html": [
              "<div>\n",
              "<style scoped>\n",
              "    .dataframe tbody tr th:only-of-type {\n",
              "        vertical-align: middle;\n",
              "    }\n",
              "\n",
              "    .dataframe tbody tr th {\n",
              "        vertical-align: top;\n",
              "    }\n",
              "\n",
              "    .dataframe thead th {\n",
              "        text-align: right;\n",
              "    }\n",
              "</style>\n",
              "<table border=\"1\" class=\"dataframe\">\n",
              "  <thead>\n",
              "    <tr style=\"text-align: right;\">\n",
              "      <th></th>\n",
              "      <th>id</th>\n",
              "      <th>State_Code</th>\n",
              "      <th>State_Name</th>\n",
              "      <th>State</th>\n",
              "      <th>County</th>\n",
              "      <th>City</th>\n",
              "      <th>Place</th>\n",
              "      <th>Type</th>\n",
              "      <th>Primary</th>\n",
              "      <th>Zip_Code</th>\n",
              "      <th>Area_Code</th>\n",
              "      <th>ALand</th>\n",
              "      <th>AWater</th>\n",
              "      <th>Lat</th>\n",
              "      <th>Lon</th>\n",
              "      <th>Mean</th>\n",
              "      <th>Median</th>\n",
              "      <th>Stdev</th>\n",
              "      <th>sum_w</th>\n",
              "    </tr>\n",
              "  </thead>\n",
              "  <tbody>\n",
              "    <tr>\n",
              "      <th>0</th>\n",
              "      <td>1011000</td>\n",
              "      <td>1</td>\n",
              "      <td>Alabama</td>\n",
              "      <td>AL</td>\n",
              "      <td>Mobile County</td>\n",
              "      <td>Chickasaw</td>\n",
              "      <td>Chickasaw city</td>\n",
              "      <td>City</td>\n",
              "      <td>place</td>\n",
              "      <td>36611</td>\n",
              "      <td>251</td>\n",
              "      <td>10894952</td>\n",
              "      <td>909156</td>\n",
              "      <td>30.771450</td>\n",
              "      <td>-88.079697</td>\n",
              "      <td>38773</td>\n",
              "      <td>30506</td>\n",
              "      <td>33101</td>\n",
              "      <td>1638.260513</td>\n",
              "    </tr>\n",
              "    <tr>\n",
              "      <th>1</th>\n",
              "      <td>1011010</td>\n",
              "      <td>1</td>\n",
              "      <td>Alabama</td>\n",
              "      <td>AL</td>\n",
              "      <td>Barbour County</td>\n",
              "      <td>Louisville</td>\n",
              "      <td>Clio city</td>\n",
              "      <td>City</td>\n",
              "      <td>place</td>\n",
              "      <td>36048</td>\n",
              "      <td>334</td>\n",
              "      <td>26070325</td>\n",
              "      <td>23254</td>\n",
              "      <td>31.708516</td>\n",
              "      <td>-85.611039</td>\n",
              "      <td>37725</td>\n",
              "      <td>19528</td>\n",
              "      <td>43789</td>\n",
              "      <td>258.017685</td>\n",
              "    </tr>\n",
              "    <tr>\n",
              "      <th>2</th>\n",
              "      <td>1011020</td>\n",
              "      <td>1</td>\n",
              "      <td>Alabama</td>\n",
              "      <td>AL</td>\n",
              "      <td>Shelby County</td>\n",
              "      <td>Columbiana</td>\n",
              "      <td>Columbiana city</td>\n",
              "      <td>City</td>\n",
              "      <td>place</td>\n",
              "      <td>35051</td>\n",
              "      <td>205</td>\n",
              "      <td>44835274</td>\n",
              "      <td>261034</td>\n",
              "      <td>33.191452</td>\n",
              "      <td>-86.615618</td>\n",
              "      <td>54606</td>\n",
              "      <td>31930</td>\n",
              "      <td>57348</td>\n",
              "      <td>926.031000</td>\n",
              "    </tr>\n",
              "    <tr>\n",
              "      <th>3</th>\n",
              "      <td>1011030</td>\n",
              "      <td>1</td>\n",
              "      <td>Alabama</td>\n",
              "      <td>AL</td>\n",
              "      <td>Mobile County</td>\n",
              "      <td>Satsuma</td>\n",
              "      <td>Creola city</td>\n",
              "      <td>City</td>\n",
              "      <td>place</td>\n",
              "      <td>36572</td>\n",
              "      <td>251</td>\n",
              "      <td>36878729</td>\n",
              "      <td>2374530</td>\n",
              "      <td>30.874343</td>\n",
              "      <td>-88.009442</td>\n",
              "      <td>63919</td>\n",
              "      <td>52814</td>\n",
              "      <td>47707</td>\n",
              "      <td>378.114619</td>\n",
              "    </tr>\n",
              "    <tr>\n",
              "      <th>4</th>\n",
              "      <td>1011040</td>\n",
              "      <td>1</td>\n",
              "      <td>Alabama</td>\n",
              "      <td>AL</td>\n",
              "      <td>Mobile County</td>\n",
              "      <td>Dauphin Island</td>\n",
              "      <td>Dauphin Island</td>\n",
              "      <td>Town</td>\n",
              "      <td>place</td>\n",
              "      <td>36528</td>\n",
              "      <td>251</td>\n",
              "      <td>16204185</td>\n",
              "      <td>413605152</td>\n",
              "      <td>30.250913</td>\n",
              "      <td>-88.171268</td>\n",
              "      <td>77948</td>\n",
              "      <td>67225</td>\n",
              "      <td>54270</td>\n",
              "      <td>282.320328</td>\n",
              "    </tr>\n",
              "  </tbody>\n",
              "</table>\n",
              "</div>"
            ],
            "text/plain": [
              "        id  State_Code State_Name State  ...   Mean Median  Stdev        sum_w\n",
              "0  1011000           1    Alabama    AL  ...  38773  30506  33101  1638.260513\n",
              "1  1011010           1    Alabama    AL  ...  37725  19528  43789   258.017685\n",
              "2  1011020           1    Alabama    AL  ...  54606  31930  57348   926.031000\n",
              "3  1011030           1    Alabama    AL  ...  63919  52814  47707   378.114619\n",
              "4  1011040           1    Alabama    AL  ...  77948  67225  54270   282.320328\n",
              "\n",
              "[5 rows x 19 columns]"
            ]
          },
          "metadata": {
            "tags": []
          },
          "execution_count": 6
        }
      ]
    },
    {
      "cell_type": "code",
      "metadata": {
        "id": "BIcVPs8ebfK_"
      },
      "source": [
        "def zip_finder(CountNum):\n",
        "    try:\n",
        "        return (((zip_df[zip_df['STCOUNTYFP']==int(CountNum)])['ZIP']).values)[0]\n",
        "    except:\n",
        "        print(CountNum)\n",
        "        return('None')"
      ],
      "execution_count": 7,
      "outputs": []
    },
    {
      "cell_type": "code",
      "metadata": {
        "id": "w6g3uMZucdVT"
      },
      "source": [
        "def Zip_2_City(zipval):\n",
        "    zcdb = ZipCodeDatabase()\n",
        "    if zipval != 'None':\n",
        "        zipcode = zcdb[zipval]\n",
        "        if zipcode.city != None:\n",
        "            return zipcode.city, zipcode.state\n",
        "        else: return \"None\",'None'\n",
        "    else:\n",
        "        return \"None\""
      ],
      "execution_count": 8,
      "outputs": []
    },
    {
      "cell_type": "code",
      "metadata": {
        "id": "PeR42awwcdIk"
      },
      "source": [
        "def City_State_list_maker(zip_list):   \n",
        "    City_list = list()\n",
        "    State_list = list()\n",
        "    for zips in zip_list:\n",
        "        if zips == 'None':\n",
        "            City_list.append('None')\n",
        "            State_list.append('None')\n",
        "        else:\n",
        "            try: \n",
        "                city, state = Zip_2_City(zips)\n",
        "                City_list.append(city)\n",
        "                State_list.append(state)\n",
        "            except:\n",
        "                City_list.append('None')\n",
        "                State_list.append('None')\n",
        "    return City_list, State_list"
      ],
      "execution_count": 9,
      "outputs": []
    },
    {
      "cell_type": "markdown",
      "metadata": {
        "id": "ji-15Xx0clOt"
      },
      "source": [
        "### Income Preparation"
      ]
    },
    {
      "cell_type": "code",
      "metadata": {
        "colab": {
          "base_uri": "https://localhost:8080/",
          "height": 206
        },
        "id": "ER48qG7rcdFh",
        "outputId": "2cc5faf0-4220-4e08-9d69-004d8eeec6d2"
      },
      "source": [
        "Mean_Income_df = income_df[['Mean','Median','Stdev','City','State']].groupby(['City','State'], as_index=False).mean()\n",
        "Mean_Income_df.to_csv('Mean_Income_df.csv',index=False)\n",
        "Mean_Income_df.head()\n"
      ],
      "execution_count": 10,
      "outputs": [
        {
          "output_type": "execute_result",
          "data": {
            "text/html": [
              "<div>\n",
              "<style scoped>\n",
              "    .dataframe tbody tr th:only-of-type {\n",
              "        vertical-align: middle;\n",
              "    }\n",
              "\n",
              "    .dataframe tbody tr th {\n",
              "        vertical-align: top;\n",
              "    }\n",
              "\n",
              "    .dataframe thead th {\n",
              "        text-align: right;\n",
              "    }\n",
              "</style>\n",
              "<table border=\"1\" class=\"dataframe\">\n",
              "  <thead>\n",
              "    <tr style=\"text-align: right;\">\n",
              "      <th></th>\n",
              "      <th>City</th>\n",
              "      <th>State</th>\n",
              "      <th>Mean</th>\n",
              "      <th>Median</th>\n",
              "      <th>Stdev</th>\n",
              "    </tr>\n",
              "  </thead>\n",
              "  <tbody>\n",
              "    <tr>\n",
              "      <th>0</th>\n",
              "      <td>Abbeville</td>\n",
              "      <td>AL</td>\n",
              "      <td>40518.000000</td>\n",
              "      <td>25216.000000</td>\n",
              "      <td>39126.000000</td>\n",
              "    </tr>\n",
              "    <tr>\n",
              "      <th>1</th>\n",
              "      <td>Abbeville</td>\n",
              "      <td>LA</td>\n",
              "      <td>30647.000000</td>\n",
              "      <td>25628.333333</td>\n",
              "      <td>21177.666667</td>\n",
              "    </tr>\n",
              "    <tr>\n",
              "      <th>2</th>\n",
              "      <td>Abbeville</td>\n",
              "      <td>SC</td>\n",
              "      <td>45585.666667</td>\n",
              "      <td>32245.000000</td>\n",
              "      <td>41647.333333</td>\n",
              "    </tr>\n",
              "    <tr>\n",
              "      <th>3</th>\n",
              "      <td>Abbotsford</td>\n",
              "      <td>WI</td>\n",
              "      <td>58254.000000</td>\n",
              "      <td>44919.000000</td>\n",
              "      <td>48933.000000</td>\n",
              "    </tr>\n",
              "    <tr>\n",
              "      <th>4</th>\n",
              "      <td>Aberdeen</td>\n",
              "      <td>MD</td>\n",
              "      <td>96480.000000</td>\n",
              "      <td>80370.000000</td>\n",
              "      <td>64102.000000</td>\n",
              "    </tr>\n",
              "  </tbody>\n",
              "</table>\n",
              "</div>"
            ],
            "text/plain": [
              "         City State          Mean        Median         Stdev\n",
              "0   Abbeville    AL  40518.000000  25216.000000  39126.000000\n",
              "1   Abbeville    LA  30647.000000  25628.333333  21177.666667\n",
              "2   Abbeville    SC  45585.666667  32245.000000  41647.333333\n",
              "3  Abbotsford    WI  58254.000000  44919.000000  48933.000000\n",
              "4    Aberdeen    MD  96480.000000  80370.000000  64102.000000"
            ]
          },
          "metadata": {
            "tags": []
          },
          "execution_count": 10
        }
      ]
    },
    {
      "cell_type": "markdown",
      "metadata": {
        "id": "DzqoNOame5zl"
      },
      "source": [
        "### Population -> City and State columns"
      ]
    },
    {
      "cell_type": "code",
      "metadata": {
        "colab": {
          "base_uri": "https://localhost:8080/"
        },
        "id": "7OoAECbEe5Xe",
        "outputId": "eecdbb26-5a5d-469d-b3c8-947aacdf907e"
      },
      "source": [
        "zip_array = list(df['zipcode'].values)\n",
        "print(type(zip_array))\n",
        "print(zip_array[:5])"
      ],
      "execution_count": 11,
      "outputs": [
        {
          "output_type": "stream",
          "text": [
            "<class 'list'>\n",
            "['61747', '95117', '74074', '58042', '75241']\n"
          ],
          "name": "stdout"
        }
      ]
    },
    {
      "cell_type": "code",
      "metadata": {
        "id": "58Vlu8QMcrx6"
      },
      "source": [
        "City_list = list()\n",
        "State_list = list()\n",
        "City_list, State_list = City_State_list_maker(zip_array)"
      ],
      "execution_count": 12,
      "outputs": []
    },
    {
      "cell_type": "code",
      "metadata": {
        "id": "0hf2mBo-cdBa"
      },
      "source": [
        "City_State_df = pd.DataFrame(data={'zipcode':zip_array,\n",
        "                                  'City':City_list, 'State':State_list})"
      ],
      "execution_count": 13,
      "outputs": []
    },
    {
      "cell_type": "code",
      "metadata": {
        "colab": {
          "base_uri": "https://localhost:8080/",
          "height": 206
        },
        "id": "QQqQxICscc-i",
        "outputId": "10191046-0ff2-4002-ed64-bda43a61e0d8"
      },
      "source": [
        "City_State_df.head()\n"
      ],
      "execution_count": 14,
      "outputs": [
        {
          "output_type": "execute_result",
          "data": {
            "text/html": [
              "<div>\n",
              "<style scoped>\n",
              "    .dataframe tbody tr th:only-of-type {\n",
              "        vertical-align: middle;\n",
              "    }\n",
              "\n",
              "    .dataframe tbody tr th {\n",
              "        vertical-align: top;\n",
              "    }\n",
              "\n",
              "    .dataframe thead th {\n",
              "        text-align: right;\n",
              "    }\n",
              "</style>\n",
              "<table border=\"1\" class=\"dataframe\">\n",
              "  <thead>\n",
              "    <tr style=\"text-align: right;\">\n",
              "      <th></th>\n",
              "      <th>zipcode</th>\n",
              "      <th>City</th>\n",
              "      <th>State</th>\n",
              "    </tr>\n",
              "  </thead>\n",
              "  <tbody>\n",
              "    <tr>\n",
              "      <th>0</th>\n",
              "      <td>61747</td>\n",
              "      <td>Hopedale</td>\n",
              "      <td>IL</td>\n",
              "    </tr>\n",
              "    <tr>\n",
              "      <th>1</th>\n",
              "      <td>95117</td>\n",
              "      <td>San Jose</td>\n",
              "      <td>CA</td>\n",
              "    </tr>\n",
              "    <tr>\n",
              "      <th>2</th>\n",
              "      <td>74074</td>\n",
              "      <td>Stillwater</td>\n",
              "      <td>OK</td>\n",
              "    </tr>\n",
              "    <tr>\n",
              "      <th>3</th>\n",
              "      <td>58042</td>\n",
              "      <td>Harwood</td>\n",
              "      <td>ND</td>\n",
              "    </tr>\n",
              "    <tr>\n",
              "      <th>4</th>\n",
              "      <td>75241</td>\n",
              "      <td>Dallas</td>\n",
              "      <td>TX</td>\n",
              "    </tr>\n",
              "  </tbody>\n",
              "</table>\n",
              "</div>"
            ],
            "text/plain": [
              "  zipcode        City State\n",
              "0   61747    Hopedale    IL\n",
              "1   95117    San Jose    CA\n",
              "2   74074  Stillwater    OK\n",
              "3   58042     Harwood    ND\n",
              "4   75241      Dallas    TX"
            ]
          },
          "metadata": {
            "tags": []
          },
          "execution_count": 14
        }
      ]
    },
    {
      "cell_type": "code",
      "metadata": {
        "id": "f8kRcvMRcc69"
      },
      "source": [
        "new_df = df.merge(City_State_df, on='zipcode')"
      ],
      "execution_count": 15,
      "outputs": []
    },
    {
      "cell_type": "code",
      "metadata": {
        "id": "2n0EDrwOcc15"
      },
      "source": [
        "new_df = new_df[['population', 'minimum_age','maximum_age','City','State']]\n",
        "pop_count = new_df[['population','City','State' ]].groupby(['City','State'], as_index=False).sum()\n",
        "pop_min = new_df[['minimum_age','City','State' ]].groupby(['City','State'], as_index=False).min()\n",
        "pop_max = new_df[['maximum_age','City','State' ]].groupby(['City','State'], as_index=False).max()"
      ],
      "execution_count": 16,
      "outputs": []
    },
    {
      "cell_type": "code",
      "metadata": {
        "colab": {
          "base_uri": "https://localhost:8080/",
          "height": 206
        },
        "id": "CRgT3Uy-ccyR",
        "outputId": "fb4dcbb7-9e20-47a4-9b66-20abdf859c7f"
      },
      "source": [
        "Population_df = pop_count.merge(pop_min, on=['State','City'])\n",
        "Population_df = Population_df.merge(pop_max, on=['State','City'])\n",
        "Population_df = Population_df.reset_index()\n",
        "Population_df.to_csv('Population_df.csv',index=False)\n",
        "Population_df.head()"
      ],
      "execution_count": 17,
      "outputs": [
        {
          "output_type": "execute_result",
          "data": {
            "text/html": [
              "<div>\n",
              "<style scoped>\n",
              "    .dataframe tbody tr th:only-of-type {\n",
              "        vertical-align: middle;\n",
              "    }\n",
              "\n",
              "    .dataframe tbody tr th {\n",
              "        vertical-align: top;\n",
              "    }\n",
              "\n",
              "    .dataframe thead th {\n",
              "        text-align: right;\n",
              "    }\n",
              "</style>\n",
              "<table border=\"1\" class=\"dataframe\">\n",
              "  <thead>\n",
              "    <tr style=\"text-align: right;\">\n",
              "      <th></th>\n",
              "      <th>index</th>\n",
              "      <th>City</th>\n",
              "      <th>State</th>\n",
              "      <th>population</th>\n",
              "      <th>minimum_age</th>\n",
              "      <th>maximum_age</th>\n",
              "    </tr>\n",
              "  </thead>\n",
              "  <tbody>\n",
              "    <tr>\n",
              "      <th>0</th>\n",
              "      <td>0</td>\n",
              "      <td>Aaronsburg</td>\n",
              "      <td>PA</td>\n",
              "      <td>52888</td>\n",
              "      <td>0.0</td>\n",
              "      <td>84.0</td>\n",
              "    </tr>\n",
              "    <tr>\n",
              "      <th>1</th>\n",
              "      <td>1</td>\n",
              "      <td>Abbeville</td>\n",
              "      <td>AL</td>\n",
              "      <td>289564</td>\n",
              "      <td>0.0</td>\n",
              "      <td>84.0</td>\n",
              "    </tr>\n",
              "    <tr>\n",
              "      <th>2</th>\n",
              "      <td>2</td>\n",
              "      <td>Abbeville</td>\n",
              "      <td>GA</td>\n",
              "      <td>208956</td>\n",
              "      <td>0.0</td>\n",
              "      <td>84.0</td>\n",
              "    </tr>\n",
              "    <tr>\n",
              "      <th>3</th>\n",
              "      <td>3</td>\n",
              "      <td>Abbeville</td>\n",
              "      <td>LA</td>\n",
              "      <td>1092520</td>\n",
              "      <td>0.0</td>\n",
              "      <td>84.0</td>\n",
              "    </tr>\n",
              "    <tr>\n",
              "      <th>4</th>\n",
              "      <td>4</td>\n",
              "      <td>Abbeville</td>\n",
              "      <td>MS</td>\n",
              "      <td>103532</td>\n",
              "      <td>0.0</td>\n",
              "      <td>84.0</td>\n",
              "    </tr>\n",
              "  </tbody>\n",
              "</table>\n",
              "</div>"
            ],
            "text/plain": [
              "   index        City State  population  minimum_age  maximum_age\n",
              "0      0  Aaronsburg    PA       52888          0.0         84.0\n",
              "1      1   Abbeville    AL      289564          0.0         84.0\n",
              "2      2   Abbeville    GA      208956          0.0         84.0\n",
              "3      3   Abbeville    LA     1092520          0.0         84.0\n",
              "4      4   Abbeville    MS      103532          0.0         84.0"
            ]
          },
          "metadata": {
            "tags": []
          },
          "execution_count": 17
        }
      ]
    },
    {
      "cell_type": "markdown",
      "metadata": {
        "id": "3stfC4BdfNN1"
      },
      "source": [
        "### US Demographic Data -> City and State columns"
      ]
    },
    {
      "cell_type": "code",
      "metadata": {
        "colab": {
          "base_uri": "https://localhost:8080/"
        },
        "id": "COpTHFpGfMTX",
        "outputId": "a21ac520-5801-4f66-a6cf-99b29ba7a79f"
      },
      "source": [
        "County_names = pop_df['CensusId'].values\n",
        "zip_list = list()\n",
        "for i, county_name in enumerate(County_names):\n",
        "    zip_list.append(zip_finder(county_name))\n"
      ],
      "execution_count": 18,
      "outputs": [
        {
          "output_type": "stream",
          "text": [
            "2158\n",
            "46102\n"
          ],
          "name": "stdout"
        }
      ]
    },
    {
      "cell_type": "code",
      "metadata": {
        "colab": {
          "base_uri": "https://localhost:8080/"
        },
        "id": "sckhJ2ijccur",
        "outputId": "34649215-a077-4543-b9e9-2039d268b645"
      },
      "source": [
        "print(np.where(County_names==2158))\n",
        "print(np.where(County_names==46102))\n",
        "zip_list[81] == 'None'\n",
        "zip_list[2412] == 'None'"
      ],
      "execution_count": 19,
      "outputs": [
        {
          "output_type": "stream",
          "text": [
            "(array([81]),)\n",
            "(array([2412]),)\n"
          ],
          "name": "stdout"
        },
        {
          "output_type": "execute_result",
          "data": {
            "text/plain": [
              "True"
            ]
          },
          "metadata": {
            "tags": []
          },
          "execution_count": 19
        }
      ]
    },
    {
      "cell_type": "code",
      "metadata": {
        "colab": {
          "base_uri": "https://localhost:8080/"
        },
        "id": "NH7YGWmZccrq",
        "outputId": "3cb66416-1754-41a3-b81b-5cb332689be4"
      },
      "source": [
        "City_list = list()\n",
        "State_list = list()\n",
        "City_list, State_list = City_State_list_maker(zip_list)\n",
        "sum(x is 'None' for x in State_list) == sum(x is 'None' for x in City_list)\n"
      ],
      "execution_count": 20,
      "outputs": [
        {
          "output_type": "execute_result",
          "data": {
            "text/plain": [
              "True"
            ]
          },
          "metadata": {
            "tags": []
          },
          "execution_count": 20
        }
      ]
    },
    {
      "cell_type": "code",
      "metadata": {
        "id": "PZCxWE-Occpf"
      },
      "source": [
        "Zip_and_city_county = pd.DataFrame(data={'City':City_list,'State':State_list, 'Zipcode':zip_list, 'CensusId': County_names})\n",
        "Zip_and_city_county = Zip_and_city_county.replace(to_replace='None', value=np.nan)"
      ],
      "execution_count": 21,
      "outputs": []
    },
    {
      "cell_type": "code",
      "metadata": {
        "colab": {
          "base_uri": "https://localhost:8080/"
        },
        "id": "kDcM9r9lcclx",
        "outputId": "10f9b00b-6053-4810-b201-1ea6e37e6aa2"
      },
      "source": [
        "pop_complete_df =  pop_df[pop_df.columns[pop_df.columns != 'State']].merge(Zip_and_city_county, on='CensusId')\n",
        "print(pop_complete_df.shape)\n",
        "print(pop_complete_df['Zipcode'].iloc[81])\n"
      ],
      "execution_count": 22,
      "outputs": [
        {
          "output_type": "stream",
          "text": [
            "(3220, 39)\n",
            "nan\n"
          ],
          "name": "stdout"
        }
      ]
    },
    {
      "cell_type": "code",
      "metadata": {
        "colab": {
          "base_uri": "https://localhost:8080/"
        },
        "id": "q7ADqbQhcciq",
        "outputId": "eacb8665-bf28-4311-e0cb-08019897daeb"
      },
      "source": [
        "noneless_df = pop_complete_df.dropna()\n",
        "print(noneless_df.shape)\n",
        "print(noneless_df['Zipcode'].iloc[81])"
      ],
      "execution_count": 23,
      "outputs": [
        {
          "output_type": "stream",
          "text": [
            "(3192, 39)\n",
            "99579\n"
          ],
          "name": "stdout"
        }
      ]
    },
    {
      "cell_type": "code",
      "metadata": {
        "colab": {
          "base_uri": "https://localhost:8080/"
        },
        "id": "bxtrEn1Icce_",
        "outputId": "01d66c87-0842-407c-d30d-f26762324f65"
      },
      "source": [
        "noneless_df.columns\n"
      ],
      "execution_count": 24,
      "outputs": [
        {
          "output_type": "execute_result",
          "data": {
            "text/plain": [
              "Index(['CensusId', 'County', 'TotalPop', 'Men', 'Women', 'Hispanic', 'White',\n",
              "       'Black', 'Native', 'Asian', 'Pacific', 'Citizen', 'Income', 'IncomeErr',\n",
              "       'IncomePerCap', 'IncomePerCapErr', 'Poverty', 'ChildPoverty',\n",
              "       'Professional', 'Service', 'Office', 'Construction', 'Production',\n",
              "       'Drive', 'Carpool', 'Transit', 'Walk', 'OtherTransp', 'WorkAtHome',\n",
              "       'MeanCommute', 'Employed', 'PrivateWork', 'PublicWork', 'SelfEmployed',\n",
              "       'FamilyWork', 'Unemployment', 'City', 'State', 'Zipcode'],\n",
              "      dtype='object')"
            ]
          },
          "metadata": {
            "tags": []
          },
          "execution_count": 24
        }
      ]
    },
    {
      "cell_type": "code",
      "metadata": {
        "colab": {
          "base_uri": "https://localhost:8080/",
          "height": 206
        },
        "id": "mn-O_NWzccb3",
        "outputId": "9f46fab3-63a8-4477-9b37-ace9ad56674e"
      },
      "source": [
        "Diversity_df = noneless_df[['Hispanic','White', 'Black', 'Native', 'Asian', 'Pacific','City','State']].groupby(['City','State'],as_index=False).mean()\n",
        "Diversity_df.to_csv(\"Diversity_df.csv\",index=False)\n",
        "Diversity_df.head()"
      ],
      "execution_count": 25,
      "outputs": [
        {
          "output_type": "execute_result",
          "data": {
            "text/html": [
              "<div>\n",
              "<style scoped>\n",
              "    .dataframe tbody tr th:only-of-type {\n",
              "        vertical-align: middle;\n",
              "    }\n",
              "\n",
              "    .dataframe tbody tr th {\n",
              "        vertical-align: top;\n",
              "    }\n",
              "\n",
              "    .dataframe thead th {\n",
              "        text-align: right;\n",
              "    }\n",
              "</style>\n",
              "<table border=\"1\" class=\"dataframe\">\n",
              "  <thead>\n",
              "    <tr style=\"text-align: right;\">\n",
              "      <th></th>\n",
              "      <th>City</th>\n",
              "      <th>State</th>\n",
              "      <th>Hispanic</th>\n",
              "      <th>White</th>\n",
              "      <th>Black</th>\n",
              "      <th>Native</th>\n",
              "      <th>Asian</th>\n",
              "      <th>Pacific</th>\n",
              "    </tr>\n",
              "  </thead>\n",
              "  <tbody>\n",
              "    <tr>\n",
              "      <th>0</th>\n",
              "      <td>Aberdeen</td>\n",
              "      <td>WA</td>\n",
              "      <td>9.6</td>\n",
              "      <td>80.1</td>\n",
              "      <td>1.1</td>\n",
              "      <td>4.0</td>\n",
              "      <td>1.5</td>\n",
              "      <td>0.4</td>\n",
              "    </tr>\n",
              "    <tr>\n",
              "      <th>1</th>\n",
              "      <td>Abilene</td>\n",
              "      <td>TX</td>\n",
              "      <td>23.2</td>\n",
              "      <td>65.6</td>\n",
              "      <td>7.2</td>\n",
              "      <td>0.4</td>\n",
              "      <td>1.7</td>\n",
              "      <td>0.0</td>\n",
              "    </tr>\n",
              "    <tr>\n",
              "      <th>2</th>\n",
              "      <td>Abingdon</td>\n",
              "      <td>MD</td>\n",
              "      <td>4.0</td>\n",
              "      <td>77.6</td>\n",
              "      <td>12.9</td>\n",
              "      <td>0.2</td>\n",
              "      <td>2.8</td>\n",
              "      <td>0.0</td>\n",
              "    </tr>\n",
              "    <tr>\n",
              "      <th>3</th>\n",
              "      <td>Abingdon</td>\n",
              "      <td>VA</td>\n",
              "      <td>1.4</td>\n",
              "      <td>95.6</td>\n",
              "      <td>1.4</td>\n",
              "      <td>0.0</td>\n",
              "      <td>0.6</td>\n",
              "      <td>0.0</td>\n",
              "    </tr>\n",
              "    <tr>\n",
              "      <th>4</th>\n",
              "      <td>Adams Run</td>\n",
              "      <td>SC</td>\n",
              "      <td>4.8</td>\n",
              "      <td>65.1</td>\n",
              "      <td>25.2</td>\n",
              "      <td>0.5</td>\n",
              "      <td>1.7</td>\n",
              "      <td>0.1</td>\n",
              "    </tr>\n",
              "  </tbody>\n",
              "</table>\n",
              "</div>"
            ],
            "text/plain": [
              "        City State  Hispanic  White  Black  Native  Asian  Pacific\n",
              "0   Aberdeen    WA       9.6   80.1    1.1     4.0    1.5      0.4\n",
              "1    Abilene    TX      23.2   65.6    7.2     0.4    1.7      0.0\n",
              "2   Abingdon    MD       4.0   77.6   12.9     0.2    2.8      0.0\n",
              "3   Abingdon    VA       1.4   95.6    1.4     0.0    0.6      0.0\n",
              "4  Adams Run    SC       4.8   65.1   25.2     0.5    1.7      0.1"
            ]
          },
          "metadata": {
            "tags": []
          },
          "execution_count": 25
        }
      ]
    },
    {
      "cell_type": "code",
      "metadata": {
        "colab": {
          "base_uri": "https://localhost:8080/",
          "height": 206
        },
        "id": "VvZpt2xhccXl",
        "outputId": "d5ad2105-7840-4077-ecf5-d6fc8e1b2f17"
      },
      "source": [
        "Income_per_capita_df = noneless_df[['Income','IncomeErr', 'IncomePerCap', 'IncomePerCapErr','City','State']].groupby(['City','State'],as_index=False).mean()\n",
        "Income_per_capita_df.to_csv(\"Income_per_capita_df.csv\",index=False)\n",
        "Income_per_capita_df.head()"
      ],
      "execution_count": 26,
      "outputs": [
        {
          "output_type": "execute_result",
          "data": {
            "text/html": [
              "<div>\n",
              "<style scoped>\n",
              "    .dataframe tbody tr th:only-of-type {\n",
              "        vertical-align: middle;\n",
              "    }\n",
              "\n",
              "    .dataframe tbody tr th {\n",
              "        vertical-align: top;\n",
              "    }\n",
              "\n",
              "    .dataframe thead th {\n",
              "        text-align: right;\n",
              "    }\n",
              "</style>\n",
              "<table border=\"1\" class=\"dataframe\">\n",
              "  <thead>\n",
              "    <tr style=\"text-align: right;\">\n",
              "      <th></th>\n",
              "      <th>City</th>\n",
              "      <th>State</th>\n",
              "      <th>Income</th>\n",
              "      <th>IncomeErr</th>\n",
              "      <th>IncomePerCap</th>\n",
              "      <th>IncomePerCapErr</th>\n",
              "    </tr>\n",
              "  </thead>\n",
              "  <tbody>\n",
              "    <tr>\n",
              "      <th>0</th>\n",
              "      <td>Aberdeen</td>\n",
              "      <td>WA</td>\n",
              "      <td>43538.0</td>\n",
              "      <td>1652.0</td>\n",
              "      <td>22387.0</td>\n",
              "      <td>757.0</td>\n",
              "    </tr>\n",
              "    <tr>\n",
              "      <th>1</th>\n",
              "      <td>Abilene</td>\n",
              "      <td>TX</td>\n",
              "      <td>45396.0</td>\n",
              "      <td>1528.0</td>\n",
              "      <td>23896.0</td>\n",
              "      <td>744.0</td>\n",
              "    </tr>\n",
              "    <tr>\n",
              "      <th>2</th>\n",
              "      <td>Abingdon</td>\n",
              "      <td>MD</td>\n",
              "      <td>80465.0</td>\n",
              "      <td>1153.0</td>\n",
              "      <td>35746.0</td>\n",
              "      <td>520.0</td>\n",
              "    </tr>\n",
              "    <tr>\n",
              "      <th>3</th>\n",
              "      <td>Abingdon</td>\n",
              "      <td>VA</td>\n",
              "      <td>43310.0</td>\n",
              "      <td>1910.0</td>\n",
              "      <td>25351.0</td>\n",
              "      <td>968.0</td>\n",
              "    </tr>\n",
              "    <tr>\n",
              "      <th>4</th>\n",
              "      <td>Adams Run</td>\n",
              "      <td>SC</td>\n",
              "      <td>54901.0</td>\n",
              "      <td>1488.0</td>\n",
              "      <td>25223.0</td>\n",
              "      <td>776.0</td>\n",
              "    </tr>\n",
              "  </tbody>\n",
              "</table>\n",
              "</div>"
            ],
            "text/plain": [
              "        City State   Income  IncomeErr  IncomePerCap  IncomePerCapErr\n",
              "0   Aberdeen    WA  43538.0     1652.0       22387.0            757.0\n",
              "1    Abilene    TX  45396.0     1528.0       23896.0            744.0\n",
              "2   Abingdon    MD  80465.0     1153.0       35746.0            520.0\n",
              "3   Abingdon    VA  43310.0     1910.0       25351.0            968.0\n",
              "4  Adams Run    SC  54901.0     1488.0       25223.0            776.0"
            ]
          },
          "metadata": {
            "tags": []
          },
          "execution_count": 26
        }
      ]
    },
    {
      "cell_type": "code",
      "metadata": {
        "colab": {
          "base_uri": "https://localhost:8080/",
          "height": 206
        },
        "id": "1silEUUrccRJ",
        "outputId": "43f43768-5c47-45c9-c278-0db607550938"
      },
      "source": [
        "Poverty_df = noneless_df[['Poverty','ChildPoverty','City','State']].groupby(['City','State'],as_index=False).sum()\n",
        "Poverty_df.to_csv(\"Poverty_df.csv\",index=False)\n",
        "Poverty_df.head()"
      ],
      "execution_count": 27,
      "outputs": [
        {
          "output_type": "execute_result",
          "data": {
            "text/html": [
              "<div>\n",
              "<style scoped>\n",
              "    .dataframe tbody tr th:only-of-type {\n",
              "        vertical-align: middle;\n",
              "    }\n",
              "\n",
              "    .dataframe tbody tr th {\n",
              "        vertical-align: top;\n",
              "    }\n",
              "\n",
              "    .dataframe thead th {\n",
              "        text-align: right;\n",
              "    }\n",
              "</style>\n",
              "<table border=\"1\" class=\"dataframe\">\n",
              "  <thead>\n",
              "    <tr style=\"text-align: right;\">\n",
              "      <th></th>\n",
              "      <th>City</th>\n",
              "      <th>State</th>\n",
              "      <th>Poverty</th>\n",
              "      <th>ChildPoverty</th>\n",
              "    </tr>\n",
              "  </thead>\n",
              "  <tbody>\n",
              "    <tr>\n",
              "      <th>0</th>\n",
              "      <td>Aberdeen</td>\n",
              "      <td>WA</td>\n",
              "      <td>18.1</td>\n",
              "      <td>24.8</td>\n",
              "    </tr>\n",
              "    <tr>\n",
              "      <th>1</th>\n",
              "      <td>Abilene</td>\n",
              "      <td>TX</td>\n",
              "      <td>17.4</td>\n",
              "      <td>21.6</td>\n",
              "    </tr>\n",
              "    <tr>\n",
              "      <th>2</th>\n",
              "      <td>Abingdon</td>\n",
              "      <td>MD</td>\n",
              "      <td>8.0</td>\n",
              "      <td>11.7</td>\n",
              "    </tr>\n",
              "    <tr>\n",
              "      <th>3</th>\n",
              "      <td>Abingdon</td>\n",
              "      <td>VA</td>\n",
              "      <td>12.8</td>\n",
              "      <td>17.1</td>\n",
              "    </tr>\n",
              "    <tr>\n",
              "      <th>4</th>\n",
              "      <td>Adams Run</td>\n",
              "      <td>SC</td>\n",
              "      <td>13.1</td>\n",
              "      <td>18.4</td>\n",
              "    </tr>\n",
              "  </tbody>\n",
              "</table>\n",
              "</div>"
            ],
            "text/plain": [
              "        City State  Poverty  ChildPoverty\n",
              "0   Aberdeen    WA     18.1          24.8\n",
              "1    Abilene    TX     17.4          21.6\n",
              "2   Abingdon    MD      8.0          11.7\n",
              "3   Abingdon    VA     12.8          17.1\n",
              "4  Adams Run    SC     13.1          18.4"
            ]
          },
          "metadata": {
            "tags": []
          },
          "execution_count": 27
        }
      ]
    },
    {
      "cell_type": "code",
      "metadata": {
        "colab": {
          "base_uri": "https://localhost:8080/",
          "height": 206
        },
        "id": "7IyqFfCkccHm",
        "outputId": "6b4dbfe0-f407-4055-c633-1dd34e4a6d0f"
      },
      "source": [
        "Industry_df = noneless_df[['Professional', 'Service', 'Office', 'Construction','Production','City','State']].groupby(['City','State'],as_index=False).sum()\n",
        "Industry_df.to_csv(\"Industry_df.csv\",index=False)\n",
        "Industry_df.head()"
      ],
      "execution_count": 28,
      "outputs": [
        {
          "output_type": "execute_result",
          "data": {
            "text/html": [
              "<div>\n",
              "<style scoped>\n",
              "    .dataframe tbody tr th:only-of-type {\n",
              "        vertical-align: middle;\n",
              "    }\n",
              "\n",
              "    .dataframe tbody tr th {\n",
              "        vertical-align: top;\n",
              "    }\n",
              "\n",
              "    .dataframe thead th {\n",
              "        text-align: right;\n",
              "    }\n",
              "</style>\n",
              "<table border=\"1\" class=\"dataframe\">\n",
              "  <thead>\n",
              "    <tr style=\"text-align: right;\">\n",
              "      <th></th>\n",
              "      <th>City</th>\n",
              "      <th>State</th>\n",
              "      <th>Professional</th>\n",
              "      <th>Service</th>\n",
              "      <th>Office</th>\n",
              "      <th>Construction</th>\n",
              "      <th>Production</th>\n",
              "    </tr>\n",
              "  </thead>\n",
              "  <tbody>\n",
              "    <tr>\n",
              "      <th>0</th>\n",
              "      <td>Aberdeen</td>\n",
              "      <td>WA</td>\n",
              "      <td>25.0</td>\n",
              "      <td>24.9</td>\n",
              "      <td>23.1</td>\n",
              "      <td>11.8</td>\n",
              "      <td>15.1</td>\n",
              "    </tr>\n",
              "    <tr>\n",
              "      <th>1</th>\n",
              "      <td>Abilene</td>\n",
              "      <td>TX</td>\n",
              "      <td>30.3</td>\n",
              "      <td>21.9</td>\n",
              "      <td>25.8</td>\n",
              "      <td>11.1</td>\n",
              "      <td>10.9</td>\n",
              "    </tr>\n",
              "    <tr>\n",
              "      <th>2</th>\n",
              "      <td>Abingdon</td>\n",
              "      <td>MD</td>\n",
              "      <td>42.4</td>\n",
              "      <td>14.7</td>\n",
              "      <td>25.0</td>\n",
              "      <td>8.6</td>\n",
              "      <td>9.3</td>\n",
              "    </tr>\n",
              "    <tr>\n",
              "      <th>3</th>\n",
              "      <td>Abingdon</td>\n",
              "      <td>VA</td>\n",
              "      <td>34.4</td>\n",
              "      <td>17.1</td>\n",
              "      <td>24.8</td>\n",
              "      <td>7.3</td>\n",
              "      <td>16.4</td>\n",
              "    </tr>\n",
              "    <tr>\n",
              "      <th>4</th>\n",
              "      <td>Adams Run</td>\n",
              "      <td>SC</td>\n",
              "      <td>34.5</td>\n",
              "      <td>16.7</td>\n",
              "      <td>26.1</td>\n",
              "      <td>10.5</td>\n",
              "      <td>12.3</td>\n",
              "    </tr>\n",
              "  </tbody>\n",
              "</table>\n",
              "</div>"
            ],
            "text/plain": [
              "        City State  Professional  Service  Office  Construction  Production\n",
              "0   Aberdeen    WA          25.0     24.9    23.1          11.8        15.1\n",
              "1    Abilene    TX          30.3     21.9    25.8          11.1        10.9\n",
              "2   Abingdon    MD          42.4     14.7    25.0           8.6         9.3\n",
              "3   Abingdon    VA          34.4     17.1    24.8           7.3        16.4\n",
              "4  Adams Run    SC          34.5     16.7    26.1          10.5        12.3"
            ]
          },
          "metadata": {
            "tags": []
          },
          "execution_count": 28
        }
      ]
    },
    {
      "cell_type": "code",
      "metadata": {
        "colab": {
          "base_uri": "https://localhost:8080/",
          "height": 206
        },
        "id": "-vqg8b17fhql",
        "outputId": "7d0b1c1c-8ac2-4613-f9d7-3268a7613c2c"
      },
      "source": [
        "Trasportation_df = noneless_df[['Drive', 'Carpool', 'Transit', 'Walk', 'OtherTransp','WorkAtHome', 'MeanCommute','City','State']].groupby(['City','State'],as_index=False).mean()\n",
        "Trasportation_df.to_csv(\"Trasportation_df.csv\",index=False)\n",
        "Trasportation_df.head()"
      ],
      "execution_count": 29,
      "outputs": [
        {
          "output_type": "execute_result",
          "data": {
            "text/html": [
              "<div>\n",
              "<style scoped>\n",
              "    .dataframe tbody tr th:only-of-type {\n",
              "        vertical-align: middle;\n",
              "    }\n",
              "\n",
              "    .dataframe tbody tr th {\n",
              "        vertical-align: top;\n",
              "    }\n",
              "\n",
              "    .dataframe thead th {\n",
              "        text-align: right;\n",
              "    }\n",
              "</style>\n",
              "<table border=\"1\" class=\"dataframe\">\n",
              "  <thead>\n",
              "    <tr style=\"text-align: right;\">\n",
              "      <th></th>\n",
              "      <th>City</th>\n",
              "      <th>State</th>\n",
              "      <th>Drive</th>\n",
              "      <th>Carpool</th>\n",
              "      <th>Transit</th>\n",
              "      <th>Walk</th>\n",
              "      <th>OtherTransp</th>\n",
              "      <th>WorkAtHome</th>\n",
              "      <th>MeanCommute</th>\n",
              "    </tr>\n",
              "  </thead>\n",
              "  <tbody>\n",
              "    <tr>\n",
              "      <th>0</th>\n",
              "      <td>Aberdeen</td>\n",
              "      <td>WA</td>\n",
              "      <td>76.9</td>\n",
              "      <td>13.4</td>\n",
              "      <td>1.5</td>\n",
              "      <td>2.2</td>\n",
              "      <td>2.0</td>\n",
              "      <td>3.9</td>\n",
              "      <td>24.2</td>\n",
              "    </tr>\n",
              "    <tr>\n",
              "      <th>1</th>\n",
              "      <td>Abilene</td>\n",
              "      <td>TX</td>\n",
              "      <td>81.4</td>\n",
              "      <td>11.4</td>\n",
              "      <td>0.6</td>\n",
              "      <td>2.3</td>\n",
              "      <td>1.8</td>\n",
              "      <td>2.5</td>\n",
              "      <td>15.9</td>\n",
              "    </tr>\n",
              "    <tr>\n",
              "      <th>2</th>\n",
              "      <td>Abingdon</td>\n",
              "      <td>MD</td>\n",
              "      <td>83.2</td>\n",
              "      <td>9.1</td>\n",
              "      <td>1.7</td>\n",
              "      <td>1.4</td>\n",
              "      <td>0.8</td>\n",
              "      <td>3.9</td>\n",
              "      <td>31.7</td>\n",
              "    </tr>\n",
              "    <tr>\n",
              "      <th>3</th>\n",
              "      <td>Abingdon</td>\n",
              "      <td>VA</td>\n",
              "      <td>84.2</td>\n",
              "      <td>8.8</td>\n",
              "      <td>0.3</td>\n",
              "      <td>1.8</td>\n",
              "      <td>0.6</td>\n",
              "      <td>4.2</td>\n",
              "      <td>23.2</td>\n",
              "    </tr>\n",
              "    <tr>\n",
              "      <th>4</th>\n",
              "      <td>Adams Run</td>\n",
              "      <td>SC</td>\n",
              "      <td>83.6</td>\n",
              "      <td>9.9</td>\n",
              "      <td>0.6</td>\n",
              "      <td>0.9</td>\n",
              "      <td>1.2</td>\n",
              "      <td>3.8</td>\n",
              "      <td>28.2</td>\n",
              "    </tr>\n",
              "  </tbody>\n",
              "</table>\n",
              "</div>"
            ],
            "text/plain": [
              "        City State  Drive  Carpool  ...  Walk  OtherTransp  WorkAtHome  MeanCommute\n",
              "0   Aberdeen    WA   76.9     13.4  ...   2.2          2.0         3.9         24.2\n",
              "1    Abilene    TX   81.4     11.4  ...   2.3          1.8         2.5         15.9\n",
              "2   Abingdon    MD   83.2      9.1  ...   1.4          0.8         3.9         31.7\n",
              "3   Abingdon    VA   84.2      8.8  ...   1.8          0.6         4.2         23.2\n",
              "4  Adams Run    SC   83.6      9.9  ...   0.9          1.2         3.8         28.2\n",
              "\n",
              "[5 rows x 9 columns]"
            ]
          },
          "metadata": {
            "tags": []
          },
          "execution_count": 29
        }
      ]
    },
    {
      "cell_type": "code",
      "metadata": {
        "colab": {
          "base_uri": "https://localhost:8080/",
          "height": 206
        },
        "id": "ZCa82f5afhi5",
        "outputId": "a38d53eb-7911-485d-da58-0107a8129bc4"
      },
      "source": [
        "Employment_df = noneless_df[['Employed','Unemployment','City','State']].groupby(['City','State'],as_index=False).sum()\n",
        "Employment_df.to_csv('Employment_df.csv',index=False)\n",
        "Employment_df.head()"
      ],
      "execution_count": 30,
      "outputs": [
        {
          "output_type": "execute_result",
          "data": {
            "text/html": [
              "<div>\n",
              "<style scoped>\n",
              "    .dataframe tbody tr th:only-of-type {\n",
              "        vertical-align: middle;\n",
              "    }\n",
              "\n",
              "    .dataframe tbody tr th {\n",
              "        vertical-align: top;\n",
              "    }\n",
              "\n",
              "    .dataframe thead th {\n",
              "        text-align: right;\n",
              "    }\n",
              "</style>\n",
              "<table border=\"1\" class=\"dataframe\">\n",
              "  <thead>\n",
              "    <tr style=\"text-align: right;\">\n",
              "      <th></th>\n",
              "      <th>City</th>\n",
              "      <th>State</th>\n",
              "      <th>Employed</th>\n",
              "      <th>Unemployment</th>\n",
              "    </tr>\n",
              "  </thead>\n",
              "  <tbody>\n",
              "    <tr>\n",
              "      <th>0</th>\n",
              "      <td>Aberdeen</td>\n",
              "      <td>WA</td>\n",
              "      <td>26197</td>\n",
              "      <td>14.3</td>\n",
              "    </tr>\n",
              "    <tr>\n",
              "      <th>1</th>\n",
              "      <td>Abilene</td>\n",
              "      <td>TX</td>\n",
              "      <td>60708</td>\n",
              "      <td>5.9</td>\n",
              "    </tr>\n",
              "    <tr>\n",
              "      <th>2</th>\n",
              "      <td>Abingdon</td>\n",
              "      <td>MD</td>\n",
              "      <td>127274</td>\n",
              "      <td>6.4</td>\n",
              "    </tr>\n",
              "    <tr>\n",
              "      <th>3</th>\n",
              "      <td>Abingdon</td>\n",
              "      <td>VA</td>\n",
              "      <td>24442</td>\n",
              "      <td>6.9</td>\n",
              "    </tr>\n",
              "    <tr>\n",
              "      <th>4</th>\n",
              "      <td>Adams Run</td>\n",
              "      <td>SC</td>\n",
              "      <td>66723</td>\n",
              "      <td>8.0</td>\n",
              "    </tr>\n",
              "  </tbody>\n",
              "</table>\n",
              "</div>"
            ],
            "text/plain": [
              "        City State  Employed  Unemployment\n",
              "0   Aberdeen    WA     26197          14.3\n",
              "1    Abilene    TX     60708           5.9\n",
              "2   Abingdon    MD    127274           6.4\n",
              "3   Abingdon    VA     24442           6.9\n",
              "4  Adams Run    SC     66723           8.0"
            ]
          },
          "metadata": {
            "tags": []
          },
          "execution_count": 30
        }
      ]
    },
    {
      "cell_type": "code",
      "metadata": {
        "colab": {
          "base_uri": "https://localhost:8080/",
          "height": 206
        },
        "id": "5YLMaPBbfhbA",
        "outputId": "6a6ec4ad-001a-457c-e36d-ecf0d0bc132c"
      },
      "source": [
        "Employment_ratio_df = noneless_df[['PrivateWork', 'PublicWork','SelfEmployed', 'FamilyWork','City','State']].groupby(['City','State'],as_index=False).mean()\n",
        "Employment_ratio_df.to_csv('Employment_ratio_df.csv',index=False)\n",
        "Employment_ratio_df.head()"
      ],
      "execution_count": 31,
      "outputs": [
        {
          "output_type": "execute_result",
          "data": {
            "text/html": [
              "<div>\n",
              "<style scoped>\n",
              "    .dataframe tbody tr th:only-of-type {\n",
              "        vertical-align: middle;\n",
              "    }\n",
              "\n",
              "    .dataframe tbody tr th {\n",
              "        vertical-align: top;\n",
              "    }\n",
              "\n",
              "    .dataframe thead th {\n",
              "        text-align: right;\n",
              "    }\n",
              "</style>\n",
              "<table border=\"1\" class=\"dataframe\">\n",
              "  <thead>\n",
              "    <tr style=\"text-align: right;\">\n",
              "      <th></th>\n",
              "      <th>City</th>\n",
              "      <th>State</th>\n",
              "      <th>PrivateWork</th>\n",
              "      <th>PublicWork</th>\n",
              "      <th>SelfEmployed</th>\n",
              "      <th>FamilyWork</th>\n",
              "    </tr>\n",
              "  </thead>\n",
              "  <tbody>\n",
              "    <tr>\n",
              "      <th>0</th>\n",
              "      <td>Aberdeen</td>\n",
              "      <td>WA</td>\n",
              "      <td>71.2</td>\n",
              "      <td>21.7</td>\n",
              "      <td>7.0</td>\n",
              "      <td>0.2</td>\n",
              "    </tr>\n",
              "    <tr>\n",
              "      <th>1</th>\n",
              "      <td>Abilene</td>\n",
              "      <td>TX</td>\n",
              "      <td>77.5</td>\n",
              "      <td>16.5</td>\n",
              "      <td>5.7</td>\n",
              "      <td>0.2</td>\n",
              "    </tr>\n",
              "    <tr>\n",
              "      <th>2</th>\n",
              "      <td>Abingdon</td>\n",
              "      <td>MD</td>\n",
              "      <td>74.4</td>\n",
              "      <td>21.2</td>\n",
              "      <td>4.2</td>\n",
              "      <td>0.2</td>\n",
              "    </tr>\n",
              "    <tr>\n",
              "      <th>3</th>\n",
              "      <td>Abingdon</td>\n",
              "      <td>VA</td>\n",
              "      <td>78.1</td>\n",
              "      <td>15.9</td>\n",
              "      <td>6.0</td>\n",
              "      <td>0.0</td>\n",
              "    </tr>\n",
              "    <tr>\n",
              "      <th>4</th>\n",
              "      <td>Adams Run</td>\n",
              "      <td>SC</td>\n",
              "      <td>77.0</td>\n",
              "      <td>18.3</td>\n",
              "      <td>4.5</td>\n",
              "      <td>0.2</td>\n",
              "    </tr>\n",
              "  </tbody>\n",
              "</table>\n",
              "</div>"
            ],
            "text/plain": [
              "        City State  PrivateWork  PublicWork  SelfEmployed  FamilyWork\n",
              "0   Aberdeen    WA         71.2        21.7           7.0         0.2\n",
              "1    Abilene    TX         77.5        16.5           5.7         0.2\n",
              "2   Abingdon    MD         74.4        21.2           4.2         0.2\n",
              "3   Abingdon    VA         78.1        15.9           6.0         0.0\n",
              "4  Adams Run    SC         77.0        18.3           4.5         0.2"
            ]
          },
          "metadata": {
            "tags": []
          },
          "execution_count": 31
        }
      ]
    },
    {
      "cell_type": "code",
      "metadata": {
        "colab": {
          "base_uri": "https://localhost:8080/",
          "height": 226
        },
        "id": "vG8dJ5lyfhOa",
        "outputId": "b20c02e6-d8a8-45f0-f1ae-e28bab2747a8"
      },
      "source": [
        "total_df = Population_df.merge(Diversity_df, on=['State','City'])\n",
        "total_df = total_df.merge(Poverty_df, on=['State','City'])\n",
        "total_df = total_df.merge(Industry_df, on=['State','City'])\n",
        "total_df = total_df.merge(Employment_df, on=['State','City'])\n",
        "total_df = total_df.merge(Trasportation_df, on=['State','City'])\n",
        "total_df = total_df.merge(Employment_ratio_df, on=['State','City'])\n",
        "total_df = total_df.merge(Income_per_capita_df, on=['State','City'])\n",
        "total_df = total_df.merge(Mean_Income_df, on=['State','City'])\n",
        "total_df.to_csv('Total_Search_df.csv',index=False)\n",
        "total_df.head(5)"
      ],
      "execution_count": 32,
      "outputs": [
        {
          "output_type": "execute_result",
          "data": {
            "text/html": [
              "<div>\n",
              "<style scoped>\n",
              "    .dataframe tbody tr th:only-of-type {\n",
              "        vertical-align: middle;\n",
              "    }\n",
              "\n",
              "    .dataframe tbody tr th {\n",
              "        vertical-align: top;\n",
              "    }\n",
              "\n",
              "    .dataframe thead th {\n",
              "        text-align: right;\n",
              "    }\n",
              "</style>\n",
              "<table border=\"1\" class=\"dataframe\">\n",
              "  <thead>\n",
              "    <tr style=\"text-align: right;\">\n",
              "      <th></th>\n",
              "      <th>index</th>\n",
              "      <th>City</th>\n",
              "      <th>State</th>\n",
              "      <th>population</th>\n",
              "      <th>minimum_age</th>\n",
              "      <th>maximum_age</th>\n",
              "      <th>Hispanic</th>\n",
              "      <th>White</th>\n",
              "      <th>Black</th>\n",
              "      <th>Native</th>\n",
              "      <th>Asian</th>\n",
              "      <th>Pacific</th>\n",
              "      <th>Poverty</th>\n",
              "      <th>ChildPoverty</th>\n",
              "      <th>Professional</th>\n",
              "      <th>Service</th>\n",
              "      <th>Office</th>\n",
              "      <th>Construction</th>\n",
              "      <th>Production</th>\n",
              "      <th>Employed</th>\n",
              "      <th>Unemployment</th>\n",
              "      <th>Drive</th>\n",
              "      <th>Carpool</th>\n",
              "      <th>Transit</th>\n",
              "      <th>Walk</th>\n",
              "      <th>OtherTransp</th>\n",
              "      <th>WorkAtHome</th>\n",
              "      <th>MeanCommute</th>\n",
              "      <th>PrivateWork</th>\n",
              "      <th>PublicWork</th>\n",
              "      <th>SelfEmployed</th>\n",
              "      <th>FamilyWork</th>\n",
              "      <th>Income</th>\n",
              "      <th>IncomeErr</th>\n",
              "      <th>IncomePerCap</th>\n",
              "      <th>IncomePerCapErr</th>\n",
              "      <th>Mean</th>\n",
              "      <th>Median</th>\n",
              "      <th>Stdev</th>\n",
              "    </tr>\n",
              "  </thead>\n",
              "  <tbody>\n",
              "    <tr>\n",
              "      <th>0</th>\n",
              "      <td>19</td>\n",
              "      <td>Aberdeen</td>\n",
              "      <td>WA</td>\n",
              "      <td>1029028</td>\n",
              "      <td>0.0</td>\n",
              "      <td>84.0</td>\n",
              "      <td>9.6</td>\n",
              "      <td>80.1</td>\n",
              "      <td>1.1</td>\n",
              "      <td>4.0</td>\n",
              "      <td>1.5</td>\n",
              "      <td>0.4</td>\n",
              "      <td>18.1</td>\n",
              "      <td>24.8</td>\n",
              "      <td>25.0</td>\n",
              "      <td>24.9</td>\n",
              "      <td>23.1</td>\n",
              "      <td>11.8</td>\n",
              "      <td>15.1</td>\n",
              "      <td>26197</td>\n",
              "      <td>14.3</td>\n",
              "      <td>76.9</td>\n",
              "      <td>13.4</td>\n",
              "      <td>1.5</td>\n",
              "      <td>2.2</td>\n",
              "      <td>2.0</td>\n",
              "      <td>3.9</td>\n",
              "      <td>24.2</td>\n",
              "      <td>71.2</td>\n",
              "      <td>21.7</td>\n",
              "      <td>7.0</td>\n",
              "      <td>0.2</td>\n",
              "      <td>43538.0</td>\n",
              "      <td>1652.0</td>\n",
              "      <td>22387.0</td>\n",
              "      <td>757.0</td>\n",
              "      <td>72647.000000</td>\n",
              "      <td>80209.000000</td>\n",
              "      <td>46242.000000</td>\n",
              "    </tr>\n",
              "    <tr>\n",
              "      <th>1</th>\n",
              "      <td>24</td>\n",
              "      <td>Abilene</td>\n",
              "      <td>TX</td>\n",
              "      <td>5365712</td>\n",
              "      <td>0.0</td>\n",
              "      <td>84.0</td>\n",
              "      <td>23.2</td>\n",
              "      <td>65.6</td>\n",
              "      <td>7.2</td>\n",
              "      <td>0.4</td>\n",
              "      <td>1.7</td>\n",
              "      <td>0.0</td>\n",
              "      <td>17.4</td>\n",
              "      <td>21.6</td>\n",
              "      <td>30.3</td>\n",
              "      <td>21.9</td>\n",
              "      <td>25.8</td>\n",
              "      <td>11.1</td>\n",
              "      <td>10.9</td>\n",
              "      <td>60708</td>\n",
              "      <td>5.9</td>\n",
              "      <td>81.4</td>\n",
              "      <td>11.4</td>\n",
              "      <td>0.6</td>\n",
              "      <td>2.3</td>\n",
              "      <td>1.8</td>\n",
              "      <td>2.5</td>\n",
              "      <td>15.9</td>\n",
              "      <td>77.5</td>\n",
              "      <td>16.5</td>\n",
              "      <td>5.7</td>\n",
              "      <td>0.2</td>\n",
              "      <td>45396.0</td>\n",
              "      <td>1528.0</td>\n",
              "      <td>23896.0</td>\n",
              "      <td>744.0</td>\n",
              "      <td>51258.923077</td>\n",
              "      <td>79425.538462</td>\n",
              "      <td>38462.769231</td>\n",
              "    </tr>\n",
              "    <tr>\n",
              "      <th>2</th>\n",
              "      <td>26</td>\n",
              "      <td>Abingdon</td>\n",
              "      <td>MD</td>\n",
              "      <td>1299364</td>\n",
              "      <td>0.0</td>\n",
              "      <td>84.0</td>\n",
              "      <td>4.0</td>\n",
              "      <td>77.6</td>\n",
              "      <td>12.9</td>\n",
              "      <td>0.2</td>\n",
              "      <td>2.8</td>\n",
              "      <td>0.0</td>\n",
              "      <td>8.0</td>\n",
              "      <td>11.7</td>\n",
              "      <td>42.4</td>\n",
              "      <td>14.7</td>\n",
              "      <td>25.0</td>\n",
              "      <td>8.6</td>\n",
              "      <td>9.3</td>\n",
              "      <td>127274</td>\n",
              "      <td>6.4</td>\n",
              "      <td>83.2</td>\n",
              "      <td>9.1</td>\n",
              "      <td>1.7</td>\n",
              "      <td>1.4</td>\n",
              "      <td>0.8</td>\n",
              "      <td>3.9</td>\n",
              "      <td>31.7</td>\n",
              "      <td>74.4</td>\n",
              "      <td>21.2</td>\n",
              "      <td>4.2</td>\n",
              "      <td>0.2</td>\n",
              "      <td>80465.0</td>\n",
              "      <td>1153.0</td>\n",
              "      <td>35746.0</td>\n",
              "      <td>520.0</td>\n",
              "      <td>109797.000000</td>\n",
              "      <td>300000.000000</td>\n",
              "      <td>57646.500000</td>\n",
              "    </tr>\n",
              "    <tr>\n",
              "      <th>3</th>\n",
              "      <td>27</td>\n",
              "      <td>Abingdon</td>\n",
              "      <td>VA</td>\n",
              "      <td>1152008</td>\n",
              "      <td>0.0</td>\n",
              "      <td>84.0</td>\n",
              "      <td>1.4</td>\n",
              "      <td>95.6</td>\n",
              "      <td>1.4</td>\n",
              "      <td>0.0</td>\n",
              "      <td>0.6</td>\n",
              "      <td>0.0</td>\n",
              "      <td>12.8</td>\n",
              "      <td>17.1</td>\n",
              "      <td>34.4</td>\n",
              "      <td>17.1</td>\n",
              "      <td>24.8</td>\n",
              "      <td>7.3</td>\n",
              "      <td>16.4</td>\n",
              "      <td>24442</td>\n",
              "      <td>6.9</td>\n",
              "      <td>84.2</td>\n",
              "      <td>8.8</td>\n",
              "      <td>0.3</td>\n",
              "      <td>1.8</td>\n",
              "      <td>0.6</td>\n",
              "      <td>4.2</td>\n",
              "      <td>23.2</td>\n",
              "      <td>78.1</td>\n",
              "      <td>15.9</td>\n",
              "      <td>6.0</td>\n",
              "      <td>0.0</td>\n",
              "      <td>43310.0</td>\n",
              "      <td>1910.0</td>\n",
              "      <td>25351.0</td>\n",
              "      <td>968.0</td>\n",
              "      <td>60952.500000</td>\n",
              "      <td>47182.500000</td>\n",
              "      <td>54058.000000</td>\n",
              "    </tr>\n",
              "    <tr>\n",
              "      <th>4</th>\n",
              "      <td>109</td>\n",
              "      <td>Adena</td>\n",
              "      <td>OH</td>\n",
              "      <td>94556</td>\n",
              "      <td>0.0</td>\n",
              "      <td>84.0</td>\n",
              "      <td>0.8</td>\n",
              "      <td>93.2</td>\n",
              "      <td>3.8</td>\n",
              "      <td>0.2</td>\n",
              "      <td>0.4</td>\n",
              "      <td>0.0</td>\n",
              "      <td>14.6</td>\n",
              "      <td>21.5</td>\n",
              "      <td>26.4</td>\n",
              "      <td>19.9</td>\n",
              "      <td>23.7</td>\n",
              "      <td>14.6</td>\n",
              "      <td>15.3</td>\n",
              "      <td>29728</td>\n",
              "      <td>8.5</td>\n",
              "      <td>86.3</td>\n",
              "      <td>7.7</td>\n",
              "      <td>0.4</td>\n",
              "      <td>2.6</td>\n",
              "      <td>1.1</td>\n",
              "      <td>1.9</td>\n",
              "      <td>22.5</td>\n",
              "      <td>82.2</td>\n",
              "      <td>13.9</td>\n",
              "      <td>3.8</td>\n",
              "      <td>0.1</td>\n",
              "      <td>43833.0</td>\n",
              "      <td>1491.0</td>\n",
              "      <td>23684.0</td>\n",
              "      <td>711.0</td>\n",
              "      <td>51340.500000</td>\n",
              "      <td>48046.500000</td>\n",
              "      <td>37181.500000</td>\n",
              "    </tr>\n",
              "  </tbody>\n",
              "</table>\n",
              "</div>"
            ],
            "text/plain": [
              "   index      City State  ...           Mean         Median         Stdev\n",
              "0     19  Aberdeen    WA  ...   72647.000000   80209.000000  46242.000000\n",
              "1     24   Abilene    TX  ...   51258.923077   79425.538462  38462.769231\n",
              "2     26  Abingdon    MD  ...  109797.000000  300000.000000  57646.500000\n",
              "3     27  Abingdon    VA  ...   60952.500000   47182.500000  54058.000000\n",
              "4    109     Adena    OH  ...   51340.500000   48046.500000  37181.500000\n",
              "\n",
              "[5 rows x 39 columns]"
            ]
          },
          "metadata": {
            "tags": []
          },
          "execution_count": 32
        }
      ]
    },
    {
      "cell_type": "code",
      "metadata": {
        "colab": {
          "base_uri": "https://localhost:8080/"
        },
        "id": "RBYTAcuUcb9B",
        "outputId": "d6c51d64-7abf-4114-c7e6-2df709d777fc"
      },
      "source": [
        "from google.colab import drive\n",
        "drive.mount('drive')"
      ],
      "execution_count": 33,
      "outputs": [
        {
          "output_type": "stream",
          "text": [
            "Mounted at drive\n"
          ],
          "name": "stdout"
        }
      ]
    },
    {
      "cell_type": "code",
      "metadata": {
        "id": "0o3DSiYekS1F"
      },
      "source": [
        "df.to_csv('total_df.csv')"
      ],
      "execution_count": 34,
      "outputs": []
    },
    {
      "cell_type": "code",
      "metadata": {
        "id": "BhAPQ6jZlb-8"
      },
      "source": [
        "!cp total_df.csv \"drive/My Drive/\""
      ],
      "execution_count": 37,
      "outputs": []
    }
  ]
}