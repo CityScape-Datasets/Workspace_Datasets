{
 "cells": [
  {
   "source": [
    "## MERGE"
   ],
   "cell_type": "markdown",
   "metadata": {}
  },
  {
   "cell_type": "code",
   "execution_count": 1,
   "metadata": {},
   "outputs": [],
   "source": [
    "import numpy as np\n",
    "import pandas as pd\n",
    "import os\n",
    "\n",
    "pd.set_option('display.max_columns', None)\n",
    "\n",
    "path = os.getcwd()"
   ]
  },
  {
   "cell_type": "code",
   "execution_count": 2,
   "metadata": {},
   "outputs": [],
   "source": [
    "df_census = pd.read_csv(os.path.join(path, 'csv/census_by_city.csv'))     # (25235, 35)\n",
    "df_crime = pd.read_csv(os.path.join(path, 'csv/fbi_crime_uscities.csv'))  # (8103, 16)\n",
    "df_rent = pd.read_csv(os.path.join(path, 'csv/rent_cleaned.csv'))         # (2831, 4)\n",
    "df_poll = pd.read_csv(os.path.join(path, 'csv/pollution_summary.csv'))    # (845, 20)\n",
    "df_lat_lon = pd.read_excel(os.path.join(path, 'csv/uscities.xlsx'))       # (28338, 17)"
   ]
  },
  {
   "cell_type": "code",
   "execution_count": 3,
   "metadata": {},
   "outputs": [],
   "source": [
    "# replace 'State_Id' in df_census so it matches the other columns\n",
    "df_census.rename(columns = {'State_Id':'State'}, inplace = True)\n",
    "df_lat_lon.rename(columns = {'state_id':'State','city': 'City'}, inplace = True)\n",
    "df_lat_lon = df_lat_lon[['City', 'State', 'lat', 'lng']]"
   ]
  },
  {
   "cell_type": "code",
   "execution_count": 4,
   "metadata": {},
   "outputs": [
    {
     "output_type": "stream",
     "name": "stdout",
     "text": [
      "Aaronsburg\nPA\nAnchorage\nAK\nAleutians East\nAK\nAnchorage\nAK\nAdak\nAK\n"
     ]
    }
   ],
   "source": [
    "# put all the dfs in a list\n",
    "df_lst = [df_census, df_crime, df_rent, df_poll, df_lat_lon]\n",
    "\n",
    "# remove whitespace in all the dfs\n",
    "for x in df_lst:\n",
    "    x['City'] = x['City'].str.strip()\n",
    "    x['State'] = x['State'].str.strip()\n",
    "\n",
    "# make sure it worked    \n",
    "for x in df_lst:\n",
    "    print(x['City'][0])\n",
    "    print(x['State'][0])"
   ]
  },
  {
   "cell_type": "code",
   "execution_count": 6,
   "metadata": {
    "scrolled": false
   },
   "outputs": [
    {
     "output_type": "stream",
     "name": "stdout",
     "text": [
      "(6867, 51)\n(769, 53)\n(432, 71)\n(426, 73)\n"
     ]
    }
   ],
   "source": [
    "# merging the data and following its shape sequentially\n",
    "df_net = pd.merge(df_census, df_crime, on=['City', 'State'])\n",
    "print(df_net.shape)\n",
    "df_net2 = pd.merge(df_net, df_rent, on=['City', 'State'])\n",
    "print(df_net2.shape)\n",
    "df_net3 = pd.merge(df_net2, df_poll, on=['City', 'State'])\n",
    "print(df_net3.shape)\n",
    "df_net4 = pd.merge(df_net3, df_lat_lon, on=['City', 'State'])\n",
    "print(df_net4.shape)"
   ]
  },
  {
   "source": [
    "## CLEANUP"
   ],
   "cell_type": "markdown",
   "metadata": {}
  },
  {
   "source": [
    "### Update Crime Ratings \n",
    "- comparison is across fewer cities. \n",
    "- run pd.qcut again"
   ],
   "cell_type": "markdown",
   "metadata": {}
  },
  {
   "cell_type": "code",
   "execution_count": 7,
   "metadata": {},
   "outputs": [
    {
     "output_type": "execute_result",
     "data": {
      "text/plain": [
       "High      334\n",
       "Medium     84\n",
       "Low         8\n",
       "Name: Crime Rating, dtype: int64"
      ]
     },
     "metadata": {},
     "execution_count": 7
    }
   ],
   "source": [
    "df_net4['Crime Rating'].value_counts()"
   ]
  },
  {
   "source": [
    "crime rating skews very high because after the merging there were only a little over 400 cities versus the 8000 cities reported in the FBI crime data. "
   ],
   "cell_type": "markdown",
   "metadata": {}
  },
  {
   "cell_type": "code",
   "execution_count": 8,
   "metadata": {},
   "outputs": [],
   "source": [
    "# dropping old crime rating column\n",
    "df_net4 = df_net4.drop(columns = ['Crime Rating'])"
   ]
  },
  {
   "cell_type": "code",
   "execution_count": 9,
   "metadata": {},
   "outputs": [],
   "source": [
    "# Create a new crime rating by using qcut() on the number of merged cities we have\n",
    "df_net4['Crime Rating'] = pd.qcut(df_net4['Crime Rate (per 1000 residents)'], q=3, labels=['Low', 'Medium', 'High'])"
   ]
  },
  {
   "cell_type": "code",
   "execution_count": 10,
   "metadata": {},
   "outputs": [
    {
     "output_type": "execute_result",
     "data": {
      "text/plain": [
       "High      142\n",
       "Medium    142\n",
       "Low       142\n",
       "Name: Crime Rating, dtype: int64"
      ]
     },
     "metadata": {},
     "execution_count": 10
    }
   ],
   "source": [
    "df_net4['Crime Rating'].value_counts()"
   ]
  },
  {
   "source": [
    "### Clean Columns"
   ],
   "cell_type": "markdown",
   "metadata": {}
  },
  {
   "cell_type": "code",
   "execution_count": 11,
   "metadata": {},
   "outputs": [],
   "source": [
    "col = [\"Poverty\", \"ChildPoverty\", \"Unemployment\", \"Professional\", \"Office\", \"Service\", \"Construction\", \"Production\"]\n",
    "df_net4[col] = df_net4[col].round(2)"
   ]
  },
  {
   "source": [
    "### Reorder Columns"
   ],
   "cell_type": "markdown",
   "metadata": {}
  },
  {
   "cell_type": "code",
   "execution_count": 12,
   "metadata": {},
   "outputs": [
    {
     "output_type": "execute_result",
     "data": {
      "text/plain": [
       "Index(['TractId', 'City', 'State', 'TotalPop', 'Men', 'Women', 'Hispanic',\n",
       "       'White', 'Black', 'Native', 'Asian', 'Pacific', 'VotingAgeCitizen',\n",
       "       'Income', 'IncomeErr', 'IncomePerCap', 'IncomePerCapErr', 'Poverty',\n",
       "       'ChildPoverty', 'Professional', 'Service', 'Office', 'Construction',\n",
       "       'Production', 'Drive', 'Carpool', 'Transit', 'Walk', 'OtherTransp',\n",
       "       'WorkAtHome', 'MeanCommute', 'Employed', 'PrivateWork', 'PublicWork',\n",
       "       'SelfEmployed', 'FamilyWork', 'Unemployment', 'Unnamed: 0_x',\n",
       "       'Population', 'Violent crime', 'Murder and nonnegligent manslaughter',\n",
       "       'Rape', 'Robbery', 'Aggravated assault', 'Property crime', 'Burglary',\n",
       "       'Larceny- theft', 'Motor vehicle theft', 'Arson',\n",
       "       'Crime Rate (per 1000 residents)', 'Unnamed: 0_y', 'Rent', 'Year',\n",
       "       'Days with AQI', 'Good Days', 'Moderate Days',\n",
       "       'Unhealthy for Sensitive Groups Days', 'Unhealthy Days',\n",
       "       'Very Unhealthy Days', 'Hazardous Days', 'Max AQI',\n",
       "       '90th Percentile AQI', 'Median AQI', 'Days CO', 'Days NO2',\n",
       "       'Days Ozone', 'Days SO2', 'Days PM2.5', 'Days PM10', 'Level of Concern',\n",
       "       'lat', 'lng', 'Crime Rating'],\n",
       "      dtype='object')"
      ]
     },
     "metadata": {},
     "execution_count": 12
    }
   ],
   "source": [
    "df_net4.columns"
   ]
  },
  {
   "cell_type": "code",
   "execution_count": 13,
   "metadata": {},
   "outputs": [],
   "source": [
    "df_net4 = df_net4[[ \n",
    "    'City', 'State', \n",
    "    'lat', 'lng',\n",
    "    'TotalPop', 'Men', 'Women', 'Hispanic', 'White',\n",
    "    'Black', 'Native', 'Asian', 'Pacific', 'Income', 'IncomeErr','IncomePerCap', \n",
    "    'IncomePerCapErr', 'Poverty', 'ChildPoverty', 'Employed', 'Unemployment', \n",
    "    'PrivateWork', 'PublicWork', 'SelfEmployed', 'FamilyWork', 'Professional', \n",
    "    'Service', 'Office', 'Construction', 'Production', 'Drive', 'Carpool', \n",
    "    'Transit', 'Walk', 'OtherTransp', 'WorkAtHome', 'MeanCommute', \n",
    "    'Rent', 'Year',\n",
    "    'Population','Violent crime', 'Murder and nonnegligent manslaughter', 'Rape',\n",
    "    'Robbery', 'Aggravated assault', 'Property crime', 'Burglary','Larceny- theft', \n",
    "    'Motor vehicle theft', 'Arson', 'Crime Rate (per 1000 residents)', 'Crime Rating',\n",
    "    'Days with AQI', 'Good Days', 'Moderate Days', 'Unhealthy for Sensitive Groups Days', \n",
    "    'Unhealthy Days', 'Very Unhealthy Days', 'Hazardous Days', 'Max AQI', \n",
    "    '90th Percentile AQI', 'Median AQI', 'Days CO', 'Days NO2', 'Days Ozone', 'Days SO2', \n",
    "    'Days PM2.5', 'Days PM10', 'Level of Concern',\n",
    "    ]]"
   ]
  },
  {
   "cell_type": "code",
   "execution_count": 14,
   "metadata": {},
   "outputs": [],
   "source": [
    "df_net4.rename(columns = {'Level of Concern':'Air Quality Index',\n",
    "                         'Crime Rate (per 1000 residents)': 'Crime Rate per 1000',\n",
    "                          'lng': 'lon'}, inplace = True)"
   ]
  },
  {
   "source": [
    "### Drop Duplicates"
   ],
   "cell_type": "markdown",
   "metadata": {}
  },
  {
   "cell_type": "code",
   "execution_count": 15,
   "metadata": {},
   "outputs": [
    {
     "output_type": "execute_result",
     "data": {
      "text/plain": [
       "9                  16             631        88             528   \n",
       "387       58                 271            3206       439            2597   \n",
       "388       58                 271            3206       439            2597   \n",
       "400       68                 104            1478       431             941   \n",
       "401        0                  24              83        27              51   \n",
       "402        1                  56             134        12             119   \n",
       "403        1                  56             134        12             119   \n",
       "414      461                3588           20759      2677           15777   \n",
       "415      461                3588           20759      2677           15777   \n",
       "\n",
       "     Motor vehicle theft  Arson  Crime Rate per 1000 Crime Rating  \\\n",
       "24                  3028    103                41.11       Medium   \n",
       "25                  3028    103                41.11       Medium   \n",
       "34                    71     11                34.25       Medium   \n",
       "35                     8      0                17.26          Low   \n",
       "51                    71      3                35.24       Medium   \n",
       "52                    71      3                35.24       Medium   \n",
       "53                    71      3                35.24       Medium   \n",
       "54                    71      3                35.24       Medium   \n",
       "88                    98      8                32.17       Medium   \n",
       "89                    98      8                32.17       Medium   \n",
       "98                   240     10                51.94         High   \n",
       "99                     8      0                25.33          Low   \n",
       "102                 1313     53                48.03         High   \n",
       "103                 1313     53                48.03         High   \n",
       "127                  207     25                34.34       Medium   \n",
       "128                   82      9                41.53         High   \n",
       "137                   54      3                12.74          Low   \n",
       "138                   54      3                12.74          Low   \n",
       "167                13098    485                53.92         High   \n",
       "168                13098    485                53.92         High   \n",
       "174                  195     15                46.67         High   \n",
       "175                  195     15                46.67         High   \n",
       "183                  329     44                58.92         High   \n",
       "184                   80      4                31.12       Medium   \n",
       "198                    0      0                 1.12          Low   \n",
       "199                   28      0                21.19          Low   \n",
       "200                  367     21                39.24       Medium   \n",
       "201                   36      3                61.61         High   \n",
       "207                   89      3                48.98         High   \n",
       "208                   89      3                48.98         High   \n",
       "213                  454      0                31.34       Medium   \n",
       "214                  454      0                31.34       Medium   \n",
       "250                  130     11                43.06         High   \n",
       "251                   21      0                30.05       Medium   \n",
       "264                  111     25                47.58         High   \n",
       "265                    9      1                27.14          Low   \n",
       "308                  854     44                39.62       Medium   \n",
       "309                  854     44                39.62       Medium   \n",
       "321                   21      6                31.73       Medium   \n",
       "322                    3      0                14.65          Low   \n",
       "356                 1279     45                66.09         High   \n",
       "357                  356      4                47.30         High   \n",
       "361                  251     49                55.54         High   \n",
       "362                   32      5                14.58          Low   \n",
       "363                    3      0                 8.89          Low   \n",
       "364                   15      2                45.83         High   \n",
       "387                  170      0                33.76       Medium   \n",
       "388                  170      0                33.76       Medium   \n",
       "400                  106      7                44.46         High   \n",
       "401                    5      2                20.70          Low   \n",
       "402                    3      0                21.43          Low   \n",
       "403                    3      0                21.43          Low   \n",
       "414                 2305    125                64.63         High   \n",
       "415                 2305    125                64.63         High   \n",
       "\n",
       "     Days with AQI  Good Days  Moderate Days  \\\n",
       "24             183        135             47   \n",
       "25             183        135             47   \n",
       "34              99         90              6   \n",
       "35              99         90              6   \n",
       "51             192        174             16   \n",
       "52             192        174             16   \n",
       "53             192        174             16   \n",
       "54             192        174             16   \n",
       "88             275        207             66   \n",
       "89             275        207             66   \n",
       "98             182        160             22   \n",
       "99             182        160             22   \n",
       "102            305        263             40   \n",
       "103            305        263             40   \n",
       "127            182        161             20   \n",
       "128            182        161             20   \n",
       "137            213        177             35   \n",
       "138            213        177             35   \n",
       "167            183         84             89   \n",
       "168            183         84             89   \n",
       "174            176        172              3   \n",
       "175            176        172              3   \n",
       "183            181        159             18   \n",
       "184            181        159             18   \n",
       "198            244        179             63   \n",
       "199            244        179             63   \n",
       "200            182        164             18   \n",
       "201            182        164             18   \n",
       "207            274        250             24   \n",
       "208            274        250             24   \n",
       "213            244        237              7   \n",
       "214            244        237              7   \n",
       "250            124        106             14   \n",
       "251            124        106             14   \n",
       "264            275        234             39   \n",
       "265            275        234             39   \n",
       "308            276        262             14   \n",
       "309            276        262             14   \n",
       "321            183        163             20   \n",
       "322            183        163             20   \n",
       "356            244        193             51   \n",
       "357            244        193             51   \n",
       "361            274        224             49   \n",
       "362            274        224             49   \n",
       "363            274        224             49   \n",
       "364            274        224             49   \n",
       "387            182        172             10   \n",
       "388            182        172             10   \n",
       "400            274        227             43   \n",
       "401            274        227             43   \n",
       "402            242        241              1   \n",
       "403            274        227             43   \n",
       "414            182        144             34   \n",
       "415            182        144             34   \n",
       "\n",
       "     Unhealthy for Sensitive Groups Days  Unhealthy Days  Very Unhealthy Days  \\\n",
       "24                                     0               1                    0   \n",
       "25                                     0               1                    0   \n",
       "34                                     3               0                    0   \n",
       "35                                     3               0                    0   \n",
       "51                                     2               0                    0   \n",
       "52                                     2               0                    0   \n",
       "53                                     2               0                    0   \n",
       "54                                     2               0                    0   \n",
       "88                                     2               0                    0   \n",
       "89                                     2               0                    0   \n",
       "98                                     0               0                    0   \n",
       "99                                     0               0                    0   \n",
       "102                                    0               2                    0   \n",
       "103                                    0               2                    0   \n",
       "127                                    1               0                    0   \n",
       "128                                    1               0                    0   \n",
       "137                                    1               0                    0   \n",
       "138                                    1               0                    0   \n",
       "167                                    8               2                    0   \n",
       "168                                    8               2                    0   \n",
       "174                                    1               0                    0   \n",
       "175                                    1               0                    0   \n",
       "183                                    4               0                    0   \n",
       "184                                    4               0                    0   \n",
       "198                                    2               0                    0   \n",
       "199                                    2               0                    0   \n",
       "200                                    0               0                    0   \n",
       "201                                    0               0                    0   \n",
       "207                                    0               0                    0   \n",
       "208                                    0               0                    0   \n",
       "213                                    0               0                    0   \n",
       "214                                    0               0                    0   \n",
       "250                                    4               0                    0   \n",
       "251                                    4               0                    0   \n",
       "264                                    0               2                    0   \n",
       "265                                    0               2                    0   \n",
       "308                                    0               0                    0   \n",
       "309                                    0               0                    0   \n",
       "321                                    0               0                    0   \n",
       "322                                    0               0                    0   \n",
       "356                                    0               0                    0   \n",
       "357                                    0               0                    0   \n",
       "361                                    1               0                    0   \n",
       "362                                    1               0                    0   \n",
       "363                                    1               0                    0   \n",
       "364                                    1               0                    0   \n",
       "387                                    0               0                    0   \n",
       "388                                    0               0                    0   \n",
       "400                                    3               1                    0   \n",
       "401                                    3               1                    0   \n",
       "402                                    0               0                    0   \n",
       "403                                    3               1                    0   \n",
       "414                                    4               0                    0   \n",
       "415                                    4               0                    0   \n",
       "\n",
       "     Hazardous Days  Max AQI  90th Percentile AQI  Median AQI  Days CO  \\\n",
       "24                0      153                   59          44        1   \n",
       "25                0      153                   59          44        1   \n",
       "34                0      105                   50          40        0   \n",
       "35                0      105                   50          40        0   \n",
       "51                0      109                   50          38        0   \n",
       "52                0      109                   50          38        0   \n",
       "53                0      109                   50          38        0   \n",
       "54                0      109                   50          38        0   \n",
       "88                0      132                   59          42        1   \n",
       "89                0      132                   59          42        1   \n",
       "98                0       77                   53          42        0   \n",
       "99                0       77                   53          42        0   \n",
       "102               0      186                   54          36        0   \n",
       "103               0      186                   54          36        0   \n",
       "127               0      126                   51          38        0   \n",
       "128               0      126                   51          38        0   \n",
       "137               0      121                   56          41        0   \n",
       "138               0      121                   56          41        0   \n",
       "167               0      179                   90          53        1   \n",
       "168               0      179                   90          53        1   \n",
       "174               0      108                   35          22        0   \n",
       "175               0      108                   35          22        0   \n",
       "183               0      115                   54          39        0   \n",
       "184               0      115                   54          39        0   \n",
       "198               0      105                   60          42        0   \n",
       "199               0      105                   60          42        0   \n",
       "200               0       90                   50          36        0   \n",
       "201               0       90                   50          36        0   \n",
       "207               0       94                   49          38        0   \n",
       "208               0       94                   49          38        0   \n",
       "213               0       74                   45          32        0   \n",
       "214               0       74                   45          32        0   \n",
       "250               0      143                   64          39        0   \n",
       "251               0      143                   64          39        0   \n",
       "264               0      155                   54          38        1   \n",
       "265               0      155                   54          38        1   \n",
       "308               0       71                   48          38        1   \n",
       "309               0       71                   48          38        1   \n",
       "321               0       81                   51          39        1   \n",
       "322               0       81                   51          39        1   \n",
       "356               0       87                   56          37        0   \n",
       "357               0       87                   56          37        0   \n",
       "361               0      108                   58          40        0   \n",
       "362               0      108                   58          40        0   \n",
       "363               0      108                   58          40        0   \n",
       "364               0      108                   58          40        0   \n",
       "387               0       84                   48          36        0   \n",
       "388               0       84                   48          36        0   \n",
       "400               0      153                   58          41        0   \n",
       "401               0      153                   58          41        0   \n",
       "402               0       65                   23           9        0   \n",
       "403               0      153                   58          41        0   \n",
       "414               0      117                   60          41        0   \n",
       "415               0      117                   60          41        0   \n",
       "\n",
       "     Days NO2  Days Ozone  Days SO2  Days PM2.5  Days PM10 Air Quality Index  \n",
       "24          3          85         0          94          0              Good  \n",
       "25          3          85         0          94          0              Good  \n",
       "34          0          99         0           0          0              Good  \n",
       "35          0          99         0           0          0              Good  \n",
       "51          0          99        46          47          0              Good  \n",
       "52          0          99        46          47          0              Good  \n",
       "53          0          99        46          47          0              Good  \n",
       "54          0          99        46          47          0              Good  \n",
       "88          4         138         0         132          0              Good  \n",
       "89          4         138         0         132          0              Good  \n",
       "98          0         115         0          67          0              Good  \n",
       "99          0         115         0          67          0              Good  \n",
       "102         6         187         0         112          0              Good  \n",
       "103         6         187         0         112          0              Good  \n",
       "127         0         128         0          54          0              Good  \n",
       "128         0         128         0          54          0              Good  \n",
       "137        12          85         0         116          0              Good  \n",
       "138        12          85         0         116          0              Good  \n",
       "167         6          89         0          86          1          Moderate  \n",
       "168         6          89         0          86          1          Moderate  \n",
       "174         0           0         0         176          0              Good  \n",
       "175         0           0         0         176          0              Good  \n",
       "183         0         122         0          59          0              Good  \n",
       "184         0         122         0          59          0              Good  \n",
       "198         0         116         0         126          2              Good  \n",
       "199         0         116         0         126          2              Good  \n",
       "200         3         138         0          41          0              Good  \n",
       "201         3         138         0          41          0              Good  \n",
       "207         0         153         0         120          1              Good  \n",
       "208         0         153         0         120          1              Good  \n",
       "213         0         171        44          29          0              Good  \n",
       "214         0         171        44          29          0              Good  \n",
       "250         0         124         0           0          0              Good  \n",
       "251         0         124         0           0          0              Good  \n",
       "264         4         217         1          52          0              Good  \n",
       "265         4         217         1          52          0              Good  \n",
       "308        17         210         0          47          1              Good  \n",
       "309        17         210         0          47          1              Good  \n",
       "321         0         137         0          45          0              Good  \n",
       "322         0         137         0          45          0              Good  \n",
       "356         0         104         0         127         13              Good  \n",
       "357         0         104         0         127         13              Good  \n",
       "361         0         183        22          69          0              Good  \n",
       "362         0         183        22          69          0              Good  \n",
       "363         0         183        22          69          0              Good  \n",
       "364         0         183        22          69          0              Good  \n",
       "387         2         180         0           0          0              Good  \n",
       "388         2         180         0           0          0              Good  \n",
       "400         0         190         0          84          0              Good  \n",
       "401         0         190         0          84          0              Good  \n",
       "402         0           0       242           0          0              Good  \n",
       "403         0         190         0          84          0              Good  \n",
       "414         1         131         0          49          1              Good  \n",
       "415         1         131         0          49          1              Good  "
      ],
      "text/html": "<div>\n<style scoped>\n    .dataframe tbody tr th:only-of-type {\n        vertical-align: middle;\n    }\n\n    .dataframe tbody tr th {\n        vertical-align: top;\n    }\n\n    .dataframe thead th {\n        text-align: right;\n    }\n</style>\n<table border=\"1\" class=\"dataframe\">\n  <thead>\n    <tr style=\"text-align: right;\">\n      <th></th>\n      <th>City</th>\n      <th>State</th>\n      <th>lat</th>\n      <th>lon</th>\n      <th>TotalPop</th>\n      <th>Men</th>\n      <th>Women</th>\n      <th>Hispanic</th>\n      <th>White</th>\n      <th>Black</th>\n      <th>Native</th>\n      <th>Asian</th>\n      <th>Pacific</th>\n      <th>Income</th>\n      <th>IncomeErr</th>\n      <th>IncomePerCap</th>\n      <th>IncomePerCapErr</th>\n      <th>Poverty</th>\n      <th>ChildPoverty</th>\n      <th>Employed</th>\n      <th>Unemployment</th>\n      <th>PrivateWork</th>\n      <th>PublicWork</th>\n      <th>SelfEmployed</th>\n      <th>FamilyWork</th>\n      <th>Professional</th>\n      <th>Service</th>\n      <th>Office</th>\n      <th>Construction</th>\n      <th>Production</th>\n      <th>Drive</th>\n      <th>Carpool</th>\n      <th>Transit</th>\n      <th>Walk</th>\n      <th>OtherTransp</th>\n      <th>WorkAtHome</th>\n      <th>MeanCommute</th>\n      <th>Rent</th>\n      <th>Year</th>\n      <th>Population</th>\n      <th>Violent crime</th>\n      <th>Murder and nonnegligent manslaughter</th>\n      <th>Rape</th>\n      <th>Robbery</th>\n      <th>Aggravated assault</th>\n      <th>Property crime</th>\n      <th>Burglary</th>\n      <th>Larceny- theft</th>\n      <th>Motor vehicle theft</th>\n      <th>Arson</th>\n      <th>Crime Rate per 1000</th>\n      <th>Crime Rating</th>\n      <th>Days with AQI</th>\n      <th>Good Days</th>\n      <th>Moderate Days</th>\n      <th>Unhealthy for Sensitive Groups Days</th>\n      <th>Unhealthy Days</th>\n      <th>Very Unhealthy Days</th>\n      <th>Hazardous Days</th>\n      <th>Max AQI</th>\n      <th>90th Percentile AQI</th>\n      <th>Median AQI</th>\n      <th>Days CO</th>\n      <th>Days NO2</th>\n      <th>Days Ozone</th>\n      <th>Days SO2</th>\n      <th>Days PM2.5</th>\n      <th>Days PM10</th>\n      <th>Air Quality Index</th>\n    </tr>\n  </thead>\n  <tbody>\n    <tr>\n      <th>24</th>\n      <td>Austin</td>\n      <td>TX</td>\n      <td>30.3004</td>\n      <td>-97.7522</td>\n      <td>1038282</td>\n      <td>524260</td>\n      <td>513917</td>\n      <td>32.5</td>\n      <td>51.0</td>\n      <td>6.8</td>\n      <td>0.2</td>\n      <td>6.9</td>\n      <td>0.0</td>\n      <td>14813195</td>\n      <td>2212708</td>\n      <td>8195920</td>\n      <td>1120821</td>\n      <td>14.4</td>\n      <td>18.2</td>\n      <td>579384</td>\n      <td>4.4</td>\n      <td>78.2</td>\n      <td>14.3</td>\n      <td>7.4</td>\n      <td>0.1</td>\n      <td>48.7</td>\n      <td>15.4</td>\n      <td>22.1</td>\n      <td>7.5</td>\n      <td>6.2</td>\n      <td>74.2</td>\n      <td>9.2</td>\n      <td>3.5</td>\n      <td>2.0</td>\n      <td>2.4</td>\n      <td>8.6</td>\n      <td>24.9</td>\n      <td>1549</td>\n      <td>2020</td>\n      <td>986062</td>\n      <td>3953</td>\n      <td>32</td>\n      <td>534</td>\n      <td>971</td>\n      <td>2416</td>\n      <td>36588</td>\n      <td>4344</td>\n      <td>29216</td>\n      <td>3028</td>\n      <td>103</td>\n      <td>41.11</td>\n      <td>Medium</td>\n      <td>183</td>\n      <td>135</td>\n      <td>47</td>\n      <td>0</td>\n      <td>1</td>\n      <td>0</td>\n      <td>0</td>\n      <td>153</td>\n      <td>59</td>\n      <td>44</td>\n      <td>1</td>\n      <td>3</td>\n      <td>85</td>\n      <td>0</td>\n      <td>94</td>\n      <td>0</td>\n      <td>Good</td>\n    </tr>\n    <tr>\n      <th>25</th>\n      <td>Austin</td>\n      <td>TX</td>\n      <td>30.3004</td>\n      <td>-97.7522</td>\n      <td>1038282</td>\n      <td>524260</td>\n      <td>513917</td>\n      <td>32.5</td>\n      <td>51.0</td>\n      <td>6.8</td>\n      <td>0.2</td>\n      <td>6.9</td>\n      <td>0.0</td>\n      <td>14813195</td>\n      <td>2212708</td>\n      <td>8195920</td>\n      <td>1120821</td>\n      <td>14.4</td>\n      <td>18.2</td>\n      <td>579384</td>\n      <td>4.4</td>\n      <td>78.2</td>\n      <td>14.3</td>\n      <td>7.4</td>\n      <td>0.1</td>\n      <td>48.7</td>\n      <td>15.4</td>\n      <td>22.1</td>\n      <td>7.5</td>\n      <td>6.2</td>\n      <td>74.2</td>\n      <td>9.2</td>\n      <td>3.5</td>\n      <td>2.0</td>\n      <td>2.4</td>\n      <td>8.6</td>\n      <td>24.9</td>\n      <td>1046</td>\n      <td>2020</td>\n      <td>986062</td>\n      <td>3953</td>\n      <td>32</td>\n      <td>534</td>\n      <td>971</td>\n      <td>2416</td>\n      <td>36588</td>\n      <td>4344</td>\n      <td>29216</td>\n      <td>3028</td>\n      <td>103</td>\n      <td>41.11</td>\n      <td>Medium</td>\n      <td>183</td>\n      <td>135</td>\n      <td>47</td>\n      <td>0</td>\n      <td>1</td>\n      <td>0</td>\n      <td>0</td>\n      <td>153</td>\n      <td>59</td>\n      <td>44</td>\n      <td>1</td>\n      <td>3</td>\n      <td>85</td>\n      <td>0</td>\n      <td>94</td>\n      <td>0</td>\n      <td>Good</td>\n    </tr>\n    <tr>\n      <th>34</th>\n      <td>Beloit</td>\n      <td>WI</td>\n      <td>42.5230</td>\n      <td>-89.0184</td>\n      <td>47855</td>\n      <td>23079</td>\n      <td>24771</td>\n      <td>16.1</td>\n      <td>67.4</td>\n      <td>10.9</td>\n      <td>0.2</td>\n      <td>1.3</td>\n      <td>0.0</td>\n      <td>605389</td>\n      <td>95152</td>\n      <td>297632</td>\n      <td>35064</td>\n      <td>21.9</td>\n      <td>33.4</td>\n      <td>20773</td>\n      <td>9.2</td>\n      <td>85.1</td>\n      <td>10.7</td>\n      <td>4.0</td>\n      <td>0.1</td>\n      <td>24.2</td>\n      <td>17.8</td>\n      <td>22.8</td>\n      <td>7.7</td>\n      <td>27.3</td>\n      <td>81.9</td>\n      <td>10.4</td>\n      <td>0.4</td>\n      <td>2.3</td>\n      <td>1.8</td>\n      <td>2.9</td>\n      <td>21.9</td>\n      <td>907</td>\n      <td>2020</td>\n      <td>37025</td>\n      <td>154</td>\n      <td>4</td>\n      <td>19</td>\n      <td>31</td>\n      <td>100</td>\n      <td>1114</td>\n      <td>122</td>\n      <td>921</td>\n      <td>71</td>\n      <td>11</td>\n      <td>34.25</td>\n      <td>Medium</td>\n      <td>99</td>\n      <td>90</td>\n      <td>6</td>\n      <td>3</td>\n      <td>0</td>\n      <td>0</td>\n      <td>0</td>\n      <td>105</td>\n      <td>50</td>\n      <td>40</td>\n      <td>0</td>\n      <td>0</td>\n      <td>99</td>\n      <td>0</td>\n      <td>0</td>\n      <td>0</td>\n      <td>Good</td>\n    </tr>\n    <tr>\n      <th>35</th>\n      <td>Beloit</td>\n      <td>WI</td>\n      <td>42.5230</td>\n      <td>-89.0184</td>\n      <td>47855</td>\n      <td>23079</td>\n      <td>24771</td>\n      <td>16.1</td>\n      <td>67.4</td>\n      <td>10.9</td>\n      <td>0.2</td>\n      <td>1.3</td>\n      <td>0.0</td>\n      <td>605389</td>\n      <td>95152</td>\n      <td>297632</td>\n      <td>35064</td>\n      <td>21.9</td>\n      <td>33.4</td>\n      <td>20773</td>\n      <td>9.2</td>\n      <td>85.1</td>\n      <td>10.7</td>\n      <td>4.0</td>\n      <td>0.1</td>\n      <td>24.2</td>\n      <td>17.8</td>\n      <td>22.8</td>\n      <td>7.7</td>\n      <td>27.3</td>\n      <td>81.9</td>\n      <td>10.4</td>\n      <td>0.4</td>\n      <td>2.3</td>\n      <td>1.8</td>\n      <td>2.9</td>\n      <td>21.9</td>\n      <td>907</td>\n      <td>2020</td>\n      <td>7707</td>\n      <td>7</td>\n      <td>0</td>\n      <td>2</td>\n      <td>2</td>\n      <td>3</td>\n      <td>126</td>\n      <td>23</td>\n      <td>95</td>\n      <td>8</td>\n      <td>0</td>\n      <td>17.26</td>\n      <td>Low</td>\n      <td>99</td>\n      <td>90</td>\n      <td>6</td>\n      <td>3</td>\n      <td>0</td>\n      <td>0</td>\n      <td>0</td>\n      <td>105</td>\n      <td>50</td>\n      <td>40</td>\n      <td>0</td>\n      <td>0</td>\n      <td>99</td>\n      <td>0</td>\n      <td>0</td>\n      <td>0</td>\n      <td>Good</td>\n    </tr>\n    <tr>\n      <th>51</th>\n      <td>Bristol</td>\n      <td>TN</td>\n      <td>36.5572</td>\n      <td>-82.2154</td>\n      <td>36467</td>\n      <td>17658</td>\n      <td>18805</td>\n      <td>1.7</td>\n      <td>93.2</td>\n      <td>2.6</td>\n      <td>0.0</td>\n      <td>0.6</td>\n      <td>0.0</td>\n      <td>421324</td>\n      <td>64560</td>\n      <td>230059</td>\n      <td>27101</td>\n      <td>16.7</td>\n      <td>26.5</td>\n      <td>15667</td>\n      <td>7.0</td>\n      <td>80.3</td>\n      <td>11.7</td>\n      <td>7.7</td>\n      <td>0.2</td>\n      <td>32.8</td>\n      <td>18.0</td>\n      <td>26.5</td>\n      <td>8.1</td>\n      <td>14.3</td>\n      <td>85.5</td>\n      <td>8.5</td>\n      <td>0.5</td>\n      <td>0.9</td>\n      <td>1.1</td>\n      <td>3.3</td>\n      <td>22.5</td>\n      <td>704</td>\n      <td>2020</td>\n      <td>26900</td>\n      <td>135</td>\n      <td>1</td>\n      <td>15</td>\n      <td>12</td>\n      <td>107</td>\n      <td>813</td>\n      <td>138</td>\n      <td>604</td>\n      <td>71</td>\n      <td>3</td>\n      <td>35.24</td>\n      <td>Medium</td>\n      <td>192</td>\n      <td>174</td>\n      <td>16</td>\n      <td>2</td>\n      <td>0</td>\n      <td>0</td>\n      <td>0</td>\n      <td>109</td>\n      <td>50</td>\n      <td>38</td>\n      <td>0</td>\n      <td>0</td>\n      <td>99</td>\n      <td>46</td>\n      <td>47</td>\n      <td>0</td>\n      <td>Good</td>\n    </tr>\n    <tr>\n      <th>52</th>\n      <td>Bristol</td>\n      <td>TN</td>\n      <td>36.5572</td>\n      <td>-82.2154</td>\n      <td>36467</td>\n      <td>17658</td>\n      <td>18805</td>\n      <td>1.7</td>\n      <td>93.2</td>\n      <td>2.6</td>\n      <td>0.0</td>\n      <td>0.6</td>\n      <td>0.0</td>\n      <td>421324</td>\n      <td>64560</td>\n      <td>230059</td>\n      <td>27101</td>\n      <td>16.7</td>\n      <td>26.5</td>\n      <td>15667</td>\n      <td>7.0</td>\n      <td>80.3</td>\n      <td>11.7</td>\n      <td>7.7</td>\n      <td>0.2</td>\n      <td>32.8</td>\n      <td>18.0</td>\n      <td>26.5</td>\n      <td>8.1</td>\n      <td>14.3</td>\n      <td>85.5</td>\n      <td>8.5</td>\n      <td>0.5</td>\n      <td>0.9</td>\n      <td>1.1</td>\n      <td>3.3</td>\n      <td>22.5</td>\n      <td>704</td>\n      <td>2020</td>\n      <td>26900</td>\n      <td>135</td>\n      <td>1</td>\n      <td>15</td>\n      <td>12</td>\n      <td>107</td>\n      <td>813</td>\n      <td>138</td>\n      <td>604</td>\n      <td>71</td>\n      <td>3</td>\n      <td>35.24</td>\n      <td>Medium</td>\n      <td>192</td>\n      <td>174</td>\n      <td>16</td>\n      <td>2</td>\n      <td>0</td>\n      <td>0</td>\n      <td>0</td>\n      <td>109</td>\n      <td>50</td>\n      <td>38</td>\n      <td>0</td>\n      <td>0</td>\n      <td>99</td>\n      <td>46</td>\n      <td>47</td>\n      <td>0</td>\n      <td>Good</td>\n    </tr>\n    <tr>\n      <th>53</th>\n      <td>Bristol</td>\n      <td>TN</td>\n      <td>36.5572</td>\n      <td>-82.2154</td>\n      <td>36467</td>\n      <td>17658</td>\n      <td>18805</td>\n      <td>1.7</td>\n      <td>93.2</td>\n      <td>2.6</td>\n      <td>0.0</td>\n      <td>0.6</td>\n      <td>0.0</td>\n      <td>421324</td>\n      <td>64560</td>\n      <td>230059</td>\n      <td>27101</td>\n      <td>16.7</td>\n      <td>26.5</td>\n      <td>15667</td>\n      <td>7.0</td>\n      <td>80.3</td>\n      <td>11.7</td>\n      <td>7.7</td>\n      <td>0.2</td>\n      <td>32.8</td>\n      <td>18.0</td>\n      <td>26.5</td>\n      <td>8.1</td>\n      <td>14.3</td>\n      <td>85.5</td>\n      <td>8.5</td>\n      <td>0.5</td>\n      <td>0.9</td>\n      <td>1.1</td>\n      <td>3.3</td>\n      <td>22.5</td>\n      <td>704</td>\n      <td>2020</td>\n      <td>26900</td>\n      <td>135</td>\n      <td>1</td>\n      <td>15</td>\n      <td>12</td>\n      <td>107</td>\n      <td>813</td>\n      <td>138</td>\n      <td>604</td>\n      <td>71</td>\n      <td>3</td>\n      <td>35.24</td>\n      <td>Medium</td>\n      <td>192</td>\n      <td>174</td>\n      <td>16</td>\n      <td>2</td>\n      <td>0</td>\n      <td>0</td>\n      <td>0</td>\n      <td>109</td>\n      <td>50</td>\n      <td>38</td>\n      <td>0</td>\n      <td>0</td>\n      <td>99</td>\n      <td>46</td>\n      <td>47</td>\n      <td>0</td>\n      <td>Good</td>\n    </tr>\n    <tr>\n      <th>54</th>\n      <td>Bristol</td>\n      <td>TN</td>\n      <td>36.5572</td>\n      <td>-82.2154</td>\n      <td>36467</td>\n      <td>17658</td>\n      <td>18805</td>\n      <td>1.7</td>\n      <td>93.2</td>\n      <td>2.6</td>\n      <td>0.0</td>\n      <td>0.6</td>\n      <td>0.0</td>\n      <td>421324</td>\n      <td>64560</td>\n      <td>230059</td>\n      <td>27101</td>\n      <td>16.7</td>\n      <td>26.5</td>\n      <td>15667</td>\n      <td>7.0</td>\n      <td>80.3</td>\n      <td>11.7</td>\n      <td>7.7</td>\n      <td>0.2</td>\n      <td>32.8</td>\n      <td>18.0</td>\n      <td>26.5</td>\n      <td>8.1</td>\n      <td>14.3</td>\n      <td>85.5</td>\n      <td>8.5</td>\n      <td>0.5</td>\n      <td>0.9</td>\n      <td>1.1</td>\n      <td>3.3</td>\n      <td>22.5</td>\n      <td>704</td>\n      <td>2020</td>\n      <td>26900</td>\n      <td>135</td>\n      <td>1</td>\n      <td>15</td>\n      <td>12</td>\n      <td>107</td>\n      <td>813</td>\n      <td>138</td>\n      <td>604</td>\n      <td>71</td>\n      <td>3</td>\n      <td>35.24</td>\n      <td>Medium</td>\n      <td>192</td>\n      <td>174</td>\n      <td>16</td>\n      <td>2</td>\n      <td>0</td>\n      <td>0</td>\n      <td>0</td>\n      <td>109</td>\n      <td>50</td>\n      <td>38</td>\n      <td>0</td>\n      <td>0</td>\n      <td>99</td>\n      <td>46</td>\n      <td>47</td>\n      <td>0</td>\n      <td>Good</td>\n    </tr>\n    <tr>\n      <th>88</th>\n      <td>Conway</td>\n      <td>AR</td>\n      <td>35.0754</td>\n      <td>-92.4694</td>\n      <td>82433</td>\n      <td>40485</td>\n      <td>41936</td>\n      <td>4.6</td>\n      <td>76.2</td>\n      <td>14.6</td>\n      <td>0.2</td>\n      <td>1.8</td>\n      <td>0.0</td>\n      <td>835231</td>\n      <td>143736</td>\n      <td>419890</td>\n      <td>72869</td>\n      <td>17.1</td>\n      <td>17.7</td>\n      <td>40133</td>\n      <td>4.8</td>\n      <td>79.3</td>\n      <td>15.7</td>\n      <td>4.8</td>\n      <td>0.1</td>\n      <td>37.6</td>\n      <td>17.2</td>\n      <td>25.3</td>\n      <td>9.2</td>\n      <td>10.4</td>\n      <td>83.2</td>\n      <td>9.1</td>\n      <td>0.1</td>\n      <td>2.4</td>\n      <td>1.5</td>\n      <td>3.5</td>\n      <td>21.9</td>\n      <td>898</td>\n      <td>2020</td>\n      <td>67336</td>\n      <td>324</td>\n      <td>2</td>\n      <td>49</td>\n      <td>51</td>\n      <td>222</td>\n      <td>1842</td>\n      <td>177</td>\n      <td>1567</td>\n      <td>98</td>\n      <td>8</td>\n      <td>32.17</td>\n      <td>Medium</td>\n      <td>275</td>\n      <td>207</td>\n      <td>66</td>\n      <td>2</td>\n      <td>0</td>\n      <td>0</td>\n      <td>0</td>\n      <td>132</td>\n      <td>59</td>\n      <td>42</td>\n      <td>1</td>\n      <td>4</td>\n      <td>138</td>\n      <td>0</td>\n      <td>132</td>\n      <td>0</td>\n      <td>Good</td>\n    </tr>\n    <tr>\n      <th>89</th>\n      <td>Conway</td>\n      <td>AR</td>\n      <td>35.0754</td>\n      <td>-92.4694</td>\n      <td>82433</td>\n      <td>40485</td>\n      <td>41936</td>\n      <td>4.6</td>\n      <td>76.2</td>\n      <td>14.6</td>\n      <td>0.2</td>\n      <td>1.8</td>\n      <td>0.0</td>\n      <td>835231</td>\n      <td>143736</td>\n      <td>419890</td>\n      <td>72869</td>\n      <td>17.1</td>\n      <td>17.7</td>\n      <td>40133</td>\n      <td>4.8</td>\n      <td>79.3</td>\n      <td>15.7</td>\n      <td>4.8</td>\n      <td>0.1</td>\n      <td>37.6</td>\n      <td>17.2</td>\n      <td>25.3</td>\n      <td>9.2</td>\n      <td>10.4</td>\n      <td>83.2</td>\n      <td>9.1</td>\n      <td>0.1</td>\n      <td>2.4</td>\n      <td>1.5</td>\n      <td>3.5</td>\n      <td>21.9</td>\n      <td>703</td>\n      <td>2020</td>\n      <td>67336</td>\n      <td>324</td>\n      <td>2</td>\n      <td>49</td>\n      <td>51</td>\n      <td>222</td>\n      <td>1842</td>\n      <td>177</td>\n      <td>1567</td>\n      <td>98</td>\n      <td>8</td>\n      <td>32.17</td>\n      <td>Medium</td>\n      <td>275</td>\n      <td>207</td>\n      <td>66</td>\n      <td>2</td>\n      <td>0</td>\n      <td>0</td>\n      <td>0</td>\n      <td>132</td>\n      <td>59</td>\n      <td>42</td>\n      <td>1</td>\n      <td>4</td>\n      <td>138</td>\n      <td>0</td>\n      <td>132</td>\n      <td>0</td>\n      <td>Good</td>\n    </tr>\n    <tr>\n      <th>98</th>\n      <td>Daytona Beach</td>\n      <td>FL</td>\n      <td>29.1994</td>\n      <td>-81.0982</td>\n      <td>93228</td>\n      <td>45996</td>\n      <td>47220</td>\n      <td>7.0</td>\n      <td>62.2</td>\n      <td>25.3</td>\n      <td>0.2</td>\n      <td>2.4</td>\n      <td>0.1</td>\n      <td>990916</td>\n      <td>182751</td>\n      <td>654018</td>\n      <td>131599</td>\n      <td>24.8</td>\n      <td>33.1</td>\n      <td>37482</td>\n      <td>7.9</td>\n      <td>85.6</td>\n      <td>9.6</td>\n      <td>4.6</td>\n      <td>0.0</td>\n      <td>27.5</td>\n      <td>22.9</td>\n      <td>26.5</td>\n      <td>10.3</td>\n      <td>12.4</td>\n      <td>77.7</td>\n      <td>8.6</td>\n      <td>3.1</td>\n      <td>2.3</td>\n      <td>3.8</td>\n      <td>4.1</td>\n      <td>20.5</td>\n      <td>1110</td>\n      <td>2020</td>\n      <td>69834</td>\n      <td>794</td>\n      <td>13</td>\n      <td>18</td>\n      <td>109</td>\n      <td>654</td>\n      <td>2833</td>\n      <td>380</td>\n      <td>2213</td>\n      <td>240</td>\n      <td>10</td>\n      <td>51.94</td>\n      <td>High</td>\n      <td>182</td>\n      <td>160</td>\n      <td>22</td>\n      <td>0</td>\n      <td>0</td>\n      <td>0</td>\n      <td>0</td>\n      <td>77</td>\n      <td>53</td>\n      <td>42</td>\n      <td>0</td>\n      <td>0</td>\n      <td>115</td>\n      <td>0</td>\n      <td>67</td>\n      <td>0</td>\n      <td>Good</td>\n    </tr>\n    <tr>\n      <th>99</th>\n      <td>Daytona Beach</td>\n      <td>FL</td>\n      <td>29.1994</td>\n      <td>-81.0982</td>\n      <td>93228</td>\n      <td>45996</td>\n      <td>47220</td>\n      <td>7.0</td>\n      <td>62.2</td>\n      <td>25.3</td>\n      <td>0.2</td>\n      <td>2.4</td>\n      <td>0.1</td>\n      <td>990916</td>\n      <td>182751</td>\n      <td>654018</td>\n      <td>131599</td>\n      <td>24.8</td>\n      <td>33.1</td>\n      <td>37482</td>\n      <td>7.9</td>\n      <td>85.6</td>\n      <td>9.6</td>\n      <td>4.6</td>\n      <td>0.0</td>\n      <td>27.5</td>\n      <td>22.9</td>\n      <td>26.5</td>\n      <td>10.3</td>\n      <td>12.4</td>\n      <td>77.7</td>\n      <td>8.6</td>\n      <td>3.1</td>\n      <td>2.3</td>\n      <td>3.8</td>\n      <td>4.1</td>\n      <td>20.5</td>\n      <td>1110</td>\n      <td>2020</td>\n      <td>4579</td>\n      <td>9</td>\n      <td>0</td>\n      <td>0</td>\n      <td>2</td>\n      <td>7</td>\n      <td>107</td>\n      <td>19</td>\n      <td>80</td>\n      <td>8</td>\n      <td>0</td>\n      <td>25.33</td>\n      <td>Low</td>\n      <td>182</td>\n      <td>160</td>\n      <td>22</td>\n      <td>0</td>\n      <td>0</td>\n      <td>0</td>\n      <td>0</td>\n      <td>77</td>\n      <td>53</td>\n      <td>42</td>\n      <td>0</td>\n      <td>0</td>\n      <td>115</td>\n      <td>0</td>\n      <td>67</td>\n      <td>0</td>\n      <td>Good</td>\n    </tr>\n    <tr>\n      <th>102</th>\n      <td>Des Moines</td>\n      <td>IA</td>\n      <td>41.5725</td>\n      <td>-93.6105</td>\n      <td>220844</td>\n      <td>109609</td>\n      <td>111205</td>\n      <td>12.6</td>\n      <td>67.8</td>\n      <td>10.3</td>\n      <td>0.3</td>\n      <td>5.6</td>\n      <td>0.1</td>\n      <td>2955194</td>\n      <td>466643</td>\n      <td>1553474</td>\n      <td>215717</td>\n      <td>17.6</td>\n      <td>25.0</td>\n      <td>113536</td>\n      <td>6.7</td>\n      <td>85.2</td>\n      <td>10.4</td>\n      <td>4.2</td>\n      <td>0.1</td>\n      <td>30.8</td>\n      <td>20.4</td>\n      <td>25.3</td>\n      <td>8.8</td>\n      <td>14.4</td>\n      <td>80.9</td>\n      <td>9.7</td>\n      <td>2.0</td>\n      <td>2.8</td>\n      <td>1.3</td>\n      <td>3.0</td>\n      <td>18.8</td>\n      <td>957</td>\n      <td>2020</td>\n      <td>218384</td>\n      <td>1555</td>\n      <td>14</td>\n      <td>117</td>\n      <td>283</td>\n      <td>1141</td>\n      <td>8933</td>\n      <td>2284</td>\n      <td>5336</td>\n      <td>1313</td>\n      <td>53</td>\n      <td>48.03</td>\n      <td>High</td>\n      <td>305</td>\n      <td>263</td>\n      <td>40</td>\n      <td>0</td>\n      <td>2</td>\n      <td>0</td>\n      <td>0</td>\n      <td>186</td>\n      <td>54</td>\n      <td>36</td>\n      <td>0</td>\n      <td>6</td>\n      <td>187</td>\n      <td>0</td>\n      <td>112</td>\n      <td>0</td>\n      <td>Good</td>\n    </tr>\n    <tr>\n      <th>103</th>\n      <td>Des Moines</td>\n      <td>IA</td>\n      <td>41.5725</td>\n      <td>-93.6105</td>\n      <td>220844</td>\n      <td>109609</td>\n      <td>111205</td>\n      <td>12.6</td>\n      <td>67.8</td>\n      <td>10.3</td>\n      <td>0.3</td>\n      <td>5.6</td>\n      <td>0.1</td>\n      <td>2955194</td>\n      <td>466643</td>\n      <td>1553474</td>\n      <td>215717</td>\n      <td>17.6</td>\n      <td>25.0</td>\n      <td>113536</td>\n      <td>6.7</td>\n      <td>85.2</td>\n      <td>10.4</td>\n      <td>4.2</td>\n      <td>0.1</td>\n      <td>30.8</td>\n      <td>20.4</td>\n      <td>25.3</td>\n      <td>8.8</td>\n      <td>14.4</td>\n      <td>80.9</td>\n      <td>9.7</td>\n      <td>2.0</td>\n      <td>2.8</td>\n      <td>1.3</td>\n      <td>3.0</td>\n      <td>18.8</td>\n      <td>921</td>\n      <td>2020</td>\n      <td>218384</td>\n      <td>1555</td>\n      <td>14</td>\n      <td>117</td>\n      <td>283</td>\n      <td>1141</td>\n      <td>8933</td>\n      <td>2284</td>\n      <td>5336</td>\n      <td>1313</td>\n      <td>53</td>\n      <td>48.03</td>\n      <td>High</td>\n      <td>305</td>\n      <td>263</td>\n      <td>40</td>\n      <td>0</td>\n      <td>2</td>\n      <td>0</td>\n      <td>0</td>\n      <td>186</td>\n      <td>54</td>\n      <td>36</td>\n      <td>0</td>\n      <td>6</td>\n      <td>187</td>\n      <td>0</td>\n      <td>112</td>\n      <td>0</td>\n      <td>Good</td>\n    </tr>\n    <tr>\n      <th>127</th>\n      <td>Flint</td>\n      <td>MI</td>\n      <td>43.0235</td>\n      <td>-83.6922</td>\n      <td>155685</td>\n      <td>74873</td>\n      <td>80776</td>\n      <td>3.8</td>\n      <td>49.4</td>\n      <td>41.5</td>\n      <td>0.6</td>\n      <td>0.6</td>\n      <td>0.0</td>\n      <td>1755141</td>\n      <td>310558</td>\n      <td>1002264</td>\n      <td>183537</td>\n      <td>32.9</td>\n      <td>46.4</td>\n      <td>53482</td>\n      <td>17.8</td>\n      <td>85.9</td>\n      <td>9.3</td>\n      <td>4.4</td>\n      <td>0.1</td>\n      <td>23.3</td>\n      <td>24.2</td>\n      <td>24.6</td>\n      <td>8.0</td>\n      <td>19.3</td>\n      <td>80.6</td>\n      <td>10.8</td>\n      <td>2.9</td>\n      <td>1.8</td>\n      <td>0.7</td>\n      <td>2.7</td>\n      <td>23.2</td>\n      <td>833</td>\n      <td>2020</td>\n      <td>95212</td>\n      <td>1284</td>\n      <td>23</td>\n      <td>64</td>\n      <td>78</td>\n      <td>1119</td>\n      <td>1986</td>\n      <td>559</td>\n      <td>1220</td>\n      <td>207</td>\n      <td>25</td>\n      <td>34.34</td>\n      <td>Medium</td>\n      <td>182</td>\n      <td>161</td>\n      <td>20</td>\n      <td>1</td>\n      <td>0</td>\n      <td>0</td>\n      <td>0</td>\n      <td>126</td>\n      <td>51</td>\n      <td>38</td>\n      <td>0</td>\n      <td>0</td>\n      <td>128</td>\n      <td>0</td>\n      <td>54</td>\n      <td>0</td>\n      <td>Good</td>\n    </tr>\n    <tr>\n      <th>128</th>\n      <td>Flint</td>\n      <td>MI</td>\n      <td>43.0235</td>\n      <td>-83.6922</td>\n      <td>155685</td>\n      <td>74873</td>\n      <td>80776</td>\n      <td>3.8</td>\n      <td>49.4</td>\n      <td>41.5</td>\n      <td>0.6</td>\n      <td>0.6</td>\n      <td>0.0</td>\n      <td>1755141</td>\n      <td>310558</td>\n      <td>1002264</td>\n      <td>183537</td>\n      <td>32.9</td>\n      <td>46.4</td>\n      <td>53482</td>\n      <td>17.8</td>\n      <td>85.9</td>\n      <td>9.3</td>\n      <td>4.4</td>\n      <td>0.1</td>\n      <td>23.3</td>\n      <td>24.2</td>\n      <td>24.6</td>\n      <td>8.0</td>\n      <td>19.3</td>\n      <td>80.6</td>\n      <td>10.8</td>\n      <td>2.9</td>\n      <td>1.8</td>\n      <td>0.7</td>\n      <td>2.7</td>\n      <td>23.2</td>\n      <td>833</td>\n      <td>2020</td>\n      <td>30319</td>\n      <td>241</td>\n      <td>2</td>\n      <td>30</td>\n      <td>36</td>\n      <td>173</td>\n      <td>1018</td>\n      <td>0</td>\n      <td>936</td>\n      <td>82</td>\n      <td>9</td>\n      <td>41.53</td>\n      <td>High</td>\n      <td>182</td>\n      <td>161</td>\n      <td>20</td>\n      <td>1</td>\n      <td>0</td>\n      <td>0</td>\n      <td>0</td>\n      <td>126</td>\n      <td>51</td>\n      <td>38</td>\n      <td>0</td>\n      <td>0</td>\n      <td>128</td>\n      <td>0</td>\n      <td>54</td>\n      <td>0</td>\n      <td>Good</td>\n    </tr>\n    <tr>\n      <th>137</th>\n      <td>Franklin</td>\n      <td>TN</td>\n      <td>35.9216</td>\n      <td>-86.8525</td>\n      <td>101337</td>\n      <td>49176</td>\n      <td>52145</td>\n      <td>5.5</td>\n      <td>83.7</td>\n      <td>4.6</td>\n      <td>0.0</td>\n      <td>4.2</td>\n      <td>0.0</td>\n      <td>1947843</td>\n      <td>240356</td>\n      <td>885332</td>\n      <td>113502</td>\n      <td>5.9</td>\n      <td>8.3</td>\n      <td>52321</td>\n      <td>3.8</td>\n      <td>81.3</td>\n      <td>9.5</td>\n      <td>9.0</td>\n      <td>0.1</td>\n      <td>55.0</td>\n      <td>11.9</td>\n      <td>24.2</td>\n      <td>4.0</td>\n      <td>4.7</td>\n      <td>79.8</td>\n      <td>7.5</td>\n      <td>0.2</td>\n      <td>1.3</td>\n      <td>1.5</td>\n      <td>9.4</td>\n      <td>25.3</td>\n      <td>1293</td>\n      <td>2020</td>\n      <td>83517</td>\n      <td>138</td>\n      <td>0</td>\n      <td>15</td>\n      <td>10</td>\n      <td>113</td>\n      <td>926</td>\n      <td>58</td>\n      <td>814</td>\n      <td>54</td>\n      <td>3</td>\n      <td>12.74</td>\n      <td>Low</td>\n      <td>213</td>\n      <td>177</td>\n      <td>35</td>\n      <td>1</td>\n      <td>0</td>\n      <td>0</td>\n      <td>0</td>\n      <td>121</td>\n      <td>56</td>\n      <td>41</td>\n      <td>0</td>\n      <td>12</td>\n      <td>85</td>\n      <td>0</td>\n      <td>116</td>\n      <td>0</td>\n      <td>Good</td>\n    </tr>\n    <tr>\n      <th>138</th>\n      <td>Franklin</td>\n      <td>TN</td>\n      <td>35.9216</td>\n      <td>-86.8525</td>\n      <td>101337</td>\n      <td>49176</td>\n      <td>52145</td>\n      <td>5.5</td>\n      <td>83.7</td>\n      <td>4.6</td>\n      <td>0.0</td>\n      <td>4.2</td>\n      <td>0.0</td>\n      <td>1947843</td>\n      <td>240356</td>\n      <td>885332</td>\n      <td>113502</td>\n      <td>5.9</td>\n      <td>8.3</td>\n      <td>52321</td>\n      <td>3.8</td>\n      <td>81.3</td>\n      <td>9.5</td>\n      <td>9.0</td>\n      <td>0.1</td>\n      <td>55.0</td>\n      <td>11.9</td>\n      <td>24.2</td>\n      <td>4.0</td>\n      <td>4.7</td>\n      <td>79.8</td>\n      <td>7.5</td>\n      <td>0.2</td>\n      <td>1.3</td>\n      <td>1.5</td>\n      <td>9.4</td>\n      <td>25.3</td>\n      <td>678</td>\n      <td>2020</td>\n      <td>83517</td>\n      <td>138</td>\n      <td>0</td>\n      <td>15</td>\n      <td>10</td>\n      <td>113</td>\n      <td>926</td>\n      <td>58</td>\n      <td>814</td>\n      <td>54</td>\n      <td>3</td>\n      <td>12.74</td>\n      <td>Low</td>\n      <td>213</td>\n      <td>177</td>\n      <td>35</td>\n      <td>1</td>\n      <td>0</td>\n      <td>0</td>\n      <td>0</td>\n      <td>121</td>\n      <td>56</td>\n      <td>41</td>\n      <td>0</td>\n      <td>12</td>\n      <td>85</td>\n      <td>0</td>\n      <td>116</td>\n      <td>0</td>\n      <td>Good</td>\n    </tr>\n    <tr>\n      <th>167</th>\n      <td>Houston</td>\n      <td>TX</td>\n      <td>29.7863</td>\n      <td>-95.3889</td>\n      <td>3073190</td>\n      <td>1532240</td>\n      <td>1540692</td>\n      <td>45.2</td>\n      <td>23.7</td>\n      <td>21.7</td>\n      <td>0.1</td>\n      <td>7.6</td>\n      <td>0.0</td>\n      <td>33775328</td>\n      <td>5973385</td>\n      <td>18282133</td>\n      <td>2742408</td>\n      <td>19.6</td>\n      <td>27.8</td>\n      <td>1489149</td>\n      <td>6.7</td>\n      <td>83.6</td>\n      <td>9.2</td>\n      <td>6.9</td>\n      <td>0.1</td>\n      <td>33.9</td>\n      <td>18.6</td>\n      <td>22.3</td>\n      <td>12.0</td>\n      <td>12.9</td>\n      <td>78.2</td>\n      <td>11.1</td>\n      <td>3.3</td>\n      <td>1.7</td>\n      <td>2.1</td>\n      <td>3.5</td>\n      <td>28.0</td>\n      <td>1259</td>\n      <td>2020</td>\n      <td>2355606</td>\n      <td>25257</td>\n      <td>275</td>\n      <td>1249</td>\n      <td>9147</td>\n      <td>14586</td>\n      <td>101750</td>\n      <td>17038</td>\n      <td>71614</td>\n      <td>13098</td>\n      <td>485</td>\n      <td>53.92</td>\n      <td>High</td>\n      <td>183</td>\n      <td>84</td>\n      <td>89</td>\n      <td>8</td>\n      <td>2</td>\n      <td>0</td>\n      <td>0</td>\n      <td>179</td>\n      <td>90</td>\n      <td>53</td>\n      <td>1</td>\n      <td>6</td>\n      <td>89</td>\n      <td>0</td>\n      <td>86</td>\n      <td>1</td>\n      <td>Moderate</td>\n    </tr>\n    <tr>\n      <th>168</th>\n      <td>Houston</td>\n      <td>TX</td>\n      <td>29.7863</td>\n      <td>-95.3889</td>\n      <td>3073190</td>\n      <td>1532240</td>\n      <td>1540692</td>\n      <td>45.2</td>\n      <td>23.7</td>\n      <td>21.7</td>\n      <td>0.1</td>\n      <td>7.6</td>\n      <td>0.0</td>\n      <td>33775328</td>\n      <td>5973385</td>\n      <td>18282133</td>\n      <td>2742408</td>\n      <td>19.6</td>\n      <td>27.8</td>\n      <td>1489149</td>\n      <td>6.7</td>\n      <td>83.6</td>\n      <td>9.2</td>\n      <td>6.9</td>\n      <td>0.1</td>\n      <td>33.9</td>\n      <td>18.6</td>\n      <td>22.3</td>\n      <td>12.0</td>\n      <td>12.9</td>\n      <td>78.2</td>\n      <td>11.1</td>\n      <td>3.3</td>\n      <td>1.7</td>\n      <td>2.1</td>\n      <td>3.5</td>\n      <td>28.0</td>\n      <td>749</td>\n      <td>2020</td>\n      <td>2355606</td>\n      <td>25257</td>\n      <td>275</td>\n      <td>1249</td>\n      <td>9147</td>\n      <td>14586</td>\n      <td>101750</td>\n      <td>17038</td>\n      <td>71614</td>\n      <td>13098</td>\n      <td>485</td>\n      <td>53.92</td>\n      <td>High</td>\n      <td>183</td>\n      <td>84</td>\n      <td>89</td>\n      <td>8</td>\n      <td>2</td>\n      <td>0</td>\n      <td>0</td>\n      <td>179</td>\n      <td>90</td>\n      <td>53</td>\n      <td>1</td>\n      <td>6</td>\n      <td>89</td>\n      <td>0</td>\n      <td>86</td>\n      <td>1</td>\n      <td>Moderate</td>\n    </tr>\n    <tr>\n      <th>174</th>\n      <td>Jackson</td>\n      <td>TN</td>\n      <td>35.6535</td>\n      <td>-88.8353</td>\n      <td>81915</td>\n      <td>38468</td>\n      <td>43436</td>\n      <td>4.0</td>\n      <td>54.3</td>\n      <td>38.5</td>\n      <td>0.0</td>\n      <td>1.2</td>\n      <td>0.0</td>\n      <td>954430</td>\n      <td>165701</td>\n      <td>503131</td>\n      <td>83145</td>\n      <td>21.7</td>\n      <td>30.7</td>\n      <td>35946</td>\n      <td>6.9</td>\n      <td>81.1</td>\n      <td>12.9</td>\n      <td>5.6</td>\n      <td>0.3</td>\n      <td>33.3</td>\n      <td>19.6</td>\n      <td>25.2</td>\n      <td>6.3</td>\n      <td>15.3</td>\n      <td>85.1</td>\n      <td>6.6</td>\n      <td>1.0</td>\n      <td>0.9</td>\n      <td>3.1</td>\n      <td>3.1</td>\n      <td>18.0</td>\n      <td>897</td>\n      <td>2020</td>\n      <td>66915</td>\n      <td>650</td>\n      <td>17</td>\n      <td>30</td>\n      <td>97</td>\n      <td>506</td>\n      <td>2473</td>\n      <td>374</td>\n      <td>1904</td>\n      <td>195</td>\n      <td>15</td>\n      <td>46.67</td>\n      <td>High</td>\n      <td>176</td>\n      <td>172</td>\n      <td>3</td>\n      <td>1</td>\n      <td>0</td>\n      <td>0</td>\n      <td>0</td>\n      <td>108</td>\n      <td>35</td>\n      <td>22</td>\n      <td>0</td>\n      <td>0</td>\n      <td>0</td>\n      <td>0</td>\n      <td>176</td>\n      <td>0</td>\n      <td>Good</td>\n    </tr>\n    <tr>\n      <th>175</th>\n      <td>Jackson</td>\n      <td>TN</td>\n      <td>35.6535</td>\n      <td>-88.8353</td>\n      <td>81915</td>\n      <td>38468</td>\n      <td>43436</td>\n      <td>4.0</td>\n      <td>54.3</td>\n      <td>38.5</td>\n      <td>0.0</td>\n      <td>1.2</td>\n      <td>0.0</td>\n      <td>954430</td>\n      <td>165701</td>\n      <td>503131</td>\n      <td>83145</td>\n      <td>21.7</td>\n      <td>30.7</td>\n      <td>35946</td>\n      <td>6.9</td>\n      <td>81.1</td>\n      <td>12.9</td>\n      <td>5.6</td>\n      <td>0.3</td>\n      <td>33.3</td>\n      <td>19.6</td>\n      <td>25.2</td>\n      <td>6.3</td>\n      <td>15.3</td>\n      <td>85.1</td>\n      <td>6.6</td>\n      <td>1.0</td>\n      <td>0.9</td>\n      <td>3.1</td>\n      <td>3.1</td>\n      <td>18.0</td>\n      <td>663</td>\n      <td>2020</td>\n      <td>66915</td>\n      <td>650</td>\n      <td>17</td>\n      <td>30</td>\n      <td>97</td>\n      <td>506</td>\n      <td>2473</td>\n      <td>374</td>\n      <td>1904</td>\n      <td>195</td>\n      <td>15</td>\n      <td>46.67</td>\n      <td>High</td>\n      <td>176</td>\n      <td>172</td>\n      <td>3</td>\n      <td>1</td>\n      <td>0</td>\n      <td>0</td>\n      <td>0</td>\n      <td>108</td>\n      <td>35</td>\n      <td>22</td>\n      <td>0</td>\n      <td>0</td>\n      <td>0</td>\n      <td>0</td>\n      <td>176</td>\n      <td>0</td>\n      <td>Good</td>\n    </tr>\n    <tr>\n      <th>183</th>\n      <td>Kalamazoo</td>\n      <td>MI</td>\n      <td>42.2749</td>\n      <td>-85.5882</td>\n      <td>159401</td>\n      <td>77983</td>\n      <td>81385</td>\n      <td>5.4</td>\n      <td>72.1</td>\n      <td>14.6</td>\n      <td>0.2</td>\n      <td>2.7</td>\n      <td>0.0</td>\n      <td>1679602</td>\n      <td>246789</td>\n      <td>925833</td>\n      <td>139929</td>\n      <td>22.4</td>\n      <td>23.5</td>\n      <td>79173</td>\n      <td>7.7</td>\n      <td>83.4</td>\n      <td>10.8</td>\n      <td>5.5</td>\n      <td>0.2</td>\n      <td>37.7</td>\n      <td>21.4</td>\n      <td>22.6</td>\n      <td>5.6</td>\n      <td>12.4</td>\n      <td>80.3</td>\n      <td>7.4</td>\n      <td>2.1</td>\n      <td>3.9</td>\n      <td>1.9</td>\n      <td>4.2</td>\n      <td>19.6</td>\n      <td>941</td>\n      <td>2020</td>\n      <td>76827</td>\n      <td>949</td>\n      <td>9</td>\n      <td>110</td>\n      <td>182</td>\n      <td>648</td>\n      <td>3578</td>\n      <td>703</td>\n      <td>2546</td>\n      <td>329</td>\n      <td>44</td>\n      <td>58.92</td>\n      <td>High</td>\n      <td>181</td>\n      <td>159</td>\n      <td>18</td>\n      <td>4</td>\n      <td>0</td>\n      <td>0</td>\n      <td>0</td>\n      <td>115</td>\n      <td>54</td>\n      <td>39</td>\n      <td>0</td>\n      <td>0</td>\n      <td>122</td>\n      <td>0</td>\n      <td>59</td>\n      <td>0</td>\n      <td>Good</td>\n    </tr>\n    <tr>\n      <th>184</th>\n      <td>Kalamazoo</td>\n      <td>MI</td>\n      <td>42.2749</td>\n      <td>-85.5882</td>\n      <td>159401</td>\n      <td>77983</td>\n      <td>81385</td>\n      <td>5.4</td>\n      <td>72.1</td>\n      <td>14.6</td>\n      <td>0.2</td>\n      <td>2.7</td>\n      <td>0.0</td>\n      <td>1679602</td>\n      <td>246789</td>\n      <td>925833</td>\n      <td>139929</td>\n      <td>22.4</td>\n      <td>23.5</td>\n      <td>79173</td>\n      <td>7.7</td>\n      <td>83.4</td>\n      <td>10.8</td>\n      <td>5.5</td>\n      <td>0.2</td>\n      <td>37.7</td>\n      <td>21.4</td>\n      <td>22.6</td>\n      <td>5.6</td>\n      <td>12.4</td>\n      <td>80.3</td>\n      <td>7.4</td>\n      <td>2.1</td>\n      <td>3.9</td>\n      <td>1.9</td>\n      <td>4.2</td>\n      <td>19.6</td>\n      <td>941</td>\n      <td>2020</td>\n      <td>24613</td>\n      <td>96</td>\n      <td>1</td>\n      <td>14</td>\n      <td>25</td>\n      <td>56</td>\n      <td>670</td>\n      <td>135</td>\n      <td>455</td>\n      <td>80</td>\n      <td>4</td>\n      <td>31.12</td>\n      <td>Medium</td>\n      <td>181</td>\n      <td>159</td>\n      <td>18</td>\n      <td>4</td>\n      <td>0</td>\n      <td>0</td>\n      <td>0</td>\n      <td>115</td>\n      <td>54</td>\n      <td>39</td>\n      <td>0</td>\n      <td>0</td>\n      <td>122</td>\n      <td>0</td>\n      <td>59</td>\n      <td>0</td>\n      <td>Good</td>\n    </tr>\n    <tr>\n      <th>198</th>\n      <td>Lancaster</td>\n      <td>PA</td>\n      <td>40.0421</td>\n      <td>-76.3012</td>\n      <td>165058</td>\n      <td>80790</td>\n      <td>84248</td>\n      <td>21.5</td>\n      <td>64.7</td>\n      <td>7.9</td>\n      <td>0.1</td>\n      <td>3.7</td>\n      <td>0.0</td>\n      <td>1835987</td>\n      <td>279095</td>\n      <td>941811</td>\n      <td>122240</td>\n      <td>14.3</td>\n      <td>19.1</td>\n      <td>80771</td>\n      <td>6.0</td>\n      <td>86.7</td>\n      <td>8.5</td>\n      <td>4.5</td>\n      <td>0.1</td>\n      <td>36.0</td>\n      <td>17.2</td>\n      <td>22.7</td>\n      <td>6.6</td>\n      <td>17.4</td>\n      <td>77.7</td>\n      <td>8.8</td>\n      <td>2.5</td>\n      <td>5.1</td>\n      <td>1.4</td>\n      <td>4.2</td>\n      <td>21.4</td>\n      <td>1090</td>\n      <td>2020</td>\n      <td>2683</td>\n      <td>1</td>\n      <td>0</td>\n      <td>0</td>\n      <td>0</td>\n      <td>1</td>\n      <td>2</td>\n      <td>2</td>\n      <td>0</td>\n      <td>0</td>\n      <td>0</td>\n      <td>1.12</td>\n      <td>Low</td>\n      <td>244</td>\n      <td>179</td>\n      <td>63</td>\n      <td>2</td>\n      <td>0</td>\n      <td>0</td>\n      <td>0</td>\n      <td>105</td>\n      <td>60</td>\n      <td>42</td>\n      <td>0</td>\n      <td>0</td>\n      <td>116</td>\n      <td>0</td>\n      <td>126</td>\n      <td>2</td>\n      <td>Good</td>\n    </tr>\n    <tr>\n      <th>199</th>\n      <td>Lancaster</td>\n      <td>PA</td>\n      <td>40.0421</td>\n      <td>-76.3012</td>\n      <td>165058</td>\n      <td>80790</td>\n      <td>84248</td>\n      <td>21.5</td>\n      <td>64.7</td>\n      <td>7.9</td>\n      <td>0.1</td>\n      <td>3.7</td>\n      <td>0.0</td>\n      <td>1835987</td>\n      <td>279095</td>\n      <td>941811</td>\n      <td>122240</td>\n      <td>14.3</td>\n      <td>19.1</td>\n      <td>80771</td>\n      <td>6.0</td>\n      <td>86.7</td>\n      <td>8.5</td>\n      <td>4.5</td>\n      <td>0.1</td>\n      <td>36.0</td>\n      <td>17.2</td>\n      <td>22.7</td>\n      <td>6.6</td>\n      <td>17.4</td>\n      <td>77.7</td>\n      <td>8.8</td>\n      <td>2.5</td>\n      <td>5.1</td>\n      <td>1.4</td>\n      <td>4.2</td>\n      <td>21.4</td>\n      <td>1090</td>\n      <td>2020</td>\n      <td>17176</td>\n      <td>21</td>\n      <td>1</td>\n      <td>2</td>\n      <td>3</td>\n      <td>15</td>\n      <td>343</td>\n      <td>16</td>\n      <td>299</td>\n      <td>28</td>\n      <td>0</td>\n      <td>21.19</td>\n      <td>Low</td>\n      <td>244</td>\n      <td>179</td>\n      <td>63</td>\n      <td>2</td>\n      <td>0</td>\n      <td>0</td>\n      <td>0</td>\n      <td>105</td>\n      <td>60</td>\n      <td>42</td>\n      <td>0</td>\n      <td>0</td>\n      <td>116</td>\n      <td>0</td>\n      <td>126</td>\n      <td>2</td>\n      <td>Good</td>\n    </tr>\n    <tr>\n      <th>200</th>\n      <td>Lansing</td>\n      <td>MI</td>\n      <td>42.7142</td>\n      <td>-84.5601</td>\n      <td>161974</td>\n      <td>78359</td>\n      <td>83585</td>\n      <td>10.9</td>\n      <td>60.5</td>\n      <td>17.8</td>\n      <td>0.3</td>\n      <td>3.8</td>\n      <td>0.0</td>\n      <td>2211965</td>\n      <td>362901</td>\n      <td>1184244</td>\n      <td>170241</td>\n      <td>21.9</td>\n      <td>31.1</td>\n      <td>78339</td>\n      <td>8.9</td>\n      <td>78.8</td>\n      <td>16.3</td>\n      <td>4.5</td>\n      <td>0.2</td>\n      <td>34.5</td>\n      <td>19.9</td>\n      <td>23.7</td>\n      <td>6.1</td>\n      <td>15.5</td>\n      <td>79.5</td>\n      <td>10.3</td>\n      <td>3.6</td>\n      <td>2.6</td>\n      <td>1.1</td>\n      <td>2.6</td>\n      <td>19.0</td>\n      <td>962</td>\n      <td>2020</td>\n      <td>118953</td>\n      <td>1313</td>\n      <td>12</td>\n      <td>140</td>\n      <td>178</td>\n      <td>983</td>\n      <td>3355</td>\n      <td>763</td>\n      <td>2225</td>\n      <td>367</td>\n      <td>21</td>\n      <td>39.24</td>\n      <td>Medium</td>\n      <td>182</td>\n      <td>164</td>\n      <td>18</td>\n      <td>0</td>\n      <td>0</td>\n      <td>0</td>\n      <td>0</td>\n      <td>90</td>\n      <td>50</td>\n      <td>36</td>\n      <td>0</td>\n      <td>3</td>\n      <td>138</td>\n      <td>0</td>\n      <td>41</td>\n      <td>0</td>\n      <td>Good</td>\n    </tr>\n    <tr>\n      <th>201</th>\n      <td>Lansing</td>\n      <td>MI</td>\n      <td>42.7142</td>\n      <td>-84.5601</td>\n      <td>161974</td>\n      <td>78359</td>\n      <td>83585</td>\n      <td>10.9</td>\n      <td>60.5</td>\n      <td>17.8</td>\n      <td>0.3</td>\n      <td>3.8</td>\n      <td>0.0</td>\n      <td>2211965</td>\n      <td>362901</td>\n      <td>1184244</td>\n      <td>170241</td>\n      <td>21.9</td>\n      <td>31.1</td>\n      <td>78339</td>\n      <td>8.9</td>\n      <td>78.8</td>\n      <td>16.3</td>\n      <td>4.5</td>\n      <td>0.2</td>\n      <td>34.5</td>\n      <td>19.9</td>\n      <td>23.7</td>\n      <td>6.1</td>\n      <td>15.5</td>\n      <td>79.5</td>\n      <td>10.3</td>\n      <td>3.6</td>\n      <td>2.6</td>\n      <td>1.1</td>\n      <td>2.6</td>\n      <td>19.0</td>\n      <td>962</td>\n      <td>2020</td>\n      <td>8294</td>\n      <td>70</td>\n      <td>1</td>\n      <td>13</td>\n      <td>11</td>\n      <td>45</td>\n      <td>441</td>\n      <td>52</td>\n      <td>353</td>\n      <td>36</td>\n      <td>3</td>\n      <td>61.61</td>\n      <td>High</td>\n      <td>182</td>\n      <td>164</td>\n      <td>18</td>\n      <td>0</td>\n      <td>0</td>\n      <td>0</td>\n      <td>0</td>\n      <td>90</td>\n      <td>50</td>\n      <td>36</td>\n      <td>0</td>\n      <td>3</td>\n      <td>138</td>\n      <td>0</td>\n      <td>41</td>\n      <td>0</td>\n      <td>Good</td>\n    </tr>\n    <tr>\n      <th>207</th>\n      <td>Lenoir</td>\n      <td>NC</td>\n      <td>35.9096</td>\n      <td>-81.5247</td>\n      <td>46602</td>\n      <td>22536</td>\n      <td>24060</td>\n      <td>5.6</td>\n      <td>84.7</td>\n      <td>7.6</td>\n      <td>0.5</td>\n      <td>0.2</td>\n      <td>0.0</td>\n      <td>358208</td>\n      <td>64935</td>\n      <td>198618</td>\n      <td>34116</td>\n      <td>17.8</td>\n      <td>22.5</td>\n      <td>19164</td>\n      <td>8.4</td>\n      <td>80.5</td>\n      <td>13.1</td>\n      <td>6.3</td>\n      <td>0.0</td>\n      <td>22.6</td>\n      <td>18.2</td>\n      <td>20.9</td>\n      <td>12.1</td>\n      <td>25.9</td>\n      <td>81.0</td>\n      <td>12.3</td>\n      <td>0.2</td>\n      <td>0.9</td>\n      <td>2.2</td>\n      <td>3.3</td>\n      <td>23.2</td>\n      <td>711</td>\n      <td>2020</td>\n      <td>17904</td>\n      <td>78</td>\n      <td>0</td>\n      <td>17</td>\n      <td>13</td>\n      <td>48</td>\n      <td>799</td>\n      <td>234</td>\n      <td>476</td>\n      <td>89</td>\n      <td>3</td>\n      <td>48.98</td>\n      <td>High</td>\n      <td>274</td>\n      <td>250</td>\n      <td>24</td>\n      <td>0</td>\n      <td>0</td>\n      <td>0</td>\n      <td>0</td>\n      <td>94</td>\n      <td>49</td>\n      <td>38</td>\n      <td>0</td>\n      <td>0</td>\n      <td>153</td>\n      <td>0</td>\n      <td>120</td>\n      <td>1</td>\n      <td>Good</td>\n    </tr>\n    <tr>\n      <th>208</th>\n      <td>Lenoir</td>\n      <td>NC</td>\n      <td>35.9096</td>\n      <td>-81.5247</td>\n      <td>46602</td>\n      <td>22536</td>\n      <td>24060</td>\n      <td>5.6</td>\n      <td>84.7</td>\n      <td>7.6</td>\n      <td>0.5</td>\n      <td>0.2</td>\n      <td>0.0</td>\n      <td>358208</td>\n      <td>64935</td>\n      <td>198618</td>\n      <td>34116</td>\n      <td>17.8</td>\n      <td>22.5</td>\n      <td>19164</td>\n      <td>8.4</td>\n      <td>80.5</td>\n      <td>13.1</td>\n      <td>6.3</td>\n      <td>0.0</td>\n      <td>22.6</td>\n      <td>18.2</td>\n      <td>20.9</td>\n      <td>12.1</td>\n      <td>25.9</td>\n      <td>81.0</td>\n      <td>12.3</td>\n      <td>0.2</td>\n      <td>0.9</td>\n      <td>2.2</td>\n      <td>3.3</td>\n      <td>23.2</td>\n      <td>791</td>\n      <td>2020</td>\n      <td>17904</td>\n      <td>78</td>\n      <td>0</td>\n      <td>17</td>\n      <td>13</td>\n      <td>48</td>\n      <td>799</td>\n      <td>234</td>\n      <td>476</td>\n      <td>89</td>\n      <td>3</td>\n      <td>48.98</td>\n      <td>High</td>\n      <td>274</td>\n      <td>250</td>\n      <td>24</td>\n      <td>0</td>\n      <td>0</td>\n      <td>0</td>\n      <td>0</td>\n      <td>94</td>\n      <td>49</td>\n      <td>38</td>\n      <td>0</td>\n      <td>0</td>\n      <td>153</td>\n      <td>0</td>\n      <td>120</td>\n      <td>1</td>\n      <td>Good</td>\n    </tr>\n    <tr>\n      <th>213</th>\n      <td>Lincoln</td>\n      <td>NE</td>\n      <td>40.8090</td>\n      <td>-96.6788</td>\n      <td>281875</td>\n      <td>140557</td>\n      <td>141264</td>\n      <td>7.1</td>\n      <td>81.1</td>\n      <td>4.0</td>\n      <td>0.4</td>\n      <td>4.5</td>\n      <td>0.1</td>\n      <td>3979810</td>\n      <td>508725</td>\n      <td>2048835</td>\n      <td>260542</td>\n      <td>14.3</td>\n      <td>16.8</td>\n      <td>153836</td>\n      <td>3.9</td>\n      <td>77.8</td>\n      <td>18.0</td>\n      <td>4.0</td>\n      <td>0.1</td>\n      <td>40.0</td>\n      <td>17.2</td>\n      <td>23.9</td>\n      <td>7.3</td>\n      <td>11.3</td>\n      <td>81.6</td>\n      <td>8.9</td>\n      <td>1.3</td>\n      <td>2.9</td>\n      <td>1.9</td>\n      <td>3.1</td>\n      <td>18.4</td>\n      <td>940</td>\n      <td>2020</td>\n      <td>291128</td>\n      <td>1115</td>\n      <td>5</td>\n      <td>323</td>\n      <td>166</td>\n      <td>621</td>\n      <td>8008</td>\n      <td>988</td>\n      <td>6566</td>\n      <td>454</td>\n      <td>0</td>\n      <td>31.34</td>\n      <td>Medium</td>\n      <td>244</td>\n      <td>237</td>\n      <td>7</td>\n      <td>0</td>\n      <td>0</td>\n      <td>0</td>\n      <td>0</td>\n      <td>74</td>\n      <td>45</td>\n      <td>32</td>\n      <td>0</td>\n      <td>0</td>\n      <td>171</td>\n      <td>44</td>\n      <td>29</td>\n      <td>0</td>\n      <td>Good</td>\n    </tr>\n    <tr>\n      <th>214</th>\n      <td>Lincoln</td>\n      <td>NE</td>\n      <td>40.8090</td>\n      <td>-96.6788</td>\n      <td>281875</td>\n      <td>140557</td>\n      <td>141264</td>\n      <td>7.1</td>\n      <td>81.1</td>\n      <td>4.0</td>\n      <td>0.4</td>\n      <td>4.5</td>\n      <td>0.1</td>\n      <td>3979810</td>\n      <td>508725</td>\n      <td>2048835</td>\n      <td>260542</td>\n      <td>14.3</td>\n      <td>16.8</td>\n      <td>153836</td>\n      <td>3.9</td>\n      <td>77.8</td>\n      <td>18.0</td>\n      <td>4.0</td>\n      <td>0.1</td>\n      <td>40.0</td>\n      <td>17.2</td>\n      <td>23.9</td>\n      <td>7.3</td>\n      <td>11.3</td>\n      <td>81.6</td>\n      <td>8.9</td>\n      <td>1.3</td>\n      <td>2.9</td>\n      <td>1.9</td>\n      <td>3.1</td>\n      <td>18.4</td>\n      <td>806</td>\n      <td>2020</td>\n      <td>291128</td>\n      <td>1115</td>\n      <td>5</td>\n      <td>323</td>\n      <td>166</td>\n      <td>621</td>\n      <td>8008</td>\n      <td>988</td>\n      <td>6566</td>\n      <td>454</td>\n      <td>0</td>\n      <td>31.34</td>\n      <td>Medium</td>\n      <td>244</td>\n      <td>237</td>\n      <td>7</td>\n      <td>0</td>\n      <td>0</td>\n      <td>0</td>\n      <td>0</td>\n      <td>74</td>\n      <td>45</td>\n      <td>32</td>\n      <td>0</td>\n      <td>0</td>\n      <td>171</td>\n      <td>44</td>\n      <td>29</td>\n      <td>0</td>\n      <td>Good</td>\n    </tr>\n    <tr>\n      <th>250</th>\n      <td>Muskegon</td>\n      <td>MI</td>\n      <td>43.2281</td>\n      <td>-86.2563</td>\n      <td>127755</td>\n      <td>63459</td>\n      <td>64278</td>\n      <td>5.5</td>\n      <td>72.1</td>\n      <td>17.1</td>\n      <td>0.5</td>\n      <td>0.5</td>\n      <td>0.0</td>\n      <td>1370088</td>\n      <td>199397</td>\n      <td>695628</td>\n      <td>94002</td>\n      <td>21.1</td>\n      <td>28.3</td>\n      <td>53733</td>\n      <td>10.2</td>\n      <td>84.4</td>\n      <td>11.0</td>\n      <td>4.4</td>\n      <td>0.1</td>\n      <td>27.4</td>\n      <td>20.7</td>\n      <td>21.4</td>\n      <td>7.8</td>\n      <td>22.4</td>\n      <td>83.4</td>\n      <td>11.3</td>\n      <td>0.5</td>\n      <td>1.0</td>\n      <td>0.9</td>\n      <td>2.5</td>\n      <td>20.1</td>\n      <td>875</td>\n      <td>2020</td>\n      <td>37178</td>\n      <td>308</td>\n      <td>8</td>\n      <td>27</td>\n      <td>46</td>\n      <td>227</td>\n      <td>1293</td>\n      <td>252</td>\n      <td>911</td>\n      <td>130</td>\n      <td>11</td>\n      <td>43.06</td>\n      <td>High</td>\n      <td>124</td>\n      <td>106</td>\n      <td>14</td>\n      <td>4</td>\n      <td>0</td>\n      <td>0</td>\n      <td>0</td>\n      <td>143</td>\n      <td>64</td>\n      <td>39</td>\n      <td>0</td>\n      <td>0</td>\n      <td>124</td>\n      <td>0</td>\n      <td>0</td>\n      <td>0</td>\n      <td>Good</td>\n    </tr>\n    <tr>\n      <th>251</th>\n      <td>Muskegon</td>\n      <td>MI</td>\n      <td>43.2281</td>\n      <td>-86.2563</td>\n      <td>127755</td>\n      <td>63459</td>\n      <td>64278</td>\n      <td>5.5</td>\n      <td>72.1</td>\n      <td>17.1</td>\n      <td>0.5</td>\n      <td>0.5</td>\n      <td>0.0</td>\n      <td>1370088</td>\n      <td>199397</td>\n      <td>695628</td>\n      <td>94002</td>\n      <td>21.1</td>\n      <td>28.3</td>\n      <td>53733</td>\n      <td>10.2</td>\n      <td>84.4</td>\n      <td>11.0</td>\n      <td>4.4</td>\n      <td>0.1</td>\n      <td>27.4</td>\n      <td>20.7</td>\n      <td>21.4</td>\n      <td>7.8</td>\n      <td>22.4</td>\n      <td>83.4</td>\n      <td>11.3</td>\n      <td>0.5</td>\n      <td>1.0</td>\n      <td>0.9</td>\n      <td>2.5</td>\n      <td>20.1</td>\n      <td>875</td>\n      <td>2020</td>\n      <td>17937</td>\n      <td>45</td>\n      <td>0</td>\n      <td>11</td>\n      <td>6</td>\n      <td>28</td>\n      <td>494</td>\n      <td>56</td>\n      <td>417</td>\n      <td>21</td>\n      <td>0</td>\n      <td>30.05</td>\n      <td>Medium</td>\n      <td>124</td>\n      <td>106</td>\n      <td>14</td>\n      <td>4</td>\n      <td>0</td>\n      <td>0</td>\n      <td>0</td>\n      <td>143</td>\n      <td>64</td>\n      <td>39</td>\n      <td>0</td>\n      <td>0</td>\n      <td>124</td>\n      <td>0</td>\n      <td>0</td>\n      <td>0</td>\n      <td>Good</td>\n    </tr>\n    <tr>\n      <th>264</th>\n      <td>Niagara Falls</td>\n      <td>NY</td>\n      <td>43.0921</td>\n      <td>-79.0147</td>\n      <td>64127</td>\n      <td>30342</td>\n      <td>33771</td>\n      <td>3.4</td>\n      <td>72.8</td>\n      <td>18.1</td>\n      <td>1.5</td>\n      <td>0.9</td>\n      <td>0.0</td>\n      <td>867323</td>\n      <td>178477</td>\n      <td>503010</td>\n      <td>78280</td>\n      <td>23.4</td>\n      <td>31.1</td>\n      <td>28409</td>\n      <td>8.5</td>\n      <td>81.9</td>\n      <td>14.3</td>\n      <td>3.6</td>\n      <td>0.0</td>\n      <td>28.5</td>\n      <td>23.6</td>\n      <td>27.5</td>\n      <td>7.7</td>\n      <td>12.3</td>\n      <td>83.4</td>\n      <td>7.6</td>\n      <td>2.2</td>\n      <td>2.8</td>\n      <td>1.8</td>\n      <td>1.8</td>\n      <td>18.6</td>\n      <td>982</td>\n      <td>2020</td>\n      <td>47900</td>\n      <td>431</td>\n      <td>2</td>\n      <td>32</td>\n      <td>101</td>\n      <td>296</td>\n      <td>1848</td>\n      <td>266</td>\n      <td>1471</td>\n      <td>111</td>\n      <td>25</td>\n      <td>47.58</td>\n      <td>High</td>\n      <td>275</td>\n      <td>234</td>\n      <td>39</td>\n      <td>0</td>\n      <td>2</td>\n      <td>0</td>\n      <td>0</td>\n      <td>155</td>\n      <td>54</td>\n      <td>38</td>\n      <td>1</td>\n      <td>4</td>\n      <td>217</td>\n      <td>1</td>\n      <td>52</td>\n      <td>0</td>\n      <td>Good</td>\n    </tr>\n    <tr>\n      <th>265</th>\n      <td>Niagara Falls</td>\n      <td>NY</td>\n      <td>43.0921</td>\n      <td>-79.0147</td>\n      <td>64127</td>\n      <td>30342</td>\n      <td>33771</td>\n      <td>3.4</td>\n      <td>72.8</td>\n      <td>18.1</td>\n      <td>1.5</td>\n      <td>0.9</td>\n      <td>0.0</td>\n      <td>867323</td>\n      <td>178477</td>\n      <td>503010</td>\n      <td>78280</td>\n      <td>23.4</td>\n      <td>31.1</td>\n      <td>28409</td>\n      <td>8.5</td>\n      <td>81.9</td>\n      <td>14.3</td>\n      <td>3.6</td>\n      <td>0.0</td>\n      <td>28.5</td>\n      <td>23.6</td>\n      <td>27.5</td>\n      <td>7.7</td>\n      <td>12.3</td>\n      <td>83.4</td>\n      <td>7.6</td>\n      <td>2.2</td>\n      <td>2.8</td>\n      <td>1.8</td>\n      <td>1.8</td>\n      <td>18.6</td>\n      <td>982</td>\n      <td>2020</td>\n      <td>7958</td>\n      <td>4</td>\n      <td>0</td>\n      <td>0</td>\n      <td>2</td>\n      <td>2</td>\n      <td>212</td>\n      <td>9</td>\n      <td>194</td>\n      <td>9</td>\n      <td>1</td>\n      <td>27.14</td>\n      <td>Low</td>\n      <td>275</td>\n      <td>234</td>\n      <td>39</td>\n      <td>0</td>\n      <td>2</td>\n      <td>0</td>\n      <td>0</td>\n      <td>155</td>\n      <td>54</td>\n      <td>38</td>\n      <td>1</td>\n      <td>4</td>\n      <td>217</td>\n      <td>1</td>\n      <td>52</td>\n      <td>0</td>\n      <td>Good</td>\n    </tr>\n    <tr>\n      <th>308</th>\n      <td>Richmond</td>\n      <td>VA</td>\n      <td>37.5295</td>\n      <td>-77.4756</td>\n      <td>386659</td>\n      <td>183004</td>\n      <td>203597</td>\n      <td>8.3</td>\n      <td>41.9</td>\n      <td>43.8</td>\n      <td>0.2</td>\n      <td>2.4</td>\n      <td>0.0</td>\n      <td>5629971</td>\n      <td>962951</td>\n      <td>3282065</td>\n      <td>505654</td>\n      <td>19.7</td>\n      <td>26.9</td>\n      <td>194155</td>\n      <td>8.6</td>\n      <td>79.3</td>\n      <td>16.3</td>\n      <td>4.2</td>\n      <td>0.1</td>\n      <td>37.9</td>\n      <td>19.6</td>\n      <td>24.4</td>\n      <td>7.4</td>\n      <td>10.4</td>\n      <td>76.4</td>\n      <td>10.3</td>\n      <td>3.2</td>\n      <td>3.5</td>\n      <td>2.5</td>\n      <td>3.8</td>\n      <td>22.7</td>\n      <td>1252</td>\n      <td>2020</td>\n      <td>230721</td>\n      <td>1068</td>\n      <td>55</td>\n      <td>45</td>\n      <td>385</td>\n      <td>583</td>\n      <td>8074</td>\n      <td>986</td>\n      <td>6234</td>\n      <td>854</td>\n      <td>44</td>\n      <td>39.62</td>\n      <td>Medium</td>\n      <td>276</td>\n      <td>262</td>\n      <td>14</td>\n      <td>0</td>\n      <td>0</td>\n      <td>0</td>\n      <td>0</td>\n      <td>71</td>\n      <td>48</td>\n      <td>38</td>\n      <td>1</td>\n      <td>17</td>\n      <td>210</td>\n      <td>0</td>\n      <td>47</td>\n      <td>1</td>\n      <td>Good</td>\n    </tr>\n    <tr>\n      <th>309</th>\n      <td>Richmond</td>\n      <td>VA</td>\n      <td>37.5295</td>\n      <td>-77.4756</td>\n      <td>386659</td>\n      <td>183004</td>\n      <td>203597</td>\n      <td>8.3</td>\n      <td>41.9</td>\n      <td>43.8</td>\n      <td>0.2</td>\n      <td>2.4</td>\n      <td>0.0</td>\n      <td>5629971</td>\n      <td>962951</td>\n      <td>3282065</td>\n      <td>505654</td>\n      <td>19.7</td>\n      <td>26.9</td>\n      <td>194155</td>\n      <td>8.6</td>\n      <td>79.3</td>\n      <td>16.3</td>\n      <td>4.2</td>\n      <td>0.1</td>\n      <td>37.9</td>\n      <td>19.6</td>\n      <td>24.4</td>\n      <td>7.4</td>\n      <td>10.4</td>\n      <td>76.4</td>\n      <td>10.3</td>\n      <td>3.2</td>\n      <td>3.5</td>\n      <td>2.5</td>\n      <td>3.8</td>\n      <td>22.7</td>\n      <td>895</td>\n      <td>2020</td>\n      <td>230721</td>\n      <td>1068</td>\n      <td>55</td>\n      <td>45</td>\n      <td>385</td>\n      <td>583</td>\n      <td>8074</td>\n      <td>986</td>\n      <td>6234</td>\n      <td>854</td>\n      <td>44</td>\n      <td>39.62</td>\n      <td>Medium</td>\n      <td>276</td>\n      <td>262</td>\n      <td>14</td>\n      <td>0</td>\n      <td>0</td>\n      <td>0</td>\n      <td>0</td>\n      <td>71</td>\n      <td>48</td>\n      <td>38</td>\n      <td>1</td>\n      <td>17</td>\n      <td>210</td>\n      <td>0</td>\n      <td>47</td>\n      <td>1</td>\n      <td>Good</td>\n    </tr>\n    <tr>\n      <th>321</th>\n      <td>Rutland</td>\n      <td>VT</td>\n      <td>43.6091</td>\n      <td>-72.9782</td>\n      <td>19107</td>\n      <td>9462</td>\n      <td>9641</td>\n      <td>1.4</td>\n      <td>94.1</td>\n      <td>1.5</td>\n      <td>0.1</td>\n      <td>1.7</td>\n      <td>0.0</td>\n      <td>235815</td>\n      <td>39532</td>\n      <td>144248</td>\n      <td>18518</td>\n      <td>13.0</td>\n      <td>18.7</td>\n      <td>9371</td>\n      <td>4.7</td>\n      <td>79.4</td>\n      <td>13.9</td>\n      <td>6.5</td>\n      <td>0.0</td>\n      <td>34.0</td>\n      <td>22.8</td>\n      <td>24.2</td>\n      <td>9.1</td>\n      <td>9.5</td>\n      <td>77.0</td>\n      <td>9.0</td>\n      <td>2.5</td>\n      <td>6.9</td>\n      <td>1.1</td>\n      <td>3.3</td>\n      <td>17.3</td>\n      <td>960</td>\n      <td>2020</td>\n      <td>15191</td>\n      <td>67</td>\n      <td>0</td>\n      <td>13</td>\n      <td>5</td>\n      <td>49</td>\n      <td>415</td>\n      <td>64</td>\n      <td>330</td>\n      <td>21</td>\n      <td>6</td>\n      <td>31.73</td>\n      <td>Medium</td>\n      <td>183</td>\n      <td>163</td>\n      <td>20</td>\n      <td>0</td>\n      <td>0</td>\n      <td>0</td>\n      <td>0</td>\n      <td>81</td>\n      <td>51</td>\n      <td>39</td>\n      <td>1</td>\n      <td>0</td>\n      <td>137</td>\n      <td>0</td>\n      <td>45</td>\n      <td>0</td>\n      <td>Good</td>\n    </tr>\n    <tr>\n      <th>322</th>\n      <td>Rutland</td>\n      <td>VT</td>\n      <td>43.6091</td>\n      <td>-72.9782</td>\n      <td>19107</td>\n      <td>9462</td>\n      <td>9641</td>\n      <td>1.4</td>\n      <td>94.1</td>\n      <td>1.5</td>\n      <td>0.1</td>\n      <td>1.7</td>\n      <td>0.0</td>\n      <td>235815</td>\n      <td>39532</td>\n      <td>144248</td>\n      <td>18518</td>\n      <td>13.0</td>\n      <td>18.7</td>\n      <td>9371</td>\n      <td>4.7</td>\n      <td>79.4</td>\n      <td>13.9</td>\n      <td>6.5</td>\n      <td>0.0</td>\n      <td>34.0</td>\n      <td>22.8</td>\n      <td>24.2</td>\n      <td>9.1</td>\n      <td>9.5</td>\n      <td>77.0</td>\n      <td>9.0</td>\n      <td>2.5</td>\n      <td>6.9</td>\n      <td>1.1</td>\n      <td>3.3</td>\n      <td>17.3</td>\n      <td>960</td>\n      <td>2020</td>\n      <td>4096</td>\n      <td>7</td>\n      <td>0</td>\n      <td>4</td>\n      <td>0</td>\n      <td>3</td>\n      <td>53</td>\n      <td>12</td>\n      <td>38</td>\n      <td>3</td>\n      <td>0</td>\n      <td>14.65</td>\n      <td>Low</td>\n      <td>183</td>\n      <td>163</td>\n      <td>20</td>\n      <td>0</td>\n      <td>0</td>\n      <td>0</td>\n      <td>0</td>\n      <td>81</td>\n      <td>51</td>\n      <td>39</td>\n      <td>1</td>\n      <td>0</td>\n      <td>137</td>\n      <td>0</td>\n      <td>45</td>\n      <td>0</td>\n      <td>Good</td>\n    </tr>\n    <tr>\n      <th>356</th>\n      <td>Spokane</td>\n      <td>WA</td>\n      <td>47.6671</td>\n      <td>-117.4330</td>\n      <td>344492</td>\n      <td>168896</td>\n      <td>175534</td>\n      <td>5.7</td>\n      <td>84.0</td>\n      <td>1.6</td>\n      <td>1.3</td>\n      <td>2.4</td>\n      <td>0.6</td>\n      <td>3964537</td>\n      <td>580201</td>\n      <td>2158120</td>\n      <td>290857</td>\n      <td>16.4</td>\n      <td>20.9</td>\n      <td>156825</td>\n      <td>6.3</td>\n      <td>80.3</td>\n      <td>14.1</td>\n      <td>5.3</td>\n      <td>0.1</td>\n      <td>35.3</td>\n      <td>19.2</td>\n      <td>25.8</td>\n      <td>7.7</td>\n      <td>11.7</td>\n      <td>78.1</td>\n      <td>9.6</td>\n      <td>3.0</td>\n      <td>2.8</td>\n      <td>1.7</td>\n      <td>4.6</td>\n      <td>20.5</td>\n      <td>1067</td>\n      <td>2020</td>\n      <td>220432</td>\n      <td>1520</td>\n      <td>6</td>\n      <td>230</td>\n      <td>311</td>\n      <td>973</td>\n      <td>13048</td>\n      <td>1743</td>\n      <td>10026</td>\n      <td>1279</td>\n      <td>45</td>\n      <td>66.09</td>\n      <td>High</td>\n      <td>244</td>\n      <td>193</td>\n      <td>51</td>\n      <td>0</td>\n      <td>0</td>\n      <td>0</td>\n      <td>0</td>\n      <td>87</td>\n      <td>56</td>\n      <td>37</td>\n      <td>0</td>\n      <td>0</td>\n      <td>104</td>\n      <td>0</td>\n      <td>127</td>\n      <td>13</td>\n      <td>Good</td>\n    </tr>\n    <tr>\n      <th>357</th>\n      <td>Spokane</td>\n      <td>WA</td>\n      <td>47.6671</td>\n      <td>-117.4330</td>\n      <td>344492</td>\n      <td>168896</td>\n      <td>175534</td>\n      <td>5.7</td>\n      <td>84.0</td>\n      <td>1.6</td>\n      <td>1.3</td>\n      <td>2.4</td>\n      <td>0.6</td>\n      <td>3964537</td>\n      <td>580201</td>\n      <td>2158120</td>\n      <td>290857</td>\n      <td>16.4</td>\n      <td>20.9</td>\n      <td>156825</td>\n      <td>6.3</td>\n      <td>80.3</td>\n      <td>14.1</td>\n      <td>5.3</td>\n      <td>0.1</td>\n      <td>35.3</td>\n      <td>19.2</td>\n      <td>25.8</td>\n      <td>7.7</td>\n      <td>11.7</td>\n      <td>78.1</td>\n      <td>9.6</td>\n      <td>3.0</td>\n      <td>2.8</td>\n      <td>1.7</td>\n      <td>4.6</td>\n      <td>20.5</td>\n      <td>1067</td>\n      <td>2020</td>\n      <td>100983</td>\n      <td>311</td>\n      <td>1</td>\n      <td>38</td>\n      <td>82</td>\n      <td>190</td>\n      <td>4465</td>\n      <td>483</td>\n      <td>3626</td>\n      <td>356</td>\n      <td>4</td>\n      <td>47.30</td>\n      <td>High</td>\n      <td>244</td>\n      <td>193</td>\n      <td>51</td>\n      <td>0</td>\n      <td>0</td>\n      <td>0</td>\n      <td>0</td>\n      <td>87</td>\n      <td>56</td>\n      <td>37</td>\n      <td>0</td>\n      <td>0</td>\n      <td>104</td>\n      <td>0</td>\n      <td>127</td>\n      <td>13</td>\n      <td>Good</td>\n    </tr>\n    <tr>\n      <th>361</th>\n      <td>Springfield</td>\n      <td>OH</td>\n      <td>39.9297</td>\n      <td>-83.7957</td>\n      <td>97969</td>\n      <td>46687</td>\n      <td>51256</td>\n      <td>2.1</td>\n      <td>81.7</td>\n      <td>10.9</td>\n      <td>0.1</td>\n      <td>0.7</td>\n      <td>0.1</td>\n      <td>1422237</td>\n      <td>213044</td>\n      <td>762131</td>\n      <td>105458</td>\n      <td>18.3</td>\n      <td>24.1</td>\n      <td>43734</td>\n      <td>8.3</td>\n      <td>81.8</td>\n      <td>12.3</td>\n      <td>5.4</td>\n      <td>0.2</td>\n      <td>29.4</td>\n      <td>18.7</td>\n      <td>23.6</td>\n      <td>7.2</td>\n      <td>20.5</td>\n      <td>80.8</td>\n      <td>10.3</td>\n      <td>0.9</td>\n      <td>3.1</td>\n      <td>1.0</td>\n      <td>3.5</td>\n      <td>21.1</td>\n      <td>841</td>\n      <td>2020</td>\n      <td>59128</td>\n      <td>292</td>\n      <td>3</td>\n      <td>14</td>\n      <td>124</td>\n      <td>151</td>\n      <td>2992</td>\n      <td>763</td>\n      <td>1978</td>\n      <td>251</td>\n      <td>49</td>\n      <td>55.54</td>\n      <td>High</td>\n      <td>274</td>\n      <td>224</td>\n      <td>49</td>\n      <td>1</td>\n      <td>0</td>\n      <td>0</td>\n      <td>0</td>\n      <td>108</td>\n      <td>58</td>\n      <td>40</td>\n      <td>0</td>\n      <td>0</td>\n      <td>183</td>\n      <td>22</td>\n      <td>69</td>\n      <td>0</td>\n      <td>Good</td>\n    </tr>\n    <tr>\n      <th>362</th>\n      <td>Springfield</td>\n      <td>OH</td>\n      <td>39.9297</td>\n      <td>-83.7957</td>\n      <td>97969</td>\n      <td>46687</td>\n      <td>51256</td>\n      <td>2.1</td>\n      <td>81.7</td>\n      <td>10.9</td>\n      <td>0.1</td>\n      <td>0.7</td>\n      <td>0.1</td>\n      <td>1422237</td>\n      <td>213044</td>\n      <td>762131</td>\n      <td>105458</td>\n      <td>18.3</td>\n      <td>24.1</td>\n      <td>43734</td>\n      <td>8.3</td>\n      <td>81.8</td>\n      <td>12.3</td>\n      <td>5.4</td>\n      <td>0.2</td>\n      <td>29.4</td>\n      <td>18.7</td>\n      <td>23.6</td>\n      <td>7.2</td>\n      <td>20.5</td>\n      <td>80.8</td>\n      <td>10.3</td>\n      <td>0.9</td>\n      <td>3.1</td>\n      <td>1.0</td>\n      <td>3.5</td>\n      <td>21.1</td>\n      <td>841</td>\n      <td>2020</td>\n      <td>36696</td>\n      <td>50</td>\n      <td>2</td>\n      <td>4</td>\n      <td>18</td>\n      <td>26</td>\n      <td>485</td>\n      <td>85</td>\n      <td>368</td>\n      <td>32</td>\n      <td>5</td>\n      <td>14.58</td>\n      <td>Low</td>\n      <td>274</td>\n      <td>224</td>\n      <td>49</td>\n      <td>1</td>\n      <td>0</td>\n      <td>0</td>\n      <td>0</td>\n      <td>108</td>\n      <td>58</td>\n      <td>40</td>\n      <td>0</td>\n      <td>0</td>\n      <td>183</td>\n      <td>22</td>\n      <td>69</td>\n      <td>0</td>\n      <td>Good</td>\n    </tr>\n    <tr>\n      <th>363</th>\n      <td>Springfield</td>\n      <td>OH</td>\n      <td>39.9297</td>\n      <td>-83.7957</td>\n      <td>97969</td>\n      <td>46687</td>\n      <td>51256</td>\n      <td>2.1</td>\n      <td>81.7</td>\n      <td>10.9</td>\n      <td>0.1</td>\n      <td>0.7</td>\n      <td>0.1</td>\n      <td>1422237</td>\n      <td>213044</td>\n      <td>762131</td>\n      <td>105458</td>\n      <td>18.3</td>\n      <td>24.1</td>\n      <td>43734</td>\n      <td>8.3</td>\n      <td>81.8</td>\n      <td>12.3</td>\n      <td>5.4</td>\n      <td>0.2</td>\n      <td>29.4</td>\n      <td>18.7</td>\n      <td>23.6</td>\n      <td>7.2</td>\n      <td>20.5</td>\n      <td>80.8</td>\n      <td>10.3</td>\n      <td>0.9</td>\n      <td>3.1</td>\n      <td>1.0</td>\n      <td>3.5</td>\n      <td>21.1</td>\n      <td>841</td>\n      <td>2020</td>\n      <td>6415</td>\n      <td>10</td>\n      <td>0</td>\n      <td>2</td>\n      <td>1</td>\n      <td>7</td>\n      <td>47</td>\n      <td>13</td>\n      <td>31</td>\n      <td>3</td>\n      <td>0</td>\n      <td>8.89</td>\n      <td>Low</td>\n      <td>274</td>\n      <td>224</td>\n      <td>49</td>\n      <td>1</td>\n      <td>0</td>\n      <td>0</td>\n      <td>0</td>\n      <td>108</td>\n      <td>58</td>\n      <td>40</td>\n      <td>0</td>\n      <td>0</td>\n      <td>183</td>\n      <td>22</td>\n      <td>69</td>\n      <td>0</td>\n      <td>Good</td>\n    </tr>\n    <tr>\n      <th>364</th>\n      <td>Springfield</td>\n      <td>OH</td>\n      <td>39.9297</td>\n      <td>-83.7957</td>\n      <td>97969</td>\n      <td>46687</td>\n      <td>51256</td>\n      <td>2.1</td>\n      <td>81.7</td>\n      <td>10.9</td>\n      <td>0.1</td>\n      <td>0.7</td>\n      <td>0.1</td>\n      <td>1422237</td>\n      <td>213044</td>\n      <td>762131</td>\n      <td>105458</td>\n      <td>18.3</td>\n      <td>24.1</td>\n      <td>43734</td>\n      <td>8.3</td>\n      <td>81.8</td>\n      <td>12.3</td>\n      <td>5.4</td>\n      <td>0.2</td>\n      <td>29.4</td>\n      <td>18.7</td>\n      <td>23.6</td>\n      <td>7.2</td>\n      <td>20.5</td>\n      <td>80.8</td>\n      <td>10.3</td>\n      <td>0.9</td>\n      <td>3.1</td>\n      <td>1.0</td>\n      <td>3.5</td>\n      <td>21.1</td>\n      <td>841</td>\n      <td>2020</td>\n      <td>14555</td>\n      <td>36</td>\n      <td>1</td>\n      <td>10</td>\n      <td>9</td>\n      <td>16</td>\n      <td>631</td>\n      <td>88</td>\n      <td>528</td>\n      <td>15</td>\n      <td>2</td>\n      <td>45.83</td>\n      <td>High</td>\n      <td>274</td>\n      <td>224</td>\n      <td>49</td>\n      <td>1</td>\n      <td>0</td>\n      <td>0</td>\n      <td>0</td>\n      <td>108</td>\n      <td>58</td>\n      <td>40</td>\n      <td>0</td>\n      <td>0</td>\n      <td>183</td>\n      <td>22</td>\n      <td>69</td>\n      <td>0</td>\n      <td>Good</td>\n    </tr>\n    <tr>\n      <th>387</th>\n      <td>Tyler</td>\n      <td>TX</td>\n      <td>32.3184</td>\n      <td>-95.3062</td>\n      <td>146464</td>\n      <td>70107</td>\n      <td>76325</td>\n      <td>23.3</td>\n      <td>51.9</td>\n      <td>21.2</td>\n      <td>0.2</td>\n      <td>1.9</td>\n      <td>0.1</td>\n      <td>1368440</td>\n      <td>247749</td>\n      <td>712962</td>\n      <td>115189</td>\n      <td>19.0</td>\n      <td>24.8</td>\n      <td>65336</td>\n      <td>6.8</td>\n      <td>82.9</td>\n      <td>10.7</td>\n      <td>6.0</td>\n      <td>0.2</td>\n      <td>31.2</td>\n      <td>20.5</td>\n      <td>23.2</td>\n      <td>10.4</td>\n      <td>14.5</td>\n      <td>83.6</td>\n      <td>9.4</td>\n      <td>0.2</td>\n      <td>1.0</td>\n      <td>2.2</td>\n      <td>3.2</td>\n      <td>22.1</td>\n      <td>1151</td>\n      <td>2020</td>\n      <td>106851</td>\n      <td>401</td>\n      <td>0</td>\n      <td>72</td>\n      <td>58</td>\n      <td>271</td>\n      <td>3206</td>\n      <td>439</td>\n      <td>2597</td>\n      <td>170</td>\n      <td>0</td>\n      <td>33.76</td>\n      <td>Medium</td>\n      <td>182</td>\n      <td>172</td>\n      <td>10</td>\n      <td>0</td>\n      <td>0</td>\n      <td>0</td>\n      <td>0</td>\n      <td>84</td>\n      <td>48</td>\n      <td>36</td>\n      <td>0</td>\n      <td>2</td>\n      <td>180</td>\n      <td>0</td>\n      <td>0</td>\n      <td>0</td>\n      <td>Good</td>\n    </tr>\n    <tr>\n      <th>388</th>\n      <td>Tyler</td>\n      <td>TX</td>\n      <td>32.3184</td>\n      <td>-95.3062</td>\n      <td>146464</td>\n      <td>70107</td>\n      <td>76325</td>\n      <td>23.3</td>\n      <td>51.9</td>\n      <td>21.2</td>\n      <td>0.2</td>\n      <td>1.9</td>\n      <td>0.1</td>\n      <td>1368440</td>\n      <td>247749</td>\n      <td>712962</td>\n      <td>115189</td>\n      <td>19.0</td>\n      <td>24.8</td>\n      <td>65336</td>\n      <td>6.8</td>\n      <td>82.9</td>\n      <td>10.7</td>\n      <td>6.0</td>\n      <td>0.2</td>\n      <td>31.2</td>\n      <td>20.5</td>\n      <td>23.2</td>\n      <td>10.4</td>\n      <td>14.5</td>\n      <td>83.6</td>\n      <td>9.4</td>\n      <td>0.2</td>\n      <td>1.0</td>\n      <td>2.2</td>\n      <td>3.2</td>\n      <td>22.1</td>\n      <td>780</td>\n      <td>2020</td>\n      <td>106851</td>\n      <td>401</td>\n      <td>0</td>\n      <td>72</td>\n      <td>58</td>\n      <td>271</td>\n      <td>3206</td>\n      <td>439</td>\n      <td>2597</td>\n      <td>170</td>\n      <td>0</td>\n      <td>33.76</td>\n      <td>Medium</td>\n      <td>182</td>\n      <td>172</td>\n      <td>10</td>\n      <td>0</td>\n      <td>0</td>\n      <td>0</td>\n      <td>0</td>\n      <td>84</td>\n      <td>48</td>\n      <td>36</td>\n      <td>0</td>\n      <td>2</td>\n      <td>180</td>\n      <td>0</td>\n      <td>0</td>\n      <td>0</td>\n      <td>Good</td>\n    </tr>\n    <tr>\n      <th>400</th>\n      <td>Warren</td>\n      <td>OH</td>\n      <td>41.2390</td>\n      <td>-80.8174</td>\n      <td>74980</td>\n      <td>36292</td>\n      <td>38665</td>\n      <td>1.9</td>\n      <td>79.1</td>\n      <td>15.4</td>\n      <td>0.3</td>\n      <td>0.5</td>\n      <td>0.0</td>\n      <td>839535</td>\n      <td>140851</td>\n      <td>485366</td>\n      <td>67141</td>\n      <td>23.3</td>\n      <td>35.1</td>\n      <td>30323</td>\n      <td>7.3</td>\n      <td>82.0</td>\n      <td>12.5</td>\n      <td>5.1</td>\n      <td>0.1</td>\n      <td>29.0</td>\n      <td>19.6</td>\n      <td>23.7</td>\n      <td>7.2</td>\n      <td>20.1</td>\n      <td>89.5</td>\n      <td>5.4</td>\n      <td>0.3</td>\n      <td>0.6</td>\n      <td>0.3</td>\n      <td>3.4</td>\n      <td>21.2</td>\n      <td>734</td>\n      <td>2020</td>\n      <td>38012</td>\n      <td>212</td>\n      <td>5</td>\n      <td>35</td>\n      <td>68</td>\n      <td>104</td>\n      <td>1478</td>\n      <td>431</td>\n      <td>941</td>\n      <td>106</td>\n      <td>7</td>\n      <td>44.46</td>\n      <td>High</td>\n      <td>274</td>\n      <td>227</td>\n      <td>43</td>\n      <td>3</td>\n      <td>1</td>\n      <td>0</td>\n      <td>0</td>\n      <td>153</td>\n      <td>58</td>\n      <td>41</td>\n      <td>0</td>\n      <td>0</td>\n      <td>190</td>\n      <td>0</td>\n      <td>84</td>\n      <td>0</td>\n      <td>Good</td>\n    </tr>\n    <tr>\n      <th>401</th>\n      <td>Warren</td>\n      <td>OH</td>\n      <td>41.2390</td>\n      <td>-80.8174</td>\n      <td>74980</td>\n      <td>36292</td>\n      <td>38665</td>\n      <td>1.9</td>\n      <td>79.1</td>\n      <td>15.4</td>\n      <td>0.3</td>\n      <td>0.5</td>\n      <td>0.0</td>\n      <td>839535</td>\n      <td>140851</td>\n      <td>485366</td>\n      <td>67141</td>\n      <td>23.3</td>\n      <td>35.1</td>\n      <td>30323</td>\n      <td>7.3</td>\n      <td>82.0</td>\n      <td>12.5</td>\n      <td>5.1</td>\n      <td>0.1</td>\n      <td>29.0</td>\n      <td>19.6</td>\n      <td>23.7</td>\n      <td>7.2</td>\n      <td>20.1</td>\n      <td>89.5</td>\n      <td>5.4</td>\n      <td>0.3</td>\n      <td>0.6</td>\n      <td>0.3</td>\n      <td>3.4</td>\n      <td>21.2</td>\n      <td>734</td>\n      <td>2020</td>\n      <td>5169</td>\n      <td>24</td>\n      <td>0</td>\n      <td>0</td>\n      <td>0</td>\n      <td>24</td>\n      <td>83</td>\n      <td>27</td>\n      <td>51</td>\n      <td>5</td>\n      <td>2</td>\n      <td>20.70</td>\n      <td>Low</td>\n      <td>274</td>\n      <td>227</td>\n      <td>43</td>\n      <td>3</td>\n      <td>1</td>\n      <td>0</td>\n      <td>0</td>\n      <td>153</td>\n      <td>58</td>\n      <td>41</td>\n      <td>0</td>\n      <td>0</td>\n      <td>190</td>\n      <td>0</td>\n      <td>84</td>\n      <td>0</td>\n      <td>Good</td>\n    </tr>\n    <tr>\n      <th>402</th>\n      <td>Warren</td>\n      <td>PA</td>\n      <td>41.8433</td>\n      <td>-79.1445</td>\n      <td>17461</td>\n      <td>8284</td>\n      <td>9175</td>\n      <td>1.3</td>\n      <td>96.6</td>\n      <td>0.3</td>\n      <td>0.1</td>\n      <td>0.8</td>\n      <td>0.0</td>\n      <td>273424</td>\n      <td>39679</td>\n      <td>165840</td>\n      <td>19981</td>\n      <td>12.2</td>\n      <td>22.2</td>\n      <td>8001</td>\n      <td>5.0</td>\n      <td>81.5</td>\n      <td>11.3</td>\n      <td>6.9</td>\n      <td>0.1</td>\n      <td>37.3</td>\n      <td>14.4</td>\n      <td>21.4</td>\n      <td>8.0</td>\n      <td>18.6</td>\n      <td>81.3</td>\n      <td>8.8</td>\n      <td>0.3</td>\n      <td>5.5</td>\n      <td>0.8</td>\n      <td>3.0</td>\n      <td>16.8</td>\n      <td>724</td>\n      <td>2020</td>\n      <td>9054</td>\n      <td>60</td>\n      <td>0</td>\n      <td>3</td>\n      <td>1</td>\n      <td>56</td>\n      <td>134</td>\n      <td>12</td>\n      <td>119</td>\n      <td>3</td>\n      <td>0</td>\n      <td>21.43</td>\n      <td>Low</td>\n      <td>242</td>\n      <td>241</td>\n      <td>1</td>\n      <td>0</td>\n      <td>0</td>\n      <td>0</td>\n      <td>0</td>\n      <td>65</td>\n      <td>23</td>\n      <td>9</td>\n      <td>0</td>\n      <td>0</td>\n      <td>0</td>\n      <td>242</td>\n      <td>0</td>\n      <td>0</td>\n      <td>Good</td>\n    </tr>\n    <tr>\n      <th>403</th>\n      <td>Warren</td>\n      <td>PA</td>\n      <td>41.8433</td>\n      <td>-79.1445</td>\n      <td>17461</td>\n      <td>8284</td>\n      <td>9175</td>\n      <td>1.3</td>\n      <td>96.6</td>\n      <td>0.3</td>\n      <td>0.1</td>\n      <td>0.8</td>\n      <td>0.0</td>\n      <td>273424</td>\n      <td>39679</td>\n      <td>165840</td>\n      <td>19981</td>\n      <td>12.2</td>\n      <td>22.2</td>\n      <td>8001</td>\n      <td>5.0</td>\n      <td>81.5</td>\n      <td>11.3</td>\n      <td>6.9</td>\n      <td>0.1</td>\n      <td>37.3</td>\n      <td>14.4</td>\n      <td>21.4</td>\n      <td>8.0</td>\n      <td>18.6</td>\n      <td>81.3</td>\n      <td>8.8</td>\n      <td>0.3</td>\n      <td>5.5</td>\n      <td>0.8</td>\n      <td>3.0</td>\n      <td>16.8</td>\n      <td>724</td>\n      <td>2020</td>\n      <td>9054</td>\n      <td>60</td>\n      <td>0</td>\n      <td>3</td>\n      <td>1</td>\n      <td>56</td>\n      <td>134</td>\n      <td>12</td>\n      <td>119</td>\n      <td>3</td>\n      <td>0</td>\n      <td>21.43</td>\n      <td>Low</td>\n      <td>274</td>\n      <td>227</td>\n      <td>43</td>\n      <td>3</td>\n      <td>1</td>\n      <td>0</td>\n      <td>0</td>\n      <td>153</td>\n      <td>58</td>\n      <td>41</td>\n      <td>0</td>\n      <td>0</td>\n      <td>190</td>\n      <td>0</td>\n      <td>84</td>\n      <td>0</td>\n      <td>Good</td>\n    </tr>\n    <tr>\n      <th>414</th>\n      <td>Wichita</td>\n      <td>KS</td>\n      <td>37.6896</td>\n      <td>-97.3442</td>\n      <td>412092</td>\n      <td>203236</td>\n      <td>208770</td>\n      <td>16.3</td>\n      <td>64.0</td>\n      <td>10.4</td>\n      <td>0.6</td>\n      <td>4.9</td>\n      <td>0.0</td>\n      <td>5468326</td>\n      <td>824102</td>\n      <td>2763039</td>\n      <td>373006</td>\n      <td>16.6</td>\n      <td>21.9</td>\n      <td>195808</td>\n      <td>6.2</td>\n      <td>83.5</td>\n      <td>11.6</td>\n      <td>4.6</td>\n      <td>0.1</td>\n      <td>34.4</td>\n      <td>17.5</td>\n      <td>23.5</td>\n      <td>10.3</td>\n      <td>14.0</td>\n      <td>84.4</td>\n      <td>8.6</td>\n      <td>0.6</td>\n      <td>1.3</td>\n      <td>1.7</td>\n      <td>3.1</td>\n      <td>18.3</td>\n      <td>902</td>\n      <td>2020</td>\n      <td>390080</td>\n      <td>4451</td>\n      <td>35</td>\n      <td>367</td>\n      <td>461</td>\n      <td>3588</td>\n      <td>20759</td>\n      <td>2677</td>\n      <td>15777</td>\n      <td>2305</td>\n      <td>125</td>\n      <td>64.63</td>\n      <td>High</td>\n      <td>182</td>\n      <td>144</td>\n      <td>34</td>\n      <td>4</td>\n      <td>0</td>\n      <td>0</td>\n      <td>0</td>\n      <td>117</td>\n      <td>60</td>\n      <td>41</td>\n      <td>0</td>\n      <td>1</td>\n      <td>131</td>\n      <td>0</td>\n      <td>49</td>\n      <td>1</td>\n      <td>Good</td>\n    </tr>\n    <tr>\n      <th>415</th>\n      <td>Wichita</td>\n      <td>KS</td>\n      <td>37.6896</td>\n      <td>-97.3442</td>\n      <td>412092</td>\n      <td>203236</td>\n      <td>208770</td>\n      <td>16.3</td>\n      <td>64.0</td>\n      <td>10.4</td>\n      <td>0.6</td>\n      <td>4.9</td>\n      <td>0.0</td>\n      <td>5468326</td>\n      <td>824102</td>\n      <td>2763039</td>\n      <td>373006</td>\n      <td>16.6</td>\n      <td>21.9</td>\n      <td>195808</td>\n      <td>6.2</td>\n      <td>83.5</td>\n      <td>11.6</td>\n      <td>4.6</td>\n      <td>0.1</td>\n      <td>34.4</td>\n      <td>17.5</td>\n      <td>23.5</td>\n      <td>10.3</td>\n      <td>14.0</td>\n      <td>84.4</td>\n      <td>8.6</td>\n      <td>0.6</td>\n      <td>1.3</td>\n      <td>1.7</td>\n      <td>3.1</td>\n      <td>18.3</td>\n      <td>718</td>\n      <td>2020</td>\n      <td>390080</td>\n      <td>4451</td>\n      <td>35</td>\n      <td>367</td>\n      <td>461</td>\n      <td>3588</td>\n      <td>20759</td>\n      <td>2677</td>\n      <td>15777</td>\n      <td>2305</td>\n      <td>125</td>\n      <td>64.63</td>\n      <td>High</td>\n      <td>182</td>\n      <td>144</td>\n      <td>34</td>\n      <td>4</td>\n      <td>0</td>\n      <td>0</td>\n      <td>0</td>\n      <td>117</td>\n      <td>60</td>\n      <td>41</td>\n      <td>0</td>\n      <td>1</td>\n      <td>131</td>\n      <td>0</td>\n      <td>49</td>\n      <td>1</td>\n      <td>Good</td>\n    </tr>\n  </tbody>\n</table>\n</div>"
     },
     "metadata": {},
     "execution_count": 15
    }
   ],
   "source": [
    "df_net4[df_net4.duplicated(subset=['City', 'State', 'lat', 'lon'], keep=False)]"
   ]
  },
  {
   "cell_type": "code",
   "execution_count": 16,
   "metadata": {},
   "outputs": [],
   "source": [
    "df_net4 = df_net4.drop_duplicates(subset=['City', 'State', 'lat', 'lon'], keep='first')"
   ]
  },
  {
   "source": [
    "### Save"
   ],
   "cell_type": "markdown",
   "metadata": {}
  },
  {
   "cell_type": "code",
   "execution_count": 17,
   "metadata": {},
   "outputs": [
    {
     "output_type": "stream",
     "name": "stdout",
     "text": [
      "(397, 69)\n"
     ]
    },
    {
     "output_type": "execute_result",
     "data": {
      "text/plain": [
       "          City State      lat       lon  TotalPop     Men   Women  Hispanic  \\\n",
       "0        Akron    OH  41.0798  -81.5219    267782  129623  138086       1.9   \n",
       "1       Albany    GA  31.5776  -84.1762     93421   43571   49835       2.8   \n",
       "2       Albany    NY  42.6664  -73.7987    147794   70664   77096       7.8   \n",
       "3       Albany    OR  44.6274 -123.0966     61555   30378   31168      11.4   \n",
       "4  Albuquerque    NM  35.1053 -106.6464    632240  309415  322758      50.4   \n",
       "\n",
       "   White  Black  Native  Asian  Pacific   Income  IncomeErr  IncomePerCap  \\\n",
       "0   67.4   23.2     0.2    3.6      0.0  3068406     504125       1732548   \n",
       "1   29.2   65.2     0.1    0.9      0.0  1025141     199233        547674   \n",
       "2   60.3   20.1     0.1    7.6      0.0  1917135     331452       1102265   \n",
       "3   82.7    0.6     0.7    1.9      0.1   542299      75753        268177   \n",
       "4   38.5    2.5     4.0    2.4      0.1  7693803    1270581       4099669   \n",
       "\n",
       "   IncomePerCapErr  Poverty  ChildPoverty  Employed  Unemployment  \\\n",
       "0           258991     19.6          26.2    126247           8.5   \n",
       "1            89500     29.6          41.9     35704          16.2   \n",
       "2           158632     17.4          17.8     74293           6.6   \n",
       "3            35254     14.3          18.6     27721           8.2   \n",
       "4           581026     18.2          24.8    292907           6.8   \n",
       "\n",
       "   PrivateWork  PublicWork  SelfEmployed  FamilyWork  Professional  Service  \\\n",
       "0         85.4        10.3           4.1         0.1          32.3     19.8   \n",
       "1         71.9        23.7           4.1         0.1          30.7     21.4   \n",
       "2         71.6        24.3           3.9         0.0          42.9     20.5   \n",
       "3         78.5        15.9           5.4         0.1          33.3     18.4   \n",
       "4         74.5        19.6           5.6         0.2          39.8     20.0   \n",
       "\n",
       "   Office  Construction  Production  Drive  Carpool  Transit  Walk  \\\n",
       "0    25.3           6.6        15.6   83.3      8.5      3.1   1.6   \n",
       "1    23.1           8.1        16.3   78.1     12.4      1.8   2.3   \n",
       "2    25.2           4.6         6.6   70.4      7.2     10.1   7.3   \n",
       "3    22.7           9.9        15.5   79.0     10.7      0.3   2.6   \n",
       "4    24.0           8.3         7.7   80.2      9.1      1.8   1.8   \n",
       "\n",
       "   OtherTransp  WorkAtHome  MeanCommute  Rent  Year  Population  \\\n",
       "0          0.6         2.7         21.9   911  2020      197882   \n",
       "1          0.7         4.3         19.1   814  2020       74989   \n",
       "2          1.7         2.9         18.9  1205  2020       97221   \n",
       "3          2.0         5.1         20.8  1197  2020       54993   \n",
       "4          2.5         4.3         21.7  1013  2020      561920   \n",
       "\n",
       "   Violent crime  Murder and nonnegligent manslaughter  Rape  Robbery  \\\n",
       "0           1782                                    27   181      328   \n",
       "1            790                                    12    32      165   \n",
       "2            736                                     4    60      189   \n",
       "3             70                                     1    10       16   \n",
       "4           7596                                    84   486     1699   \n",
       "\n",
       "   Aggravated assault  Property crime  Burglary  Larceny- theft  \\\n",
       "0                1246            6568      1686            4305   \n",
       "1                 581            3452       729            2489   \n",
       "2                 483            2919       445            2315   \n",
       "3                  43            1467       128            1242   \n",
       "4                5327           26059         0           20634   \n",
       "\n",
       "   Motor vehicle theft  Arson  Crime Rate per 1000 Crime Rating  \\\n",
       "0                  577     65                42.20         High   \n",
       "1                  234     17                56.57         High   \n",
       "2                  159     16                37.59       Medium   \n",
       "3                   97     17                27.95       Medium   \n",
       "4                 5425     98                59.89         High   \n",
       "\n",
       "   Days with AQI  Good Days  Moderate Days  \\\n",
       "0            274        203             68   \n",
       "1            244        182             60   \n",
       "2            274        240             34   \n",
       "3            182        161             21   \n",
       "4            183        101             82   \n",
       "\n",
       "   Unhealthy for Sensitive Groups Days  Unhealthy Days  Very Unhealthy Days  \\\n",
       "0                                    3               0                    0   \n",
       "1                                    2               0                    0   \n",
       "2                                    0               0                    0   \n",
       "3                                    0               0                    0   \n",
       "4                                    0               0                    0   \n",
       "\n",
       "   Hazardous Days  Max AQI  90th Percentile AQI  Median AQI  Days CO  \\\n",
       "0               0      107                   63          43        0   \n",
       "1               0      114                   63          37        0   \n",
       "2               0       75                   53          39        1   \n",
       "3               0       70                   51          19        0   \n",
       "4               0      100                   65          50        1   \n",
       "\n",
       "   Days NO2  Days Ozone  Days SO2  Days PM2.5  Days PM10 Air Quality Index  \n",
       "0         0         132         0         142          0              Good  \n",
       "1         0           0         0         244          0              Good  \n",
       "2         0         169         0         104          0              Good  \n",
       "3         0           0         0         182          0              Good  \n",
       "4         0         127         0          25         30              Good  "
      ],
      "text/html": "<div>\n<style scoped>\n    .dataframe tbody tr th:only-of-type {\n        vertical-align: middle;\n    }\n\n    .dataframe tbody tr th {\n        vertical-align: top;\n    }\n\n    .dataframe thead th {\n        text-align: right;\n    }\n</style>\n<table border=\"1\" class=\"dataframe\">\n  <thead>\n    <tr style=\"text-align: right;\">\n      <th></th>\n      <th>City</th>\n      <th>State</th>\n      <th>lat</th>\n      <th>lon</th>\n      <th>TotalPop</th>\n      <th>Men</th>\n      <th>Women</th>\n      <th>Hispanic</th>\n      <th>White</th>\n      <th>Black</th>\n      <th>Native</th>\n      <th>Asian</th>\n      <th>Pacific</th>\n      <th>Income</th>\n      <th>IncomeErr</th>\n      <th>IncomePerCap</th>\n      <th>IncomePerCapErr</th>\n      <th>Poverty</th>\n      <th>ChildPoverty</th>\n      <th>Employed</th>\n      <th>Unemployment</th>\n      <th>PrivateWork</th>\n      <th>PublicWork</th>\n      <th>SelfEmployed</th>\n      <th>FamilyWork</th>\n      <th>Professional</th>\n      <th>Service</th>\n      <th>Office</th>\n      <th>Construction</th>\n      <th>Production</th>\n      <th>Drive</th>\n      <th>Carpool</th>\n      <th>Transit</th>\n      <th>Walk</th>\n      <th>OtherTransp</th>\n      <th>WorkAtHome</th>\n      <th>MeanCommute</th>\n      <th>Rent</th>\n      <th>Year</th>\n      <th>Population</th>\n      <th>Violent crime</th>\n      <th>Murder and nonnegligent manslaughter</th>\n      <th>Rape</th>\n      <th>Robbery</th>\n      <th>Aggravated assault</th>\n      <th>Property crime</th>\n      <th>Burglary</th>\n      <th>Larceny- theft</th>\n      <th>Motor vehicle theft</th>\n      <th>Arson</th>\n      <th>Crime Rate per 1000</th>\n      <th>Crime Rating</th>\n      <th>Days with AQI</th>\n      <th>Good Days</th>\n      <th>Moderate Days</th>\n      <th>Unhealthy for Sensitive Groups Days</th>\n      <th>Unhealthy Days</th>\n      <th>Very Unhealthy Days</th>\n      <th>Hazardous Days</th>\n      <th>Max AQI</th>\n      <th>90th Percentile AQI</th>\n      <th>Median AQI</th>\n      <th>Days CO</th>\n      <th>Days NO2</th>\n      <th>Days Ozone</th>\n      <th>Days SO2</th>\n      <th>Days PM2.5</th>\n      <th>Days PM10</th>\n      <th>Air Quality Index</th>\n    </tr>\n  </thead>\n  <tbody>\n    <tr>\n      <th>0</th>\n      <td>Akron</td>\n      <td>OH</td>\n      <td>41.0798</td>\n      <td>-81.5219</td>\n      <td>267782</td>\n      <td>129623</td>\n      <td>138086</td>\n      <td>1.9</td>\n      <td>67.4</td>\n      <td>23.2</td>\n      <td>0.2</td>\n      <td>3.6</td>\n      <td>0.0</td>\n      <td>3068406</td>\n      <td>504125</td>\n      <td>1732548</td>\n      <td>258991</td>\n      <td>19.6</td>\n      <td>26.2</td>\n      <td>126247</td>\n      <td>8.5</td>\n      <td>85.4</td>\n      <td>10.3</td>\n      <td>4.1</td>\n      <td>0.1</td>\n      <td>32.3</td>\n      <td>19.8</td>\n      <td>25.3</td>\n      <td>6.6</td>\n      <td>15.6</td>\n      <td>83.3</td>\n      <td>8.5</td>\n      <td>3.1</td>\n      <td>1.6</td>\n      <td>0.6</td>\n      <td>2.7</td>\n      <td>21.9</td>\n      <td>911</td>\n      <td>2020</td>\n      <td>197882</td>\n      <td>1782</td>\n      <td>27</td>\n      <td>181</td>\n      <td>328</td>\n      <td>1246</td>\n      <td>6568</td>\n      <td>1686</td>\n      <td>4305</td>\n      <td>577</td>\n      <td>65</td>\n      <td>42.20</td>\n      <td>High</td>\n      <td>274</td>\n      <td>203</td>\n      <td>68</td>\n      <td>3</td>\n      <td>0</td>\n      <td>0</td>\n      <td>0</td>\n      <td>107</td>\n      <td>63</td>\n      <td>43</td>\n      <td>0</td>\n      <td>0</td>\n      <td>132</td>\n      <td>0</td>\n      <td>142</td>\n      <td>0</td>\n      <td>Good</td>\n    </tr>\n    <tr>\n      <th>1</th>\n      <td>Albany</td>\n      <td>GA</td>\n      <td>31.5776</td>\n      <td>-84.1762</td>\n      <td>93421</td>\n      <td>43571</td>\n      <td>49835</td>\n      <td>2.8</td>\n      <td>29.2</td>\n      <td>65.2</td>\n      <td>0.1</td>\n      <td>0.9</td>\n      <td>0.0</td>\n      <td>1025141</td>\n      <td>199233</td>\n      <td>547674</td>\n      <td>89500</td>\n      <td>29.6</td>\n      <td>41.9</td>\n      <td>35704</td>\n      <td>16.2</td>\n      <td>71.9</td>\n      <td>23.7</td>\n      <td>4.1</td>\n      <td>0.1</td>\n      <td>30.7</td>\n      <td>21.4</td>\n      <td>23.1</td>\n      <td>8.1</td>\n      <td>16.3</td>\n      <td>78.1</td>\n      <td>12.4</td>\n      <td>1.8</td>\n      <td>2.3</td>\n      <td>0.7</td>\n      <td>4.3</td>\n      <td>19.1</td>\n      <td>814</td>\n      <td>2020</td>\n      <td>74989</td>\n      <td>790</td>\n      <td>12</td>\n      <td>32</td>\n      <td>165</td>\n      <td>581</td>\n      <td>3452</td>\n      <td>729</td>\n      <td>2489</td>\n      <td>234</td>\n      <td>17</td>\n      <td>56.57</td>\n      <td>High</td>\n      <td>244</td>\n      <td>182</td>\n      <td>60</td>\n      <td>2</td>\n      <td>0</td>\n      <td>0</td>\n      <td>0</td>\n      <td>114</td>\n      <td>63</td>\n      <td>37</td>\n      <td>0</td>\n      <td>0</td>\n      <td>0</td>\n      <td>0</td>\n      <td>244</td>\n      <td>0</td>\n      <td>Good</td>\n    </tr>\n    <tr>\n      <th>2</th>\n      <td>Albany</td>\n      <td>NY</td>\n      <td>42.6664</td>\n      <td>-73.7987</td>\n      <td>147794</td>\n      <td>70664</td>\n      <td>77096</td>\n      <td>7.8</td>\n      <td>60.3</td>\n      <td>20.1</td>\n      <td>0.1</td>\n      <td>7.6</td>\n      <td>0.0</td>\n      <td>1917135</td>\n      <td>331452</td>\n      <td>1102265</td>\n      <td>158632</td>\n      <td>17.4</td>\n      <td>17.8</td>\n      <td>74293</td>\n      <td>6.6</td>\n      <td>71.6</td>\n      <td>24.3</td>\n      <td>3.9</td>\n      <td>0.0</td>\n      <td>42.9</td>\n      <td>20.5</td>\n      <td>25.2</td>\n      <td>4.6</td>\n      <td>6.6</td>\n      <td>70.4</td>\n      <td>7.2</td>\n      <td>10.1</td>\n      <td>7.3</td>\n      <td>1.7</td>\n      <td>2.9</td>\n      <td>18.9</td>\n      <td>1205</td>\n      <td>2020</td>\n      <td>97221</td>\n      <td>736</td>\n      <td>4</td>\n      <td>60</td>\n      <td>189</td>\n      <td>483</td>\n      <td>2919</td>\n      <td>445</td>\n      <td>2315</td>\n      <td>159</td>\n      <td>16</td>\n      <td>37.59</td>\n      <td>Medium</td>\n      <td>274</td>\n      <td>240</td>\n      <td>34</td>\n      <td>0</td>\n      <td>0</td>\n      <td>0</td>\n      <td>0</td>\n      <td>75</td>\n      <td>53</td>\n      <td>39</td>\n      <td>1</td>\n      <td>0</td>\n      <td>169</td>\n      <td>0</td>\n      <td>104</td>\n      <td>0</td>\n      <td>Good</td>\n    </tr>\n    <tr>\n      <th>3</th>\n      <td>Albany</td>\n      <td>OR</td>\n      <td>44.6274</td>\n      <td>-123.0966</td>\n      <td>61555</td>\n      <td>30378</td>\n      <td>31168</td>\n      <td>11.4</td>\n      <td>82.7</td>\n      <td>0.6</td>\n      <td>0.7</td>\n      <td>1.9</td>\n      <td>0.1</td>\n      <td>542299</td>\n      <td>75753</td>\n      <td>268177</td>\n      <td>35254</td>\n      <td>14.3</td>\n      <td>18.6</td>\n      <td>27721</td>\n      <td>8.2</td>\n      <td>78.5</td>\n      <td>15.9</td>\n      <td>5.4</td>\n      <td>0.1</td>\n      <td>33.3</td>\n      <td>18.4</td>\n      <td>22.7</td>\n      <td>9.9</td>\n      <td>15.5</td>\n      <td>79.0</td>\n      <td>10.7</td>\n      <td>0.3</td>\n      <td>2.6</td>\n      <td>2.0</td>\n      <td>5.1</td>\n      <td>20.8</td>\n      <td>1197</td>\n      <td>2020</td>\n      <td>54993</td>\n      <td>70</td>\n      <td>1</td>\n      <td>10</td>\n      <td>16</td>\n      <td>43</td>\n      <td>1467</td>\n      <td>128</td>\n      <td>1242</td>\n      <td>97</td>\n      <td>17</td>\n      <td>27.95</td>\n      <td>Medium</td>\n      <td>182</td>\n      <td>161</td>\n      <td>21</td>\n      <td>0</td>\n      <td>0</td>\n      <td>0</td>\n      <td>0</td>\n      <td>70</td>\n      <td>51</td>\n      <td>19</td>\n      <td>0</td>\n      <td>0</td>\n      <td>0</td>\n      <td>0</td>\n      <td>182</td>\n      <td>0</td>\n      <td>Good</td>\n    </tr>\n    <tr>\n      <th>4</th>\n      <td>Albuquerque</td>\n      <td>NM</td>\n      <td>35.1053</td>\n      <td>-106.6464</td>\n      <td>632240</td>\n      <td>309415</td>\n      <td>322758</td>\n      <td>50.4</td>\n      <td>38.5</td>\n      <td>2.5</td>\n      <td>4.0</td>\n      <td>2.4</td>\n      <td>0.1</td>\n      <td>7693803</td>\n      <td>1270581</td>\n      <td>4099669</td>\n      <td>581026</td>\n      <td>18.2</td>\n      <td>24.8</td>\n      <td>292907</td>\n      <td>6.8</td>\n      <td>74.5</td>\n      <td>19.6</td>\n      <td>5.6</td>\n      <td>0.2</td>\n      <td>39.8</td>\n      <td>20.0</td>\n      <td>24.0</td>\n      <td>8.3</td>\n      <td>7.7</td>\n      <td>80.2</td>\n      <td>9.1</td>\n      <td>1.8</td>\n      <td>1.8</td>\n      <td>2.5</td>\n      <td>4.3</td>\n      <td>21.7</td>\n      <td>1013</td>\n      <td>2020</td>\n      <td>561920</td>\n      <td>7596</td>\n      <td>84</td>\n      <td>486</td>\n      <td>1699</td>\n      <td>5327</td>\n      <td>26059</td>\n      <td>0</td>\n      <td>20634</td>\n      <td>5425</td>\n      <td>98</td>\n      <td>59.89</td>\n      <td>High</td>\n      <td>183</td>\n      <td>101</td>\n      <td>82</td>\n      <td>0</td>\n      <td>0</td>\n      <td>0</td>\n      <td>0</td>\n      <td>100</td>\n      <td>65</td>\n      <td>50</td>\n      <td>1</td>\n      <td>0</td>\n      <td>127</td>\n      <td>0</td>\n      <td>25</td>\n      <td>30</td>\n      <td>Good</td>\n    </tr>\n  </tbody>\n</table>\n</div>"
     },
     "metadata": {},
     "execution_count": 17
    }
   ],
   "source": [
    "print(df_net4.shape)\n",
    "df_net4.head()"
   ]
  },
  {
   "cell_type": "code",
   "execution_count": 18,
   "metadata": {},
   "outputs": [],
   "source": [
    "# extract the merged df as a .csv\n",
    "df_net4.to_csv('merged.csv', index = False) "
   ]
  },
  {
   "cell_type": "code",
   "execution_count": null,
   "metadata": {},
   "outputs": [],
   "source": []
  }
 ],
 "metadata": {
  "kernelspec": {
   "display_name": "Python 3",
   "language": "python",
   "name": "python3"
  },
  "language_info": {
   "codemirror_mode": {
    "name": "ipython",
    "version": 3
   },
   "file_extension": ".py",
   "mimetype": "text/x-python",
   "name": "python",
   "nbconvert_exporter": "python",
   "pygments_lexer": "ipython3",
   "version": "3.8.6"
  }
 },
 "nbformat": 4,
 "nbformat_minor": 4
}