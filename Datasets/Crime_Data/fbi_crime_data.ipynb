{
  "nbformat": 4,
  "nbformat_minor": 0,
  "metadata": {
    "colab": {
      "name": "fbi_crime_data.ipynb",
      "provenance": [],
      "collapsed_sections": [],
      "toc_visible": true
    },
    "kernelspec": {
      "display_name": "Python 3",
      "name": "python3"
    }
  },
  "cells": [
    {
      "cell_type": "markdown",
      "metadata": {
        "id": "EQopXARlVrVx"
      },
      "source": [
        "# FBI Crime Data\n",
        "https://ucr.fbi.gov/crime-in-the-u.s/2019/crime-in-the-u.s.-2019/tables/table-8/table-8.xls/view"
      ]
    },
    {
      "cell_type": "markdown",
      "metadata": {
        "id": "KoSfUg2spXVv"
      },
      "source": [
        "pretty clean dataset\n",
        "- just have to clean each state separately\n",
        "- merge all csv's"
      ]
    },
    {
      "cell_type": "markdown",
      "metadata": {
        "id": "2qm3Z0SjVvR1"
      },
      "source": [
        "## EDA"
      ]
    },
    {
      "cell_type": "code",
      "metadata": {
        "colab": {
          "base_uri": "https://localhost:8080/"
        },
        "id": "Yaqe6YGecN-C",
        "outputId": "1a70cfa0-c8d3-443b-9e16-f34278167392"
      },
      "source": [
        "from google.colab import drive\n",
        "drive.mount('/content/drive')"
      ],
      "execution_count": 22,
      "outputs": [
        {
          "output_type": "stream",
          "text": [
            "Drive already mounted at /content/drive; to attempt to forcibly remount, call drive.mount(\"/content/drive\", force_remount=True).\n"
          ],
          "name": "stdout"
        }
      ]
    },
    {
      "cell_type": "code",
      "metadata": {
        "id": "QEMbeHmvVHPZ"
      },
      "source": [
        "import pandas as pd\n",
        "import numpy as np\n",
        "import re"
      ],
      "execution_count": null,
      "outputs": []
    },
    {
      "cell_type": "markdown",
      "metadata": {
        "id": "e4ABsb2z-Mox"
      },
      "source": [
        "## Wrangle \n",
        "- us dictionary\n",
        "- wrangle"
      ]
    },
    {
      "cell_type": "code",
      "metadata": {
        "id": "145ZZciSn3b6"
      },
      "source": [
        "us_states = {\n",
        "\t'Alabama': 'AL',\n",
        "\t'Alaska': 'AK',\n",
        "\t'Arizona': 'AZ',\n",
        "\t'Arkansas': 'AR',\n",
        "\t'California': 'CA',\n",
        "\t'Colorado': 'CO',\n",
        "\t'Connecticut': 'CT',\n",
        "\t'Delaware': 'DE',\n",
        "\t'District of Columbia': 'DC',\n",
        "\t'Florida': 'FL',\n",
        "\t'Georgia': 'GA',\n",
        "\t'Hawaii': 'HI',\n",
        "\t'Idaho': 'ID',\n",
        "\t'Illinois': 'IL',\n",
        "\t'Indiana': 'IN',\n",
        "\t'Iowa': 'IA',\n",
        "\t'Kansas': 'KS',\n",
        "\t'Kentucky': 'KY',\n",
        "\t'Louisiana': 'LA',\n",
        "\t'Maine': 'ME',\n",
        "\t'Maryland': 'MD',\n",
        "\t'Massachusetts': 'MA',\n",
        "\t'Michigan': 'MI',\n",
        "\t'Minnesota': 'MN',\n",
        "\t'Mississippi': 'MS',\n",
        "\t'Missouri': 'MO',\n",
        "\t'Montana': 'MT',\n",
        "\t'Nebraska': 'NE',\n",
        "\t'Nevada': 'NV',\n",
        "\t'Newhampshire': 'NH',\n",
        "\t'Newjersey': 'NJ',\n",
        "\t'Newmexico': 'NM',\n",
        "\t'Newyork': 'NY',\n",
        "\t'Northcarolina': 'NC',\n",
        "\t'Northdakota': 'ND',\n",
        "\t'Ohio': 'OH',\n",
        "\t'Oklahoma': 'OK',\n",
        "\t'Oregon': 'OR',\n",
        "\t'Pennsylvania': 'PA',\n",
        "\t'Rhodeisland': 'RI',\n",
        "\t'Southcarolina': 'SC',\n",
        "\t'Southdakota': 'SD',\n",
        "\t'Tennessee': 'TN',\n",
        "\t'Texas': 'TX',\n",
        "\t'Utah': 'UT',\n",
        "\t'Vermont': 'VT',\n",
        "\t'Virginia': 'VA',\n",
        "\t'Washington': 'WA',\n",
        "\t'Westvirginia': 'WV',\n",
        "\t'Wisconsin': 'WI',\n",
        "\t'Wyoming': 'WY'\n",
        "}"
      ],
      "execution_count": null,
      "outputs": []
    },
    {
      "cell_type": "code",
      "metadata": {
        "id": "Q4FZlcr_pAZi"
      },
      "source": [
        "# Get state name to create state column\n",
        "def return_value(k):\n",
        "  for key, value in us_states.items():\n",
        "    if k.lower()==key.lower():\n",
        "      return value\n",
        "  return('Value Not Found')"
      ],
      "execution_count": null,
      "outputs": []
    },
    {
      "cell_type": "code",
      "metadata": {
        "id": "o3NKbyFOi3VD"
      },
      "source": [
        "def wrangle(X):\n",
        "  # Wrangle all df files to merge later\n",
        "  # Create copy\n",
        "  X = X.copy()\n",
        "\n",
        "  # Need this to create states column\n",
        "  k = X.iloc[0][0]\n",
        "\n",
        "  # Make sure that k has no extra characters\n",
        "  k = re.sub('[^a-zA-Z]', '', k)\n",
        "  print(k)\n",
        "\n",
        "  # Create header row\n",
        "  header_row = 3\n",
        "  X.columns = X.iloc[header_row]\n",
        "\n",
        "  # Clean column names\n",
        "  X.columns = X.columns.str.replace(\"\\n\", \" \")\n",
        "  X = X.rename(columns = {'State': 'City',\n",
        "                          'Rape1': 'Rape',\n",
        "                          'Rape2': 'Rape',\n",
        "                          'Arson2': 'Arson',\n",
        "                          'Arson3': 'Arson'})\n",
        "\n",
        "  # Capture the first useful row\n",
        "  X = X.iloc[4:]\n",
        "  X = X.iloc[:, 0:12]\n",
        "  \n",
        "  # Delete all columns and rows that are totally null\n",
        "  X = X.dropna(axis=0, thresh = 4)\n",
        "\n",
        "  # Create state column \n",
        "  X.insert(loc=1, column = 'State', value= return_value(k))\n",
        "\n",
        "  #Remove police department and numbers from city name\n",
        "  X['City'] = X['City'].str.replace(' Metropolitan Police Department', '')\n",
        "  X['City'] = X['City'].str.replace('Metropolitan ', '')\n",
        "  X['City'] = X['City'].str.replace(' Regional Police Department', '')\n",
        "  X['City'] = X['City'].str.replace('Metro Police Authority of ', '')\n",
        "  X['City'] = X['City'].str.replace(' Police Department', '')\n",
        "  X['City'] = X['City'].str.replace(' Sheriff', '')\n",
        "  X['City'] = X['City'].str.replace('3,', '')\n",
        "  X['City'] = X['City'].str.replace('\\d+', '')\n",
        "\n",
        "  # Replace remaining NaNs with 0\n",
        "  X = X.replace(np.nan, 0)\n",
        "\n",
        "  return X"
      ],
      "execution_count": null,
      "outputs": []
    },
    {
      "cell_type": "markdown",
      "metadata": {
        "id": "NEIkIrfnZKjC"
      },
      "source": [
        "# ALABAMA"
      ]
    },
    {
      "cell_type": "code",
      "metadata": {
        "id": "tJevyV2kIH0Y",
        "colab": {
          "base_uri": "https://localhost:8080/"
        },
        "outputId": "47a9331d-2d0f-4bb1-cabb-0c34bb80b382"
      },
      "source": [
        "alabama = pd.read_excel('/content/drive/MyDrive/xls/alabama.xls')\n",
        "alabama = wrangle(alabama)\n",
        "alabama.to_csv('/content/drive/MyDrive/csv/alabama.csv')"
      ],
      "execution_count": 23,
      "outputs": [
        {
          "output_type": "stream",
          "text": [
            "ALABAMA\n"
          ],
          "name": "stdout"
        }
      ]
    },
    {
      "cell_type": "markdown",
      "metadata": {
        "id": "YB_qUPrWfmvs"
      },
      "source": [
        "# ALASKA"
      ]
    },
    {
      "cell_type": "code",
      "metadata": {
        "id": "5JEnkvqNIgTC",
        "colab": {
          "base_uri": "https://localhost:8080/"
        },
        "outputId": "374fb493-81ec-4514-df27-11822b20254f"
      },
      "source": [
        "alaska = pd.read_excel('/content/drive/MyDrive/xls/alaska.xls')\n",
        "alaska = wrangle(alaska)\n",
        "alaska.to_csv('/content/drive/MyDrive/csv/alaska.csv')"
      ],
      "execution_count": null,
      "outputs": [
        {
          "output_type": "stream",
          "text": [
            "ALASKA\n"
          ],
          "name": "stdout"
        }
      ]
    },
    {
      "cell_type": "markdown",
      "metadata": {
        "id": "zNb1qhaag2_3"
      },
      "source": [
        "# ARIZONA"
      ]
    },
    {
      "cell_type": "code",
      "metadata": {
        "id": "REOenxbjg2_4",
        "colab": {
          "base_uri": "https://localhost:8080/"
        },
        "outputId": "808622c8-a70d-44ad-dc89-f01024504aed"
      },
      "source": [
        "arizona = pd.read_excel('/content/drive/MyDrive/xls/arizona.xls')\n",
        "arizona = wrangle(arizona)\n",
        "arizona.to_csv('/content/drive/MyDrive/csv/arizona.csv')"
      ],
      "execution_count": null,
      "outputs": [
        {
          "output_type": "stream",
          "text": [
            "ARIZONA\n"
          ],
          "name": "stdout"
        }
      ]
    },
    {
      "cell_type": "markdown",
      "metadata": {
        "id": "lhg8PZhzi7-w"
      },
      "source": [
        "# ARKANSAS"
      ]
    },
    {
      "cell_type": "code",
      "metadata": {
        "id": "TXY2wz3ai7-z",
        "colab": {
          "base_uri": "https://localhost:8080/"
        },
        "outputId": "88422ed9-a37e-4119-e9ee-7d96f5f13179"
      },
      "source": [
        "arkansas = pd.read_excel('/content/drive/MyDrive/xls/arkansas.xls')\n",
        "arkansas = wrangle(arkansas)\n",
        "arkansas.to_csv('/content/drive/MyDrive/csv/arkansas.csv')"
      ],
      "execution_count": null,
      "outputs": [
        {
          "output_type": "stream",
          "text": [
            "ARKANSAS\n"
          ],
          "name": "stdout"
        }
      ]
    },
    {
      "cell_type": "markdown",
      "metadata": {
        "id": "QDWkBQn3kWr9"
      },
      "source": [
        "# CALIFORNIA"
      ]
    },
    {
      "cell_type": "code",
      "metadata": {
        "id": "PCiLDzlskWr_",
        "colab": {
          "base_uri": "https://localhost:8080/"
        },
        "outputId": "cf84cf95-9114-434d-cd34-f1f0dd73e65a"
      },
      "source": [
        "california = pd.read_excel('/content/drive/MyDrive/xls/california.xls')\n",
        "california = wrangle(california)\n",
        "california.to_csv('/content/drive/MyDrive/csv/california.csv')"
      ],
      "execution_count": null,
      "outputs": [
        {
          "output_type": "stream",
          "text": [
            "CALIFORNIA\n"
          ],
          "name": "stdout"
        }
      ]
    },
    {
      "cell_type": "markdown",
      "metadata": {
        "id": "Xdz878TilTmM"
      },
      "source": [
        "# COLORADO"
      ]
    },
    {
      "cell_type": "code",
      "metadata": {
        "id": "_Q95zXhKlTmS",
        "colab": {
          "base_uri": "https://localhost:8080/"
        },
        "outputId": "656649fa-fa36-4cba-9c98-af7255f459f6"
      },
      "source": [
        "colorado = pd.read_excel('/content/drive/MyDrive/xls/colorado.xls')\n",
        "colorado = wrangle(colorado)\n",
        "colorado.to_csv('/content/drive/MyDrive/csv/colorado.csv')"
      ],
      "execution_count": null,
      "outputs": [
        {
          "output_type": "stream",
          "text": [
            "COLORADO\n"
          ],
          "name": "stdout"
        }
      ]
    },
    {
      "cell_type": "markdown",
      "metadata": {
        "id": "fZkdOQfjmD0J"
      },
      "source": [
        "# CONNECTICUT"
      ]
    },
    {
      "cell_type": "code",
      "metadata": {
        "id": "mKWnlgQxmD0L",
        "colab": {
          "base_uri": "https://localhost:8080/"
        },
        "outputId": "1a21387e-81a2-418b-8302-97987f8a5752"
      },
      "source": [
        "connecticut = pd.read_excel('/content/drive/MyDrive/xls/connecticut.xls')\n",
        "connecticut = wrangle(connecticut)\n",
        "connecticut.to_csv('/content/drive/MyDrive/csv/connecticut.csv')"
      ],
      "execution_count": null,
      "outputs": [
        {
          "output_type": "stream",
          "text": [
            "CONNECTICUT\n"
          ],
          "name": "stdout"
        }
      ]
    },
    {
      "cell_type": "markdown",
      "metadata": {
        "id": "PFrGK2AmnDMU"
      },
      "source": [
        "# DELEWARE"
      ]
    },
    {
      "cell_type": "code",
      "metadata": {
        "id": "SZ8lBfBLnDMW",
        "colab": {
          "base_uri": "https://localhost:8080/"
        },
        "outputId": "5a84e38d-1d13-46ac-e653-ed7ad5a16c94"
      },
      "source": [
        "delaware = pd.read_excel('/content/drive/MyDrive/xls/delaware.xls')\n",
        "delaware = wrangle(delaware)\n",
        "delaware.to_csv('/content/drive/MyDrive/csv/delaware.csv')"
      ],
      "execution_count": null,
      "outputs": [
        {
          "output_type": "stream",
          "text": [
            "DELAWARE\n"
          ],
          "name": "stdout"
        }
      ]
    },
    {
      "cell_type": "markdown",
      "metadata": {
        "id": "--sPcYntop9z"
      },
      "source": [
        "# FLORIDA"
      ]
    },
    {
      "cell_type": "code",
      "metadata": {
        "id": "LqNtOU39op92",
        "colab": {
          "base_uri": "https://localhost:8080/"
        },
        "outputId": "c3a2c307-5efa-42e4-8e08-3c210de70a42"
      },
      "source": [
        "florida = pd.read_excel('/content/drive/MyDrive/xls/florida.xls')\n",
        "florida = wrangle(florida)\n",
        "florida.to_csv('/content/drive/MyDrive/csv/florida.csv')"
      ],
      "execution_count": null,
      "outputs": [
        {
          "output_type": "stream",
          "text": [
            "FLORIDA\n"
          ],
          "name": "stdout"
        }
      ]
    },
    {
      "cell_type": "markdown",
      "metadata": {
        "id": "DrcOhZPEp0yY"
      },
      "source": [
        "# GEORGIA"
      ]
    },
    {
      "cell_type": "code",
      "metadata": {
        "id": "VaA81Menp0yd",
        "colab": {
          "base_uri": "https://localhost:8080/"
        },
        "outputId": "ca236aa1-9184-4573-d80b-0a33e13ab165"
      },
      "source": [
        "georgia = pd.read_excel('/content/drive/MyDrive/xls/georgia.xls')\n",
        "georgia = wrangle(georgia)\n",
        "georgia.to_csv('/content/drive/MyDrive/csv/georgia.csv')"
      ],
      "execution_count": null,
      "outputs": [
        {
          "output_type": "stream",
          "text": [
            "GEORGIA\n"
          ],
          "name": "stdout"
        }
      ]
    },
    {
      "cell_type": "markdown",
      "metadata": {
        "id": "e5UI-ouerwdF"
      },
      "source": [
        "# HAWAII"
      ]
    },
    {
      "cell_type": "code",
      "metadata": {
        "id": "i_lUVn6WrwdH",
        "colab": {
          "base_uri": "https://localhost:8080/"
        },
        "outputId": "138fd8dc-941a-417c-dcea-15d7009adc8c"
      },
      "source": [
        "hawaii = pd.read_excel('/content/drive/MyDrive/xls/hawaii.xls')\n",
        "hawaii = wrangle(hawaii)\n",
        "hawaii.to_csv('/content/drive/MyDrive/csv/hawaii.csv')"
      ],
      "execution_count": null,
      "outputs": [
        {
          "output_type": "stream",
          "text": [
            "HAWAII\n"
          ],
          "name": "stdout"
        }
      ]
    },
    {
      "cell_type": "markdown",
      "metadata": {
        "id": "LzHa-QX4vLdr"
      },
      "source": [
        "# IDAHO"
      ]
    },
    {
      "cell_type": "code",
      "metadata": {
        "id": "r4LV86Z6vLdz",
        "colab": {
          "base_uri": "https://localhost:8080/"
        },
        "outputId": "b53f52d7-33b3-43b8-c632-81ddd9cafde0"
      },
      "source": [
        "idaho = pd.read_excel('/content/drive/MyDrive/xls/idaho.xls')\n",
        "idaho = wrangle(idaho)\n",
        "idaho.to_csv('/content/drive/MyDrive/csv/idaho.csv')"
      ],
      "execution_count": null,
      "outputs": [
        {
          "output_type": "stream",
          "text": [
            "IDAHO\n"
          ],
          "name": "stdout"
        }
      ]
    },
    {
      "cell_type": "markdown",
      "metadata": {
        "id": "coGiXn-Kwnwi"
      },
      "source": [
        "# ILLINOIS"
      ]
    },
    {
      "cell_type": "code",
      "metadata": {
        "id": "uoAGHFRpwnwk",
        "colab": {
          "base_uri": "https://localhost:8080/"
        },
        "outputId": "03eda064-fdf0-412d-b35d-1311b9aede7a"
      },
      "source": [
        "illinois = pd.read_excel('/content/drive/MyDrive/xls/illinois.xls')\n",
        "illinois = wrangle(illinois)\n",
        "illinois.to_csv('/content/drive/MyDrive/csv/illinois.csv')"
      ],
      "execution_count": null,
      "outputs": [
        {
          "output_type": "stream",
          "text": [
            "ILLINOIS\n"
          ],
          "name": "stdout"
        }
      ]
    },
    {
      "cell_type": "markdown",
      "metadata": {
        "id": "C8YdXc4z3nN-"
      },
      "source": [
        "# INDIANA"
      ]
    },
    {
      "cell_type": "code",
      "metadata": {
        "id": "pf1X5SDG3nOA",
        "colab": {
          "base_uri": "https://localhost:8080/"
        },
        "outputId": "ffde708a-a81f-43d9-ca35-9e1c7b2453ae"
      },
      "source": [
        "indiana = pd.read_excel('/content/drive/MyDrive/xls/indiana.xls')\n",
        "indiana = wrangle(indiana)\n",
        "indiana.to_csv('/content/drive/MyDrive/csv/indiana.csv')"
      ],
      "execution_count": null,
      "outputs": [
        {
          "output_type": "stream",
          "text": [
            "INDIANA\n"
          ],
          "name": "stdout"
        }
      ]
    },
    {
      "cell_type": "markdown",
      "metadata": {
        "id": "xvXhUq_k6qfl"
      },
      "source": [
        "# IOWA"
      ]
    },
    {
      "cell_type": "code",
      "metadata": {
        "id": "gwU9xkR_6qfq",
        "colab": {
          "base_uri": "https://localhost:8080/"
        },
        "outputId": "fdb70423-952f-419d-d77e-024e2b926f44"
      },
      "source": [
        "iowa = pd.read_excel('/content/drive/MyDrive/xls/iowa.xls')\n",
        "iowa = wrangle(iowa)\n",
        "iowa.to_csv('/content/drive/MyDrive/csv/iowa.csv')"
      ],
      "execution_count": null,
      "outputs": [
        {
          "output_type": "stream",
          "text": [
            "IOWA\n"
          ],
          "name": "stdout"
        }
      ]
    },
    {
      "cell_type": "markdown",
      "metadata": {
        "id": "bczs450_9roe"
      },
      "source": [
        "# KANSAS"
      ]
    },
    {
      "cell_type": "code",
      "metadata": {
        "id": "ZTuQCRhF9roq",
        "colab": {
          "base_uri": "https://localhost:8080/"
        },
        "outputId": "14a05bd5-c9ec-45f3-c3f8-97050394f221"
      },
      "source": [
        "kansas = pd.read_excel('/content/drive/MyDrive/xls/kansas.xls')\n",
        "kansas = wrangle(kansas)\n",
        "kansas.to_csv('/content/drive/MyDrive/csv/kansas.csv')"
      ],
      "execution_count": 24,
      "outputs": [
        {
          "output_type": "stream",
          "text": [
            "KANSAS\n"
          ],
          "name": "stdout"
        }
      ]
    },
    {
      "cell_type": "markdown",
      "metadata": {
        "id": "CSIP5j8OAXxG"
      },
      "source": [
        "# KENTUCKY"
      ]
    },
    {
      "cell_type": "code",
      "metadata": {
        "id": "czCxsHS3AXxK",
        "colab": {
          "base_uri": "https://localhost:8080/"
        },
        "outputId": "4f36f288-20a9-432f-fdf4-99891550dad9"
      },
      "source": [
        "kentucky = pd.read_excel('/content/drive/MyDrive/xls/kentucky.xls')\n",
        "kentucky = wrangle(kentucky)\n",
        "kentucky.to_csv('/content/drive/MyDrive/csv/kentucky.csv')"
      ],
      "execution_count": 25,
      "outputs": [
        {
          "output_type": "stream",
          "text": [
            "KENTUCKY\n"
          ],
          "name": "stdout"
        }
      ]
    },
    {
      "cell_type": "markdown",
      "metadata": {
        "id": "7BWiI34xBm4t"
      },
      "source": [
        "# LOUISIANA"
      ]
    },
    {
      "cell_type": "code",
      "metadata": {
        "id": "bqKbCazqBm4y",
        "colab": {
          "base_uri": "https://localhost:8080/"
        },
        "outputId": "b258c449-72bf-42ca-826c-bb964cf6e291"
      },
      "source": [
        "louisiana = pd.read_excel('/content/drive/MyDrive/xls/louisiana.xls')\n",
        "louisiana = wrangle(louisiana)\n",
        "louisiana.to_csv('/content/drive/MyDrive/csv/louisiana.csv')"
      ],
      "execution_count": 26,
      "outputs": [
        {
          "output_type": "stream",
          "text": [
            "LOUISIANA\n"
          ],
          "name": "stdout"
        }
      ]
    },
    {
      "cell_type": "markdown",
      "metadata": {
        "id": "Wy0XmZl4DH11"
      },
      "source": [
        "# MAINE"
      ]
    },
    {
      "cell_type": "code",
      "metadata": {
        "id": "qXyi9MPLDH19",
        "colab": {
          "base_uri": "https://localhost:8080/"
        },
        "outputId": "3db98c5f-4e7d-4251-d2f1-2285a5cfb243"
      },
      "source": [
        "maine = pd.read_excel('/content/drive/MyDrive/xls/maine.xls')\n",
        "maine = wrangle(maine)\n",
        "maine.to_csv('/content/drive/MyDrive/csv/maine.csv')"
      ],
      "execution_count": 27,
      "outputs": [
        {
          "output_type": "stream",
          "text": [
            "MAINE\n"
          ],
          "name": "stdout"
        }
      ]
    },
    {
      "cell_type": "markdown",
      "metadata": {
        "id": "KEvx1UHTKYtN"
      },
      "source": [
        "# MARYLAND"
      ]
    },
    {
      "cell_type": "code",
      "metadata": {
        "colab": {
          "base_uri": "https://localhost:8080/"
        },
        "id": "lD5WISDgKafW",
        "outputId": "4f0384ab-c235-43fb-d532-9dd131d67a30"
      },
      "source": [
        "maryland = pd.read_excel('/content/drive/MyDrive/xls/maryland.xls')\n",
        "maryland = wrangle(maryland)\n",
        "maryland.to_csv('/content/drive/MyDrive/csv/maryland.csv')"
      ],
      "execution_count": 34,
      "outputs": [
        {
          "output_type": "stream",
          "text": [
            "MARYLAND\n"
          ],
          "name": "stdout"
        }
      ]
    },
    {
      "cell_type": "markdown",
      "metadata": {
        "id": "U9cR5e3yHDUJ"
      },
      "source": [
        "# MASSACHUSETTS"
      ]
    },
    {
      "cell_type": "code",
      "metadata": {
        "id": "jMKkSd57HDUL",
        "colab": {
          "base_uri": "https://localhost:8080/"
        },
        "outputId": "3db0eb8b-d863-4a5d-eb72-4b1f9693e526"
      },
      "source": [
        "massachusetts = pd.read_excel('/content/drive/MyDrive/xls/massachusetts.xls')\n",
        "massachusetts = wrangle(massachusetts)\n",
        "massachusetts.to_csv('/content/drive/MyDrive/csv/massachusetts.csv')"
      ],
      "execution_count": 28,
      "outputs": [
        {
          "output_type": "stream",
          "text": [
            "MASSACHUSETTS\n"
          ],
          "name": "stdout"
        }
      ]
    },
    {
      "cell_type": "markdown",
      "metadata": {
        "id": "FknFxdUWHtkQ"
      },
      "source": [
        "# MICHIGAN"
      ]
    },
    {
      "cell_type": "code",
      "metadata": {
        "id": "mvS9ee1WHtkS",
        "colab": {
          "base_uri": "https://localhost:8080/"
        },
        "outputId": "4c9315cd-6aab-4946-c085-d22101b6b637"
      },
      "source": [
        "michigan = pd.read_excel('/content/drive/MyDrive/xls/michigan.xls')\n",
        "michigan = wrangle(michigan)\n",
        "michigan.to_csv('/content/drive/MyDrive/csv/michigan.csv')"
      ],
      "execution_count": 29,
      "outputs": [
        {
          "output_type": "stream",
          "text": [
            "MICHIGAN\n"
          ],
          "name": "stdout"
        }
      ]
    },
    {
      "cell_type": "markdown",
      "metadata": {
        "id": "6GIuMFUaIy6c"
      },
      "source": [
        "# MINNESOTA"
      ]
    },
    {
      "cell_type": "code",
      "metadata": {
        "id": "kZxmwLfnIy6f",
        "colab": {
          "base_uri": "https://localhost:8080/"
        },
        "outputId": "6d94e762-330a-4728-be63-e0edfc0680ea"
      },
      "source": [
        "minnesota = pd.read_excel('/content/drive/MyDrive/xls/minnesota.xls')\n",
        "minnesota = wrangle(minnesota)\n",
        "minnesota.to_csv('/content/drive/MyDrive/csv/minnesota.csv')"
      ],
      "execution_count": 30,
      "outputs": [
        {
          "output_type": "stream",
          "text": [
            "MINNESOTA\n"
          ],
          "name": "stdout"
        }
      ]
    },
    {
      "cell_type": "markdown",
      "metadata": {
        "id": "5NsaYFf_I3Xd"
      },
      "source": [
        "# MISSISSIPPI"
      ]
    },
    {
      "cell_type": "code",
      "metadata": {
        "id": "B1BbtyPSI3Xh",
        "colab": {
          "base_uri": "https://localhost:8080/"
        },
        "outputId": "a7502434-4550-4714-b57e-4c732999b5b1"
      },
      "source": [
        "mississippi = pd.read_excel('/content/drive/MyDrive/xls/mississippi.xls')\n",
        "mississippi = wrangle(mississippi)\n",
        "mississippi.to_csv('/content/drive/MyDrive/csv/mississippi.csv')"
      ],
      "execution_count": 31,
      "outputs": [
        {
          "output_type": "stream",
          "text": [
            "MISSISSIPPI\n"
          ],
          "name": "stdout"
        }
      ]
    },
    {
      "cell_type": "markdown",
      "metadata": {
        "id": "wKOqrsYEI528"
      },
      "source": [
        "# MISSOURI"
      ]
    },
    {
      "cell_type": "code",
      "metadata": {
        "id": "Yl2jp81nI52-",
        "colab": {
          "base_uri": "https://localhost:8080/"
        },
        "outputId": "c9a6ee6f-f06d-4093-ed4d-a4cac791e649"
      },
      "source": [
        "missouri = pd.read_excel('/content/drive/MyDrive/xls/missouri.xls')\n",
        "missouri = wrangle(missouri)\n",
        "missouri.to_csv('/content/drive/MyDrive/csv/missouri.csv')"
      ],
      "execution_count": 32,
      "outputs": [
        {
          "output_type": "stream",
          "text": [
            "MISSOURI\n"
          ],
          "name": "stdout"
        }
      ]
    },
    {
      "cell_type": "markdown",
      "metadata": {
        "id": "g1m1dqJPI8MN"
      },
      "source": [
        "# MONTANA"
      ]
    },
    {
      "cell_type": "code",
      "metadata": {
        "id": "_oSeBb3CI8MQ",
        "colab": {
          "base_uri": "https://localhost:8080/"
        },
        "outputId": "5af19097-4b55-45e1-a5fc-190a5a1611bc"
      },
      "source": [
        "montana = pd.read_excel('/content/drive/MyDrive/xls/montana.xls')\n",
        "montana = wrangle(montana)\n",
        "montana.to_csv('/content/drive/MyDrive/csv/montana.csv')"
      ],
      "execution_count": 33,
      "outputs": [
        {
          "output_type": "stream",
          "text": [
            "MONTANA\n"
          ],
          "name": "stdout"
        }
      ]
    },
    {
      "cell_type": "markdown",
      "metadata": {
        "id": "VkF1PL8NPGv7"
      },
      "source": [
        "# NEBRASKA"
      ]
    },
    {
      "cell_type": "code",
      "metadata": {
        "id": "AM-7f-7ZPGv-",
        "colab": {
          "base_uri": "https://localhost:8080/"
        },
        "outputId": "af41e581-80fd-4843-9788-32e6c70eb6bd"
      },
      "source": [
        "nebraska = pd.read_excel('/content/drive/MyDrive/xls/nebraska.xls')\n",
        "nebraska = wrangle(nebraska)\n",
        "nebraska.to_csv('/content/drive/MyDrive/csv/nebraska.csv')"
      ],
      "execution_count": 35,
      "outputs": [
        {
          "output_type": "stream",
          "text": [
            "NEBRASKA\n"
          ],
          "name": "stdout"
        }
      ]
    },
    {
      "cell_type": "markdown",
      "metadata": {
        "id": "CxbX32cSPJXt"
      },
      "source": [
        "# NEVADA"
      ]
    },
    {
      "cell_type": "code",
      "metadata": {
        "id": "t72O9D2LPJXv",
        "colab": {
          "base_uri": "https://localhost:8080/"
        },
        "outputId": "658b69da-5a74-4b16-c622-439942630c2b"
      },
      "source": [
        "nevada = pd.read_excel('/content/drive/MyDrive/xls/nevada.xls')\n",
        "nevada = wrangle(nevada)\n",
        "nevada.to_csv('/content/drive/MyDrive/csv/nevada.csv')"
      ],
      "execution_count": 36,
      "outputs": [
        {
          "output_type": "stream",
          "text": [
            "NEVADA\n"
          ],
          "name": "stdout"
        }
      ]
    },
    {
      "cell_type": "markdown",
      "metadata": {
        "id": "gR4q7m96PLw-"
      },
      "source": [
        "# NEW HAMPSHIRE"
      ]
    },
    {
      "cell_type": "code",
      "metadata": {
        "id": "AAd5vpXXPLw_",
        "colab": {
          "base_uri": "https://localhost:8080/"
        },
        "outputId": "664e675d-9182-4c51-e1ba-360d1fda0cd3"
      },
      "source": [
        "new_hampshire = pd.read_excel('/content/drive/MyDrive/xls/new_hampshire.xls')\n",
        "new_hampshire = wrangle(new_hampshire)\n",
        "new_hampshire.to_csv('/content/drive/MyDrive/csv/new_hampshire.csv')"
      ],
      "execution_count": 37,
      "outputs": [
        {
          "output_type": "stream",
          "text": [
            "NEWHAMPSHIRE\n"
          ],
          "name": "stdout"
        }
      ]
    },
    {
      "cell_type": "markdown",
      "metadata": {
        "id": "FubZ7ZoiPOH5"
      },
      "source": [
        "# NEW JERSEY"
      ]
    },
    {
      "cell_type": "code",
      "metadata": {
        "id": "TcUbfPejPOH6",
        "colab": {
          "base_uri": "https://localhost:8080/"
        },
        "outputId": "8241be06-c7ea-4e4a-9926-74fa892346d7"
      },
      "source": [
        "new_jersey = pd.read_excel('/content/drive/MyDrive/xls/new_jersey.xls')\n",
        "new_jersey.head()\n",
        "new_jersey = wrangle(new_jersey)\n",
        "new_jersey.to_csv('/content/drive/MyDrive/csv/new_jersey.csv')"
      ],
      "execution_count": 38,
      "outputs": [
        {
          "output_type": "stream",
          "text": [
            "NEWJERSEY\n"
          ],
          "name": "stdout"
        }
      ]
    },
    {
      "cell_type": "markdown",
      "metadata": {
        "id": "7jx8ViUWPQOV"
      },
      "source": [
        "# NEW MEXICO"
      ]
    },
    {
      "cell_type": "code",
      "metadata": {
        "id": "LyqlonE3PQOW",
        "colab": {
          "base_uri": "https://localhost:8080/"
        },
        "outputId": "e9bee790-167a-4ba4-88dd-ece5370eb744"
      },
      "source": [
        "new_mexico = pd.read_excel('/content/drive/MyDrive/xls/new_mexico.xls')\n",
        "new_mexico = wrangle(new_mexico)\n",
        "new_mexico.to_csv('/content/drive/MyDrive/csv/new_mexico.csv')"
      ],
      "execution_count": 39,
      "outputs": [
        {
          "output_type": "stream",
          "text": [
            "NEWMEXICO\n"
          ],
          "name": "stdout"
        }
      ]
    },
    {
      "cell_type": "markdown",
      "metadata": {
        "id": "ec25wvb_zO5T"
      },
      "source": [
        "# NEW YORK"
      ]
    },
    {
      "cell_type": "code",
      "metadata": {
        "id": "0v_XOzprzO5V",
        "colab": {
          "base_uri": "https://localhost:8080/"
        },
        "outputId": "2990e6f8-f351-498b-a24c-2117c04b79bc"
      },
      "source": [
        "new_york = pd.read_excel('/content/drive/MyDrive/xls/new_york.xls')\n",
        "new_york = wrangle(new_york)\n",
        "new_york.to_csv('/content/drive/MyDrive/csv/new_york.csv')"
      ],
      "execution_count": 40,
      "outputs": [
        {
          "output_type": "stream",
          "text": [
            "NEWYORK\n"
          ],
          "name": "stdout"
        }
      ]
    },
    {
      "cell_type": "markdown",
      "metadata": {
        "id": "uIElbGdAzRVm"
      },
      "source": [
        "# NORTH CAROLINA"
      ]
    },
    {
      "cell_type": "code",
      "metadata": {
        "id": "S7pRbkCqzRVm",
        "colab": {
          "base_uri": "https://localhost:8080/"
        },
        "outputId": "f6b91583-d50b-4da7-b47a-4d7ba7955241"
      },
      "source": [
        "north_carolina = pd.read_excel('/content/drive/MyDrive/xls/north_carolina.xls')\n",
        "north_carolina = wrangle(north_carolina)\n",
        "north_carolina.to_csv('/content/drive/MyDrive/csv/north_carolina.csv')"
      ],
      "execution_count": 41,
      "outputs": [
        {
          "output_type": "stream",
          "text": [
            "NORTHCAROLINA\n"
          ],
          "name": "stdout"
        }
      ]
    },
    {
      "cell_type": "markdown",
      "metadata": {
        "id": "fT4ppK5EzUUE"
      },
      "source": [
        "# NORTH DAKOTA"
      ]
    },
    {
      "cell_type": "code",
      "metadata": {
        "id": "5iIkwpNazUUE",
        "colab": {
          "base_uri": "https://localhost:8080/"
        },
        "outputId": "cf56e028-2545-49dd-debd-92052be24e87"
      },
      "source": [
        "north_dakota = pd.read_excel('/content/drive/MyDrive/xls/north_dakota.xls')\n",
        "north_dakota = wrangle(north_dakota)\n",
        "north_dakota.to_csv('/content/drive/MyDrive/csv/north_dakota.csv')"
      ],
      "execution_count": 42,
      "outputs": [
        {
          "output_type": "stream",
          "text": [
            "NORTHDAKOTA\n"
          ],
          "name": "stdout"
        }
      ]
    },
    {
      "cell_type": "markdown",
      "metadata": {
        "id": "s_Hxgmwx3-Kg"
      },
      "source": [
        "# OHIO"
      ]
    },
    {
      "cell_type": "code",
      "metadata": {
        "id": "MArYdXFW3-Kj",
        "colab": {
          "base_uri": "https://localhost:8080/"
        },
        "outputId": "d77a59a1-1654-4b56-9286-1132e9a9e27d"
      },
      "source": [
        "ohio = pd.read_excel('/content/drive/MyDrive/xls/ohio.xls')\n",
        "ohio = wrangle(ohio)\n",
        "ohio.to_csv('/content/drive/MyDrive/csv/ohio.csv')"
      ],
      "execution_count": 43,
      "outputs": [
        {
          "output_type": "stream",
          "text": [
            "OHIO\n"
          ],
          "name": "stdout"
        }
      ]
    },
    {
      "cell_type": "markdown",
      "metadata": {
        "id": "HfJVYfb34BGF"
      },
      "source": [
        "# OKLAHOMA"
      ]
    },
    {
      "cell_type": "code",
      "metadata": {
        "id": "F9wRIvtT4BGF",
        "colab": {
          "base_uri": "https://localhost:8080/"
        },
        "outputId": "9a51237b-be52-436b-9639-afebae60895c"
      },
      "source": [
        "oklahoma = pd.read_excel('/content/drive/MyDrive/xls/oklahoma.xls')\n",
        "oklahoma = wrangle(oklahoma)\n",
        "oklahoma.to_csv('/content/drive/MyDrive/csv/oklahoma.csv')"
      ],
      "execution_count": 44,
      "outputs": [
        {
          "output_type": "stream",
          "text": [
            "OKLAHOMA\n"
          ],
          "name": "stdout"
        }
      ]
    },
    {
      "cell_type": "markdown",
      "metadata": {
        "id": "3g-aWS1d4DLT"
      },
      "source": [
        "# OREGON"
      ]
    },
    {
      "cell_type": "code",
      "metadata": {
        "id": "ZAbzpyO34DLU",
        "colab": {
          "base_uri": "https://localhost:8080/"
        },
        "outputId": "ed419558-a620-4ec2-e629-80ca1d3d75fe"
      },
      "source": [
        "oregon = pd.read_excel('/content/drive/MyDrive/xls/oregon.xls')\n",
        "oregon = wrangle(oregon)\n",
        "oregon.to_csv('/content/drive/MyDrive/csv/oregon.csv')"
      ],
      "execution_count": 45,
      "outputs": [
        {
          "output_type": "stream",
          "text": [
            "OREGON\n"
          ],
          "name": "stdout"
        }
      ]
    },
    {
      "cell_type": "markdown",
      "metadata": {
        "id": "oHXKppT94FT1"
      },
      "source": [
        "# PENNSYLVANIA"
      ]
    },
    {
      "cell_type": "code",
      "metadata": {
        "id": "H6_y_Vs74FT1",
        "colab": {
          "base_uri": "https://localhost:8080/"
        },
        "outputId": "e9be99dc-ef74-4b21-c327-6f7e250129e1"
      },
      "source": [
        "pennsylvania = pd.read_excel('/content/drive/MyDrive/xls/pennsylvania.xls')\n",
        "pennsylvania = wrangle(pennsylvania)\n",
        "pennsylvania.to_csv('/content/drive/MyDrive/csv/pennsylvania.csv')"
      ],
      "execution_count": 46,
      "outputs": [
        {
          "output_type": "stream",
          "text": [
            "PENNSYLVANIA\n"
          ],
          "name": "stdout"
        }
      ]
    },
    {
      "cell_type": "markdown",
      "metadata": {
        "id": "DxDePDbu4HjO"
      },
      "source": [
        "# RHODE ISLAND"
      ]
    },
    {
      "cell_type": "code",
      "metadata": {
        "id": "aLQIPO_p4HjP",
        "colab": {
          "base_uri": "https://localhost:8080/"
        },
        "outputId": "6dfa0f2a-1cd3-4eb1-974c-a735d0c00f2a"
      },
      "source": [
        "rhode_island = pd.read_excel('/content/drive/MyDrive/xls/rhode_island.xls')\n",
        "rhode_island = wrangle(rhode_island)\n",
        "rhode_island.to_csv('/content/drive/MyDrive/csv/rhode_island.csv')"
      ],
      "execution_count": 47,
      "outputs": [
        {
          "output_type": "stream",
          "text": [
            "RHODEISLAND\n"
          ],
          "name": "stdout"
        }
      ]
    },
    {
      "cell_type": "markdown",
      "metadata": {
        "id": "rIqnYB7I-iF9"
      },
      "source": [
        "# SOUTH CAROLINA"
      ]
    },
    {
      "cell_type": "code",
      "metadata": {
        "id": "QwJq1ip7-iF_",
        "colab": {
          "base_uri": "https://localhost:8080/"
        },
        "outputId": "2035e852-5fd8-44ca-8256-8237a32d0037"
      },
      "source": [
        "south_carolina = pd.read_excel('/content/drive/MyDrive/xls/south_carolina.xls')\n",
        "south_carolina = wrangle(south_carolina)\n",
        "south_carolina.to_csv('/content/drive/MyDrive/csv/south_carolina.csv')"
      ],
      "execution_count": 48,
      "outputs": [
        {
          "output_type": "stream",
          "text": [
            "SOUTHCAROLINA\n"
          ],
          "name": "stdout"
        }
      ]
    },
    {
      "cell_type": "markdown",
      "metadata": {
        "id": "WGvzEsueAlnT"
      },
      "source": [
        "# SOUTH DAKOTA"
      ]
    },
    {
      "cell_type": "code",
      "metadata": {
        "id": "3UdlPaPJAlnV",
        "colab": {
          "base_uri": "https://localhost:8080/"
        },
        "outputId": "899f3e71-f75b-4503-efd9-0e6060513cfb"
      },
      "source": [
        "south_dakota = pd.read_excel('/content/drive/MyDrive/xls/south_dakota.xls')\n",
        "south_dakota = wrangle(south_dakota)\n",
        "south_dakota.to_csv('/content/drive/MyDrive/csv/south_dakota.csv')"
      ],
      "execution_count": 49,
      "outputs": [
        {
          "output_type": "stream",
          "text": [
            "SOUTHDAKOTA\n"
          ],
          "name": "stdout"
        }
      ]
    },
    {
      "cell_type": "markdown",
      "metadata": {
        "id": "dy88rRmNC1xf"
      },
      "source": [
        "# TENNESSEE"
      ]
    },
    {
      "cell_type": "code",
      "metadata": {
        "id": "fswGAG3qC1xf",
        "colab": {
          "base_uri": "https://localhost:8080/"
        },
        "outputId": "814e3e16-2c8e-4f3f-8010-8b1c01a79c6b"
      },
      "source": [
        "tennessee = pd.read_excel('/content/drive/MyDrive/xls/tennessee.xls')\n",
        "tennessee = wrangle(tennessee)\n",
        "tennessee.to_csv('/content/drive/MyDrive/csv/tennessee.csv')"
      ],
      "execution_count": 50,
      "outputs": [
        {
          "output_type": "stream",
          "text": [
            "TENNESSEE\n"
          ],
          "name": "stdout"
        }
      ]
    },
    {
      "cell_type": "markdown",
      "metadata": {
        "id": "JXPP-tNVEdLZ"
      },
      "source": [
        "# TEXAS"
      ]
    },
    {
      "cell_type": "code",
      "metadata": {
        "id": "INLvS4pNEdLa",
        "colab": {
          "base_uri": "https://localhost:8080/"
        },
        "outputId": "7472dedd-2fca-49b6-96e1-e200e8698269"
      },
      "source": [
        "texas = pd.read_excel('/content/drive/MyDrive/xls/texas.xls')\n",
        "texas = wrangle(texas)\n",
        "texas.to_csv('/content/drive/MyDrive/csv/texas.csv')"
      ],
      "execution_count": 51,
      "outputs": [
        {
          "output_type": "stream",
          "text": [
            "TEXAS\n"
          ],
          "name": "stdout"
        }
      ]
    },
    {
      "cell_type": "markdown",
      "metadata": {
        "id": "NKYFm_2LFejj"
      },
      "source": [
        "# UTAH"
      ]
    },
    {
      "cell_type": "code",
      "metadata": {
        "id": "Iyz-J9ESFejk",
        "colab": {
          "base_uri": "https://localhost:8080/"
        },
        "outputId": "9411ae9a-254d-428a-c4c1-87b32622882e"
      },
      "source": [
        "utah = pd.read_excel('/content/drive/MyDrive/xls/utah.xls')\n",
        "utah = wrangle(utah)\n",
        "utah.to_csv('/content/drive/MyDrive/csv/utah.csv')"
      ],
      "execution_count": 52,
      "outputs": [
        {
          "output_type": "stream",
          "text": [
            "UTAH\n"
          ],
          "name": "stdout"
        }
      ]
    },
    {
      "cell_type": "markdown",
      "metadata": {
        "id": "w8EkgoueGrDY"
      },
      "source": [
        "# VERMONT"
      ]
    },
    {
      "cell_type": "code",
      "metadata": {
        "id": "ukLXS99kGrDZ",
        "colab": {
          "base_uri": "https://localhost:8080/"
        },
        "outputId": "9bb1dec1-3a53-4f11-8170-5be188c9745d"
      },
      "source": [
        "vermont = pd.read_excel('/content/drive/MyDrive/xls/vermont.xls')\n",
        "vermont = wrangle(vermont)\n",
        "vermont.to_csv('/content/drive/MyDrive/csv/vermont.csv')"
      ],
      "execution_count": 53,
      "outputs": [
        {
          "output_type": "stream",
          "text": [
            "VERMONT\n"
          ],
          "name": "stdout"
        }
      ]
    },
    {
      "cell_type": "markdown",
      "metadata": {
        "id": "lYK1S__BGuYq"
      },
      "source": [
        "# VIRGINIA"
      ]
    },
    {
      "cell_type": "code",
      "metadata": {
        "id": "cWnDf3RFGuYq",
        "colab": {
          "base_uri": "https://localhost:8080/"
        },
        "outputId": "23f1e037-cdb4-4f0a-97db-908bbe4bea9e"
      },
      "source": [
        "virginia = pd.read_excel('/content/drive/MyDrive/xls/virginia.xls')\n",
        "virginia = wrangle(virginia)\n",
        "virginia.to_csv('/content/drive/MyDrive/csv/virginia.csv')"
      ],
      "execution_count": 54,
      "outputs": [
        {
          "output_type": "stream",
          "text": [
            "VIRGINIA\n"
          ],
          "name": "stdout"
        }
      ]
    },
    {
      "cell_type": "markdown",
      "metadata": {
        "id": "4wUy6eCYKS-4"
      },
      "source": [
        "# WASHINGTON"
      ]
    },
    {
      "cell_type": "code",
      "metadata": {
        "id": "0REScZaFKS-4",
        "colab": {
          "base_uri": "https://localhost:8080/"
        },
        "outputId": "98c5b436-feee-4f15-8592-7c44ea492730"
      },
      "source": [
        "washington = pd.read_excel('/content/drive/MyDrive/xls/washington.xls')\n",
        "washington = wrangle(washington)\n",
        "washington.to_csv('/content/drive/MyDrive/csv/washington.csv')"
      ],
      "execution_count": 55,
      "outputs": [
        {
          "output_type": "stream",
          "text": [
            "WASHINGTON\n"
          ],
          "name": "stdout"
        }
      ]
    },
    {
      "cell_type": "markdown",
      "metadata": {
        "id": "Glx-RARUKV3d"
      },
      "source": [
        "# WEST VIRGINIA"
      ]
    },
    {
      "cell_type": "code",
      "metadata": {
        "id": "hy-ZaEPmKV3d",
        "colab": {
          "base_uri": "https://localhost:8080/"
        },
        "outputId": "4b0bf1b4-b502-4744-d897-9ed7f6817cc6"
      },
      "source": [
        "west_virginia = pd.read_excel('/content/drive/MyDrive/xls/west_virginia.xls')\n",
        "west_virginia = wrangle(west_virginia)\n",
        "west_virginia.to_csv('/content/drive/MyDrive/csv/west_virginia.csv')"
      ],
      "execution_count": 56,
      "outputs": [
        {
          "output_type": "stream",
          "text": [
            "WESTVIRGINIA\n"
          ],
          "name": "stdout"
        }
      ]
    },
    {
      "cell_type": "markdown",
      "metadata": {
        "id": "niOJLPpqKZGs"
      },
      "source": [
        "# WISCONSIN"
      ]
    },
    {
      "cell_type": "code",
      "metadata": {
        "id": "Fs3rzB3vKZGv",
        "colab": {
          "base_uri": "https://localhost:8080/"
        },
        "outputId": "8f3ed4dc-ee3f-4df0-eaf3-c6cb7ea4f0db"
      },
      "source": [
        "wisconsin = pd.read_excel('/content/drive/MyDrive/xls/wisconsin.xls')\n",
        "wisconsin = wrangle(wisconsin)\n",
        "wisconsin.to_csv('/content/drive/MyDrive/csv/wisconsin.csv')"
      ],
      "execution_count": 57,
      "outputs": [
        {
          "output_type": "stream",
          "text": [
            "WISCONSIN\n"
          ],
          "name": "stdout"
        }
      ]
    },
    {
      "cell_type": "markdown",
      "metadata": {
        "id": "ZTIZFXWzKcOy"
      },
      "source": [
        "# WYOMING"
      ]
    },
    {
      "cell_type": "code",
      "metadata": {
        "id": "ekvSy2wvKcOz",
        "colab": {
          "base_uri": "https://localhost:8080/"
        },
        "outputId": "8a1ee6a8-5f85-4f5b-81ee-ac639d4f2d2c"
      },
      "source": [
        "wyoming = pd.read_excel('/content/drive/MyDrive/xls/wyoming.xls')\n",
        "wyoming = wrangle(wyoming)\n",
        "wyoming.to_csv('/content/drive/MyDrive/csv/wyoming.csv')"
      ],
      "execution_count": 58,
      "outputs": [
        {
          "output_type": "stream",
          "text": [
            "WYOMING\n"
          ],
          "name": "stdout"
        }
      ]
    }
  ]
}