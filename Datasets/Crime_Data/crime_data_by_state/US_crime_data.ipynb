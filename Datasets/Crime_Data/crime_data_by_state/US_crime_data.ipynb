{
  "nbformat": 4,
  "nbformat_minor": 0,
  "metadata": {
    "colab": {
      "name": "US_crime_data.ipynb",
      "provenance": []
    },
    "kernelspec": {
      "name": "python3",
      "display_name": "Python 3"
    }
  },
  "cells": [
    {
      "cell_type": "code",
      "metadata": {
        "id": "eD_8klgXaCT-"
      },
      "source": [
        "import pandas as pd\n",
        "import numpy as np"
      ],
      "execution_count": 1,
      "outputs": []
    },
    {
      "cell_type": "code",
      "metadata": {
        "colab": {
          "base_uri": "https://localhost:8080/"
        },
        "id": "wtOFHuW7aG9w",
        "outputId": "f32a94b0-78d2-4630-bcd5-79b01db0fe67"
      },
      "source": [
        "from google.colab import drive\n",
        "drive.mount('/content/drive')"
      ],
      "execution_count": 2,
      "outputs": [
        {
          "output_type": "stream",
          "text": [
            "Drive already mounted at /content/drive; to attempt to forcibly remount, call drive.mount(\"/content/drive\", force_remount=True).\n"
          ],
          "name": "stdout"
        }
      ]
    },
    {
      "cell_type": "markdown",
      "metadata": {
        "id": "8hwq6x7IllNG"
      },
      "source": [
        "## Data Exploration"
      ]
    },
    {
      "cell_type": "code",
      "metadata": {
        "colab": {
          "base_uri": "https://localhost:8080/",
          "height": 469
        },
        "id": "Y-gO1Ix6ahCl",
        "outputId": "06765d6c-1f1d-466b-cd1f-f36918571311"
      },
      "source": [
        "us_crime_data = pd.read_excel(\"/content/Table_10_Offenses_Known_to_Law_Enforcement_by_State_by_Metropolitan_and_Nonmetropolitan_Counties_2018.xls\")\n",
        "us_crime_data.head()\n"
      ],
      "execution_count": 3,
      "outputs": [
        {
          "output_type": "execute_result",
          "data": {
            "text/html": [
              "<div>\n",
              "<style scoped>\n",
              "    .dataframe tbody tr th:only-of-type {\n",
              "        vertical-align: middle;\n",
              "    }\n",
              "\n",
              "    .dataframe tbody tr th {\n",
              "        vertical-align: top;\n",
              "    }\n",
              "\n",
              "    .dataframe thead th {\n",
              "        text-align: right;\n",
              "    }\n",
              "</style>\n",
              "<table border=\"1\" class=\"dataframe\">\n",
              "  <thead>\n",
              "    <tr style=\"text-align: right;\">\n",
              "      <th></th>\n",
              "      <th>Table 10</th>\n",
              "      <th>Unnamed: 1</th>\n",
              "      <th>Unnamed: 2</th>\n",
              "      <th>Unnamed: 3</th>\n",
              "      <th>Unnamed: 4</th>\n",
              "      <th>Unnamed: 5</th>\n",
              "      <th>Unnamed: 6</th>\n",
              "      <th>Unnamed: 7</th>\n",
              "      <th>Unnamed: 8</th>\n",
              "      <th>Unnamed: 9</th>\n",
              "      <th>Unnamed: 10</th>\n",
              "      <th>Unnamed: 11</th>\n",
              "    </tr>\n",
              "  </thead>\n",
              "  <tbody>\n",
              "    <tr>\n",
              "      <th>0</th>\n",
              "      <td>Offenses Known to Law Enforcement</td>\n",
              "      <td>NaN</td>\n",
              "      <td>NaN</td>\n",
              "      <td>NaN</td>\n",
              "      <td>NaN</td>\n",
              "      <td>NaN</td>\n",
              "      <td>NaN</td>\n",
              "      <td>NaN</td>\n",
              "      <td>NaN</td>\n",
              "      <td>NaN</td>\n",
              "      <td>NaN</td>\n",
              "      <td>NaN</td>\n",
              "    </tr>\n",
              "    <tr>\n",
              "      <th>1</th>\n",
              "      <td>by State by Metropolitan and Nonmetropolitan C...</td>\n",
              "      <td>NaN</td>\n",
              "      <td>NaN</td>\n",
              "      <td>NaN</td>\n",
              "      <td>NaN</td>\n",
              "      <td>NaN</td>\n",
              "      <td>NaN</td>\n",
              "      <td>NaN</td>\n",
              "      <td>NaN</td>\n",
              "      <td>NaN</td>\n",
              "      <td>NaN</td>\n",
              "      <td>NaN</td>\n",
              "    </tr>\n",
              "    <tr>\n",
              "      <th>2</th>\n",
              "      <td>[The data shown in this table do not reflect c...</td>\n",
              "      <td>NaN</td>\n",
              "      <td>NaN</td>\n",
              "      <td>NaN</td>\n",
              "      <td>NaN</td>\n",
              "      <td>NaN</td>\n",
              "      <td>NaN</td>\n",
              "      <td>NaN</td>\n",
              "      <td>NaN</td>\n",
              "      <td>NaN</td>\n",
              "      <td>NaN</td>\n",
              "      <td>NaN</td>\n",
              "    </tr>\n",
              "    <tr>\n",
              "      <th>3</th>\n",
              "      <td>State</td>\n",
              "      <td>County</td>\n",
              "      <td>Violent\\ncrime</td>\n",
              "      <td>Murder and\\nnonnegligent\\nmanslaughter</td>\n",
              "      <td>Rape1</td>\n",
              "      <td>Robbery</td>\n",
              "      <td>Aggravated\\nassault</td>\n",
              "      <td>Property\\ncrime</td>\n",
              "      <td>Burglary</td>\n",
              "      <td>Larceny-\\ntheft</td>\n",
              "      <td>Motor\\nvehicle\\ntheft</td>\n",
              "      <td>Arson2</td>\n",
              "    </tr>\n",
              "    <tr>\n",
              "      <th>4</th>\n",
              "      <td>ALABAMA - Metropolitan Counties</td>\n",
              "      <td>Autauga</td>\n",
              "      <td>51</td>\n",
              "      <td>0</td>\n",
              "      <td>6</td>\n",
              "      <td>5</td>\n",
              "      <td>40</td>\n",
              "      <td>372</td>\n",
              "      <td>92</td>\n",
              "      <td>240</td>\n",
              "      <td>40</td>\n",
              "      <td>NaN</td>\n",
              "    </tr>\n",
              "  </tbody>\n",
              "</table>\n",
              "</div>"
            ],
            "text/plain": [
              "                                            Table 10  ... Unnamed: 11\n",
              "0                  Offenses Known to Law Enforcement  ...         NaN\n",
              "1  by State by Metropolitan and Nonmetropolitan C...  ...         NaN\n",
              "2  [The data shown in this table do not reflect c...  ...         NaN\n",
              "3                                              State  ...      Arson2\n",
              "4                    ALABAMA - Metropolitan Counties  ...         NaN\n",
              "\n",
              "[5 rows x 12 columns]"
            ]
          },
          "metadata": {
            "tags": []
          },
          "execution_count": 3
        }
      ]
    },
    {
      "cell_type": "code",
      "metadata": {
        "colab": {
          "base_uri": "https://localhost:8080/",
          "height": 519
        },
        "id": "oBshGKSQf7t8",
        "outputId": "001540c5-3c03-4eca-f480-e11c052daa8d"
      },
      "source": [
        "us_crime_data.tail(10)"
      ],
      "execution_count": 4,
      "outputs": [
        {
          "output_type": "execute_result",
          "data": {
            "text/html": [
              "<div>\n",
              "<style scoped>\n",
              "    .dataframe tbody tr th:only-of-type {\n",
              "        vertical-align: middle;\n",
              "    }\n",
              "\n",
              "    .dataframe tbody tr th {\n",
              "        vertical-align: top;\n",
              "    }\n",
              "\n",
              "    .dataframe thead th {\n",
              "        text-align: right;\n",
              "    }\n",
              "</style>\n",
              "<table border=\"1\" class=\"dataframe\">\n",
              "  <thead>\n",
              "    <tr style=\"text-align: right;\">\n",
              "      <th></th>\n",
              "      <th>Table 10</th>\n",
              "      <th>Unnamed: 1</th>\n",
              "      <th>Unnamed: 2</th>\n",
              "      <th>Unnamed: 3</th>\n",
              "      <th>Unnamed: 4</th>\n",
              "      <th>Unnamed: 5</th>\n",
              "      <th>Unnamed: 6</th>\n",
              "      <th>Unnamed: 7</th>\n",
              "      <th>Unnamed: 8</th>\n",
              "      <th>Unnamed: 9</th>\n",
              "      <th>Unnamed: 10</th>\n",
              "      <th>Unnamed: 11</th>\n",
              "    </tr>\n",
              "  </thead>\n",
              "  <tbody>\n",
              "    <tr>\n",
              "      <th>2359</th>\n",
              "      <td>NaN</td>\n",
              "      <td>Washakie</td>\n",
              "      <td>0</td>\n",
              "      <td>0</td>\n",
              "      <td>0</td>\n",
              "      <td>0</td>\n",
              "      <td>0</td>\n",
              "      <td>17</td>\n",
              "      <td>4</td>\n",
              "      <td>13</td>\n",
              "      <td>0</td>\n",
              "      <td>0</td>\n",
              "    </tr>\n",
              "    <tr>\n",
              "      <th>2360</th>\n",
              "      <td>NaN</td>\n",
              "      <td>Weston</td>\n",
              "      <td>5</td>\n",
              "      <td>0</td>\n",
              "      <td>1</td>\n",
              "      <td>0</td>\n",
              "      <td>4</td>\n",
              "      <td>0</td>\n",
              "      <td>0</td>\n",
              "      <td>0</td>\n",
              "      <td>0</td>\n",
              "      <td>0</td>\n",
              "    </tr>\n",
              "    <tr>\n",
              "      <th>2361</th>\n",
              "      <td>1 The figures shown in this column for the off...</td>\n",
              "      <td>NaN</td>\n",
              "      <td>NaN</td>\n",
              "      <td>NaN</td>\n",
              "      <td>NaN</td>\n",
              "      <td>NaN</td>\n",
              "      <td>NaN</td>\n",
              "      <td>NaN</td>\n",
              "      <td>NaN</td>\n",
              "      <td>NaN</td>\n",
              "      <td>NaN</td>\n",
              "      <td>NaN</td>\n",
              "    </tr>\n",
              "    <tr>\n",
              "      <th>2362</th>\n",
              "      <td>2 The FBI does not publish arson data unless i...</td>\n",
              "      <td>NaN</td>\n",
              "      <td>NaN</td>\n",
              "      <td>NaN</td>\n",
              "      <td>NaN</td>\n",
              "      <td>NaN</td>\n",
              "      <td>NaN</td>\n",
              "      <td>NaN</td>\n",
              "      <td>NaN</td>\n",
              "      <td>NaN</td>\n",
              "      <td>NaN</td>\n",
              "      <td>NaN</td>\n",
              "    </tr>\n",
              "    <tr>\n",
              "      <th>2363</th>\n",
              "      <td>3 The FBI determined that the agency's data we...</td>\n",
              "      <td>NaN</td>\n",
              "      <td>NaN</td>\n",
              "      <td>NaN</td>\n",
              "      <td>NaN</td>\n",
              "      <td>NaN</td>\n",
              "      <td>NaN</td>\n",
              "      <td>NaN</td>\n",
              "      <td>NaN</td>\n",
              "      <td>NaN</td>\n",
              "      <td>NaN</td>\n",
              "      <td>NaN</td>\n",
              "    </tr>\n",
              "    <tr>\n",
              "      <th>2364</th>\n",
              "      <td>4 The Tulare County Highway Patrol collects th...</td>\n",
              "      <td>NaN</td>\n",
              "      <td>NaN</td>\n",
              "      <td>NaN</td>\n",
              "      <td>NaN</td>\n",
              "      <td>NaN</td>\n",
              "      <td>NaN</td>\n",
              "      <td>NaN</td>\n",
              "      <td>NaN</td>\n",
              "      <td>NaN</td>\n",
              "      <td>NaN</td>\n",
              "      <td>NaN</td>\n",
              "    </tr>\n",
              "    <tr>\n",
              "      <th>2365</th>\n",
              "      <td>5 Because of changes in the state/local agency...</td>\n",
              "      <td>NaN</td>\n",
              "      <td>NaN</td>\n",
              "      <td>NaN</td>\n",
              "      <td>NaN</td>\n",
              "      <td>NaN</td>\n",
              "      <td>NaN</td>\n",
              "      <td>NaN</td>\n",
              "      <td>NaN</td>\n",
              "      <td>NaN</td>\n",
              "      <td>NaN</td>\n",
              "      <td>NaN</td>\n",
              "    </tr>\n",
              "    <tr>\n",
              "      <th>2366</th>\n",
              "      <td>6 Limited data for 2018 were available for Iowa.</td>\n",
              "      <td>NaN</td>\n",
              "      <td>NaN</td>\n",
              "      <td>NaN</td>\n",
              "      <td>NaN</td>\n",
              "      <td>NaN</td>\n",
              "      <td>NaN</td>\n",
              "      <td>NaN</td>\n",
              "      <td>NaN</td>\n",
              "      <td>NaN</td>\n",
              "      <td>NaN</td>\n",
              "      <td>NaN</td>\n",
              "    </tr>\n",
              "    <tr>\n",
              "      <th>2367</th>\n",
              "      <td>7 This agency/state submits rape data classifi...</td>\n",
              "      <td>NaN</td>\n",
              "      <td>NaN</td>\n",
              "      <td>NaN</td>\n",
              "      <td>NaN</td>\n",
              "      <td>NaN</td>\n",
              "      <td>NaN</td>\n",
              "      <td>NaN</td>\n",
              "      <td>NaN</td>\n",
              "      <td>NaN</td>\n",
              "      <td>NaN</td>\n",
              "      <td>NaN</td>\n",
              "    </tr>\n",
              "    <tr>\n",
              "      <th>2368</th>\n",
              "      <td>8 The FBI determined that the agency's data we...</td>\n",
              "      <td>NaN</td>\n",
              "      <td>NaN</td>\n",
              "      <td>NaN</td>\n",
              "      <td>NaN</td>\n",
              "      <td>NaN</td>\n",
              "      <td>NaN</td>\n",
              "      <td>NaN</td>\n",
              "      <td>NaN</td>\n",
              "      <td>NaN</td>\n",
              "      <td>NaN</td>\n",
              "      <td>NaN</td>\n",
              "    </tr>\n",
              "  </tbody>\n",
              "</table>\n",
              "</div>"
            ],
            "text/plain": [
              "                                               Table 10  ... Unnamed: 11\n",
              "2359                                                NaN  ...           0\n",
              "2360                                                NaN  ...           0\n",
              "2361  1 The figures shown in this column for the off...  ...         NaN\n",
              "2362  2 The FBI does not publish arson data unless i...  ...         NaN\n",
              "2363  3 The FBI determined that the agency's data we...  ...         NaN\n",
              "2364  4 The Tulare County Highway Patrol collects th...  ...         NaN\n",
              "2365  5 Because of changes in the state/local agency...  ...         NaN\n",
              "2366  6 Limited data for 2018 were available for Iowa.   ...         NaN\n",
              "2367  7 This agency/state submits rape data classifi...  ...         NaN\n",
              "2368  8 The FBI determined that the agency's data we...  ...         NaN\n",
              "\n",
              "[10 rows x 12 columns]"
            ]
          },
          "metadata": {
            "tags": []
          },
          "execution_count": 4
        }
      ]
    },
    {
      "cell_type": "markdown",
      "metadata": {
        "id": "p9W1m6Ook4Hm"
      },
      "source": [
        "## Data Cleaning"
      ]
    },
    {
      "cell_type": "markdown",
      "metadata": {
        "id": "_otaGXnEkwt4"
      },
      "source": [
        "#### Change Column Names"
      ]
    },
    {
      "cell_type": "code",
      "metadata": {
        "colab": {
          "base_uri": "https://localhost:8080/",
          "height": 487
        },
        "id": "4ogadgb4b81e",
        "outputId": "20c08bb7-6c30-4838-d4e1-ea1f03cbd08e"
      },
      "source": [
        "header_row = 3\n",
        "us_crime_data.columns = us_crime_data.iloc[header_row]\n",
        "us_crime_data.head()"
      ],
      "execution_count": 5,
      "outputs": [
        {
          "output_type": "execute_result",
          "data": {
            "text/html": [
              "<div>\n",
              "<style scoped>\n",
              "    .dataframe tbody tr th:only-of-type {\n",
              "        vertical-align: middle;\n",
              "    }\n",
              "\n",
              "    .dataframe tbody tr th {\n",
              "        vertical-align: top;\n",
              "    }\n",
              "\n",
              "    .dataframe thead th {\n",
              "        text-align: right;\n",
              "    }\n",
              "</style>\n",
              "<table border=\"1\" class=\"dataframe\">\n",
              "  <thead>\n",
              "    <tr style=\"text-align: right;\">\n",
              "      <th>3</th>\n",
              "      <th>State</th>\n",
              "      <th>County</th>\n",
              "      <th>Violent\\ncrime</th>\n",
              "      <th>Murder and\\nnonnegligent\\nmanslaughter</th>\n",
              "      <th>Rape1</th>\n",
              "      <th>Robbery</th>\n",
              "      <th>Aggravated\\nassault</th>\n",
              "      <th>Property\\ncrime</th>\n",
              "      <th>Burglary</th>\n",
              "      <th>Larceny-\\ntheft</th>\n",
              "      <th>Motor\\nvehicle\\ntheft</th>\n",
              "      <th>Arson2</th>\n",
              "    </tr>\n",
              "  </thead>\n",
              "  <tbody>\n",
              "    <tr>\n",
              "      <th>0</th>\n",
              "      <td>Offenses Known to Law Enforcement</td>\n",
              "      <td>NaN</td>\n",
              "      <td>NaN</td>\n",
              "      <td>NaN</td>\n",
              "      <td>NaN</td>\n",
              "      <td>NaN</td>\n",
              "      <td>NaN</td>\n",
              "      <td>NaN</td>\n",
              "      <td>NaN</td>\n",
              "      <td>NaN</td>\n",
              "      <td>NaN</td>\n",
              "      <td>NaN</td>\n",
              "    </tr>\n",
              "    <tr>\n",
              "      <th>1</th>\n",
              "      <td>by State by Metropolitan and Nonmetropolitan C...</td>\n",
              "      <td>NaN</td>\n",
              "      <td>NaN</td>\n",
              "      <td>NaN</td>\n",
              "      <td>NaN</td>\n",
              "      <td>NaN</td>\n",
              "      <td>NaN</td>\n",
              "      <td>NaN</td>\n",
              "      <td>NaN</td>\n",
              "      <td>NaN</td>\n",
              "      <td>NaN</td>\n",
              "      <td>NaN</td>\n",
              "    </tr>\n",
              "    <tr>\n",
              "      <th>2</th>\n",
              "      <td>[The data shown in this table do not reflect c...</td>\n",
              "      <td>NaN</td>\n",
              "      <td>NaN</td>\n",
              "      <td>NaN</td>\n",
              "      <td>NaN</td>\n",
              "      <td>NaN</td>\n",
              "      <td>NaN</td>\n",
              "      <td>NaN</td>\n",
              "      <td>NaN</td>\n",
              "      <td>NaN</td>\n",
              "      <td>NaN</td>\n",
              "      <td>NaN</td>\n",
              "    </tr>\n",
              "    <tr>\n",
              "      <th>3</th>\n",
              "      <td>State</td>\n",
              "      <td>County</td>\n",
              "      <td>Violent\\ncrime</td>\n",
              "      <td>Murder and\\nnonnegligent\\nmanslaughter</td>\n",
              "      <td>Rape1</td>\n",
              "      <td>Robbery</td>\n",
              "      <td>Aggravated\\nassault</td>\n",
              "      <td>Property\\ncrime</td>\n",
              "      <td>Burglary</td>\n",
              "      <td>Larceny-\\ntheft</td>\n",
              "      <td>Motor\\nvehicle\\ntheft</td>\n",
              "      <td>Arson2</td>\n",
              "    </tr>\n",
              "    <tr>\n",
              "      <th>4</th>\n",
              "      <td>ALABAMA - Metropolitan Counties</td>\n",
              "      <td>Autauga</td>\n",
              "      <td>51</td>\n",
              "      <td>0</td>\n",
              "      <td>6</td>\n",
              "      <td>5</td>\n",
              "      <td>40</td>\n",
              "      <td>372</td>\n",
              "      <td>92</td>\n",
              "      <td>240</td>\n",
              "      <td>40</td>\n",
              "      <td>NaN</td>\n",
              "    </tr>\n",
              "  </tbody>\n",
              "</table>\n",
              "</div>"
            ],
            "text/plain": [
              "3                                              State  ...  Arson2\n",
              "0                  Offenses Known to Law Enforcement  ...     NaN\n",
              "1  by State by Metropolitan and Nonmetropolitan C...  ...     NaN\n",
              "2  [The data shown in this table do not reflect c...  ...     NaN\n",
              "3                                              State  ...  Arson2\n",
              "4                    ALABAMA - Metropolitan Counties  ...     NaN\n",
              "\n",
              "[5 rows x 12 columns]"
            ]
          },
          "metadata": {
            "tags": []
          },
          "execution_count": 5
        }
      ]
    },
    {
      "cell_type": "code",
      "metadata": {
        "id": "UkbFHj6xjoyR"
      },
      "source": [
        "us_crime_data.columns = us_crime_data.columns.str.replace(\"\\n\", \" \")"
      ],
      "execution_count": 6,
      "outputs": []
    },
    {
      "cell_type": "code",
      "metadata": {
        "id": "7YXUpMPTkFKm"
      },
      "source": [
        "us_crime_data = us_crime_data.rename(columns={\"Arson2\":\"Arson\"})"
      ],
      "execution_count": 7,
      "outputs": []
    },
    {
      "cell_type": "markdown",
      "metadata": {
        "id": "54IKGJ_KlDgc"
      },
      "source": [
        "#### Delete first 4 rows"
      ]
    },
    {
      "cell_type": "code",
      "metadata": {
        "id": "mFlCVxulcdAs"
      },
      "source": [
        "us_crime_data = us_crime_data.iloc[4:]"
      ],
      "execution_count": 8,
      "outputs": []
    },
    {
      "cell_type": "markdown",
      "metadata": {
        "id": "52RhRLJclWGI"
      },
      "source": [
        "#### Delete last 8 rows"
      ]
    },
    {
      "cell_type": "code",
      "metadata": {
        "colab": {
          "base_uri": "https://localhost:8080/",
          "height": 241
        },
        "id": "4WQ_hFt5hBFK",
        "outputId": "44dc413d-7806-41ac-b646-7f73bfa96af2"
      },
      "source": [
        "us_crime_data = us_crime_data.drop(us_crime_data.tail(8).index)\n",
        "us_crime_data.tail(5)"
      ],
      "execution_count": 9,
      "outputs": [
        {
          "output_type": "execute_result",
          "data": {
            "text/html": [
              "<div>\n",
              "<style scoped>\n",
              "    .dataframe tbody tr th:only-of-type {\n",
              "        vertical-align: middle;\n",
              "    }\n",
              "\n",
              "    .dataframe tbody tr th {\n",
              "        vertical-align: top;\n",
              "    }\n",
              "\n",
              "    .dataframe thead th {\n",
              "        text-align: right;\n",
              "    }\n",
              "</style>\n",
              "<table border=\"1\" class=\"dataframe\">\n",
              "  <thead>\n",
              "    <tr style=\"text-align: right;\">\n",
              "      <th>3</th>\n",
              "      <th>State</th>\n",
              "      <th>County</th>\n",
              "      <th>Violent crime</th>\n",
              "      <th>Murder and nonnegligent manslaughter</th>\n",
              "      <th>Rape1</th>\n",
              "      <th>Robbery</th>\n",
              "      <th>Aggravated assault</th>\n",
              "      <th>Property crime</th>\n",
              "      <th>Burglary</th>\n",
              "      <th>Larceny- theft</th>\n",
              "      <th>Motor vehicle theft</th>\n",
              "      <th>Arson</th>\n",
              "    </tr>\n",
              "  </thead>\n",
              "  <tbody>\n",
              "    <tr>\n",
              "      <th>2356</th>\n",
              "      <td>NaN</td>\n",
              "      <td>Sublette</td>\n",
              "      <td>4</td>\n",
              "      <td>0</td>\n",
              "      <td>0</td>\n",
              "      <td>0</td>\n",
              "      <td>4</td>\n",
              "      <td>49</td>\n",
              "      <td>11</td>\n",
              "      <td>35</td>\n",
              "      <td>3</td>\n",
              "      <td>0</td>\n",
              "    </tr>\n",
              "    <tr>\n",
              "      <th>2357</th>\n",
              "      <td>NaN</td>\n",
              "      <td>Sweetwater</td>\n",
              "      <td>22</td>\n",
              "      <td>0</td>\n",
              "      <td>8</td>\n",
              "      <td>0</td>\n",
              "      <td>14</td>\n",
              "      <td>77</td>\n",
              "      <td>17</td>\n",
              "      <td>52</td>\n",
              "      <td>8</td>\n",
              "      <td>0</td>\n",
              "    </tr>\n",
              "    <tr>\n",
              "      <th>2358</th>\n",
              "      <td>NaN</td>\n",
              "      <td>Uinta</td>\n",
              "      <td>7</td>\n",
              "      <td>1</td>\n",
              "      <td>1</td>\n",
              "      <td>1</td>\n",
              "      <td>4</td>\n",
              "      <td>53</td>\n",
              "      <td>12</td>\n",
              "      <td>35</td>\n",
              "      <td>6</td>\n",
              "      <td>0</td>\n",
              "    </tr>\n",
              "    <tr>\n",
              "      <th>2359</th>\n",
              "      <td>NaN</td>\n",
              "      <td>Washakie</td>\n",
              "      <td>0</td>\n",
              "      <td>0</td>\n",
              "      <td>0</td>\n",
              "      <td>0</td>\n",
              "      <td>0</td>\n",
              "      <td>17</td>\n",
              "      <td>4</td>\n",
              "      <td>13</td>\n",
              "      <td>0</td>\n",
              "      <td>0</td>\n",
              "    </tr>\n",
              "    <tr>\n",
              "      <th>2360</th>\n",
              "      <td>NaN</td>\n",
              "      <td>Weston</td>\n",
              "      <td>5</td>\n",
              "      <td>0</td>\n",
              "      <td>1</td>\n",
              "      <td>0</td>\n",
              "      <td>4</td>\n",
              "      <td>0</td>\n",
              "      <td>0</td>\n",
              "      <td>0</td>\n",
              "      <td>0</td>\n",
              "      <td>0</td>\n",
              "    </tr>\n",
              "  </tbody>\n",
              "</table>\n",
              "</div>"
            ],
            "text/plain": [
              "3    State      County Violent crime  ... Larceny- theft Motor vehicle theft Arson\n",
              "2356   NaN    Sublette             4  ...             35                   3     0\n",
              "2357   NaN  Sweetwater            22  ...             52                   8     0\n",
              "2358   NaN       Uinta             7  ...             35                   6     0\n",
              "2359   NaN    Washakie             0  ...             13                   0     0\n",
              "2360   NaN      Weston             5  ...              0                   0     0\n",
              "\n",
              "[5 rows x 12 columns]"
            ]
          },
          "metadata": {
            "tags": []
          },
          "execution_count": 9
        }
      ]
    },
    {
      "cell_type": "markdown",
      "metadata": {
        "id": "lL-FHTjJlG4e"
      },
      "source": [
        "### Forward Fill State Names"
      ]
    },
    {
      "cell_type": "code",
      "metadata": {
        "id": "3GdzmGf8clg1"
      },
      "source": [
        "us_crime_data['State'] = us_crime_data['State'].fillna(method = 'ffill')"
      ],
      "execution_count": 10,
      "outputs": []
    },
    {
      "cell_type": "code",
      "metadata": {
        "id": "9tS5CsEWeIPk"
      },
      "source": [
        "new = us_crime_data['State'].str.split(\" -\", n = 1, expand = True)"
      ],
      "execution_count": 11,
      "outputs": []
    },
    {
      "cell_type": "code",
      "metadata": {
        "colab": {
          "base_uri": "https://localhost:8080/",
          "height": 424
        },
        "id": "LhOWq291eIHz",
        "outputId": "cd3ac01a-8904-4f12-ac05-c276a8e93d2a"
      },
      "source": [
        "new"
      ],
      "execution_count": 12,
      "outputs": [
        {
          "output_type": "execute_result",
          "data": {
            "text/html": [
              "<div>\n",
              "<style scoped>\n",
              "    .dataframe tbody tr th:only-of-type {\n",
              "        vertical-align: middle;\n",
              "    }\n",
              "\n",
              "    .dataframe tbody tr th {\n",
              "        vertical-align: top;\n",
              "    }\n",
              "\n",
              "    .dataframe thead th {\n",
              "        text-align: right;\n",
              "    }\n",
              "</style>\n",
              "<table border=\"1\" class=\"dataframe\">\n",
              "  <thead>\n",
              "    <tr style=\"text-align: right;\">\n",
              "      <th></th>\n",
              "      <th>0</th>\n",
              "      <th>1</th>\n",
              "    </tr>\n",
              "  </thead>\n",
              "  <tbody>\n",
              "    <tr>\n",
              "      <th>4</th>\n",
              "      <td>ALABAMA</td>\n",
              "      <td>Metropolitan Counties</td>\n",
              "    </tr>\n",
              "    <tr>\n",
              "      <th>5</th>\n",
              "      <td>ALABAMA</td>\n",
              "      <td>Metropolitan Counties</td>\n",
              "    </tr>\n",
              "    <tr>\n",
              "      <th>6</th>\n",
              "      <td>ALABAMA</td>\n",
              "      <td>Metropolitan Counties</td>\n",
              "    </tr>\n",
              "    <tr>\n",
              "      <th>7</th>\n",
              "      <td>ALABAMA</td>\n",
              "      <td>Metropolitan Counties</td>\n",
              "    </tr>\n",
              "    <tr>\n",
              "      <th>8</th>\n",
              "      <td>ALABAMA</td>\n",
              "      <td>Metropolitan Counties</td>\n",
              "    </tr>\n",
              "    <tr>\n",
              "      <th>...</th>\n",
              "      <td>...</td>\n",
              "      <td>...</td>\n",
              "    </tr>\n",
              "    <tr>\n",
              "      <th>2356</th>\n",
              "      <td>WYOMING</td>\n",
              "      <td>Nonmetropolitan Counties</td>\n",
              "    </tr>\n",
              "    <tr>\n",
              "      <th>2357</th>\n",
              "      <td>WYOMING</td>\n",
              "      <td>Nonmetropolitan Counties</td>\n",
              "    </tr>\n",
              "    <tr>\n",
              "      <th>2358</th>\n",
              "      <td>WYOMING</td>\n",
              "      <td>Nonmetropolitan Counties</td>\n",
              "    </tr>\n",
              "    <tr>\n",
              "      <th>2359</th>\n",
              "      <td>WYOMING</td>\n",
              "      <td>Nonmetropolitan Counties</td>\n",
              "    </tr>\n",
              "    <tr>\n",
              "      <th>2360</th>\n",
              "      <td>WYOMING</td>\n",
              "      <td>Nonmetropolitan Counties</td>\n",
              "    </tr>\n",
              "  </tbody>\n",
              "</table>\n",
              "<p>2357 rows × 2 columns</p>\n",
              "</div>"
            ],
            "text/plain": [
              "            0                          1\n",
              "4     ALABAMA      Metropolitan Counties\n",
              "5     ALABAMA      Metropolitan Counties\n",
              "6     ALABAMA      Metropolitan Counties\n",
              "7     ALABAMA      Metropolitan Counties\n",
              "8     ALABAMA      Metropolitan Counties\n",
              "...       ...                        ...\n",
              "2356  WYOMING   Nonmetropolitan Counties\n",
              "2357  WYOMING   Nonmetropolitan Counties\n",
              "2358  WYOMING   Nonmetropolitan Counties\n",
              "2359  WYOMING   Nonmetropolitan Counties\n",
              "2360  WYOMING   Nonmetropolitan Counties\n",
              "\n",
              "[2357 rows x 2 columns]"
            ]
          },
          "metadata": {
            "tags": []
          },
          "execution_count": 12
        }
      ]
    },
    {
      "cell_type": "code",
      "metadata": {
        "id": "X3Wt9SF0ftAh"
      },
      "source": [
        "us_crime_data['State'] = new[0]"
      ],
      "execution_count": 13,
      "outputs": []
    },
    {
      "cell_type": "code",
      "metadata": {
        "id": "zxO5YQRb9X7o"
      },
      "source": [
        "us_crime_data['State'] = us_crime_data['State'].str.replace('IOWA6', 'IOWA')"
      ],
      "execution_count": 14,
      "outputs": []
    },
    {
      "cell_type": "markdown",
      "metadata": {
        "id": "D9bO931Hj9OE"
      },
      "source": [
        "### Separate column with State Abbreviations"
      ]
    },
    {
      "cell_type": "code",
      "metadata": {
        "id": "znfF1IWRkgIH"
      },
      "source": [
        "us_state_abbrev = {\n",
        "    'ALABAMA': 'AL', \n",
        "    'ALASKA': 'AK', \n",
        "    'ARIZONA': 'AZ', \n",
        "    'ARKANSAS': 'AR', \n",
        "    'CALIFORNIA': 'CA', \n",
        "    'COLORADO': 'CO',\n",
        "    'CONNECTICUT': 'CT', \n",
        "    'DELAWARE': 'DE', \n",
        "    'FLORIDA': 'FL', \n",
        "    'GEORGIA': 'GA', \n",
        "    'HAWAII': 'HI', \n",
        "    'IDAHO': 'ID',\n",
        "    'ILLINOIS': 'IL', \n",
        "    'INDIANA': 'IN', \n",
        "    'IOWA': 'IA', \n",
        "    'KANSAS': 'KS', \n",
        "    'KENTUCKY': 'KY', \n",
        "    'LOUISIANA': 'LA',\n",
        "    'MAINE': 'ME', \n",
        "    'MARYLAND': 'MD', \n",
        "    'MASSACHUSETTS': 'MA', \n",
        "    'MICHIGAN': 'MI', \n",
        "    'MINNESOTA': 'MN', \n",
        "    'MISSISSIPPI': 'MS',\n",
        "    'MISSOURI': 'MO', \n",
        "    'MONTANA': 'MT', \n",
        "    'NEBRASKA': 'NE', \n",
        "    'NEVADA': 'NV', \n",
        "    'NEW HAMPSHIRE': 'NH', \n",
        "    'NEW JERSEY': 'NJ',\n",
        "    'NEW MEXICO': 'NM', \n",
        "    'NEW YORK': 'NY', \n",
        "    'NORTH CAROLINA': 'NC', \n",
        "    'NORTH DAKOTA': 'ND', \n",
        "    'OHIO': 'OH', \n",
        "    'OKLAHOMA': 'OK',\n",
        "    'OREGON': 'OR', \n",
        "    'PENNSYLVANIA': 'PA', \n",
        "    'RHODE ISLAND': 'RI', \n",
        "    'SOUTH CAROLINA': 'SC', \n",
        "    'SOUTH DAKOTA': 'SD',\n",
        "    'TENNESSEE': 'TN', \n",
        "    'TEXAS': 'TX', \n",
        "    'UTAH': 'UT', \n",
        "    'VERMONT': 'VT', \n",
        "    'VIRGINIA': 'VA', \n",
        "    'WASHINGTON': 'WA',\n",
        "    'WEST VIRGINIA': 'WV', \n",
        "    'WISCONSIN': 'WI', \n",
        "    'WYOMING': 'WY'}"
      ],
      "execution_count": 15,
      "outputs": []
    },
    {
      "cell_type": "code",
      "metadata": {
        "id": "Y2i8ZvhIj8ng"
      },
      "source": [
        "us_crime_data['State Abbreviations'] = us_crime_data['State'].map(us_state_abbrev)"
      ],
      "execution_count": 16,
      "outputs": []
    },
    {
      "cell_type": "code",
      "metadata": {
        "colab": {
          "base_uri": "https://localhost:8080/",
          "height": 241
        },
        "id": "Q85_wRepw4VX",
        "outputId": "70140e63-d941-4ef1-deb9-84b289b39b84"
      },
      "source": [
        "us_crime_data.head()"
      ],
      "execution_count": 17,
      "outputs": [
        {
          "output_type": "execute_result",
          "data": {
            "text/html": [
              "<div>\n",
              "<style scoped>\n",
              "    .dataframe tbody tr th:only-of-type {\n",
              "        vertical-align: middle;\n",
              "    }\n",
              "\n",
              "    .dataframe tbody tr th {\n",
              "        vertical-align: top;\n",
              "    }\n",
              "\n",
              "    .dataframe thead th {\n",
              "        text-align: right;\n",
              "    }\n",
              "</style>\n",
              "<table border=\"1\" class=\"dataframe\">\n",
              "  <thead>\n",
              "    <tr style=\"text-align: right;\">\n",
              "      <th>3</th>\n",
              "      <th>State</th>\n",
              "      <th>County</th>\n",
              "      <th>Violent crime</th>\n",
              "      <th>Murder and nonnegligent manslaughter</th>\n",
              "      <th>Rape1</th>\n",
              "      <th>Robbery</th>\n",
              "      <th>Aggravated assault</th>\n",
              "      <th>Property crime</th>\n",
              "      <th>Burglary</th>\n",
              "      <th>Larceny- theft</th>\n",
              "      <th>Motor vehicle theft</th>\n",
              "      <th>Arson</th>\n",
              "      <th>State Abbreviations</th>\n",
              "    </tr>\n",
              "  </thead>\n",
              "  <tbody>\n",
              "    <tr>\n",
              "      <th>4</th>\n",
              "      <td>ALABAMA</td>\n",
              "      <td>Autauga</td>\n",
              "      <td>51</td>\n",
              "      <td>0</td>\n",
              "      <td>6</td>\n",
              "      <td>5</td>\n",
              "      <td>40</td>\n",
              "      <td>372</td>\n",
              "      <td>92</td>\n",
              "      <td>240</td>\n",
              "      <td>40</td>\n",
              "      <td>NaN</td>\n",
              "      <td>AL</td>\n",
              "    </tr>\n",
              "    <tr>\n",
              "      <th>5</th>\n",
              "      <td>ALABAMA</td>\n",
              "      <td>Baldwin</td>\n",
              "      <td>223</td>\n",
              "      <td>0</td>\n",
              "      <td>9</td>\n",
              "      <td>37</td>\n",
              "      <td>177</td>\n",
              "      <td>615</td>\n",
              "      <td>173</td>\n",
              "      <td>397</td>\n",
              "      <td>45</td>\n",
              "      <td>NaN</td>\n",
              "      <td>AL</td>\n",
              "    </tr>\n",
              "    <tr>\n",
              "      <th>6</th>\n",
              "      <td>ALABAMA</td>\n",
              "      <td>Blount</td>\n",
              "      <td>375</td>\n",
              "      <td>1</td>\n",
              "      <td>19</td>\n",
              "      <td>5</td>\n",
              "      <td>350</td>\n",
              "      <td>796</td>\n",
              "      <td>191</td>\n",
              "      <td>492</td>\n",
              "      <td>113</td>\n",
              "      <td>NaN</td>\n",
              "      <td>AL</td>\n",
              "    </tr>\n",
              "    <tr>\n",
              "      <th>7</th>\n",
              "      <td>ALABAMA</td>\n",
              "      <td>Calhoun</td>\n",
              "      <td>14</td>\n",
              "      <td>0</td>\n",
              "      <td>5</td>\n",
              "      <td>7</td>\n",
              "      <td>2</td>\n",
              "      <td>144</td>\n",
              "      <td>49</td>\n",
              "      <td>95</td>\n",
              "      <td>0</td>\n",
              "      <td>NaN</td>\n",
              "      <td>AL</td>\n",
              "    </tr>\n",
              "    <tr>\n",
              "      <th>8</th>\n",
              "      <td>ALABAMA</td>\n",
              "      <td>Elmore</td>\n",
              "      <td>68</td>\n",
              "      <td>4</td>\n",
              "      <td>30</td>\n",
              "      <td>12</td>\n",
              "      <td>22</td>\n",
              "      <td>669</td>\n",
              "      <td>178</td>\n",
              "      <td>427</td>\n",
              "      <td>64</td>\n",
              "      <td>NaN</td>\n",
              "      <td>AL</td>\n",
              "    </tr>\n",
              "  </tbody>\n",
              "</table>\n",
              "</div>"
            ],
            "text/plain": [
              "3    State   County Violent crime  ... Motor vehicle theft Arson State Abbreviations\n",
              "4  ALABAMA  Autauga            51  ...                  40   NaN                  AL\n",
              "5  ALABAMA  Baldwin           223  ...                  45   NaN                  AL\n",
              "6  ALABAMA   Blount           375  ...                 113   NaN                  AL\n",
              "7  ALABAMA  Calhoun            14  ...                   0   NaN                  AL\n",
              "8  ALABAMA   Elmore            68  ...                  64   NaN                  AL\n",
              "\n",
              "[5 rows x 13 columns]"
            ]
          },
          "metadata": {
            "tags": []
          },
          "execution_count": 17
        }
      ]
    },
    {
      "cell_type": "markdown",
      "metadata": {
        "id": "M9YNrD4umeCn"
      },
      "source": [
        "## NaN?"
      ]
    },
    {
      "cell_type": "code",
      "metadata": {
        "colab": {
          "base_uri": "https://localhost:8080/"
        },
        "id": "CRmrH0bBmjg_",
        "outputId": "d2cb23c6-0fe2-45c7-8db3-2961db2ebbd7"
      },
      "source": [
        "us_crime_data.isnull().sum()"
      ],
      "execution_count": 18,
      "outputs": [
        {
          "output_type": "execute_result",
          "data": {
            "text/plain": [
              "3\n",
              "State                                     0\n",
              "County                                    1\n",
              "Violent crime                            61\n",
              "Murder and nonnegligent manslaughter      2\n",
              "Rape1                                    56\n",
              "Robbery                                   2\n",
              "Aggravated assault                        4\n",
              "Property crime                            9\n",
              "Burglary                                  8\n",
              "Larceny- theft                            1\n",
              "Motor vehicle theft                       2\n",
              "Arson                                   124\n",
              "State Abbreviations                       0\n",
              "dtype: int64"
            ]
          },
          "metadata": {
            "tags": []
          },
          "execution_count": 18
        }
      ]
    },
    {
      "cell_type": "code",
      "metadata": {
        "id": "n1eNRRmMoPqs"
      },
      "source": [
        "empty = [\"Violent crime\", \"Murder and nonnegligent manslaughter\", \"Rape1\", \"Robbery\", \"Aggravated assault\", \"Property crime\", \"Burglary\", \"Larceny- theft\", \"Motor vehicle theft\", \"Arson\"]\n",
        "us_crime_data[empty] = us_crime_data[empty].fillna(value=0)"
      ],
      "execution_count": 19,
      "outputs": []
    },
    {
      "cell_type": "code",
      "metadata": {
        "colab": {
          "base_uri": "https://localhost:8080/"
        },
        "id": "jbBzUZY4pc-a",
        "outputId": "54659b30-03ef-4de2-e56d-cb5248bff88c"
      },
      "source": [
        "us_crime_data.isnull().sum()"
      ],
      "execution_count": 20,
      "outputs": [
        {
          "output_type": "execute_result",
          "data": {
            "text/plain": [
              "3\n",
              "State                                   0\n",
              "County                                  1\n",
              "Violent crime                           0\n",
              "Murder and nonnegligent manslaughter    0\n",
              "Rape1                                   0\n",
              "Robbery                                 0\n",
              "Aggravated assault                      0\n",
              "Property crime                          0\n",
              "Burglary                                0\n",
              "Larceny- theft                          0\n",
              "Motor vehicle theft                     0\n",
              "Arson                                   0\n",
              "State Abbreviations                     0\n",
              "dtype: int64"
            ]
          },
          "metadata": {
            "tags": []
          },
          "execution_count": 20
        }
      ]
    },
    {
      "cell_type": "markdown",
      "metadata": {
        "id": "ro4uKKJSr12p"
      },
      "source": [
        "### Reorder Columns"
      ]
    },
    {
      "cell_type": "code",
      "metadata": {
        "colab": {
          "base_uri": "https://localhost:8080/"
        },
        "id": "6pbIEs3LvIeV",
        "outputId": "1c568498-e93e-46ea-9901-b62321679e60"
      },
      "source": [
        "us_crime_data.columns"
      ],
      "execution_count": 21,
      "outputs": [
        {
          "output_type": "execute_result",
          "data": {
            "text/plain": [
              "Index(['State', 'County', 'Violent crime',\n",
              "       'Murder and nonnegligent manslaughter', 'Rape1', 'Robbery',\n",
              "       'Aggravated assault', 'Property crime', 'Burglary', 'Larceny- theft',\n",
              "       'Motor vehicle theft', 'Arson', 'State Abbreviations'],\n",
              "      dtype='object', name=3)"
            ]
          },
          "metadata": {
            "tags": []
          },
          "execution_count": 21
        }
      ]
    },
    {
      "cell_type": "code",
      "metadata": {
        "id": "LhJlxP38rIpx"
      },
      "source": [
        "us_crime_data = us_crime_data[['State', 'State Abbreviations', 'County', 'Violent crime',\n",
        "       'Murder and nonnegligent manslaughter', 'Rape1', 'Robbery',\n",
        "       'Aggravated assault', 'Property crime', 'Burglary', 'Larceny- theft',\n",
        "       'Motor vehicle theft', 'Arson']]"
      ],
      "execution_count": 22,
      "outputs": []
    },
    {
      "cell_type": "markdown",
      "metadata": {
        "id": "s4zrIzmNzUuQ"
      },
      "source": [
        "### Update County Names"
      ]
    },
    {
      "cell_type": "code",
      "metadata": {
        "id": "4jxH4pLpzXSG"
      },
      "source": [
        "us_crime_data['County'] = us_crime_data['County'].str.replace(' County Police Department', '')\n",
        "us_crime_data['County'] = us_crime_data['County'].str.replace(' Police Department', '')\n",
        "us_crime_data['County'] = us_crime_data['County'].str.replace(' County', '')\n",
        "us_crime_data['County'] = us_crime_data['County'].str.replace('7', '')\n",
        "us_crime_data['County'] = us_crime_data['County'].str.replace('5', '')\n",
        "us_crime_data['County'] = us_crime_data['County'].str.replace('3', '')\n",
        "us_crime_data['County'] = us_crime_data['County'].str.replace(\"'s\", '')"
      ],
      "execution_count": 23,
      "outputs": []
    },
    {
      "cell_type": "code",
      "metadata": {
        "id": "nACKLgz_05W5"
      },
      "source": [
        "# Merge counties together after name cleaning\n",
        "#https://stackoverflow.com/questions/48115481/pandas-combine-rows-based-on-certain-column-values-and-nan"
      ],
      "execution_count": 24,
      "outputs": []
    },
    {
      "cell_type": "code",
      "metadata": {
        "id": "aZ_Goo7K5Qty",
        "colab": {
          "base_uri": "https://localhost:8080/"
        },
        "outputId": "bd67d914-baab-436a-95e7-af1fabe6bae2"
      },
      "source": [
        "us_crime_data = us_crime_data.groupby(['State', 'State Abbreviations', 'County'])[\"Violent crime\", \"Murder and nonnegligent manslaughter\", \"Rape1\", \"Robbery\", \"Aggravated assault\", \"Property crime\", \"Burglary\", \"Larceny- theft\", \"Motor vehicle theft\", \"Arson\"].sum().reset_index()"
      ],
      "execution_count": 25,
      "outputs": [
        {
          "output_type": "stream",
          "text": [
            "/usr/local/lib/python3.6/dist-packages/ipykernel_launcher.py:1: FutureWarning: Indexing with multiple keys (implicitly converted to a tuple of keys) will be deprecated, use a list instead.\n",
            "  \"\"\"Entry point for launching an IPython kernel.\n"
          ],
          "name": "stderr"
        }
      ]
    },
    {
      "cell_type": "markdown",
      "metadata": {
        "id": "NVzmHLLQmBx6"
      },
      "source": [
        "#### Check "
      ]
    },
    {
      "cell_type": "code",
      "metadata": {
        "colab": {
          "base_uri": "https://localhost:8080/",
          "height": 241
        },
        "id": "-eIRbf0kkhIG",
        "outputId": "5fb84b4e-d5f6-4b0c-bc70-e403490a89d1"
      },
      "source": [
        "us_crime_data.head()"
      ],
      "execution_count": 26,
      "outputs": [
        {
          "output_type": "execute_result",
          "data": {
            "text/html": [
              "<div>\n",
              "<style scoped>\n",
              "    .dataframe tbody tr th:only-of-type {\n",
              "        vertical-align: middle;\n",
              "    }\n",
              "\n",
              "    .dataframe tbody tr th {\n",
              "        vertical-align: top;\n",
              "    }\n",
              "\n",
              "    .dataframe thead th {\n",
              "        text-align: right;\n",
              "    }\n",
              "</style>\n",
              "<table border=\"1\" class=\"dataframe\">\n",
              "  <thead>\n",
              "    <tr style=\"text-align: right;\">\n",
              "      <th>3</th>\n",
              "      <th>State</th>\n",
              "      <th>State Abbreviations</th>\n",
              "      <th>County</th>\n",
              "      <th>Violent crime</th>\n",
              "      <th>Murder and nonnegligent manslaughter</th>\n",
              "      <th>Rape1</th>\n",
              "      <th>Robbery</th>\n",
              "      <th>Aggravated assault</th>\n",
              "      <th>Property crime</th>\n",
              "      <th>Burglary</th>\n",
              "      <th>Larceny- theft</th>\n",
              "      <th>Motor vehicle theft</th>\n",
              "      <th>Arson</th>\n",
              "    </tr>\n",
              "  </thead>\n",
              "  <tbody>\n",
              "    <tr>\n",
              "      <th>0</th>\n",
              "      <td>ALABAMA</td>\n",
              "      <td>AL</td>\n",
              "      <td>Autauga</td>\n",
              "      <td>51</td>\n",
              "      <td>0</td>\n",
              "      <td>6</td>\n",
              "      <td>5</td>\n",
              "      <td>40</td>\n",
              "      <td>372</td>\n",
              "      <td>92</td>\n",
              "      <td>240</td>\n",
              "      <td>40</td>\n",
              "      <td>0</td>\n",
              "    </tr>\n",
              "    <tr>\n",
              "      <th>1</th>\n",
              "      <td>ALABAMA</td>\n",
              "      <td>AL</td>\n",
              "      <td>Baldwin</td>\n",
              "      <td>223</td>\n",
              "      <td>0</td>\n",
              "      <td>9</td>\n",
              "      <td>37</td>\n",
              "      <td>177</td>\n",
              "      <td>615</td>\n",
              "      <td>173</td>\n",
              "      <td>397</td>\n",
              "      <td>45</td>\n",
              "      <td>0</td>\n",
              "    </tr>\n",
              "    <tr>\n",
              "      <th>2</th>\n",
              "      <td>ALABAMA</td>\n",
              "      <td>AL</td>\n",
              "      <td>Blount</td>\n",
              "      <td>375</td>\n",
              "      <td>1</td>\n",
              "      <td>19</td>\n",
              "      <td>5</td>\n",
              "      <td>350</td>\n",
              "      <td>796</td>\n",
              "      <td>191</td>\n",
              "      <td>492</td>\n",
              "      <td>113</td>\n",
              "      <td>0</td>\n",
              "    </tr>\n",
              "    <tr>\n",
              "      <th>3</th>\n",
              "      <td>ALABAMA</td>\n",
              "      <td>AL</td>\n",
              "      <td>Bullock</td>\n",
              "      <td>7</td>\n",
              "      <td>0</td>\n",
              "      <td>0</td>\n",
              "      <td>3</td>\n",
              "      <td>4</td>\n",
              "      <td>42</td>\n",
              "      <td>23</td>\n",
              "      <td>17</td>\n",
              "      <td>2</td>\n",
              "      <td>0</td>\n",
              "    </tr>\n",
              "    <tr>\n",
              "      <th>4</th>\n",
              "      <td>ALABAMA</td>\n",
              "      <td>AL</td>\n",
              "      <td>Calhoun</td>\n",
              "      <td>14</td>\n",
              "      <td>0</td>\n",
              "      <td>5</td>\n",
              "      <td>7</td>\n",
              "      <td>2</td>\n",
              "      <td>144</td>\n",
              "      <td>49</td>\n",
              "      <td>95</td>\n",
              "      <td>0</td>\n",
              "      <td>0</td>\n",
              "    </tr>\n",
              "  </tbody>\n",
              "</table>\n",
              "</div>"
            ],
            "text/plain": [
              "3    State State Abbreviations  ... Motor vehicle theft  Arson\n",
              "0  ALABAMA                  AL  ...                  40      0\n",
              "1  ALABAMA                  AL  ...                  45      0\n",
              "2  ALABAMA                  AL  ...                 113      0\n",
              "3  ALABAMA                  AL  ...                   2      0\n",
              "4  ALABAMA                  AL  ...                   0      0\n",
              "\n",
              "[5 rows x 13 columns]"
            ]
          },
          "metadata": {
            "tags": []
          },
          "execution_count": 26
        }
      ]
    },
    {
      "cell_type": "code",
      "metadata": {
        "colab": {
          "base_uri": "https://localhost:8080/",
          "height": 241
        },
        "id": "7C1xV7bTmSFr",
        "outputId": "1c69a56c-860c-4b4a-b202-026a5b027520"
      },
      "source": [
        "us_crime_data.tail()"
      ],
      "execution_count": 27,
      "outputs": [
        {
          "output_type": "execute_result",
          "data": {
            "text/html": [
              "<div>\n",
              "<style scoped>\n",
              "    .dataframe tbody tr th:only-of-type {\n",
              "        vertical-align: middle;\n",
              "    }\n",
              "\n",
              "    .dataframe tbody tr th {\n",
              "        vertical-align: top;\n",
              "    }\n",
              "\n",
              "    .dataframe thead th {\n",
              "        text-align: right;\n",
              "    }\n",
              "</style>\n",
              "<table border=\"1\" class=\"dataframe\">\n",
              "  <thead>\n",
              "    <tr style=\"text-align: right;\">\n",
              "      <th>3</th>\n",
              "      <th>State</th>\n",
              "      <th>State Abbreviations</th>\n",
              "      <th>County</th>\n",
              "      <th>Violent crime</th>\n",
              "      <th>Murder and nonnegligent manslaughter</th>\n",
              "      <th>Rape1</th>\n",
              "      <th>Robbery</th>\n",
              "      <th>Aggravated assault</th>\n",
              "      <th>Property crime</th>\n",
              "      <th>Burglary</th>\n",
              "      <th>Larceny- theft</th>\n",
              "      <th>Motor vehicle theft</th>\n",
              "      <th>Arson</th>\n",
              "    </tr>\n",
              "  </thead>\n",
              "  <tbody>\n",
              "    <tr>\n",
              "      <th>2333</th>\n",
              "      <td>WYOMING</td>\n",
              "      <td>WY</td>\n",
              "      <td>Sublette</td>\n",
              "      <td>4</td>\n",
              "      <td>0</td>\n",
              "      <td>0</td>\n",
              "      <td>0</td>\n",
              "      <td>4</td>\n",
              "      <td>49</td>\n",
              "      <td>11</td>\n",
              "      <td>35</td>\n",
              "      <td>3</td>\n",
              "      <td>0</td>\n",
              "    </tr>\n",
              "    <tr>\n",
              "      <th>2334</th>\n",
              "      <td>WYOMING</td>\n",
              "      <td>WY</td>\n",
              "      <td>Sweetwater</td>\n",
              "      <td>22</td>\n",
              "      <td>0</td>\n",
              "      <td>8</td>\n",
              "      <td>0</td>\n",
              "      <td>14</td>\n",
              "      <td>77</td>\n",
              "      <td>17</td>\n",
              "      <td>52</td>\n",
              "      <td>8</td>\n",
              "      <td>0</td>\n",
              "    </tr>\n",
              "    <tr>\n",
              "      <th>2335</th>\n",
              "      <td>WYOMING</td>\n",
              "      <td>WY</td>\n",
              "      <td>Uinta</td>\n",
              "      <td>7</td>\n",
              "      <td>1</td>\n",
              "      <td>1</td>\n",
              "      <td>1</td>\n",
              "      <td>4</td>\n",
              "      <td>53</td>\n",
              "      <td>12</td>\n",
              "      <td>35</td>\n",
              "      <td>6</td>\n",
              "      <td>0</td>\n",
              "    </tr>\n",
              "    <tr>\n",
              "      <th>2336</th>\n",
              "      <td>WYOMING</td>\n",
              "      <td>WY</td>\n",
              "      <td>Washakie</td>\n",
              "      <td>0</td>\n",
              "      <td>0</td>\n",
              "      <td>0</td>\n",
              "      <td>0</td>\n",
              "      <td>0</td>\n",
              "      <td>17</td>\n",
              "      <td>4</td>\n",
              "      <td>13</td>\n",
              "      <td>0</td>\n",
              "      <td>0</td>\n",
              "    </tr>\n",
              "    <tr>\n",
              "      <th>2337</th>\n",
              "      <td>WYOMING</td>\n",
              "      <td>WY</td>\n",
              "      <td>Weston</td>\n",
              "      <td>5</td>\n",
              "      <td>0</td>\n",
              "      <td>1</td>\n",
              "      <td>0</td>\n",
              "      <td>4</td>\n",
              "      <td>0</td>\n",
              "      <td>0</td>\n",
              "      <td>0</td>\n",
              "      <td>0</td>\n",
              "      <td>0</td>\n",
              "    </tr>\n",
              "  </tbody>\n",
              "</table>\n",
              "</div>"
            ],
            "text/plain": [
              "3       State State Abbreviations  ... Motor vehicle theft  Arson\n",
              "2333  WYOMING                  WY  ...                   3      0\n",
              "2334  WYOMING                  WY  ...                   8      0\n",
              "2335  WYOMING                  WY  ...                   6      0\n",
              "2336  WYOMING                  WY  ...                   0      0\n",
              "2337  WYOMING                  WY  ...                   0      0\n",
              "\n",
              "[5 rows x 13 columns]"
            ]
          },
          "metadata": {
            "tags": []
          },
          "execution_count": 27
        }
      ]
    },
    {
      "cell_type": "code",
      "metadata": {
        "id": "0oQ1HVAN-rOm"
      },
      "source": [
        "us_crime_data.to_csv('us_crime_data.csv')"
      ],
      "execution_count": 28,
      "outputs": []
    },
    {
      "cell_type": "code",
      "metadata": {
        "id": "8Qlh8Uwi-MUT"
      },
      "source": [
        "!cp us_crime_data.csv \"drive/My Drive/\""
      ],
      "execution_count": 29,
      "outputs": []
    },
    {
      "cell_type": "markdown",
      "metadata": {
        "id": "FngU2q7gpm5N"
      },
      "source": [
        "## Split Dataset into State CSV's"
      ]
    },
    {
      "cell_type": "code",
      "metadata": {
        "id": "-fD9R16BroY-"
      },
      "source": [
        "import os"
      ],
      "execution_count": 30,
      "outputs": []
    },
    {
      "cell_type": "code",
      "metadata": {
        "id": "csWfRoiCrhNP"
      },
      "source": [
        "for i, x in us_crime_data.groupby('State'):\n",
        "    p = os.path.join(os.getcwd(), \"crime_{}.csv\".format(i.lower()))\n",
        "    x.to_csv(p, index=False)"
      ],
      "execution_count": 31,
      "outputs": []
    }
  ]
}